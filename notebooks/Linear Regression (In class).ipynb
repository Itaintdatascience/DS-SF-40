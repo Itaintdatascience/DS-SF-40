{
 "cells": [
  {
   "cell_type": "markdown",
   "metadata": {},
   "source": [
    "# Linear Regression"
   ]
  },
  {
   "cell_type": "code",
   "execution_count": 3,
   "metadata": {
    "collapsed": true
   },
   "outputs": [],
   "source": [
    "import warnings\n",
    "warnings.filterwarnings(\"ignore\")"
   ]
  },
  {
   "cell_type": "markdown",
   "metadata": {},
   "source": [
    "<b>Goals</b>\n",
    "\n",
    "- Learn ins and outs of linear regression. How it fits data and makes predictions.\n",
    "- Understand key terms\n",
    "- How to interpret, improve and evaluate a linear regression model.\n",
    "- How to use it with sklearn and statsmodels libraries\n",
    "- Cross validation with linear regression\n",
    "- Work together as a class to model the King County housing dataset"
   ]
  },
  {
   "cell_type": "markdown",
   "metadata": {},
   "source": [
    "## Simple linear regression\n",
    "\n",
    "Simple linear regression is an approach for predicting a **continuous response** using a **single feature**. It takes the following form:\n",
    "\n",
    "$y = \\beta_0 + \\beta_1x$\n",
    "\n",
    "- $y$ is the response\n",
    "- $x$ is the feature\n",
    "- $\\beta_0$ is the intercept\n",
    "- $\\beta_1$ is the coefficient for x\n",
    "\n",
    "$\\beta_0$ and $\\beta_1$ are called the **model coefficients**:\n",
    "\n",
    "- We must \"learn\" the values of these coefficients to create our model.\n",
    "- And once we've learned these coefficients, we can use the model to predict the target variable."
   ]
  },
  {
   "cell_type": "markdown",
   "metadata": {},
   "source": [
    "### Estimating (\"learning\") model coefficients\n",
    "\n",
    "- Coefficients are estimated during the model fitting process using the **least squares criterion**.\n",
    "- We are find the line (mathematically) which minimizes the **sum of squared residuals** (or \"sum of squared errors\")."
   ]
  },
  {
   "cell_type": "markdown",
   "metadata": {},
   "source": [
    "![Estimating coefficients](images/estimating_coefficients.png)"
   ]
  },
  {
   "cell_type": "markdown",
   "metadata": {},
   "source": [
    "In this diagram:\n",
    "\n",
    "- The black dots are the **observed values** of x and y.\n",
    "- The blue line is our **least squares line**.\n",
    "- The red lines are the **residuals**, which are the distances between the observed values and the least squares line."
   ]
  },
  {
   "cell_type": "markdown",
   "metadata": {},
   "source": [
    "![Slope-intercept](images/slope_intercept.png)"
   ]
  },
  {
   "cell_type": "markdown",
   "metadata": {},
   "source": [
    "How do the model coefficients relate to the least squares line?\n",
    "\n",
    "- $\\beta_0$ is the **intercept** (the value of $y$ when $x$=0)\n",
    "- $\\beta_1$ is the **slope** (the change in $y$ divided by change in $x$)\n",
    "\n",
    "\n",
    "Linear Regression is highly **parametric**, meaning that is relies heavily ont he underlying shape of the data. If the data fall into a line, then lienar regression will do well. If the data does not fall in line (get it?) linear regression is likely to fail.\n",
    "\n",
    "\n",
    "Let's use linear regression to model advertising data."
   ]
  },
  {
   "cell_type": "code",
   "execution_count": 4,
   "metadata": {},
   "outputs": [
    {
     "name": "stderr",
     "output_type": "stream",
     "text": [
      "/Users/darrenklee/anaconda2/lib/python2.7/site-packages/sklearn/cross_validation.py:41: DeprecationWarning: This module was deprecated in version 0.18 in favor of the model_selection module into which all the refactored classes and functions are moved. Also note that the interface of the new CV iterators are different from that of this module. This module will be removed in 0.20.\n",
      "  \"This module will be removed in 0.20.\", DeprecationWarning)\n"
     ]
    }
   ],
   "source": [
    "#Imports\n",
    "import pandas as pd\n",
    "import numpy as np\n",
    "from sklearn.linear_model import LinearRegression\n",
    "from sklearn.cross_validation import cross_val_score, train_test_split\n",
    "from sklearn import metrics\n",
    "import statsmodels.formula.api as smf\n",
    "\n",
    "# visualization\n",
    "import seaborn as sns\n",
    "import matplotlib.pyplot as plt\n",
    "%matplotlib inline"
   ]
  },
  {
   "cell_type": "code",
   "execution_count": 7,
   "metadata": {},
   "outputs": [
    {
     "data": {
      "text/html": [
       "<div>\n",
       "<style>\n",
       "    .dataframe thead tr:only-child th {\n",
       "        text-align: right;\n",
       "    }\n",
       "\n",
       "    .dataframe thead th {\n",
       "        text-align: left;\n",
       "    }\n",
       "\n",
       "    .dataframe tbody tr th {\n",
       "        vertical-align: top;\n",
       "    }\n",
       "</style>\n",
       "<table border=\"1\" class=\"dataframe\">\n",
       "  <thead>\n",
       "    <tr style=\"text-align: right;\">\n",
       "      <th></th>\n",
       "      <th>TV</th>\n",
       "      <th>radio</th>\n",
       "      <th>newspaper</th>\n",
       "      <th>sales</th>\n",
       "    </tr>\n",
       "  </thead>\n",
       "  <tbody>\n",
       "    <tr>\n",
       "      <th>1</th>\n",
       "      <td>230.1</td>\n",
       "      <td>37.8</td>\n",
       "      <td>69.2</td>\n",
       "      <td>22.1</td>\n",
       "    </tr>\n",
       "    <tr>\n",
       "      <th>2</th>\n",
       "      <td>44.5</td>\n",
       "      <td>39.3</td>\n",
       "      <td>45.1</td>\n",
       "      <td>10.4</td>\n",
       "    </tr>\n",
       "    <tr>\n",
       "      <th>3</th>\n",
       "      <td>17.2</td>\n",
       "      <td>45.9</td>\n",
       "      <td>69.3</td>\n",
       "      <td>9.3</td>\n",
       "    </tr>\n",
       "    <tr>\n",
       "      <th>4</th>\n",
       "      <td>151.5</td>\n",
       "      <td>41.3</td>\n",
       "      <td>58.5</td>\n",
       "      <td>18.5</td>\n",
       "    </tr>\n",
       "    <tr>\n",
       "      <th>5</th>\n",
       "      <td>180.8</td>\n",
       "      <td>10.8</td>\n",
       "      <td>58.4</td>\n",
       "      <td>12.9</td>\n",
       "    </tr>\n",
       "  </tbody>\n",
       "</table>\n",
       "</div>"
      ],
      "text/plain": [
       "      TV  radio  newspaper  sales\n",
       "1  230.1   37.8       69.2   22.1\n",
       "2   44.5   39.3       45.1   10.4\n",
       "3   17.2   45.9       69.3    9.3\n",
       "4  151.5   41.3       58.5   18.5\n",
       "5  180.8   10.8       58.4   12.9"
      ]
     },
     "execution_count": 7,
     "metadata": {},
     "output_type": "execute_result"
    }
   ],
   "source": [
    "data = pd.read_csv('http://www-bcf.usc.edu/~gareth/ISL/Advertising.csv', index_col=0)\n",
    "data.head()"
   ]
  },
  {
   "cell_type": "markdown",
   "metadata": {},
   "source": [
    "What are the observations?\n",
    "\n",
    "- Each observation represents **one market** (200 markets in the dataset)\n",
    "\n",
    "What are the features?\n",
    "\n",
    "- **TV:** advertising dollars spent on TV for a single product (in thousands of dollars)\n",
    "- **Radio:** advertising dollars spent on Radio\n",
    "- **Newspaper:** advertising dollars spent on Newspaper\n",
    "\n",
    "What is the response?\n",
    "\n",
    "- **Sales:** sales of a single product in a given market (in thousands of widgets)\n",
    "\n",
    "Questions:\n",
    "\n",
    "\n",
    "1. Is there a relationship between ads and sales?\n",
    "2. How strong is that relationship?\n",
    "3. Which ad types contribute to sales?\n",
    "4. What is the effect of each ad type of sales?\n",
    "5. Given ad spending in a particular market, can sales be predicted?"
   ]
  },
  {
   "cell_type": "code",
   "execution_count": 6,
   "metadata": {},
   "outputs": [
    {
     "data": {
      "image/png": "[encoded data removed]",
      "text/plain": [
       "<matplotlib.figure.Figure at 0x1a12add910>"
      ]
     },
     "metadata": {},
     "output_type": "display_data"
    }
   ],
   "source": [
    "# scatter plot in Seaborn\n",
    "sns.pairplot(data, x_vars=['TV','radio','newspaper'], y_vars='sales', size=6, aspect=0.7);"
   ]
  },
  {
   "cell_type": "code",
   "execution_count": null,
   "metadata": {
    "collapsed": true
   },
   "outputs": [],
   "source": []
  },
  {
   "cell_type": "code",
   "execution_count": null,
   "metadata": {
    "collapsed": true
   },
   "outputs": [],
   "source": []
  },
  {
   "cell_type": "code",
   "execution_count": 7,
   "metadata": {},
   "outputs": [
    {
     "data": {
      "image/png": "[encoded data removed]",
      "text/plain": [
       "<matplotlib.figure.Figure at 0x1a1bba00d0>"
      ]
     },
     "metadata": {},
     "output_type": "display_data"
    }
   ],
   "source": [
    "# include a \"regression line\"\n",
    "sns.pairplot(data, x_vars=['TV','radio','newspaper'], y_vars='sales', size=6, aspect=0.7, kind='reg');"
   ]
  },
  {
   "cell_type": "markdown",
   "metadata": {},
   "source": [
    "Whats the best model"
   ]
  },
  {
   "cell_type": "code",
   "execution_count": 8,
   "metadata": {
    "collapsed": true
   },
   "outputs": [],
   "source": [
    "#Radio is the best because you'll get 15 Sales at $30, and $150 to get the same amount of sales for TV. "
   ]
  },
  {
   "cell_type": "code",
   "execution_count": 9,
   "metadata": {},
   "outputs": [
    {
     "data": {
      "image/png": "[encoded data removed]",
      "text/plain": [
       "<matplotlib.figure.Figure at 0x1a1bb95f90>"
      ]
     },
     "metadata": {},
     "output_type": "display_data"
    }
   ],
   "source": [
    "#Visualize relationships between variables with pairplot\n",
    "\n",
    "sns.pairplot(data);"
   ]
  },
  {
   "cell_type": "code",
   "execution_count": 10,
   "metadata": {},
   "outputs": [
    {
     "data": {
      "text/plain": [
       "TV           0.782224\n",
       "radio        0.576223\n",
       "newspaper    0.228299\n",
       "sales        1.000000\n",
       "Name: sales, dtype: float64"
      ]
     },
     "execution_count": 10,
     "metadata": {},
     "output_type": "execute_result"
    }
   ],
   "source": [
    "# compute correlation matrix\n",
    "data.corr()[\"sales\"]"
   ]
  },
  {
   "cell_type": "code",
   "execution_count": null,
   "metadata": {
    "collapsed": true
   },
   "outputs": [],
   "source": []
  },
  {
   "cell_type": "markdown",
   "metadata": {},
   "source": [
    "Modeling time"
   ]
  },
  {
   "cell_type": "code",
   "execution_count": 11,
   "metadata": {},
   "outputs": [
    {
     "data": {
      "text/plain": [
       "Intercept    7.032594\n",
       "TV           0.047537\n",
       "dtype: float64"
      ]
     },
     "execution_count": 11,
     "metadata": {},
     "output_type": "execute_result"
    }
   ],
   "source": [
    "### STATSMODELS ###\n",
    "\n",
    "# create a fitted model\n",
    "lm = smf.ols(formula= \"sales ~ TV\", data = data).fit()\n",
    "\n",
    "# print the coefficients\n",
    "lm.params"
   ]
  },
  {
   "cell_type": "code",
   "execution_count": 9,
   "metadata": {},
   "outputs": [
    {
     "name": "stdout",
     "output_type": "stream",
     "text": [
      "7.032593549127693\n",
      "[0.04753664]\n"
     ]
    }
   ],
   "source": [
    "### SCIKIT-LEARN ###\n",
    "\n",
    "# create X and y\n",
    "feature_cols = [\"TV\"]\n",
    "X = data[feature_cols]\n",
    "y = data.sales\n",
    "\n",
    "# instantiate and fit\n",
    "linreg = LinearRegression()\n",
    "linreg.fit(X, y)\n",
    "\n",
    "# print the coefficients\n",
    "print linreg.intercept_\n",
    "print linreg.coef_"
   ]
  },
  {
   "cell_type": "markdown",
   "metadata": {},
   "source": [
    "### Interpreting model coefficients\n",
    "\n",
    "How do we interpret the TV coefficient ($\\beta_1$)?\n",
    "\n",
    "- A \"unit\" increase in TV ad spending is **associated with** a 0.0475 \"unit\" increase in Sales.\n",
    "- Meaning: An additional $1,000 spent on TV ads is **associated with** an increase in sales of 47.5 widgets.\n",
    "- This is not a statement of **causation**.\n",
    "\n",
    "If an increase in TV ad spending was associated with a **decrease** in sales, $\\beta_1$ would be **negative**."
   ]
  },
  {
   "cell_type": "markdown",
   "metadata": {},
   "source": [
    "### Using the model for prediction\n",
    "\n",
    "Let's say that there was a new market where the TV advertising spend was **$50,000**. What would we predict for the Sales in that market?\n",
    "\n",
    "$$y = \\beta_0 + \\beta_1x$$\n",
    "$$y = 7.0326 + 0.0475 \\times 50$$"
   ]
  },
  {
   "cell_type": "code",
   "execution_count": 13,
   "metadata": {},
   "outputs": [
    {
     "data": {
      "text/plain": [
       "9.4076"
      ]
     },
     "execution_count": 13,
     "metadata": {},
     "output_type": "execute_result"
    }
   ],
   "source": [
    "# manually calculate the prediction\n",
    "7.0326 + (0.0475 * 50)"
   ]
  },
  {
   "cell_type": "code",
   "execution_count": 14,
   "metadata": {},
   "outputs": [
    {
     "data": {
      "text/plain": [
       "0    9.409426\n",
       "dtype: float64"
      ]
     },
     "execution_count": 14,
     "metadata": {},
     "output_type": "execute_result"
    }
   ],
   "source": [
    "### STATSMODELS ###\n",
    "\n",
    "# you have to create a DataFrame since the Statsmodels formula interface expects it\n",
    "X_new = pd.DataFrame({'TV': [50]})\n",
    "\n",
    "# predict for a new observation\n",
    "lm.predict(X_new)"
   ]
  },
  {
   "cell_type": "code",
   "execution_count": 15,
   "metadata": {},
   "outputs": [
    {
     "data": {
      "text/plain": [
       "array([ 9.40942557])"
      ]
     },
     "execution_count": 15,
     "metadata": {},
     "output_type": "execute_result"
    }
   ],
   "source": [
    "### SCIKIT-LEARN ###\n",
    "\n",
    "# predict for a new observation\n",
    "linreg.predict(X_new)"
   ]
  },
  {
   "cell_type": "code",
   "execution_count": null,
   "metadata": {
    "collapsed": true
   },
   "outputs": [],
   "source": []
  },
  {
   "cell_type": "code",
   "execution_count": null,
   "metadata": {
    "collapsed": true
   },
   "outputs": [],
   "source": []
  },
  {
   "cell_type": "markdown",
   "metadata": {},
   "source": [
    "Thus, we would predict Sales of **9,409 widgets** in that market."
   ]
  },
  {
   "cell_type": "code",
   "execution_count": null,
   "metadata": {
    "collapsed": true
   },
   "outputs": [],
   "source": []
  },
  {
   "cell_type": "code",
   "execution_count": null,
   "metadata": {
    "collapsed": true
   },
   "outputs": [],
   "source": []
  },
  {
   "cell_type": "code",
   "execution_count": null,
   "metadata": {
    "collapsed": true
   },
   "outputs": [],
   "source": []
  },
  {
   "cell_type": "markdown",
   "metadata": {},
   "source": [
    "## Does the scale of the features matter?\n",
    "\n",
    "Let's say that TV was measured in dollars, rather than thousands of dollars. How would that affect the model?"
   ]
  },
  {
   "cell_type": "code",
   "execution_count": 16,
   "metadata": {},
   "outputs": [
    {
     "data": {
      "text/html": [
       "<div>\n",
       "<style>\n",
       "    .dataframe thead tr:only-child th {\n",
       "        text-align: right;\n",
       "    }\n",
       "\n",
       "    .dataframe thead th {\n",
       "        text-align: left;\n",
       "    }\n",
       "\n",
       "    .dataframe tbody tr th {\n",
       "        vertical-align: top;\n",
       "    }\n",
       "</style>\n",
       "<table border=\"1\" class=\"dataframe\">\n",
       "  <thead>\n",
       "    <tr style=\"text-align: right;\">\n",
       "      <th></th>\n",
       "      <th>TV</th>\n",
       "      <th>radio</th>\n",
       "      <th>newspaper</th>\n",
       "      <th>sales</th>\n",
       "      <th>TV_dollars</th>\n",
       "    </tr>\n",
       "  </thead>\n",
       "  <tbody>\n",
       "    <tr>\n",
       "      <th>1</th>\n",
       "      <td>230.1</td>\n",
       "      <td>37.8</td>\n",
       "      <td>69.2</td>\n",
       "      <td>22.1</td>\n",
       "      <td>230100.0</td>\n",
       "    </tr>\n",
       "    <tr>\n",
       "      <th>2</th>\n",
       "      <td>44.5</td>\n",
       "      <td>39.3</td>\n",
       "      <td>45.1</td>\n",
       "      <td>10.4</td>\n",
       "      <td>44500.0</td>\n",
       "    </tr>\n",
       "    <tr>\n",
       "      <th>3</th>\n",
       "      <td>17.2</td>\n",
       "      <td>45.9</td>\n",
       "      <td>69.3</td>\n",
       "      <td>9.3</td>\n",
       "      <td>17200.0</td>\n",
       "    </tr>\n",
       "    <tr>\n",
       "      <th>4</th>\n",
       "      <td>151.5</td>\n",
       "      <td>41.3</td>\n",
       "      <td>58.5</td>\n",
       "      <td>18.5</td>\n",
       "      <td>151500.0</td>\n",
       "    </tr>\n",
       "    <tr>\n",
       "      <th>5</th>\n",
       "      <td>180.8</td>\n",
       "      <td>10.8</td>\n",
       "      <td>58.4</td>\n",
       "      <td>12.9</td>\n",
       "      <td>180800.0</td>\n",
       "    </tr>\n",
       "  </tbody>\n",
       "</table>\n",
       "</div>"
      ],
      "text/plain": [
       "      TV  radio  newspaper  sales  TV_dollars\n",
       "1  230.1   37.8       69.2   22.1    230100.0\n",
       "2   44.5   39.3       45.1   10.4     44500.0\n",
       "3   17.2   45.9       69.3    9.3     17200.0\n",
       "4  151.5   41.3       58.5   18.5    151500.0\n",
       "5  180.8   10.8       58.4   12.9    180800.0"
      ]
     },
     "execution_count": 16,
     "metadata": {},
     "output_type": "execute_result"
    }
   ],
   "source": [
    "data['TV_dollars'] = data.TV * 1000\n",
    "data.head()"
   ]
  },
  {
   "cell_type": "code",
   "execution_count": 17,
   "metadata": {},
   "outputs": [
    {
     "name": "stdout",
     "output_type": "stream",
     "text": [
      "7.03259354913\n",
      "[  4.75366404e-05]\n"
     ]
    }
   ],
   "source": [
    "#Use sklearn to model data TV_dollars vs sales\n",
    "\n",
    "# create X and y\n",
    "feature_cols = [\"TV_dollars\"]\n",
    "X = data[feature_cols]\n",
    "y = data.sales\n",
    "\n",
    "# instantiate and fit\n",
    "linreg = LinearRegression()\n",
    "linreg.fit(X, y)\n",
    "\n",
    "# print the coefficients\n",
    "print linreg.intercept_\n",
    "print linreg.coef_"
   ]
  },
  {
   "cell_type": "code",
   "execution_count": 18,
   "metadata": {},
   "outputs": [
    {
     "data": {
      "text/plain": [
       "array([ 9.40942557])"
      ]
     },
     "execution_count": 18,
     "metadata": {},
     "output_type": "execute_result"
    }
   ],
   "source": [
    "# predict for a new observation\n",
    "linreg.predict([[50000]])"
   ]
  },
  {
   "cell_type": "markdown",
   "metadata": {},
   "source": [
    "The scale of the features is **irrelevant** for linear regression models, since it will only affect the scale of the coefficients, and we simply change our interpretation of the coefficients."
   ]
  },
  {
   "cell_type": "code",
   "execution_count": null,
   "metadata": {
    "collapsed": true
   },
   "outputs": [],
   "source": []
  },
  {
   "cell_type": "code",
   "execution_count": null,
   "metadata": {
    "collapsed": true
   },
   "outputs": [],
   "source": []
  },
  {
   "cell_type": "markdown",
   "metadata": {},
   "source": [
    "Let's use the sklearn model to graph TV versus sales and the predicted TV values vs sales"
   ]
  },
  {
   "cell_type": "code",
   "execution_count": 19,
   "metadata": {},
   "outputs": [
    {
     "data": {
      "image/png": "[encoded data removed]",
      "text/plain": [
       "<matplotlib.figure.Figure at 0x1a1cbc3ad0>"
      ]
     },
     "metadata": {},
     "output_type": "display_data"
    }
   ],
   "source": [
    "#Make predictions by passing X into model\n",
    "preds = linreg.predict(X)\n",
    "\n",
    "#Set plot size to (12,8)\n",
    "plt.figure(figsize=(12, 8))\n",
    "#Make scatter of X and y\n",
    "plt.scatter(X,y, s = 50)\n",
    "#Make line plot of X and preds\n",
    "plt.plot(X, preds, \"r\", linewidth= 7, alpha = .6)\n",
    "plt.xlabel(\"TV ad dollars\")\n",
    "plt.ylabel(\"Sales\");\n"
   ]
  },
  {
   "cell_type": "code",
   "execution_count": null,
   "metadata": {
    "collapsed": true
   },
   "outputs": [],
   "source": []
  },
  {
   "cell_type": "markdown",
   "metadata": {},
   "source": [
    "Plotting the residuals"
   ]
  },
  {
   "cell_type": "code",
   "execution_count": 20,
   "metadata": {},
   "outputs": [
    {
     "data": {
      "image/png": "[encoded data removed]",
      "text/plain": [
       "<matplotlib.figure.Figure at 0x1a1cbc3b50>"
      ]
     },
     "metadata": {},
     "output_type": "display_data"
    }
   ],
   "source": [
    "# Plot the residuals after fitting a linear model\n",
    "plt.figure(figsize=(11, 9))\n",
    "sns.residplot(X, y, color=\"g\");"
   ]
  },
  {
   "cell_type": "markdown",
   "metadata": {},
   "source": [
    "## Bias and variance\n",
    "\n",
    "Linear regression is a low variance/high bias model:\n",
    "\n",
    "- **Low variance:** Under repeated sampling from the underlying population, the line will stay roughly in the same place\n",
    "- **High bias:** The line will rarely fit the data well\n",
    "\n",
    "A closely related concept is **confidence intervals**."
   ]
  },
  {
   "cell_type": "markdown",
   "metadata": {},
   "source": [
    "## Confidence intervals\n",
    "\n",
    "Statsmodels calculates 95% confidence intervals for our model coefficients, which are interpreted as follows: If the population from which this sample was drawn was **sampled 100 times**, approximately **95 of those confidence intervals** would contain the \"true\" coefficient."
   ]
  },
  {
   "cell_type": "code",
   "execution_count": 21,
   "metadata": {},
   "outputs": [
    {
     "data": {
      "text/html": [
       "<div>\n",
       "<style>\n",
       "    .dataframe thead tr:only-child th {\n",
       "        text-align: right;\n",
       "    }\n",
       "\n",
       "    .dataframe thead th {\n",
       "        text-align: left;\n",
       "    }\n",
       "\n",
       "    .dataframe tbody tr th {\n",
       "        vertical-align: top;\n",
       "    }\n",
       "</style>\n",
       "<table border=\"1\" class=\"dataframe\">\n",
       "  <thead>\n",
       "    <tr style=\"text-align: right;\">\n",
       "      <th></th>\n",
       "      <th>0</th>\n",
       "      <th>1</th>\n",
       "    </tr>\n",
       "  </thead>\n",
       "  <tbody>\n",
       "    <tr>\n",
       "      <th>Intercept</th>\n",
       "      <td>6.129719</td>\n",
       "      <td>7.935468</td>\n",
       "    </tr>\n",
       "    <tr>\n",
       "      <th>TV</th>\n",
       "      <td>0.042231</td>\n",
       "      <td>0.052843</td>\n",
       "    </tr>\n",
       "  </tbody>\n",
       "</table>\n",
       "</div>"
      ],
      "text/plain": [
       "                  0         1\n",
       "Intercept  6.129719  7.935468\n",
       "TV         0.042231  0.052843"
      ]
     },
     "execution_count": 21,
     "metadata": {},
     "output_type": "execute_result"
    }
   ],
   "source": [
    "### STATSMODELS ###\n",
    "\n",
    "# print the confidence intervals for the model coefficients\n",
    "lm.conf_int()"
   ]
  },
  {
   "cell_type": "code",
   "execution_count": null,
   "metadata": {
    "collapsed": true
   },
   "outputs": [],
   "source": []
  },
  {
   "cell_type": "markdown",
   "metadata": {},
   "source": [
    "- We only have a **single sample of data**, and not the **entire population of data**.\n",
    "- The \"true\" coefficient is either within this interval or it isn't, but there's no way to actually know.\n",
    "- We estimate the coefficient with the data we do have, and we show uncertainty about that estimate by giving a range that the coefficient is **probably** within.\n",
    "- From Quora: [What is a confidence interval in layman's terms?](http://www.quora.com/What-is-a-confidence-interval-in-laymans-terms/answer/Michael-Hochster)\n",
    "\n",
    "Note: 95% confidence intervals are just a convention. You can create 90% confidence intervals (which will be more narrow), 99% confidence intervals (which will be wider), or whatever intervals you like.\n",
    "\n",
    "A closely related concept is **hypothesis testing**."
   ]
  },
  {
   "cell_type": "markdown",
   "metadata": {},
   "source": [
    "For model coefficients, here is the conventional hypothesis test:\n",
    "\n",
    "- **null hypothesis:** There is no relationship between TV ads and Sales (and thus $\\beta_1$ equals zero)\n",
    "- **alternative hypothesis:** There is a relationship between TV ads and Sales (and thus $\\beta_1$ is not equal to zero)\n",
    "\n",
    "How do we test this hypothesis?\n",
    "\n",
    "- The **p-value** is the probability that the relationship we are observing is occurring purely by chance.\n",
    "- If the 95% confidence interval for a coefficient **does not include zero**, the p-value will be **less than 0.05**, and we will reject the null (and thus believe the alternative).\n",
    "- If the 95% confidence interval **includes zero**, the p-value will be **greater than 0.05**, and we will fail to reject the null."
   ]
  },
  {
   "cell_type": "code",
   "execution_count": 22,
   "metadata": {},
   "outputs": [
    {
     "data": {
      "text/html": [
       "<table class=\"simpletable\">\n",
       "<caption>OLS Regression Results</caption>\n",
       "<tr>\n",
       "  <th>Dep. Variable:</th>          <td>sales</td>      <th>  R-squared:         </th> <td>   0.612</td>\n",
       "</tr>\n",
       "<tr>\n",
       "  <th>Model:</th>                   <td>OLS</td>       <th>  Adj. R-squared:    </th> <td>   0.610</td>\n",
       "</tr>\n",
       "<tr>\n",
       "  <th>Method:</th>             <td>Least Squares</td>  <th>  F-statistic:       </th> <td>   312.1</td>\n",
       "</tr>\n",
       "<tr>\n",
       "  <th>Date:</th>             <td>Tue, 05 Dec 2017</td> <th>  Prob (F-statistic):</th> <td>1.47e-42</td>\n",
       "</tr>\n",
       "<tr>\n",
       "  <th>Time:</th>                 <td>18:18:18</td>     <th>  Log-Likelihood:    </th> <td> -519.05</td>\n",
       "</tr>\n",
       "<tr>\n",
       "  <th>No. Observations:</th>      <td>   200</td>      <th>  AIC:               </th> <td>   1042.</td>\n",
       "</tr>\n",
       "<tr>\n",
       "  <th>Df Residuals:</th>          <td>   198</td>      <th>  BIC:               </th> <td>   1049.</td>\n",
       "</tr>\n",
       "<tr>\n",
       "  <th>Df Model:</th>              <td>     1</td>      <th>                     </th>     <td> </td>   \n",
       "</tr>\n",
       "<tr>\n",
       "  <th>Covariance Type:</th>      <td>nonrobust</td>    <th>                     </th>     <td> </td>   \n",
       "</tr>\n",
       "</table>\n",
       "<table class=\"simpletable\">\n",
       "<tr>\n",
       "      <td></td>         <th>coef</th>     <th>std err</th>      <th>t</th>      <th>P>|t|</th>  <th>[0.025</th>    <th>0.975]</th>  \n",
       "</tr>\n",
       "<tr>\n",
       "  <th>Intercept</th> <td>    7.0326</td> <td>    0.458</td> <td>   15.360</td> <td> 0.000</td> <td>    6.130</td> <td>    7.935</td>\n",
       "</tr>\n",
       "<tr>\n",
       "  <th>TV</th>        <td>    0.0475</td> <td>    0.003</td> <td>   17.668</td> <td> 0.000</td> <td>    0.042</td> <td>    0.053</td>\n",
       "</tr>\n",
       "</table>\n",
       "<table class=\"simpletable\">\n",
       "<tr>\n",
       "  <th>Omnibus:</th>       <td> 0.531</td> <th>  Durbin-Watson:     </th> <td>   1.935</td>\n",
       "</tr>\n",
       "<tr>\n",
       "  <th>Prob(Omnibus):</th> <td> 0.767</td> <th>  Jarque-Bera (JB):  </th> <td>   0.669</td>\n",
       "</tr>\n",
       "<tr>\n",
       "  <th>Skew:</th>          <td>-0.089</td> <th>  Prob(JB):          </th> <td>   0.716</td>\n",
       "</tr>\n",
       "<tr>\n",
       "  <th>Kurtosis:</th>      <td> 2.779</td> <th>  Cond. No.          </th> <td>    338.</td>\n",
       "</tr>\n",
       "</table>"
      ],
      "text/plain": [
       "<class 'statsmodels.iolib.summary.Summary'>\n",
       "\"\"\"\n",
       "                            OLS Regression Results                            \n",
       "==============================================================================\n",
       "Dep. Variable:                  sales   R-squared:                       0.612\n",
       "Model:                            OLS   Adj. R-squared:                  0.610\n",
       "Method:                 Least Squares   F-statistic:                     312.1\n",
       "Date:                Tue, 05 Dec 2017   Prob (F-statistic):           1.47e-42\n",
       "Time:                        18:18:18   Log-Likelihood:                -519.05\n",
       "No. Observations:                 200   AIC:                             1042.\n",
       "Df Residuals:                     198   BIC:                             1049.\n",
       "Df Model:                           1                                         \n",
       "Covariance Type:            nonrobust                                         \n",
       "==============================================================================\n",
       "                 coef    std err          t      P>|t|      [0.025      0.975]\n",
       "------------------------------------------------------------------------------\n",
       "Intercept      7.0326      0.458     15.360      0.000       6.130       7.935\n",
       "TV             0.0475      0.003     17.668      0.000       0.042       0.053\n",
       "==============================================================================\n",
       "Omnibus:                        0.531   Durbin-Watson:                   1.935\n",
       "Prob(Omnibus):                  0.767   Jarque-Bera (JB):                0.669\n",
       "Skew:                          -0.089   Prob(JB):                        0.716\n",
       "Kurtosis:                       2.779   Cond. No.                         338.\n",
       "==============================================================================\n",
       "\n",
       "Warnings:\n",
       "[1] Standard Errors assume that the covariance matrix of the errors is correctly specified.\n",
       "\"\"\""
      ]
     },
     "execution_count": 22,
     "metadata": {},
     "output_type": "execute_result"
    }
   ],
   "source": [
    "#Show summary table of stats models\n",
    "lm.summary()"
   ]
  },
  {
   "cell_type": "code",
   "execution_count": 23,
   "metadata": {},
   "outputs": [
    {
     "data": {
      "text/plain": [
       "Intercept    1.406300e-35\n",
       "TV           1.467390e-42\n",
       "dtype: float64"
      ]
     },
     "execution_count": 23,
     "metadata": {},
     "output_type": "execute_result"
    }
   ],
   "source": [
    "# print the p-values for the model coefficients\n",
    "lm.pvalues"
   ]
  },
  {
   "cell_type": "markdown",
   "metadata": {},
   "source": [
    "Thus, a p-value less than 0.05 is one way to decide whether there is **likely** a relationship between the feature and the response. In this case, the p-value for TV is far less than 0.05, and so we **believe** that there is a relationship between TV ads and Sales.\n",
    "\n",
    "Note that we generally ignore the p-value for the intercept."
   ]
  },
  {
   "cell_type": "markdown",
   "metadata": {},
   "source": [
    "## How well does the model fit the data?\n",
    "\n",
    "R-squared:\n",
    "\n",
    "- A common way to evaluate the overall fit of a linear model\n",
    "- Defined as the **proportion of variance explained**, meaning the proportion of variance in the observed data that is explained by the model\n",
    "- Also defined as the reduction in error over the **null model**, which is the model that simply predicts the mean of the observed response\n",
    "- Between 0 and 1, and higher is better\n",
    "\n",
    "![q](https://i.stack.imgur.com/xb1VY.png)\n",
    "\n",
    "![s](https://i.stack.imgur.com/8OMsa.png)\n",
    "\n",
    "R2 basically measures how well a model does versus the mean.\n"
   ]
  },
  {
   "cell_type": "markdown",
   "metadata": {},
   "source": [
    "Here's an example of what R-squared \"looks like\":"
   ]
  },
  {
   "cell_type": "markdown",
   "metadata": {},
   "source": [
    "![R-squared](images/r_squared.png)"
   ]
  },
  {
   "cell_type": "code",
   "execution_count": 24,
   "metadata": {},
   "outputs": [
    {
     "data": {
      "text/plain": [
       "0.61187505085007099"
      ]
     },
     "execution_count": 24,
     "metadata": {},
     "output_type": "execute_result"
    }
   ],
   "source": [
    "#Stats models\n",
    "# print the R-squared value for the model\n",
    "lm.rsquared"
   ]
  },
  {
   "cell_type": "code",
   "execution_count": 25,
   "metadata": {},
   "outputs": [
    {
     "data": {
      "text/plain": [
       "0.61187505085007099"
      ]
     },
     "execution_count": 25,
     "metadata": {},
     "output_type": "execute_result"
    }
   ],
   "source": [
    "#Sklearn\n",
    "#Method number one\n",
    "linreg.score(X, y)"
   ]
  },
  {
   "cell_type": "code",
   "execution_count": 26,
   "metadata": {},
   "outputs": [
    {
     "data": {
      "text/plain": [
       "0.61187505085007099"
      ]
     },
     "execution_count": 26,
     "metadata": {},
     "output_type": "execute_result"
    }
   ],
   "source": [
    "#Method number two\n",
    "y_pred = linreg.predict(X)\n",
    "metrics.r2_score(y, y_pred)"
   ]
  },
  {
   "cell_type": "code",
   "execution_count": null,
   "metadata": {
    "collapsed": true
   },
   "outputs": [],
   "source": []
  },
  {
   "cell_type": "code",
   "execution_count": null,
   "metadata": {
    "collapsed": true
   },
   "outputs": [],
   "source": []
  },
  {
   "cell_type": "markdown",
   "metadata": {},
   "source": [
    "- The threshold for a **\"good\" R-squared value** is highly dependent on the particular domain.\n",
    "- R-squared is more useful as a tool for **comparing models**."
   ]
  },
  {
   "cell_type": "code",
   "execution_count": null,
   "metadata": {
    "collapsed": true
   },
   "outputs": [],
   "source": []
  },
  {
   "cell_type": "code",
   "execution_count": null,
   "metadata": {
    "collapsed": true
   },
   "outputs": [],
   "source": []
  },
  {
   "cell_type": "markdown",
   "metadata": {},
   "source": [
    "## Multiple Linear Regression\n",
    "\n",
    "Simple linear regression can easily be extended to include multiple features, which is called **multiple linear regression**:\n",
    "\n",
    "$y = \\beta_0 + \\beta_1x_1 + ... + \\beta_nx_n$\n",
    "\n",
    "Each $x$ represents a different feature, and each feature has its own coefficient:\n",
    "\n",
    "$y = \\beta_0 + \\beta_1 \\times TV + \\beta_2 \\times Radio + \\beta_3 \\times Newspaper$"
   ]
  },
  {
   "cell_type": "code",
   "execution_count": 27,
   "metadata": {},
   "outputs": [
    {
     "name": "stdout",
     "output_type": "stream",
     "text": [
      "2.93888936946\n",
      "[ 0.04576465  0.18853002 -0.00103749]\n"
     ]
    }
   ],
   "source": [
    "### SCIKIT-LEARN ###\n",
    "\n",
    "# create X and y\n",
    "feature_cols = ['TV', 'radio', 'newspaper']\n",
    "X = data[feature_cols]\n",
    "y = data.sales\n",
    "\n",
    "# instantiate and fit\n",
    "linreg = LinearRegression()\n",
    "linreg.fit(X, y)\n",
    "# print the coefficients\n",
    "print linreg.intercept_\n",
    "print linreg.coef_"
   ]
  },
  {
   "cell_type": "code",
   "execution_count": 28,
   "metadata": {},
   "outputs": [
    {
     "data": {
      "text/plain": [
       "Intercept    2.938889\n",
       "TV           0.045765\n",
       "radio        0.188530\n",
       "newspaper   -0.001037\n",
       "dtype: float64"
      ]
     },
     "execution_count": 28,
     "metadata": {},
     "output_type": "execute_result"
    }
   ],
   "source": [
    "### STATSMODELS ###\n",
    "\n",
    "# create a fitted model with all three features\n",
    "lm = smf.ols(formula=\"sales ~ TV + radio + newspaper\", data = data).fit()\n",
    "lm.params"
   ]
  },
  {
   "cell_type": "markdown",
   "metadata": {},
   "source": [
    "For a given amount of Radio and Newspaper spending, an increase of $1000 in **TV** spending is associated with an **increase in Sales of 45.8 widgets**.\n",
    "\n",
    "For a given amount of TV and Newspaper spending, an increase of $1000 in **Radio** spending is associated with an **increase in Sales of 188.5 widgets**.\n",
    "\n",
    "For a given amount of TV and Radio spending, an increase of $1000 in **Newspaper** spending is associated with an **decrease in Sales of 1.0 widgets**. How could that be?"
   ]
  },
  {
   "cell_type": "code",
   "execution_count": null,
   "metadata": {
    "collapsed": true
   },
   "outputs": [],
   "source": []
  },
  {
   "cell_type": "code",
   "execution_count": null,
   "metadata": {
    "collapsed": true
   },
   "outputs": [],
   "source": []
  },
  {
   "cell_type": "markdown",
   "metadata": {},
   "source": [
    "### Feature selection\n",
    "\n",
    "How do I decide **which features to include** in a linear model?"
   ]
  },
  {
   "cell_type": "markdown",
   "metadata": {},
   "source": [
    "\n",
    "#### Using p-values\n",
    "\n",
    "We could try a model with all features, and only keep features in the model if they have **small p-values**:"
   ]
  },
  {
   "cell_type": "code",
   "execution_count": 29,
   "metadata": {},
   "outputs": [
    {
     "name": "stdout",
     "output_type": "stream",
     "text": [
      "Intercept    1.267295e-17\n",
      "TV           1.509960e-81\n",
      "radio        1.505339e-54\n",
      "newspaper    8.599151e-01\n",
      "dtype: float64\n"
     ]
    }
   ],
   "source": [
    "\n",
    "### STATSMODELS ###\n",
    "\n",
    "# create a fitted model with all three features\n",
    "lm = smf.ols(formula=\"sales ~ TV + radio + newspaper\", data = data).fit()\n",
    "\n",
    "# print the p-values for the model coefficients\n",
    "print lm.pvalues"
   ]
  },
  {
   "cell_type": "code",
   "execution_count": 30,
   "metadata": {},
   "outputs": [
    {
     "name": "stdout",
     "output_type": "stream",
     "text": [
      "Intercept    4.565557e-19\n",
      "TV           5.436980e-82\n",
      "radio        9.776972e-59\n",
      "dtype: float64\n"
     ]
    }
   ],
   "source": [
    "\n",
    "# create a fitted model without feature with worst p value\n",
    "lm = smf.ols(formula=\"sales ~ TV + radio\", data = data).fit()\n",
    "\n",
    "# print the p-values for the model coefficients\n",
    "print lm.pvalues"
   ]
  },
  {
   "cell_type": "code",
   "execution_count": null,
   "metadata": {
    "collapsed": true
   },
   "outputs": [],
   "source": []
  },
  {
   "cell_type": "markdown",
   "metadata": {},
   "source": [
    "This indicates we would reject the null hypothesis for **TV and Radio** (that there is no association between those features and Sales), and fail to reject the null hypothesis for **Newspaper**. Thus, we would keep TV and Radio in the model.\n",
    "\n",
    "However, this approach has **drawbacks**:\n",
    "\n",
    "- Linear models rely upon a lot of **assumptions** (such as the features being independent), and if those assumptions are violated (which they usually are), p-values are less reliable.\n",
    "- Using a p-value cutoff of 0.05 means that if you add 100 features to a model that are **pure noise**, 5 of them (on average) will still be counted as significant."
   ]
  },
  {
   "cell_type": "code",
   "execution_count": 31,
   "metadata": {},
   "outputs": [
    {
     "data": {
      "text/html": [
       "<table class=\"simpletable\">\n",
       "<caption>OLS Regression Results</caption>\n",
       "<tr>\n",
       "  <th>Dep. Variable:</th>          <td>sales</td>      <th>  R-squared:         </th> <td>   0.897</td>\n",
       "</tr>\n",
       "<tr>\n",
       "  <th>Model:</th>                   <td>OLS</td>       <th>  Adj. R-squared:    </th> <td>   0.896</td>\n",
       "</tr>\n",
       "<tr>\n",
       "  <th>Method:</th>             <td>Least Squares</td>  <th>  F-statistic:       </th> <td>   859.6</td>\n",
       "</tr>\n",
       "<tr>\n",
       "  <th>Date:</th>             <td>Tue, 05 Dec 2017</td> <th>  Prob (F-statistic):</th> <td>4.83e-98</td>\n",
       "</tr>\n",
       "<tr>\n",
       "  <th>Time:</th>                 <td>18:18:18</td>     <th>  Log-Likelihood:    </th> <td> -386.20</td>\n",
       "</tr>\n",
       "<tr>\n",
       "  <th>No. Observations:</th>      <td>   200</td>      <th>  AIC:               </th> <td>   778.4</td>\n",
       "</tr>\n",
       "<tr>\n",
       "  <th>Df Residuals:</th>          <td>   197</td>      <th>  BIC:               </th> <td>   788.3</td>\n",
       "</tr>\n",
       "<tr>\n",
       "  <th>Df Model:</th>              <td>     2</td>      <th>                     </th>     <td> </td>   \n",
       "</tr>\n",
       "<tr>\n",
       "  <th>Covariance Type:</th>      <td>nonrobust</td>    <th>                     </th>     <td> </td>   \n",
       "</tr>\n",
       "</table>\n",
       "<table class=\"simpletable\">\n",
       "<tr>\n",
       "      <td></td>         <th>coef</th>     <th>std err</th>      <th>t</th>      <th>P>|t|</th>  <th>[0.025</th>    <th>0.975]</th>  \n",
       "</tr>\n",
       "<tr>\n",
       "  <th>Intercept</th> <td>    2.9211</td> <td>    0.294</td> <td>    9.919</td> <td> 0.000</td> <td>    2.340</td> <td>    3.502</td>\n",
       "</tr>\n",
       "<tr>\n",
       "  <th>TV</th>        <td>    0.0458</td> <td>    0.001</td> <td>   32.909</td> <td> 0.000</td> <td>    0.043</td> <td>    0.048</td>\n",
       "</tr>\n",
       "<tr>\n",
       "  <th>radio</th>     <td>    0.1880</td> <td>    0.008</td> <td>   23.382</td> <td> 0.000</td> <td>    0.172</td> <td>    0.204</td>\n",
       "</tr>\n",
       "</table>\n",
       "<table class=\"simpletable\">\n",
       "<tr>\n",
       "  <th>Omnibus:</th>       <td>60.022</td> <th>  Durbin-Watson:     </th> <td>   2.081</td>\n",
       "</tr>\n",
       "<tr>\n",
       "  <th>Prob(Omnibus):</th> <td> 0.000</td> <th>  Jarque-Bera (JB):  </th> <td> 148.679</td>\n",
       "</tr>\n",
       "<tr>\n",
       "  <th>Skew:</th>          <td>-1.323</td> <th>  Prob(JB):          </th> <td>5.19e-33</td>\n",
       "</tr>\n",
       "<tr>\n",
       "  <th>Kurtosis:</th>      <td> 6.292</td> <th>  Cond. No.          </th> <td>    425.</td>\n",
       "</tr>\n",
       "</table>"
      ],
      "text/plain": [
       "<class 'statsmodels.iolib.summary.Summary'>\n",
       "\"\"\"\n",
       "                            OLS Regression Results                            \n",
       "==============================================================================\n",
       "Dep. Variable:                  sales   R-squared:                       0.897\n",
       "Model:                            OLS   Adj. R-squared:                  0.896\n",
       "Method:                 Least Squares   F-statistic:                     859.6\n",
       "Date:                Tue, 05 Dec 2017   Prob (F-statistic):           4.83e-98\n",
       "Time:                        18:18:18   Log-Likelihood:                -386.20\n",
       "No. Observations:                 200   AIC:                             778.4\n",
       "Df Residuals:                     197   BIC:                             788.3\n",
       "Df Model:                           2                                         \n",
       "Covariance Type:            nonrobust                                         \n",
       "==============================================================================\n",
       "                 coef    std err          t      P>|t|      [0.025      0.975]\n",
       "------------------------------------------------------------------------------\n",
       "Intercept      2.9211      0.294      9.919      0.000       2.340       3.502\n",
       "TV             0.0458      0.001     32.909      0.000       0.043       0.048\n",
       "radio          0.1880      0.008     23.382      0.000       0.172       0.204\n",
       "==============================================================================\n",
       "Omnibus:                       60.022   Durbin-Watson:                   2.081\n",
       "Prob(Omnibus):                  0.000   Jarque-Bera (JB):              148.679\n",
       "Skew:                          -1.323   Prob(JB):                     5.19e-33\n",
       "Kurtosis:                       6.292   Cond. No.                         425.\n",
       "==============================================================================\n",
       "\n",
       "Warnings:\n",
       "[1] Standard Errors assume that the covariance matrix of the errors is correctly specified.\n",
       "\"\"\""
      ]
     },
     "execution_count": 31,
     "metadata": {},
     "output_type": "execute_result"
    }
   ],
   "source": [
    "lm.summary()"
   ]
  },
  {
   "cell_type": "code",
   "execution_count": null,
   "metadata": {
    "collapsed": true
   },
   "outputs": [],
   "source": []
  },
  {
   "cell_type": "markdown",
   "metadata": {},
   "source": [
    "### Using R-squared\n",
    "\n",
    "We could try models with different sets of features, and **compare their R-squared values**:"
   ]
  },
  {
   "cell_type": "code",
   "execution_count": 32,
   "metadata": {},
   "outputs": [
    {
     "data": {
      "text/plain": [
       "0.89719426108289568"
      ]
     },
     "execution_count": 32,
     "metadata": {},
     "output_type": "execute_result"
    }
   ],
   "source": [
    "# R-squared value for the model with two features\n",
    "lm = smf.ols(formula= \"sales ~ TV + radio\", data = data).fit()\n",
    "lm.rsquared"
   ]
  },
  {
   "cell_type": "code",
   "execution_count": 33,
   "metadata": {},
   "outputs": [
    {
     "data": {
      "text/plain": [
       "0.89721063817895219"
      ]
     },
     "execution_count": 33,
     "metadata": {},
     "output_type": "execute_result"
    }
   ],
   "source": [
    "# R-squared value for the model with three features\n",
    "lm = lm = smf.ols(formula= \"sales ~ TV + radio + newspaper\", data = data).fit()\n",
    "lm.rsquared"
   ]
  },
  {
   "cell_type": "markdown",
   "metadata": {},
   "source": [
    "This would seem to indicate that the best model includes **all three features**. Is that right?\n",
    "\n",
    "- R-squared will always increase as you add more features to the model, even if they are **unrelated** to the response.\n",
    "- As such, using R-squared as a model evaluation metric can lead to **overfitting**.\n",
    "- **Adjusted R-squared** is an alternative that penalizes model complexity (to control for overfitting), but it generally [under-penalizes complexity](http://scott.fortmann-roe.com/docs/MeasuringError.html).\n",
    "\n",
    "As well, R-squared depends on the same assumptions as p-values, and it's less reliable if those assumptions are violated."
   ]
  },
  {
   "cell_type": "code",
   "execution_count": null,
   "metadata": {
    "collapsed": true
   },
   "outputs": [],
   "source": []
  },
  {
   "cell_type": "code",
   "execution_count": null,
   "metadata": {
    "collapsed": true
   },
   "outputs": [],
   "source": []
  },
  {
   "cell_type": "markdown",
   "metadata": {},
   "source": [
    "## Train-test split, cross validation, and evaluation metrics\n",
    "\n",
    "A better approach to feature selection!\n",
    "\n",
    "- They attempt to directly estimate how well your model will **generalize** to out-of-sample data.\n",
    "- They rely on **fewer assumptions** that linear regression.\n",
    "- They can easily be applied to **any model**, not just linear models."
   ]
  },
  {
   "cell_type": "markdown",
   "metadata": {},
   "source": [
    "### Evaluation metrics for regression problems\n",
    "\n",
    "Evaluation metrics for classification problems, such as **accuracy**, are not useful for regression problems. We need evaluation metrics designed for comparing **continuous values**.\n",
    "\n",
    "Let's create some example numeric predictions, and calculate three common evaluation metrics for regression problems:"
   ]
  },
  {
   "cell_type": "code",
   "execution_count": 2,
   "metadata": {
    "collapsed": true
   },
   "outputs": [],
   "source": [
    "# define true and predicted response values\n",
    "y_true = [100, 50, 30, 20]\n",
    "y_pred = [90, 50, 50, 30]"
   ]
  },
  {
   "cell_type": "markdown",
   "metadata": {},
   "source": [
    "**Mean Absolute Error** (MAE) is the mean of the absolute value of the errors:\n",
    "\n",
    "$$\\frac 1n\\sum_{i=1}^n|y_i-\\hat{y}_i|$$"
   ]
  },
  {
   "cell_type": "code",
   "execution_count": 35,
   "metadata": {},
   "outputs": [
    {
     "data": {
      "text/plain": [
       "10.0"
      ]
     },
     "execution_count": 35,
     "metadata": {},
     "output_type": "execute_result"
    }
   ],
   "source": [
    "#Calculate MAE using sklearn\n",
    "metrics.mean_absolute_error(y_true, y_pred)\n"
   ]
  },
  {
   "cell_type": "markdown",
   "metadata": {},
   "source": [
    "**Mean Squared Error** (MSE) is the mean of the squared errors:\n",
    "\n",
    "$$\\frac 1n\\sum_{i=1}^n(y_i-\\hat{y}_i)^2$$"
   ]
  },
  {
   "cell_type": "code",
   "execution_count": 36,
   "metadata": {},
   "outputs": [
    {
     "data": {
      "text/plain": [
       "150.0"
      ]
     },
     "execution_count": 36,
     "metadata": {},
     "output_type": "execute_result"
    }
   ],
   "source": [
    "#Calculate MSE using sklearn\n",
    "metrics.mean_squared_error(y_true, y_pred)"
   ]
  },
  {
   "cell_type": "markdown",
   "metadata": {},
   "source": [
    "**Root Mean Squared Error** (RMSE) is the square root of the mean of the squared errors:\n",
    "\n",
    "$$\\sqrt{\\frac 1n\\sum_{i=1}^n(y_i-\\hat{y}_i)^2}$$"
   ]
  },
  {
   "cell_type": "code",
   "execution_count": 37,
   "metadata": {},
   "outputs": [
    {
     "data": {
      "text/plain": [
       "12.24744871391589"
      ]
     },
     "execution_count": 37,
     "metadata": {},
     "output_type": "execute_result"
    }
   ],
   "source": [
    "#Calculate RMSE \n",
    "np.sqrt(metrics.mean_squared_error(y_true, y_pred))"
   ]
  },
  {
   "cell_type": "markdown",
   "metadata": {},
   "source": [
    "Comparing these metrics:\n",
    "\n",
    "- **MAE** is the easiest to understand, because it's the average error.\n",
    "- **MSE** is more popular than MAE, because MSE \"punishes\" larger errors, which tends to be useful in the real world.\n",
    "- **RMSE** is even more popular than MSE, because RMSE is interpretable in the \"y\" units.\n",
    "\n",
    "All of these are **loss functions**, because we want to minimize them.\n",
    "\n",
    "It depends on what context the data is presented. Yelp Star ratings vs. Housing prices, will have different interpretation by magnitude.\n",
    "\n",
    "\n",
    "Here's an additional example, to demonstrate how MSE/RMSE punish larger errors:\n",
    "\n",
    "\n"
   ]
  },
  {
   "cell_type": "code",
   "execution_count": 5,
   "metadata": {},
   "outputs": [
    {
     "name": "stdout",
     "output_type": "stream",
     "text": [
      "10.0\n",
      "20.0\n"
     ]
    }
   ],
   "source": [
    "# same true values as above\n",
    "y_true = [100, 50, 30, 20]\n",
    "\n",
    "# new set of predicted values\n",
    "y_pred = [60, 50, 30, 20]\n",
    "\n",
    "# MAE is the same as before\n",
    "print metrics.mean_absolute_error(y_true, y_pred)\n",
    "\n",
    "# RMSE is larger than before\n",
    "print np.sqrt(metrics.mean_squared_error(y_true, y_pred))"
   ]
  },
  {
   "cell_type": "code",
   "execution_count": null,
   "metadata": {
    "collapsed": true
   },
   "outputs": [],
   "source": []
  },
  {
   "cell_type": "code",
   "execution_count": null,
   "metadata": {
    "collapsed": true
   },
   "outputs": [],
   "source": []
  },
  {
   "cell_type": "markdown",
   "metadata": {},
   "source": [
    "### Using train/test split for feature selection\n",
    "\n",
    "Let's use train/test split with RMSE to decide whether Newspaper should be kept in the model:"
   ]
  },
  {
   "cell_type": "code",
   "execution_count": 8,
   "metadata": {},
   "outputs": [
    {
     "ename": "NameError",
     "evalue": "name 'X' is not defined",
     "output_type": "error",
     "traceback": [
      "\u001b[0;31m---------------------------------------------------------------------------\u001b[0m",
      "\u001b[0;31mNameError\u001b[0m                                 Traceback (most recent call last)",
      "\u001b[0;32m<ipython-input-8-72551ae99b4d>\u001b[0m in \u001b[0;36m<module>\u001b[0;34m()\u001b[0m\n\u001b[1;32m      1\u001b[0m \u001b[0;31m#Make train test split\u001b[0m\u001b[0;34m\u001b[0m\u001b[0;34m\u001b[0m\u001b[0m\n\u001b[0;32m----> 2\u001b[0;31m \u001b[0mX_train\u001b[0m\u001b[0;34m,\u001b[0m \u001b[0mX_test\u001b[0m\u001b[0;34m,\u001b[0m \u001b[0my_train\u001b[0m\u001b[0;34m,\u001b[0m \u001b[0my_test\u001b[0m \u001b[0;34m=\u001b[0m \u001b[0mtrain_test_split\u001b[0m\u001b[0;34m(\u001b[0m\u001b[0mX\u001b[0m\u001b[0;34m,\u001b[0m \u001b[0my\u001b[0m\u001b[0;34m,\u001b[0m \u001b[0mtest_size\u001b[0m \u001b[0;34m=\u001b[0m \u001b[0;36m.25\u001b[0m\u001b[0;34m,\u001b[0m \u001b[0mrandom_state\u001b[0m \u001b[0;34m=\u001b[0m \u001b[0;36m5\u001b[0m\u001b[0;34m)\u001b[0m\u001b[0;34m\u001b[0m\u001b[0m\n\u001b[0m",
      "\u001b[0;31mNameError\u001b[0m: name 'X' is not defined"
     ]
    }
   ],
   "source": [
    "#Make train test split\n",
    "X_train, X_test, y_train, y_test = train_test_split(X, y, test_size = .25, random_state = 5)"
   ]
  },
  {
   "cell_type": "code",
   "execution_count": 40,
   "metadata": {},
   "outputs": [
    {
     "name": "stdout",
     "output_type": "stream",
     "text": [
      "Training R2 score is 0.900217287905\n",
      "Testing R2 score is 0.883818141822\n"
     ]
    }
   ],
   "source": [
    "#Fit model on training data and apply it on both training and testing data\n",
    "\n",
    "#Intialize model\n",
    "lr = LinearRegression()\n",
    "lr.fit(X_train, y_train)\n",
    "\n",
    "#Test model on training data\n",
    "train_score = lr.score(X_train, y_train)\n",
    "print (\"Training R2 score is {}\".format(train_score))\n",
    "#Test model on testing data\n",
    "test_score = lr.score(X_test, y_test)\n",
    "print (\"Testing R2 score is {}\".format(test_score))"
   ]
  },
  {
   "cell_type": "code",
   "execution_count": null,
   "metadata": {
    "collapsed": true
   },
   "outputs": [],
   "source": []
  },
  {
   "cell_type": "markdown",
   "metadata": {},
   "source": [
    "What does this tell us? "
   ]
  },
  {
   "cell_type": "code",
   "execution_count": 41,
   "metadata": {
    "collapsed": true
   },
   "outputs": [],
   "source": [
    "# define a function that accepts X and y and computes testing RMSE\n",
    "def cross_val_rmse(X, y):\n",
    "    linreg = LinearRegression()\n",
    "    scores = cross_val_score(linreg, X, y, cv=5, scoring='mean_squared_error')\n",
    "    return np.sqrt(abs(scores)).mean() # return average RMSE"
   ]
  },
  {
   "cell_type": "code",
   "execution_count": 42,
   "metadata": {},
   "outputs": [
    {
     "name": "stderr",
     "output_type": "stream",
     "text": [
      "/Users/darrenklee/anaconda2/lib/python2.7/site-packages/sklearn/metrics/scorer.py:100: DeprecationWarning: Scoring method mean_squared_error was renamed to neg_mean_squared_error in version 0.18 and will be removed in 0.20.\n",
      "  sample_weight=sample_weight)\n",
      "/Users/darrenklee/anaconda2/lib/python2.7/site-packages/sklearn/metrics/scorer.py:100: DeprecationWarning: Scoring method mean_squared_error was renamed to neg_mean_squared_error in version 0.18 and will be removed in 0.20.\n",
      "  sample_weight=sample_weight)\n",
      "/Users/darrenklee/anaconda2/lib/python2.7/site-packages/sklearn/metrics/scorer.py:100: DeprecationWarning: Scoring method mean_squared_error was renamed to neg_mean_squared_error in version 0.18 and will be removed in 0.20.\n",
      "  sample_weight=sample_weight)\n",
      "/Users/darrenklee/anaconda2/lib/python2.7/site-packages/sklearn/metrics/scorer.py:100: DeprecationWarning: Scoring method mean_squared_error was renamed to neg_mean_squared_error in version 0.18 and will be removed in 0.20.\n",
      "  sample_weight=sample_weight)\n",
      "/Users/darrenklee/anaconda2/lib/python2.7/site-packages/sklearn/metrics/scorer.py:100: DeprecationWarning: Scoring method mean_squared_error was renamed to neg_mean_squared_error in version 0.18 and will be removed in 0.20.\n",
      "  sample_weight=sample_weight)\n"
     ]
    },
    {
     "data": {
      "text/plain": [
       "1.7175247278732086"
      ]
     },
     "execution_count": 42,
     "metadata": {},
     "output_type": "execute_result"
    }
   ],
   "source": [
    "# include Newspaper\n",
    "feature_cols = ['TV', 'radio', 'newspaper']\n",
    "X = data[feature_cols]\n",
    "cross_val_rmse(X, y)"
   ]
  },
  {
   "cell_type": "code",
   "execution_count": 43,
   "metadata": {},
   "outputs": [
    {
     "name": "stderr",
     "output_type": "stream",
     "text": [
      "/Users/darrenklee/anaconda2/lib/python2.7/site-packages/sklearn/metrics/scorer.py:100: DeprecationWarning: Scoring method mean_squared_error was renamed to neg_mean_squared_error in version 0.18 and will be removed in 0.20.\n",
      "  sample_weight=sample_weight)\n",
      "/Users/darrenklee/anaconda2/lib/python2.7/site-packages/sklearn/metrics/scorer.py:100: DeprecationWarning: Scoring method mean_squared_error was renamed to neg_mean_squared_error in version 0.18 and will be removed in 0.20.\n",
      "  sample_weight=sample_weight)\n",
      "/Users/darrenklee/anaconda2/lib/python2.7/site-packages/sklearn/metrics/scorer.py:100: DeprecationWarning: Scoring method mean_squared_error was renamed to neg_mean_squared_error in version 0.18 and will be removed in 0.20.\n",
      "  sample_weight=sample_weight)\n",
      "/Users/darrenklee/anaconda2/lib/python2.7/site-packages/sklearn/metrics/scorer.py:100: DeprecationWarning: Scoring method mean_squared_error was renamed to neg_mean_squared_error in version 0.18 and will be removed in 0.20.\n",
      "  sample_weight=sample_weight)\n",
      "/Users/darrenklee/anaconda2/lib/python2.7/site-packages/sklearn/metrics/scorer.py:100: DeprecationWarning: Scoring method mean_squared_error was renamed to neg_mean_squared_error in version 0.18 and will be removed in 0.20.\n",
      "  sample_weight=sample_weight)\n"
     ]
    },
    {
     "data": {
      "text/plain": [
       "1.7026625340333177"
      ]
     },
     "execution_count": 43,
     "metadata": {},
     "output_type": "execute_result"
    }
   ],
   "source": [
    "# exclude Newspaper \n",
    "feature_cols = ['TV', 'radio']\n",
    "X = data[feature_cols]\n",
    "cross_val_rmse(X, y)\n"
   ]
  },
  {
   "cell_type": "code",
   "execution_count": 44,
   "metadata": {},
   "outputs": [
    {
     "name": "stderr",
     "output_type": "stream",
     "text": [
      "/Users/darrenklee/anaconda2/lib/python2.7/site-packages/sklearn/metrics/scorer.py:100: DeprecationWarning: Scoring method mean_squared_error was renamed to neg_mean_squared_error in version 0.18 and will be removed in 0.20.\n",
      "  sample_weight=sample_weight)\n",
      "/Users/darrenklee/anaconda2/lib/python2.7/site-packages/sklearn/metrics/scorer.py:100: DeprecationWarning: Scoring method mean_squared_error was renamed to neg_mean_squared_error in version 0.18 and will be removed in 0.20.\n",
      "  sample_weight=sample_weight)\n",
      "/Users/darrenklee/anaconda2/lib/python2.7/site-packages/sklearn/metrics/scorer.py:100: DeprecationWarning: Scoring method mean_squared_error was renamed to neg_mean_squared_error in version 0.18 and will be removed in 0.20.\n",
      "  sample_weight=sample_weight)\n",
      "/Users/darrenklee/anaconda2/lib/python2.7/site-packages/sklearn/metrics/scorer.py:100: DeprecationWarning: Scoring method mean_squared_error was renamed to neg_mean_squared_error in version 0.18 and will be removed in 0.20.\n",
      "  sample_weight=sample_weight)\n",
      "/Users/darrenklee/anaconda2/lib/python2.7/site-packages/sklearn/metrics/scorer.py:100: DeprecationWarning: Scoring method mean_squared_error was renamed to neg_mean_squared_error in version 0.18 and will be removed in 0.20.\n",
      "  sample_weight=sample_weight)\n"
     ]
    },
    {
     "data": {
      "text/plain": [
       "3.2756686834314559"
      ]
     },
     "execution_count": 44,
     "metadata": {},
     "output_type": "execute_result"
    }
   ],
   "source": [
    "# only TV\n",
    "feature_cols = ['TV']\n",
    "X = data[feature_cols]\n",
    "cross_val_rmse(X, y)\n",
    "#the "
   ]
  },
  {
   "cell_type": "markdown",
   "metadata": {},
   "source": [
    "Let's try this process again change scoring metrics to R2"
   ]
  },
  {
   "cell_type": "code",
   "execution_count": 45,
   "metadata": {},
   "outputs": [
    {
     "data": {
      "text/plain": [
       "0.8871063495438436"
      ]
     },
     "execution_count": 45,
     "metadata": {},
     "output_type": "execute_result"
    }
   ],
   "source": [
    "#Make cross val function with R2\n",
    "# include Newspaper\n",
    "feature_cols = ['TV', 'radio', 'newspaper']\n",
    "X = data[feature_cols]\n",
    "cross_val_score(LinearRegression(),X, y, cv = 5, scoring = \"r2\").mean()"
   ]
  },
  {
   "cell_type": "code",
   "execution_count": 46,
   "metadata": {},
   "outputs": [
    {
     "data": {
      "text/plain": [
       "0.88928295730645301"
      ]
     },
     "execution_count": 46,
     "metadata": {},
     "output_type": "execute_result"
    }
   ],
   "source": [
    "#Make cross val function with R2\n",
    "# Exclude Newspaper\n",
    "feature_cols = ['TV', 'radio']\n",
    "X = data[feature_cols]\n",
    "cross_val_score(LinearRegression(),X, y, cv = 5, scoring = \"r2\").mean()"
   ]
  },
  {
   "cell_type": "code",
   "execution_count": 47,
   "metadata": {
    "collapsed": true
   },
   "outputs": [],
   "source": [
    "#The model slightly improved.. but not a big difference."
   ]
  },
  {
   "cell_type": "code",
   "execution_count": 48,
   "metadata": {},
   "outputs": [
    {
     "data": {
      "text/plain": [
       "0.59260008436482559"
      ]
     },
     "execution_count": 48,
     "metadata": {},
     "output_type": "execute_result"
    }
   ],
   "source": [
    "#Make cross val function with R2\n",
    "# Only TV\n",
    "feature_cols = ['TV']\n",
    "X = data[feature_cols]\n",
    "cross_val_score(LinearRegression(),X, y, cv = 5, scoring = \"r2\").mean()\n",
    "#significantly drops almost by 30%. We cannot use TV alone. We have to look at TV & Radio."
   ]
  },
  {
   "cell_type": "markdown",
   "metadata": {},
   "source": [
    "What do these results tell us? Which metric do you prefer? The R2 or RMSE?"
   ]
  },
  {
   "cell_type": "code",
   "execution_count": 49,
   "metadata": {
    "collapsed": true
   },
   "outputs": [],
   "source": [
    "#R2 is good as a grade to explain to others. RMSE needs context to the data you're dealing with. "
   ]
  },
  {
   "cell_type": "code",
   "execution_count": null,
   "metadata": {
    "collapsed": true
   },
   "outputs": [],
   "source": []
  },
  {
   "cell_type": "markdown",
   "metadata": {},
   "source": [
    "### Collinearity"
   ]
  },
  {
   "cell_type": "code",
   "execution_count": 3,
   "metadata": {},
   "outputs": [
    {
     "data": {
      "text/html": [
       "<div>\n",
       "<style>\n",
       "    .dataframe thead tr:only-child th {\n",
       "        text-align: right;\n",
       "    }\n",
       "\n",
       "    .dataframe thead th {\n",
       "        text-align: left;\n",
       "    }\n",
       "\n",
       "    .dataframe tbody tr th {\n",
       "        vertical-align: top;\n",
       "    }\n",
       "</style>\n",
       "<table border=\"1\" class=\"dataframe\">\n",
       "  <thead>\n",
       "    <tr style=\"text-align: right;\">\n",
       "      <th></th>\n",
       "      <th>Y</th>\n",
       "      <th>X1</th>\n",
       "      <th>X2</th>\n",
       "      <th>X3</th>\n",
       "      <th>X4</th>\n",
       "      <th>X5</th>\n",
       "      <th>X6</th>\n",
       "    </tr>\n",
       "  </thead>\n",
       "  <tbody>\n",
       "    <tr>\n",
       "      <th>count</th>\n",
       "      <td>30.000000</td>\n",
       "      <td>30.000000</td>\n",
       "      <td>30.000000</td>\n",
       "      <td>30.000000</td>\n",
       "      <td>30.000000</td>\n",
       "      <td>30.000000</td>\n",
       "      <td>30.000000</td>\n",
       "    </tr>\n",
       "    <tr>\n",
       "      <th>mean</th>\n",
       "      <td>64.633333</td>\n",
       "      <td>66.600000</td>\n",
       "      <td>53.133333</td>\n",
       "      <td>56.366667</td>\n",
       "      <td>64.633333</td>\n",
       "      <td>74.766667</td>\n",
       "      <td>42.933333</td>\n",
       "    </tr>\n",
       "    <tr>\n",
       "      <th>std</th>\n",
       "      <td>12.172562</td>\n",
       "      <td>13.314757</td>\n",
       "      <td>12.235430</td>\n",
       "      <td>11.737013</td>\n",
       "      <td>10.397226</td>\n",
       "      <td>9.894908</td>\n",
       "      <td>10.288706</td>\n",
       "    </tr>\n",
       "    <tr>\n",
       "      <th>min</th>\n",
       "      <td>40.000000</td>\n",
       "      <td>37.000000</td>\n",
       "      <td>30.000000</td>\n",
       "      <td>34.000000</td>\n",
       "      <td>43.000000</td>\n",
       "      <td>49.000000</td>\n",
       "      <td>25.000000</td>\n",
       "    </tr>\n",
       "    <tr>\n",
       "      <th>25%</th>\n",
       "      <td>58.750000</td>\n",
       "      <td>58.500000</td>\n",
       "      <td>45.000000</td>\n",
       "      <td>47.000000</td>\n",
       "      <td>58.250000</td>\n",
       "      <td>69.250000</td>\n",
       "      <td>35.000000</td>\n",
       "    </tr>\n",
       "    <tr>\n",
       "      <th>50%</th>\n",
       "      <td>65.500000</td>\n",
       "      <td>65.000000</td>\n",
       "      <td>51.500000</td>\n",
       "      <td>56.500000</td>\n",
       "      <td>63.500000</td>\n",
       "      <td>77.500000</td>\n",
       "      <td>41.000000</td>\n",
       "    </tr>\n",
       "    <tr>\n",
       "      <th>75%</th>\n",
       "      <td>71.750000</td>\n",
       "      <td>77.000000</td>\n",
       "      <td>62.500000</td>\n",
       "      <td>66.750000</td>\n",
       "      <td>71.000000</td>\n",
       "      <td>80.000000</td>\n",
       "      <td>47.750000</td>\n",
       "    </tr>\n",
       "    <tr>\n",
       "      <th>max</th>\n",
       "      <td>85.000000</td>\n",
       "      <td>90.000000</td>\n",
       "      <td>83.000000</td>\n",
       "      <td>75.000000</td>\n",
       "      <td>88.000000</td>\n",
       "      <td>92.000000</td>\n",
       "      <td>72.000000</td>\n",
       "    </tr>\n",
       "  </tbody>\n",
       "</table>\n",
       "</div>"
      ],
      "text/plain": [
       "               Y         X1         X2         X3         X4         X5  \\\n",
       "count  30.000000  30.000000  30.000000  30.000000  30.000000  30.000000   \n",
       "mean   64.633333  66.600000  53.133333  56.366667  64.633333  74.766667   \n",
       "std    12.172562  13.314757  12.235430  11.737013  10.397226   9.894908   \n",
       "min    40.000000  37.000000  30.000000  34.000000  43.000000  49.000000   \n",
       "25%    58.750000  58.500000  45.000000  47.000000  58.250000  69.250000   \n",
       "50%    65.500000  65.000000  51.500000  56.500000  63.500000  77.500000   \n",
       "75%    71.750000  77.000000  62.500000  66.750000  71.000000  80.000000   \n",
       "max    85.000000  90.000000  83.000000  75.000000  88.000000  92.000000   \n",
       "\n",
       "              X6  \n",
       "count  30.000000  \n",
       "mean   42.933333  \n",
       "std    10.288706  \n",
       "min    25.000000  \n",
       "25%    35.000000  \n",
       "50%    41.000000  \n",
       "75%    47.750000  \n",
       "max    72.000000  "
      ]
     },
     "execution_count": 3,
     "metadata": {},
     "output_type": "execute_result"
    }
   ],
   "source": [
    "import pandas as pd\n",
    "# Load the data in\n",
    "df = pd.read_pickle(\"../data/survey_data.pkl\")\n",
    "# Take a look at the datatypes\n",
    "df.describe()"
   ]
  },
  {
   "cell_type": "code",
   "execution_count": 51,
   "metadata": {},
   "outputs": [
    {
     "data": {
      "text/html": [
       "<div>\n",
       "<style>\n",
       "    .dataframe thead tr:only-child th {\n",
       "        text-align: right;\n",
       "    }\n",
       "\n",
       "    .dataframe thead th {\n",
       "        text-align: left;\n",
       "    }\n",
       "\n",
       "    .dataframe tbody tr th {\n",
       "        vertical-align: top;\n",
       "    }\n",
       "</style>\n",
       "<table border=\"1\" class=\"dataframe\">\n",
       "  <thead>\n",
       "    <tr style=\"text-align: right;\">\n",
       "      <th></th>\n",
       "      <th>Y</th>\n",
       "      <th>X1</th>\n",
       "      <th>X2</th>\n",
       "      <th>X3</th>\n",
       "      <th>X4</th>\n",
       "      <th>X5</th>\n",
       "      <th>X6</th>\n",
       "    </tr>\n",
       "  </thead>\n",
       "  <tbody>\n",
       "    <tr>\n",
       "      <th>Y</th>\n",
       "      <td>1.000000</td>\n",
       "      <td>0.825418</td>\n",
       "      <td>0.426117</td>\n",
       "      <td>0.623678</td>\n",
       "      <td>0.590139</td>\n",
       "      <td>0.156439</td>\n",
       "      <td>0.155086</td>\n",
       "    </tr>\n",
       "    <tr>\n",
       "      <th>X1</th>\n",
       "      <td>0.825418</td>\n",
       "      <td>1.000000</td>\n",
       "      <td>0.558288</td>\n",
       "      <td>0.596736</td>\n",
       "      <td>0.669197</td>\n",
       "      <td>0.187714</td>\n",
       "      <td>0.224580</td>\n",
       "    </tr>\n",
       "    <tr>\n",
       "      <th>X2</th>\n",
       "      <td>0.426117</td>\n",
       "      <td>0.558288</td>\n",
       "      <td>1.000000</td>\n",
       "      <td>0.493331</td>\n",
       "      <td>0.445478</td>\n",
       "      <td>0.147233</td>\n",
       "      <td>0.343293</td>\n",
       "    </tr>\n",
       "    <tr>\n",
       "      <th>X3</th>\n",
       "      <td>0.623678</td>\n",
       "      <td>0.596736</td>\n",
       "      <td>0.493331</td>\n",
       "      <td>1.000000</td>\n",
       "      <td>0.640314</td>\n",
       "      <td>0.115965</td>\n",
       "      <td>0.531620</td>\n",
       "    </tr>\n",
       "    <tr>\n",
       "      <th>X4</th>\n",
       "      <td>0.590139</td>\n",
       "      <td>0.669197</td>\n",
       "      <td>0.445478</td>\n",
       "      <td>0.640314</td>\n",
       "      <td>1.000000</td>\n",
       "      <td>0.376883</td>\n",
       "      <td>0.574186</td>\n",
       "    </tr>\n",
       "    <tr>\n",
       "      <th>X5</th>\n",
       "      <td>0.156439</td>\n",
       "      <td>0.187714</td>\n",
       "      <td>0.147233</td>\n",
       "      <td>0.115965</td>\n",
       "      <td>0.376883</td>\n",
       "      <td>1.000000</td>\n",
       "      <td>0.283343</td>\n",
       "    </tr>\n",
       "    <tr>\n",
       "      <th>X6</th>\n",
       "      <td>0.155086</td>\n",
       "      <td>0.224580</td>\n",
       "      <td>0.343293</td>\n",
       "      <td>0.531620</td>\n",
       "      <td>0.574186</td>\n",
       "      <td>0.283343</td>\n",
       "      <td>1.000000</td>\n",
       "    </tr>\n",
       "  </tbody>\n",
       "</table>\n",
       "</div>"
      ],
      "text/plain": [
       "           Y        X1        X2        X3        X4        X5        X6\n",
       "Y   1.000000  0.825418  0.426117  0.623678  0.590139  0.156439  0.155086\n",
       "X1  0.825418  1.000000  0.558288  0.596736  0.669197  0.187714  0.224580\n",
       "X2  0.426117  0.558288  1.000000  0.493331  0.445478  0.147233  0.343293\n",
       "X3  0.623678  0.596736  0.493331  1.000000  0.640314  0.115965  0.531620\n",
       "X4  0.590139  0.669197  0.445478  0.640314  1.000000  0.376883  0.574186\n",
       "X5  0.156439  0.187714  0.147233  0.115965  0.376883  1.000000  0.283343\n",
       "X6  0.155086  0.224580  0.343293  0.531620  0.574186  0.283343  1.000000"
      ]
     },
     "execution_count": 51,
     "metadata": {},
     "output_type": "execute_result"
    }
   ],
   "source": [
    "# View the correlations\n",
    "df.corr()"
   ]
  },
  {
   "cell_type": "markdown",
   "metadata": {},
   "source": [
    "#### Correlation and Multicollinearity\n",
    "We notice that some of the variables are highly correlated.  This is something we might want to take into consideration later.  When 2 predictor variables are highly correlated this is called [multicollinearity](https://en.wikipedia.org/wiki/Multicollinearity) and it is something we want to watch out for as it can destabilize our model.  In the extreme case, when 2 predictors are perfectly correlated then there is absolutely nothing gained by making both variables part of our regression.\n",
    "\n",
    "The other takeaway from this table is that some of our predictors are highly correlated with our ***target variable Y***.  This is a good thing, it means that these are the variables that we most likely want to include as part of our model as they explain a large amount of the variance in the target variable (correlation=R, variance_explained=R<sup>2</sup>)."
   ]
  },
  {
   "cell_type": "code",
   "execution_count": 52,
   "metadata": {},
   "outputs": [
    {
     "data": {
      "text/plain": [
       "<seaborn.axisgrid.PairGrid at 0x10cfaf4d0>"
      ]
     },
     "execution_count": 52,
     "metadata": {},
     "output_type": "execute_result"
    },
    {
     "data": {
      "image/png": "[encoded data removed]",
      "text/plain": [
       "<matplotlib.figure.Figure at 0x1a1cc5d4d0>"
      ]
     },
     "metadata": {},
     "output_type": "display_data"
    }
   ],
   "source": [
    "# Plot all of the variable-to-variable relations as scatterplots\n",
    "sns.pairplot(df, size = 1.2, aspect=1.5)"
   ]
  },
  {
   "cell_type": "code",
   "execution_count": null,
   "metadata": {
    "collapsed": true
   },
   "outputs": [],
   "source": []
  },
  {
   "cell_type": "markdown",
   "metadata": {},
   "source": [
    "What do you notice?"
   ]
  },
  {
   "cell_type": "code",
   "execution_count": null,
   "metadata": {
    "collapsed": true
   },
   "outputs": [],
   "source": []
  },
  {
   "cell_type": "code",
   "execution_count": null,
   "metadata": {
    "collapsed": true
   },
   "outputs": [],
   "source": []
  },
  {
   "cell_type": "markdown",
   "metadata": {},
   "source": [
    "Let's model this data using linear regresion in sklearn"
   ]
  },
  {
   "cell_type": "code",
   "execution_count": 53,
   "metadata": {},
   "outputs": [
    {
     "data": {
      "text/plain": [
       "0.7326019925311491"
      ]
     },
     "execution_count": 53,
     "metadata": {},
     "output_type": "execute_result"
    }
   ],
   "source": [
    "# Intialize an empty model\n",
    "lr = LinearRegression()\n",
    "\n",
    "# Assign X and y\n",
    "X = df.drop(\"Y\", axis = 1)\n",
    "# Choose the response variable(s)\n",
    "y = df.Y\n",
    "# Fit the model to the full dataset\n",
    "lr.fit(X, y)\n",
    "# Print out the R^2 for the model against the full dataset\n",
    "lr.score(X,y)"
   ]
  },
  {
   "cell_type": "code",
   "execution_count": null,
   "metadata": {
    "collapsed": true
   },
   "outputs": [],
   "source": []
  },
  {
   "cell_type": "code",
   "execution_count": null,
   "metadata": {
    "collapsed": true
   },
   "outputs": [],
   "source": []
  },
  {
   "cell_type": "code",
   "execution_count": null,
   "metadata": {
    "collapsed": true
   },
   "outputs": [],
   "source": []
  },
  {
   "cell_type": "markdown",
   "metadata": {},
   "source": [
    "Run this again but only X1, X3, X4, the three most correlated variables with Y"
   ]
  },
  {
   "cell_type": "code",
   "execution_count": 54,
   "metadata": {},
   "outputs": [
    {
     "data": {
      "text/plain": [
       "0.70829160796161106"
      ]
     },
     "execution_count": 54,
     "metadata": {},
     "output_type": "execute_result"
    }
   ],
   "source": [
    "# Intialize an empty model\n",
    "lr = LinearRegression()\n",
    "\n",
    "# Assign X and y\n",
    "X = df[[\"X1\", \"X3\", \"X4\"]]\n",
    "# Choose the response variable(s)\n",
    "y = df.Y\n",
    "# Fit the model to the full dataset\n",
    "lr.fit(X, y)\n",
    "# Print out the R^2 for the model against the full dataset\n",
    "lr.score(X,y)"
   ]
  },
  {
   "cell_type": "code",
   "execution_count": null,
   "metadata": {
    "collapsed": true
   },
   "outputs": [],
   "source": []
  },
  {
   "cell_type": "markdown",
   "metadata": {},
   "source": [
    "What effect did this have?"
   ]
  },
  {
   "cell_type": "code",
   "execution_count": 55,
   "metadata": {
    "collapsed": true
   },
   "outputs": [],
   "source": [
    "#a drop in R2 is worth noticing"
   ]
  },
  {
   "cell_type": "code",
   "execution_count": null,
   "metadata": {
    "collapsed": true
   },
   "outputs": [],
   "source": []
  },
  {
   "cell_type": "markdown",
   "metadata": {},
   "source": [
    "Let's play around with the data and try to find the best combinations of features."
   ]
  },
  {
   "cell_type": "code",
   "execution_count": 56,
   "metadata": {
    "collapsed": true
   },
   "outputs": [],
   "source": [
    "def survey_model(features):\n",
    "    X = df[features]\n",
    "    lr = LinearRegression()\n",
    "    lr.fit(X, y)\n",
    "    return lr.score(X, y)"
   ]
  },
  {
   "cell_type": "code",
   "execution_count": 57,
   "metadata": {},
   "outputs": [
    {
     "data": {
      "text/plain": [
       "0.68131416410886336"
      ]
     },
     "execution_count": 57,
     "metadata": {},
     "output_type": "execute_result"
    }
   ],
   "source": [
    "survey_model([\"X1\"])"
   ]
  },
  {
   "cell_type": "code",
   "execution_count": 58,
   "metadata": {},
   "outputs": [
    {
     "data": {
      "text/plain": [
       "0.71535493203950651"
      ]
     },
     "execution_count": 58,
     "metadata": {},
     "output_type": "execute_result"
    }
   ],
   "source": [
    "survey_model([\"X1\", \"X2\", \"X3\", \"X4\", \"X5\"])"
   ]
  },
  {
   "cell_type": "code",
   "execution_count": 59,
   "metadata": {},
   "outputs": [
    {
     "data": {
      "text/plain": [
       "0.70801569258319774"
      ]
     },
     "execution_count": 59,
     "metadata": {},
     "output_type": "execute_result"
    }
   ],
   "source": [
    "survey_model([\"X1\", \"X3\", \"X5\"])"
   ]
  },
  {
   "cell_type": "code",
   "execution_count": 60,
   "metadata": {},
   "outputs": [
    {
     "data": {
      "text/plain": [
       "0.71500444949720543"
      ]
     },
     "execution_count": 60,
     "metadata": {},
     "output_type": "execute_result"
    }
   ],
   "source": [
    "survey_model([\"X1\", \"X2\", \"X3\"])"
   ]
  },
  {
   "cell_type": "code",
   "execution_count": 61,
   "metadata": {},
   "outputs": [
    {
     "data": {
      "text/plain": [
       "0.41253835866965682"
      ]
     },
     "execution_count": 61,
     "metadata": {},
     "output_type": "execute_result"
    }
   ],
   "source": [
    "survey_model([\"X2\", \"X3\", \"X5\"])"
   ]
  },
  {
   "cell_type": "code",
   "execution_count": 62,
   "metadata": {
    "collapsed": true
   },
   "outputs": [],
   "source": [
    "from itertools import combinations"
   ]
  },
  {
   "cell_type": "code",
   "execution_count": 63,
   "metadata": {
    "collapsed": true
   },
   "outputs": [],
   "source": [
    "combos = combinations(df.drop(\"Y\", axis = 1).columns, 3)"
   ]
  },
  {
   "cell_type": "code",
   "execution_count": 64,
   "metadata": {
    "collapsed": true
   },
   "outputs": [],
   "source": [
    "combos = list(combos)"
   ]
  },
  {
   "cell_type": "code",
   "execution_count": 65,
   "metadata": {
    "collapsed": true
   },
   "outputs": [],
   "source": [
    "scores = []\n",
    "\n",
    "for i in combos:\n",
    "    i = list(i)\n",
    "    score = survey_model(i)\n",
    "    scores.append(score)\n",
    "    "
   ]
  },
  {
   "cell_type": "code",
   "execution_count": 66,
   "metadata": {
    "collapsed": true
   },
   "outputs": [],
   "source": [
    "scores_dict = zip(combos,scores)"
   ]
  },
  {
   "cell_type": "code",
   "execution_count": 67,
   "metadata": {},
   "outputs": [
    {
     "data": {
      "text/plain": [
       "[(('X1', 'X3', 'X6'), 0.72559499957450746),\n",
       " (('X1', 'X2', 'X3'), 0.71500444949720543),\n",
       " (('X1', 'X3', 'X4'), 0.70829160796161106),\n",
       " (('X1', 'X3', 'X5'), 0.70801569258319774),\n",
       " (('X1', 'X4', 'X6'), 0.68952873141836024),\n",
       " (('X1', 'X2', 'X4'), 0.68620998659456567),\n",
       " (('X1', 'X4', 'X5'), 0.68418746500244643),\n",
       " (('X1', 'X2', 'X6'), 0.68348685257177821),\n",
       " (('X1', 'X2', 'X5'), 0.68307764167340768),\n",
       " (('X1', 'X5', 'X6'), 0.68237355828538027),\n",
       " (('X3', 'X4', 'X6'), 0.5523762868792399),\n",
       " (('X2', 'X3', 'X4'), 0.45871385717462088),\n",
       " (('X2', 'X3', 'X6'), 0.45800104269004882),\n",
       " (('X3', 'X5', 'X6'), 0.45332645527940596),\n",
       " (('X3', 'X4', 'X5'), 0.4508976606003986),\n",
       " (('X2', 'X4', 'X6'), 0.44300032284919233),\n",
       " (('X2', 'X3', 'X5'), 0.41253835866965682),\n",
       " (('X4', 'X5', 'X6'), 0.40130626746041409),\n",
       " (('X2', 'X4', 'X5'), 0.38595139687144731),\n",
       " (('X2', 'X5', 'X6'), 0.19077016952077352)]"
      ]
     },
     "execution_count": 67,
     "metadata": {},
     "output_type": "execute_result"
    }
   ],
   "source": [
    "sorted(scores_dict, key = lambda x:x[1], reverse=True)"
   ]
  },
  {
   "cell_type": "code",
   "execution_count": null,
   "metadata": {
    "collapsed": true
   },
   "outputs": [],
   "source": []
  },
  {
   "cell_type": "markdown",
   "metadata": {},
   "source": [
    "## Pros and Cons\n",
    "\n",
    "Advantages of linear regression:\n",
    "\n",
    "- Simple to explain\n",
    "- Highly interpretable\n",
    "- Model training and prediction are fast\n",
    "- No tuning is required (excluding regularization)\n",
    "- Features don't need scaling\n",
    "- Can perform well with a small number of observations\n",
    "\n",
    "Disadvantages of linear regression:\n",
    "\n",
    "- Presumes a linear relationship between the features and the response\n",
    "- Performance is (generally) not competitive with the best supervised learning methods due to high bias\n",
    "- Sensitive to irrelevant features (scaling won't help but feature selection will)\n",
    "- Makes improper predictions (lines are not bound on any side)\n",
    "- Can't automatically learn feature interactions"
   ]
  },
  {
   "cell_type": "markdown",
   "metadata": {},
   "source": [
    "## Resources\n",
    "\n",
    "- https://towardsdatascience.com/simple-and-multiple-linear-regression-in-python-c928425168f9\n",
    "- http://www-bcf.usc.edu/~gareth/ISL/\n",
    "- http://www.dataschool.io/15-hours-of-expert-machine-learning-videos/\n",
    "- http://www.dataschool.io/applying-and-interpreting-linear-regression/\n",
    "- https://www.datarobot.com/blog/ordinary-least-squares-in-python/\n",
    "- https://www.datarobot.com/blog/multiple-regression-using-statsmodels/\n",
    "- https://medium.com/@GalarnykMichael/linear-regression-using-python-b29174c3797a#.vczf85s0s\n",
    "- https://www.youtube.com/watch?v=5-QY6MCt7fo"
   ]
  },
  {
   "cell_type": "markdown",
   "metadata": {},
   "source": [
    "\n",
    "## Class Exercise\n",
    "\n",
    "We're going to work together to model housing prices using the king county home sales "
   ]
  },
  {
   "cell_type": "code",
   "execution_count": 68,
   "metadata": {},
   "outputs": [
    {
     "data": {
      "text/html": [
       "<div>\n",
       "<style>\n",
       "    .dataframe thead tr:only-child th {\n",
       "        text-align: right;\n",
       "    }\n",
       "\n",
       "    .dataframe thead th {\n",
       "        text-align: left;\n",
       "    }\n",
       "\n",
       "    .dataframe tbody tr th {\n",
       "        vertical-align: top;\n",
       "    }\n",
       "</style>\n",
       "<table border=\"1\" class=\"dataframe\">\n",
       "  <thead>\n",
       "    <tr style=\"text-align: right;\">\n",
       "      <th></th>\n",
       "      <th>id</th>\n",
       "      <th>date</th>\n",
       "      <th>price</th>\n",
       "      <th>bedrooms</th>\n",
       "      <th>bathrooms</th>\n",
       "      <th>sqft_living</th>\n",
       "      <th>sqft_lot</th>\n",
       "      <th>floors</th>\n",
       "      <th>waterfront</th>\n",
       "      <th>view</th>\n",
       "      <th>condition</th>\n",
       "      <th>grade</th>\n",
       "      <th>sqft_above</th>\n",
       "      <th>sqft_basement</th>\n",
       "      <th>yr_built</th>\n",
       "      <th>yr_renovated</th>\n",
       "      <th>zipcode</th>\n",
       "      <th>lat</th>\n",
       "      <th>long</th>\n",
       "      <th>sqft_living15</th>\n",
       "      <th>sqft_lot15</th>\n",
       "    </tr>\n",
       "  </thead>\n",
       "  <tbody>\n",
       "    <tr>\n",
       "      <th>0</th>\n",
       "      <td>7129300520</td>\n",
       "      <td>20141013T000000</td>\n",
       "      <td>221900.0</td>\n",
       "      <td>3</td>\n",
       "      <td>1.00</td>\n",
       "      <td>1180</td>\n",
       "      <td>5650</td>\n",
       "      <td>1.0</td>\n",
       "      <td>0</td>\n",
       "      <td>0</td>\n",
       "      <td>3</td>\n",
       "      <td>7</td>\n",
       "      <td>1180</td>\n",
       "      <td>0</td>\n",
       "      <td>1955</td>\n",
       "      <td>0</td>\n",
       "      <td>98178</td>\n",
       "      <td>47.5112</td>\n",
       "      <td>-122.257</td>\n",
       "      <td>1340</td>\n",
       "      <td>5650</td>\n",
       "    </tr>\n",
       "    <tr>\n",
       "      <th>1</th>\n",
       "      <td>6414100192</td>\n",
       "      <td>20141209T000000</td>\n",
       "      <td>538000.0</td>\n",
       "      <td>3</td>\n",
       "      <td>2.25</td>\n",
       "      <td>2570</td>\n",
       "      <td>7242</td>\n",
       "      <td>2.0</td>\n",
       "      <td>0</td>\n",
       "      <td>0</td>\n",
       "      <td>3</td>\n",
       "      <td>7</td>\n",
       "      <td>2170</td>\n",
       "      <td>400</td>\n",
       "      <td>1951</td>\n",
       "      <td>1991</td>\n",
       "      <td>98125</td>\n",
       "      <td>47.7210</td>\n",
       "      <td>-122.319</td>\n",
       "      <td>1690</td>\n",
       "      <td>7639</td>\n",
       "    </tr>\n",
       "    <tr>\n",
       "      <th>2</th>\n",
       "      <td>5631500400</td>\n",
       "      <td>20150225T000000</td>\n",
       "      <td>180000.0</td>\n",
       "      <td>2</td>\n",
       "      <td>1.00</td>\n",
       "      <td>770</td>\n",
       "      <td>10000</td>\n",
       "      <td>1.0</td>\n",
       "      <td>0</td>\n",
       "      <td>0</td>\n",
       "      <td>3</td>\n",
       "      <td>6</td>\n",
       "      <td>770</td>\n",
       "      <td>0</td>\n",
       "      <td>1933</td>\n",
       "      <td>0</td>\n",
       "      <td>98028</td>\n",
       "      <td>47.7379</td>\n",
       "      <td>-122.233</td>\n",
       "      <td>2720</td>\n",
       "      <td>8062</td>\n",
       "    </tr>\n",
       "    <tr>\n",
       "      <th>3</th>\n",
       "      <td>2487200875</td>\n",
       "      <td>20141209T000000</td>\n",
       "      <td>604000.0</td>\n",
       "      <td>4</td>\n",
       "      <td>3.00</td>\n",
       "      <td>1960</td>\n",
       "      <td>5000</td>\n",
       "      <td>1.0</td>\n",
       "      <td>0</td>\n",
       "      <td>0</td>\n",
       "      <td>5</td>\n",
       "      <td>7</td>\n",
       "      <td>1050</td>\n",
       "      <td>910</td>\n",
       "      <td>1965</td>\n",
       "      <td>0</td>\n",
       "      <td>98136</td>\n",
       "      <td>47.5208</td>\n",
       "      <td>-122.393</td>\n",
       "      <td>1360</td>\n",
       "      <td>5000</td>\n",
       "    </tr>\n",
       "    <tr>\n",
       "      <th>4</th>\n",
       "      <td>1954400510</td>\n",
       "      <td>20150218T000000</td>\n",
       "      <td>510000.0</td>\n",
       "      <td>3</td>\n",
       "      <td>2.00</td>\n",
       "      <td>1680</td>\n",
       "      <td>8080</td>\n",
       "      <td>1.0</td>\n",
       "      <td>0</td>\n",
       "      <td>0</td>\n",
       "      <td>3</td>\n",
       "      <td>8</td>\n",
       "      <td>1680</td>\n",
       "      <td>0</td>\n",
       "      <td>1987</td>\n",
       "      <td>0</td>\n",
       "      <td>98074</td>\n",
       "      <td>47.6168</td>\n",
       "      <td>-122.045</td>\n",
       "      <td>1800</td>\n",
       "      <td>7503</td>\n",
       "    </tr>\n",
       "  </tbody>\n",
       "</table>\n",
       "</div>"
      ],
      "text/plain": [
       "           id             date     price  bedrooms  bathrooms  sqft_living  \\\n",
       "0  7129300520  20141013T000000  221900.0         3       1.00         1180   \n",
       "1  6414100192  20141209T000000  538000.0         3       2.25         2570   \n",
       "2  5631500400  20150225T000000  180000.0         2       1.00          770   \n",
       "3  2487200875  20141209T000000  604000.0         4       3.00         1960   \n",
       "4  1954400510  20150218T000000  510000.0         3       2.00         1680   \n",
       "\n",
       "   sqft_lot  floors  waterfront  view  condition  grade  sqft_above  \\\n",
       "0      5650     1.0           0     0          3      7        1180   \n",
       "1      7242     2.0           0     0          3      7        2170   \n",
       "2     10000     1.0           0     0          3      6         770   \n",
       "3      5000     1.0           0     0          5      7        1050   \n",
       "4      8080     1.0           0     0          3      8        1680   \n",
       "\n",
       "   sqft_basement  yr_built  yr_renovated  zipcode      lat     long  \\\n",
       "0              0      1955             0    98178  47.5112 -122.257   \n",
       "1            400      1951          1991    98125  47.7210 -122.319   \n",
       "2              0      1933             0    98028  47.7379 -122.233   \n",
       "3            910      1965             0    98136  47.5208 -122.393   \n",
       "4              0      1987             0    98074  47.6168 -122.045   \n",
       "\n",
       "   sqft_living15  sqft_lot15  \n",
       "0           1340        5650  \n",
       "1           1690        7639  \n",
       "2           2720        8062  \n",
       "3           1360        5000  \n",
       "4           1800        7503  "
      ]
     },
     "execution_count": 68,
     "metadata": {},
     "output_type": "execute_result"
    }
   ],
   "source": [
    "#Load in data\n",
    "\n",
    "pd.set_option(\"max.columns\", 30)\n",
    "kc = pd.read_csv(\"../data/kc_house_data.csv\")\n",
    "kc.head()"
   ]
  },
  {
   "cell_type": "code",
   "execution_count": 69,
   "metadata": {},
   "outputs": [
    {
     "name": "stdout",
     "output_type": "stream",
     "text": [
      "<class 'pandas.core.frame.DataFrame'>\n",
      "RangeIndex: 21613 entries, 0 to 21612\n",
      "Data columns (total 21 columns):\n",
      "id               21613 non-null int64\n",
      "date             21613 non-null object\n",
      "price            21613 non-null float64\n",
      "bedrooms         21613 non-null int64\n",
      "bathrooms        21613 non-null float64\n",
      "sqft_living      21613 non-null int64\n",
      "sqft_lot         21613 non-null int64\n",
      "floors           21613 non-null float64\n",
      "waterfront       21613 non-null int64\n",
      "view             21613 non-null int64\n",
      "condition        21613 non-null int64\n",
      "grade            21613 non-null int64\n",
      "sqft_above       21613 non-null int64\n",
      "sqft_basement    21613 non-null int64\n",
      "yr_built         21613 non-null int64\n",
      "yr_renovated     21613 non-null int64\n",
      "zipcode          21613 non-null int64\n",
      "lat              21613 non-null float64\n",
      "long             21613 non-null float64\n",
      "sqft_living15    21613 non-null int64\n",
      "sqft_lot15       21613 non-null int64\n",
      "dtypes: float64(5), int64(15), object(1)\n",
      "memory usage: 3.5+ MB\n"
     ]
    }
   ],
   "source": [
    "kc.info();"
   ]
  },
  {
   "cell_type": "code",
   "execution_count": 70,
   "metadata": {},
   "outputs": [
    {
     "data": {
      "text/plain": [
       "(21613, 21)"
      ]
     },
     "execution_count": 70,
     "metadata": {},
     "output_type": "execute_result"
    }
   ],
   "source": [
    "kc.shape"
   ]
  },
  {
   "cell_type": "code",
   "execution_count": null,
   "metadata": {
    "collapsed": true
   },
   "outputs": [],
   "source": [
    "kc.corr()[\"price\"].sort_values(ascending=False)"
   ]
  },
  {
   "cell_type": "code",
   "execution_count": 72,
   "metadata": {},
   "outputs": [
    {
     "data": {
      "text/plain": [
       "Index([u'id', u'date', u'price', u'bedrooms', u'bathrooms', u'sqft_living',\n",
       "       u'sqft_lot', u'floors', u'waterfront', u'view', u'condition', u'grade',\n",
       "       u'sqft_above', u'sqft_basement', u'yr_built', u'yr_renovated',\n",
       "       u'zipcode', u'lat', u'long', u'sqft_living15', u'sqft_lot15'],\n",
       "      dtype='object')"
      ]
     },
     "execution_count": 72,
     "metadata": {},
     "output_type": "execute_result"
    }
   ],
   "source": [
    "kc.columns"
   ]
  },
  {
   "cell_type": "code",
   "execution_count": 73,
   "metadata": {
    "collapsed": true
   },
   "outputs": [],
   "source": [
    "zc = kc.zipcode\n",
    "drops = [\"date\", \"lat\", \"long\", \"zipcode\"]\n",
    "kc.drop(drops, axis = 1, inplace=True)"
   ]
  },
  {
   "cell_type": "code",
   "execution_count": 74,
   "metadata": {},
   "outputs": [
    {
     "data": {
      "text/plain": [
       "(21613, 17)"
      ]
     },
     "execution_count": 74,
     "metadata": {},
     "output_type": "execute_result"
    }
   ],
   "source": [
    "kc.shape"
   ]
  },
  {
   "cell_type": "code",
   "execution_count": 75,
   "metadata": {
    "collapsed": true
   },
   "outputs": [],
   "source": [
    "X = kc.drop(\"price\", axis = 1)"
   ]
  },
  {
   "cell_type": "code",
   "execution_count": 76,
   "metadata": {},
   "outputs": [
    {
     "data": {
      "text/plain": [
       "'price ~ id + bedrooms + bathrooms + sqft_living + sqft_lot + floors + waterfront + view + condition + grade + sqft_above + sqft_basement + yr_built + yr_renovated + sqft_living15 + sqft_lot15 + '"
      ]
     },
     "execution_count": 76,
     "metadata": {},
     "output_type": "execute_result"
    }
   ],
   "source": [
    "formula = \"price ~ \"\n",
    "\n",
    "for i in X.columns:\n",
    "    formula = formula + i + \" + \"\n",
    "formula"
   ]
  },
  {
   "cell_type": "code",
   "execution_count": 77,
   "metadata": {
    "collapsed": true
   },
   "outputs": [],
   "source": [
    "formula = formula[:-3]"
   ]
  },
  {
   "cell_type": "code",
   "execution_count": 78,
   "metadata": {},
   "outputs": [
    {
     "data": {
      "text/html": [
       "<table class=\"simpletable\">\n",
       "<caption>OLS Regression Results</caption>\n",
       "<tr>\n",
       "  <th>Dep. Variable:</th>          <td>price</td>      <th>  R-squared:         </th>  <td>   0.654</td>  \n",
       "</tr>\n",
       "<tr>\n",
       "  <th>Model:</th>                   <td>OLS</td>       <th>  Adj. R-squared:    </th>  <td>   0.654</td>  \n",
       "</tr>\n",
       "<tr>\n",
       "  <th>Method:</th>             <td>Least Squares</td>  <th>  F-statistic:       </th>  <td>   2721.</td>  \n",
       "</tr>\n",
       "<tr>\n",
       "  <th>Date:</th>             <td>Tue, 05 Dec 2017</td> <th>  Prob (F-statistic):</th>   <td>  0.00</td>   \n",
       "</tr>\n",
       "<tr>\n",
       "  <th>Time:</th>                 <td>18:18:26</td>     <th>  Log-Likelihood:    </th> <td>-2.9614e+05</td>\n",
       "</tr>\n",
       "<tr>\n",
       "  <th>No. Observations:</th>      <td> 21613</td>      <th>  AIC:               </th>  <td>5.923e+05</td> \n",
       "</tr>\n",
       "<tr>\n",
       "  <th>Df Residuals:</th>          <td> 21597</td>      <th>  BIC:               </th>  <td>5.924e+05</td> \n",
       "</tr>\n",
       "<tr>\n",
       "  <th>Df Model:</th>              <td>    15</td>      <th>                     </th>      <td> </td>     \n",
       "</tr>\n",
       "<tr>\n",
       "  <th>Covariance Type:</th>      <td>nonrobust</td>    <th>                     </th>      <td> </td>     \n",
       "</tr>\n",
       "</table>\n",
       "<table class=\"simpletable\">\n",
       "<tr>\n",
       "        <td></td>           <th>coef</th>     <th>std err</th>      <th>t</th>      <th>P>|t|</th>  <th>[0.025</th>    <th>0.975]</th>  \n",
       "</tr>\n",
       "<tr>\n",
       "  <th>Intercept</th>     <td> 6.198e+06</td> <td> 1.38e+05</td> <td>   44.784</td> <td> 0.000</td> <td> 5.93e+06</td> <td> 6.47e+06</td>\n",
       "</tr>\n",
       "<tr>\n",
       "  <th>id</th>            <td>-1.979e-06</td> <td> 5.17e-07</td> <td>   -3.828</td> <td> 0.000</td> <td>-2.99e-06</td> <td>-9.66e-07</td>\n",
       "</tr>\n",
       "<tr>\n",
       "  <th>bedrooms</th>      <td>-3.929e+04</td> <td> 2025.965</td> <td>  -19.394</td> <td> 0.000</td> <td>-4.33e+04</td> <td>-3.53e+04</td>\n",
       "</tr>\n",
       "<tr>\n",
       "  <th>bathrooms</th>     <td> 4.575e+04</td> <td> 3491.244</td> <td>   13.103</td> <td> 0.000</td> <td> 3.89e+04</td> <td> 5.26e+04</td>\n",
       "</tr>\n",
       "<tr>\n",
       "  <th>sqft_living</th>   <td>  109.1945</td> <td>    2.434</td> <td>   44.859</td> <td> 0.000</td> <td>  104.423</td> <td>  113.966</td>\n",
       "</tr>\n",
       "<tr>\n",
       "  <th>sqft_lot</th>      <td>   -0.0110</td> <td>    0.051</td> <td>   -0.214</td> <td> 0.830</td> <td>   -0.112</td> <td>    0.090</td>\n",
       "</tr>\n",
       "<tr>\n",
       "  <th>floors</th>        <td> 2.685e+04</td> <td> 3782.622</td> <td>    7.098</td> <td> 0.000</td> <td> 1.94e+04</td> <td> 3.43e+04</td>\n",
       "</tr>\n",
       "<tr>\n",
       "  <th>waterfront</th>    <td> 5.786e+05</td> <td> 1.86e+04</td> <td>   31.053</td> <td> 0.000</td> <td> 5.42e+05</td> <td> 6.15e+05</td>\n",
       "</tr>\n",
       "<tr>\n",
       "  <th>view</th>          <td> 4.344e+04</td> <td> 2273.107</td> <td>   19.113</td> <td> 0.000</td> <td>  3.9e+04</td> <td> 4.79e+04</td>\n",
       "</tr>\n",
       "<tr>\n",
       "  <th>condition</th>     <td> 1.935e+04</td> <td> 2496.328</td> <td>    7.752</td> <td> 0.000</td> <td> 1.45e+04</td> <td> 2.42e+04</td>\n",
       "</tr>\n",
       "<tr>\n",
       "  <th>grade</th>         <td> 1.198e+05</td> <td> 2248.519</td> <td>   53.277</td> <td> 0.000</td> <td> 1.15e+05</td> <td> 1.24e+05</td>\n",
       "</tr>\n",
       "<tr>\n",
       "  <th>sqft_above</th>    <td>   51.4943</td> <td>    2.355</td> <td>   21.864</td> <td> 0.000</td> <td>   46.878</td> <td>   56.111</td>\n",
       "</tr>\n",
       "<tr>\n",
       "  <th>sqft_basement</th> <td>   57.7002</td> <td>    2.781</td> <td>   20.747</td> <td> 0.000</td> <td>   52.249</td> <td>   63.151</td>\n",
       "</tr>\n",
       "<tr>\n",
       "  <th>yr_built</th>      <td>-3566.5304</td> <td>   70.972</td> <td>  -50.252</td> <td> 0.000</td> <td>-3705.642</td> <td>-3427.419</td>\n",
       "</tr>\n",
       "<tr>\n",
       "  <th>yr_renovated</th>  <td>    9.9621</td> <td>    3.913</td> <td>    2.546</td> <td> 0.011</td> <td>    2.292</td> <td>   17.632</td>\n",
       "</tr>\n",
       "<tr>\n",
       "  <th>sqft_living15</th> <td>   24.9591</td> <td>    3.599</td> <td>    6.934</td> <td> 0.000</td> <td>   17.904</td> <td>   32.014</td>\n",
       "</tr>\n",
       "<tr>\n",
       "  <th>sqft_lot15</th>    <td>   -0.5700</td> <td>    0.079</td> <td>   -7.261</td> <td> 0.000</td> <td>   -0.724</td> <td>   -0.416</td>\n",
       "</tr>\n",
       "</table>\n",
       "<table class=\"simpletable\">\n",
       "<tr>\n",
       "  <th>Omnibus:</th>       <td>16360.660</td> <th>  Durbin-Watson:     </th>  <td>   1.979</td>  \n",
       "</tr>\n",
       "<tr>\n",
       "  <th>Prob(Omnibus):</th>  <td> 0.000</td>   <th>  Jarque-Bera (JB):  </th> <td>1207596.715</td>\n",
       "</tr>\n",
       "<tr>\n",
       "  <th>Skew:</th>           <td> 3.036</td>   <th>  Prob(JB):          </th>  <td>    0.00</td>  \n",
       "</tr>\n",
       "<tr>\n",
       "  <th>Kurtosis:</th>       <td>39.112</td>   <th>  Cond. No.          </th>  <td>1.78e+22</td>  \n",
       "</tr>\n",
       "</table>"
      ],
      "text/plain": [
       "<class 'statsmodels.iolib.summary.Summary'>\n",
       "\"\"\"\n",
       "                            OLS Regression Results                            \n",
       "==============================================================================\n",
       "Dep. Variable:                  price   R-squared:                       0.654\n",
       "Model:                            OLS   Adj. R-squared:                  0.654\n",
       "Method:                 Least Squares   F-statistic:                     2721.\n",
       "Date:                Tue, 05 Dec 2017   Prob (F-statistic):               0.00\n",
       "Time:                        18:18:26   Log-Likelihood:            -2.9614e+05\n",
       "No. Observations:               21613   AIC:                         5.923e+05\n",
       "Df Residuals:                   21597   BIC:                         5.924e+05\n",
       "Df Model:                          15                                         \n",
       "Covariance Type:            nonrobust                                         \n",
       "=================================================================================\n",
       "                    coef    std err          t      P>|t|      [0.025      0.975]\n",
       "---------------------------------------------------------------------------------\n",
       "Intercept      6.198e+06   1.38e+05     44.784      0.000    5.93e+06    6.47e+06\n",
       "id            -1.979e-06   5.17e-07     -3.828      0.000   -2.99e-06   -9.66e-07\n",
       "bedrooms      -3.929e+04   2025.965    -19.394      0.000   -4.33e+04   -3.53e+04\n",
       "bathrooms      4.575e+04   3491.244     13.103      0.000    3.89e+04    5.26e+04\n",
       "sqft_living     109.1945      2.434     44.859      0.000     104.423     113.966\n",
       "sqft_lot         -0.0110      0.051     -0.214      0.830      -0.112       0.090\n",
       "floors         2.685e+04   3782.622      7.098      0.000    1.94e+04    3.43e+04\n",
       "waterfront     5.786e+05   1.86e+04     31.053      0.000    5.42e+05    6.15e+05\n",
       "view           4.344e+04   2273.107     19.113      0.000     3.9e+04    4.79e+04\n",
       "condition      1.935e+04   2496.328      7.752      0.000    1.45e+04    2.42e+04\n",
       "grade          1.198e+05   2248.519     53.277      0.000    1.15e+05    1.24e+05\n",
       "sqft_above       51.4943      2.355     21.864      0.000      46.878      56.111\n",
       "sqft_basement    57.7002      2.781     20.747      0.000      52.249      63.151\n",
       "yr_built      -3566.5304     70.972    -50.252      0.000   -3705.642   -3427.419\n",
       "yr_renovated      9.9621      3.913      2.546      0.011       2.292      17.632\n",
       "sqft_living15    24.9591      3.599      6.934      0.000      17.904      32.014\n",
       "sqft_lot15       -0.5700      0.079     -7.261      0.000      -0.724      -0.416\n",
       "==============================================================================\n",
       "Omnibus:                    16360.660   Durbin-Watson:                   1.979\n",
       "Prob(Omnibus):                  0.000   Jarque-Bera (JB):          1207596.715\n",
       "Skew:                           3.036   Prob(JB):                         0.00\n",
       "Kurtosis:                      39.112   Cond. No.                     1.78e+22\n",
       "==============================================================================\n",
       "\n",
       "Warnings:\n",
       "[1] Standard Errors assume that the covariance matrix of the errors is correctly specified.\n",
       "[2] The smallest eigenvalue is 1.99e-21. This might indicate that there are\n",
       "strong multicollinearity problems or that the design matrix is singular.\n",
       "\"\"\""
      ]
     },
     "execution_count": 78,
     "metadata": {},
     "output_type": "execute_result"
    }
   ],
   "source": [
    "lm = smf.ols(formula=formula, data = kc).fit()\n",
    "lm.summary()"
   ]
  },
  {
   "cell_type": "code",
   "execution_count": 79,
   "metadata": {},
   "outputs": [
    {
     "data": {
      "text/plain": [
       "'price ~ id + bedrooms + bathrooms + sqft_living + floors + waterfront + view + condition + grade + sqft_above + sqft_basement + yr_built + yr_renovated + sqft_living15 + sqft_lot15'"
      ]
     },
     "execution_count": 79,
     "metadata": {},
     "output_type": "execute_result"
    }
   ],
   "source": [
    "formula2 = formula.replace(\"sqft_lot + \", \"\")\n",
    "formula2"
   ]
  },
  {
   "cell_type": "code",
   "execution_count": 80,
   "metadata": {},
   "outputs": [
    {
     "data": {
      "text/html": [
       "<table class=\"simpletable\">\n",
       "<caption>OLS Regression Results</caption>\n",
       "<tr>\n",
       "  <th>Dep. Variable:</th>          <td>price</td>      <th>  R-squared:         </th>  <td>   0.654</td>  \n",
       "</tr>\n",
       "<tr>\n",
       "  <th>Model:</th>                   <td>OLS</td>       <th>  Adj. R-squared:    </th>  <td>   0.654</td>  \n",
       "</tr>\n",
       "<tr>\n",
       "  <th>Method:</th>             <td>Least Squares</td>  <th>  F-statistic:       </th>  <td>   2916.</td>  \n",
       "</tr>\n",
       "<tr>\n",
       "  <th>Date:</th>             <td>Tue, 05 Dec 2017</td> <th>  Prob (F-statistic):</th>   <td>  0.00</td>   \n",
       "</tr>\n",
       "<tr>\n",
       "  <th>Time:</th>                 <td>18:18:26</td>     <th>  Log-Likelihood:    </th> <td>-2.9614e+05</td>\n",
       "</tr>\n",
       "<tr>\n",
       "  <th>No. Observations:</th>      <td> 21613</td>      <th>  AIC:               </th>  <td>5.923e+05</td> \n",
       "</tr>\n",
       "<tr>\n",
       "  <th>Df Residuals:</th>          <td> 21598</td>      <th>  BIC:               </th>  <td>5.924e+05</td> \n",
       "</tr>\n",
       "<tr>\n",
       "  <th>Df Model:</th>              <td>    14</td>      <th>                     </th>      <td> </td>     \n",
       "</tr>\n",
       "<tr>\n",
       "  <th>Covariance Type:</th>      <td>nonrobust</td>    <th>                     </th>      <td> </td>     \n",
       "</tr>\n",
       "</table>\n",
       "<table class=\"simpletable\">\n",
       "<tr>\n",
       "        <td></td>           <th>coef</th>     <th>std err</th>      <th>t</th>      <th>P>|t|</th>  <th>[0.025</th>    <th>0.975]</th>  \n",
       "</tr>\n",
       "<tr>\n",
       "  <th>Intercept</th>     <td> 6.197e+06</td> <td> 1.38e+05</td> <td>   44.787</td> <td> 0.000</td> <td> 5.93e+06</td> <td> 6.47e+06</td>\n",
       "</tr>\n",
       "<tr>\n",
       "  <th>id</th>            <td>-1.974e-06</td> <td> 5.16e-07</td> <td>   -3.822</td> <td> 0.000</td> <td>-2.99e-06</td> <td>-9.61e-07</td>\n",
       "</tr>\n",
       "<tr>\n",
       "  <th>bedrooms</th>      <td>-3.928e+04</td> <td> 2025.339</td> <td>  -19.395</td> <td> 0.000</td> <td>-4.33e+04</td> <td>-3.53e+04</td>\n",
       "</tr>\n",
       "<tr>\n",
       "  <th>bathrooms</th>     <td> 4.574e+04</td> <td> 3491.074</td> <td>   13.102</td> <td> 0.000</td> <td> 3.89e+04</td> <td> 5.26e+04</td>\n",
       "</tr>\n",
       "<tr>\n",
       "  <th>sqft_living</th>   <td>  109.1705</td> <td>    2.432</td> <td>   44.898</td> <td> 0.000</td> <td>  104.405</td> <td>  113.937</td>\n",
       "</tr>\n",
       "<tr>\n",
       "  <th>floors</th>        <td> 2.688e+04</td> <td> 3779.945</td> <td>    7.111</td> <td> 0.000</td> <td> 1.95e+04</td> <td> 3.43e+04</td>\n",
       "</tr>\n",
       "<tr>\n",
       "  <th>waterfront</th>    <td> 5.786e+05</td> <td> 1.86e+04</td> <td>   31.063</td> <td> 0.000</td> <td> 5.42e+05</td> <td> 6.15e+05</td>\n",
       "</tr>\n",
       "<tr>\n",
       "  <th>view</th>          <td> 4.343e+04</td> <td> 2271.934</td> <td>   19.116</td> <td> 0.000</td> <td>  3.9e+04</td> <td> 4.79e+04</td>\n",
       "</tr>\n",
       "<tr>\n",
       "  <th>condition</th>     <td> 1.936e+04</td> <td> 2496.069</td> <td>    7.756</td> <td> 0.000</td> <td> 1.45e+04</td> <td> 2.43e+04</td>\n",
       "</tr>\n",
       "<tr>\n",
       "  <th>grade</th>         <td> 1.198e+05</td> <td> 2248.461</td> <td>   53.278</td> <td> 0.000</td> <td> 1.15e+05</td> <td> 1.24e+05</td>\n",
       "</tr>\n",
       "<tr>\n",
       "  <th>sqft_above</th>    <td>   51.4567</td> <td>    2.349</td> <td>   21.909</td> <td> 0.000</td> <td>   46.853</td> <td>   56.060</td>\n",
       "</tr>\n",
       "<tr>\n",
       "  <th>sqft_basement</th> <td>   57.7139</td> <td>    2.780</td> <td>   20.758</td> <td> 0.000</td> <td>   52.264</td> <td>   63.164</td>\n",
       "</tr>\n",
       "<tr>\n",
       "  <th>yr_built</th>      <td>-3566.3462</td> <td>   70.966</td> <td>  -50.255</td> <td> 0.000</td> <td>-3705.444</td> <td>-3427.248</td>\n",
       "</tr>\n",
       "<tr>\n",
       "  <th>yr_renovated</th>  <td>    9.9694</td> <td>    3.913</td> <td>    2.548</td> <td> 0.011</td> <td>    2.300</td> <td>   17.639</td>\n",
       "</tr>\n",
       "<tr>\n",
       "  <th>sqft_living15</th> <td>   24.9993</td> <td>    3.594</td> <td>    6.955</td> <td> 0.000</td> <td>   17.954</td> <td>   32.044</td>\n",
       "</tr>\n",
       "<tr>\n",
       "  <th>sqft_lot15</th>    <td>   -0.5817</td> <td>    0.056</td> <td>  -10.318</td> <td> 0.000</td> <td>   -0.692</td> <td>   -0.471</td>\n",
       "</tr>\n",
       "</table>\n",
       "<table class=\"simpletable\">\n",
       "<tr>\n",
       "  <th>Omnibus:</th>       <td>16362.392</td> <th>  Durbin-Watson:     </th>  <td>   1.979</td>  \n",
       "</tr>\n",
       "<tr>\n",
       "  <th>Prob(Omnibus):</th>  <td> 0.000</td>   <th>  Jarque-Bera (JB):  </th> <td>1208174.014</td>\n",
       "</tr>\n",
       "<tr>\n",
       "  <th>Skew:</th>           <td> 3.036</td>   <th>  Prob(JB):          </th>  <td>    0.00</td>  \n",
       "</tr>\n",
       "<tr>\n",
       "  <th>Kurtosis:</th>       <td>39.121</td>   <th>  Cond. No.          </th>  <td>1.82e+22</td>  \n",
       "</tr>\n",
       "</table>"
      ],
      "text/plain": [
       "<class 'statsmodels.iolib.summary.Summary'>\n",
       "\"\"\"\n",
       "                            OLS Regression Results                            \n",
       "==============================================================================\n",
       "Dep. Variable:                  price   R-squared:                       0.654\n",
       "Model:                            OLS   Adj. R-squared:                  0.654\n",
       "Method:                 Least Squares   F-statistic:                     2916.\n",
       "Date:                Tue, 05 Dec 2017   Prob (F-statistic):               0.00\n",
       "Time:                        18:18:26   Log-Likelihood:            -2.9614e+05\n",
       "No. Observations:               21613   AIC:                         5.923e+05\n",
       "Df Residuals:                   21598   BIC:                         5.924e+05\n",
       "Df Model:                          14                                         \n",
       "Covariance Type:            nonrobust                                         \n",
       "=================================================================================\n",
       "                    coef    std err          t      P>|t|      [0.025      0.975]\n",
       "---------------------------------------------------------------------------------\n",
       "Intercept      6.197e+06   1.38e+05     44.787      0.000    5.93e+06    6.47e+06\n",
       "id            -1.974e-06   5.16e-07     -3.822      0.000   -2.99e-06   -9.61e-07\n",
       "bedrooms      -3.928e+04   2025.339    -19.395      0.000   -4.33e+04   -3.53e+04\n",
       "bathrooms      4.574e+04   3491.074     13.102      0.000    3.89e+04    5.26e+04\n",
       "sqft_living     109.1705      2.432     44.898      0.000     104.405     113.937\n",
       "floors         2.688e+04   3779.945      7.111      0.000    1.95e+04    3.43e+04\n",
       "waterfront     5.786e+05   1.86e+04     31.063      0.000    5.42e+05    6.15e+05\n",
       "view           4.343e+04   2271.934     19.116      0.000     3.9e+04    4.79e+04\n",
       "condition      1.936e+04   2496.069      7.756      0.000    1.45e+04    2.43e+04\n",
       "grade          1.198e+05   2248.461     53.278      0.000    1.15e+05    1.24e+05\n",
       "sqft_above       51.4567      2.349     21.909      0.000      46.853      56.060\n",
       "sqft_basement    57.7139      2.780     20.758      0.000      52.264      63.164\n",
       "yr_built      -3566.3462     70.966    -50.255      0.000   -3705.444   -3427.248\n",
       "yr_renovated      9.9694      3.913      2.548      0.011       2.300      17.639\n",
       "sqft_living15    24.9993      3.594      6.955      0.000      17.954      32.044\n",
       "sqft_lot15       -0.5817      0.056    -10.318      0.000      -0.692      -0.471\n",
       "==============================================================================\n",
       "Omnibus:                    16362.392   Durbin-Watson:                   1.979\n",
       "Prob(Omnibus):                  0.000   Jarque-Bera (JB):          1208174.014\n",
       "Skew:                           3.036   Prob(JB):                         0.00\n",
       "Kurtosis:                      39.121   Cond. No.                     1.82e+22\n",
       "==============================================================================\n",
       "\n",
       "Warnings:\n",
       "[1] Standard Errors assume that the covariance matrix of the errors is correctly specified.\n",
       "[2] The smallest eigenvalue is 1.9e-21. This might indicate that there are\n",
       "strong multicollinearity problems or that the design matrix is singular.\n",
       "\"\"\""
      ]
     },
     "execution_count": 80,
     "metadata": {},
     "output_type": "execute_result"
    }
   ],
   "source": [
    "lm2 = smf.ols(formula = formula2, data = kc).fit()\n",
    "lm2.summary()"
   ]
  },
  {
   "cell_type": "code",
   "execution_count": 81,
   "metadata": {},
   "outputs": [
    {
     "data": {
      "text/plain": [
       "0.65156245278702851"
      ]
     },
     "execution_count": 81,
     "metadata": {},
     "output_type": "execute_result"
    }
   ],
   "source": [
    "#use sklearn this time\n",
    "\n",
    "X = kc.drop([\"price\", \"sqft_above\", \"sqft_basement\", \"sqft_lot\", \"sqft_living15\", \"sqft_lot15\"], axis = 1)\n",
    "y = kc.price\n",
    "lr = LinearRegression()\n",
    "\n",
    "lr.fit(X, y)\n",
    "lr.score(X, y)"
   ]
  },
  {
   "cell_type": "markdown",
   "metadata": {},
   "source": [
    "What is the basic information we want to know first?"
   ]
  },
  {
   "cell_type": "code",
   "execution_count": 82,
   "metadata": {
    "collapsed": true
   },
   "outputs": [],
   "source": [
    "cols = kc.corr().drop(\"price\", axis = 1).abs().sum().sort_values()"
   ]
  },
  {
   "cell_type": "code",
   "execution_count": 83,
   "metadata": {},
   "outputs": [
    {
     "data": {
      "text/plain": [
       "id               1.428306\n",
       "yr_renovated     1.884107\n",
       "waterfront       2.378697\n",
       "condition        2.602976\n",
       "sqft_lot         2.860820\n",
       "sqft_lot15       2.950037\n",
       "view             3.719054\n",
       "sqft_basement    3.785917\n",
       "bedrooms         4.455470\n",
       "floors           4.642046\n",
       "yr_built         4.663101\n",
       "sqft_living15    6.346712\n",
       "bathrooms        6.612365\n",
       "grade            6.728933\n",
       "sqft_above       6.942253\n",
       "sqft_living      7.407047\n",
       "dtype: float64"
      ]
     },
     "execution_count": 83,
     "metadata": {},
     "output_type": "execute_result"
    }
   ],
   "source": [
    "cols"
   ]
  },
  {
   "cell_type": "code",
   "execution_count": 84,
   "metadata": {},
   "outputs": [
    {
     "ename": "KeyError",
     "evalue": "'[ 1.42830614  1.88410701  2.37869675  2.60297645  2.86081956  2.95003685\\n  3.71905423  3.785917    4.45546972  4.64204564  4.66310123  6.34671248\\n  6.61236518  6.72893349  6.94225265  7.40704689] not in index'",
     "output_type": "error",
     "traceback": [
      "\u001b[0;31m---------------------------------------------------------------------------\u001b[0m",
      "\u001b[0;31mKeyError\u001b[0m                                  Traceback (most recent call last)",
      "\u001b[0;32m<ipython-input-84-d9fc4b76214c>\u001b[0m in \u001b[0;36m<module>\u001b[0;34m()\u001b[0m\n\u001b[0;32m----> 1\u001b[0;31m \u001b[0mX\u001b[0m \u001b[0;34m=\u001b[0m \u001b[0mkc\u001b[0m\u001b[0;34m[\u001b[0m\u001b[0mcols\u001b[0m\u001b[0;34m]\u001b[0m\u001b[0;34m\u001b[0m\u001b[0m\n\u001b[0m\u001b[1;32m      2\u001b[0m \u001b[0my\u001b[0m \u001b[0;34m=\u001b[0m \u001b[0mkc\u001b[0m\u001b[0;34m.\u001b[0m\u001b[0mprice\u001b[0m\u001b[0;34m\u001b[0m\u001b[0m\n\u001b[1;32m      3\u001b[0m \u001b[0;34m\u001b[0m\u001b[0m\n\u001b[1;32m      4\u001b[0m \u001b[0mlr\u001b[0m \u001b[0;34m=\u001b[0m \u001b[0mLinearRegression\u001b[0m\u001b[0;34m(\u001b[0m\u001b[0;34m)\u001b[0m\u001b[0;34m\u001b[0m\u001b[0m\n\u001b[1;32m      5\u001b[0m \u001b[0mlr\u001b[0m\u001b[0;34m.\u001b[0m\u001b[0mfit\u001b[0m\u001b[0;34m(\u001b[0m\u001b[0mX\u001b[0m\u001b[0;34m,\u001b[0m \u001b[0my\u001b[0m\u001b[0;34m)\u001b[0m\u001b[0;34m\u001b[0m\u001b[0m\n",
      "\u001b[0;32m/Users/darrenklee/anaconda2/lib/python2.7/site-packages/pandas/core/frame.pyc\u001b[0m in \u001b[0;36m__getitem__\u001b[0;34m(self, key)\u001b[0m\n\u001b[1;32m   1956\u001b[0m         \u001b[0;32mif\u001b[0m \u001b[0misinstance\u001b[0m\u001b[0;34m(\u001b[0m\u001b[0mkey\u001b[0m\u001b[0;34m,\u001b[0m \u001b[0;34m(\u001b[0m\u001b[0mSeries\u001b[0m\u001b[0;34m,\u001b[0m \u001b[0mnp\u001b[0m\u001b[0;34m.\u001b[0m\u001b[0mndarray\u001b[0m\u001b[0;34m,\u001b[0m \u001b[0mIndex\u001b[0m\u001b[0;34m,\u001b[0m \u001b[0mlist\u001b[0m\u001b[0;34m)\u001b[0m\u001b[0;34m)\u001b[0m\u001b[0;34m:\u001b[0m\u001b[0;34m\u001b[0m\u001b[0m\n\u001b[1;32m   1957\u001b[0m             \u001b[0;31m# either boolean or fancy integer index\u001b[0m\u001b[0;34m\u001b[0m\u001b[0;34m\u001b[0m\u001b[0m\n\u001b[0;32m-> 1958\u001b[0;31m             \u001b[0;32mreturn\u001b[0m \u001b[0mself\u001b[0m\u001b[0;34m.\u001b[0m\u001b[0m_getitem_array\u001b[0m\u001b[0;34m(\u001b[0m\u001b[0mkey\u001b[0m\u001b[0;34m)\u001b[0m\u001b[0;34m\u001b[0m\u001b[0m\n\u001b[0m\u001b[1;32m   1959\u001b[0m         \u001b[0;32melif\u001b[0m \u001b[0misinstance\u001b[0m\u001b[0;34m(\u001b[0m\u001b[0mkey\u001b[0m\u001b[0;34m,\u001b[0m \u001b[0mDataFrame\u001b[0m\u001b[0;34m)\u001b[0m\u001b[0;34m:\u001b[0m\u001b[0;34m\u001b[0m\u001b[0m\n\u001b[1;32m   1960\u001b[0m             \u001b[0;32mreturn\u001b[0m \u001b[0mself\u001b[0m\u001b[0;34m.\u001b[0m\u001b[0m_getitem_frame\u001b[0m\u001b[0;34m(\u001b[0m\u001b[0mkey\u001b[0m\u001b[0;34m)\u001b[0m\u001b[0;34m\u001b[0m\u001b[0m\n",
      "\u001b[0;32m/Users/darrenklee/anaconda2/lib/python2.7/site-packages/pandas/core/frame.pyc\u001b[0m in \u001b[0;36m_getitem_array\u001b[0;34m(self, key)\u001b[0m\n\u001b[1;32m   2000\u001b[0m             \u001b[0;32mreturn\u001b[0m \u001b[0mself\u001b[0m\u001b[0;34m.\u001b[0m\u001b[0mtake\u001b[0m\u001b[0;34m(\u001b[0m\u001b[0mindexer\u001b[0m\u001b[0;34m,\u001b[0m \u001b[0maxis\u001b[0m\u001b[0;34m=\u001b[0m\u001b[0;36m0\u001b[0m\u001b[0;34m,\u001b[0m \u001b[0mconvert\u001b[0m\u001b[0;34m=\u001b[0m\u001b[0mFalse\u001b[0m\u001b[0;34m)\u001b[0m\u001b[0;34m\u001b[0m\u001b[0m\n\u001b[1;32m   2001\u001b[0m         \u001b[0;32melse\u001b[0m\u001b[0;34m:\u001b[0m\u001b[0;34m\u001b[0m\u001b[0m\n\u001b[0;32m-> 2002\u001b[0;31m             \u001b[0mindexer\u001b[0m \u001b[0;34m=\u001b[0m \u001b[0mself\u001b[0m\u001b[0;34m.\u001b[0m\u001b[0mloc\u001b[0m\u001b[0;34m.\u001b[0m\u001b[0m_convert_to_indexer\u001b[0m\u001b[0;34m(\u001b[0m\u001b[0mkey\u001b[0m\u001b[0;34m,\u001b[0m \u001b[0maxis\u001b[0m\u001b[0;34m=\u001b[0m\u001b[0;36m1\u001b[0m\u001b[0;34m)\u001b[0m\u001b[0;34m\u001b[0m\u001b[0m\n\u001b[0m\u001b[1;32m   2003\u001b[0m             \u001b[0;32mreturn\u001b[0m \u001b[0mself\u001b[0m\u001b[0;34m.\u001b[0m\u001b[0mtake\u001b[0m\u001b[0;34m(\u001b[0m\u001b[0mindexer\u001b[0m\u001b[0;34m,\u001b[0m \u001b[0maxis\u001b[0m\u001b[0;34m=\u001b[0m\u001b[0;36m1\u001b[0m\u001b[0;34m,\u001b[0m \u001b[0mconvert\u001b[0m\u001b[0;34m=\u001b[0m\u001b[0mTrue\u001b[0m\u001b[0;34m)\u001b[0m\u001b[0;34m\u001b[0m\u001b[0m\n\u001b[1;32m   2004\u001b[0m \u001b[0;34m\u001b[0m\u001b[0m\n",
      "\u001b[0;32m/Users/darrenklee/anaconda2/lib/python2.7/site-packages/pandas/core/indexing.pyc\u001b[0m in \u001b[0;36m_convert_to_indexer\u001b[0;34m(self, obj, axis, is_setter)\u001b[0m\n\u001b[1;32m   1229\u001b[0m                 \u001b[0mmask\u001b[0m \u001b[0;34m=\u001b[0m \u001b[0mcheck\u001b[0m \u001b[0;34m==\u001b[0m \u001b[0;34m-\u001b[0m\u001b[0;36m1\u001b[0m\u001b[0;34m\u001b[0m\u001b[0m\n\u001b[1;32m   1230\u001b[0m                 \u001b[0;32mif\u001b[0m \u001b[0mmask\u001b[0m\u001b[0;34m.\u001b[0m\u001b[0many\u001b[0m\u001b[0;34m(\u001b[0m\u001b[0;34m)\u001b[0m\u001b[0;34m:\u001b[0m\u001b[0;34m\u001b[0m\u001b[0m\n\u001b[0;32m-> 1231\u001b[0;31m                     \u001b[0;32mraise\u001b[0m \u001b[0mKeyError\u001b[0m\u001b[0;34m(\u001b[0m\u001b[0;34m'%s not in index'\u001b[0m \u001b[0;34m%\u001b[0m \u001b[0mobjarr\u001b[0m\u001b[0;34m[\u001b[0m\u001b[0mmask\u001b[0m\u001b[0;34m]\u001b[0m\u001b[0;34m)\u001b[0m\u001b[0;34m\u001b[0m\u001b[0m\n\u001b[0m\u001b[1;32m   1232\u001b[0m \u001b[0;34m\u001b[0m\u001b[0m\n\u001b[1;32m   1233\u001b[0m                 \u001b[0;32mreturn\u001b[0m \u001b[0m_values_from_object\u001b[0m\u001b[0;34m(\u001b[0m\u001b[0mindexer\u001b[0m\u001b[0;34m)\u001b[0m\u001b[0;34m\u001b[0m\u001b[0m\n",
      "\u001b[0;31mKeyError\u001b[0m: '[ 1.42830614  1.88410701  2.37869675  2.60297645  2.86081956  2.95003685\\n  3.71905423  3.785917    4.45546972  4.64204564  4.66310123  6.34671248\\n  6.61236518  6.72893349  6.94225265  7.40704689] not in index'"
     ]
    }
   ],
   "source": [
    "X = kc[cols]\n",
    "y = kc.price\n",
    "\n",
    "lr = LinearRegression()\n",
    "lr.fit(X, y)\n",
    "lr.score(X, y)"
   ]
  },
  {
   "cell_type": "code",
   "execution_count": null,
   "metadata": {
    "collapsed": true
   },
   "outputs": [],
   "source": []
  },
  {
   "cell_type": "code",
   "execution_count": null,
   "metadata": {
    "collapsed": true
   },
   "outputs": [],
   "source": [
    "#cherry pick features to beat 65%!!!\n",
    "cols_fe = [\"waterfront\", \"sqft_living\", \"grade\", \"sqft_above\", \"sqft_basement\", \"yr_built\", \"bedrooms\", \"view\", \"condition\"]\n",
    "X = kc.drop([\"price\"], axis = 1)\n",
    "\n",
    "X = kc[cols_fe]\n",
    "y = kc.price\n",
    "lr = LinearRegression()\n",
    "\n",
    "lr.fit(X, y)\n",
    "lr.score(X, y)"
   ]
  },
  {
   "cell_type": "code",
   "execution_count": null,
   "metadata": {
    "collapsed": true
   },
   "outputs": [],
   "source": [
    "X = kc.drop([\"price\"], axis = 1)\n",
    "\n",
    "lr = LinearRegression()\n",
    "lr.fit(X, y)\n",
    "preds = lr.preditct(X)\n",
    "np.sqrt(metrics.mean_squared_error(y, preds))"
   ]
  },
  {
   "cell_type": "code",
   "execution_count": null,
   "metadata": {
    "collapsed": true
   },
   "outputs": [],
   "source": [
    "y.describe().round()"
   ]
  },
  {
   "cell_type": "code",
   "execution_count": null,
   "metadata": {
    "collapsed": true
   },
   "outputs": [],
   "source": [
    "#Z-Score\n",
    "\n",
    "(216029 - y.mean())/(float(y.std()))"
   ]
  },
  {
   "cell_type": "code",
   "execution_count": 111,
   "metadata": {
    "collapsed": true
   },
   "outputs": [],
   "source": [
    "#Try Combinations for across all features\n",
    "from itertools import combinations"
   ]
  },
  {
   "cell_type": "code",
   "execution_count": 115,
   "metadata": {
    "collapsed": true
   },
   "outputs": [],
   "source": [
    "def kc_model(features):\n",
    "    X = kc[features]\n",
    "    lr = LinearRegression()\n",
    "    lr.fit(X, y)\n",
    "    preds = lr.predict(X)\n",
    "    return np.sqrt(metrics.mean_squared_error(X, y))\n",
    "\n",
    "\n",
    "def kc_model(features):\n",
    "    X = kc[features]\n",
    "    lr = LinearRegression()\n",
    "    lr.fit(X, y)\n",
    "    return lr.score(X, y)"
   ]
  },
  {
   "cell_type": "code",
   "execution_count": 116,
   "metadata": {
    "collapsed": true
   },
   "outputs": [],
   "source": [
    "combos_kc = combinations(kc.drop(\"price\", axis = 1).columns, 6)\n",
    "\n",
    "combos_kc = list(combos_kc)"
   ]
  },
  {
   "cell_type": "code",
   "execution_count": 117,
   "metadata": {},
   "outputs": [
    {
     "ename": "ValueError",
     "evalue": "y_true and y_pred have different number of output (6!=1)",
     "output_type": "error",
     "traceback": [
      "\u001b[0;31m---------------------------------------------------------------------------\u001b[0m",
      "\u001b[0;31mValueError\u001b[0m                                Traceback (most recent call last)",
      "\u001b[0;32m<ipython-input-117-0510f034f5d9>\u001b[0m in \u001b[0;36m<module>\u001b[0;34m()\u001b[0m\n\u001b[1;32m      3\u001b[0m \u001b[0;32mfor\u001b[0m \u001b[0mi\u001b[0m \u001b[0;32min\u001b[0m \u001b[0mcombos_kc\u001b[0m\u001b[0;34m:\u001b[0m\u001b[0;34m\u001b[0m\u001b[0m\n\u001b[1;32m      4\u001b[0m     \u001b[0mi\u001b[0m \u001b[0;34m=\u001b[0m \u001b[0mlist\u001b[0m\u001b[0;34m(\u001b[0m\u001b[0mi\u001b[0m\u001b[0;34m)\u001b[0m\u001b[0;34m\u001b[0m\u001b[0m\n\u001b[0;32m----> 5\u001b[0;31m     \u001b[0mscore\u001b[0m \u001b[0;34m=\u001b[0m \u001b[0mkc_model\u001b[0m\u001b[0;34m(\u001b[0m\u001b[0mi\u001b[0m\u001b[0;34m)\u001b[0m\u001b[0;34m\u001b[0m\u001b[0m\n\u001b[0m\u001b[1;32m      6\u001b[0m     \u001b[0mscores\u001b[0m\u001b[0;34m.\u001b[0m\u001b[0mappend\u001b[0m\u001b[0;34m(\u001b[0m\u001b[0mscore\u001b[0m\u001b[0;34m)\u001b[0m\u001b[0;34m\u001b[0m\u001b[0m\n",
      "\u001b[0;32m<ipython-input-115-f394b0992ec7>\u001b[0m in \u001b[0;36mkc_model\u001b[0;34m(features)\u001b[0m\n\u001b[1;32m      4\u001b[0m     \u001b[0mlr\u001b[0m\u001b[0;34m.\u001b[0m\u001b[0mfit\u001b[0m\u001b[0;34m(\u001b[0m\u001b[0mX\u001b[0m\u001b[0;34m,\u001b[0m \u001b[0my\u001b[0m\u001b[0;34m)\u001b[0m\u001b[0;34m\u001b[0m\u001b[0m\n\u001b[1;32m      5\u001b[0m     \u001b[0mpreds\u001b[0m \u001b[0;34m=\u001b[0m \u001b[0mlr\u001b[0m\u001b[0;34m.\u001b[0m\u001b[0mpredict\u001b[0m\u001b[0;34m(\u001b[0m\u001b[0mX\u001b[0m\u001b[0;34m)\u001b[0m\u001b[0;34m\u001b[0m\u001b[0m\n\u001b[0;32m----> 6\u001b[0;31m     \u001b[0;32mreturn\u001b[0m \u001b[0mnp\u001b[0m\u001b[0;34m.\u001b[0m\u001b[0msqrt\u001b[0m\u001b[0;34m(\u001b[0m\u001b[0mmetrics\u001b[0m\u001b[0;34m.\u001b[0m\u001b[0mmean_squared_error\u001b[0m\u001b[0;34m(\u001b[0m\u001b[0mX\u001b[0m\u001b[0;34m,\u001b[0m \u001b[0my\u001b[0m\u001b[0;34m)\u001b[0m\u001b[0;34m)\u001b[0m\u001b[0;34m\u001b[0m\u001b[0m\n\u001b[0m",
      "\u001b[0;32m/Users/darrenklee/anaconda2/lib/python2.7/site-packages/sklearn/metrics/regression.pyc\u001b[0m in \u001b[0;36mmean_squared_error\u001b[0;34m(y_true, y_pred, sample_weight, multioutput)\u001b[0m\n\u001b[1;32m    236\u001b[0m     \"\"\"\n\u001b[1;32m    237\u001b[0m     y_type, y_true, y_pred, multioutput = _check_reg_targets(\n\u001b[0;32m--> 238\u001b[0;31m         y_true, y_pred, multioutput)\n\u001b[0m\u001b[1;32m    239\u001b[0m     output_errors = np.average((y_true - y_pred) ** 2, axis=0,\n\u001b[1;32m    240\u001b[0m                                weights=sample_weight)\n",
      "\u001b[0;32m/Users/darrenklee/anaconda2/lib/python2.7/site-packages/sklearn/metrics/regression.pyc\u001b[0m in \u001b[0;36m_check_reg_targets\u001b[0;34m(y_true, y_pred, multioutput)\u001b[0m\n\u001b[1;32m     85\u001b[0m     \u001b[0;32mif\u001b[0m \u001b[0my_true\u001b[0m\u001b[0;34m.\u001b[0m\u001b[0mshape\u001b[0m\u001b[0;34m[\u001b[0m\u001b[0;36m1\u001b[0m\u001b[0;34m]\u001b[0m \u001b[0;34m!=\u001b[0m \u001b[0my_pred\u001b[0m\u001b[0;34m.\u001b[0m\u001b[0mshape\u001b[0m\u001b[0;34m[\u001b[0m\u001b[0;36m1\u001b[0m\u001b[0;34m]\u001b[0m\u001b[0;34m:\u001b[0m\u001b[0;34m\u001b[0m\u001b[0m\n\u001b[1;32m     86\u001b[0m         raise ValueError(\"y_true and y_pred have different number of output \"\n\u001b[0;32m---> 87\u001b[0;31m                          \"({0}!={1})\".format(y_true.shape[1], y_pred.shape[1]))\n\u001b[0m\u001b[1;32m     88\u001b[0m \u001b[0;34m\u001b[0m\u001b[0m\n\u001b[1;32m     89\u001b[0m     \u001b[0mn_outputs\u001b[0m \u001b[0;34m=\u001b[0m \u001b[0my_true\u001b[0m\u001b[0;34m.\u001b[0m\u001b[0mshape\u001b[0m\u001b[0;34m[\u001b[0m\u001b[0;36m1\u001b[0m\u001b[0;34m]\u001b[0m\u001b[0;34m\u001b[0m\u001b[0m\n",
      "\u001b[0;31mValueError\u001b[0m: y_true and y_pred have different number of output (6!=1)"
     ]
    }
   ],
   "source": [
    "scores = []\n",
    "\n",
    "for i in combos_kc:\n",
    "    i = list(i)\n",
    "    score = kc_model(i)\n",
    "    scores.append(score)"
   ]
  },
  {
   "cell_type": "code",
   "execution_count": 106,
   "metadata": {},
   "outputs": [
    {
     "data": {
      "text/plain": [
       "[(('id', 'bedrooms', 'bathrooms', 'sqft_living', 'sqft_lot', 'floors'), 20.0),\n",
       " (('id', 'bedrooms', 'bathrooms', 'sqft_living', 'sqft_lot', 'waterfront'),\n",
       "  20.0),\n",
       " (('id', 'bedrooms', 'bathrooms', 'sqft_living', 'sqft_lot', 'view'), 20.0),\n",
       " (('id', 'bedrooms', 'bathrooms', 'sqft_living', 'sqft_lot', 'condition'),\n",
       "  20.0),\n",
       " (('id', 'bedrooms', 'bathrooms', 'sqft_living', 'sqft_lot', 'grade'), 20.0),\n",
       " (('id', 'bedrooms', 'bathrooms', 'sqft_living', 'sqft_lot', 'sqft_above'),\n",
       "  20.0),\n",
       " (('id', 'bedrooms', 'bathrooms', 'sqft_living', 'sqft_lot', 'sqft_basement'),\n",
       "  20.0),\n",
       " (('id', 'bedrooms', 'bathrooms', 'sqft_living', 'sqft_lot', 'yr_built'),\n",
       "  20.0),\n",
       " (('id', 'bedrooms', 'bathrooms', 'sqft_living', 'sqft_lot', 'yr_renovated'),\n",
       "  20.0),\n",
       " (('id', 'bedrooms', 'bathrooms', 'sqft_living', 'sqft_lot', 'sqft_living15'),\n",
       "  20.0),\n",
       " (('id', 'bedrooms', 'bathrooms', 'sqft_living', 'sqft_lot', 'sqft_lot15'),\n",
       "  20.0),\n",
       " (('id', 'bedrooms', 'bathrooms', 'sqft_living', 'floors', 'waterfront'),\n",
       "  20.0),\n",
       " (('id', 'bedrooms', 'bathrooms', 'sqft_living', 'floors', 'view'), 20.0),\n",
       " (('id', 'bedrooms', 'bathrooms', 'sqft_living', 'floors', 'condition'), 20.0),\n",
       " (('id', 'bedrooms', 'bathrooms', 'sqft_living', 'floors', 'grade'), 20.0),\n",
       " (('id', 'bedrooms', 'bathrooms', 'sqft_living', 'floors', 'sqft_above'),\n",
       "  20.0),\n",
       " (('id', 'bedrooms', 'bathrooms', 'sqft_living', 'floors', 'sqft_basement'),\n",
       "  20.0),\n",
       " (('id', 'bedrooms', 'bathrooms', 'sqft_living', 'floors', 'yr_built'), 20.0),\n",
       " (('id', 'bedrooms', 'bathrooms', 'sqft_living', 'floors', 'yr_renovated'),\n",
       "  20.0),\n",
       " (('id', 'bedrooms', 'bathrooms', 'sqft_living', 'floors', 'sqft_living15'),\n",
       "  20.0),\n",
       " (('id', 'bedrooms', 'bathrooms', 'sqft_living', 'floors', 'sqft_lot15'),\n",
       "  20.0),\n",
       " (('id', 'bedrooms', 'bathrooms', 'sqft_living', 'waterfront', 'view'), 20.0),\n",
       " (('id', 'bedrooms', 'bathrooms', 'sqft_living', 'waterfront', 'condition'),\n",
       "  20.0),\n",
       " (('id', 'bedrooms', 'bathrooms', 'sqft_living', 'waterfront', 'grade'), 20.0),\n",
       " (('id', 'bedrooms', 'bathrooms', 'sqft_living', 'waterfront', 'sqft_above'),\n",
       "  20.0),\n",
       " (('id',\n",
       "   'bedrooms',\n",
       "   'bathrooms',\n",
       "   'sqft_living',\n",
       "   'waterfront',\n",
       "   'sqft_basement'),\n",
       "  20.0),\n",
       " (('id', 'bedrooms', 'bathrooms', 'sqft_living', 'waterfront', 'yr_built'),\n",
       "  20.0),\n",
       " (('id', 'bedrooms', 'bathrooms', 'sqft_living', 'waterfront', 'yr_renovated'),\n",
       "  20.0),\n",
       " (('id',\n",
       "   'bedrooms',\n",
       "   'bathrooms',\n",
       "   'sqft_living',\n",
       "   'waterfront',\n",
       "   'sqft_living15'),\n",
       "  20.0),\n",
       " (('id', 'bedrooms', 'bathrooms', 'sqft_living', 'waterfront', 'sqft_lot15'),\n",
       "  20.0),\n",
       " (('id', 'bedrooms', 'bathrooms', 'sqft_living', 'view', 'condition'), 20.0),\n",
       " (('id', 'bedrooms', 'bathrooms', 'sqft_living', 'view', 'grade'), 20.0),\n",
       " (('id', 'bedrooms', 'bathrooms', 'sqft_living', 'view', 'sqft_above'), 20.0),\n",
       " (('id', 'bedrooms', 'bathrooms', 'sqft_living', 'view', 'sqft_basement'),\n",
       "  20.0),\n",
       " (('id', 'bedrooms', 'bathrooms', 'sqft_living', 'view', 'yr_built'), 20.0),\n",
       " (('id', 'bedrooms', 'bathrooms', 'sqft_living', 'view', 'yr_renovated'),\n",
       "  20.0),\n",
       " (('id', 'bedrooms', 'bathrooms', 'sqft_living', 'view', 'sqft_living15'),\n",
       "  20.0),\n",
       " (('id', 'bedrooms', 'bathrooms', 'sqft_living', 'view', 'sqft_lot15'), 20.0),\n",
       " (('id', 'bedrooms', 'bathrooms', 'sqft_living', 'condition', 'grade'), 20.0),\n",
       " (('id', 'bedrooms', 'bathrooms', 'sqft_living', 'condition', 'sqft_above'),\n",
       "  20.0),\n",
       " (('id', 'bedrooms', 'bathrooms', 'sqft_living', 'condition', 'sqft_basement'),\n",
       "  20.0),\n",
       " (('id', 'bedrooms', 'bathrooms', 'sqft_living', 'condition', 'yr_built'),\n",
       "  20.0),\n",
       " (('id', 'bedrooms', 'bathrooms', 'sqft_living', 'condition', 'yr_renovated'),\n",
       "  20.0),\n",
       " (('id', 'bedrooms', 'bathrooms', 'sqft_living', 'condition', 'sqft_living15'),\n",
       "  20.0),\n",
       " (('id', 'bedrooms', 'bathrooms', 'sqft_living', 'condition', 'sqft_lot15'),\n",
       "  20.0),\n",
       " (('id', 'bedrooms', 'bathrooms', 'sqft_living', 'grade', 'sqft_above'), 20.0),\n",
       " (('id', 'bedrooms', 'bathrooms', 'sqft_living', 'grade', 'sqft_basement'),\n",
       "  20.0),\n",
       " (('id', 'bedrooms', 'bathrooms', 'sqft_living', 'grade', 'yr_built'), 20.0),\n",
       " (('id', 'bedrooms', 'bathrooms', 'sqft_living', 'grade', 'yr_renovated'),\n",
       "  20.0),\n",
       " (('id', 'bedrooms', 'bathrooms', 'sqft_living', 'grade', 'sqft_living15'),\n",
       "  20.0),\n",
       " (('id', 'bedrooms', 'bathrooms', 'sqft_living', 'grade', 'sqft_lot15'), 20.0),\n",
       " (('id',\n",
       "   'bedrooms',\n",
       "   'bathrooms',\n",
       "   'sqft_living',\n",
       "   'sqft_above',\n",
       "   'sqft_basement'),\n",
       "  20.0),\n",
       " (('id', 'bedrooms', 'bathrooms', 'sqft_living', 'sqft_above', 'yr_built'),\n",
       "  20.0),\n",
       " (('id', 'bedrooms', 'bathrooms', 'sqft_living', 'sqft_above', 'yr_renovated'),\n",
       "  20.0),\n",
       " (('id',\n",
       "   'bedrooms',\n",
       "   'bathrooms',\n",
       "   'sqft_living',\n",
       "   'sqft_above',\n",
       "   'sqft_living15'),\n",
       "  20.0),\n",
       " (('id', 'bedrooms', 'bathrooms', 'sqft_living', 'sqft_above', 'sqft_lot15'),\n",
       "  20.0),\n",
       " (('id', 'bedrooms', 'bathrooms', 'sqft_living', 'sqft_basement', 'yr_built'),\n",
       "  20.0),\n",
       " (('id',\n",
       "   'bedrooms',\n",
       "   'bathrooms',\n",
       "   'sqft_living',\n",
       "   'sqft_basement',\n",
       "   'yr_renovated'),\n",
       "  20.0),\n",
       " (('id',\n",
       "   'bedrooms',\n",
       "   'bathrooms',\n",
       "   'sqft_living',\n",
       "   'sqft_basement',\n",
       "   'sqft_living15'),\n",
       "  20.0),\n",
       " (('id',\n",
       "   'bedrooms',\n",
       "   'bathrooms',\n",
       "   'sqft_living',\n",
       "   'sqft_basement',\n",
       "   'sqft_lot15'),\n",
       "  20.0),\n",
       " (('id', 'bedrooms', 'bathrooms', 'sqft_living', 'yr_built', 'yr_renovated'),\n",
       "  20.0),\n",
       " (('id', 'bedrooms', 'bathrooms', 'sqft_living', 'yr_built', 'sqft_living15'),\n",
       "  20.0),\n",
       " (('id', 'bedrooms', 'bathrooms', 'sqft_living', 'yr_built', 'sqft_lot15'),\n",
       "  20.0),\n",
       " (('id',\n",
       "   'bedrooms',\n",
       "   'bathrooms',\n",
       "   'sqft_living',\n",
       "   'yr_renovated',\n",
       "   'sqft_living15'),\n",
       "  20.0),\n",
       " (('id', 'bedrooms', 'bathrooms', 'sqft_living', 'yr_renovated', 'sqft_lot15'),\n",
       "  20.0),\n",
       " (('id',\n",
       "   'bedrooms',\n",
       "   'bathrooms',\n",
       "   'sqft_living',\n",
       "   'sqft_living15',\n",
       "   'sqft_lot15'),\n",
       "  20.0),\n",
       " (('id', 'bedrooms', 'bathrooms', 'sqft_lot', 'floors', 'waterfront'), 20.0),\n",
       " (('id', 'bedrooms', 'bathrooms', 'sqft_lot', 'floors', 'view'), 20.0),\n",
       " (('id', 'bedrooms', 'bathrooms', 'sqft_lot', 'floors', 'condition'), 20.0),\n",
       " (('id', 'bedrooms', 'bathrooms', 'sqft_lot', 'floors', 'grade'), 20.0),\n",
       " (('id', 'bedrooms', 'bathrooms', 'sqft_lot', 'floors', 'sqft_above'), 20.0),\n",
       " (('id', 'bedrooms', 'bathrooms', 'sqft_lot', 'floors', 'sqft_basement'),\n",
       "  20.0),\n",
       " (('id', 'bedrooms', 'bathrooms', 'sqft_lot', 'floors', 'yr_built'), 20.0),\n",
       " (('id', 'bedrooms', 'bathrooms', 'sqft_lot', 'floors', 'yr_renovated'), 20.0),\n",
       " (('id', 'bedrooms', 'bathrooms', 'sqft_lot', 'floors', 'sqft_living15'),\n",
       "  20.0),\n",
       " (('id', 'bedrooms', 'bathrooms', 'sqft_lot', 'floors', 'sqft_lot15'), 20.0),\n",
       " (('id', 'bedrooms', 'bathrooms', 'sqft_lot', 'waterfront', 'view'), 20.0),\n",
       " (('id', 'bedrooms', 'bathrooms', 'sqft_lot', 'waterfront', 'condition'),\n",
       "  20.0),\n",
       " (('id', 'bedrooms', 'bathrooms', 'sqft_lot', 'waterfront', 'grade'), 20.0),\n",
       " (('id', 'bedrooms', 'bathrooms', 'sqft_lot', 'waterfront', 'sqft_above'),\n",
       "  20.0),\n",
       " (('id', 'bedrooms', 'bathrooms', 'sqft_lot', 'waterfront', 'sqft_basement'),\n",
       "  20.0),\n",
       " (('id', 'bedrooms', 'bathrooms', 'sqft_lot', 'waterfront', 'yr_built'), 20.0),\n",
       " (('id', 'bedrooms', 'bathrooms', 'sqft_lot', 'waterfront', 'yr_renovated'),\n",
       "  20.0),\n",
       " (('id', 'bedrooms', 'bathrooms', 'sqft_lot', 'waterfront', 'sqft_living15'),\n",
       "  20.0),\n",
       " (('id', 'bedrooms', 'bathrooms', 'sqft_lot', 'waterfront', 'sqft_lot15'),\n",
       "  20.0),\n",
       " (('id', 'bedrooms', 'bathrooms', 'sqft_lot', 'view', 'condition'), 20.0),\n",
       " (('id', 'bedrooms', 'bathrooms', 'sqft_lot', 'view', 'grade'), 20.0),\n",
       " (('id', 'bedrooms', 'bathrooms', 'sqft_lot', 'view', 'sqft_above'), 20.0),\n",
       " (('id', 'bedrooms', 'bathrooms', 'sqft_lot', 'view', 'sqft_basement'), 20.0),\n",
       " (('id', 'bedrooms', 'bathrooms', 'sqft_lot', 'view', 'yr_built'), 20.0),\n",
       " (('id', 'bedrooms', 'bathrooms', 'sqft_lot', 'view', 'yr_renovated'), 20.0),\n",
       " (('id', 'bedrooms', 'bathrooms', 'sqft_lot', 'view', 'sqft_living15'), 20.0),\n",
       " (('id', 'bedrooms', 'bathrooms', 'sqft_lot', 'view', 'sqft_lot15'), 20.0),\n",
       " (('id', 'bedrooms', 'bathrooms', 'sqft_lot', 'condition', 'grade'), 20.0),\n",
       " (('id', 'bedrooms', 'bathrooms', 'sqft_lot', 'condition', 'sqft_above'),\n",
       "  20.0),\n",
       " (('id', 'bedrooms', 'bathrooms', 'sqft_lot', 'condition', 'sqft_basement'),\n",
       "  20.0),\n",
       " (('id', 'bedrooms', 'bathrooms', 'sqft_lot', 'condition', 'yr_built'), 20.0),\n",
       " (('id', 'bedrooms', 'bathrooms', 'sqft_lot', 'condition', 'yr_renovated'),\n",
       "  20.0),\n",
       " (('id', 'bedrooms', 'bathrooms', 'sqft_lot', 'condition', 'sqft_living15'),\n",
       "  20.0),\n",
       " (('id', 'bedrooms', 'bathrooms', 'sqft_lot', 'condition', 'sqft_lot15'),\n",
       "  20.0),\n",
       " (('id', 'bedrooms', 'bathrooms', 'sqft_lot', 'grade', 'sqft_above'), 20.0),\n",
       " (('id', 'bedrooms', 'bathrooms', 'sqft_lot', 'grade', 'sqft_basement'), 20.0),\n",
       " (('id', 'bedrooms', 'bathrooms', 'sqft_lot', 'grade', 'yr_built'), 20.0),\n",
       " (('id', 'bedrooms', 'bathrooms', 'sqft_lot', 'grade', 'yr_renovated'), 20.0),\n",
       " (('id', 'bedrooms', 'bathrooms', 'sqft_lot', 'grade', 'sqft_living15'), 20.0),\n",
       " (('id', 'bedrooms', 'bathrooms', 'sqft_lot', 'grade', 'sqft_lot15'), 20.0),\n",
       " (('id', 'bedrooms', 'bathrooms', 'sqft_lot', 'sqft_above', 'sqft_basement'),\n",
       "  20.0),\n",
       " (('id', 'bedrooms', 'bathrooms', 'sqft_lot', 'sqft_above', 'yr_built'), 20.0),\n",
       " (('id', 'bedrooms', 'bathrooms', 'sqft_lot', 'sqft_above', 'yr_renovated'),\n",
       "  20.0),\n",
       " (('id', 'bedrooms', 'bathrooms', 'sqft_lot', 'sqft_above', 'sqft_living15'),\n",
       "  20.0),\n",
       " (('id', 'bedrooms', 'bathrooms', 'sqft_lot', 'sqft_above', 'sqft_lot15'),\n",
       "  20.0),\n",
       " (('id', 'bedrooms', 'bathrooms', 'sqft_lot', 'sqft_basement', 'yr_built'),\n",
       "  20.0),\n",
       " (('id', 'bedrooms', 'bathrooms', 'sqft_lot', 'sqft_basement', 'yr_renovated'),\n",
       "  20.0),\n",
       " (('id',\n",
       "   'bedrooms',\n",
       "   'bathrooms',\n",
       "   'sqft_lot',\n",
       "   'sqft_basement',\n",
       "   'sqft_living15'),\n",
       "  20.0),\n",
       " (('id', 'bedrooms', 'bathrooms', 'sqft_lot', 'sqft_basement', 'sqft_lot15'),\n",
       "  20.0),\n",
       " (('id', 'bedrooms', 'bathrooms', 'sqft_lot', 'yr_built', 'yr_renovated'),\n",
       "  20.0),\n",
       " (('id', 'bedrooms', 'bathrooms', 'sqft_lot', 'yr_built', 'sqft_living15'),\n",
       "  20.0),\n",
       " (('id', 'bedrooms', 'bathrooms', 'sqft_lot', 'yr_built', 'sqft_lot15'), 20.0),\n",
       " (('id', 'bedrooms', 'bathrooms', 'sqft_lot', 'yr_renovated', 'sqft_living15'),\n",
       "  20.0),\n",
       " (('id', 'bedrooms', 'bathrooms', 'sqft_lot', 'yr_renovated', 'sqft_lot15'),\n",
       "  20.0),\n",
       " (('id', 'bedrooms', 'bathrooms', 'sqft_lot', 'sqft_living15', 'sqft_lot15'),\n",
       "  20.0),\n",
       " (('id', 'bedrooms', 'bathrooms', 'floors', 'waterfront', 'view'), 20.0),\n",
       " (('id', 'bedrooms', 'bathrooms', 'floors', 'waterfront', 'condition'), 20.0),\n",
       " (('id', 'bedrooms', 'bathrooms', 'floors', 'waterfront', 'grade'), 20.0),\n",
       " (('id', 'bedrooms', 'bathrooms', 'floors', 'waterfront', 'sqft_above'), 20.0),\n",
       " (('id', 'bedrooms', 'bathrooms', 'floors', 'waterfront', 'sqft_basement'),\n",
       "  20.0),\n",
       " (('id', 'bedrooms', 'bathrooms', 'floors', 'waterfront', 'yr_built'), 20.0),\n",
       " (('id', 'bedrooms', 'bathrooms', 'floors', 'waterfront', 'yr_renovated'),\n",
       "  20.0),\n",
       " (('id', 'bedrooms', 'bathrooms', 'floors', 'waterfront', 'sqft_living15'),\n",
       "  20.0),\n",
       " (('id', 'bedrooms', 'bathrooms', 'floors', 'waterfront', 'sqft_lot15'), 20.0),\n",
       " (('id', 'bedrooms', 'bathrooms', 'floors', 'view', 'condition'), 20.0),\n",
       " (('id', 'bedrooms', 'bathrooms', 'floors', 'view', 'grade'), 20.0),\n",
       " (('id', 'bedrooms', 'bathrooms', 'floors', 'view', 'sqft_above'), 20.0),\n",
       " (('id', 'bedrooms', 'bathrooms', 'floors', 'view', 'sqft_basement'), 20.0),\n",
       " (('id', 'bedrooms', 'bathrooms', 'floors', 'view', 'yr_built'), 20.0),\n",
       " (('id', 'bedrooms', 'bathrooms', 'floors', 'view', 'yr_renovated'), 20.0),\n",
       " (('id', 'bedrooms', 'bathrooms', 'floors', 'view', 'sqft_living15'), 20.0),\n",
       " (('id', 'bedrooms', 'bathrooms', 'floors', 'view', 'sqft_lot15'), 20.0),\n",
       " (('id', 'bedrooms', 'bathrooms', 'floors', 'condition', 'grade'), 20.0),\n",
       " (('id', 'bedrooms', 'bathrooms', 'floors', 'condition', 'sqft_above'), 20.0),\n",
       " (('id', 'bedrooms', 'bathrooms', 'floors', 'condition', 'sqft_basement'),\n",
       "  20.0),\n",
       " (('id', 'bedrooms', 'bathrooms', 'floors', 'condition', 'yr_built'), 20.0),\n",
       " (('id', 'bedrooms', 'bathrooms', 'floors', 'condition', 'yr_renovated'),\n",
       "  20.0),\n",
       " (('id', 'bedrooms', 'bathrooms', 'floors', 'condition', 'sqft_living15'),\n",
       "  20.0),\n",
       " (('id', 'bedrooms', 'bathrooms', 'floors', 'condition', 'sqft_lot15'), 20.0),\n",
       " (('id', 'bedrooms', 'bathrooms', 'floors', 'grade', 'sqft_above'), 20.0),\n",
       " (('id', 'bedrooms', 'bathrooms', 'floors', 'grade', 'sqft_basement'), 20.0),\n",
       " (('id', 'bedrooms', 'bathrooms', 'floors', 'grade', 'yr_built'), 20.0),\n",
       " (('id', 'bedrooms', 'bathrooms', 'floors', 'grade', 'yr_renovated'), 20.0),\n",
       " (('id', 'bedrooms', 'bathrooms', 'floors', 'grade', 'sqft_living15'), 20.0),\n",
       " (('id', 'bedrooms', 'bathrooms', 'floors', 'grade', 'sqft_lot15'), 20.0),\n",
       " (('id', 'bedrooms', 'bathrooms', 'floors', 'sqft_above', 'sqft_basement'),\n",
       "  20.0),\n",
       " (('id', 'bedrooms', 'bathrooms', 'floors', 'sqft_above', 'yr_built'), 20.0),\n",
       " (('id', 'bedrooms', 'bathrooms', 'floors', 'sqft_above', 'yr_renovated'),\n",
       "  20.0),\n",
       " (('id', 'bedrooms', 'bathrooms', 'floors', 'sqft_above', 'sqft_living15'),\n",
       "  20.0),\n",
       " (('id', 'bedrooms', 'bathrooms', 'floors', 'sqft_above', 'sqft_lot15'), 20.0),\n",
       " (('id', 'bedrooms', 'bathrooms', 'floors', 'sqft_basement', 'yr_built'),\n",
       "  20.0),\n",
       " (('id', 'bedrooms', 'bathrooms', 'floors', 'sqft_basement', 'yr_renovated'),\n",
       "  20.0),\n",
       " (('id', 'bedrooms', 'bathrooms', 'floors', 'sqft_basement', 'sqft_living15'),\n",
       "  20.0),\n",
       " (('id', 'bedrooms', 'bathrooms', 'floors', 'sqft_basement', 'sqft_lot15'),\n",
       "  20.0),\n",
       " (('id', 'bedrooms', 'bathrooms', 'floors', 'yr_built', 'yr_renovated'), 20.0),\n",
       " (('id', 'bedrooms', 'bathrooms', 'floors', 'yr_built', 'sqft_living15'),\n",
       "  20.0),\n",
       " (('id', 'bedrooms', 'bathrooms', 'floors', 'yr_built', 'sqft_lot15'), 20.0),\n",
       " (('id', 'bedrooms', 'bathrooms', 'floors', 'yr_renovated', 'sqft_living15'),\n",
       "  20.0),\n",
       " (('id', 'bedrooms', 'bathrooms', 'floors', 'yr_renovated', 'sqft_lot15'),\n",
       "  20.0),\n",
       " (('id', 'bedrooms', 'bathrooms', 'floors', 'sqft_living15', 'sqft_lot15'),\n",
       "  20.0),\n",
       " (('id', 'bedrooms', 'bathrooms', 'waterfront', 'view', 'condition'), 20.0),\n",
       " (('id', 'bedrooms', 'bathrooms', 'waterfront', 'view', 'grade'), 20.0),\n",
       " (('id', 'bedrooms', 'bathrooms', 'waterfront', 'view', 'sqft_above'), 20.0),\n",
       " (('id', 'bedrooms', 'bathrooms', 'waterfront', 'view', 'sqft_basement'),\n",
       "  20.0),\n",
       " (('id', 'bedrooms', 'bathrooms', 'waterfront', 'view', 'yr_built'), 20.0),\n",
       " (('id', 'bedrooms', 'bathrooms', 'waterfront', 'view', 'yr_renovated'), 20.0),\n",
       " (('id', 'bedrooms', 'bathrooms', 'waterfront', 'view', 'sqft_living15'),\n",
       "  20.0),\n",
       " (('id', 'bedrooms', 'bathrooms', 'waterfront', 'view', 'sqft_lot15'), 20.0),\n",
       " (('id', 'bedrooms', 'bathrooms', 'waterfront', 'condition', 'grade'), 20.0),\n",
       " (('id', 'bedrooms', 'bathrooms', 'waterfront', 'condition', 'sqft_above'),\n",
       "  20.0),\n",
       " (('id', 'bedrooms', 'bathrooms', 'waterfront', 'condition', 'sqft_basement'),\n",
       "  20.0),\n",
       " (('id', 'bedrooms', 'bathrooms', 'waterfront', 'condition', 'yr_built'),\n",
       "  20.0),\n",
       " (('id', 'bedrooms', 'bathrooms', 'waterfront', 'condition', 'yr_renovated'),\n",
       "  20.0),\n",
       " (('id', 'bedrooms', 'bathrooms', 'waterfront', 'condition', 'sqft_living15'),\n",
       "  20.0),\n",
       " (('id', 'bedrooms', 'bathrooms', 'waterfront', 'condition', 'sqft_lot15'),\n",
       "  20.0),\n",
       " (('id', 'bedrooms', 'bathrooms', 'waterfront', 'grade', 'sqft_above'), 20.0),\n",
       " (('id', 'bedrooms', 'bathrooms', 'waterfront', 'grade', 'sqft_basement'),\n",
       "  20.0),\n",
       " (('id', 'bedrooms', 'bathrooms', 'waterfront', 'grade', 'yr_built'), 20.0),\n",
       " (('id', 'bedrooms', 'bathrooms', 'waterfront', 'grade', 'yr_renovated'),\n",
       "  20.0),\n",
       " (('id', 'bedrooms', 'bathrooms', 'waterfront', 'grade', 'sqft_living15'),\n",
       "  20.0),\n",
       " (('id', 'bedrooms', 'bathrooms', 'waterfront', 'grade', 'sqft_lot15'), 20.0),\n",
       " (('id', 'bedrooms', 'bathrooms', 'waterfront', 'sqft_above', 'sqft_basement'),\n",
       "  20.0),\n",
       " (('id', 'bedrooms', 'bathrooms', 'waterfront', 'sqft_above', 'yr_built'),\n",
       "  20.0),\n",
       " (('id', 'bedrooms', 'bathrooms', 'waterfront', 'sqft_above', 'yr_renovated'),\n",
       "  20.0),\n",
       " (('id', 'bedrooms', 'bathrooms', 'waterfront', 'sqft_above', 'sqft_living15'),\n",
       "  20.0),\n",
       " (('id', 'bedrooms', 'bathrooms', 'waterfront', 'sqft_above', 'sqft_lot15'),\n",
       "  20.0),\n",
       " (('id', 'bedrooms', 'bathrooms', 'waterfront', 'sqft_basement', 'yr_built'),\n",
       "  20.0),\n",
       " (('id',\n",
       "   'bedrooms',\n",
       "   'bathrooms',\n",
       "   'waterfront',\n",
       "   'sqft_basement',\n",
       "   'yr_renovated'),\n",
       "  20.0),\n",
       " (('id',\n",
       "   'bedrooms',\n",
       "   'bathrooms',\n",
       "   'waterfront',\n",
       "   'sqft_basement',\n",
       "   'sqft_living15'),\n",
       "  20.0),\n",
       " (('id', 'bedrooms', 'bathrooms', 'waterfront', 'sqft_basement', 'sqft_lot15'),\n",
       "  20.0),\n",
       " (('id', 'bedrooms', 'bathrooms', 'waterfront', 'yr_built', 'yr_renovated'),\n",
       "  20.0),\n",
       " (('id', 'bedrooms', 'bathrooms', 'waterfront', 'yr_built', 'sqft_living15'),\n",
       "  20.0),\n",
       " (('id', 'bedrooms', 'bathrooms', 'waterfront', 'yr_built', 'sqft_lot15'),\n",
       "  20.0),\n",
       " (('id',\n",
       "   'bedrooms',\n",
       "   'bathrooms',\n",
       "   'waterfront',\n",
       "   'yr_renovated',\n",
       "   'sqft_living15'),\n",
       "  20.0),\n",
       " (('id', 'bedrooms', 'bathrooms', 'waterfront', 'yr_renovated', 'sqft_lot15'),\n",
       "  20.0),\n",
       " (('id', 'bedrooms', 'bathrooms', 'waterfront', 'sqft_living15', 'sqft_lot15'),\n",
       "  20.0),\n",
       " (('id', 'bedrooms', 'bathrooms', 'view', 'condition', 'grade'), 20.0),\n",
       " (('id', 'bedrooms', 'bathrooms', 'view', 'condition', 'sqft_above'), 20.0),\n",
       " (('id', 'bedrooms', 'bathrooms', 'view', 'condition', 'sqft_basement'), 20.0),\n",
       " (('id', 'bedrooms', 'bathrooms', 'view', 'condition', 'yr_built'), 20.0),\n",
       " (('id', 'bedrooms', 'bathrooms', 'view', 'condition', 'yr_renovated'), 20.0),\n",
       " (('id', 'bedrooms', 'bathrooms', 'view', 'condition', 'sqft_living15'), 20.0),\n",
       " (('id', 'bedrooms', 'bathrooms', 'view', 'condition', 'sqft_lot15'), 20.0),\n",
       " (('id', 'bedrooms', 'bathrooms', 'view', 'grade', 'sqft_above'), 20.0),\n",
       " (('id', 'bedrooms', 'bathrooms', 'view', 'grade', 'sqft_basement'), 20.0),\n",
       " (('id', 'bedrooms', 'bathrooms', 'view', 'grade', 'yr_built'), 20.0),\n",
       " (('id', 'bedrooms', 'bathrooms', 'view', 'grade', 'yr_renovated'), 20.0),\n",
       " (('id', 'bedrooms', 'bathrooms', 'view', 'grade', 'sqft_living15'), 20.0),\n",
       " (('id', 'bedrooms', 'bathrooms', 'view', 'grade', 'sqft_lot15'), 20.0),\n",
       " (('id', 'bedrooms', 'bathrooms', 'view', 'sqft_above', 'sqft_basement'),\n",
       "  20.0),\n",
       " (('id', 'bedrooms', 'bathrooms', 'view', 'sqft_above', 'yr_built'), 20.0),\n",
       " (('id', 'bedrooms', 'bathrooms', 'view', 'sqft_above', 'yr_renovated'), 20.0),\n",
       " (('id', 'bedrooms', 'bathrooms', 'view', 'sqft_above', 'sqft_living15'),\n",
       "  20.0),\n",
       " (('id', 'bedrooms', 'bathrooms', 'view', 'sqft_above', 'sqft_lot15'), 20.0),\n",
       " (('id', 'bedrooms', 'bathrooms', 'view', 'sqft_basement', 'yr_built'), 20.0),\n",
       " (('id', 'bedrooms', 'bathrooms', 'view', 'sqft_basement', 'yr_renovated'),\n",
       "  20.0),\n",
       " (('id', 'bedrooms', 'bathrooms', 'view', 'sqft_basement', 'sqft_living15'),\n",
       "  20.0),\n",
       " (('id', 'bedrooms', 'bathrooms', 'view', 'sqft_basement', 'sqft_lot15'),\n",
       "  20.0),\n",
       " (('id', 'bedrooms', 'bathrooms', 'view', 'yr_built', 'yr_renovated'), 20.0),\n",
       " (('id', 'bedrooms', 'bathrooms', 'view', 'yr_built', 'sqft_living15'), 20.0),\n",
       " (('id', 'bedrooms', 'bathrooms', 'view', 'yr_built', 'sqft_lot15'), 20.0),\n",
       " (('id', 'bedrooms', 'bathrooms', 'view', 'yr_renovated', 'sqft_living15'),\n",
       "  20.0),\n",
       " (('id', 'bedrooms', 'bathrooms', 'view', 'yr_renovated', 'sqft_lot15'), 20.0),\n",
       " (('id', 'bedrooms', 'bathrooms', 'view', 'sqft_living15', 'sqft_lot15'),\n",
       "  20.0),\n",
       " (('id', 'bedrooms', 'bathrooms', 'condition', 'grade', 'sqft_above'), 20.0),\n",
       " (('id', 'bedrooms', 'bathrooms', 'condition', 'grade', 'sqft_basement'),\n",
       "  20.0),\n",
       " (('id', 'bedrooms', 'bathrooms', 'condition', 'grade', 'yr_built'), 20.0),\n",
       " (('id', 'bedrooms', 'bathrooms', 'condition', 'grade', 'yr_renovated'), 20.0),\n",
       " (('id', 'bedrooms', 'bathrooms', 'condition', 'grade', 'sqft_living15'),\n",
       "  20.0),\n",
       " (('id', 'bedrooms', 'bathrooms', 'condition', 'grade', 'sqft_lot15'), 20.0),\n",
       " (('id', 'bedrooms', 'bathrooms', 'condition', 'sqft_above', 'sqft_basement'),\n",
       "  20.0),\n",
       " (('id', 'bedrooms', 'bathrooms', 'condition', 'sqft_above', 'yr_built'),\n",
       "  20.0),\n",
       " (('id', 'bedrooms', 'bathrooms', 'condition', 'sqft_above', 'yr_renovated'),\n",
       "  20.0),\n",
       " (('id', 'bedrooms', 'bathrooms', 'condition', 'sqft_above', 'sqft_living15'),\n",
       "  20.0),\n",
       " (('id', 'bedrooms', 'bathrooms', 'condition', 'sqft_above', 'sqft_lot15'),\n",
       "  20.0),\n",
       " (('id', 'bedrooms', 'bathrooms', 'condition', 'sqft_basement', 'yr_built'),\n",
       "  20.0),\n",
       " (('id',\n",
       "   'bedrooms',\n",
       "   'bathrooms',\n",
       "   'condition',\n",
       "   'sqft_basement',\n",
       "   'yr_renovated'),\n",
       "  20.0),\n",
       " (('id',\n",
       "   'bedrooms',\n",
       "   'bathrooms',\n",
       "   'condition',\n",
       "   'sqft_basement',\n",
       "   'sqft_living15'),\n",
       "  20.0),\n",
       " (('id', 'bedrooms', 'bathrooms', 'condition', 'sqft_basement', 'sqft_lot15'),\n",
       "  20.0),\n",
       " (('id', 'bedrooms', 'bathrooms', 'condition', 'yr_built', 'yr_renovated'),\n",
       "  20.0),\n",
       " (('id', 'bedrooms', 'bathrooms', 'condition', 'yr_built', 'sqft_living15'),\n",
       "  20.0),\n",
       " (('id', 'bedrooms', 'bathrooms', 'condition', 'yr_built', 'sqft_lot15'),\n",
       "  20.0),\n",
       " (('id',\n",
       "   'bedrooms',\n",
       "   'bathrooms',\n",
       "   'condition',\n",
       "   'yr_renovated',\n",
       "   'sqft_living15'),\n",
       "  20.0),\n",
       " (('id', 'bedrooms', 'bathrooms', 'condition', 'yr_renovated', 'sqft_lot15'),\n",
       "  20.0),\n",
       " (('id', 'bedrooms', 'bathrooms', 'condition', 'sqft_living15', 'sqft_lot15'),\n",
       "  20.0),\n",
       " (('id', 'bedrooms', 'bathrooms', 'grade', 'sqft_above', 'sqft_basement'),\n",
       "  20.0),\n",
       " (('id', 'bedrooms', 'bathrooms', 'grade', 'sqft_above', 'yr_built'), 20.0),\n",
       " (('id', 'bedrooms', 'bathrooms', 'grade', 'sqft_above', 'yr_renovated'),\n",
       "  20.0),\n",
       " (('id', 'bedrooms', 'bathrooms', 'grade', 'sqft_above', 'sqft_living15'),\n",
       "  20.0),\n",
       " (('id', 'bedrooms', 'bathrooms', 'grade', 'sqft_above', 'sqft_lot15'), 20.0),\n",
       " (('id', 'bedrooms', 'bathrooms', 'grade', 'sqft_basement', 'yr_built'), 20.0),\n",
       " (('id', 'bedrooms', 'bathrooms', 'grade', 'sqft_basement', 'yr_renovated'),\n",
       "  20.0),\n",
       " (('id', 'bedrooms', 'bathrooms', 'grade', 'sqft_basement', 'sqft_living15'),\n",
       "  20.0),\n",
       " (('id', 'bedrooms', 'bathrooms', 'grade', 'sqft_basement', 'sqft_lot15'),\n",
       "  20.0),\n",
       " (('id', 'bedrooms', 'bathrooms', 'grade', 'yr_built', 'yr_renovated'), 20.0),\n",
       " (('id', 'bedrooms', 'bathrooms', 'grade', 'yr_built', 'sqft_living15'), 20.0),\n",
       " (('id', 'bedrooms', 'bathrooms', 'grade', 'yr_built', 'sqft_lot15'), 20.0),\n",
       " (('id', 'bedrooms', 'bathrooms', 'grade', 'yr_renovated', 'sqft_living15'),\n",
       "  20.0),\n",
       " (('id', 'bedrooms', 'bathrooms', 'grade', 'yr_renovated', 'sqft_lot15'),\n",
       "  20.0),\n",
       " (('id', 'bedrooms', 'bathrooms', 'grade', 'sqft_living15', 'sqft_lot15'),\n",
       "  20.0),\n",
       " (('id', 'bedrooms', 'bathrooms', 'sqft_above', 'sqft_basement', 'yr_built'),\n",
       "  20.0),\n",
       " (('id',\n",
       "   'bedrooms',\n",
       "   'bathrooms',\n",
       "   'sqft_above',\n",
       "   'sqft_basement',\n",
       "   'yr_renovated'),\n",
       "  20.0),\n",
       " (('id',\n",
       "   'bedrooms',\n",
       "   'bathrooms',\n",
       "   'sqft_above',\n",
       "   'sqft_basement',\n",
       "   'sqft_living15'),\n",
       "  20.0),\n",
       " (('id', 'bedrooms', 'bathrooms', 'sqft_above', 'sqft_basement', 'sqft_lot15'),\n",
       "  20.0),\n",
       " (('id', 'bedrooms', 'bathrooms', 'sqft_above', 'yr_built', 'yr_renovated'),\n",
       "  20.0),\n",
       " (('id', 'bedrooms', 'bathrooms', 'sqft_above', 'yr_built', 'sqft_living15'),\n",
       "  20.0),\n",
       " (('id', 'bedrooms', 'bathrooms', 'sqft_above', 'yr_built', 'sqft_lot15'),\n",
       "  20.0),\n",
       " (('id',\n",
       "   'bedrooms',\n",
       "   'bathrooms',\n",
       "   'sqft_above',\n",
       "   'yr_renovated',\n",
       "   'sqft_living15'),\n",
       "  20.0),\n",
       " (('id', 'bedrooms', 'bathrooms', 'sqft_above', 'yr_renovated', 'sqft_lot15'),\n",
       "  20.0),\n",
       " (('id', 'bedrooms', 'bathrooms', 'sqft_above', 'sqft_living15', 'sqft_lot15'),\n",
       "  20.0),\n",
       " (('id', 'bedrooms', 'bathrooms', 'sqft_basement', 'yr_built', 'yr_renovated'),\n",
       "  20.0),\n",
       " (('id',\n",
       "   'bedrooms',\n",
       "   'bathrooms',\n",
       "   'sqft_basement',\n",
       "   'yr_built',\n",
       "   'sqft_living15'),\n",
       "  20.0),\n",
       " (('id', 'bedrooms', 'bathrooms', 'sqft_basement', 'yr_built', 'sqft_lot15'),\n",
       "  20.0),\n",
       " (('id',\n",
       "   'bedrooms',\n",
       "   'bathrooms',\n",
       "   'sqft_basement',\n",
       "   'yr_renovated',\n",
       "   'sqft_living15'),\n",
       "  20.0),\n",
       " (('id',\n",
       "   'bedrooms',\n",
       "   'bathrooms',\n",
       "   'sqft_basement',\n",
       "   'yr_renovated',\n",
       "   'sqft_lot15'),\n",
       "  20.0),\n",
       " (('id',\n",
       "   'bedrooms',\n",
       "   'bathrooms',\n",
       "   'sqft_basement',\n",
       "   'sqft_living15',\n",
       "   'sqft_lot15'),\n",
       "  20.0),\n",
       " (('id', 'bedrooms', 'bathrooms', 'yr_built', 'yr_renovated', 'sqft_living15'),\n",
       "  20.0),\n",
       " (('id', 'bedrooms', 'bathrooms', 'yr_built', 'yr_renovated', 'sqft_lot15'),\n",
       "  20.0),\n",
       " (('id', 'bedrooms', 'bathrooms', 'yr_built', 'sqft_living15', 'sqft_lot15'),\n",
       "  20.0),\n",
       " (('id',\n",
       "   'bedrooms',\n",
       "   'bathrooms',\n",
       "   'yr_renovated',\n",
       "   'sqft_living15',\n",
       "   'sqft_lot15'),\n",
       "  20.0),\n",
       " (('id', 'bedrooms', 'sqft_living', 'sqft_lot', 'floors', 'waterfront'), 20.0),\n",
       " (('id', 'bedrooms', 'sqft_living', 'sqft_lot', 'floors', 'view'), 20.0),\n",
       " (('id', 'bedrooms', 'sqft_living', 'sqft_lot', 'floors', 'condition'), 20.0),\n",
       " (('id', 'bedrooms', 'sqft_living', 'sqft_lot', 'floors', 'grade'), 20.0),\n",
       " (('id', 'bedrooms', 'sqft_living', 'sqft_lot', 'floors', 'sqft_above'), 20.0),\n",
       " (('id', 'bedrooms', 'sqft_living', 'sqft_lot', 'floors', 'sqft_basement'),\n",
       "  20.0),\n",
       " (('id', 'bedrooms', 'sqft_living', 'sqft_lot', 'floors', 'yr_built'), 20.0),\n",
       " (('id', 'bedrooms', 'sqft_living', 'sqft_lot', 'floors', 'yr_renovated'),\n",
       "  20.0),\n",
       " (('id', 'bedrooms', 'sqft_living', 'sqft_lot', 'floors', 'sqft_living15'),\n",
       "  20.0),\n",
       " (('id', 'bedrooms', 'sqft_living', 'sqft_lot', 'floors', 'sqft_lot15'), 20.0),\n",
       " (('id', 'bedrooms', 'sqft_living', 'sqft_lot', 'waterfront', 'view'), 20.0),\n",
       " (('id', 'bedrooms', 'sqft_living', 'sqft_lot', 'waterfront', 'condition'),\n",
       "  20.0),\n",
       " (('id', 'bedrooms', 'sqft_living', 'sqft_lot', 'waterfront', 'grade'), 20.0),\n",
       " (('id', 'bedrooms', 'sqft_living', 'sqft_lot', 'waterfront', 'sqft_above'),\n",
       "  20.0),\n",
       " (('id', 'bedrooms', 'sqft_living', 'sqft_lot', 'waterfront', 'sqft_basement'),\n",
       "  20.0),\n",
       " (('id', 'bedrooms', 'sqft_living', 'sqft_lot', 'waterfront', 'yr_built'),\n",
       "  20.0),\n",
       " (('id', 'bedrooms', 'sqft_living', 'sqft_lot', 'waterfront', 'yr_renovated'),\n",
       "  20.0),\n",
       " (('id', 'bedrooms', 'sqft_living', 'sqft_lot', 'waterfront', 'sqft_living15'),\n",
       "  20.0),\n",
       " (('id', 'bedrooms', 'sqft_living', 'sqft_lot', 'waterfront', 'sqft_lot15'),\n",
       "  20.0),\n",
       " (('id', 'bedrooms', 'sqft_living', 'sqft_lot', 'view', 'condition'), 20.0),\n",
       " (('id', 'bedrooms', 'sqft_living', 'sqft_lot', 'view', 'grade'), 20.0),\n",
       " (('id', 'bedrooms', 'sqft_living', 'sqft_lot', 'view', 'sqft_above'), 20.0),\n",
       " (('id', 'bedrooms', 'sqft_living', 'sqft_lot', 'view', 'sqft_basement'),\n",
       "  20.0),\n",
       " (('id', 'bedrooms', 'sqft_living', 'sqft_lot', 'view', 'yr_built'), 20.0),\n",
       " (('id', 'bedrooms', 'sqft_living', 'sqft_lot', 'view', 'yr_renovated'), 20.0),\n",
       " (('id', 'bedrooms', 'sqft_living', 'sqft_lot', 'view', 'sqft_living15'),\n",
       "  20.0),\n",
       " (('id', 'bedrooms', 'sqft_living', 'sqft_lot', 'view', 'sqft_lot15'), 20.0),\n",
       " (('id', 'bedrooms', 'sqft_living', 'sqft_lot', 'condition', 'grade'), 20.0),\n",
       " (('id', 'bedrooms', 'sqft_living', 'sqft_lot', 'condition', 'sqft_above'),\n",
       "  20.0),\n",
       " (('id', 'bedrooms', 'sqft_living', 'sqft_lot', 'condition', 'sqft_basement'),\n",
       "  20.0),\n",
       " (('id', 'bedrooms', 'sqft_living', 'sqft_lot', 'condition', 'yr_built'),\n",
       "  20.0),\n",
       " (('id', 'bedrooms', 'sqft_living', 'sqft_lot', 'condition', 'yr_renovated'),\n",
       "  20.0),\n",
       " (('id', 'bedrooms', 'sqft_living', 'sqft_lot', 'condition', 'sqft_living15'),\n",
       "  20.0),\n",
       " (('id', 'bedrooms', 'sqft_living', 'sqft_lot', 'condition', 'sqft_lot15'),\n",
       "  20.0),\n",
       " (('id', 'bedrooms', 'sqft_living', 'sqft_lot', 'grade', 'sqft_above'), 20.0),\n",
       " (('id', 'bedrooms', 'sqft_living', 'sqft_lot', 'grade', 'sqft_basement'),\n",
       "  20.0),\n",
       " (('id', 'bedrooms', 'sqft_living', 'sqft_lot', 'grade', 'yr_built'), 20.0),\n",
       " (('id', 'bedrooms', 'sqft_living', 'sqft_lot', 'grade', 'yr_renovated'),\n",
       "  20.0),\n",
       " (('id', 'bedrooms', 'sqft_living', 'sqft_lot', 'grade', 'sqft_living15'),\n",
       "  20.0),\n",
       " (('id', 'bedrooms', 'sqft_living', 'sqft_lot', 'grade', 'sqft_lot15'), 20.0),\n",
       " (('id', 'bedrooms', 'sqft_living', 'sqft_lot', 'sqft_above', 'sqft_basement'),\n",
       "  20.0),\n",
       " (('id', 'bedrooms', 'sqft_living', 'sqft_lot', 'sqft_above', 'yr_built'),\n",
       "  20.0),\n",
       " (('id', 'bedrooms', 'sqft_living', 'sqft_lot', 'sqft_above', 'yr_renovated'),\n",
       "  20.0),\n",
       " (('id', 'bedrooms', 'sqft_living', 'sqft_lot', 'sqft_above', 'sqft_living15'),\n",
       "  20.0),\n",
       " (('id', 'bedrooms', 'sqft_living', 'sqft_lot', 'sqft_above', 'sqft_lot15'),\n",
       "  20.0),\n",
       " (('id', 'bedrooms', 'sqft_living', 'sqft_lot', 'sqft_basement', 'yr_built'),\n",
       "  20.0),\n",
       " (('id',\n",
       "   'bedrooms',\n",
       "   'sqft_living',\n",
       "   'sqft_lot',\n",
       "   'sqft_basement',\n",
       "   'yr_renovated'),\n",
       "  20.0),\n",
       " (('id',\n",
       "   'bedrooms',\n",
       "   'sqft_living',\n",
       "   'sqft_lot',\n",
       "   'sqft_basement',\n",
       "   'sqft_living15'),\n",
       "  20.0),\n",
       " (('id', 'bedrooms', 'sqft_living', 'sqft_lot', 'sqft_basement', 'sqft_lot15'),\n",
       "  20.0),\n",
       " (('id', 'bedrooms', 'sqft_living', 'sqft_lot', 'yr_built', 'yr_renovated'),\n",
       "  20.0),\n",
       " (('id', 'bedrooms', 'sqft_living', 'sqft_lot', 'yr_built', 'sqft_living15'),\n",
       "  20.0),\n",
       " (('id', 'bedrooms', 'sqft_living', 'sqft_lot', 'yr_built', 'sqft_lot15'),\n",
       "  20.0),\n",
       " (('id',\n",
       "   'bedrooms',\n",
       "   'sqft_living',\n",
       "   'sqft_lot',\n",
       "   'yr_renovated',\n",
       "   'sqft_living15'),\n",
       "  20.0),\n",
       " (('id', 'bedrooms', 'sqft_living', 'sqft_lot', 'yr_renovated', 'sqft_lot15'),\n",
       "  20.0),\n",
       " (('id', 'bedrooms', 'sqft_living', 'sqft_lot', 'sqft_living15', 'sqft_lot15'),\n",
       "  20.0),\n",
       " (('id', 'bedrooms', 'sqft_living', 'floors', 'waterfront', 'view'), 20.0),\n",
       " (('id', 'bedrooms', 'sqft_living', 'floors', 'waterfront', 'condition'),\n",
       "  20.0),\n",
       " (('id', 'bedrooms', 'sqft_living', 'floors', 'waterfront', 'grade'), 20.0),\n",
       " (('id', 'bedrooms', 'sqft_living', 'floors', 'waterfront', 'sqft_above'),\n",
       "  20.0),\n",
       " (('id', 'bedrooms', 'sqft_living', 'floors', 'waterfront', 'sqft_basement'),\n",
       "  20.0),\n",
       " (('id', 'bedrooms', 'sqft_living', 'floors', 'waterfront', 'yr_built'), 20.0),\n",
       " (('id', 'bedrooms', 'sqft_living', 'floors', 'waterfront', 'yr_renovated'),\n",
       "  20.0),\n",
       " (('id', 'bedrooms', 'sqft_living', 'floors', 'waterfront', 'sqft_living15'),\n",
       "  20.0),\n",
       " (('id', 'bedrooms', 'sqft_living', 'floors', 'waterfront', 'sqft_lot15'),\n",
       "  20.0),\n",
       " (('id', 'bedrooms', 'sqft_living', 'floors', 'view', 'condition'), 20.0),\n",
       " (('id', 'bedrooms', 'sqft_living', 'floors', 'view', 'grade'), 20.0),\n",
       " (('id', 'bedrooms', 'sqft_living', 'floors', 'view', 'sqft_above'), 20.0),\n",
       " (('id', 'bedrooms', 'sqft_living', 'floors', 'view', 'sqft_basement'), 20.0),\n",
       " (('id', 'bedrooms', 'sqft_living', 'floors', 'view', 'yr_built'), 20.0),\n",
       " (('id', 'bedrooms', 'sqft_living', 'floors', 'view', 'yr_renovated'), 20.0),\n",
       " (('id', 'bedrooms', 'sqft_living', 'floors', 'view', 'sqft_living15'), 20.0),\n",
       " (('id', 'bedrooms', 'sqft_living', 'floors', 'view', 'sqft_lot15'), 20.0),\n",
       " (('id', 'bedrooms', 'sqft_living', 'floors', 'condition', 'grade'), 20.0),\n",
       " (('id', 'bedrooms', 'sqft_living', 'floors', 'condition', 'sqft_above'),\n",
       "  20.0),\n",
       " (('id', 'bedrooms', 'sqft_living', 'floors', 'condition', 'sqft_basement'),\n",
       "  20.0),\n",
       " (('id', 'bedrooms', 'sqft_living', 'floors', 'condition', 'yr_built'), 20.0),\n",
       " (('id', 'bedrooms', 'sqft_living', 'floors', 'condition', 'yr_renovated'),\n",
       "  20.0),\n",
       " (('id', 'bedrooms', 'sqft_living', 'floors', 'condition', 'sqft_living15'),\n",
       "  20.0),\n",
       " (('id', 'bedrooms', 'sqft_living', 'floors', 'condition', 'sqft_lot15'),\n",
       "  20.0),\n",
       " (('id', 'bedrooms', 'sqft_living', 'floors', 'grade', 'sqft_above'), 20.0),\n",
       " (('id', 'bedrooms', 'sqft_living', 'floors', 'grade', 'sqft_basement'), 20.0),\n",
       " (('id', 'bedrooms', 'sqft_living', 'floors', 'grade', 'yr_built'), 20.0),\n",
       " (('id', 'bedrooms', 'sqft_living', 'floors', 'grade', 'yr_renovated'), 20.0),\n",
       " (('id', 'bedrooms', 'sqft_living', 'floors', 'grade', 'sqft_living15'), 20.0),\n",
       " (('id', 'bedrooms', 'sqft_living', 'floors', 'grade', 'sqft_lot15'), 20.0),\n",
       " (('id', 'bedrooms', 'sqft_living', 'floors', 'sqft_above', 'sqft_basement'),\n",
       "  20.0),\n",
       " (('id', 'bedrooms', 'sqft_living', 'floors', 'sqft_above', 'yr_built'), 20.0),\n",
       " (('id', 'bedrooms', 'sqft_living', 'floors', 'sqft_above', 'yr_renovated'),\n",
       "  20.0),\n",
       " (('id', 'bedrooms', 'sqft_living', 'floors', 'sqft_above', 'sqft_living15'),\n",
       "  20.0),\n",
       " (('id', 'bedrooms', 'sqft_living', 'floors', 'sqft_above', 'sqft_lot15'),\n",
       "  20.0),\n",
       " (('id', 'bedrooms', 'sqft_living', 'floors', 'sqft_basement', 'yr_built'),\n",
       "  20.0),\n",
       " (('id', 'bedrooms', 'sqft_living', 'floors', 'sqft_basement', 'yr_renovated'),\n",
       "  20.0),\n",
       " (('id',\n",
       "   'bedrooms',\n",
       "   'sqft_living',\n",
       "   'floors',\n",
       "   'sqft_basement',\n",
       "   'sqft_living15'),\n",
       "  20.0),\n",
       " (('id', 'bedrooms', 'sqft_living', 'floors', 'sqft_basement', 'sqft_lot15'),\n",
       "  20.0),\n",
       " (('id', 'bedrooms', 'sqft_living', 'floors', 'yr_built', 'yr_renovated'),\n",
       "  20.0),\n",
       " (('id', 'bedrooms', 'sqft_living', 'floors', 'yr_built', 'sqft_living15'),\n",
       "  20.0),\n",
       " (('id', 'bedrooms', 'sqft_living', 'floors', 'yr_built', 'sqft_lot15'), 20.0),\n",
       " (('id', 'bedrooms', 'sqft_living', 'floors', 'yr_renovated', 'sqft_living15'),\n",
       "  20.0),\n",
       " (('id', 'bedrooms', 'sqft_living', 'floors', 'yr_renovated', 'sqft_lot15'),\n",
       "  20.0),\n",
       " (('id', 'bedrooms', 'sqft_living', 'floors', 'sqft_living15', 'sqft_lot15'),\n",
       "  20.0),\n",
       " (('id', 'bedrooms', 'sqft_living', 'waterfront', 'view', 'condition'), 20.0),\n",
       " (('id', 'bedrooms', 'sqft_living', 'waterfront', 'view', 'grade'), 20.0),\n",
       " (('id', 'bedrooms', 'sqft_living', 'waterfront', 'view', 'sqft_above'), 20.0),\n",
       " (('id', 'bedrooms', 'sqft_living', 'waterfront', 'view', 'sqft_basement'),\n",
       "  20.0),\n",
       " (('id', 'bedrooms', 'sqft_living', 'waterfront', 'view', 'yr_built'), 20.0),\n",
       " (('id', 'bedrooms', 'sqft_living', 'waterfront', 'view', 'yr_renovated'),\n",
       "  20.0),\n",
       " (('id', 'bedrooms', 'sqft_living', 'waterfront', 'view', 'sqft_living15'),\n",
       "  20.0),\n",
       " (('id', 'bedrooms', 'sqft_living', 'waterfront', 'view', 'sqft_lot15'), 20.0),\n",
       " (('id', 'bedrooms', 'sqft_living', 'waterfront', 'condition', 'grade'), 20.0),\n",
       " (('id', 'bedrooms', 'sqft_living', 'waterfront', 'condition', 'sqft_above'),\n",
       "  20.0),\n",
       " (('id',\n",
       "   'bedrooms',\n",
       "   'sqft_living',\n",
       "   'waterfront',\n",
       "   'condition',\n",
       "   'sqft_basement'),\n",
       "  20.0),\n",
       " (('id', 'bedrooms', 'sqft_living', 'waterfront', 'condition', 'yr_built'),\n",
       "  20.0),\n",
       " (('id', 'bedrooms', 'sqft_living', 'waterfront', 'condition', 'yr_renovated'),\n",
       "  20.0),\n",
       " (('id',\n",
       "   'bedrooms',\n",
       "   'sqft_living',\n",
       "   'waterfront',\n",
       "   'condition',\n",
       "   'sqft_living15'),\n",
       "  20.0),\n",
       " (('id', 'bedrooms', 'sqft_living', 'waterfront', 'condition', 'sqft_lot15'),\n",
       "  20.0),\n",
       " (('id', 'bedrooms', 'sqft_living', 'waterfront', 'grade', 'sqft_above'),\n",
       "  20.0),\n",
       " (('id', 'bedrooms', 'sqft_living', 'waterfront', 'grade', 'sqft_basement'),\n",
       "  20.0),\n",
       " (('id', 'bedrooms', 'sqft_living', 'waterfront', 'grade', 'yr_built'), 20.0),\n",
       " (('id', 'bedrooms', 'sqft_living', 'waterfront', 'grade', 'yr_renovated'),\n",
       "  20.0),\n",
       " (('id', 'bedrooms', 'sqft_living', 'waterfront', 'grade', 'sqft_living15'),\n",
       "  20.0),\n",
       " (('id', 'bedrooms', 'sqft_living', 'waterfront', 'grade', 'sqft_lot15'),\n",
       "  20.0),\n",
       " (('id',\n",
       "   'bedrooms',\n",
       "   'sqft_living',\n",
       "   'waterfront',\n",
       "   'sqft_above',\n",
       "   'sqft_basement'),\n",
       "  20.0),\n",
       " (('id', 'bedrooms', 'sqft_living', 'waterfront', 'sqft_above', 'yr_built'),\n",
       "  20.0),\n",
       " (('id',\n",
       "   'bedrooms',\n",
       "   'sqft_living',\n",
       "   'waterfront',\n",
       "   'sqft_above',\n",
       "   'yr_renovated'),\n",
       "  20.0),\n",
       " (('id',\n",
       "   'bedrooms',\n",
       "   'sqft_living',\n",
       "   'waterfront',\n",
       "   'sqft_above',\n",
       "   'sqft_living15'),\n",
       "  20.0),\n",
       " (('id', 'bedrooms', 'sqft_living', 'waterfront', 'sqft_above', 'sqft_lot15'),\n",
       "  20.0),\n",
       " (('id', 'bedrooms', 'sqft_living', 'waterfront', 'sqft_basement', 'yr_built'),\n",
       "  20.0),\n",
       " (('id',\n",
       "   'bedrooms',\n",
       "   'sqft_living',\n",
       "   'waterfront',\n",
       "   'sqft_basement',\n",
       "   'yr_renovated'),\n",
       "  20.0),\n",
       " (('id',\n",
       "   'bedrooms',\n",
       "   'sqft_living',\n",
       "   'waterfront',\n",
       "   'sqft_basement',\n",
       "   'sqft_living15'),\n",
       "  20.0),\n",
       " (('id',\n",
       "   'bedrooms',\n",
       "   'sqft_living',\n",
       "   'waterfront',\n",
       "   'sqft_basement',\n",
       "   'sqft_lot15'),\n",
       "  20.0),\n",
       " (('id', 'bedrooms', 'sqft_living', 'waterfront', 'yr_built', 'yr_renovated'),\n",
       "  20.0),\n",
       " (('id', 'bedrooms', 'sqft_living', 'waterfront', 'yr_built', 'sqft_living15'),\n",
       "  20.0),\n",
       " (('id', 'bedrooms', 'sqft_living', 'waterfront', 'yr_built', 'sqft_lot15'),\n",
       "  20.0),\n",
       " (('id',\n",
       "   'bedrooms',\n",
       "   'sqft_living',\n",
       "   'waterfront',\n",
       "   'yr_renovated',\n",
       "   'sqft_living15'),\n",
       "  20.0),\n",
       " (('id',\n",
       "   'bedrooms',\n",
       "   'sqft_living',\n",
       "   'waterfront',\n",
       "   'yr_renovated',\n",
       "   'sqft_lot15'),\n",
       "  20.0),\n",
       " (('id',\n",
       "   'bedrooms',\n",
       "   'sqft_living',\n",
       "   'waterfront',\n",
       "   'sqft_living15',\n",
       "   'sqft_lot15'),\n",
       "  20.0),\n",
       " (('id', 'bedrooms', 'sqft_living', 'view', 'condition', 'grade'), 20.0),\n",
       " (('id', 'bedrooms', 'sqft_living', 'view', 'condition', 'sqft_above'), 20.0),\n",
       " (('id', 'bedrooms', 'sqft_living', 'view', 'condition', 'sqft_basement'),\n",
       "  20.0),\n",
       " (('id', 'bedrooms', 'sqft_living', 'view', 'condition', 'yr_built'), 20.0),\n",
       " (('id', 'bedrooms', 'sqft_living', 'view', 'condition', 'yr_renovated'),\n",
       "  20.0),\n",
       " (('id', 'bedrooms', 'sqft_living', 'view', 'condition', 'sqft_living15'),\n",
       "  20.0),\n",
       " (('id', 'bedrooms', 'sqft_living', 'view', 'condition', 'sqft_lot15'), 20.0),\n",
       " (('id', 'bedrooms', 'sqft_living', 'view', 'grade', 'sqft_above'), 20.0),\n",
       " (('id', 'bedrooms', 'sqft_living', 'view', 'grade', 'sqft_basement'), 20.0),\n",
       " (('id', 'bedrooms', 'sqft_living', 'view', 'grade', 'yr_built'), 20.0),\n",
       " (('id', 'bedrooms', 'sqft_living', 'view', 'grade', 'yr_renovated'), 20.0),\n",
       " (('id', 'bedrooms', 'sqft_living', 'view', 'grade', 'sqft_living15'), 20.0),\n",
       " (('id', 'bedrooms', 'sqft_living', 'view', 'grade', 'sqft_lot15'), 20.0),\n",
       " (('id', 'bedrooms', 'sqft_living', 'view', 'sqft_above', 'sqft_basement'),\n",
       "  20.0),\n",
       " (('id', 'bedrooms', 'sqft_living', 'view', 'sqft_above', 'yr_built'), 20.0),\n",
       " (('id', 'bedrooms', 'sqft_living', 'view', 'sqft_above', 'yr_renovated'),\n",
       "  20.0),\n",
       " (('id', 'bedrooms', 'sqft_living', 'view', 'sqft_above', 'sqft_living15'),\n",
       "  20.0),\n",
       " (('id', 'bedrooms', 'sqft_living', 'view', 'sqft_above', 'sqft_lot15'), 20.0),\n",
       " (('id', 'bedrooms', 'sqft_living', 'view', 'sqft_basement', 'yr_built'),\n",
       "  20.0),\n",
       " (('id', 'bedrooms', 'sqft_living', 'view', 'sqft_basement', 'yr_renovated'),\n",
       "  20.0),\n",
       " (('id', 'bedrooms', 'sqft_living', 'view', 'sqft_basement', 'sqft_living15'),\n",
       "  20.0),\n",
       " (('id', 'bedrooms', 'sqft_living', 'view', 'sqft_basement', 'sqft_lot15'),\n",
       "  20.0),\n",
       " (('id', 'bedrooms', 'sqft_living', 'view', 'yr_built', 'yr_renovated'), 20.0),\n",
       " (('id', 'bedrooms', 'sqft_living', 'view', 'yr_built', 'sqft_living15'),\n",
       "  20.0),\n",
       " (('id', 'bedrooms', 'sqft_living', 'view', 'yr_built', 'sqft_lot15'), 20.0),\n",
       " (('id', 'bedrooms', 'sqft_living', 'view', 'yr_renovated', 'sqft_living15'),\n",
       "  20.0),\n",
       " (('id', 'bedrooms', 'sqft_living', 'view', 'yr_renovated', 'sqft_lot15'),\n",
       "  20.0),\n",
       " (('id', 'bedrooms', 'sqft_living', 'view', 'sqft_living15', 'sqft_lot15'),\n",
       "  20.0),\n",
       " (('id', 'bedrooms', 'sqft_living', 'condition', 'grade', 'sqft_above'), 20.0),\n",
       " (('id', 'bedrooms', 'sqft_living', 'condition', 'grade', 'sqft_basement'),\n",
       "  20.0),\n",
       " (('id', 'bedrooms', 'sqft_living', 'condition', 'grade', 'yr_built'), 20.0),\n",
       " (('id', 'bedrooms', 'sqft_living', 'condition', 'grade', 'yr_renovated'),\n",
       "  20.0),\n",
       " (('id', 'bedrooms', 'sqft_living', 'condition', 'grade', 'sqft_living15'),\n",
       "  20.0),\n",
       " (('id', 'bedrooms', 'sqft_living', 'condition', 'grade', 'sqft_lot15'), 20.0),\n",
       " (('id',\n",
       "   'bedrooms',\n",
       "   'sqft_living',\n",
       "   'condition',\n",
       "   'sqft_above',\n",
       "   'sqft_basement'),\n",
       "  20.0),\n",
       " (('id', 'bedrooms', 'sqft_living', 'condition', 'sqft_above', 'yr_built'),\n",
       "  20.0),\n",
       " (('id', 'bedrooms', 'sqft_living', 'condition', 'sqft_above', 'yr_renovated'),\n",
       "  20.0),\n",
       " (('id',\n",
       "   'bedrooms',\n",
       "   'sqft_living',\n",
       "   'condition',\n",
       "   'sqft_above',\n",
       "   'sqft_living15'),\n",
       "  20.0),\n",
       " (('id', 'bedrooms', 'sqft_living', 'condition', 'sqft_above', 'sqft_lot15'),\n",
       "  20.0),\n",
       " (('id', 'bedrooms', 'sqft_living', 'condition', 'sqft_basement', 'yr_built'),\n",
       "  20.0),\n",
       " (('id',\n",
       "   'bedrooms',\n",
       "   'sqft_living',\n",
       "   'condition',\n",
       "   'sqft_basement',\n",
       "   'yr_renovated'),\n",
       "  20.0),\n",
       " (('id',\n",
       "   'bedrooms',\n",
       "   'sqft_living',\n",
       "   'condition',\n",
       "   'sqft_basement',\n",
       "   'sqft_living15'),\n",
       "  20.0),\n",
       " (('id',\n",
       "   'bedrooms',\n",
       "   'sqft_living',\n",
       "   'condition',\n",
       "   'sqft_basement',\n",
       "   'sqft_lot15'),\n",
       "  20.0),\n",
       " (('id', 'bedrooms', 'sqft_living', 'condition', 'yr_built', 'yr_renovated'),\n",
       "  20.0),\n",
       " (('id', 'bedrooms', 'sqft_living', 'condition', 'yr_built', 'sqft_living15'),\n",
       "  20.0),\n",
       " (('id', 'bedrooms', 'sqft_living', 'condition', 'yr_built', 'sqft_lot15'),\n",
       "  20.0),\n",
       " (('id',\n",
       "   'bedrooms',\n",
       "   'sqft_living',\n",
       "   'condition',\n",
       "   'yr_renovated',\n",
       "   'sqft_living15'),\n",
       "  20.0),\n",
       " (('id', 'bedrooms', 'sqft_living', 'condition', 'yr_renovated', 'sqft_lot15'),\n",
       "  20.0),\n",
       " (('id',\n",
       "   'bedrooms',\n",
       "   'sqft_living',\n",
       "   'condition',\n",
       "   'sqft_living15',\n",
       "   'sqft_lot15'),\n",
       "  20.0),\n",
       " (('id', 'bedrooms', 'sqft_living', 'grade', 'sqft_above', 'sqft_basement'),\n",
       "  20.0),\n",
       " (('id', 'bedrooms', 'sqft_living', 'grade', 'sqft_above', 'yr_built'), 20.0),\n",
       " (('id', 'bedrooms', 'sqft_living', 'grade', 'sqft_above', 'yr_renovated'),\n",
       "  20.0),\n",
       " (('id', 'bedrooms', 'sqft_living', 'grade', 'sqft_above', 'sqft_living15'),\n",
       "  20.0),\n",
       " (('id', 'bedrooms', 'sqft_living', 'grade', 'sqft_above', 'sqft_lot15'),\n",
       "  20.0),\n",
       " (('id', 'bedrooms', 'sqft_living', 'grade', 'sqft_basement', 'yr_built'),\n",
       "  20.0),\n",
       " (('id', 'bedrooms', 'sqft_living', 'grade', 'sqft_basement', 'yr_renovated'),\n",
       "  20.0),\n",
       " (('id', 'bedrooms', 'sqft_living', 'grade', 'sqft_basement', 'sqft_living15'),\n",
       "  20.0),\n",
       " (('id', 'bedrooms', 'sqft_living', 'grade', 'sqft_basement', 'sqft_lot15'),\n",
       "  20.0),\n",
       " (('id', 'bedrooms', 'sqft_living', 'grade', 'yr_built', 'yr_renovated'),\n",
       "  20.0),\n",
       " (('id', 'bedrooms', 'sqft_living', 'grade', 'yr_built', 'sqft_living15'),\n",
       "  20.0),\n",
       " (('id', 'bedrooms', 'sqft_living', 'grade', 'yr_built', 'sqft_lot15'), 20.0),\n",
       " (('id', 'bedrooms', 'sqft_living', 'grade', 'yr_renovated', 'sqft_living15'),\n",
       "  20.0),\n",
       " (('id', 'bedrooms', 'sqft_living', 'grade', 'yr_renovated', 'sqft_lot15'),\n",
       "  20.0),\n",
       " (('id', 'bedrooms', 'sqft_living', 'grade', 'sqft_living15', 'sqft_lot15'),\n",
       "  20.0),\n",
       " (('id', 'bedrooms', 'sqft_living', 'sqft_above', 'sqft_basement', 'yr_built'),\n",
       "  20.0),\n",
       " (('id',\n",
       "   'bedrooms',\n",
       "   'sqft_living',\n",
       "   'sqft_above',\n",
       "   'sqft_basement',\n",
       "   'yr_renovated'),\n",
       "  20.0),\n",
       " (('id',\n",
       "   'bedrooms',\n",
       "   'sqft_living',\n",
       "   'sqft_above',\n",
       "   'sqft_basement',\n",
       "   'sqft_living15'),\n",
       "  20.0),\n",
       " (('id',\n",
       "   'bedrooms',\n",
       "   'sqft_living',\n",
       "   'sqft_above',\n",
       "   'sqft_basement',\n",
       "   'sqft_lot15'),\n",
       "  20.0),\n",
       " (('id', 'bedrooms', 'sqft_living', 'sqft_above', 'yr_built', 'yr_renovated'),\n",
       "  20.0),\n",
       " (('id', 'bedrooms', 'sqft_living', 'sqft_above', 'yr_built', 'sqft_living15'),\n",
       "  20.0),\n",
       " (('id', 'bedrooms', 'sqft_living', 'sqft_above', 'yr_built', 'sqft_lot15'),\n",
       "  20.0),\n",
       " (('id',\n",
       "   'bedrooms',\n",
       "   'sqft_living',\n",
       "   'sqft_above',\n",
       "   'yr_renovated',\n",
       "   'sqft_living15'),\n",
       "  20.0),\n",
       " (('id',\n",
       "   'bedrooms',\n",
       "   'sqft_living',\n",
       "   'sqft_above',\n",
       "   'yr_renovated',\n",
       "   'sqft_lot15'),\n",
       "  20.0),\n",
       " (('id',\n",
       "   'bedrooms',\n",
       "   'sqft_living',\n",
       "   'sqft_above',\n",
       "   'sqft_living15',\n",
       "   'sqft_lot15'),\n",
       "  20.0),\n",
       " (('id',\n",
       "   'bedrooms',\n",
       "   'sqft_living',\n",
       "   'sqft_basement',\n",
       "   'yr_built',\n",
       "   'yr_renovated'),\n",
       "  20.0),\n",
       " (('id',\n",
       "   'bedrooms',\n",
       "   'sqft_living',\n",
       "   'sqft_basement',\n",
       "   'yr_built',\n",
       "   'sqft_living15'),\n",
       "  20.0),\n",
       " (('id', 'bedrooms', 'sqft_living', 'sqft_basement', 'yr_built', 'sqft_lot15'),\n",
       "  20.0),\n",
       " (('id',\n",
       "   'bedrooms',\n",
       "   'sqft_living',\n",
       "   'sqft_basement',\n",
       "   'yr_renovated',\n",
       "   'sqft_living15'),\n",
       "  20.0),\n",
       " (('id',\n",
       "   'bedrooms',\n",
       "   'sqft_living',\n",
       "   'sqft_basement',\n",
       "   'yr_renovated',\n",
       "   'sqft_lot15'),\n",
       "  20.0),\n",
       " (('id',\n",
       "   'bedrooms',\n",
       "   'sqft_living',\n",
       "   'sqft_basement',\n",
       "   'sqft_living15',\n",
       "   'sqft_lot15'),\n",
       "  20.0),\n",
       " (('id',\n",
       "   'bedrooms',\n",
       "   'sqft_living',\n",
       "   'yr_built',\n",
       "   'yr_renovated',\n",
       "   'sqft_living15'),\n",
       "  20.0),\n",
       " (('id', 'bedrooms', 'sqft_living', 'yr_built', 'yr_renovated', 'sqft_lot15'),\n",
       "  20.0),\n",
       " (('id', 'bedrooms', 'sqft_living', 'yr_built', 'sqft_living15', 'sqft_lot15'),\n",
       "  20.0),\n",
       " (('id',\n",
       "   'bedrooms',\n",
       "   'sqft_living',\n",
       "   'yr_renovated',\n",
       "   'sqft_living15',\n",
       "   'sqft_lot15'),\n",
       "  20.0),\n",
       " (('id', 'bedrooms', 'sqft_lot', 'floors', 'waterfront', 'view'), 20.0),\n",
       " (('id', 'bedrooms', 'sqft_lot', 'floors', 'waterfront', 'condition'), 20.0),\n",
       " (('id', 'bedrooms', 'sqft_lot', 'floors', 'waterfront', 'grade'), 20.0),\n",
       " (('id', 'bedrooms', 'sqft_lot', 'floors', 'waterfront', 'sqft_above'), 20.0),\n",
       " (('id', 'bedrooms', 'sqft_lot', 'floors', 'waterfront', 'sqft_basement'),\n",
       "  20.0),\n",
       " (('id', 'bedrooms', 'sqft_lot', 'floors', 'waterfront', 'yr_built'), 20.0),\n",
       " (('id', 'bedrooms', 'sqft_lot', 'floors', 'waterfront', 'yr_renovated'),\n",
       "  20.0),\n",
       " (('id', 'bedrooms', 'sqft_lot', 'floors', 'waterfront', 'sqft_living15'),\n",
       "  20.0),\n",
       " (('id', 'bedrooms', 'sqft_lot', 'floors', 'waterfront', 'sqft_lot15'), 20.0),\n",
       " (('id', 'bedrooms', 'sqft_lot', 'floors', 'view', 'condition'), 20.0),\n",
       " (('id', 'bedrooms', 'sqft_lot', 'floors', 'view', 'grade'), 20.0),\n",
       " (('id', 'bedrooms', 'sqft_lot', 'floors', 'view', 'sqft_above'), 20.0),\n",
       " (('id', 'bedrooms', 'sqft_lot', 'floors', 'view', 'sqft_basement'), 20.0),\n",
       " (('id', 'bedrooms', 'sqft_lot', 'floors', 'view', 'yr_built'), 20.0),\n",
       " (('id', 'bedrooms', 'sqft_lot', 'floors', 'view', 'yr_renovated'), 20.0),\n",
       " (('id', 'bedrooms', 'sqft_lot', 'floors', 'view', 'sqft_living15'), 20.0),\n",
       " (('id', 'bedrooms', 'sqft_lot', 'floors', 'view', 'sqft_lot15'), 20.0),\n",
       " (('id', 'bedrooms', 'sqft_lot', 'floors', 'condition', 'grade'), 20.0),\n",
       " (('id', 'bedrooms', 'sqft_lot', 'floors', 'condition', 'sqft_above'), 20.0),\n",
       " (('id', 'bedrooms', 'sqft_lot', 'floors', 'condition', 'sqft_basement'),\n",
       "  20.0),\n",
       " (('id', 'bedrooms', 'sqft_lot', 'floors', 'condition', 'yr_built'), 20.0),\n",
       " (('id', 'bedrooms', 'sqft_lot', 'floors', 'condition', 'yr_renovated'), 20.0),\n",
       " (('id', 'bedrooms', 'sqft_lot', 'floors', 'condition', 'sqft_living15'),\n",
       "  20.0),\n",
       " (('id', 'bedrooms', 'sqft_lot', 'floors', 'condition', 'sqft_lot15'), 20.0),\n",
       " (('id', 'bedrooms', 'sqft_lot', 'floors', 'grade', 'sqft_above'), 20.0),\n",
       " (('id', 'bedrooms', 'sqft_lot', 'floors', 'grade', 'sqft_basement'), 20.0),\n",
       " (('id', 'bedrooms', 'sqft_lot', 'floors', 'grade', 'yr_built'), 20.0),\n",
       " (('id', 'bedrooms', 'sqft_lot', 'floors', 'grade', 'yr_renovated'), 20.0),\n",
       " (('id', 'bedrooms', 'sqft_lot', 'floors', 'grade', 'sqft_living15'), 20.0),\n",
       " (('id', 'bedrooms', 'sqft_lot', 'floors', 'grade', 'sqft_lot15'), 20.0),\n",
       " (('id', 'bedrooms', 'sqft_lot', 'floors', 'sqft_above', 'sqft_basement'),\n",
       "  20.0),\n",
       " (('id', 'bedrooms', 'sqft_lot', 'floors', 'sqft_above', 'yr_built'), 20.0),\n",
       " (('id', 'bedrooms', 'sqft_lot', 'floors', 'sqft_above', 'yr_renovated'),\n",
       "  20.0),\n",
       " (('id', 'bedrooms', 'sqft_lot', 'floors', 'sqft_above', 'sqft_living15'),\n",
       "  20.0),\n",
       " (('id', 'bedrooms', 'sqft_lot', 'floors', 'sqft_above', 'sqft_lot15'), 20.0),\n",
       " (('id', 'bedrooms', 'sqft_lot', 'floors', 'sqft_basement', 'yr_built'), 20.0),\n",
       " (('id', 'bedrooms', 'sqft_lot', 'floors', 'sqft_basement', 'yr_renovated'),\n",
       "  20.0),\n",
       " (('id', 'bedrooms', 'sqft_lot', 'floors', 'sqft_basement', 'sqft_living15'),\n",
       "  20.0),\n",
       " (('id', 'bedrooms', 'sqft_lot', 'floors', 'sqft_basement', 'sqft_lot15'),\n",
       "  20.0),\n",
       " (('id', 'bedrooms', 'sqft_lot', 'floors', 'yr_built', 'yr_renovated'), 20.0),\n",
       " (('id', 'bedrooms', 'sqft_lot', 'floors', 'yr_built', 'sqft_living15'), 20.0),\n",
       " (('id', 'bedrooms', 'sqft_lot', 'floors', 'yr_built', 'sqft_lot15'), 20.0),\n",
       " (('id', 'bedrooms', 'sqft_lot', 'floors', 'yr_renovated', 'sqft_living15'),\n",
       "  20.0),\n",
       " (('id', 'bedrooms', 'sqft_lot', 'floors', 'yr_renovated', 'sqft_lot15'),\n",
       "  20.0),\n",
       " (('id', 'bedrooms', 'sqft_lot', 'floors', 'sqft_living15', 'sqft_lot15'),\n",
       "  20.0),\n",
       " (('id', 'bedrooms', 'sqft_lot', 'waterfront', 'view', 'condition'), 20.0),\n",
       " (('id', 'bedrooms', 'sqft_lot', 'waterfront', 'view', 'grade'), 20.0),\n",
       " (('id', 'bedrooms', 'sqft_lot', 'waterfront', 'view', 'sqft_above'), 20.0),\n",
       " (('id', 'bedrooms', 'sqft_lot', 'waterfront', 'view', 'sqft_basement'), 20.0),\n",
       " (('id', 'bedrooms', 'sqft_lot', 'waterfront', 'view', 'yr_built'), 20.0),\n",
       " (('id', 'bedrooms', 'sqft_lot', 'waterfront', 'view', 'yr_renovated'), 20.0),\n",
       " (('id', 'bedrooms', 'sqft_lot', 'waterfront', 'view', 'sqft_living15'), 20.0),\n",
       " (('id', 'bedrooms', 'sqft_lot', 'waterfront', 'view', 'sqft_lot15'), 20.0),\n",
       " (('id', 'bedrooms', 'sqft_lot', 'waterfront', 'condition', 'grade'), 20.0),\n",
       " (('id', 'bedrooms', 'sqft_lot', 'waterfront', 'condition', 'sqft_above'),\n",
       "  20.0),\n",
       " (('id', 'bedrooms', 'sqft_lot', 'waterfront', 'condition', 'sqft_basement'),\n",
       "  20.0),\n",
       " (('id', 'bedrooms', 'sqft_lot', 'waterfront', 'condition', 'yr_built'), 20.0),\n",
       " (('id', 'bedrooms', 'sqft_lot', 'waterfront', 'condition', 'yr_renovated'),\n",
       "  20.0),\n",
       " (('id', 'bedrooms', 'sqft_lot', 'waterfront', 'condition', 'sqft_living15'),\n",
       "  20.0),\n",
       " (('id', 'bedrooms', 'sqft_lot', 'waterfront', 'condition', 'sqft_lot15'),\n",
       "  20.0),\n",
       " (('id', 'bedrooms', 'sqft_lot', 'waterfront', 'grade', 'sqft_above'), 20.0),\n",
       " (('id', 'bedrooms', 'sqft_lot', 'waterfront', 'grade', 'sqft_basement'),\n",
       "  20.0),\n",
       " (('id', 'bedrooms', 'sqft_lot', 'waterfront', 'grade', 'yr_built'), 20.0),\n",
       " (('id', 'bedrooms', 'sqft_lot', 'waterfront', 'grade', 'yr_renovated'), 20.0),\n",
       " (('id', 'bedrooms', 'sqft_lot', 'waterfront', 'grade', 'sqft_living15'),\n",
       "  20.0),\n",
       " (('id', 'bedrooms', 'sqft_lot', 'waterfront', 'grade', 'sqft_lot15'), 20.0),\n",
       " (('id', 'bedrooms', 'sqft_lot', 'waterfront', 'sqft_above', 'sqft_basement'),\n",
       "  20.0),\n",
       " (('id', 'bedrooms', 'sqft_lot', 'waterfront', 'sqft_above', 'yr_built'),\n",
       "  20.0),\n",
       " (('id', 'bedrooms', 'sqft_lot', 'waterfront', 'sqft_above', 'yr_renovated'),\n",
       "  20.0),\n",
       " (('id', 'bedrooms', 'sqft_lot', 'waterfront', 'sqft_above', 'sqft_living15'),\n",
       "  20.0),\n",
       " (('id', 'bedrooms', 'sqft_lot', 'waterfront', 'sqft_above', 'sqft_lot15'),\n",
       "  20.0),\n",
       " (('id', 'bedrooms', 'sqft_lot', 'waterfront', 'sqft_basement', 'yr_built'),\n",
       "  20.0),\n",
       " (('id',\n",
       "   'bedrooms',\n",
       "   'sqft_lot',\n",
       "   'waterfront',\n",
       "   'sqft_basement',\n",
       "   'yr_renovated'),\n",
       "  20.0),\n",
       " (('id',\n",
       "   'bedrooms',\n",
       "   'sqft_lot',\n",
       "   'waterfront',\n",
       "   'sqft_basement',\n",
       "   'sqft_living15'),\n",
       "  20.0),\n",
       " (('id', 'bedrooms', 'sqft_lot', 'waterfront', 'sqft_basement', 'sqft_lot15'),\n",
       "  20.0),\n",
       " (('id', 'bedrooms', 'sqft_lot', 'waterfront', 'yr_built', 'yr_renovated'),\n",
       "  20.0),\n",
       " (('id', 'bedrooms', 'sqft_lot', 'waterfront', 'yr_built', 'sqft_living15'),\n",
       "  20.0),\n",
       " (('id', 'bedrooms', 'sqft_lot', 'waterfront', 'yr_built', 'sqft_lot15'),\n",
       "  20.0),\n",
       " (('id',\n",
       "   'bedrooms',\n",
       "   'sqft_lot',\n",
       "   'waterfront',\n",
       "   'yr_renovated',\n",
       "   'sqft_living15'),\n",
       "  20.0),\n",
       " (('id', 'bedrooms', 'sqft_lot', 'waterfront', 'yr_renovated', 'sqft_lot15'),\n",
       "  20.0),\n",
       " (('id', 'bedrooms', 'sqft_lot', 'waterfront', 'sqft_living15', 'sqft_lot15'),\n",
       "  20.0),\n",
       " (('id', 'bedrooms', 'sqft_lot', 'view', 'condition', 'grade'), 20.0),\n",
       " (('id', 'bedrooms', 'sqft_lot', 'view', 'condition', 'sqft_above'), 20.0),\n",
       " (('id', 'bedrooms', 'sqft_lot', 'view', 'condition', 'sqft_basement'), 20.0),\n",
       " (('id', 'bedrooms', 'sqft_lot', 'view', 'condition', 'yr_built'), 20.0),\n",
       " (('id', 'bedrooms', 'sqft_lot', 'view', 'condition', 'yr_renovated'), 20.0),\n",
       " (('id', 'bedrooms', 'sqft_lot', 'view', 'condition', 'sqft_living15'), 20.0),\n",
       " (('id', 'bedrooms', 'sqft_lot', 'view', 'condition', 'sqft_lot15'), 20.0),\n",
       " (('id', 'bedrooms', 'sqft_lot', 'view', 'grade', 'sqft_above'), 20.0),\n",
       " (('id', 'bedrooms', 'sqft_lot', 'view', 'grade', 'sqft_basement'), 20.0),\n",
       " (('id', 'bedrooms', 'sqft_lot', 'view', 'grade', 'yr_built'), 20.0),\n",
       " (('id', 'bedrooms', 'sqft_lot', 'view', 'grade', 'yr_renovated'), 20.0),\n",
       " (('id', 'bedrooms', 'sqft_lot', 'view', 'grade', 'sqft_living15'), 20.0),\n",
       " (('id', 'bedrooms', 'sqft_lot', 'view', 'grade', 'sqft_lot15'), 20.0),\n",
       " (('id', 'bedrooms', 'sqft_lot', 'view', 'sqft_above', 'sqft_basement'), 20.0),\n",
       " (('id', 'bedrooms', 'sqft_lot', 'view', 'sqft_above', 'yr_built'), 20.0),\n",
       " (('id', 'bedrooms', 'sqft_lot', 'view', 'sqft_above', 'yr_renovated'), 20.0),\n",
       " (('id', 'bedrooms', 'sqft_lot', 'view', 'sqft_above', 'sqft_living15'), 20.0),\n",
       " (('id', 'bedrooms', 'sqft_lot', 'view', 'sqft_above', 'sqft_lot15'), 20.0),\n",
       " (('id', 'bedrooms', 'sqft_lot', 'view', 'sqft_basement', 'yr_built'), 20.0),\n",
       " (('id', 'bedrooms', 'sqft_lot', 'view', 'sqft_basement', 'yr_renovated'),\n",
       "  20.0),\n",
       " (('id', 'bedrooms', 'sqft_lot', 'view', 'sqft_basement', 'sqft_living15'),\n",
       "  20.0),\n",
       " (('id', 'bedrooms', 'sqft_lot', 'view', 'sqft_basement', 'sqft_lot15'), 20.0),\n",
       " (('id', 'bedrooms', 'sqft_lot', 'view', 'yr_built', 'yr_renovated'), 20.0),\n",
       " (('id', 'bedrooms', 'sqft_lot', 'view', 'yr_built', 'sqft_living15'), 20.0),\n",
       " (('id', 'bedrooms', 'sqft_lot', 'view', 'yr_built', 'sqft_lot15'), 20.0),\n",
       " (('id', 'bedrooms', 'sqft_lot', 'view', 'yr_renovated', 'sqft_living15'),\n",
       "  20.0),\n",
       " (('id', 'bedrooms', 'sqft_lot', 'view', 'yr_renovated', 'sqft_lot15'), 20.0),\n",
       " (('id', 'bedrooms', 'sqft_lot', 'view', 'sqft_living15', 'sqft_lot15'), 20.0),\n",
       " (('id', 'bedrooms', 'sqft_lot', 'condition', 'grade', 'sqft_above'), 20.0),\n",
       " (('id', 'bedrooms', 'sqft_lot', 'condition', 'grade', 'sqft_basement'), 20.0),\n",
       " (('id', 'bedrooms', 'sqft_lot', 'condition', 'grade', 'yr_built'), 20.0),\n",
       " (('id', 'bedrooms', 'sqft_lot', 'condition', 'grade', 'yr_renovated'), 20.0),\n",
       " (('id', 'bedrooms', 'sqft_lot', 'condition', 'grade', 'sqft_living15'), 20.0),\n",
       " (('id', 'bedrooms', 'sqft_lot', 'condition', 'grade', 'sqft_lot15'), 20.0),\n",
       " (('id', 'bedrooms', 'sqft_lot', 'condition', 'sqft_above', 'sqft_basement'),\n",
       "  20.0),\n",
       " (('id', 'bedrooms', 'sqft_lot', 'condition', 'sqft_above', 'yr_built'), 20.0),\n",
       " (('id', 'bedrooms', 'sqft_lot', 'condition', 'sqft_above', 'yr_renovated'),\n",
       "  20.0),\n",
       " (('id', 'bedrooms', 'sqft_lot', 'condition', 'sqft_above', 'sqft_living15'),\n",
       "  20.0),\n",
       " (('id', 'bedrooms', 'sqft_lot', 'condition', 'sqft_above', 'sqft_lot15'),\n",
       "  20.0),\n",
       " (('id', 'bedrooms', 'sqft_lot', 'condition', 'sqft_basement', 'yr_built'),\n",
       "  20.0),\n",
       " (('id', 'bedrooms', 'sqft_lot', 'condition', 'sqft_basement', 'yr_renovated'),\n",
       "  20.0),\n",
       " (('id',\n",
       "   'bedrooms',\n",
       "   'sqft_lot',\n",
       "   'condition',\n",
       "   'sqft_basement',\n",
       "   'sqft_living15'),\n",
       "  20.0),\n",
       " (('id', 'bedrooms', 'sqft_lot', 'condition', 'sqft_basement', 'sqft_lot15'),\n",
       "  20.0),\n",
       " (('id', 'bedrooms', 'sqft_lot', 'condition', 'yr_built', 'yr_renovated'),\n",
       "  20.0),\n",
       " (('id', 'bedrooms', 'sqft_lot', 'condition', 'yr_built', 'sqft_living15'),\n",
       "  20.0),\n",
       " (('id', 'bedrooms', 'sqft_lot', 'condition', 'yr_built', 'sqft_lot15'), 20.0),\n",
       " (('id', 'bedrooms', 'sqft_lot', 'condition', 'yr_renovated', 'sqft_living15'),\n",
       "  20.0),\n",
       " (('id', 'bedrooms', 'sqft_lot', 'condition', 'yr_renovated', 'sqft_lot15'),\n",
       "  20.0),\n",
       " (('id', 'bedrooms', 'sqft_lot', 'condition', 'sqft_living15', 'sqft_lot15'),\n",
       "  20.0),\n",
       " (('id', 'bedrooms', 'sqft_lot', 'grade', 'sqft_above', 'sqft_basement'),\n",
       "  20.0),\n",
       " (('id', 'bedrooms', 'sqft_lot', 'grade', 'sqft_above', 'yr_built'), 20.0),\n",
       " (('id', 'bedrooms', 'sqft_lot', 'grade', 'sqft_above', 'yr_renovated'), 20.0),\n",
       " (('id', 'bedrooms', 'sqft_lot', 'grade', 'sqft_above', 'sqft_living15'),\n",
       "  20.0),\n",
       " (('id', 'bedrooms', 'sqft_lot', 'grade', 'sqft_above', 'sqft_lot15'), 20.0),\n",
       " (('id', 'bedrooms', 'sqft_lot', 'grade', 'sqft_basement', 'yr_built'), 20.0),\n",
       " (('id', 'bedrooms', 'sqft_lot', 'grade', 'sqft_basement', 'yr_renovated'),\n",
       "  20.0),\n",
       " (('id', 'bedrooms', 'sqft_lot', 'grade', 'sqft_basement', 'sqft_living15'),\n",
       "  20.0),\n",
       " (('id', 'bedrooms', 'sqft_lot', 'grade', 'sqft_basement', 'sqft_lot15'),\n",
       "  20.0),\n",
       " (('id', 'bedrooms', 'sqft_lot', 'grade', 'yr_built', 'yr_renovated'), 20.0),\n",
       " (('id', 'bedrooms', 'sqft_lot', 'grade', 'yr_built', 'sqft_living15'), 20.0),\n",
       " (('id', 'bedrooms', 'sqft_lot', 'grade', 'yr_built', 'sqft_lot15'), 20.0),\n",
       " (('id', 'bedrooms', 'sqft_lot', 'grade', 'yr_renovated', 'sqft_living15'),\n",
       "  20.0),\n",
       " (('id', 'bedrooms', 'sqft_lot', 'grade', 'yr_renovated', 'sqft_lot15'), 20.0),\n",
       " (('id', 'bedrooms', 'sqft_lot', 'grade', 'sqft_living15', 'sqft_lot15'),\n",
       "  20.0),\n",
       " (('id', 'bedrooms', 'sqft_lot', 'sqft_above', 'sqft_basement', 'yr_built'),\n",
       "  20.0),\n",
       " (('id',\n",
       "   'bedrooms',\n",
       "   'sqft_lot',\n",
       "   'sqft_above',\n",
       "   'sqft_basement',\n",
       "   'yr_renovated'),\n",
       "  20.0),\n",
       " (('id',\n",
       "   'bedrooms',\n",
       "   'sqft_lot',\n",
       "   'sqft_above',\n",
       "   'sqft_basement',\n",
       "   'sqft_living15'),\n",
       "  20.0),\n",
       " (('id', 'bedrooms', 'sqft_lot', 'sqft_above', 'sqft_basement', 'sqft_lot15'),\n",
       "  20.0),\n",
       " (('id', 'bedrooms', 'sqft_lot', 'sqft_above', 'yr_built', 'yr_renovated'),\n",
       "  20.0),\n",
       " (('id', 'bedrooms', 'sqft_lot', 'sqft_above', 'yr_built', 'sqft_living15'),\n",
       "  20.0),\n",
       " (('id', 'bedrooms', 'sqft_lot', 'sqft_above', 'yr_built', 'sqft_lot15'),\n",
       "  20.0),\n",
       " (('id',\n",
       "   'bedrooms',\n",
       "   'sqft_lot',\n",
       "   'sqft_above',\n",
       "   'yr_renovated',\n",
       "   'sqft_living15'),\n",
       "  20.0),\n",
       " (('id', 'bedrooms', 'sqft_lot', 'sqft_above', 'yr_renovated', 'sqft_lot15'),\n",
       "  20.0),\n",
       " (('id', 'bedrooms', 'sqft_lot', 'sqft_above', 'sqft_living15', 'sqft_lot15'),\n",
       "  20.0),\n",
       " (('id', 'bedrooms', 'sqft_lot', 'sqft_basement', 'yr_built', 'yr_renovated'),\n",
       "  20.0),\n",
       " (('id', 'bedrooms', 'sqft_lot', 'sqft_basement', 'yr_built', 'sqft_living15'),\n",
       "  20.0),\n",
       " (('id', 'bedrooms', 'sqft_lot', 'sqft_basement', 'yr_built', 'sqft_lot15'),\n",
       "  20.0),\n",
       " (('id',\n",
       "   'bedrooms',\n",
       "   'sqft_lot',\n",
       "   'sqft_basement',\n",
       "   'yr_renovated',\n",
       "   'sqft_living15'),\n",
       "  20.0),\n",
       " (('id',\n",
       "   'bedrooms',\n",
       "   'sqft_lot',\n",
       "   'sqft_basement',\n",
       "   'yr_renovated',\n",
       "   'sqft_lot15'),\n",
       "  20.0),\n",
       " (('id',\n",
       "   'bedrooms',\n",
       "   'sqft_lot',\n",
       "   'sqft_basement',\n",
       "   'sqft_living15',\n",
       "   'sqft_lot15'),\n",
       "  20.0),\n",
       " (('id', 'bedrooms', 'sqft_lot', 'yr_built', 'yr_renovated', 'sqft_living15'),\n",
       "  20.0),\n",
       " (('id', 'bedrooms', 'sqft_lot', 'yr_built', 'yr_renovated', 'sqft_lot15'),\n",
       "  20.0),\n",
       " (('id', 'bedrooms', 'sqft_lot', 'yr_built', 'sqft_living15', 'sqft_lot15'),\n",
       "  20.0),\n",
       " (('id',\n",
       "   'bedrooms',\n",
       "   'sqft_lot',\n",
       "   'yr_renovated',\n",
       "   'sqft_living15',\n",
       "   'sqft_lot15'),\n",
       "  20.0),\n",
       " (('id', 'bedrooms', 'floors', 'waterfront', 'view', 'condition'), 20.0),\n",
       " (('id', 'bedrooms', 'floors', 'waterfront', 'view', 'grade'), 20.0),\n",
       " (('id', 'bedrooms', 'floors', 'waterfront', 'view', 'sqft_above'), 20.0),\n",
       " (('id', 'bedrooms', 'floors', 'waterfront', 'view', 'sqft_basement'), 20.0),\n",
       " (('id', 'bedrooms', 'floors', 'waterfront', 'view', 'yr_built'), 20.0),\n",
       " (('id', 'bedrooms', 'floors', 'waterfront', 'view', 'yr_renovated'), 20.0),\n",
       " (('id', 'bedrooms', 'floors', 'waterfront', 'view', 'sqft_living15'), 20.0),\n",
       " (('id', 'bedrooms', 'floors', 'waterfront', 'view', 'sqft_lot15'), 20.0),\n",
       " (('id', 'bedrooms', 'floors', 'waterfront', 'condition', 'grade'), 20.0),\n",
       " (('id', 'bedrooms', 'floors', 'waterfront', 'condition', 'sqft_above'), 20.0),\n",
       " (('id', 'bedrooms', 'floors', 'waterfront', 'condition', 'sqft_basement'),\n",
       "  20.0),\n",
       " (('id', 'bedrooms', 'floors', 'waterfront', 'condition', 'yr_built'), 20.0),\n",
       " (('id', 'bedrooms', 'floors', 'waterfront', 'condition', 'yr_renovated'),\n",
       "  20.0),\n",
       " (('id', 'bedrooms', 'floors', 'waterfront', 'condition', 'sqft_living15'),\n",
       "  20.0),\n",
       " (('id', 'bedrooms', 'floors', 'waterfront', 'condition', 'sqft_lot15'), 20.0),\n",
       " (('id', 'bedrooms', 'floors', 'waterfront', 'grade', 'sqft_above'), 20.0),\n",
       " (('id', 'bedrooms', 'floors', 'waterfront', 'grade', 'sqft_basement'), 20.0),\n",
       " (('id', 'bedrooms', 'floors', 'waterfront', 'grade', 'yr_built'), 20.0),\n",
       " (('id', 'bedrooms', 'floors', 'waterfront', 'grade', 'yr_renovated'), 20.0),\n",
       " (('id', 'bedrooms', 'floors', 'waterfront', 'grade', 'sqft_living15'), 20.0),\n",
       " (('id', 'bedrooms', 'floors', 'waterfront', 'grade', 'sqft_lot15'), 20.0),\n",
       " (('id', 'bedrooms', 'floors', 'waterfront', 'sqft_above', 'sqft_basement'),\n",
       "  20.0),\n",
       " (('id', 'bedrooms', 'floors', 'waterfront', 'sqft_above', 'yr_built'), 20.0),\n",
       " (('id', 'bedrooms', 'floors', 'waterfront', 'sqft_above', 'yr_renovated'),\n",
       "  20.0),\n",
       " (('id', 'bedrooms', 'floors', 'waterfront', 'sqft_above', 'sqft_living15'),\n",
       "  20.0),\n",
       " (('id', 'bedrooms', 'floors', 'waterfront', 'sqft_above', 'sqft_lot15'),\n",
       "  20.0),\n",
       " (('id', 'bedrooms', 'floors', 'waterfront', 'sqft_basement', 'yr_built'),\n",
       "  20.0),\n",
       " (('id', 'bedrooms', 'floors', 'waterfront', 'sqft_basement', 'yr_renovated'),\n",
       "  20.0),\n",
       " (('id', 'bedrooms', 'floors', 'waterfront', 'sqft_basement', 'sqft_living15'),\n",
       "  20.0),\n",
       " (('id', 'bedrooms', 'floors', 'waterfront', 'sqft_basement', 'sqft_lot15'),\n",
       "  20.0),\n",
       " (('id', 'bedrooms', 'floors', 'waterfront', 'yr_built', 'yr_renovated'),\n",
       "  20.0),\n",
       " (('id', 'bedrooms', 'floors', 'waterfront', 'yr_built', 'sqft_living15'),\n",
       "  20.0),\n",
       " (('id', 'bedrooms', 'floors', 'waterfront', 'yr_built', 'sqft_lot15'), 20.0),\n",
       " (('id', 'bedrooms', 'floors', 'waterfront', 'yr_renovated', 'sqft_living15'),\n",
       "  20.0),\n",
       " (('id', 'bedrooms', 'floors', 'waterfront', 'yr_renovated', 'sqft_lot15'),\n",
       "  20.0),\n",
       " (('id', 'bedrooms', 'floors', 'waterfront', 'sqft_living15', 'sqft_lot15'),\n",
       "  20.0),\n",
       " (('id', 'bedrooms', 'floors', 'view', 'condition', 'grade'), 20.0),\n",
       " (('id', 'bedrooms', 'floors', 'view', 'condition', 'sqft_above'), 20.0),\n",
       " (('id', 'bedrooms', 'floors', 'view', 'condition', 'sqft_basement'), 20.0),\n",
       " (('id', 'bedrooms', 'floors', 'view', 'condition', 'yr_built'), 20.0),\n",
       " (('id', 'bedrooms', 'floors', 'view', 'condition', 'yr_renovated'), 20.0),\n",
       " (('id', 'bedrooms', 'floors', 'view', 'condition', 'sqft_living15'), 20.0),\n",
       " (('id', 'bedrooms', 'floors', 'view', 'condition', 'sqft_lot15'), 20.0),\n",
       " (('id', 'bedrooms', 'floors', 'view', 'grade', 'sqft_above'), 20.0),\n",
       " (('id', 'bedrooms', 'floors', 'view', 'grade', 'sqft_basement'), 20.0),\n",
       " (('id', 'bedrooms', 'floors', 'view', 'grade', 'yr_built'), 20.0),\n",
       " (('id', 'bedrooms', 'floors', 'view', 'grade', 'yr_renovated'), 20.0),\n",
       " (('id', 'bedrooms', 'floors', 'view', 'grade', 'sqft_living15'), 20.0),\n",
       " (('id', 'bedrooms', 'floors', 'view', 'grade', 'sqft_lot15'), 20.0),\n",
       " (('id', 'bedrooms', 'floors', 'view', 'sqft_above', 'sqft_basement'), 20.0),\n",
       " (('id', 'bedrooms', 'floors', 'view', 'sqft_above', 'yr_built'), 20.0),\n",
       " (('id', 'bedrooms', 'floors', 'view', 'sqft_above', 'yr_renovated'), 20.0),\n",
       " (('id', 'bedrooms', 'floors', 'view', 'sqft_above', 'sqft_living15'), 20.0),\n",
       " (('id', 'bedrooms', 'floors', 'view', 'sqft_above', 'sqft_lot15'), 20.0),\n",
       " (('id', 'bedrooms', 'floors', 'view', 'sqft_basement', 'yr_built'), 20.0),\n",
       " (('id', 'bedrooms', 'floors', 'view', 'sqft_basement', 'yr_renovated'), 20.0),\n",
       " (('id', 'bedrooms', 'floors', 'view', 'sqft_basement', 'sqft_living15'),\n",
       "  20.0),\n",
       " (('id', 'bedrooms', 'floors', 'view', 'sqft_basement', 'sqft_lot15'), 20.0),\n",
       " (('id', 'bedrooms', 'floors', 'view', 'yr_built', 'yr_renovated'), 20.0),\n",
       " (('id', 'bedrooms', 'floors', 'view', 'yr_built', 'sqft_living15'), 20.0),\n",
       " (('id', 'bedrooms', 'floors', 'view', 'yr_built', 'sqft_lot15'), 20.0),\n",
       " (('id', 'bedrooms', 'floors', 'view', 'yr_renovated', 'sqft_living15'), 20.0),\n",
       " (('id', 'bedrooms', 'floors', 'view', 'yr_renovated', 'sqft_lot15'), 20.0),\n",
       " (('id', 'bedrooms', 'floors', 'view', 'sqft_living15', 'sqft_lot15'), 20.0),\n",
       " (('id', 'bedrooms', 'floors', 'condition', 'grade', 'sqft_above'), 20.0),\n",
       " (('id', 'bedrooms', 'floors', 'condition', 'grade', 'sqft_basement'), 20.0),\n",
       " (('id', 'bedrooms', 'floors', 'condition', 'grade', 'yr_built'), 20.0),\n",
       " (('id', 'bedrooms', 'floors', 'condition', 'grade', 'yr_renovated'), 20.0),\n",
       " (('id', 'bedrooms', 'floors', 'condition', 'grade', 'sqft_living15'), 20.0),\n",
       " (('id', 'bedrooms', 'floors', 'condition', 'grade', 'sqft_lot15'), 20.0),\n",
       " (('id', 'bedrooms', 'floors', 'condition', 'sqft_above', 'sqft_basement'),\n",
       "  20.0),\n",
       " (('id', 'bedrooms', 'floors', 'condition', 'sqft_above', 'yr_built'), 20.0),\n",
       " (('id', 'bedrooms', 'floors', 'condition', 'sqft_above', 'yr_renovated'),\n",
       "  20.0),\n",
       " (('id', 'bedrooms', 'floors', 'condition', 'sqft_above', 'sqft_living15'),\n",
       "  20.0),\n",
       " (('id', 'bedrooms', 'floors', 'condition', 'sqft_above', 'sqft_lot15'), 20.0),\n",
       " (('id', 'bedrooms', 'floors', 'condition', 'sqft_basement', 'yr_built'),\n",
       "  20.0),\n",
       " (('id', 'bedrooms', 'floors', 'condition', 'sqft_basement', 'yr_renovated'),\n",
       "  20.0),\n",
       " (('id', 'bedrooms', 'floors', 'condition', 'sqft_basement', 'sqft_living15'),\n",
       "  20.0),\n",
       " (('id', 'bedrooms', 'floors', 'condition', 'sqft_basement', 'sqft_lot15'),\n",
       "  20.0),\n",
       " (('id', 'bedrooms', 'floors', 'condition', 'yr_built', 'yr_renovated'), 20.0),\n",
       " (('id', 'bedrooms', 'floors', 'condition', 'yr_built', 'sqft_living15'),\n",
       "  20.0),\n",
       " (('id', 'bedrooms', 'floors', 'condition', 'yr_built', 'sqft_lot15'), 20.0),\n",
       " (('id', 'bedrooms', 'floors', 'condition', 'yr_renovated', 'sqft_living15'),\n",
       "  20.0),\n",
       " (('id', 'bedrooms', 'floors', 'condition', 'yr_renovated', 'sqft_lot15'),\n",
       "  20.0),\n",
       " (('id', 'bedrooms', 'floors', 'condition', 'sqft_living15', 'sqft_lot15'),\n",
       "  20.0),\n",
       " (('id', 'bedrooms', 'floors', 'grade', 'sqft_above', 'sqft_basement'), 20.0),\n",
       " (('id', 'bedrooms', 'floors', 'grade', 'sqft_above', 'yr_built'), 20.0),\n",
       " (('id', 'bedrooms', 'floors', 'grade', 'sqft_above', 'yr_renovated'), 20.0),\n",
       " (('id', 'bedrooms', 'floors', 'grade', 'sqft_above', 'sqft_living15'), 20.0),\n",
       " (('id', 'bedrooms', 'floors', 'grade', 'sqft_above', 'sqft_lot15'), 20.0),\n",
       " (('id', 'bedrooms', 'floors', 'grade', 'sqft_basement', 'yr_built'), 20.0),\n",
       " (('id', 'bedrooms', 'floors', 'grade', 'sqft_basement', 'yr_renovated'),\n",
       "  20.0),\n",
       " (('id', 'bedrooms', 'floors', 'grade', 'sqft_basement', 'sqft_living15'),\n",
       "  20.0),\n",
       " (('id', 'bedrooms', 'floors', 'grade', 'sqft_basement', 'sqft_lot15'), 20.0),\n",
       " (('id', 'bedrooms', 'floors', 'grade', 'yr_built', 'yr_renovated'), 20.0),\n",
       " (('id', 'bedrooms', 'floors', 'grade', 'yr_built', 'sqft_living15'), 20.0),\n",
       " (('id', 'bedrooms', 'floors', 'grade', 'yr_built', 'sqft_lot15'), 20.0),\n",
       " (('id', 'bedrooms', 'floors', 'grade', 'yr_renovated', 'sqft_living15'),\n",
       "  20.0),\n",
       " (('id', 'bedrooms', 'floors', 'grade', 'yr_renovated', 'sqft_lot15'), 20.0),\n",
       " (('id', 'bedrooms', 'floors', 'grade', 'sqft_living15', 'sqft_lot15'), 20.0),\n",
       " (('id', 'bedrooms', 'floors', 'sqft_above', 'sqft_basement', 'yr_built'),\n",
       "  20.0),\n",
       " (('id', 'bedrooms', 'floors', 'sqft_above', 'sqft_basement', 'yr_renovated'),\n",
       "  20.0),\n",
       " (('id', 'bedrooms', 'floors', 'sqft_above', 'sqft_basement', 'sqft_living15'),\n",
       "  20.0),\n",
       " (('id', 'bedrooms', 'floors', 'sqft_above', 'sqft_basement', 'sqft_lot15'),\n",
       "  20.0),\n",
       " (('id', 'bedrooms', 'floors', 'sqft_above', 'yr_built', 'yr_renovated'),\n",
       "  20.0),\n",
       " (('id', 'bedrooms', 'floors', 'sqft_above', 'yr_built', 'sqft_living15'),\n",
       "  20.0),\n",
       " (('id', 'bedrooms', 'floors', 'sqft_above', 'yr_built', 'sqft_lot15'), 20.0),\n",
       " (('id', 'bedrooms', 'floors', 'sqft_above', 'yr_renovated', 'sqft_living15'),\n",
       "  20.0),\n",
       " (('id', 'bedrooms', 'floors', 'sqft_above', 'yr_renovated', 'sqft_lot15'),\n",
       "  20.0),\n",
       " (('id', 'bedrooms', 'floors', 'sqft_above', 'sqft_living15', 'sqft_lot15'),\n",
       "  20.0),\n",
       " (('id', 'bedrooms', 'floors', 'sqft_basement', 'yr_built', 'yr_renovated'),\n",
       "  20.0),\n",
       " (('id', 'bedrooms', 'floors', 'sqft_basement', 'yr_built', 'sqft_living15'),\n",
       "  20.0),\n",
       " (('id', 'bedrooms', 'floors', 'sqft_basement', 'yr_built', 'sqft_lot15'),\n",
       "  20.0),\n",
       " (('id',\n",
       "   'bedrooms',\n",
       "   'floors',\n",
       "   'sqft_basement',\n",
       "   'yr_renovated',\n",
       "   'sqft_living15'),\n",
       "  20.0),\n",
       " (('id', 'bedrooms', 'floors', 'sqft_basement', 'yr_renovated', 'sqft_lot15'),\n",
       "  20.0),\n",
       " (('id', 'bedrooms', 'floors', 'sqft_basement', 'sqft_living15', 'sqft_lot15'),\n",
       "  20.0),\n",
       " (('id', 'bedrooms', 'floors', 'yr_built', 'yr_renovated', 'sqft_living15'),\n",
       "  20.0),\n",
       " (('id', 'bedrooms', 'floors', 'yr_built', 'yr_renovated', 'sqft_lot15'),\n",
       "  20.0),\n",
       " (('id', 'bedrooms', 'floors', 'yr_built', 'sqft_living15', 'sqft_lot15'),\n",
       "  20.0),\n",
       " (('id', 'bedrooms', 'floors', 'yr_renovated', 'sqft_living15', 'sqft_lot15'),\n",
       "  20.0),\n",
       " (('id', 'bedrooms', 'waterfront', 'view', 'condition', 'grade'), 20.0),\n",
       " (('id', 'bedrooms', 'waterfront', 'view', 'condition', 'sqft_above'), 20.0),\n",
       " (('id', 'bedrooms', 'waterfront', 'view', 'condition', 'sqft_basement'),\n",
       "  20.0),\n",
       " (('id', 'bedrooms', 'waterfront', 'view', 'condition', 'yr_built'), 20.0),\n",
       " (('id', 'bedrooms', 'waterfront', 'view', 'condition', 'yr_renovated'), 20.0),\n",
       " (('id', 'bedrooms', 'waterfront', 'view', 'condition', 'sqft_living15'),\n",
       "  20.0),\n",
       " (('id', 'bedrooms', 'waterfront', 'view', 'condition', 'sqft_lot15'), 20.0),\n",
       " (('id', 'bedrooms', 'waterfront', 'view', 'grade', 'sqft_above'), 20.0),\n",
       " (('id', 'bedrooms', 'waterfront', 'view', 'grade', 'sqft_basement'), 20.0),\n",
       " (('id', 'bedrooms', 'waterfront', 'view', 'grade', 'yr_built'), 20.0),\n",
       " (('id', 'bedrooms', 'waterfront', 'view', 'grade', 'yr_renovated'), 20.0),\n",
       " (('id', 'bedrooms', 'waterfront', 'view', 'grade', 'sqft_living15'), 20.0),\n",
       " (('id', 'bedrooms', 'waterfront', 'view', 'grade', 'sqft_lot15'), 20.0),\n",
       " (('id', 'bedrooms', 'waterfront', 'view', 'sqft_above', 'sqft_basement'),\n",
       "  20.0),\n",
       " (('id', 'bedrooms', 'waterfront', 'view', 'sqft_above', 'yr_built'), 20.0),\n",
       " (('id', 'bedrooms', 'waterfront', 'view', 'sqft_above', 'yr_renovated'),\n",
       "  20.0),\n",
       " (('id', 'bedrooms', 'waterfront', 'view', 'sqft_above', 'sqft_living15'),\n",
       "  20.0),\n",
       " (('id', 'bedrooms', 'waterfront', 'view', 'sqft_above', 'sqft_lot15'), 20.0),\n",
       " (('id', 'bedrooms', 'waterfront', 'view', 'sqft_basement', 'yr_built'), 20.0),\n",
       " (('id', 'bedrooms', 'waterfront', 'view', 'sqft_basement', 'yr_renovated'),\n",
       "  20.0),\n",
       " (('id', 'bedrooms', 'waterfront', 'view', 'sqft_basement', 'sqft_living15'),\n",
       "  20.0),\n",
       " (('id', 'bedrooms', 'waterfront', 'view', 'sqft_basement', 'sqft_lot15'),\n",
       "  20.0),\n",
       " (('id', 'bedrooms', 'waterfront', 'view', 'yr_built', 'yr_renovated'), 20.0),\n",
       " (('id', 'bedrooms', 'waterfront', 'view', 'yr_built', 'sqft_living15'), 20.0),\n",
       " (('id', 'bedrooms', 'waterfront', 'view', 'yr_built', 'sqft_lot15'), 20.0),\n",
       " (('id', 'bedrooms', 'waterfront', 'view', 'yr_renovated', 'sqft_living15'),\n",
       "  20.0),\n",
       " (('id', 'bedrooms', 'waterfront', 'view', 'yr_renovated', 'sqft_lot15'),\n",
       "  20.0),\n",
       " (('id', 'bedrooms', 'waterfront', 'view', 'sqft_living15', 'sqft_lot15'),\n",
       "  20.0),\n",
       " (('id', 'bedrooms', 'waterfront', 'condition', 'grade', 'sqft_above'), 20.0),\n",
       " (('id', 'bedrooms', 'waterfront', 'condition', 'grade', 'sqft_basement'),\n",
       "  20.0),\n",
       " (('id', 'bedrooms', 'waterfront', 'condition', 'grade', 'yr_built'), 20.0),\n",
       " (('id', 'bedrooms', 'waterfront', 'condition', 'grade', 'yr_renovated'),\n",
       "  20.0),\n",
       " (('id', 'bedrooms', 'waterfront', 'condition', 'grade', 'sqft_living15'),\n",
       "  20.0),\n",
       " (('id', 'bedrooms', 'waterfront', 'condition', 'grade', 'sqft_lot15'), 20.0),\n",
       " (('id', 'bedrooms', 'waterfront', 'condition', 'sqft_above', 'sqft_basement'),\n",
       "  20.0),\n",
       " (('id', 'bedrooms', 'waterfront', 'condition', 'sqft_above', 'yr_built'),\n",
       "  20.0),\n",
       " (('id', 'bedrooms', 'waterfront', 'condition', 'sqft_above', 'yr_renovated'),\n",
       "  20.0),\n",
       " (('id', 'bedrooms', 'waterfront', 'condition', 'sqft_above', 'sqft_living15'),\n",
       "  20.0),\n",
       " (('id', 'bedrooms', 'waterfront', 'condition', 'sqft_above', 'sqft_lot15'),\n",
       "  20.0),\n",
       " (('id', 'bedrooms', 'waterfront', 'condition', 'sqft_basement', 'yr_built'),\n",
       "  20.0),\n",
       " (('id',\n",
       "   'bedrooms',\n",
       "   'waterfront',\n",
       "   'condition',\n",
       "   'sqft_basement',\n",
       "   'yr_renovated'),\n",
       "  20.0),\n",
       " (('id',\n",
       "   'bedrooms',\n",
       "   'waterfront',\n",
       "   'condition',\n",
       "   'sqft_basement',\n",
       "   'sqft_living15'),\n",
       "  20.0),\n",
       " (('id', 'bedrooms', 'waterfront', 'condition', 'sqft_basement', 'sqft_lot15'),\n",
       "  20.0),\n",
       " (('id', 'bedrooms', 'waterfront', 'condition', 'yr_built', 'yr_renovated'),\n",
       "  20.0),\n",
       " (('id', 'bedrooms', 'waterfront', 'condition', 'yr_built', 'sqft_living15'),\n",
       "  20.0),\n",
       " (('id', 'bedrooms', 'waterfront', 'condition', 'yr_built', 'sqft_lot15'),\n",
       "  20.0),\n",
       " (('id',\n",
       "   'bedrooms',\n",
       "   'waterfront',\n",
       "   'condition',\n",
       "   'yr_renovated',\n",
       "   'sqft_living15'),\n",
       "  20.0),\n",
       " (('id', 'bedrooms', 'waterfront', 'condition', 'yr_renovated', 'sqft_lot15'),\n",
       "  20.0),\n",
       " (('id', 'bedrooms', 'waterfront', 'condition', 'sqft_living15', 'sqft_lot15'),\n",
       "  20.0),\n",
       " (('id', 'bedrooms', 'waterfront', 'grade', 'sqft_above', 'sqft_basement'),\n",
       "  20.0),\n",
       " (('id', 'bedrooms', 'waterfront', 'grade', 'sqft_above', 'yr_built'), 20.0),\n",
       " (('id', 'bedrooms', 'waterfront', 'grade', 'sqft_above', 'yr_renovated'),\n",
       "  20.0),\n",
       " (('id', 'bedrooms', 'waterfront', 'grade', 'sqft_above', 'sqft_living15'),\n",
       "  20.0),\n",
       " (('id', 'bedrooms', 'waterfront', 'grade', 'sqft_above', 'sqft_lot15'), 20.0),\n",
       " (('id', 'bedrooms', 'waterfront', 'grade', 'sqft_basement', 'yr_built'),\n",
       "  20.0),\n",
       " (('id', 'bedrooms', 'waterfront', 'grade', 'sqft_basement', 'yr_renovated'),\n",
       "  20.0),\n",
       " (('id', 'bedrooms', 'waterfront', 'grade', 'sqft_basement', 'sqft_living15'),\n",
       "  20.0),\n",
       " (('id', 'bedrooms', 'waterfront', 'grade', 'sqft_basement', 'sqft_lot15'),\n",
       "  20.0),\n",
       " (('id', 'bedrooms', 'waterfront', 'grade', 'yr_built', 'yr_renovated'), 20.0),\n",
       " (('id', 'bedrooms', 'waterfront', 'grade', 'yr_built', 'sqft_living15'),\n",
       "  20.0),\n",
       " (('id', 'bedrooms', 'waterfront', 'grade', 'yr_built', 'sqft_lot15'), 20.0),\n",
       " (('id', 'bedrooms', 'waterfront', 'grade', 'yr_renovated', 'sqft_living15'),\n",
       "  20.0),\n",
       " (('id', 'bedrooms', 'waterfront', 'grade', 'yr_renovated', 'sqft_lot15'),\n",
       "  20.0),\n",
       " (('id', 'bedrooms', 'waterfront', 'grade', 'sqft_living15', 'sqft_lot15'),\n",
       "  20.0),\n",
       " (('id', 'bedrooms', 'waterfront', 'sqft_above', 'sqft_basement', 'yr_built'),\n",
       "  20.0),\n",
       " (('id',\n",
       "   'bedrooms',\n",
       "   'waterfront',\n",
       "   'sqft_above',\n",
       "   'sqft_basement',\n",
       "   'yr_renovated'),\n",
       "  20.0),\n",
       " (('id',\n",
       "   'bedrooms',\n",
       "   'waterfront',\n",
       "   'sqft_above',\n",
       "   'sqft_basement',\n",
       "   'sqft_living15'),\n",
       "  20.0),\n",
       " (('id',\n",
       "   'bedrooms',\n",
       "   'waterfront',\n",
       "   'sqft_above',\n",
       "   'sqft_basement',\n",
       "   'sqft_lot15'),\n",
       "  20.0),\n",
       " (('id', 'bedrooms', 'waterfront', 'sqft_above', 'yr_built', 'yr_renovated'),\n",
       "  20.0),\n",
       " (('id', 'bedrooms', 'waterfront', 'sqft_above', 'yr_built', 'sqft_living15'),\n",
       "  20.0),\n",
       " (('id', 'bedrooms', 'waterfront', 'sqft_above', 'yr_built', 'sqft_lot15'),\n",
       "  20.0),\n",
       " (('id',\n",
       "   'bedrooms',\n",
       "   'waterfront',\n",
       "   'sqft_above',\n",
       "   'yr_renovated',\n",
       "   'sqft_living15'),\n",
       "  20.0),\n",
       " (('id', 'bedrooms', 'waterfront', 'sqft_above', 'yr_renovated', 'sqft_lot15'),\n",
       "  20.0),\n",
       " (('id',\n",
       "   'bedrooms',\n",
       "   'waterfront',\n",
       "   'sqft_above',\n",
       "   'sqft_living15',\n",
       "   'sqft_lot15'),\n",
       "  20.0),\n",
       " (('id',\n",
       "   'bedrooms',\n",
       "   'waterfront',\n",
       "   'sqft_basement',\n",
       "   'yr_built',\n",
       "   'yr_renovated'),\n",
       "  20.0),\n",
       " (('id',\n",
       "   'bedrooms',\n",
       "   'waterfront',\n",
       "   'sqft_basement',\n",
       "   'yr_built',\n",
       "   'sqft_living15'),\n",
       "  20.0),\n",
       " (('id', 'bedrooms', 'waterfront', 'sqft_basement', 'yr_built', 'sqft_lot15'),\n",
       "  20.0),\n",
       " (('id',\n",
       "   'bedrooms',\n",
       "   'waterfront',\n",
       "   'sqft_basement',\n",
       "   'yr_renovated',\n",
       "   'sqft_living15'),\n",
       "  20.0),\n",
       " (('id',\n",
       "   'bedrooms',\n",
       "   'waterfront',\n",
       "   'sqft_basement',\n",
       "   'yr_renovated',\n",
       "   'sqft_lot15'),\n",
       "  20.0),\n",
       " (('id',\n",
       "   'bedrooms',\n",
       "   'waterfront',\n",
       "   'sqft_basement',\n",
       "   'sqft_living15',\n",
       "   'sqft_lot15'),\n",
       "  20.0),\n",
       " (('id',\n",
       "   'bedrooms',\n",
       "   'waterfront',\n",
       "   'yr_built',\n",
       "   'yr_renovated',\n",
       "   'sqft_living15'),\n",
       "  20.0),\n",
       " (('id', 'bedrooms', 'waterfront', 'yr_built', 'yr_renovated', 'sqft_lot15'),\n",
       "  20.0),\n",
       " (('id', 'bedrooms', 'waterfront', 'yr_built', 'sqft_living15', 'sqft_lot15'),\n",
       "  20.0),\n",
       " (('id',\n",
       "   'bedrooms',\n",
       "   'waterfront',\n",
       "   'yr_renovated',\n",
       "   'sqft_living15',\n",
       "   'sqft_lot15'),\n",
       "  20.0),\n",
       " (('id', 'bedrooms', 'view', 'condition', 'grade', 'sqft_above'), 20.0),\n",
       " (('id', 'bedrooms', 'view', 'condition', 'grade', 'sqft_basement'), 20.0),\n",
       " (('id', 'bedrooms', 'view', 'condition', 'grade', 'yr_built'), 20.0),\n",
       " (('id', 'bedrooms', 'view', 'condition', 'grade', 'yr_renovated'), 20.0),\n",
       " (('id', 'bedrooms', 'view', 'condition', 'grade', 'sqft_living15'), 20.0),\n",
       " (('id', 'bedrooms', 'view', 'condition', 'grade', 'sqft_lot15'), 20.0),\n",
       " (('id', 'bedrooms', 'view', 'condition', 'sqft_above', 'sqft_basement'),\n",
       "  20.0),\n",
       " (('id', 'bedrooms', 'view', 'condition', 'sqft_above', 'yr_built'), 20.0),\n",
       " (('id', 'bedrooms', 'view', 'condition', 'sqft_above', 'yr_renovated'), 20.0),\n",
       " (('id', 'bedrooms', 'view', 'condition', 'sqft_above', 'sqft_living15'),\n",
       "  20.0),\n",
       " (('id', 'bedrooms', 'view', 'condition', 'sqft_above', 'sqft_lot15'), 20.0),\n",
       " (('id', 'bedrooms', 'view', 'condition', 'sqft_basement', 'yr_built'), 20.0),\n",
       " (('id', 'bedrooms', 'view', 'condition', 'sqft_basement', 'yr_renovated'),\n",
       "  20.0),\n",
       " (('id', 'bedrooms', 'view', 'condition', 'sqft_basement', 'sqft_living15'),\n",
       "  20.0),\n",
       " (('id', 'bedrooms', 'view', 'condition', 'sqft_basement', 'sqft_lot15'),\n",
       "  20.0),\n",
       " (('id', 'bedrooms', 'view', 'condition', 'yr_built', 'yr_renovated'), 20.0),\n",
       " (('id', 'bedrooms', 'view', 'condition', 'yr_built', 'sqft_living15'), 20.0),\n",
       " (('id', 'bedrooms', 'view', 'condition', 'yr_built', 'sqft_lot15'), 20.0),\n",
       " (('id', 'bedrooms', 'view', 'condition', 'yr_renovated', 'sqft_living15'),\n",
       "  20.0),\n",
       " (('id', 'bedrooms', 'view', 'condition', 'yr_renovated', 'sqft_lot15'), 20.0),\n",
       " (('id', 'bedrooms', 'view', 'condition', 'sqft_living15', 'sqft_lot15'),\n",
       "  20.0),\n",
       " (('id', 'bedrooms', 'view', 'grade', 'sqft_above', 'sqft_basement'), 20.0),\n",
       " (('id', 'bedrooms', 'view', 'grade', 'sqft_above', 'yr_built'), 20.0),\n",
       " (('id', 'bedrooms', 'view', 'grade', 'sqft_above', 'yr_renovated'), 20.0),\n",
       " (('id', 'bedrooms', 'view', 'grade', 'sqft_above', 'sqft_living15'), 20.0),\n",
       " (('id', 'bedrooms', 'view', 'grade', 'sqft_above', 'sqft_lot15'), 20.0),\n",
       " (('id', 'bedrooms', 'view', 'grade', 'sqft_basement', 'yr_built'), 20.0),\n",
       " (('id', 'bedrooms', 'view', 'grade', 'sqft_basement', 'yr_renovated'), 20.0),\n",
       " (('id', 'bedrooms', 'view', 'grade', 'sqft_basement', 'sqft_living15'), 20.0),\n",
       " (('id', 'bedrooms', 'view', 'grade', 'sqft_basement', 'sqft_lot15'), 20.0),\n",
       " (('id', 'bedrooms', 'view', 'grade', 'yr_built', 'yr_renovated'), 20.0),\n",
       " (('id', 'bedrooms', 'view', 'grade', 'yr_built', 'sqft_living15'), 20.0),\n",
       " (('id', 'bedrooms', 'view', 'grade', 'yr_built', 'sqft_lot15'), 20.0),\n",
       " (('id', 'bedrooms', 'view', 'grade', 'yr_renovated', 'sqft_living15'), 20.0),\n",
       " (('id', 'bedrooms', 'view', 'grade', 'yr_renovated', 'sqft_lot15'), 20.0),\n",
       " (('id', 'bedrooms', 'view', 'grade', 'sqft_living15', 'sqft_lot15'), 20.0),\n",
       " (('id', 'bedrooms', 'view', 'sqft_above', 'sqft_basement', 'yr_built'), 20.0),\n",
       " (('id', 'bedrooms', 'view', 'sqft_above', 'sqft_basement', 'yr_renovated'),\n",
       "  20.0),\n",
       " (('id', 'bedrooms', 'view', 'sqft_above', 'sqft_basement', 'sqft_living15'),\n",
       "  20.0),\n",
       " (('id', 'bedrooms', 'view', 'sqft_above', 'sqft_basement', 'sqft_lot15'),\n",
       "  20.0),\n",
       " (('id', 'bedrooms', 'view', 'sqft_above', 'yr_built', 'yr_renovated'), 20.0),\n",
       " (('id', 'bedrooms', 'view', 'sqft_above', 'yr_built', 'sqft_living15'), 20.0),\n",
       " (('id', 'bedrooms', 'view', 'sqft_above', 'yr_built', 'sqft_lot15'), 20.0),\n",
       " (('id', 'bedrooms', 'view', 'sqft_above', 'yr_renovated', 'sqft_living15'),\n",
       "  20.0),\n",
       " (('id', 'bedrooms', 'view', 'sqft_above', 'yr_renovated', 'sqft_lot15'),\n",
       "  20.0),\n",
       " (('id', 'bedrooms', 'view', 'sqft_above', 'sqft_living15', 'sqft_lot15'),\n",
       "  20.0),\n",
       " (('id', 'bedrooms', 'view', 'sqft_basement', 'yr_built', 'yr_renovated'),\n",
       "  20.0),\n",
       " (('id', 'bedrooms', 'view', 'sqft_basement', 'yr_built', 'sqft_living15'),\n",
       "  20.0),\n",
       " (('id', 'bedrooms', 'view', 'sqft_basement', 'yr_built', 'sqft_lot15'), 20.0),\n",
       " (('id', 'bedrooms', 'view', 'sqft_basement', 'yr_renovated', 'sqft_living15'),\n",
       "  20.0),\n",
       " (('id', 'bedrooms', 'view', 'sqft_basement', 'yr_renovated', 'sqft_lot15'),\n",
       "  20.0),\n",
       " (('id', 'bedrooms', 'view', 'sqft_basement', 'sqft_living15', 'sqft_lot15'),\n",
       "  20.0),\n",
       " (('id', 'bedrooms', 'view', 'yr_built', 'yr_renovated', 'sqft_living15'),\n",
       "  20.0),\n",
       " (('id', 'bedrooms', 'view', 'yr_built', 'yr_renovated', 'sqft_lot15'), 20.0),\n",
       " (('id', 'bedrooms', 'view', 'yr_built', 'sqft_living15', 'sqft_lot15'), 20.0),\n",
       " (('id', 'bedrooms', 'view', 'yr_renovated', 'sqft_living15', 'sqft_lot15'),\n",
       "  20.0),\n",
       " (('id', 'bedrooms', 'condition', 'grade', 'sqft_above', 'sqft_basement'),\n",
       "  20.0),\n",
       " (('id', 'bedrooms', 'condition', 'grade', 'sqft_above', 'yr_built'), 20.0),\n",
       " (('id', 'bedrooms', 'condition', 'grade', 'sqft_above', 'yr_renovated'),\n",
       "  20.0),\n",
       " (('id', 'bedrooms', 'condition', 'grade', 'sqft_above', 'sqft_living15'),\n",
       "  20.0),\n",
       " (('id', 'bedrooms', 'condition', 'grade', 'sqft_above', 'sqft_lot15'), 20.0),\n",
       " (('id', 'bedrooms', 'condition', 'grade', 'sqft_basement', 'yr_built'), 20.0),\n",
       " (('id', 'bedrooms', 'condition', 'grade', 'sqft_basement', 'yr_renovated'),\n",
       "  20.0),\n",
       " (('id', 'bedrooms', 'condition', 'grade', 'sqft_basement', 'sqft_living15'),\n",
       "  20.0),\n",
       " (('id', 'bedrooms', 'condition', 'grade', 'sqft_basement', 'sqft_lot15'),\n",
       "  20.0),\n",
       " (('id', 'bedrooms', 'condition', 'grade', 'yr_built', 'yr_renovated'), 20.0),\n",
       " (('id', 'bedrooms', 'condition', 'grade', 'yr_built', 'sqft_living15'), 20.0),\n",
       " (('id', 'bedrooms', 'condition', 'grade', 'yr_built', 'sqft_lot15'), 20.0),\n",
       " (('id', 'bedrooms', 'condition', 'grade', 'yr_renovated', 'sqft_living15'),\n",
       "  20.0),\n",
       " (('id', 'bedrooms', 'condition', 'grade', 'yr_renovated', 'sqft_lot15'),\n",
       "  20.0),\n",
       " (('id', 'bedrooms', 'condition', 'grade', 'sqft_living15', 'sqft_lot15'),\n",
       "  20.0),\n",
       " (('id', 'bedrooms', 'condition', 'sqft_above', 'sqft_basement', 'yr_built'),\n",
       "  20.0),\n",
       " (('id',\n",
       "   'bedrooms',\n",
       "   'condition',\n",
       "   'sqft_above',\n",
       "   'sqft_basement',\n",
       "   'yr_renovated'),\n",
       "  20.0),\n",
       " (('id',\n",
       "   'bedrooms',\n",
       "   'condition',\n",
       "   'sqft_above',\n",
       "   'sqft_basement',\n",
       "   'sqft_living15'),\n",
       "  20.0),\n",
       " (('id', 'bedrooms', 'condition', 'sqft_above', 'sqft_basement', 'sqft_lot15'),\n",
       "  20.0),\n",
       " (('id', 'bedrooms', 'condition', 'sqft_above', 'yr_built', 'yr_renovated'),\n",
       "  20.0),\n",
       " (('id', 'bedrooms', 'condition', 'sqft_above', 'yr_built', 'sqft_living15'),\n",
       "  20.0),\n",
       " (('id', 'bedrooms', 'condition', 'sqft_above', 'yr_built', 'sqft_lot15'),\n",
       "  20.0),\n",
       " (('id',\n",
       "   'bedrooms',\n",
       "   'condition',\n",
       "   'sqft_above',\n",
       "   'yr_renovated',\n",
       "   'sqft_living15'),\n",
       "  20.0),\n",
       " (('id', 'bedrooms', 'condition', 'sqft_above', 'yr_renovated', 'sqft_lot15'),\n",
       "  20.0),\n",
       " (('id', 'bedrooms', 'condition', 'sqft_above', 'sqft_living15', 'sqft_lot15'),\n",
       "  20.0),\n",
       " (('id', 'bedrooms', 'condition', 'sqft_basement', 'yr_built', 'yr_renovated'),\n",
       "  20.0),\n",
       " (('id',\n",
       "   'bedrooms',\n",
       "   'condition',\n",
       "   'sqft_basement',\n",
       "   'yr_built',\n",
       "   'sqft_living15'),\n",
       "  20.0),\n",
       " (('id', 'bedrooms', 'condition', 'sqft_basement', 'yr_built', 'sqft_lot15'),\n",
       "  20.0),\n",
       " (('id',\n",
       "   'bedrooms',\n",
       "   'condition',\n",
       "   'sqft_basement',\n",
       "   'yr_renovated',\n",
       "   'sqft_living15'),\n",
       "  20.0),\n",
       " (('id',\n",
       "   'bedrooms',\n",
       "   'condition',\n",
       "   'sqft_basement',\n",
       "   'yr_renovated',\n",
       "   'sqft_lot15'),\n",
       "  20.0),\n",
       " (('id',\n",
       "   'bedrooms',\n",
       "   'condition',\n",
       "   'sqft_basement',\n",
       "   'sqft_living15',\n",
       "   'sqft_lot15'),\n",
       "  20.0),\n",
       " (('id', 'bedrooms', 'condition', 'yr_built', 'yr_renovated', 'sqft_living15'),\n",
       "  20.0),\n",
       " (('id', 'bedrooms', 'condition', 'yr_built', 'yr_renovated', 'sqft_lot15'),\n",
       "  20.0),\n",
       " (('id', 'bedrooms', 'condition', 'yr_built', 'sqft_living15', 'sqft_lot15'),\n",
       "  20.0),\n",
       " (('id',\n",
       "   'bedrooms',\n",
       "   'condition',\n",
       "   'yr_renovated',\n",
       "   'sqft_living15',\n",
       "   'sqft_lot15'),\n",
       "  20.0),\n",
       " (('id', 'bedrooms', 'grade', 'sqft_above', 'sqft_basement', 'yr_built'),\n",
       "  20.0),\n",
       " (('id', 'bedrooms', 'grade', 'sqft_above', 'sqft_basement', 'yr_renovated'),\n",
       "  20.0),\n",
       " (('id', 'bedrooms', 'grade', 'sqft_above', 'sqft_basement', 'sqft_living15'),\n",
       "  20.0),\n",
       " (('id', 'bedrooms', 'grade', 'sqft_above', 'sqft_basement', 'sqft_lot15'),\n",
       "  20.0),\n",
       " (('id', 'bedrooms', 'grade', 'sqft_above', 'yr_built', 'yr_renovated'), 20.0),\n",
       " (('id', 'bedrooms', 'grade', 'sqft_above', 'yr_built', 'sqft_living15'),\n",
       "  20.0),\n",
       " (('id', 'bedrooms', 'grade', 'sqft_above', 'yr_built', 'sqft_lot15'), 20.0),\n",
       " (('id', 'bedrooms', 'grade', 'sqft_above', 'yr_renovated', 'sqft_living15'),\n",
       "  20.0),\n",
       " (('id', 'bedrooms', 'grade', 'sqft_above', 'yr_renovated', 'sqft_lot15'),\n",
       "  20.0),\n",
       " (('id', 'bedrooms', 'grade', 'sqft_above', 'sqft_living15', 'sqft_lot15'),\n",
       "  20.0),\n",
       " (('id', 'bedrooms', 'grade', 'sqft_basement', 'yr_built', 'yr_renovated'),\n",
       "  20.0),\n",
       " (('id', 'bedrooms', 'grade', 'sqft_basement', 'yr_built', 'sqft_living15'),\n",
       "  20.0),\n",
       " (('id', 'bedrooms', 'grade', 'sqft_basement', 'yr_built', 'sqft_lot15'),\n",
       "  20.0),\n",
       " (('id',\n",
       "   'bedrooms',\n",
       "   'grade',\n",
       "   'sqft_basement',\n",
       "   'yr_renovated',\n",
       "   'sqft_living15'),\n",
       "  20.0),\n",
       " (('id', 'bedrooms', 'grade', 'sqft_basement', 'yr_renovated', 'sqft_lot15'),\n",
       "  20.0),\n",
       " (('id', 'bedrooms', 'grade', 'sqft_basement', 'sqft_living15', 'sqft_lot15'),\n",
       "  20.0),\n",
       " (('id', 'bedrooms', 'grade', 'yr_built', 'yr_renovated', 'sqft_living15'),\n",
       "  20.0),\n",
       " (('id', 'bedrooms', 'grade', 'yr_built', 'yr_renovated', 'sqft_lot15'), 20.0),\n",
       " (('id', 'bedrooms', 'grade', 'yr_built', 'sqft_living15', 'sqft_lot15'),\n",
       "  20.0),\n",
       " (('id', 'bedrooms', 'grade', 'yr_renovated', 'sqft_living15', 'sqft_lot15'),\n",
       "  20.0),\n",
       " (('id',\n",
       "   'bedrooms',\n",
       "   'sqft_above',\n",
       "   'sqft_basement',\n",
       "   'yr_built',\n",
       "   'yr_renovated'),\n",
       "  20.0),\n",
       " (('id',\n",
       "   'bedrooms',\n",
       "   'sqft_above',\n",
       "   'sqft_basement',\n",
       "   'yr_built',\n",
       "   'sqft_living15'),\n",
       "  20.0),\n",
       " (('id', 'bedrooms', 'sqft_above', 'sqft_basement', 'yr_built', 'sqft_lot15'),\n",
       "  20.0),\n",
       " (('id',\n",
       "   'bedrooms',\n",
       "   'sqft_above',\n",
       "   'sqft_basement',\n",
       "   'yr_renovated',\n",
       "   'sqft_living15'),\n",
       "  20.0),\n",
       " (('id',\n",
       "   'bedrooms',\n",
       "   'sqft_above',\n",
       "   'sqft_basement',\n",
       "   'yr_renovated',\n",
       "   'sqft_lot15'),\n",
       "  20.0),\n",
       " (('id',\n",
       "   'bedrooms',\n",
       "   'sqft_above',\n",
       "   'sqft_basement',\n",
       "   'sqft_living15',\n",
       "   'sqft_lot15'),\n",
       "  20.0),\n",
       " (('id',\n",
       "   'bedrooms',\n",
       "   'sqft_above',\n",
       "   'yr_built',\n",
       "   'yr_renovated',\n",
       "   'sqft_living15'),\n",
       "  20.0),\n",
       " (('id', 'bedrooms', 'sqft_above', 'yr_built', 'yr_renovated', 'sqft_lot15'),\n",
       "  20.0),\n",
       " (('id', 'bedrooms', 'sqft_above', 'yr_built', 'sqft_living15', 'sqft_lot15'),\n",
       "  20.0),\n",
       " (('id',\n",
       "   'bedrooms',\n",
       "   'sqft_above',\n",
       "   'yr_renovated',\n",
       "   'sqft_living15',\n",
       "   'sqft_lot15'),\n",
       "  20.0),\n",
       " (('id',\n",
       "   'bedrooms',\n",
       "   'sqft_basement',\n",
       "   'yr_built',\n",
       "   'yr_renovated',\n",
       "   'sqft_living15'),\n",
       "  20.0),\n",
       " (('id',\n",
       "   'bedrooms',\n",
       "   'sqft_basement',\n",
       "   'yr_built',\n",
       "   'yr_renovated',\n",
       "   'sqft_lot15'),\n",
       "  20.0),\n",
       " (('id',\n",
       "   'bedrooms',\n",
       "   'sqft_basement',\n",
       "   'yr_built',\n",
       "   'sqft_living15',\n",
       "   'sqft_lot15'),\n",
       "  20.0),\n",
       " (('id',\n",
       "   'bedrooms',\n",
       "   'sqft_basement',\n",
       "   'yr_renovated',\n",
       "   'sqft_living15',\n",
       "   'sqft_lot15'),\n",
       "  20.0),\n",
       " ...]"
      ]
     },
     "execution_count": 106,
     "metadata": {},
     "output_type": "execute_result"
    }
   ],
   "source": [
    "scores_dict = zip(combos_kc,scores)\n",
    "\n",
    "sorted(scores_dict, key = lambda x:x[1], reverse=True)"
   ]
  },
  {
   "cell_type": "code",
   "execution_count": null,
   "metadata": {
    "collapsed": true
   },
   "outputs": [],
   "source": [
    "#1. Train test split\n",
    "X_train, X_test, y_train, y_test = train_test_split(X ,y, test_size = .25,\n",
    "                                                    random_state = 38)\n",
    "\n",
    "#2. Initialize lists of errors for train and test sets\n",
    "\n",
    "train_errors = []\n",
    "test_errors = []\n",
    "\n",
    "#3. Set range of depth values from 1 to 20\n",
    "depths = range(1,99)\n",
    "#4a. Iterate over depth values.\n",
    "#4b. Fit a DT model for each depth model.\n",
    "#4c. Evaluate the model on both the train and test sets.\n",
    "#4d. Append scores to train_errors and test_errors\n",
    "\n",
    "for depth in depths:\n",
    "    model = LinearRegression()\n",
    "    model.fit(X_train, y_train)\n",
    "    train_error = 1 - model.score(X_train, y_train)\n",
    "    test_error = 1 - model.score(X_test, y_test)\n",
    "    train_errors.append(train_error)\n",
    "    test_errors.append(test_error)\n",
    "    \n",
    "#5. Make two line plots. Plot depths vs train_errors and plot depths vs test_errors\n",
    "#Give them different colors and labels\n",
    "\n",
    "plt.plot(depths, train_errors, c= \"r\", label = \"Training Errors\")\n",
    "plt.plot(depths, test_errors, c= \"g\", label = \"Testing Errors\")\n",
    "plt.legend(loc = \"right\")\n",
    "plt.show();"
   ]
  },
  {
   "cell_type": "code",
   "execution_count": 85,
   "metadata": {},
   "outputs": [
    {
     "data": {
      "text/plain": [
       "0.65383227061098603"
      ]
     },
     "execution_count": 85,
     "metadata": {},
     "output_type": "execute_result"
    }
   ],
   "source": [
    "#cherry pick features to beat 65%!!!\n",
    "#from itertools combination\n",
    "cols_fe = ['id',\n",
    "   'bedrooms',\n",
    "   'bathrooms',\n",
    "   'sqft_living',\n",
    "   'floors',\n",
    "   'waterfront',\n",
    "   'view',\n",
    "   'condition',\n",
    "   'grade',\n",
    "   'yr_built',\n",
    "   'sqft_living15',\n",
    "   'sqft_lot15']\n",
    "X = kc.drop([\"price\"], axis = 1)\n",
    "\n",
    "X = kc[cols_fe]\n",
    "y = kc.price\n",
    "lr = LinearRegression()\n",
    "\n",
    "lr.fit(X, y)\n",
    "lr.score(X, y)"
   ]
  },
  {
   "cell_type": "code",
   "execution_count": null,
   "metadata": {
    "collapsed": true
   },
   "outputs": [],
   "source": []
  }
 ],
 "metadata": {
  "kernelspec": {
   "display_name": "Python 2",
   "language": "python",
   "name": "python2"
  },
  "language_info": {
   "codemirror_mode": {
    "name": "ipython",
    "version": 2
   },
   "file_extension": ".py",
   "mimetype": "text/x-python",
   "name": "python",
   "nbconvert_exporter": "python",
   "pygments_lexer": "ipython2",
   "version": "2.7.13"
  }
 },
 "nbformat": 4,
 "nbformat_minor": 2
}
