{
 "cells": [
  {
   "cell_type": "code",
   "execution_count": 15,
   "metadata": {
    "collapsed": true
   },
   "outputs": [],
   "source": [
    "#Fill this out with your own user_name and api key\n",
    "user_name = \"DarrenK.Lee\"\n",
    "api_key = \"WYxa9Ex7UzcBS0yCdY9Y\""
   ]
  },
  {
   "cell_type": "code",
   "execution_count": 21,
   "metadata": {
    "collapsed": true
   },
   "outputs": [],
   "source": [
    "\n",
    "#Imports\n",
    "\n",
    "import pandas as pd\n",
    "import numpy as np\n",
    "import matplotlib.pyplot as plt\n",
    "%matplotlib inline"
   ]
  },
  {
   "cell_type": "code",
   "execution_count": 27,
   "metadata": {},
   "outputs": [
    {
     "name": "stdout",
     "output_type": "stream",
     "text": [
      "Collecting plotly\n",
      "  Downloading plotly-2.2.3.tar.gz (1.1MB)\n",
      "\u001b[K    100% |████████████████████████████████| 1.1MB 973kB/s ta 0:00:011\n",
      "\u001b[?25hRequirement already satisfied: decorator>=4.0.6 in /Users/darrenklee/anaconda2/lib/python2.7/site-packages (from plotly)\n",
      "Requirement already satisfied: nbformat>=4.2 in /Users/darrenklee/anaconda2/lib/python2.7/site-packages (from plotly)\n",
      "Requirement already satisfied: pytz in /Users/darrenklee/anaconda2/lib/python2.7/site-packages (from plotly)\n",
      "Requirement already satisfied: requests in /Users/darrenklee/anaconda2/lib/python2.7/site-packages (from plotly)\n",
      "Requirement already satisfied: six in /Users/darrenklee/anaconda2/lib/python2.7/site-packages (from plotly)\n",
      "Requirement already satisfied: ipython_genutils in /Users/darrenklee/anaconda2/lib/python2.7/site-packages (from nbformat>=4.2->plotly)\n",
      "Requirement already satisfied: traitlets>=4.1 in /Users/darrenklee/anaconda2/lib/python2.7/site-packages (from nbformat>=4.2->plotly)\n",
      "Requirement already satisfied: jsonschema!=2.5.0,>=2.4 in /Users/darrenklee/anaconda2/lib/python2.7/site-packages (from nbformat>=4.2->plotly)\n",
      "Requirement already satisfied: jupyter_core in /Users/darrenklee/anaconda2/lib/python2.7/site-packages (from nbformat>=4.2->plotly)\n",
      "Requirement already satisfied: chardet<3.1.0,>=3.0.2 in /Users/darrenklee/anaconda2/lib/python2.7/site-packages (from requests->plotly)\n",
      "Requirement already satisfied: idna<2.7,>=2.5 in /Users/darrenklee/anaconda2/lib/python2.7/site-packages (from requests->plotly)\n",
      "Requirement already satisfied: urllib3<1.23,>=1.21.1 in /Users/darrenklee/anaconda2/lib/python2.7/site-packages (from requests->plotly)\n",
      "Requirement already satisfied: certifi>=2017.4.17 in /Users/darrenklee/anaconda2/lib/python2.7/site-packages (from requests->plotly)\n",
      "Requirement already satisfied: enum34 in /Users/darrenklee/anaconda2/lib/python2.7/site-packages (from traitlets>=4.1->nbformat>=4.2->plotly)\n",
      "Requirement already satisfied: functools32 in /Users/darrenklee/anaconda2/lib/python2.7/site-packages (from jsonschema!=2.5.0,>=2.4->nbformat>=4.2->plotly)\n",
      "Building wheels for collected packages: plotly\n",
      "  Running setup.py bdist_wheel for plotly ... \u001b[?25ldone\n",
      "\u001b[?25h  Stored in directory: /Users/darrenklee/Library/Caches/pip/wheels/2c/4c/ec/eb8a05f2e5005799f802e602a47e439ae9e09844822ebc4fd0\n",
      "Successfully built plotly\n",
      "Installing collected packages: plotly\n",
      "Successfully installed plotly-2.2.3\n"
     ]
    }
   ],
   "source": [
    "!pip install plotly"
   ]
  },
  {
   "cell_type": "code",
   "execution_count": 28,
   "metadata": {},
   "outputs": [],
   "source": [
    "#Import plotly and sign in with user name and api\n",
    "\n",
    "import plotly.plotly as py\n",
    "py.sign_in(user_name, api_key)\n",
    "import plotly.graph_objs as go"
   ]
  },
  {
   "cell_type": "code",
   "execution_count": 17,
   "metadata": {
    "collapsed": true
   },
   "outputs": [],
   "source": [
    "spotify = pd.read_csv('/Users/darrenklee/Desktop/DS-SF-40 copy/data/spotify_data.csv', index_col=[0])"
   ]
  },
  {
   "cell_type": "code",
   "execution_count": 12,
   "metadata": {
    "collapsed": true
   },
   "outputs": [],
   "source": [
    "amazon = pd.read_csv('/Users/darrenklee/Desktop/DS-SF-40 copy/data/amazon_cities_data.csv')"
   ]
  },
  {
   "cell_type": "code",
   "execution_count": 36,
   "metadata": {
    "collapsed": true
   },
   "outputs": [],
   "source": [
    "housing = pd.read_csv('/Users/darrenklee/Desktop/DS-SF-40 copy/data/kc_house_data.csv')"
   ]
  },
  {
   "cell_type": "code",
   "execution_count": 37,
   "metadata": {
    "collapsed": true
   },
   "outputs": [],
   "source": [
    "pokemon = pd.read_csv('/Users/darrenklee/Desktop/DS-SF-40 copy/data/Pokemon.csv')"
   ]
  },
  {
   "cell_type": "code",
   "execution_count": null,
   "metadata": {},
   "outputs": [],
   "source": [
    "soccer_tweets = pd.read_pickle('/Users/darrenklee/Desktop/DS-SF-40-Old/data/geotweets.pkl')"
   ]
  },
  {
   "cell_type": "code",
   "execution_count": 13,
   "metadata": {},
   "outputs": [
    {
     "data": {
      "text/html": [
       "<div>\n",
       "<style>\n",
       "    .dataframe thead tr:only-child th {\n",
       "        text-align: right;\n",
       "    }\n",
       "\n",
       "    .dataframe thead th {\n",
       "        text-align: left;\n",
       "    }\n",
       "\n",
       "    .dataframe tbody tr th {\n",
       "        vertical-align: top;\n",
       "    }\n",
       "</style>\n",
       "<table border=\"1\" class=\"dataframe\">\n",
       "  <thead>\n",
       "    <tr style=\"text-align: right;\">\n",
       "      <th></th>\n",
       "      <th>acousticness</th>\n",
       "      <th>danceability</th>\n",
       "      <th>instrumentalness</th>\n",
       "      <th>valence</th>\n",
       "      <th>energy</th>\n",
       "      <th>target</th>\n",
       "    </tr>\n",
       "  </thead>\n",
       "  <tbody>\n",
       "    <tr>\n",
       "      <th>Mask_Off***Future</th>\n",
       "      <td>0.0102</td>\n",
       "      <td>0.833</td>\n",
       "      <td>0.021900</td>\n",
       "      <td>0.286</td>\n",
       "      <td>0.434</td>\n",
       "      <td>1</td>\n",
       "    </tr>\n",
       "    <tr>\n",
       "      <th>Redbone***Childish_Gambino</th>\n",
       "      <td>0.1990</td>\n",
       "      <td>0.743</td>\n",
       "      <td>0.006110</td>\n",
       "      <td>0.588</td>\n",
       "      <td>0.359</td>\n",
       "      <td>1</td>\n",
       "    </tr>\n",
       "    <tr>\n",
       "      <th>Xanny_Family***Future</th>\n",
       "      <td>0.0344</td>\n",
       "      <td>0.838</td>\n",
       "      <td>0.000234</td>\n",
       "      <td>0.173</td>\n",
       "      <td>0.412</td>\n",
       "      <td>1</td>\n",
       "    </tr>\n",
       "    <tr>\n",
       "      <th>Master_Of_None***Beach_House</th>\n",
       "      <td>0.6040</td>\n",
       "      <td>0.494</td>\n",
       "      <td>0.510000</td>\n",
       "      <td>0.230</td>\n",
       "      <td>0.338</td>\n",
       "      <td>1</td>\n",
       "    </tr>\n",
       "    <tr>\n",
       "      <th>Parallel_Lines***Junior_Boys</th>\n",
       "      <td>0.1800</td>\n",
       "      <td>0.678</td>\n",
       "      <td>0.512000</td>\n",
       "      <td>0.904</td>\n",
       "      <td>0.561</td>\n",
       "      <td>1</td>\n",
       "    </tr>\n",
       "  </tbody>\n",
       "</table>\n",
       "</div>"
      ],
      "text/plain": [
       "                              acousticness  danceability  instrumentalness  \\\n",
       "Mask_Off***Future                   0.0102         0.833          0.021900   \n",
       "Redbone***Childish_Gambino          0.1990         0.743          0.006110   \n",
       "Xanny_Family***Future               0.0344         0.838          0.000234   \n",
       "Master_Of_None***Beach_House        0.6040         0.494          0.510000   \n",
       "Parallel_Lines***Junior_Boys        0.1800         0.678          0.512000   \n",
       "\n",
       "                              valence  energy  target  \n",
       "Mask_Off***Future               0.286   0.434       1  \n",
       "Redbone***Childish_Gambino      0.588   0.359       1  \n",
       "Xanny_Family***Future           0.173   0.412       1  \n",
       "Master_Of_None***Beach_House    0.230   0.338       1  \n",
       "Parallel_Lines***Junior_Boys    0.904   0.561       1  "
      ]
     },
     "execution_count": 13,
     "metadata": {},
     "output_type": "execute_result"
    }
   ],
   "source": [
    "spotify.head()"
   ]
  },
  {
   "cell_type": "code",
   "execution_count": 29,
   "metadata": {},
   "outputs": [
    {
     "data": {
      "text/html": [
       "<iframe id=\"igraph\" scrolling=\"no\" style=\"border:none;\" seamless=\"seamless\" src=\"https://plot.ly/~DarrenK.Lee/4.embed\" height=\"525px\" width=\"100%\"></iframe>"
      ],
      "text/plain": [
       "<plotly.tools.PlotlyDisplay object>"
      ]
     },
     "execution_count": 29,
     "metadata": {},
     "output_type": "execute_result"
    }
   ],
   "source": [
    "#Assign x and y variables from spotify data\n",
    "\n",
    "x = spotify.acousticness\n",
    "y = spotify.danceability\n",
    "\n",
    "\n",
    "#Plot the two attributes versus each other in scatter plot\n",
    "\n",
    "# Create a trace \n",
    "trace = go.Scatter(\n",
    "    x = x,\n",
    "    y = y,\n",
    "    mode = 'markers',\n",
    "    name = \"Basic Scatter plot\"\n",
    ")\n",
    "\n",
    "#put all the traces into a list\n",
    "data = [trace]\n",
    "\n",
    "# Plot and embed in ipython notebook!\n",
    "layout = go.Layout(showlegend=True)\n",
    "fig = go.Figure(data=data, layout=layout)\n",
    "\n",
    "py.iplot(fig, filename='basic-scatter')"
   ]
  },
  {
   "cell_type": "code",
   "execution_count": 30,
   "metadata": {},
   "outputs": [
    {
     "data": {
      "text/html": [
       "<iframe id=\"igraph\" scrolling=\"no\" style=\"border:none;\" seamless=\"seamless\" src=\"https://plot.ly/~DarrenK.Lee/6.embed\" height=\"525px\" width=\"100%\"></iframe>"
      ],
      "text/plain": [
       "<plotly.tools.PlotlyDisplay object>"
      ]
     },
     "execution_count": 30,
     "metadata": {},
     "output_type": "execute_result"
    }
   ],
   "source": [
    "#Use valence variable to assign color\n",
    "color = spotify.valence\n",
    "\n",
    "\n",
    "# Create a trace \n",
    "trace = go.Scatter(\n",
    "    x = x,\n",
    "    y = y,\n",
    "    mode = 'markers',\n",
    "    marker = {\"size\":14,\n",
    "             \"color\" : color,\n",
    "             \"colorscale\" : \"Viridis\",\n",
    "             \"showscale\": True},\n",
    "    name = \"Acousticness vs Danceability\"\n",
    "    \n",
    ")\n",
    "\n",
    "#put all the traces into a list\n",
    "data = [trace]\n",
    "\n",
    "# Plot and embed in ipython notebook. Give it a title.\n",
    "layout = go.Layout(title = \"Spotify Scatter Plot\")\n",
    "fig = go.Figure(data=data, layout=layout)\n",
    "\n",
    "py.iplot(fig, filename='spotify_scatter')"
   ]
  },
  {
   "cell_type": "code",
   "execution_count": 31,
   "metadata": {},
   "outputs": [
    {
     "data": {
      "text/html": [
       "<iframe id=\"igraph\" scrolling=\"no\" style=\"border:none;\" seamless=\"seamless\" src=\"https://plot.ly/~DarrenK.Lee/6.embed\" height=\"525px\" width=\"100%\"></iframe>"
      ],
      "text/plain": [
       "<plotly.tools.PlotlyDisplay object>"
      ]
     },
     "execution_count": 31,
     "metadata": {},
     "output_type": "execute_result"
    }
   ],
   "source": [
    "#Use outcome variable to assign color\n",
    "color = spotify.target\n",
    "\n",
    "# Create a trace \n",
    "trace = go.Scatter(\n",
    "    x = x,\n",
    "    y = y,\n",
    "    mode = 'markers',\n",
    "    marker = {\"size\":14,\n",
    "             \"color\" : color,\n",
    "             \"colorscale\" : \"Viridis\",\n",
    "             \"showscale\": True},\n",
    "    name = \"Acousticness vs Danceability\"\n",
    "    \n",
    ")\n",
    "\n",
    "#put all the traces into a list\n",
    "data = [trace]\n",
    "\n",
    "# Plot and embed in ipython notebook. Give it a title.\n",
    "layout = go.Layout(title = \"Spotify Scatter Plot\")\n",
    "fig = go.Figure(data=data, layout=layout)\n",
    "\n",
    "py.iplot(fig, filename='spotify_scatter')"
   ]
  },
  {
   "cell_type": "markdown",
   "metadata": {},
   "source": [
    "Same plot but with two different traces."
   ]
  },
  {
   "cell_type": "code",
   "execution_count": 33,
   "metadata": {
    "collapsed": true
   },
   "outputs": [],
   "source": [
    "#Assign x0, y0, x1, y1\n",
    "\n",
    "x0 = spotify[spotify.target == 0].acousticness\n",
    "y0 = spotify[spotify.target == 0].danceability\n",
    "\n",
    "x1 = spotify[spotify.target == 1].acousticness\n",
    "y1 = spotify[spotify.target == 1].danceability"
   ]
  },
  {
   "cell_type": "code",
   "execution_count": 34,
   "metadata": {},
   "outputs": [
    {
     "data": {
      "text/html": [
       "<iframe id=\"igraph\" scrolling=\"no\" style=\"border:none;\" seamless=\"seamless\" src=\"https://plot.ly/~DarrenK.Lee/8.embed\" height=\"525px\" width=\"100%\"></iframe>"
      ],
      "text/plain": [
       "<plotly.tools.PlotlyDisplay object>"
      ]
     },
     "execution_count": 34,
     "metadata": {},
     "output_type": "execute_result"
    }
   ],
   "source": [
    "# Create a trace0 with x0 and y0\n",
    "trace0 = go.Scatter(\n",
    "    x = x0,\n",
    "    y = y0,\n",
    "    mode = 'markers',\n",
    "    marker = {\"size\":12,\n",
    "             \"color\" : \"blue\"}, opacity = .7,\n",
    "    name = \"Disliked Songs\"    \n",
    ")\n",
    "\n",
    "trace1 = go.Scatter(\n",
    "    x = x1,\n",
    "    y = y1,\n",
    "    mode = 'markers',\n",
    "    marker = {\"size\":12,\n",
    "             \"color\" : \"red\"}, opacity = .7,\n",
    "    name = \"Liked Songs\"    \n",
    ")\n",
    "\n",
    "#put all the traces into a list\n",
    "data = [trace0, trace1]\n",
    "\n",
    "# Plot and embed in ipython notebook. Give it a title.\n",
    "layout = go.Layout(title = \"Spotify Scatter Plot\", showlegend = True)\n",
    "fig = go.Figure(data=data, layout=layout)\n",
    "\n",
    "py.iplot(fig, filename='spotify_scatter_2')"
   ]
  },
  {
   "cell_type": "code",
   "execution_count": 39,
   "metadata": {},
   "outputs": [
    {
     "data": {
      "text/plain": [
       "Index([u'cities', u'sprawl', u'diversity', u'business_score',\n",
       "       u'fiber_coverage', u'excellent_education', u'percent_bachelors',\n",
       "       u'life_quality', u'mobile_network_score', u'transit_scores'],\n",
       "      dtype='object')"
      ]
     },
     "execution_count": 39,
     "metadata": {},
     "output_type": "execute_result"
    }
   ],
   "source": [
    "amazon.columns"
   ]
  },
  {
   "cell_type": "code",
   "execution_count": 40,
   "metadata": {},
   "outputs": [
    {
     "data": {
      "text/html": [
       "<iframe id=\"igraph\" scrolling=\"no\" style=\"border:none;\" seamless=\"seamless\" src=\"https://plot.ly/~DarrenK.Lee/10.embed\" height=\"525px\" width=\"100%\"></iframe>"
      ],
      "text/plain": [
       "<plotly.tools.PlotlyDisplay object>"
      ]
     },
     "execution_count": 40,
     "metadata": {},
     "output_type": "execute_result"
    }
   ],
   "source": [
    "#Assign variables from amazon dataset\n",
    "cities = amazon.cities\n",
    "diversity = amazon.diversity\n",
    "transit = amazon.transit_scores\n",
    "\n",
    "\n",
    "# Create trace \n",
    "trace = go.Scatter(\n",
    "    x = diversity,\n",
    "    y = transit,\n",
    "    mode = 'markers',\n",
    "    text = cities    \n",
    ")\n",
    "\n",
    "\n",
    "#put all the traces into a list\n",
    "data = [trace]\n",
    "\n",
    "# Plot and embed in ipython notebook. Give it a title.\n",
    "layout = go.Layout(title = \"City Diversity vs Transit Scores\",\n",
    "                  hovermode = \"closest\")\n",
    "fig = go.Figure(data=data, layout=layout)\n",
    "\n",
    "py.iplot(fig, filename='Amazon Cities')"
   ]
  },
  {
   "cell_type": "markdown",
   "metadata": {},
   "source": [
    "# Line time series plot"
   ]
  },
  {
   "cell_type": "code",
   "execution_count": 41,
   "metadata": {},
   "outputs": [
    {
     "data": {
      "text/html": [
       "<div>\n",
       "<style>\n",
       "    .dataframe thead tr:only-child th {\n",
       "        text-align: right;\n",
       "    }\n",
       "\n",
       "    .dataframe thead th {\n",
       "        text-align: left;\n",
       "    }\n",
       "\n",
       "    .dataframe tbody tr th {\n",
       "        vertical-align: top;\n",
       "    }\n",
       "</style>\n",
       "<table border=\"1\" class=\"dataframe\">\n",
       "  <thead>\n",
       "    <tr style=\"text-align: right;\">\n",
       "      <th></th>\n",
       "      <th>Date</th>\n",
       "      <th>AAPL.Open</th>\n",
       "      <th>AAPL.High</th>\n",
       "      <th>AAPL.Low</th>\n",
       "      <th>AAPL.Close</th>\n",
       "      <th>AAPL.Volume</th>\n",
       "      <th>AAPL.Adjusted</th>\n",
       "      <th>dn</th>\n",
       "      <th>mavg</th>\n",
       "      <th>up</th>\n",
       "      <th>direction</th>\n",
       "    </tr>\n",
       "  </thead>\n",
       "  <tbody>\n",
       "    <tr>\n",
       "      <th>0</th>\n",
       "      <td>2015-02-17</td>\n",
       "      <td>127.489998</td>\n",
       "      <td>128.880005</td>\n",
       "      <td>126.919998</td>\n",
       "      <td>127.830002</td>\n",
       "      <td>63152400</td>\n",
       "      <td>122.905254</td>\n",
       "      <td>106.741052</td>\n",
       "      <td>117.927667</td>\n",
       "      <td>129.114281</td>\n",
       "      <td>Increasing</td>\n",
       "    </tr>\n",
       "    <tr>\n",
       "      <th>1</th>\n",
       "      <td>2015-02-18</td>\n",
       "      <td>127.629997</td>\n",
       "      <td>128.779999</td>\n",
       "      <td>127.449997</td>\n",
       "      <td>128.720001</td>\n",
       "      <td>44891700</td>\n",
       "      <td>123.760965</td>\n",
       "      <td>107.842423</td>\n",
       "      <td>118.940333</td>\n",
       "      <td>130.038244</td>\n",
       "      <td>Increasing</td>\n",
       "    </tr>\n",
       "    <tr>\n",
       "      <th>2</th>\n",
       "      <td>2015-02-19</td>\n",
       "      <td>128.479996</td>\n",
       "      <td>129.029999</td>\n",
       "      <td>128.330002</td>\n",
       "      <td>128.449997</td>\n",
       "      <td>37362400</td>\n",
       "      <td>123.501363</td>\n",
       "      <td>108.894245</td>\n",
       "      <td>119.889167</td>\n",
       "      <td>130.884089</td>\n",
       "      <td>Decreasing</td>\n",
       "    </tr>\n",
       "    <tr>\n",
       "      <th>3</th>\n",
       "      <td>2015-02-20</td>\n",
       "      <td>128.619995</td>\n",
       "      <td>129.500000</td>\n",
       "      <td>128.050003</td>\n",
       "      <td>129.500000</td>\n",
       "      <td>48948400</td>\n",
       "      <td>124.510914</td>\n",
       "      <td>109.785449</td>\n",
       "      <td>120.763500</td>\n",
       "      <td>131.741551</td>\n",
       "      <td>Increasing</td>\n",
       "    </tr>\n",
       "    <tr>\n",
       "      <th>4</th>\n",
       "      <td>2015-02-23</td>\n",
       "      <td>130.020004</td>\n",
       "      <td>133.000000</td>\n",
       "      <td>129.660004</td>\n",
       "      <td>133.000000</td>\n",
       "      <td>70974100</td>\n",
       "      <td>127.876074</td>\n",
       "      <td>110.372516</td>\n",
       "      <td>121.720167</td>\n",
       "      <td>133.067817</td>\n",
       "      <td>Increasing</td>\n",
       "    </tr>\n",
       "  </tbody>\n",
       "</table>\n",
       "</div>"
      ],
      "text/plain": [
       "         Date   AAPL.Open   AAPL.High    AAPL.Low  AAPL.Close  AAPL.Volume  \\\n",
       "0  2015-02-17  127.489998  128.880005  126.919998  127.830002     63152400   \n",
       "1  2015-02-18  127.629997  128.779999  127.449997  128.720001     44891700   \n",
       "2  2015-02-19  128.479996  129.029999  128.330002  128.449997     37362400   \n",
       "3  2015-02-20  128.619995  129.500000  128.050003  129.500000     48948400   \n",
       "4  2015-02-23  130.020004  133.000000  129.660004  133.000000     70974100   \n",
       "\n",
       "   AAPL.Adjusted          dn        mavg          up   direction  \n",
       "0     122.905254  106.741052  117.927667  129.114281  Increasing  \n",
       "1     123.760965  107.842423  118.940333  130.038244  Increasing  \n",
       "2     123.501363  108.894245  119.889167  130.884089  Decreasing  \n",
       "3     124.510914  109.785449  120.763500  131.741551  Increasing  \n",
       "4     127.876074  110.372516  121.720167  133.067817  Increasing  "
      ]
     },
     "execution_count": 41,
     "metadata": {},
     "output_type": "execute_result"
    }
   ],
   "source": [
    "#Load in apple stock price data\n",
    "\n",
    "aapl = pd.read_csv(\"https://raw.githubusercontent.com/plotly/datasets/master/finance-charts-apple.csv\")\n",
    "aapl.head()"
   ]
  },
  {
   "cell_type": "code",
   "execution_count": 42,
   "metadata": {},
   "outputs": [
    {
     "data": {
      "text/html": [
       "<iframe id=\"igraph\" scrolling=\"no\" style=\"border:none;\" seamless=\"seamless\" src=\"https://plot.ly/~DarrenK.Lee/12.embed\" height=\"525px\" width=\"100%\"></iframe>"
      ],
      "text/plain": [
       "<plotly.tools.PlotlyDisplay object>"
      ]
     },
     "execution_count": 42,
     "metadata": {},
     "output_type": "execute_result"
    }
   ],
   "source": [
    "# Create a line plot of closing price\n",
    "aapl_close = go.Scatter(\n",
    "    x = aapl.Date,\n",
    "    y = aapl[\"AAPL.Close\"],\n",
    "    name = \"Closing Price\"\n",
    ")\n",
    "# Create a line plot of opening price\n",
    "aapl_open = go.Scatter(\n",
    "    x = aapl.Date,\n",
    "    y = aapl[\"AAPL.Open\"],\n",
    "    name = \"Opening Price\"\n",
    ")\n",
    "\n",
    "#put all the traces into a list\n",
    "data = [aapl_close, aapl_open]\n",
    "\n",
    "# Plot and embed in ipython notebook!\n",
    "layout = go.Layout(title = \"Apple (aapl) Stock Opening and Closing Price\")\n",
    "fig = go.Figure(data=data, layout=layout)\n",
    "\n",
    "py.iplot(fig, filename='Apple Stock Prices')"
   ]
  },
  {
   "cell_type": "code",
   "execution_count": 44,
   "metadata": {},
   "outputs": [
    {
     "data": {
      "text/plain": [
       "dtype('O')"
      ]
     },
     "execution_count": 44,
     "metadata": {},
     "output_type": "execute_result"
    }
   ],
   "source": [
    "aapl.Date.dtype\n",
    "\n",
    "# it's an object, and plot.ly recognizes this.. "
   ]
  },
  {
   "cell_type": "code",
   "execution_count": 47,
   "metadata": {},
   "outputs": [
    {
     "data": {
      "text/plain": [
       "dtype('<M8[ns]')"
      ]
     },
     "execution_count": 47,
     "metadata": {},
     "output_type": "execute_result"
    }
   ],
   "source": [
    "pd.to_datetime(aapl.Date).dtype"
   ]
  },
  {
   "cell_type": "code",
   "execution_count": null,
   "metadata": {
    "collapsed": true
   },
   "outputs": [],
   "source": []
  },
  {
   "cell_type": "markdown",
   "metadata": {},
   "source": [
    "# Bar plot and histograms"
   ]
  },
  {
   "cell_type": "code",
   "execution_count": 48,
   "metadata": {
    "collapsed": true
   },
   "outputs": [],
   "source": [
    "#Filter out homes more expensive that $2M\n",
    "\n",
    "housing = housing[housing.price <= 2000000].copy()"
   ]
  },
  {
   "cell_type": "code",
   "execution_count": 50,
   "metadata": {},
   "outputs": [
    {
     "data": {
      "text/html": [
       "<div>\n",
       "<style>\n",
       "    .dataframe thead tr:only-child th {\n",
       "        text-align: right;\n",
       "    }\n",
       "\n",
       "    .dataframe thead th {\n",
       "        text-align: left;\n",
       "    }\n",
       "\n",
       "    .dataframe tbody tr th {\n",
       "        vertical-align: top;\n",
       "    }\n",
       "</style>\n",
       "<table border=\"1\" class=\"dataframe\">\n",
       "  <thead>\n",
       "    <tr style=\"text-align: right;\">\n",
       "      <th></th>\n",
       "      <th>id</th>\n",
       "      <th>date</th>\n",
       "      <th>price</th>\n",
       "      <th>bedrooms</th>\n",
       "      <th>bathrooms</th>\n",
       "      <th>sqft_living</th>\n",
       "      <th>sqft_lot</th>\n",
       "      <th>floors</th>\n",
       "      <th>waterfront</th>\n",
       "      <th>view</th>\n",
       "      <th>...</th>\n",
       "      <th>grade</th>\n",
       "      <th>sqft_above</th>\n",
       "      <th>sqft_basement</th>\n",
       "      <th>yr_built</th>\n",
       "      <th>yr_renovated</th>\n",
       "      <th>zipcode</th>\n",
       "      <th>lat</th>\n",
       "      <th>long</th>\n",
       "      <th>sqft_living15</th>\n",
       "      <th>sqft_lot15</th>\n",
       "    </tr>\n",
       "  </thead>\n",
       "  <tbody>\n",
       "    <tr>\n",
       "      <th>0</th>\n",
       "      <td>7129300520</td>\n",
       "      <td>20141013T000000</td>\n",
       "      <td>221900.0</td>\n",
       "      <td>3</td>\n",
       "      <td>1.00</td>\n",
       "      <td>1180</td>\n",
       "      <td>5650</td>\n",
       "      <td>1.0</td>\n",
       "      <td>0</td>\n",
       "      <td>0</td>\n",
       "      <td>...</td>\n",
       "      <td>7</td>\n",
       "      <td>1180</td>\n",
       "      <td>0</td>\n",
       "      <td>1955</td>\n",
       "      <td>0</td>\n",
       "      <td>98178</td>\n",
       "      <td>47.5112</td>\n",
       "      <td>-122.257</td>\n",
       "      <td>1340</td>\n",
       "      <td>5650</td>\n",
       "    </tr>\n",
       "    <tr>\n",
       "      <th>1</th>\n",
       "      <td>6414100192</td>\n",
       "      <td>20141209T000000</td>\n",
       "      <td>538000.0</td>\n",
       "      <td>3</td>\n",
       "      <td>2.25</td>\n",
       "      <td>2570</td>\n",
       "      <td>7242</td>\n",
       "      <td>2.0</td>\n",
       "      <td>0</td>\n",
       "      <td>0</td>\n",
       "      <td>...</td>\n",
       "      <td>7</td>\n",
       "      <td>2170</td>\n",
       "      <td>400</td>\n",
       "      <td>1951</td>\n",
       "      <td>1991</td>\n",
       "      <td>98125</td>\n",
       "      <td>47.7210</td>\n",
       "      <td>-122.319</td>\n",
       "      <td>1690</td>\n",
       "      <td>7639</td>\n",
       "    </tr>\n",
       "    <tr>\n",
       "      <th>2</th>\n",
       "      <td>5631500400</td>\n",
       "      <td>20150225T000000</td>\n",
       "      <td>180000.0</td>\n",
       "      <td>2</td>\n",
       "      <td>1.00</td>\n",
       "      <td>770</td>\n",
       "      <td>10000</td>\n",
       "      <td>1.0</td>\n",
       "      <td>0</td>\n",
       "      <td>0</td>\n",
       "      <td>...</td>\n",
       "      <td>6</td>\n",
       "      <td>770</td>\n",
       "      <td>0</td>\n",
       "      <td>1933</td>\n",
       "      <td>0</td>\n",
       "      <td>98028</td>\n",
       "      <td>47.7379</td>\n",
       "      <td>-122.233</td>\n",
       "      <td>2720</td>\n",
       "      <td>8062</td>\n",
       "    </tr>\n",
       "    <tr>\n",
       "      <th>3</th>\n",
       "      <td>2487200875</td>\n",
       "      <td>20141209T000000</td>\n",
       "      <td>604000.0</td>\n",
       "      <td>4</td>\n",
       "      <td>3.00</td>\n",
       "      <td>1960</td>\n",
       "      <td>5000</td>\n",
       "      <td>1.0</td>\n",
       "      <td>0</td>\n",
       "      <td>0</td>\n",
       "      <td>...</td>\n",
       "      <td>7</td>\n",
       "      <td>1050</td>\n",
       "      <td>910</td>\n",
       "      <td>1965</td>\n",
       "      <td>0</td>\n",
       "      <td>98136</td>\n",
       "      <td>47.5208</td>\n",
       "      <td>-122.393</td>\n",
       "      <td>1360</td>\n",
       "      <td>5000</td>\n",
       "    </tr>\n",
       "    <tr>\n",
       "      <th>4</th>\n",
       "      <td>1954400510</td>\n",
       "      <td>20150218T000000</td>\n",
       "      <td>510000.0</td>\n",
       "      <td>3</td>\n",
       "      <td>2.00</td>\n",
       "      <td>1680</td>\n",
       "      <td>8080</td>\n",
       "      <td>1.0</td>\n",
       "      <td>0</td>\n",
       "      <td>0</td>\n",
       "      <td>...</td>\n",
       "      <td>8</td>\n",
       "      <td>1680</td>\n",
       "      <td>0</td>\n",
       "      <td>1987</td>\n",
       "      <td>0</td>\n",
       "      <td>98074</td>\n",
       "      <td>47.6168</td>\n",
       "      <td>-122.045</td>\n",
       "      <td>1800</td>\n",
       "      <td>7503</td>\n",
       "    </tr>\n",
       "  </tbody>\n",
       "</table>\n",
       "<p>5 rows × 21 columns</p>\n",
       "</div>"
      ],
      "text/plain": [
       "           id             date     price  bedrooms  bathrooms  sqft_living  \\\n",
       "0  7129300520  20141013T000000  221900.0         3       1.00         1180   \n",
       "1  6414100192  20141209T000000  538000.0         3       2.25         2570   \n",
       "2  5631500400  20150225T000000  180000.0         2       1.00          770   \n",
       "3  2487200875  20141209T000000  604000.0         4       3.00         1960   \n",
       "4  1954400510  20150218T000000  510000.0         3       2.00         1680   \n",
       "\n",
       "   sqft_lot  floors  waterfront  view     ...      grade  sqft_above  \\\n",
       "0      5650     1.0           0     0     ...          7        1180   \n",
       "1      7242     2.0           0     0     ...          7        2170   \n",
       "2     10000     1.0           0     0     ...          6         770   \n",
       "3      5000     1.0           0     0     ...          7        1050   \n",
       "4      8080     1.0           0     0     ...          8        1680   \n",
       "\n",
       "   sqft_basement  yr_built  yr_renovated  zipcode      lat     long  \\\n",
       "0              0      1955             0    98178  47.5112 -122.257   \n",
       "1            400      1951          1991    98125  47.7210 -122.319   \n",
       "2              0      1933             0    98028  47.7379 -122.233   \n",
       "3            910      1965             0    98136  47.5208 -122.393   \n",
       "4              0      1987             0    98074  47.6168 -122.045   \n",
       "\n",
       "   sqft_living15  sqft_lot15  \n",
       "0           1340        5650  \n",
       "1           1690        7639  \n",
       "2           2720        8062  \n",
       "3           1360        5000  \n",
       "4           1800        7503  \n",
       "\n",
       "[5 rows x 21 columns]"
      ]
     },
     "execution_count": 50,
     "metadata": {},
     "output_type": "execute_result"
    }
   ],
   "source": [
    "housing.head()"
   ]
  },
  {
   "cell_type": "code",
   "execution_count": 51,
   "metadata": {},
   "outputs": [
    {
     "data": {
      "text/html": [
       "<iframe id=\"igraph\" scrolling=\"no\" style=\"border:none;\" seamless=\"seamless\" src=\"https://plot.ly/~DarrenK.Lee/14.embed\" height=\"525px\" width=\"100%\"></iframe>"
      ],
      "text/plain": [
       "<plotly.tools.PlotlyDisplay object>"
      ]
     },
     "execution_count": 51,
     "metadata": {},
     "output_type": "execute_result"
    }
   ],
   "source": [
    "#Create histogram of housing prices\n",
    "\n",
    "prices = housing.price\n",
    "\n",
    "trace = go.Histogram(x = prices, histnorm = \"probability\")\n",
    "\n",
    "py.iplot([trace], filename='Housing Prices Histogram')"
   ]
  },
  {
   "cell_type": "markdown",
   "metadata": {},
   "source": [
    "Overlaid histogram, housing prices for 1 and 2 floor houses."
   ]
  },
  {
   "cell_type": "code",
   "execution_count": 52,
   "metadata": {
    "collapsed": true
   },
   "outputs": [],
   "source": [
    "x0 = housing[housing.floors == 1].price\n",
    "x1 = housing[housing.floors == 2].price"
   ]
  },
  {
   "cell_type": "code",
   "execution_count": 54,
   "metadata": {},
   "outputs": [
    {
     "data": {
      "text/html": [
       "<iframe id=\"igraph\" scrolling=\"no\" style=\"border:none;\" seamless=\"seamless\" src=\"https://plot.ly/~DarrenK.Lee/18.embed\" height=\"525px\" width=\"100%\"></iframe>"
      ],
      "text/plain": [
       "<plotly.tools.PlotlyDisplay object>"
      ]
     },
     "execution_count": 54,
     "metadata": {},
     "output_type": "execute_result"
    }
   ],
   "source": [
    "# Traces\n",
    "\n",
    "hist1 = go.Histogram(x = x0, opacity = .6, name = \"One Floor Homes\")\n",
    "hist2 = go.Histogram(x = x1, opacity = .6, name = \"Two Floor Homes\")\n",
    "\n",
    "data = [hist1, hist2]\n",
    "\n",
    "layout = go.Layout(barmode = \"overlay\", showlegend = True)\n",
    "fig = go.Figure(data=data, layout=layout)\n",
    "\n",
    "py.iplot(fig, filename='Overlaid housing prices histogram')"
   ]
  },
  {
   "cell_type": "markdown",
   "metadata": {},
   "source": [
    "# Bar Plots"
   ]
  },
  {
   "cell_type": "code",
   "execution_count": 55,
   "metadata": {},
   "outputs": [
    {
     "data": {
      "text/html": [
       "<div>\n",
       "<style>\n",
       "    .dataframe thead tr:only-child th {\n",
       "        text-align: right;\n",
       "    }\n",
       "\n",
       "    .dataframe thead th {\n",
       "        text-align: left;\n",
       "    }\n",
       "\n",
       "    .dataframe tbody tr th {\n",
       "        vertical-align: top;\n",
       "    }\n",
       "</style>\n",
       "<table border=\"1\" class=\"dataframe\">\n",
       "  <thead>\n",
       "    <tr style=\"text-align: right;\">\n",
       "      <th></th>\n",
       "      <th>cities</th>\n",
       "      <th>sprawl</th>\n",
       "      <th>diversity</th>\n",
       "      <th>business_score</th>\n",
       "      <th>fiber_coverage</th>\n",
       "      <th>excellent_education</th>\n",
       "      <th>percent_bachelors</th>\n",
       "      <th>life_quality</th>\n",
       "      <th>mobile_network_score</th>\n",
       "      <th>transit_scores</th>\n",
       "    </tr>\n",
       "  </thead>\n",
       "  <tbody>\n",
       "    <tr>\n",
       "      <th>0</th>\n",
       "      <td>Atlanta</td>\n",
       "      <td>41.00</td>\n",
       "      <td>67.26</td>\n",
       "      <td>4.0</td>\n",
       "      <td>11.2</td>\n",
       "      <td>2</td>\n",
       "      <td>35.8</td>\n",
       "      <td>6.6</td>\n",
       "      <td>97.2</td>\n",
       "      <td>7.70</td>\n",
       "    </tr>\n",
       "    <tr>\n",
       "      <th>1</th>\n",
       "      <td>Austin</td>\n",
       "      <td>102.44</td>\n",
       "      <td>69.91</td>\n",
       "      <td>3.7</td>\n",
       "      <td>12.1</td>\n",
       "      <td>1</td>\n",
       "      <td>41.7</td>\n",
       "      <td>7.8</td>\n",
       "      <td>97.2</td>\n",
       "      <td>5.47</td>\n",
       "    </tr>\n",
       "    <tr>\n",
       "      <th>2</th>\n",
       "      <td>Baltimore</td>\n",
       "      <td>115.62</td>\n",
       "      <td>64.92</td>\n",
       "      <td>1.7</td>\n",
       "      <td>60.2</td>\n",
       "      <td>2</td>\n",
       "      <td>37.3</td>\n",
       "      <td>6.3</td>\n",
       "      <td>96.6</td>\n",
       "      <td>8.52</td>\n",
       "    </tr>\n",
       "    <tr>\n",
       "      <th>3</th>\n",
       "      <td>Boston</td>\n",
       "      <td>126.93</td>\n",
       "      <td>68.96</td>\n",
       "      <td>3.0</td>\n",
       "      <td>38.8</td>\n",
       "      <td>7</td>\n",
       "      <td>44.6</td>\n",
       "      <td>7.1</td>\n",
       "      <td>95.3</td>\n",
       "      <td>9.44</td>\n",
       "    </tr>\n",
       "    <tr>\n",
       "      <th>4</th>\n",
       "      <td>Charlotte</td>\n",
       "      <td>70.45</td>\n",
       "      <td>69.56</td>\n",
       "      <td>3.3</td>\n",
       "      <td>11.3</td>\n",
       "      <td>0</td>\n",
       "      <td>32.2</td>\n",
       "      <td>7.1</td>\n",
       "      <td>95.8</td>\n",
       "      <td>4.33</td>\n",
       "    </tr>\n",
       "  </tbody>\n",
       "</table>\n",
       "</div>"
      ],
      "text/plain": [
       "      cities  sprawl  diversity  business_score  fiber_coverage  \\\n",
       "0    Atlanta   41.00      67.26             4.0            11.2   \n",
       "1     Austin  102.44      69.91             3.7            12.1   \n",
       "2  Baltimore  115.62      64.92             1.7            60.2   \n",
       "3     Boston  126.93      68.96             3.0            38.8   \n",
       "4  Charlotte   70.45      69.56             3.3            11.3   \n",
       "\n",
       "   excellent_education  percent_bachelors  life_quality  mobile_network_score  \\\n",
       "0                    2               35.8           6.6                  97.2   \n",
       "1                    1               41.7           7.8                  97.2   \n",
       "2                    2               37.3           6.3                  96.6   \n",
       "3                    7               44.6           7.1                  95.3   \n",
       "4                    0               32.2           7.1                  95.8   \n",
       "\n",
       "   transit_scores  \n",
       "0            7.70  \n",
       "1            5.47  \n",
       "2            8.52  \n",
       "3            9.44  \n",
       "4            4.33  "
      ]
     },
     "execution_count": 55,
     "metadata": {},
     "output_type": "execute_result"
    }
   ],
   "source": [
    "amazon.head()"
   ]
  },
  {
   "cell_type": "code",
   "execution_count": 56,
   "metadata": {
    "collapsed": true
   },
   "outputs": [],
   "source": [
    "#Filter data to include the following cities\n",
    "\n",
    "city_list = [\"Atlanta\", \"Chicago\", \"San Francisco\", \"Boston\", \"Houston\"]\n",
    "\n",
    "amazon2 = amazon[amazon.cities.isin(city_list) == True]"
   ]
  },
  {
   "cell_type": "code",
   "execution_count": 57,
   "metadata": {},
   "outputs": [
    {
     "data": {
      "text/html": [
       "<div>\n",
       "<style>\n",
       "    .dataframe thead tr:only-child th {\n",
       "        text-align: right;\n",
       "    }\n",
       "\n",
       "    .dataframe thead th {\n",
       "        text-align: left;\n",
       "    }\n",
       "\n",
       "    .dataframe tbody tr th {\n",
       "        vertical-align: top;\n",
       "    }\n",
       "</style>\n",
       "<table border=\"1\" class=\"dataframe\">\n",
       "  <thead>\n",
       "    <tr style=\"text-align: right;\">\n",
       "      <th></th>\n",
       "      <th>cities</th>\n",
       "      <th>sprawl</th>\n",
       "      <th>diversity</th>\n",
       "      <th>business_score</th>\n",
       "      <th>fiber_coverage</th>\n",
       "      <th>excellent_education</th>\n",
       "      <th>percent_bachelors</th>\n",
       "      <th>life_quality</th>\n",
       "      <th>mobile_network_score</th>\n",
       "      <th>transit_scores</th>\n",
       "    </tr>\n",
       "  </thead>\n",
       "  <tbody>\n",
       "    <tr>\n",
       "      <th>0</th>\n",
       "      <td>Atlanta</td>\n",
       "      <td>41.00</td>\n",
       "      <td>67.26</td>\n",
       "      <td>4.0</td>\n",
       "      <td>11.2</td>\n",
       "      <td>2</td>\n",
       "      <td>35.8</td>\n",
       "      <td>6.6</td>\n",
       "      <td>97.2</td>\n",
       "      <td>7.70</td>\n",
       "    </tr>\n",
       "    <tr>\n",
       "      <th>3</th>\n",
       "      <td>Boston</td>\n",
       "      <td>126.93</td>\n",
       "      <td>68.96</td>\n",
       "      <td>3.0</td>\n",
       "      <td>38.8</td>\n",
       "      <td>7</td>\n",
       "      <td>44.6</td>\n",
       "      <td>7.1</td>\n",
       "      <td>95.3</td>\n",
       "      <td>9.44</td>\n",
       "    </tr>\n",
       "    <tr>\n",
       "      <th>5</th>\n",
       "      <td>Chicago</td>\n",
       "      <td>125.90</td>\n",
       "      <td>70.57</td>\n",
       "      <td>1.7</td>\n",
       "      <td>2.2</td>\n",
       "      <td>4</td>\n",
       "      <td>35.5</td>\n",
       "      <td>6.1</td>\n",
       "      <td>97.6</td>\n",
       "      <td>9.14</td>\n",
       "    </tr>\n",
       "    <tr>\n",
       "      <th>11</th>\n",
       "      <td>Houston</td>\n",
       "      <td>76.74</td>\n",
       "      <td>71.51</td>\n",
       "      <td>4.0</td>\n",
       "      <td>12.1</td>\n",
       "      <td>1</td>\n",
       "      <td>30.7</td>\n",
       "      <td>7.0</td>\n",
       "      <td>97.3</td>\n",
       "      <td>6.24</td>\n",
       "    </tr>\n",
       "    <tr>\n",
       "      <th>31</th>\n",
       "      <td>San Francisco</td>\n",
       "      <td>194.28</td>\n",
       "      <td>68.36</td>\n",
       "      <td>0.0</td>\n",
       "      <td>15.3</td>\n",
       "      <td>2</td>\n",
       "      <td>45.6</td>\n",
       "      <td>7.0</td>\n",
       "      <td>95.7</td>\n",
       "      <td>9.59</td>\n",
       "    </tr>\n",
       "  </tbody>\n",
       "</table>\n",
       "</div>"
      ],
      "text/plain": [
       "           cities  sprawl  diversity  business_score  fiber_coverage  \\\n",
       "0         Atlanta   41.00      67.26             4.0            11.2   \n",
       "3          Boston  126.93      68.96             3.0            38.8   \n",
       "5         Chicago  125.90      70.57             1.7             2.2   \n",
       "11        Houston   76.74      71.51             4.0            12.1   \n",
       "31  San Francisco  194.28      68.36             0.0            15.3   \n",
       "\n",
       "    excellent_education  percent_bachelors  life_quality  \\\n",
       "0                     2               35.8           6.6   \n",
       "3                     7               44.6           7.1   \n",
       "5                     4               35.5           6.1   \n",
       "11                    1               30.7           7.0   \n",
       "31                    2               45.6           7.0   \n",
       "\n",
       "    mobile_network_score  transit_scores  \n",
       "0                   97.2            7.70  \n",
       "3                   95.3            9.44  \n",
       "5                   97.6            9.14  \n",
       "11                  97.3            6.24  \n",
       "31                  95.7            9.59  "
      ]
     },
     "execution_count": 57,
     "metadata": {},
     "output_type": "execute_result"
    }
   ],
   "source": [
    "amazon2"
   ]
  },
  {
   "cell_type": "code",
   "execution_count": 58,
   "metadata": {
    "collapsed": true
   },
   "outputs": [],
   "source": [
    "#Assign variables\n",
    "\n",
    "cities2 = amazon2.cities\n",
    "sprawl = amazon2.sprawl\n",
    "mobile = amazon2.mobile_network_score\n",
    "bachelors = amazon2.percent_bachelors"
   ]
  },
  {
   "cell_type": "code",
   "execution_count": 59,
   "metadata": {},
   "outputs": [
    {
     "data": {
      "text/html": [
       "<iframe id=\"igraph\" scrolling=\"no\" style=\"border:none;\" seamless=\"seamless\" src=\"https://plot.ly/~DarrenK.Lee/20.embed\" height=\"525px\" width=\"100%\"></iframe>"
      ],
      "text/plain": [
       "<plotly.tools.PlotlyDisplay object>"
      ]
     },
     "execution_count": 59,
     "metadata": {},
     "output_type": "execute_result"
    }
   ],
   "source": [
    "#Sprawl trace\n",
    "bar1 = go.Bar(\n",
    "x = cities2,\n",
    "y = sprawl,\n",
    "name = \"Sprawl Score\")\n",
    "\n",
    "bar2 = go.Bar(\n",
    "x = cities2,\n",
    "y = mobile,\n",
    "name = \"Mobile Network Score\")\n",
    "\n",
    "bar3 = go.Bar(\n",
    "x = cities2,\n",
    "y = bachelors,\n",
    "name = \"Percent of Bachelors\")\n",
    "\n",
    "data = [bar1, bar2, bar3]\n",
    "layout = go.Layout(\n",
    "    barmode='group', showlegend = True\n",
    ")\n",
    "\n",
    "fig = go.Figure(data=data, layout=layout)\n",
    "py.iplot(fig, filename='Amazon Grouped Bar Charts')"
   ]
  },
  {
   "cell_type": "code",
   "execution_count": null,
   "metadata": {
    "collapsed": true
   },
   "outputs": [],
   "source": []
  },
  {
   "cell_type": "markdown",
   "metadata": {},
   "source": [
    "Horizontal version"
   ]
  },
  {
   "cell_type": "code",
   "execution_count": 60,
   "metadata": {},
   "outputs": [
    {
     "data": {
      "text/html": [
       "<iframe id=\"igraph\" scrolling=\"no\" style=\"border:none;\" seamless=\"seamless\" src=\"https://plot.ly/~DarrenK.Lee/20.embed\" height=\"525px\" width=\"100%\"></iframe>"
      ],
      "text/plain": [
       "<plotly.tools.PlotlyDisplay object>"
      ]
     },
     "execution_count": 60,
     "metadata": {},
     "output_type": "execute_result"
    }
   ],
   "source": [
    "#Sprawl trace\n",
    "bar1 = go.Bar(\n",
    "y = cities2,\n",
    "x = sprawl,\n",
    "name = \"Sprawl Score\",\n",
    "orientation = \"h\")\n",
    "\n",
    "bar2 = go.Bar(\n",
    "y = cities2,\n",
    "x = mobile,\n",
    "name = \"Mobile Network Score\",\n",
    "orientation = \"h\")\n",
    "\n",
    "bar3 = go.Bar(\n",
    "y = cities2,\n",
    "x = bachelors,\n",
    "name = \"Percent of Bachelors\",\n",
    "orientation = \"h\")\n",
    "\n",
    "data = [bar1, bar2, bar3]\n",
    "layout = go.Layout(\n",
    "    barmode='group', showlegend = True\n",
    ")\n",
    "\n",
    "fig = go.Figure(data=data, layout=layout)\n",
    "py.iplot(fig, filename='Amazon Grouped Bar Charts')"
   ]
  },
  {
   "cell_type": "markdown",
   "metadata": {},
   "source": [
    "# Let's have some real fun now with 3D and Geographic plots"
   ]
  },
  {
   "cell_type": "code",
   "execution_count": 61,
   "metadata": {
    "collapsed": true
   },
   "outputs": [],
   "source": [
    "#imports\n",
    "from sklearn.preprocessing import StandardScaler\n",
    "from sklearn.decomposition import PCA"
   ]
  },
  {
   "cell_type": "code",
   "execution_count": 62,
   "metadata": {
    "collapsed": true
   },
   "outputs": [],
   "source": [
    "#Assign variables\n",
    "\n",
    "song_info = spotify.index\n",
    "X = spotify.drop(\"target\", axis =1)\n",
    "target = spotify.target\n",
    "\n",
    "#Transform data\n",
    "\n",
    "scale = StandardScaler()\n",
    "Xs = scale.fit_transform(X)\n",
    "\n",
    "pca = PCA(n_components=3)\n",
    "Xp = pca.fit_transform(Xs)"
   ]
  },
  {
   "cell_type": "code",
   "execution_count": 66,
   "metadata": {},
   "outputs": [
    {
     "data": {
      "text/html": [
       "<div>\n",
       "<style>\n",
       "    .dataframe thead tr:only-child th {\n",
       "        text-align: right;\n",
       "    }\n",
       "\n",
       "    .dataframe thead th {\n",
       "        text-align: left;\n",
       "    }\n",
       "\n",
       "    .dataframe tbody tr th {\n",
       "        vertical-align: top;\n",
       "    }\n",
       "</style>\n",
       "<table border=\"1\" class=\"dataframe\">\n",
       "  <thead>\n",
       "    <tr style=\"text-align: right;\">\n",
       "      <th></th>\n",
       "      <th>acousticness</th>\n",
       "      <th>danceability</th>\n",
       "      <th>instrumentalness</th>\n",
       "      <th>valence</th>\n",
       "      <th>energy</th>\n",
       "    </tr>\n",
       "  </thead>\n",
       "  <tbody>\n",
       "    <tr>\n",
       "      <th>Mask_Off***Future</th>\n",
       "      <td>0.0102</td>\n",
       "      <td>0.833</td>\n",
       "      <td>0.021900</td>\n",
       "      <td>0.286</td>\n",
       "      <td>0.434</td>\n",
       "    </tr>\n",
       "    <tr>\n",
       "      <th>Redbone***Childish_Gambino</th>\n",
       "      <td>0.1990</td>\n",
       "      <td>0.743</td>\n",
       "      <td>0.006110</td>\n",
       "      <td>0.588</td>\n",
       "      <td>0.359</td>\n",
       "    </tr>\n",
       "    <tr>\n",
       "      <th>Xanny_Family***Future</th>\n",
       "      <td>0.0344</td>\n",
       "      <td>0.838</td>\n",
       "      <td>0.000234</td>\n",
       "      <td>0.173</td>\n",
       "      <td>0.412</td>\n",
       "    </tr>\n",
       "    <tr>\n",
       "      <th>Master_Of_None***Beach_House</th>\n",
       "      <td>0.6040</td>\n",
       "      <td>0.494</td>\n",
       "      <td>0.510000</td>\n",
       "      <td>0.230</td>\n",
       "      <td>0.338</td>\n",
       "    </tr>\n",
       "    <tr>\n",
       "      <th>Parallel_Lines***Junior_Boys</th>\n",
       "      <td>0.1800</td>\n",
       "      <td>0.678</td>\n",
       "      <td>0.512000</td>\n",
       "      <td>0.904</td>\n",
       "      <td>0.561</td>\n",
       "    </tr>\n",
       "  </tbody>\n",
       "</table>\n",
       "</div>"
      ],
      "text/plain": [
       "                              acousticness  danceability  instrumentalness  \\\n",
       "Mask_Off***Future                   0.0102         0.833          0.021900   \n",
       "Redbone***Childish_Gambino          0.1990         0.743          0.006110   \n",
       "Xanny_Family***Future               0.0344         0.838          0.000234   \n",
       "Master_Of_None***Beach_House        0.6040         0.494          0.510000   \n",
       "Parallel_Lines***Junior_Boys        0.1800         0.678          0.512000   \n",
       "\n",
       "                              valence  energy  \n",
       "Mask_Off***Future               0.286   0.434  \n",
       "Redbone***Childish_Gambino      0.588   0.359  \n",
       "Xanny_Family***Future           0.173   0.412  \n",
       "Master_Of_None***Beach_House    0.230   0.338  \n",
       "Parallel_Lines***Junior_Boys    0.904   0.561  "
      ]
     },
     "execution_count": 66,
     "metadata": {},
     "output_type": "execute_result"
    }
   ],
   "source": [
    "X.head()"
   ]
  },
  {
   "cell_type": "code",
   "execution_count": 63,
   "metadata": {},
   "outputs": [
    {
     "data": {
      "text/plain": [
       "0.8206531440376685"
      ]
     },
     "execution_count": 63,
     "metadata": {},
     "output_type": "execute_result"
    }
   ],
   "source": [
    "#Percent explained variance\n",
    "pca.explained_variance_ratio_.sum()"
   ]
  },
  {
   "cell_type": "code",
   "execution_count": 64,
   "metadata": {
    "collapsed": true
   },
   "outputs": [],
   "source": [
    "#assign variables\n",
    "\n",
    "x = Xp[:, 0]\n",
    "y = Xp[:, 1]\n",
    "z = Xp[:, 2]"
   ]
  },
  {
   "cell_type": "code",
   "execution_count": 65,
   "metadata": {},
   "outputs": [
    {
     "data": {
      "text/html": [
       "<iframe id=\"igraph\" scrolling=\"no\" style=\"border:none;\" seamless=\"seamless\" src=\"https://plot.ly/~DarrenK.Lee/22.embed\" height=\"525px\" width=\"100%\"></iframe>"
      ],
      "text/plain": [
       "<plotly.tools.PlotlyDisplay object>"
      ]
     },
     "execution_count": 65,
     "metadata": {},
     "output_type": "execute_result"
    }
   ],
   "source": [
    "# Create a trace \n",
    "trace1 = go.Scatter3d(\n",
    "    x = x,\n",
    "    y = y,\n",
    "    z = z,\n",
    "    mode = 'markers',\n",
    "    marker = {\"size\":8,\n",
    "             \"color\" : target,\n",
    "             \"colorscale\": \"Jet\"},\n",
    "    opacity = .5,\n",
    "    text = song_info\n",
    ")\n",
    "\n",
    "#put all the traces into a list\n",
    "data = [trace1]\n",
    "\n",
    "# Plot and embed in ipython notebook. Give it a title.\n",
    "layout = go.Layout(title = \"3D Spotify PCA Plot\", hovermode = \"closest\")\n",
    "fig = go.Figure(data=data, layout=layout)\n",
    "\n",
    "py.iplot(fig, filename='spotify_scatter_3d')"
   ]
  },
  {
   "cell_type": "code",
   "execution_count": null,
   "metadata": {
    "collapsed": true
   },
   "outputs": [],
   "source": []
  },
  {
   "cell_type": "markdown",
   "metadata": {},
   "source": [
    "What do you notice? Zoom in and out, hover over the dots."
   ]
  },
  {
   "cell_type": "code",
   "execution_count": 88,
   "metadata": {},
   "outputs": [],
   "source": [
    "soccer_tweets = pd.read_pickle('/Users/darrenklee/Desktop/DS-SF-40-master/data/geotweets.pkl')"
   ]
  },
  {
   "cell_type": "code",
   "execution_count": 89,
   "metadata": {},
   "outputs": [
    {
     "data": {
      "text/html": [
       "<div>\n",
       "<style>\n",
       "    .dataframe thead tr:only-child th {\n",
       "        text-align: right;\n",
       "    }\n",
       "\n",
       "    .dataframe thead th {\n",
       "        text-align: left;\n",
       "    }\n",
       "\n",
       "    .dataframe tbody tr th {\n",
       "        vertical-align: top;\n",
       "    }\n",
       "</style>\n",
       "<table border=\"1\" class=\"dataframe\">\n",
       "  <thead>\n",
       "    <tr style=\"text-align: right;\">\n",
       "      <th></th>\n",
       "      <th>tweet</th>\n",
       "      <th>ID</th>\n",
       "      <th>handle</th>\n",
       "      <th>display_name</th>\n",
       "      <th>is_retweeted</th>\n",
       "      <th>time</th>\n",
       "      <th>follower_count</th>\n",
       "      <th>geo</th>\n",
       "      <th>language</th>\n",
       "      <th>location</th>\n",
       "      <th>description</th>\n",
       "      <th>coor</th>\n",
       "      <th>lats</th>\n",
       "      <th>longs</th>\n",
       "    </tr>\n",
       "  </thead>\n",
       "  <tbody>\n",
       "    <tr>\n",
       "      <th>42</th>\n",
       "      <td>Vamos Juve #forzajuve #Lavazza #championsleagu...</td>\n",
       "      <td>871055614209871873</td>\n",
       "      <td>jorgeadarme</td>\n",
       "      <td>Jorge Andres Adarme</td>\n",
       "      <td>False</td>\n",
       "      <td>Sat Jun 03 17:26:56 +0000 2017</td>\n",
       "      <td>135</td>\n",
       "      <td>[3.51361, -74.0517]</td>\n",
       "      <td>es</td>\n",
       "      <td>Colombia</td>\n",
       "      <td>Ingeniero Agroforestal, sencillo, sincero y de...</td>\n",
       "      <td>nah</td>\n",
       "      <td>3.513610</td>\n",
       "      <td>-74.051700</td>\n",
       "    </tr>\n",
       "    <tr>\n",
       "      <th>536</th>\n",
       "      <td>Unos en Cardiff y otros en Cardys en Carabanch...</td>\n",
       "      <td>871055661924319233</td>\n",
       "      <td>j_asanchez</td>\n",
       "      <td>José Antonio Sánchez</td>\n",
       "      <td>False</td>\n",
       "      <td>Sat Jun 03 17:27:07 +0000 2017</td>\n",
       "      <td>16711</td>\n",
       "      <td>[40.386111, -3.738889]</td>\n",
       "      <td>es</td>\n",
       "      <td>Morαtα de Tαjuñα (Mαdrid)</td>\n",
       "      <td>Tengo 2 niñas preciosas, una aquí y otra en el...</td>\n",
       "      <td>nah</td>\n",
       "      <td>40.386111</td>\n",
       "      <td>-3.738889</td>\n",
       "    </tr>\n",
       "  </tbody>\n",
       "</table>\n",
       "</div>"
      ],
      "text/plain": [
       "                                                 tweet                  ID  \\\n",
       "42   Vamos Juve #forzajuve #Lavazza #championsleagu...  871055614209871873   \n",
       "536  Unos en Cardiff y otros en Cardys en Carabanch...  871055661924319233   \n",
       "\n",
       "          handle          display_name  is_retweeted  \\\n",
       "42   jorgeadarme   Jorge Andres Adarme         False   \n",
       "536   j_asanchez  José Antonio Sánchez         False   \n",
       "\n",
       "                               time  follower_count                     geo  \\\n",
       "42   Sat Jun 03 17:26:56 +0000 2017             135     [3.51361, -74.0517]   \n",
       "536  Sat Jun 03 17:27:07 +0000 2017           16711  [40.386111, -3.738889]   \n",
       "\n",
       "    language                   location  \\\n",
       "42        es                   Colombia   \n",
       "536       es  Morαtα de Tαjuñα (Mαdrid)   \n",
       "\n",
       "                                           description coor       lats  \\\n",
       "42   Ingeniero Agroforestal, sencillo, sincero y de...  nah   3.513610   \n",
       "536  Tengo 2 niñas preciosas, una aquí y otra en el...  nah  40.386111   \n",
       "\n",
       "         longs  \n",
       "42  -74.051700  \n",
       "536  -3.738889  "
      ]
     },
     "execution_count": 89,
     "metadata": {},
     "output_type": "execute_result"
    }
   ],
   "source": [
    "#View data\n",
    "soccer_tweets.head(2)"
   ]
  },
  {
   "cell_type": "code",
   "execution_count": 91,
   "metadata": {
    "collapsed": true
   },
   "outputs": [],
   "source": [
    "#Assign variables\n",
    "lat = soccer_tweets.lats\n",
    "lon = soccer_tweets.longs\n",
    "tweet = soccer_tweets.tweet"
   ]
  },
  {
   "cell_type": "code",
   "execution_count": 92,
   "metadata": {},
   "outputs": [
    {
     "data": {
      "text/html": [
       "<iframe id=\"igraph\" scrolling=\"no\" style=\"border:none;\" seamless=\"seamless\" src=\"https://plot.ly/~DarrenK.Lee/24.embed\" height=\"525px\" width=\"100%\"></iframe>"
      ],
      "text/plain": [
       "<plotly.tools.PlotlyDisplay object>"
      ]
     },
     "execution_count": 92,
     "metadata": {},
     "output_type": "execute_result"
    }
   ],
   "source": [
    "trace = go.Scattergeo(lat = lat, \n",
    "                      lon= lon, \n",
    "                      text = tweet)\n",
    "\n",
    "data = [trace]\n",
    "\n",
    "# Plot and embed in ipython notebook. Give it a title.\n",
    "layout = go.Layout(title = \"Champions League Tweets\", hovermode = \"closest\",\n",
    "                  geo = {\"scope\": \"world\", \"showland\":True, \n",
    "                        \"landcolor\": \"rgb(150, 250, 250)\"})\n",
    "fig = go.Figure(data=data, layout=layout)\n",
    "\n",
    "py.iplot(fig, filename='geo scatter tweets')"
   ]
  },
  {
   "cell_type": "code",
   "execution_count": null,
   "metadata": {
    "collapsed": true
   },
   "outputs": [],
   "source": []
  },
  {
   "cell_type": "code",
   "execution_count": null,
   "metadata": {
    "collapsed": true
   },
   "outputs": [],
   "source": []
  },
  {
   "cell_type": "code",
   "execution_count": null,
   "metadata": {
    "collapsed": true
   },
   "outputs": [],
   "source": []
  },
  {
   "cell_type": "code",
   "execution_count": 84,
   "metadata": {},
   "outputs": [
    {
     "data": {
      "text/html": [
       "<div>\n",
       "<style>\n",
       "    .dataframe thead tr:only-child th {\n",
       "        text-align: right;\n",
       "    }\n",
       "\n",
       "    .dataframe thead th {\n",
       "        text-align: left;\n",
       "    }\n",
       "\n",
       "    .dataframe tbody tr th {\n",
       "        vertical-align: top;\n",
       "    }\n",
       "</style>\n",
       "<table border=\"1\" class=\"dataframe\">\n",
       "  <thead>\n",
       "    <tr style=\"text-align: right;\">\n",
       "      <th>IndicatorCode</th>\n",
       "      <th>Access to electricity (% of population)</th>\n",
       "      <th>Renewable electricity output (% of total electricity output)</th>\n",
       "      <th>CO2 emissions (metric tons per capita)</th>\n",
       "      <th>Commercial bank branches (per 100,000 adults)</th>\n",
       "      <th>Depth of credit information index (0=low to 8=high)</th>\n",
       "      <th>Strength of legal rights index (0=weak to 12=strong)</th>\n",
       "      <th>Mobile cellular subscriptions (per 100 people)</th>\n",
       "      <th>Internet users (per 100 people)</th>\n",
       "      <th>GDP per capita (current US$)</th>\n",
       "      <th>Proportion of seats held by women in national parliaments (%)</th>\n",
       "      <th>...</th>\n",
       "      <th>Health expenditure per capita (current US$)</th>\n",
       "      <th>Labor force, female (% of total labor force)</th>\n",
       "      <th>Unemployment, total (% of total labor force)</th>\n",
       "      <th>Net migration</th>\n",
       "      <th>Mortality rate, infant (per 1,000 live births)</th>\n",
       "      <th>Life expectancy at birth, total (years)</th>\n",
       "      <th>Survival to age 65, female (% of cohort)</th>\n",
       "      <th>Population, ages 0-14 (% of total)</th>\n",
       "      <th>Age dependency ratio, young (% of working-age population)</th>\n",
       "      <th>Urban population (% of total)</th>\n",
       "    </tr>\n",
       "    <tr>\n",
       "      <th>CountryName</th>\n",
       "      <th></th>\n",
       "      <th></th>\n",
       "      <th></th>\n",
       "      <th></th>\n",
       "      <th></th>\n",
       "      <th></th>\n",
       "      <th></th>\n",
       "      <th></th>\n",
       "      <th></th>\n",
       "      <th></th>\n",
       "      <th></th>\n",
       "      <th></th>\n",
       "      <th></th>\n",
       "      <th></th>\n",
       "      <th></th>\n",
       "      <th></th>\n",
       "      <th></th>\n",
       "      <th></th>\n",
       "      <th></th>\n",
       "      <th></th>\n",
       "      <th></th>\n",
       "    </tr>\n",
       "  </thead>\n",
       "  <tbody>\n",
       "    <tr>\n",
       "      <th>Afghanistan</th>\n",
       "      <td>43.0</td>\n",
       "      <td>0.000000</td>\n",
       "      <td>0.425262</td>\n",
       "      <td>2.465221</td>\n",
       "      <td>0.0</td>\n",
       "      <td>9.0</td>\n",
       "      <td>74.882842</td>\n",
       "      <td>6.39</td>\n",
       "      <td>633.569247</td>\n",
       "      <td>27.710843</td>\n",
       "      <td>...</td>\n",
       "      <td>54.964148</td>\n",
       "      <td>16.051439</td>\n",
       "      <td>9.1</td>\n",
       "      <td>473007</td>\n",
       "      <td>66.3</td>\n",
       "      <td>60.028268</td>\n",
       "      <td>60.48056</td>\n",
       "      <td>44.870996</td>\n",
       "      <td>85.153384</td>\n",
       "      <td>26.282</td>\n",
       "    </tr>\n",
       "    <tr>\n",
       "      <th>Albania</th>\n",
       "      <td>100.0</td>\n",
       "      <td>100.000000</td>\n",
       "      <td>1.607038</td>\n",
       "      <td>22.241690</td>\n",
       "      <td>6.0</td>\n",
       "      <td>7.0</td>\n",
       "      <td>105.469966</td>\n",
       "      <td>60.10</td>\n",
       "      <td>4564.390339</td>\n",
       "      <td>20.714286</td>\n",
       "      <td>...</td>\n",
       "      <td>239.577092</td>\n",
       "      <td>41.266475</td>\n",
       "      <td>16.1</td>\n",
       "      <td>-91750</td>\n",
       "      <td>12.5</td>\n",
       "      <td>77.537244</td>\n",
       "      <td>90.56197</td>\n",
       "      <td>18.930427</td>\n",
       "      <td>27.432462</td>\n",
       "      <td>56.409</td>\n",
       "    </tr>\n",
       "    <tr>\n",
       "      <th>Algeria</th>\n",
       "      <td>100.0</td>\n",
       "      <td>1.083680</td>\n",
       "      <td>3.316038</td>\n",
       "      <td>5.064181</td>\n",
       "      <td>0.0</td>\n",
       "      <td>2.0</td>\n",
       "      <td>93.310750</td>\n",
       "      <td>18.09</td>\n",
       "      <td>5484.066806</td>\n",
       "      <td>31.601732</td>\n",
       "      <td>...</td>\n",
       "      <td>313.520212</td>\n",
       "      <td>17.376156</td>\n",
       "      <td>9.5</td>\n",
       "      <td>-143268</td>\n",
       "      <td>21.9</td>\n",
       "      <td>74.568951</td>\n",
       "      <td>85.02157</td>\n",
       "      <td>28.205909</td>\n",
       "      <td>42.742285</td>\n",
       "      <td>70.129</td>\n",
       "    </tr>\n",
       "    <tr>\n",
       "      <th>Angola</th>\n",
       "      <td>37.0</td>\n",
       "      <td>70.906823</td>\n",
       "      <td>1.354008</td>\n",
       "      <td>12.863257</td>\n",
       "      <td>0.0</td>\n",
       "      <td>1.0</td>\n",
       "      <td>63.479208</td>\n",
       "      <td>21.26</td>\n",
       "      <td>5900.529570</td>\n",
       "      <td>36.818182</td>\n",
       "      <td>...</td>\n",
       "      <td>267.224299</td>\n",
       "      <td>46.204554</td>\n",
       "      <td>6.8</td>\n",
       "      <td>102322</td>\n",
       "      <td>96.0</td>\n",
       "      <td>51.866171</td>\n",
       "      <td>49.09112</td>\n",
       "      <td>47.850317</td>\n",
       "      <td>96.005760</td>\n",
       "      <td>43.274</td>\n",
       "    </tr>\n",
       "    <tr>\n",
       "      <th>Argentina</th>\n",
       "      <td>99.8</td>\n",
       "      <td>23.769069</td>\n",
       "      <td>4.562049</td>\n",
       "      <td>13.303817</td>\n",
       "      <td>8.0</td>\n",
       "      <td>2.0</td>\n",
       "      <td>158.735762</td>\n",
       "      <td>64.70</td>\n",
       "      <td>12509.531118</td>\n",
       "      <td>36.186770</td>\n",
       "      <td>...</td>\n",
       "      <td>1074.066944</td>\n",
       "      <td>40.431360</td>\n",
       "      <td>8.2</td>\n",
       "      <td>30000</td>\n",
       "      <td>11.1</td>\n",
       "      <td>75.986098</td>\n",
       "      <td>87.23494</td>\n",
       "      <td>25.346427</td>\n",
       "      <td>39.700196</td>\n",
       "      <td>91.604</td>\n",
       "    </tr>\n",
       "  </tbody>\n",
       "</table>\n",
       "<p>5 rows × 21 columns</p>\n",
       "</div>"
      ],
      "text/plain": [
       "IndicatorCode  Access to electricity (% of population)  \\\n",
       "CountryName                                              \n",
       "Afghanistan                                       43.0   \n",
       "Albania                                          100.0   \n",
       "Algeria                                          100.0   \n",
       "Angola                                            37.0   \n",
       "Argentina                                         99.8   \n",
       "\n",
       "IndicatorCode  Renewable electricity output (% of total electricity output)  \\\n",
       "CountryName                                                                   \n",
       "Afghanistan                                             0.000000              \n",
       "Albania                                               100.000000              \n",
       "Algeria                                                 1.083680              \n",
       "Angola                                                 70.906823              \n",
       "Argentina                                              23.769069              \n",
       "\n",
       "IndicatorCode  CO2 emissions (metric tons per capita)  \\\n",
       "CountryName                                             \n",
       "Afghanistan                                  0.425262   \n",
       "Albania                                      1.607038   \n",
       "Algeria                                      3.316038   \n",
       "Angola                                       1.354008   \n",
       "Argentina                                    4.562049   \n",
       "\n",
       "IndicatorCode  Commercial bank branches (per 100,000 adults)  \\\n",
       "CountryName                                                    \n",
       "Afghanistan                                         2.465221   \n",
       "Albania                                            22.241690   \n",
       "Algeria                                             5.064181   \n",
       "Angola                                             12.863257   \n",
       "Argentina                                          13.303817   \n",
       "\n",
       "IndicatorCode  Depth of credit information index (0=low to 8=high)  \\\n",
       "CountryName                                                          \n",
       "Afghanistan                                                  0.0     \n",
       "Albania                                                      6.0     \n",
       "Algeria                                                      0.0     \n",
       "Angola                                                       0.0     \n",
       "Argentina                                                    8.0     \n",
       "\n",
       "IndicatorCode  Strength of legal rights index (0=weak to 12=strong)  \\\n",
       "CountryName                                                           \n",
       "Afghanistan                                                  9.0      \n",
       "Albania                                                      7.0      \n",
       "Algeria                                                      2.0      \n",
       "Angola                                                       1.0      \n",
       "Argentina                                                    2.0      \n",
       "\n",
       "IndicatorCode  Mobile cellular subscriptions (per 100 people)  \\\n",
       "CountryName                                                     \n",
       "Afghanistan                                         74.882842   \n",
       "Albania                                            105.469966   \n",
       "Algeria                                             93.310750   \n",
       "Angola                                              63.479208   \n",
       "Argentina                                          158.735762   \n",
       "\n",
       "IndicatorCode  Internet users (per 100 people)  GDP per capita (current US$)  \\\n",
       "CountryName                                                                    \n",
       "Afghanistan                               6.39                    633.569247   \n",
       "Albania                                  60.10                   4564.390339   \n",
       "Algeria                                  18.09                   5484.066806   \n",
       "Angola                                   21.26                   5900.529570   \n",
       "Argentina                                64.70                  12509.531118   \n",
       "\n",
       "IndicatorCode  Proportion of seats held by women in national parliaments (%)  \\\n",
       "CountryName                                                                    \n",
       "Afghanistan                                            27.710843               \n",
       "Albania                                                20.714286               \n",
       "Algeria                                                31.601732               \n",
       "Angola                                                 36.818182               \n",
       "Argentina                                              36.186770               \n",
       "\n",
       "IndicatorCode              ...                \\\n",
       "CountryName                ...                 \n",
       "Afghanistan                ...                 \n",
       "Albania                    ...                 \n",
       "Algeria                    ...                 \n",
       "Angola                     ...                 \n",
       "Argentina                  ...                 \n",
       "\n",
       "IndicatorCode  Health expenditure per capita (current US$)  \\\n",
       "CountryName                                                  \n",
       "Afghanistan                                      54.964148   \n",
       "Albania                                         239.577092   \n",
       "Algeria                                         313.520212   \n",
       "Angola                                          267.224299   \n",
       "Argentina                                      1074.066944   \n",
       "\n",
       "IndicatorCode  Labor force, female (% of total labor force)  \\\n",
       "CountryName                                                   \n",
       "Afghanistan                                       16.051439   \n",
       "Albania                                           41.266475   \n",
       "Algeria                                           17.376156   \n",
       "Angola                                            46.204554   \n",
       "Argentina                                         40.431360   \n",
       "\n",
       "IndicatorCode  Unemployment, total (% of total labor force)  Net migration  \\\n",
       "CountryName                                                                  \n",
       "Afghanistan                                             9.1         473007   \n",
       "Albania                                                16.1         -91750   \n",
       "Algeria                                                 9.5        -143268   \n",
       "Angola                                                  6.8         102322   \n",
       "Argentina                                               8.2          30000   \n",
       "\n",
       "IndicatorCode  Mortality rate, infant (per 1,000 live births)  \\\n",
       "CountryName                                                     \n",
       "Afghanistan                                              66.3   \n",
       "Albania                                                  12.5   \n",
       "Algeria                                                  21.9   \n",
       "Angola                                                   96.0   \n",
       "Argentina                                                11.1   \n",
       "\n",
       "IndicatorCode  Life expectancy at birth, total (years)  \\\n",
       "CountryName                                              \n",
       "Afghanistan                                  60.028268   \n",
       "Albania                                      77.537244   \n",
       "Algeria                                      74.568951   \n",
       "Angola                                       51.866171   \n",
       "Argentina                                    75.986098   \n",
       "\n",
       "IndicatorCode  Survival to age 65, female (% of cohort)  \\\n",
       "CountryName                                               \n",
       "Afghanistan                                    60.48056   \n",
       "Albania                                        90.56197   \n",
       "Algeria                                        85.02157   \n",
       "Angola                                         49.09112   \n",
       "Argentina                                      87.23494   \n",
       "\n",
       "IndicatorCode  Population, ages 0-14 (% of total)  \\\n",
       "CountryName                                         \n",
       "Afghanistan                             44.870996   \n",
       "Albania                                 18.930427   \n",
       "Algeria                                 28.205909   \n",
       "Angola                                  47.850317   \n",
       "Argentina                               25.346427   \n",
       "\n",
       "IndicatorCode  Age dependency ratio, young (% of working-age population)  \\\n",
       "CountryName                                                                \n",
       "Afghanistan                                            85.153384           \n",
       "Albania                                                27.432462           \n",
       "Algeria                                                42.742285           \n",
       "Angola                                                 96.005760           \n",
       "Argentina                                              39.700196           \n",
       "\n",
       "IndicatorCode  Urban population (% of total)  \n",
       "CountryName                                   \n",
       "Afghanistan                           26.282  \n",
       "Albania                               56.409  \n",
       "Algeria                               70.129  \n",
       "Angola                                43.274  \n",
       "Argentina                             91.604  \n",
       "\n",
       "[5 rows x 21 columns]"
      ]
     },
     "execution_count": 84,
     "metadata": {},
     "output_type": "execute_result"
    }
   ],
   "source": [
    "countries = pd.read_pickle(\"/Users/darrenklee/Desktop/DS-SF-40 copy/data/country_development_data.pkl\")\n",
    "countries.head()"
   ]
  },
  {
   "cell_type": "code",
   "execution_count": 94,
   "metadata": {
    "collapsed": true
   },
   "outputs": [],
   "source": [
    "new_cols = [\"electric_accces\", \"renewables_percent\", \"co2_emissions\", \"commercial_bank\",\n",
    "           \"credit_information_index_depth\", \"legal_rights\", \"cell_phone_usage\",\n",
    "           \"internet_users\",\"gdp_per_cap\", \"women_politicians\", \"communicable_disease_rate\", \"health_per_cap\",\n",
    "           \"female_labor_rate\", \"unemploy_rate\", \"net_migration\", \"mortality_rate\", \"life_exp\",\n",
    "           \"female_survival_65\", \"child_popul\", \"age_depend_ratio\", \"urban_pop\"]\n",
    "countries.columns = new_cols\n",
    "\n",
    "bc = ['women_politicians',\n",
    " 'legal_rights',\n",
    " 'cell_phone_usage',\n",
    " 'unemploy_rate',\n",
    " 'net_migration',\n",
    " 'commercial_bank']\n",
    "X = countries.copy().drop(bc, axis=1)\n",
    "scale = StandardScaler()\n",
    "Xs = scale.fit_transform(X)"
   ]
  },
  {
   "cell_type": "code",
   "execution_count": 95,
   "metadata": {},
   "outputs": [
    {
     "data": {
      "text/plain": [
       "0.34391835031973944"
      ]
     },
     "execution_count": 95,
     "metadata": {},
     "output_type": "execute_result"
    }
   ],
   "source": [
    "from sklearn.cluster import KMeans\n",
    "from sklearn.metrics import silhouette_score\n",
    "\n",
    "km = KMeans(n_clusters=3)\n",
    "km.fit(Xs)\n",
    "silhouette_score(Xs, km.labels_)"
   ]
  },
  {
   "cell_type": "code",
   "execution_count": 96,
   "metadata": {
    "collapsed": true
   },
   "outputs": [],
   "source": [
    "countries[\"cluster\"] = km.labels_"
   ]
  },
  {
   "cell_type": "code",
   "execution_count": 97,
   "metadata": {},
   "outputs": [
    {
     "data": {
      "text/html": [
       "<div>\n",
       "<style>\n",
       "    .dataframe thead tr:only-child th {\n",
       "        text-align: right;\n",
       "    }\n",
       "\n",
       "    .dataframe thead th {\n",
       "        text-align: left;\n",
       "    }\n",
       "\n",
       "    .dataframe tbody tr th {\n",
       "        vertical-align: top;\n",
       "    }\n",
       "</style>\n",
       "<table border=\"1\" class=\"dataframe\">\n",
       "  <thead>\n",
       "    <tr style=\"text-align: right;\">\n",
       "      <th></th>\n",
       "      <th>COUNTRY</th>\n",
       "      <th>CODE</th>\n",
       "    </tr>\n",
       "  </thead>\n",
       "  <tbody>\n",
       "    <tr>\n",
       "      <th>0</th>\n",
       "      <td>Afghanistan</td>\n",
       "      <td>AFG</td>\n",
       "    </tr>\n",
       "    <tr>\n",
       "      <th>1</th>\n",
       "      <td>Africa</td>\n",
       "      <td>AFR</td>\n",
       "    </tr>\n",
       "    <tr>\n",
       "      <th>2</th>\n",
       "      <td>Albania</td>\n",
       "      <td>ALB</td>\n",
       "    </tr>\n",
       "    <tr>\n",
       "      <th>3</th>\n",
       "      <td>Algeria</td>\n",
       "      <td>DZA</td>\n",
       "    </tr>\n",
       "    <tr>\n",
       "      <th>4</th>\n",
       "      <td>American Samoa</td>\n",
       "      <td>ASM</td>\n",
       "    </tr>\n",
       "  </tbody>\n",
       "</table>\n",
       "</div>"
      ],
      "text/plain": [
       "          COUNTRY CODE\n",
       "0     Afghanistan  AFG\n",
       "1          Africa  AFR\n",
       "2         Albania  ALB\n",
       "3         Algeria  DZA\n",
       "4  American Samoa  ASM"
      ]
     },
     "execution_count": 97,
     "metadata": {},
     "output_type": "execute_result"
    }
   ],
   "source": [
    "#Load in country codes\n",
    "cc = pd.read_table(\"/Users/darrenklee/Desktop/DS-SF-40-master/data/country_codes\", sep=\"|\")\n",
    "cc.head()"
   ]
  },
  {
   "cell_type": "code",
   "execution_count": 98,
   "metadata": {
    "collapsed": true
   },
   "outputs": [],
   "source": [
    "country_dict = dict(zip(cc.COUNTRY, cc.CODE))\n",
    "cc = cc[cc.COUNTRY.isin(countries.index.tolist())].copy()"
   ]
  },
  {
   "cell_type": "code",
   "execution_count": 99,
   "metadata": {},
   "outputs": [
    {
     "data": {
      "text/html": [
       "<iframe id=\"igraph\" scrolling=\"no\" style=\"border:none;\" seamless=\"seamless\" src=\"https://plot.ly/~DarrenK.Lee/26.embed\" height=\"525px\" width=\"100%\"></iframe>"
      ],
      "text/plain": [
       "<plotly.tools.PlotlyDisplay object>"
      ]
     },
     "execution_count": 99,
     "metadata": {},
     "output_type": "execute_result"
    }
   ],
   "source": [
    "trace = go.Choropleth(locations = cc.CODE, z= countries.cluster, text = cc.COUNTRY,\n",
    "                   autocolorscale = True)\n",
    "\n",
    "data = [trace]\n",
    "\n",
    "# Plot and embed in ipython notebook. Give it a title.\n",
    "layout = go.Layout(title = \"Country Clusters\", hovermode = \"closest\",\n",
    "                  geo = {\"scope\": \"world\", \"showland\":True, \"showcoastlines\": True})\n",
    "\n",
    "fig = go.Figure(data=data, layout=layout)\n",
    "\n",
    "py.iplot(fig, filename='country cluster')"
   ]
  },
  {
   "cell_type": "markdown",
   "metadata": {},
   "source": [
    "Let's try that again but include socio-econ information when you hover over a country."
   ]
  },
  {
   "cell_type": "code",
   "execution_count": 100,
   "metadata": {},
   "outputs": [
    {
     "data": {
      "text/plain": [
       "(159, 2)"
      ]
     },
     "execution_count": 100,
     "metadata": {},
     "output_type": "execute_result"
    }
   ],
   "source": [
    "cc.shape"
   ]
  },
  {
   "cell_type": "code",
   "execution_count": 101,
   "metadata": {
    "collapsed": true
   },
   "outputs": [],
   "source": [
    "text = countries.index + \"<br> Unemployment Rate: \" + countries.unemploy_rate.round(3).astype(str) + \\\n",
    "\"<br> Life Expectancy: \" + countries.life_exp.round(3).astype(str)"
   ]
  },
  {
   "cell_type": "code",
   "execution_count": 102,
   "metadata": {},
   "outputs": [
    {
     "data": {
      "text/html": [
       "<iframe id=\"igraph\" scrolling=\"no\" style=\"border:none;\" seamless=\"seamless\" src=\"https://plot.ly/~DarrenK.Lee/28.embed\" height=\"525px\" width=\"100%\"></iframe>"
      ],
      "text/plain": [
       "<plotly.tools.PlotlyDisplay object>"
      ]
     },
     "execution_count": 102,
     "metadata": {},
     "output_type": "execute_result"
    }
   ],
   "source": [
    "trace = go.Choropleth(locations = cc.CODE, z= countries.cluster, text = text,\n",
    "                   autocolorscale = True)\n",
    "\n",
    "data = [trace]\n",
    "\n",
    "# Plot and embed in ipython notebook. Give it a title.\n",
    "layout = go.Layout(title = \"Country Clusters\", hovermode = \"closest\",\n",
    "                  geo = {\"scope\": \"world\", \"showland\":True, \"showcoastlines\": True})\n",
    "\n",
    "fig = go.Figure(data=data, layout=layout)\n",
    "\n",
    "py.iplot(fig, filename='country cluster2')"
   ]
  },
  {
   "cell_type": "code",
   "execution_count": null,
   "metadata": {
    "collapsed": true
   },
   "outputs": [],
   "source": []
  }
 ],
 "metadata": {
  "kernelspec": {
   "display_name": "Python 2",
   "language": "python",
   "name": "python2"
  },
  "language_info": {
   "codemirror_mode": {
    "name": "ipython",
    "version": 2
   },
   "file_extension": ".py",
   "mimetype": "text/x-python",
   "name": "python",
   "nbconvert_exporter": "python",
   "pygments_lexer": "ipython2",
   "version": "2.7.13"
  }
 },
 "nbformat": 4,
 "nbformat_minor": 2
}
