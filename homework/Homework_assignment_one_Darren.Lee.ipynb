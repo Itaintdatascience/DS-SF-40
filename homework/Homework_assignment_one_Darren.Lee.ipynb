{
 "cells": [
  {
   "cell_type": "markdown",
   "metadata": {},
   "source": [
    "# Homework Assignment Number One | Darren L."
   ]
  },
  {
   "cell_type": "code",
   "execution_count": 1221,
   "metadata": {
    "collapsed": true
   },
   "outputs": [],
   "source": [
    "import pandas as pd\n",
    "import numpy as np\n",
    "import matplotlib.pyplot as plt\n",
    "import seaborn as sns\n",
    "%matplotlib inline"
   ]
  },
  {
   "cell_type": "markdown",
   "metadata": {},
   "source": [
    "## Section 1: Police killings"
   ]
  },
  {
   "cell_type": "code",
   "execution_count": 1222,
   "metadata": {},
   "outputs": [
    {
     "name": "stdout",
     "output_type": "stream",
     "text": [
      "<class 'pandas.core.frame.DataFrame'>\n",
      "Int64Index: 467 entries, 0 to 466\n",
      "Data columns (total 14 columns):\n",
      "name                    467 non-null object\n",
      "age                     467 non-null int64\n",
      "gender                  467 non-null object\n",
      "raceethnicity           467 non-null object\n",
      "month                   467 non-null object\n",
      "day                     467 non-null int64\n",
      "year                    467 non-null int64\n",
      "streetaddress           463 non-null object\n",
      "city                    467 non-null object\n",
      "state                   467 non-null object\n",
      "lawenforcementagency    467 non-null object\n",
      "cause                   467 non-null object\n",
      "armed                   467 non-null object\n",
      "county_income           467 non-null int64\n",
      "dtypes: int64(4), object(10)\n",
      "memory usage: 54.7+ KB\n"
     ]
    }
   ],
   "source": [
    "killings = pd.read_csv('../data/police-killings.csv', index_col=[0])\n",
    "killings.info()"
   ]
  },
  {
   "cell_type": "markdown",
   "metadata": {
    "collapsed": true
   },
   "source": [
    "### 1. Make the following changes to column names:\n",
    "\n",
    "- lawenforcementagency -> agency\n",
    "- raceethnicity -> race"
   ]
  },
  {
   "cell_type": "code",
   "execution_count": 1223,
   "metadata": {},
   "outputs": [
    {
     "data": {
      "text/plain": [
       "Index([u'name', u'age', u'gender', u'raceethnicity', u'month', u'day', u'year',\n",
       "       u'streetaddress', u'city', u'state', u'lawenforcementagency', u'cause',\n",
       "       u'armed', u'county_income'],\n",
       "      dtype='object')"
      ]
     },
     "execution_count": 1223,
     "metadata": {},
     "output_type": "execute_result"
    }
   ],
   "source": [
    "killings.columns"
   ]
  },
  {
   "cell_type": "code",
   "execution_count": 1224,
   "metadata": {},
   "outputs": [
    {
     "data": {
      "text/html": [
       "<div>\n",
       "<style>\n",
       "    .dataframe thead tr:only-child th {\n",
       "        text-align: right;\n",
       "    }\n",
       "\n",
       "    .dataframe thead th {\n",
       "        text-align: left;\n",
       "    }\n",
       "\n",
       "    .dataframe tbody tr th {\n",
       "        vertical-align: top;\n",
       "    }\n",
       "</style>\n",
       "<table border=\"1\" class=\"dataframe\">\n",
       "  <thead>\n",
       "    <tr style=\"text-align: right;\">\n",
       "      <th></th>\n",
       "      <th>name</th>\n",
       "      <th>age</th>\n",
       "      <th>gender</th>\n",
       "      <th>race</th>\n",
       "      <th>month</th>\n",
       "      <th>day</th>\n",
       "      <th>year</th>\n",
       "      <th>streetaddress</th>\n",
       "      <th>city</th>\n",
       "      <th>state</th>\n",
       "      <th>agency</th>\n",
       "      <th>cause</th>\n",
       "      <th>armed</th>\n",
       "      <th>county_income</th>\n",
       "    </tr>\n",
       "  </thead>\n",
       "  <tbody>\n",
       "    <tr>\n",
       "      <th>0</th>\n",
       "      <td>A'donte Washington</td>\n",
       "      <td>16</td>\n",
       "      <td>Male</td>\n",
       "      <td>Black</td>\n",
       "      <td>February</td>\n",
       "      <td>23</td>\n",
       "      <td>2015</td>\n",
       "      <td>Clearview Ln</td>\n",
       "      <td>Millbrook</td>\n",
       "      <td>AL</td>\n",
       "      <td>Millbrook Police Department</td>\n",
       "      <td>Gunshot</td>\n",
       "      <td>No</td>\n",
       "      <td>54766</td>\n",
       "    </tr>\n",
       "    <tr>\n",
       "      <th>1</th>\n",
       "      <td>Aaron Rutledge</td>\n",
       "      <td>27</td>\n",
       "      <td>Male</td>\n",
       "      <td>White</td>\n",
       "      <td>April</td>\n",
       "      <td>2</td>\n",
       "      <td>2015</td>\n",
       "      <td>300 block Iris Park Dr</td>\n",
       "      <td>Pineville</td>\n",
       "      <td>LA</td>\n",
       "      <td>Rapides Parish Sheriff's Office</td>\n",
       "      <td>Gunshot</td>\n",
       "      <td>No</td>\n",
       "      <td>40930</td>\n",
       "    </tr>\n",
       "    <tr>\n",
       "      <th>2</th>\n",
       "      <td>Aaron Siler</td>\n",
       "      <td>26</td>\n",
       "      <td>Male</td>\n",
       "      <td>White</td>\n",
       "      <td>March</td>\n",
       "      <td>14</td>\n",
       "      <td>2015</td>\n",
       "      <td>22nd Ave and 56th St</td>\n",
       "      <td>Kenosha</td>\n",
       "      <td>WI</td>\n",
       "      <td>Kenosha Police Department</td>\n",
       "      <td>Gunshot</td>\n",
       "      <td>No</td>\n",
       "      <td>54930</td>\n",
       "    </tr>\n",
       "    <tr>\n",
       "      <th>3</th>\n",
       "      <td>Aaron Valdez</td>\n",
       "      <td>25</td>\n",
       "      <td>Male</td>\n",
       "      <td>Hispanic/Latino</td>\n",
       "      <td>March</td>\n",
       "      <td>11</td>\n",
       "      <td>2015</td>\n",
       "      <td>3000 Seminole Ave</td>\n",
       "      <td>South Gate</td>\n",
       "      <td>CA</td>\n",
       "      <td>South Gate Police Department</td>\n",
       "      <td>Gunshot</td>\n",
       "      <td>Firearm</td>\n",
       "      <td>55909</td>\n",
       "    </tr>\n",
       "    <tr>\n",
       "      <th>4</th>\n",
       "      <td>Adam Jovicic</td>\n",
       "      <td>29</td>\n",
       "      <td>Male</td>\n",
       "      <td>White</td>\n",
       "      <td>March</td>\n",
       "      <td>19</td>\n",
       "      <td>2015</td>\n",
       "      <td>364 Hiwood Ave</td>\n",
       "      <td>Munroe Falls</td>\n",
       "      <td>OH</td>\n",
       "      <td>Kent Police Department</td>\n",
       "      <td>Gunshot</td>\n",
       "      <td>No</td>\n",
       "      <td>49669</td>\n",
       "    </tr>\n",
       "  </tbody>\n",
       "</table>\n",
       "</div>"
      ],
      "text/plain": [
       "                 name  age gender             race     month  day  year  \\\n",
       "0  A'donte Washington   16   Male            Black  February   23  2015   \n",
       "1      Aaron Rutledge   27   Male            White     April    2  2015   \n",
       "2         Aaron Siler   26   Male            White     March   14  2015   \n",
       "3        Aaron Valdez   25   Male  Hispanic/Latino     March   11  2015   \n",
       "4        Adam Jovicic   29   Male            White     March   19  2015   \n",
       "\n",
       "            streetaddress          city state  \\\n",
       "0            Clearview Ln     Millbrook    AL   \n",
       "1  300 block Iris Park Dr     Pineville    LA   \n",
       "2    22nd Ave and 56th St       Kenosha    WI   \n",
       "3       3000 Seminole Ave    South Gate    CA   \n",
       "4          364 Hiwood Ave  Munroe Falls    OH   \n",
       "\n",
       "                            agency    cause    armed  county_income  \n",
       "0      Millbrook Police Department  Gunshot       No          54766  \n",
       "1  Rapides Parish Sheriff's Office  Gunshot       No          40930  \n",
       "2        Kenosha Police Department  Gunshot       No          54930  \n",
       "3     South Gate Police Department  Gunshot  Firearm          55909  \n",
       "4           Kent Police Department  Gunshot       No          49669  "
      ]
     },
     "execution_count": 1224,
     "metadata": {},
     "output_type": "execute_result"
    }
   ],
   "source": [
    "killings.rename(columns={\"raceethnicity\":\"race\"}, inplace=True)\n",
    "killings.rename(columns={\"lawenforcementagency\":\"agency\"}, inplace=True)\n",
    "killings.head()"
   ]
  },
  {
   "cell_type": "code",
   "execution_count": null,
   "metadata": {
    "collapsed": true
   },
   "outputs": [],
   "source": []
  },
  {
   "cell_type": "markdown",
   "metadata": {
    "collapsed": true
   },
   "source": [
    "### 2. Show the count of missing values in each column"
   ]
  },
  {
   "cell_type": "code",
   "execution_count": 1225,
   "metadata": {},
   "outputs": [
    {
     "data": {
      "text/plain": [
       "name             0\n",
       "age              0\n",
       "gender           0\n",
       "race             0\n",
       "month            0\n",
       "day              0\n",
       "year             0\n",
       "streetaddress    4\n",
       "city             0\n",
       "state            0\n",
       "agency           0\n",
       "cause            0\n",
       "armed            0\n",
       "county_income    0\n",
       "dtype: int64"
      ]
     },
     "execution_count": 1225,
     "metadata": {},
     "output_type": "execute_result"
    }
   ],
   "source": [
    "killings.isnull().sum()"
   ]
  },
  {
   "cell_type": "markdown",
   "metadata": {
    "collapsed": true
   },
   "source": [
    "### 3. Replace each null value in the dataframe with the string \"unknown\""
   ]
  },
  {
   "cell_type": "code",
   "execution_count": 1226,
   "metadata": {
    "collapsed": true
   },
   "outputs": [],
   "source": [
    "address = killings.streetaddress"
   ]
  },
  {
   "cell_type": "code",
   "execution_count": 1227,
   "metadata": {
    "collapsed": true
   },
   "outputs": [],
   "source": [
    "address.fillna(\"unknown\", inplace=True)"
   ]
  },
  {
   "cell_type": "code",
   "execution_count": 1228,
   "metadata": {},
   "outputs": [
    {
     "data": {
      "text/plain": [
       "name             0\n",
       "age              0\n",
       "gender           0\n",
       "race             0\n",
       "month            0\n",
       "day              0\n",
       "year             0\n",
       "streetaddress    0\n",
       "city             0\n",
       "state            0\n",
       "agency           0\n",
       "cause            0\n",
       "armed            0\n",
       "county_income    0\n",
       "dtype: int64"
      ]
     },
     "execution_count": 1228,
     "metadata": {},
     "output_type": "execute_result"
    }
   ],
   "source": [
    "killings.isnull().sum()"
   ]
  },
  {
   "cell_type": "markdown",
   "metadata": {
    "collapsed": true
   },
   "source": [
    "### 4. How many killings were there in March and April?"
   ]
  },
  {
   "cell_type": "code",
   "execution_count": 1229,
   "metadata": {},
   "outputs": [
    {
     "data": {
      "text/html": [
       "<div>\n",
       "<style>\n",
       "    .dataframe thead tr:only-child th {\n",
       "        text-align: right;\n",
       "    }\n",
       "\n",
       "    .dataframe thead th {\n",
       "        text-align: left;\n",
       "    }\n",
       "\n",
       "    .dataframe tbody tr th {\n",
       "        vertical-align: top;\n",
       "    }\n",
       "</style>\n",
       "<table border=\"1\" class=\"dataframe\">\n",
       "  <thead>\n",
       "    <tr style=\"text-align: right;\">\n",
       "      <th></th>\n",
       "      <th>name</th>\n",
       "      <th>age</th>\n",
       "      <th>gender</th>\n",
       "      <th>race</th>\n",
       "      <th>day</th>\n",
       "      <th>year</th>\n",
       "      <th>streetaddress</th>\n",
       "      <th>city</th>\n",
       "      <th>state</th>\n",
       "      <th>agency</th>\n",
       "      <th>cause</th>\n",
       "      <th>armed</th>\n",
       "      <th>county_income</th>\n",
       "    </tr>\n",
       "    <tr>\n",
       "      <th>month</th>\n",
       "      <th></th>\n",
       "      <th></th>\n",
       "      <th></th>\n",
       "      <th></th>\n",
       "      <th></th>\n",
       "      <th></th>\n",
       "      <th></th>\n",
       "      <th></th>\n",
       "      <th></th>\n",
       "      <th></th>\n",
       "      <th></th>\n",
       "      <th></th>\n",
       "      <th></th>\n",
       "    </tr>\n",
       "  </thead>\n",
       "  <tbody>\n",
       "    <tr>\n",
       "      <th>April</th>\n",
       "      <td>96</td>\n",
       "      <td>96</td>\n",
       "      <td>96</td>\n",
       "      <td>96</td>\n",
       "      <td>96</td>\n",
       "      <td>96</td>\n",
       "      <td>96</td>\n",
       "      <td>96</td>\n",
       "      <td>96</td>\n",
       "      <td>96</td>\n",
       "      <td>96</td>\n",
       "      <td>96</td>\n",
       "      <td>96</td>\n",
       "    </tr>\n",
       "    <tr>\n",
       "      <th>February</th>\n",
       "      <td>84</td>\n",
       "      <td>84</td>\n",
       "      <td>84</td>\n",
       "      <td>84</td>\n",
       "      <td>84</td>\n",
       "      <td>84</td>\n",
       "      <td>84</td>\n",
       "      <td>84</td>\n",
       "      <td>84</td>\n",
       "      <td>84</td>\n",
       "      <td>84</td>\n",
       "      <td>84</td>\n",
       "      <td>84</td>\n",
       "    </tr>\n",
       "    <tr>\n",
       "      <th>January</th>\n",
       "      <td>90</td>\n",
       "      <td>90</td>\n",
       "      <td>90</td>\n",
       "      <td>90</td>\n",
       "      <td>90</td>\n",
       "      <td>90</td>\n",
       "      <td>90</td>\n",
       "      <td>90</td>\n",
       "      <td>90</td>\n",
       "      <td>90</td>\n",
       "      <td>90</td>\n",
       "      <td>90</td>\n",
       "      <td>90</td>\n",
       "    </tr>\n",
       "    <tr>\n",
       "      <th>June</th>\n",
       "      <td>2</td>\n",
       "      <td>2</td>\n",
       "      <td>2</td>\n",
       "      <td>2</td>\n",
       "      <td>2</td>\n",
       "      <td>2</td>\n",
       "      <td>2</td>\n",
       "      <td>2</td>\n",
       "      <td>2</td>\n",
       "      <td>2</td>\n",
       "      <td>2</td>\n",
       "      <td>2</td>\n",
       "      <td>2</td>\n",
       "    </tr>\n",
       "    <tr>\n",
       "      <th>March</th>\n",
       "      <td>114</td>\n",
       "      <td>114</td>\n",
       "      <td>114</td>\n",
       "      <td>114</td>\n",
       "      <td>114</td>\n",
       "      <td>114</td>\n",
       "      <td>114</td>\n",
       "      <td>114</td>\n",
       "      <td>114</td>\n",
       "      <td>114</td>\n",
       "      <td>114</td>\n",
       "      <td>114</td>\n",
       "      <td>114</td>\n",
       "    </tr>\n",
       "    <tr>\n",
       "      <th>May</th>\n",
       "      <td>81</td>\n",
       "      <td>81</td>\n",
       "      <td>81</td>\n",
       "      <td>81</td>\n",
       "      <td>81</td>\n",
       "      <td>81</td>\n",
       "      <td>81</td>\n",
       "      <td>81</td>\n",
       "      <td>81</td>\n",
       "      <td>81</td>\n",
       "      <td>81</td>\n",
       "      <td>81</td>\n",
       "      <td>81</td>\n",
       "    </tr>\n",
       "  </tbody>\n",
       "</table>\n",
       "</div>"
      ],
      "text/plain": [
       "          name  age  gender  race  day  year  streetaddress  city  state  \\\n",
       "month                                                                      \n",
       "April       96   96      96    96   96    96             96    96     96   \n",
       "February    84   84      84    84   84    84             84    84     84   \n",
       "January     90   90      90    90   90    90             90    90     90   \n",
       "June         2    2       2     2    2     2              2     2      2   \n",
       "March      114  114     114   114  114   114            114   114    114   \n",
       "May         81   81      81    81   81    81             81    81     81   \n",
       "\n",
       "          agency  cause  armed  county_income  \n",
       "month                                          \n",
       "April         96     96     96             96  \n",
       "February      84     84     84             84  \n",
       "January       90     90     90             90  \n",
       "June           2      2      2              2  \n",
       "March        114    114    114            114  \n",
       "May           81     81     81             81  "
      ]
     },
     "execution_count": 1229,
     "metadata": {},
     "output_type": "execute_result"
    }
   ],
   "source": [
    "killings.groupby(\"month\").count()"
   ]
  },
  {
   "cell_type": "code",
   "execution_count": 1230,
   "metadata": {},
   "outputs": [
    {
     "name": "stdout",
     "output_type": "stream",
     "text": [
      "114\n"
     ]
    }
   ],
   "source": [
    "march_killings = (killings.month == \"March\").sum()\n",
    "print march_killings"
   ]
  },
  {
   "cell_type": "code",
   "execution_count": 1231,
   "metadata": {},
   "outputs": [
    {
     "name": "stdout",
     "output_type": "stream",
     "text": [
      "96\n"
     ]
    }
   ],
   "source": [
    "april_killings = (killings.month == \"April\").sum()\n",
    "print april_killings"
   ]
  },
  {
   "cell_type": "code",
   "execution_count": 1232,
   "metadata": {},
   "outputs": [
    {
     "name": "stdout",
     "output_type": "stream",
     "text": [
      "There were 210 killings total for the months of March and April.\n"
     ]
    }
   ],
   "source": [
    "march_and_april_killings = (march_killings + april_killings)\n",
    "print \"There were {} killings total for the months of March and April.\".format(march_and_april_killings)"
   ]
  },
  {
   "cell_type": "markdown",
   "metadata": {
    "collapsed": true
   },
   "source": [
    "### 5. How many male and how many female victims are there?"
   ]
  },
  {
   "cell_type": "code",
   "execution_count": 1233,
   "metadata": {},
   "outputs": [
    {
     "name": "stdout",
     "output_type": "stream",
     "text": [
      "There were 445 male victims.\n"
     ]
    }
   ],
   "source": [
    "male = (killings.gender == \"Male\").sum()\n",
    "print \"There were {} male victims.\".format(male)"
   ]
  },
  {
   "cell_type": "code",
   "execution_count": 1234,
   "metadata": {},
   "outputs": [
    {
     "name": "stdout",
     "output_type": "stream",
     "text": [
      "There were 22 male victims.\n"
     ]
    }
   ],
   "source": [
    "female = (killings.gender == \"Female\").sum()\n",
    "print \"There were {} male victims.\".format(female)"
   ]
  },
  {
   "cell_type": "markdown",
   "metadata": {
    "collapsed": true
   },
   "source": [
    "### 6. How many killings were of unarmed people?"
   ]
  },
  {
   "cell_type": "code",
   "execution_count": 1235,
   "metadata": {},
   "outputs": [
    {
     "data": {
      "text/plain": [
       "Firearm               230\n",
       "No                    102\n",
       "Knife                  68\n",
       "Other                  26\n",
       "Vehicle                18\n",
       "Non-lethal firearm     14\n",
       "Unknown                 7\n",
       "Disputed                2\n",
       "Name: armed, dtype: int64"
      ]
     },
     "execution_count": 1235,
     "metadata": {},
     "output_type": "execute_result"
    }
   ],
   "source": [
    "killings.armed.value_counts()"
   ]
  },
  {
   "cell_type": "code",
   "execution_count": 1236,
   "metadata": {},
   "outputs": [
    {
     "name": "stdout",
     "output_type": "stream",
     "text": [
      "There were 102 killings of unarmed people\n"
     ]
    }
   ],
   "source": [
    "unarmed_killings = (killings.armed == \"No\").sum()\n",
    "print \"There were {} killings of unarmed people\".format(unarmed_killings)"
   ]
  },
  {
   "cell_type": "markdown",
   "metadata": {
    "collapsed": true
   },
   "source": [
    "### 7. What percentage of all killings were unarmed?"
   ]
  },
  {
   "cell_type": "code",
   "execution_count": 1237,
   "metadata": {},
   "outputs": [
    {
     "data": {
      "text/plain": [
       "Firearm               49.250535\n",
       "No                    21.841542\n",
       "Knife                 14.561028\n",
       "Other                  5.567452\n",
       "Vehicle                3.854390\n",
       "Non-lethal firearm     2.997859\n",
       "Unknown                1.498929\n",
       "Disputed               0.428266\n",
       "Name: armed, dtype: float64"
      ]
     },
     "execution_count": 1237,
     "metadata": {},
     "output_type": "execute_result"
    }
   ],
   "source": [
    "killings.armed.value_counts(normalize=True) *100"
   ]
  },
  {
   "cell_type": "markdown",
   "metadata": {
    "collapsed": true
   },
   "source": [
    "22% of all killings were unarmed."
   ]
  },
  {
   "cell_type": "markdown",
   "metadata": {
    "collapsed": true
   },
   "source": [
    "### 8. What are the 5 states with the most killings?"
   ]
  },
  {
   "cell_type": "code",
   "execution_count": 1238,
   "metadata": {},
   "outputs": [
    {
     "data": {
      "text/plain": [
       "CA    74\n",
       "TX    46\n",
       "FL    29\n",
       "AZ    25\n",
       "OK    22\n",
       "Name: state, dtype: int64"
      ]
     },
     "execution_count": 1238,
     "metadata": {},
     "output_type": "execute_result"
    }
   ],
   "source": [
    "killings.state.value_counts(sort=True)[:5]"
   ]
  },
  {
   "cell_type": "markdown",
   "metadata": {
    "collapsed": true
   },
   "source": [
    "### 9. Show a value counts of deaths for each race"
   ]
  },
  {
   "cell_type": "code",
   "execution_count": 1239,
   "metadata": {},
   "outputs": [
    {
     "data": {
      "text/plain": [
       "White                     236\n",
       "Black                     135\n",
       "Hispanic/Latino            67\n",
       "Unknown                    15\n",
       "Asian/Pacific Islander     10\n",
       "Native American             4\n",
       "Name: race, dtype: int64"
      ]
     },
     "execution_count": 1239,
     "metadata": {},
     "output_type": "execute_result"
    }
   ],
   "source": [
    "killings.race.value_counts()"
   ]
  },
  {
   "cell_type": "markdown",
   "metadata": {
    "collapsed": true
   },
   "source": [
    "### 10. Display a histogram of ages of all killings"
   ]
  },
  {
   "cell_type": "code",
   "execution_count": 1240,
   "metadata": {
    "collapsed": true
   },
   "outputs": [],
   "source": [
    "a = killings.age"
   ]
  },
  {
   "cell_type": "code",
   "execution_count": 1241,
   "metadata": {
    "scrolled": true
   },
   "outputs": [
    {
     "data": {
      "image/png": "[encoded data removed]",
      "text/plain": [
       "<matplotlib.figure.Figure at 0x1a92b92e90>"
      ]
     },
     "metadata": {},
     "output_type": "display_data"
    }
   ],
   "source": [
    "plt.style.use(\"fivethirtyeight\")\n",
    "plt.hist(a, bins = 100)\n",
    "plt.show();"
   ]
  },
  {
   "cell_type": "markdown",
   "metadata": {
    "collapsed": true
   },
   "source": [
    "### 11. Show histogram of ages for each race"
   ]
  },
  {
   "cell_type": "code",
   "execution_count": 1242,
   "metadata": {
    "collapsed": true
   },
   "outputs": [],
   "source": [
    "white = killings[killings.race == \"White\"]\n",
    "black = killings[killings.race == \"Black\"]\n",
    "hispanic_latino = killings[killings.race == \"Hispanic/Latino\"]\n",
    "unknown = killings[killings.race == \"Unknown\"]\n",
    "asian_pacific_islander = killings[killings.race == \"Asian/Pacific Islander\"] \n",
    "native_american = killings[killings.race == \"Native American\"]"
   ]
  },
  {
   "cell_type": "code",
   "execution_count": 1243,
   "metadata": {},
   "outputs": [
    {
     "data": {
      "text/html": [
       "<div>\n",
       "<style>\n",
       "    .dataframe thead tr:only-child th {\n",
       "        text-align: right;\n",
       "    }\n",
       "\n",
       "    .dataframe thead th {\n",
       "        text-align: left;\n",
       "    }\n",
       "\n",
       "    .dataframe tbody tr th {\n",
       "        vertical-align: top;\n",
       "    }\n",
       "</style>\n",
       "<table border=\"1\" class=\"dataframe\">\n",
       "  <thead>\n",
       "    <tr style=\"text-align: right;\">\n",
       "      <th></th>\n",
       "      <th>age</th>\n",
       "      <th>day</th>\n",
       "      <th>year</th>\n",
       "      <th>county_income</th>\n",
       "    </tr>\n",
       "  </thead>\n",
       "  <tbody>\n",
       "    <tr>\n",
       "      <th>count</th>\n",
       "      <td>135.000000</td>\n",
       "      <td>135.000000</td>\n",
       "      <td>135.0</td>\n",
       "      <td>135.000000</td>\n",
       "    </tr>\n",
       "    <tr>\n",
       "      <th>mean</th>\n",
       "      <td>34.044444</td>\n",
       "      <td>15.081481</td>\n",
       "      <td>2015.0</td>\n",
       "      <td>54181.881481</td>\n",
       "    </tr>\n",
       "    <tr>\n",
       "      <th>std</th>\n",
       "      <td>11.440871</td>\n",
       "      <td>9.045533</td>\n",
       "      <td>0.0</td>\n",
       "      <td>14532.791029</td>\n",
       "    </tr>\n",
       "    <tr>\n",
       "      <th>min</th>\n",
       "      <td>16.000000</td>\n",
       "      <td>1.000000</td>\n",
       "      <td>2015.0</td>\n",
       "      <td>22545.000000</td>\n",
       "    </tr>\n",
       "    <tr>\n",
       "      <th>25%</th>\n",
       "      <td>26.000000</td>\n",
       "      <td>7.000000</td>\n",
       "      <td>2015.0</td>\n",
       "      <td>45322.000000</td>\n",
       "    </tr>\n",
       "    <tr>\n",
       "      <th>50%</th>\n",
       "      <td>32.000000</td>\n",
       "      <td>15.000000</td>\n",
       "      <td>2015.0</td>\n",
       "      <td>50792.000000</td>\n",
       "    </tr>\n",
       "    <tr>\n",
       "      <th>75%</th>\n",
       "      <td>40.500000</td>\n",
       "      <td>22.500000</td>\n",
       "      <td>2015.0</td>\n",
       "      <td>57645.500000</td>\n",
       "    </tr>\n",
       "    <tr>\n",
       "      <th>max</th>\n",
       "      <td>77.000000</td>\n",
       "      <td>31.000000</td>\n",
       "      <td>2015.0</td>\n",
       "      <td>110292.000000</td>\n",
       "    </tr>\n",
       "  </tbody>\n",
       "</table>\n",
       "</div>"
      ],
      "text/plain": [
       "              age         day    year  county_income\n",
       "count  135.000000  135.000000   135.0     135.000000\n",
       "mean    34.044444   15.081481  2015.0   54181.881481\n",
       "std     11.440871    9.045533     0.0   14532.791029\n",
       "min     16.000000    1.000000  2015.0   22545.000000\n",
       "25%     26.000000    7.000000  2015.0   45322.000000\n",
       "50%     32.000000   15.000000  2015.0   50792.000000\n",
       "75%     40.500000   22.500000  2015.0   57645.500000\n",
       "max     77.000000   31.000000  2015.0  110292.000000"
      ]
     },
     "execution_count": 1243,
     "metadata": {},
     "output_type": "execute_result"
    }
   ],
   "source": [
    "#Let's see if the new dataframes worked before we plot it.\n",
    "black.describe()"
   ]
  },
  {
   "cell_type": "code",
   "execution_count": 1244,
   "metadata": {},
   "outputs": [
    {
     "data": {
      "image/png": "[encoded data removed]",
      "text/plain": [
       "<matplotlib.figure.Figure at 0x1a92c30c50>"
      ]
     },
     "metadata": {},
     "output_type": "display_data"
    }
   ],
   "source": [
    "#plot to check the histogram for Black only.\n",
    "plt.hist(black.age, bins=20);"
   ]
  },
  {
   "cell_type": "code",
   "execution_count": 1430,
   "metadata": {},
   "outputs": [
    {
     "data": {
      "image/png": "[encoded data removed]",
      "text/plain": [
       "<matplotlib.figure.Figure at 0x1a918fb690>"
      ]
     },
     "metadata": {},
     "output_type": "display_data"
    }
   ],
   "source": [
    "#plotting age by all of the races in one histogram.\n",
    "plt.figure(figsize=(20,8))\n",
    "\n",
    "kwargs = dict(bins=50, alpha= .6)\n",
    "\n",
    "plt.hist(white.age, label = \"White\", **kwargs)\n",
    "plt.hist(black.age, label = \"Black\", **kwargs)\n",
    "plt.hist(hispanic_latino.age,label = \"Hispanic/Latino\", **kwargs)\n",
    "plt.hist(unknown.age, label = \"unknown\", **kwargs)\n",
    "plt.hist(asian_pacific_islander.age, label = \"Asian/Pacific Islander\", **kwargs)\n",
    "plt.hist(native_american.age, label = \"Native American\", **kwargs)\n",
    "plt.legend(loc='right')\n",
    "plt.show;"
   ]
  },
  {
   "cell_type": "code",
   "execution_count": 1431,
   "metadata": {
    "scrolled": false
   },
   "outputs": [
    {
     "data": {
      "image/png": "[encoded data removed]",
      "text/plain": [
       "<matplotlib.figure.Figure at 0x1a8fe69890>"
      ]
     },
     "metadata": {},
     "output_type": "display_data"
    }
   ],
   "source": [
    "#same plot using Pandas\n",
    "plt.figure(figsize=(20,8))\n",
    "\n",
    "white.age.plot(label= \"White\", kind=\"hist\", bins = 50, legend = True, alpha = .6)\n",
    "black.age.plot(label= \"Black\", kind=\"hist\", bins = 50, legend = True, alpha = .6)\n",
    "hispanic_latino.age.plot(label= \"Hispanic/Latino\", kind=\"hist\", bins = 50, legend = True, alpha = .6)\n",
    "unknown.age.plot(label= \"Unknown\", kind=\"hist\", bins = 50, legend = True, alpha = .6)\n",
    "asian_pacific_islander.age.plot(label= \"Asian/Pacific Islander\", kind=\"hist\", bins = 50, legend = True, alpha = .6)\n",
    "native_american.age.plot(label= \"Native American\", kind=\"hist\", bins = 50, legend = True, alpha = .6)\n",
    "plt.legend(loc='right')\n",
    "plt.show();"
   ]
  },
  {
   "cell_type": "code",
   "execution_count": null,
   "metadata": {
    "scrolled": false
   },
   "outputs": [],
   "source": []
  },
  {
   "cell_type": "markdown",
   "metadata": {
    "collapsed": true
   },
   "source": [
    "### 12. What is the average age of death by race?"
   ]
  },
  {
   "cell_type": "code",
   "execution_count": 1248,
   "metadata": {},
   "outputs": [
    {
     "name": "stdout",
     "output_type": "stream",
     "text": [
      "race\n",
      "Asian/Pacific Islander    40.800000\n",
      "Black                     34.044444\n",
      "Hispanic/Latino           31.716418\n",
      "Native American           27.750000\n",
      "Unknown                   43.533333\n",
      "White                     40.466102\n",
      "Name: age, dtype: float64\n"
     ]
    }
   ],
   "source": [
    "avg_age_death_by_race = killings.groupby(\"race\").mean()[\"age\"]\n",
    "print avg_age_death_by_race"
   ]
  },
  {
   "cell_type": "markdown",
   "metadata": {
    "collapsed": true
   },
   "source": [
    "### 13. Show a bar chart with counts of deaths every month"
   ]
  },
  {
   "cell_type": "code",
   "execution_count": 1249,
   "metadata": {},
   "outputs": [
    {
     "data": {
      "image/png": "[encoded data removed]",
      "text/plain": [
       "<matplotlib.figure.Figure at 0x1a932acb50>"
      ]
     },
     "metadata": {},
     "output_type": "display_data"
    }
   ],
   "source": [
    "counts_of_death_by_month = killings.month.value_counts()\n",
    "counts_of_death_by_month.plot(kind=\"bar\");"
   ]
  },
  {
   "cell_type": "markdown",
   "metadata": {},
   "source": [
    "## Section 2: College Majors"
   ]
  },
  {
   "cell_type": "code",
   "execution_count": 1250,
   "metadata": {},
   "outputs": [
    {
     "name": "stdout",
     "output_type": "stream",
     "text": [
      "<class 'pandas.core.frame.DataFrame'>\n",
      "Int64Index: 173 entries, 0 to 172\n",
      "Data columns (total 11 columns):\n",
      "Major_code                       173 non-null int64\n",
      "Major                            173 non-null object\n",
      "Major_category                   173 non-null object\n",
      "Total                            173 non-null int64\n",
      "Employed                         173 non-null int64\n",
      "Employed_full_time_year_round    173 non-null int64\n",
      "Unemployed                       173 non-null int64\n",
      "Unemployment_rate                173 non-null float64\n",
      "Median                           173 non-null int64\n",
      "P25th                            173 non-null int64\n",
      "P75th                            173 non-null float64\n",
      "dtypes: float64(2), int64(7), object(2)\n",
      "memory usage: 16.2+ KB\n"
     ]
    }
   ],
   "source": [
    "majors = pd.read_csv('../data/college-majors.csv', index_col=[0])\n",
    "majors.info()"
   ]
  },
  {
   "cell_type": "markdown",
   "metadata": {},
   "source": [
    "### 1. Delete the columns (employed_full_time_year_round, major_code)\n"
   ]
  },
  {
   "cell_type": "code",
   "execution_count": 1251,
   "metadata": {
    "collapsed": true
   },
   "outputs": [],
   "source": [
    "majors.drop(\"Major_code\", axis = 1, inplace=True)"
   ]
  },
  {
   "cell_type": "code",
   "execution_count": 1252,
   "metadata": {
    "collapsed": true
   },
   "outputs": [],
   "source": [
    "majors.drop(\"Employed_full_time_year_round\", axis = 1, inplace=True)"
   ]
  },
  {
   "cell_type": "code",
   "execution_count": 1253,
   "metadata": {
    "scrolled": false
   },
   "outputs": [
    {
     "data": {
      "text/html": [
       "<div>\n",
       "<style>\n",
       "    .dataframe thead tr:only-child th {\n",
       "        text-align: right;\n",
       "    }\n",
       "\n",
       "    .dataframe thead th {\n",
       "        text-align: left;\n",
       "    }\n",
       "\n",
       "    .dataframe tbody tr th {\n",
       "        vertical-align: top;\n",
       "    }\n",
       "</style>\n",
       "<table border=\"1\" class=\"dataframe\">\n",
       "  <thead>\n",
       "    <tr style=\"text-align: right;\">\n",
       "      <th></th>\n",
       "      <th>Major</th>\n",
       "      <th>Major_category</th>\n",
       "      <th>Total</th>\n",
       "      <th>Employed</th>\n",
       "      <th>Unemployed</th>\n",
       "      <th>Unemployment_rate</th>\n",
       "      <th>Median</th>\n",
       "      <th>P25th</th>\n",
       "      <th>P75th</th>\n",
       "    </tr>\n",
       "  </thead>\n",
       "  <tbody>\n",
       "    <tr>\n",
       "      <th>0</th>\n",
       "      <td>GENERAL AGRICULTURE</td>\n",
       "      <td>Agriculture &amp; Natural Resources</td>\n",
       "      <td>128148</td>\n",
       "      <td>90245</td>\n",
       "      <td>2423</td>\n",
       "      <td>0.026147</td>\n",
       "      <td>50000</td>\n",
       "      <td>34000</td>\n",
       "      <td>80000.0</td>\n",
       "    </tr>\n",
       "    <tr>\n",
       "      <th>1</th>\n",
       "      <td>AGRICULTURE PRODUCTION AND MANAGEMENT</td>\n",
       "      <td>Agriculture &amp; Natural Resources</td>\n",
       "      <td>95326</td>\n",
       "      <td>76865</td>\n",
       "      <td>2266</td>\n",
       "      <td>0.028636</td>\n",
       "      <td>54000</td>\n",
       "      <td>36000</td>\n",
       "      <td>80000.0</td>\n",
       "    </tr>\n",
       "    <tr>\n",
       "      <th>2</th>\n",
       "      <td>AGRICULTURAL ECONOMICS</td>\n",
       "      <td>Agriculture &amp; Natural Resources</td>\n",
       "      <td>33955</td>\n",
       "      <td>26321</td>\n",
       "      <td>821</td>\n",
       "      <td>0.030248</td>\n",
       "      <td>63000</td>\n",
       "      <td>40000</td>\n",
       "      <td>98000.0</td>\n",
       "    </tr>\n",
       "    <tr>\n",
       "      <th>3</th>\n",
       "      <td>ANIMAL SCIENCES</td>\n",
       "      <td>Agriculture &amp; Natural Resources</td>\n",
       "      <td>103549</td>\n",
       "      <td>81177</td>\n",
       "      <td>3619</td>\n",
       "      <td>0.042679</td>\n",
       "      <td>46000</td>\n",
       "      <td>30000</td>\n",
       "      <td>72000.0</td>\n",
       "    </tr>\n",
       "    <tr>\n",
       "      <th>4</th>\n",
       "      <td>FOOD SCIENCE</td>\n",
       "      <td>Agriculture &amp; Natural Resources</td>\n",
       "      <td>24280</td>\n",
       "      <td>17281</td>\n",
       "      <td>894</td>\n",
       "      <td>0.049188</td>\n",
       "      <td>62000</td>\n",
       "      <td>38500</td>\n",
       "      <td>90000.0</td>\n",
       "    </tr>\n",
       "  </tbody>\n",
       "</table>\n",
       "</div>"
      ],
      "text/plain": [
       "                                   Major                   Major_category  \\\n",
       "0                    GENERAL AGRICULTURE  Agriculture & Natural Resources   \n",
       "1  AGRICULTURE PRODUCTION AND MANAGEMENT  Agriculture & Natural Resources   \n",
       "2                 AGRICULTURAL ECONOMICS  Agriculture & Natural Resources   \n",
       "3                        ANIMAL SCIENCES  Agriculture & Natural Resources   \n",
       "4                           FOOD SCIENCE  Agriculture & Natural Resources   \n",
       "\n",
       "    Total  Employed  Unemployed  Unemployment_rate  Median  P25th    P75th  \n",
       "0  128148     90245        2423           0.026147   50000  34000  80000.0  \n",
       "1   95326     76865        2266           0.028636   54000  36000  80000.0  \n",
       "2   33955     26321         821           0.030248   63000  40000  98000.0  \n",
       "3  103549     81177        3619           0.042679   46000  30000  72000.0  \n",
       "4   24280     17281         894           0.049188   62000  38500  90000.0  "
      ]
     },
     "execution_count": 1253,
     "metadata": {},
     "output_type": "execute_result"
    }
   ],
   "source": [
    "majors.head()"
   ]
  },
  {
   "cell_type": "markdown",
   "metadata": {},
   "source": []
  },
  {
   "cell_type": "code",
   "execution_count": 1254,
   "metadata": {
    "scrolled": false
   },
   "outputs": [
    {
     "data": {
      "text/html": [
       "<div>\n",
       "<style>\n",
       "    .dataframe thead tr:only-child th {\n",
       "        text-align: right;\n",
       "    }\n",
       "\n",
       "    .dataframe thead th {\n",
       "        text-align: left;\n",
       "    }\n",
       "\n",
       "    .dataframe tbody tr th {\n",
       "        vertical-align: top;\n",
       "    }\n",
       "</style>\n",
       "<table border=\"1\" class=\"dataframe\">\n",
       "  <thead>\n",
       "    <tr style=\"text-align: right;\">\n",
       "      <th></th>\n",
       "      <th>major</th>\n",
       "      <th>major_category</th>\n",
       "      <th>total</th>\n",
       "      <th>employed</th>\n",
       "      <th>unemployed</th>\n",
       "      <th>unemployment_rate</th>\n",
       "      <th>median</th>\n",
       "      <th>p25th</th>\n",
       "      <th>p75th</th>\n",
       "    </tr>\n",
       "  </thead>\n",
       "  <tbody>\n",
       "    <tr>\n",
       "      <th>0</th>\n",
       "      <td>GENERAL AGRICULTURE</td>\n",
       "      <td>Agriculture &amp; Natural Resources</td>\n",
       "      <td>128148</td>\n",
       "      <td>90245</td>\n",
       "      <td>2423</td>\n",
       "      <td>0.026147</td>\n",
       "      <td>50000</td>\n",
       "      <td>34000</td>\n",
       "      <td>80000.0</td>\n",
       "    </tr>\n",
       "    <tr>\n",
       "      <th>1</th>\n",
       "      <td>AGRICULTURE PRODUCTION AND MANAGEMENT</td>\n",
       "      <td>Agriculture &amp; Natural Resources</td>\n",
       "      <td>95326</td>\n",
       "      <td>76865</td>\n",
       "      <td>2266</td>\n",
       "      <td>0.028636</td>\n",
       "      <td>54000</td>\n",
       "      <td>36000</td>\n",
       "      <td>80000.0</td>\n",
       "    </tr>\n",
       "    <tr>\n",
       "      <th>2</th>\n",
       "      <td>AGRICULTURAL ECONOMICS</td>\n",
       "      <td>Agriculture &amp; Natural Resources</td>\n",
       "      <td>33955</td>\n",
       "      <td>26321</td>\n",
       "      <td>821</td>\n",
       "      <td>0.030248</td>\n",
       "      <td>63000</td>\n",
       "      <td>40000</td>\n",
       "      <td>98000.0</td>\n",
       "    </tr>\n",
       "    <tr>\n",
       "      <th>3</th>\n",
       "      <td>ANIMAL SCIENCES</td>\n",
       "      <td>Agriculture &amp; Natural Resources</td>\n",
       "      <td>103549</td>\n",
       "      <td>81177</td>\n",
       "      <td>3619</td>\n",
       "      <td>0.042679</td>\n",
       "      <td>46000</td>\n",
       "      <td>30000</td>\n",
       "      <td>72000.0</td>\n",
       "    </tr>\n",
       "    <tr>\n",
       "      <th>4</th>\n",
       "      <td>FOOD SCIENCE</td>\n",
       "      <td>Agriculture &amp; Natural Resources</td>\n",
       "      <td>24280</td>\n",
       "      <td>17281</td>\n",
       "      <td>894</td>\n",
       "      <td>0.049188</td>\n",
       "      <td>62000</td>\n",
       "      <td>38500</td>\n",
       "      <td>90000.0</td>\n",
       "    </tr>\n",
       "  </tbody>\n",
       "</table>\n",
       "</div>"
      ],
      "text/plain": [
       "                                   major                   major_category  \\\n",
       "0                    GENERAL AGRICULTURE  Agriculture & Natural Resources   \n",
       "1  AGRICULTURE PRODUCTION AND MANAGEMENT  Agriculture & Natural Resources   \n",
       "2                 AGRICULTURAL ECONOMICS  Agriculture & Natural Resources   \n",
       "3                        ANIMAL SCIENCES  Agriculture & Natural Resources   \n",
       "4                           FOOD SCIENCE  Agriculture & Natural Resources   \n",
       "\n",
       "    total  employed  unemployed  unemployment_rate  median  p25th    p75th  \n",
       "0  128148     90245        2423           0.026147   50000  34000  80000.0  \n",
       "1   95326     76865        2266           0.028636   54000  36000  80000.0  \n",
       "2   33955     26321         821           0.030248   63000  40000  98000.0  \n",
       "3  103549     81177        3619           0.042679   46000  30000  72000.0  \n",
       "4   24280     17281         894           0.049188   62000  38500  90000.0  "
      ]
     },
     "execution_count": 1254,
     "metadata": {},
     "output_type": "execute_result"
    }
   ],
   "source": [
    "majors.columns = majors.columns.str.lower()\n",
    "majors.head()"
   ]
  },
  {
   "cell_type": "code",
   "execution_count": 1255,
   "metadata": {
    "collapsed": true
   },
   "outputs": [],
   "source": [
    "majors.set_index(\"major\", inplace=True)"
   ]
  },
  {
   "cell_type": "markdown",
   "metadata": {
    "collapsed": true
   },
   "source": [
    "### 2. Show the count of missing values in each column"
   ]
  },
  {
   "cell_type": "code",
   "execution_count": 1256,
   "metadata": {},
   "outputs": [
    {
     "data": {
      "text/plain": [
       "major_category       0\n",
       "total                0\n",
       "employed             0\n",
       "unemployed           0\n",
       "unemployment_rate    0\n",
       "median               0\n",
       "p25th                0\n",
       "p75th                0\n",
       "dtype: int64"
      ]
     },
     "execution_count": 1256,
     "metadata": {},
     "output_type": "execute_result"
    }
   ],
   "source": [
    "majors.isnull().sum()"
   ]
  },
  {
   "cell_type": "markdown",
   "metadata": {},
   "source": [
    "### 3. What are the top 10 highest paying majors?"
   ]
  },
  {
   "cell_type": "code",
   "execution_count": 1257,
   "metadata": {},
   "outputs": [
    {
     "data": {
      "text/html": [
       "<div>\n",
       "<style>\n",
       "    .dataframe thead tr:only-child th {\n",
       "        text-align: right;\n",
       "    }\n",
       "\n",
       "    .dataframe thead th {\n",
       "        text-align: left;\n",
       "    }\n",
       "\n",
       "    .dataframe tbody tr th {\n",
       "        vertical-align: top;\n",
       "    }\n",
       "</style>\n",
       "<table border=\"1\" class=\"dataframe\">\n",
       "  <thead>\n",
       "    <tr style=\"text-align: right;\">\n",
       "      <th></th>\n",
       "      <th>major_category</th>\n",
       "      <th>total</th>\n",
       "      <th>employed</th>\n",
       "      <th>unemployed</th>\n",
       "      <th>unemployment_rate</th>\n",
       "      <th>median</th>\n",
       "      <th>p25th</th>\n",
       "      <th>p75th</th>\n",
       "    </tr>\n",
       "    <tr>\n",
       "      <th>major</th>\n",
       "      <th></th>\n",
       "      <th></th>\n",
       "      <th></th>\n",
       "      <th></th>\n",
       "      <th></th>\n",
       "      <th></th>\n",
       "      <th></th>\n",
       "      <th></th>\n",
       "    </tr>\n",
       "  </thead>\n",
       "  <tbody>\n",
       "    <tr>\n",
       "      <th>BUSINESS MANAGEMENT AND ADMINISTRATION</th>\n",
       "      <td>Business</td>\n",
       "      <td>3123510</td>\n",
       "      <td>2354398</td>\n",
       "      <td>147261</td>\n",
       "      <td>0.058865</td>\n",
       "      <td>58000</td>\n",
       "      <td>39500</td>\n",
       "      <td>86000.0</td>\n",
       "    </tr>\n",
       "    <tr>\n",
       "      <th>GENERAL BUSINESS</th>\n",
       "      <td>Business</td>\n",
       "      <td>2148712</td>\n",
       "      <td>1580978</td>\n",
       "      <td>85626</td>\n",
       "      <td>0.051378</td>\n",
       "      <td>60000</td>\n",
       "      <td>40000</td>\n",
       "      <td>95000.0</td>\n",
       "    </tr>\n",
       "    <tr>\n",
       "      <th>ACCOUNTING</th>\n",
       "      <td>Business</td>\n",
       "      <td>1779219</td>\n",
       "      <td>1335825</td>\n",
       "      <td>75379</td>\n",
       "      <td>0.053415</td>\n",
       "      <td>65000</td>\n",
       "      <td>42500</td>\n",
       "      <td>100000.0</td>\n",
       "    </tr>\n",
       "    <tr>\n",
       "      <th>NURSING</th>\n",
       "      <td>Health</td>\n",
       "      <td>1769892</td>\n",
       "      <td>1325711</td>\n",
       "      <td>36503</td>\n",
       "      <td>0.026797</td>\n",
       "      <td>62000</td>\n",
       "      <td>48000</td>\n",
       "      <td>80000.0</td>\n",
       "    </tr>\n",
       "    <tr>\n",
       "      <th>PSYCHOLOGY</th>\n",
       "      <td>Psychology &amp; Social Work</td>\n",
       "      <td>1484075</td>\n",
       "      <td>1055854</td>\n",
       "      <td>79066</td>\n",
       "      <td>0.069667</td>\n",
       "      <td>45000</td>\n",
       "      <td>31000</td>\n",
       "      <td>68000.0</td>\n",
       "    </tr>\n",
       "    <tr>\n",
       "      <th>ELEMENTARY EDUCATION</th>\n",
       "      <td>Education</td>\n",
       "      <td>1446701</td>\n",
       "      <td>819393</td>\n",
       "      <td>32685</td>\n",
       "      <td>0.038359</td>\n",
       "      <td>40000</td>\n",
       "      <td>31000</td>\n",
       "      <td>50000.0</td>\n",
       "    </tr>\n",
       "    <tr>\n",
       "      <th>GENERAL EDUCATION</th>\n",
       "      <td>Education</td>\n",
       "      <td>1438867</td>\n",
       "      <td>843693</td>\n",
       "      <td>38742</td>\n",
       "      <td>0.043904</td>\n",
       "      <td>43000</td>\n",
       "      <td>32000</td>\n",
       "      <td>59000.0</td>\n",
       "    </tr>\n",
       "    <tr>\n",
       "      <th>MARKETING AND MARKETING RESEARCH</th>\n",
       "      <td>Business</td>\n",
       "      <td>1114624</td>\n",
       "      <td>890125</td>\n",
       "      <td>51839</td>\n",
       "      <td>0.055033</td>\n",
       "      <td>56000</td>\n",
       "      <td>38500</td>\n",
       "      <td>90000.0</td>\n",
       "    </tr>\n",
       "    <tr>\n",
       "      <th>ENGLISH LANGUAGE AND LITERATURE</th>\n",
       "      <td>Humanities &amp; Liberal Arts</td>\n",
       "      <td>1098647</td>\n",
       "      <td>708882</td>\n",
       "      <td>52248</td>\n",
       "      <td>0.068645</td>\n",
       "      <td>50000</td>\n",
       "      <td>32900</td>\n",
       "      <td>75000.0</td>\n",
       "    </tr>\n",
       "    <tr>\n",
       "      <th>COMMUNICATIONS</th>\n",
       "      <td>Communications &amp; Journalism</td>\n",
       "      <td>987676</td>\n",
       "      <td>790696</td>\n",
       "      <td>54390</td>\n",
       "      <td>0.064360</td>\n",
       "      <td>50000</td>\n",
       "      <td>35000</td>\n",
       "      <td>80000.0</td>\n",
       "    </tr>\n",
       "  </tbody>\n",
       "</table>\n",
       "</div>"
      ],
      "text/plain": [
       "                                                     major_category    total  \\\n",
       "major                                                                          \n",
       "BUSINESS MANAGEMENT AND ADMINISTRATION                     Business  3123510   \n",
       "GENERAL BUSINESS                                           Business  2148712   \n",
       "ACCOUNTING                                                 Business  1779219   \n",
       "NURSING                                                      Health  1769892   \n",
       "PSYCHOLOGY                                 Psychology & Social Work  1484075   \n",
       "ELEMENTARY EDUCATION                                      Education  1446701   \n",
       "GENERAL EDUCATION                                         Education  1438867   \n",
       "MARKETING AND MARKETING RESEARCH                           Business  1114624   \n",
       "ENGLISH LANGUAGE AND LITERATURE           Humanities & Liberal Arts  1098647   \n",
       "COMMUNICATIONS                          Communications & Journalism   987676   \n",
       "\n",
       "                                        employed  unemployed  \\\n",
       "major                                                          \n",
       "BUSINESS MANAGEMENT AND ADMINISTRATION   2354398      147261   \n",
       "GENERAL BUSINESS                         1580978       85626   \n",
       "ACCOUNTING                               1335825       75379   \n",
       "NURSING                                  1325711       36503   \n",
       "PSYCHOLOGY                               1055854       79066   \n",
       "ELEMENTARY EDUCATION                      819393       32685   \n",
       "GENERAL EDUCATION                         843693       38742   \n",
       "MARKETING AND MARKETING RESEARCH          890125       51839   \n",
       "ENGLISH LANGUAGE AND LITERATURE           708882       52248   \n",
       "COMMUNICATIONS                            790696       54390   \n",
       "\n",
       "                                        unemployment_rate  median  p25th  \\\n",
       "major                                                                      \n",
       "BUSINESS MANAGEMENT AND ADMINISTRATION           0.058865   58000  39500   \n",
       "GENERAL BUSINESS                                 0.051378   60000  40000   \n",
       "ACCOUNTING                                       0.053415   65000  42500   \n",
       "NURSING                                          0.026797   62000  48000   \n",
       "PSYCHOLOGY                                       0.069667   45000  31000   \n",
       "ELEMENTARY EDUCATION                             0.038359   40000  31000   \n",
       "GENERAL EDUCATION                                0.043904   43000  32000   \n",
       "MARKETING AND MARKETING RESEARCH                 0.055033   56000  38500   \n",
       "ENGLISH LANGUAGE AND LITERATURE                  0.068645   50000  32900   \n",
       "COMMUNICATIONS                                   0.064360   50000  35000   \n",
       "\n",
       "                                           p75th  \n",
       "major                                             \n",
       "BUSINESS MANAGEMENT AND ADMINISTRATION   86000.0  \n",
       "GENERAL BUSINESS                         95000.0  \n",
       "ACCOUNTING                              100000.0  \n",
       "NURSING                                  80000.0  \n",
       "PSYCHOLOGY                               68000.0  \n",
       "ELEMENTARY EDUCATION                     50000.0  \n",
       "GENERAL EDUCATION                        59000.0  \n",
       "MARKETING AND MARKETING RESEARCH         90000.0  \n",
       "ENGLISH LANGUAGE AND LITERATURE          75000.0  \n",
       "COMMUNICATIONS                           80000.0  "
      ]
     },
     "execution_count": 1257,
     "metadata": {},
     "output_type": "execute_result"
    }
   ],
   "source": [
    "df1 = majors.sort_values(by=\"total\", ascending=False)[:10]\n",
    "df1"
   ]
  },
  {
   "cell_type": "markdown",
   "metadata": {},
   "source": [
    "### 4. Plot the data from the last question in a bar chart, include proper title, and labels\n"
   ]
  },
  {
   "cell_type": "code",
   "execution_count": 1258,
   "metadata": {},
   "outputs": [
    {
     "data": {
      "image/png": "[encoded data removed]",
      "text/plain": [
       "<matplotlib.figure.Figure at 0x1a93642cd0>"
      ]
     },
     "metadata": {},
     "output_type": "display_data"
    }
   ],
   "source": [
    "df1.total.plot(kind=\"bar\", use_index= True, title = \"Top 10 highest paying majors\")\n",
    "plt.show();"
   ]
  },
  {
   "cell_type": "code",
   "execution_count": 1259,
   "metadata": {},
   "outputs": [
    {
     "data": {
      "text/plain": [
       "major\n",
       "BUSINESS MANAGEMENT AND ADMINISTRATION    3123510\n",
       "GENERAL BUSINESS                          2148712\n",
       "ACCOUNTING                                1779219\n",
       "NURSING                                   1769892\n",
       "PSYCHOLOGY                                1484075\n",
       "ELEMENTARY EDUCATION                      1446701\n",
       "GENERAL EDUCATION                         1438867\n",
       "MARKETING AND MARKETING RESEARCH          1114624\n",
       "ENGLISH LANGUAGE AND LITERATURE           1098647\n",
       "COMMUNICATIONS                             987676\n",
       "Name: total, dtype: int64"
      ]
     },
     "execution_count": 1259,
     "metadata": {},
     "output_type": "execute_result"
    }
   ],
   "source": [
    "#Double check with groupby to eliminate any duplicates in major column\n",
    "df2 = majors.groupby('major')['total'].mean().sort_values(ascending=False)[:10]\n",
    "df2"
   ]
  },
  {
   "cell_type": "code",
   "execution_count": 1260,
   "metadata": {},
   "outputs": [
    {
     "data": {
      "image/png": "[encoded data removed]",
      "text/plain": [
       "<matplotlib.figure.Figure at 0x1a93a76f50>"
      ]
     },
     "metadata": {},
     "output_type": "display_data"
    }
   ],
   "source": [
    "df2.plot(kind=\"bar\", title = \"Top 10 highest paying majors\");"
   ]
  },
  {
   "cell_type": "markdown",
   "metadata": {
    "collapsed": true
   },
   "source": [
    "### 5. What is the average median salary for each major category?"
   ]
  },
  {
   "cell_type": "code",
   "execution_count": 1261,
   "metadata": {},
   "outputs": [
    {
     "data": {
      "text/plain": [
       "major_category\n",
       "Engineering                            77758.620690\n",
       "Computers & Mathematics                66272.727273\n",
       "Physical Sciences                      62400.000000\n",
       "Business                               60615.384615\n",
       "Health                                 56458.333333\n",
       "Agriculture & Natural Resources        55000.000000\n",
       "Social Science                         53222.222222\n",
       "Law & Public Policy                    52800.000000\n",
       "Industrial Arts & Consumer Services    52642.857143\n",
       "Biology & Life Science                 50821.428571\n",
       "Communications & Journalism            49500.000000\n",
       "Humanities & Liberal Arts              46080.000000\n",
       "Psychology & Social Work               44555.555556\n",
       "Education                              43831.250000\n",
       "Arts                                   43525.000000\n",
       "Interdisciplinary                      43000.000000\n",
       "Name: median, dtype: float64"
      ]
     },
     "execution_count": 1261,
     "metadata": {},
     "output_type": "execute_result"
    }
   ],
   "source": [
    "avg_median_salary_by_major_cat = majors.groupby(\"major_category\")[\"median\"].mean().sort_values(ascending=False)\n",
    "avg_median_salary_by_major_cat"
   ]
  },
  {
   "cell_type": "markdown",
   "metadata": {
    "collapsed": true
   },
   "source": [
    "### 6. Visualize only the top 5 paying major categories"
   ]
  },
  {
   "cell_type": "code",
   "execution_count": 1262,
   "metadata": {
    "collapsed": true
   },
   "outputs": [],
   "source": [
    "top_5_paying_major_cat = majors.groupby(\"major_category\")[\"median\"].mean().sort_values(ascending=False).head()"
   ]
  },
  {
   "cell_type": "code",
   "execution_count": 1263,
   "metadata": {},
   "outputs": [
    {
     "data": {
      "image/png": "[encoded data removed]",
      "text/plain": [
       "<matplotlib.figure.Figure at 0x1a939ba090>"
      ]
     },
     "metadata": {},
     "output_type": "display_data"
    }
   ],
   "source": [
    "top_5_paying_major_cat.plot(kind=\"bar\", title = \"Top 5 highest paying major categories\")\n",
    "\n",
    "plt.show();"
   ]
  },
  {
   "cell_type": "markdown",
   "metadata": {
    "collapsed": true
   },
   "source": [
    "### 7. Plot a histogram of the distribution of median salaries"
   ]
  },
  {
   "cell_type": "code",
   "execution_count": 1264,
   "metadata": {},
   "outputs": [
    {
     "data": {
      "text/html": [
       "<div>\n",
       "<style>\n",
       "    .dataframe thead tr:only-child th {\n",
       "        text-align: right;\n",
       "    }\n",
       "\n",
       "    .dataframe thead th {\n",
       "        text-align: left;\n",
       "    }\n",
       "\n",
       "    .dataframe tbody tr th {\n",
       "        vertical-align: top;\n",
       "    }\n",
       "</style>\n",
       "<table border=\"1\" class=\"dataframe\">\n",
       "  <thead>\n",
       "    <tr style=\"text-align: right;\">\n",
       "      <th></th>\n",
       "      <th>major_category</th>\n",
       "      <th>total</th>\n",
       "      <th>employed</th>\n",
       "      <th>unemployed</th>\n",
       "      <th>unemployment_rate</th>\n",
       "      <th>med</th>\n",
       "      <th>p25th</th>\n",
       "      <th>p75th</th>\n",
       "    </tr>\n",
       "    <tr>\n",
       "      <th>major</th>\n",
       "      <th></th>\n",
       "      <th></th>\n",
       "      <th></th>\n",
       "      <th></th>\n",
       "      <th></th>\n",
       "      <th></th>\n",
       "      <th></th>\n",
       "      <th></th>\n",
       "    </tr>\n",
       "  </thead>\n",
       "  <tbody>\n",
       "    <tr>\n",
       "      <th>GENERAL AGRICULTURE</th>\n",
       "      <td>Agriculture &amp; Natural Resources</td>\n",
       "      <td>128148</td>\n",
       "      <td>90245</td>\n",
       "      <td>2423</td>\n",
       "      <td>0.026147</td>\n",
       "      <td>50000</td>\n",
       "      <td>34000</td>\n",
       "      <td>80000.0</td>\n",
       "    </tr>\n",
       "    <tr>\n",
       "      <th>AGRICULTURE PRODUCTION AND MANAGEMENT</th>\n",
       "      <td>Agriculture &amp; Natural Resources</td>\n",
       "      <td>95326</td>\n",
       "      <td>76865</td>\n",
       "      <td>2266</td>\n",
       "      <td>0.028636</td>\n",
       "      <td>54000</td>\n",
       "      <td>36000</td>\n",
       "      <td>80000.0</td>\n",
       "    </tr>\n",
       "    <tr>\n",
       "      <th>AGRICULTURAL ECONOMICS</th>\n",
       "      <td>Agriculture &amp; Natural Resources</td>\n",
       "      <td>33955</td>\n",
       "      <td>26321</td>\n",
       "      <td>821</td>\n",
       "      <td>0.030248</td>\n",
       "      <td>63000</td>\n",
       "      <td>40000</td>\n",
       "      <td>98000.0</td>\n",
       "    </tr>\n",
       "    <tr>\n",
       "      <th>ANIMAL SCIENCES</th>\n",
       "      <td>Agriculture &amp; Natural Resources</td>\n",
       "      <td>103549</td>\n",
       "      <td>81177</td>\n",
       "      <td>3619</td>\n",
       "      <td>0.042679</td>\n",
       "      <td>46000</td>\n",
       "      <td>30000</td>\n",
       "      <td>72000.0</td>\n",
       "    </tr>\n",
       "    <tr>\n",
       "      <th>FOOD SCIENCE</th>\n",
       "      <td>Agriculture &amp; Natural Resources</td>\n",
       "      <td>24280</td>\n",
       "      <td>17281</td>\n",
       "      <td>894</td>\n",
       "      <td>0.049188</td>\n",
       "      <td>62000</td>\n",
       "      <td>38500</td>\n",
       "      <td>90000.0</td>\n",
       "    </tr>\n",
       "  </tbody>\n",
       "</table>\n",
       "</div>"
      ],
      "text/plain": [
       "                                                        major_category  \\\n",
       "major                                                                    \n",
       "GENERAL AGRICULTURE                    Agriculture & Natural Resources   \n",
       "AGRICULTURE PRODUCTION AND MANAGEMENT  Agriculture & Natural Resources   \n",
       "AGRICULTURAL ECONOMICS                 Agriculture & Natural Resources   \n",
       "ANIMAL SCIENCES                        Agriculture & Natural Resources   \n",
       "FOOD SCIENCE                           Agriculture & Natural Resources   \n",
       "\n",
       "                                        total  employed  unemployed  \\\n",
       "major                                                                 \n",
       "GENERAL AGRICULTURE                    128148     90245        2423   \n",
       "AGRICULTURE PRODUCTION AND MANAGEMENT   95326     76865        2266   \n",
       "AGRICULTURAL ECONOMICS                  33955     26321         821   \n",
       "ANIMAL SCIENCES                        103549     81177        3619   \n",
       "FOOD SCIENCE                            24280     17281         894   \n",
       "\n",
       "                                       unemployment_rate    med  p25th  \\\n",
       "major                                                                    \n",
       "GENERAL AGRICULTURE                             0.026147  50000  34000   \n",
       "AGRICULTURE PRODUCTION AND MANAGEMENT           0.028636  54000  36000   \n",
       "AGRICULTURAL ECONOMICS                          0.030248  63000  40000   \n",
       "ANIMAL SCIENCES                                 0.042679  46000  30000   \n",
       "FOOD SCIENCE                                    0.049188  62000  38500   \n",
       "\n",
       "                                         p75th  \n",
       "major                                           \n",
       "GENERAL AGRICULTURE                    80000.0  \n",
       "AGRICULTURE PRODUCTION AND MANAGEMENT  80000.0  \n",
       "AGRICULTURAL ECONOMICS                 98000.0  \n",
       "ANIMAL SCIENCES                        72000.0  \n",
       "FOOD SCIENCE                           90000.0  "
      ]
     },
     "execution_count": 1264,
     "metadata": {},
     "output_type": "execute_result"
    }
   ],
   "source": [
    "majors.rename(columns = {\"median\" : \"med\"}, inplace = True)\n",
    "majors.head()"
   ]
  },
  {
   "cell_type": "code",
   "execution_count": 1265,
   "metadata": {},
   "outputs": [
    {
     "data": {
      "image/png": "[encoded data removed]",
      "text/plain": [
       "<matplotlib.figure.Figure at 0x1a938e4c50>"
      ]
     },
     "metadata": {},
     "output_type": "display_data"
    }
   ],
   "source": [
    "plt.hist(majors.med)\n",
    "plt.show();"
   ]
  },
  {
   "cell_type": "code",
   "execution_count": 1266,
   "metadata": {},
   "outputs": [
    {
     "data": {
      "image/png": "[encoded data removed]",
      "text/plain": [
       "<matplotlib.figure.Figure at 0x1a93245e50>"
      ]
     },
     "metadata": {},
     "output_type": "display_data"
    }
   ],
   "source": [
    "mm = majors.med\n",
    "mm.plot(kind=\"hist\")\n",
    "plt.show();"
   ]
  },
  {
   "cell_type": "markdown",
   "metadata": {
    "collapsed": true
   },
   "source": [
    "### 8. Plot a histogram of the distribution of median salaries by major category"
   ]
  },
  {
   "cell_type": "code",
   "execution_count": null,
   "metadata": {
    "collapsed": true
   },
   "outputs": [],
   "source": []
  },
  {
   "cell_type": "code",
   "execution_count": null,
   "metadata": {
    "collapsed": true
   },
   "outputs": [],
   "source": []
  },
  {
   "cell_type": "code",
   "execution_count": 1435,
   "metadata": {
    "scrolled": true
   },
   "outputs": [
    {
     "data": {
      "image/png": "[encoded data removed]",
      "text/plain": [
       "<matplotlib.figure.Figure at 0x1a93778ad0>"
      ]
     },
     "metadata": {},
     "output_type": "display_data"
    }
   ],
   "source": [
    "plt.style.use(\"seaborn-pastel\")\n",
    "med_sal_by_catg = majors.groupby(\"major_category\")[\"med\"]\n",
    "plt.figure(figsize = (18, 8))\n",
    "\n",
    "med_sal_by_catg.plot(kind=\"hist\", alpha = .6)\n",
    "plt.legend(loc = 'right')\n",
    "plt.tight_layout()\n",
    "plt.show();"
   ]
  },
  {
   "cell_type": "code",
   "execution_count": null,
   "metadata": {
    "collapsed": true
   },
   "outputs": [],
   "source": []
  },
  {
   "cell_type": "markdown",
   "metadata": {},
   "source": [
    "### 9. What are the top 10 most UNemployed majors?"
   ]
  },
  {
   "cell_type": "code",
   "execution_count": 1269,
   "metadata": {},
   "outputs": [
    {
     "data": {
      "text/html": [
       "<div>\n",
       "<style>\n",
       "    .dataframe thead tr:only-child th {\n",
       "        text-align: right;\n",
       "    }\n",
       "\n",
       "    .dataframe thead th {\n",
       "        text-align: left;\n",
       "    }\n",
       "\n",
       "    .dataframe tbody tr th {\n",
       "        vertical-align: top;\n",
       "    }\n",
       "</style>\n",
       "<table border=\"1\" class=\"dataframe\">\n",
       "  <thead>\n",
       "    <tr style=\"text-align: right;\">\n",
       "      <th></th>\n",
       "      <th>major_category</th>\n",
       "      <th>total</th>\n",
       "      <th>employed</th>\n",
       "      <th>unemployed</th>\n",
       "      <th>unemployment_rate</th>\n",
       "      <th>med</th>\n",
       "      <th>p25th</th>\n",
       "      <th>p75th</th>\n",
       "    </tr>\n",
       "    <tr>\n",
       "      <th>major</th>\n",
       "      <th></th>\n",
       "      <th></th>\n",
       "      <th></th>\n",
       "      <th></th>\n",
       "      <th></th>\n",
       "      <th></th>\n",
       "      <th></th>\n",
       "      <th></th>\n",
       "    </tr>\n",
       "  </thead>\n",
       "  <tbody>\n",
       "    <tr>\n",
       "      <th>MISCELLANEOUS FINE ARTS</th>\n",
       "      <td>Arts</td>\n",
       "      <td>8511</td>\n",
       "      <td>6431</td>\n",
       "      <td>1190</td>\n",
       "      <td>0.156147</td>\n",
       "      <td>45000</td>\n",
       "      <td>30000</td>\n",
       "      <td>60000.0</td>\n",
       "    </tr>\n",
       "    <tr>\n",
       "      <th>CLINICAL PSYCHOLOGY</th>\n",
       "      <td>Psychology &amp; Social Work</td>\n",
       "      <td>7638</td>\n",
       "      <td>5128</td>\n",
       "      <td>587</td>\n",
       "      <td>0.102712</td>\n",
       "      <td>45000</td>\n",
       "      <td>26100</td>\n",
       "      <td>62000.0</td>\n",
       "    </tr>\n",
       "    <tr>\n",
       "      <th>MILITARY TECHNOLOGIES</th>\n",
       "      <td>Industrial Arts &amp; Consumer Services</td>\n",
       "      <td>4315</td>\n",
       "      <td>1650</td>\n",
       "      <td>187</td>\n",
       "      <td>0.101796</td>\n",
       "      <td>64000</td>\n",
       "      <td>39750</td>\n",
       "      <td>90000.0</td>\n",
       "    </tr>\n",
       "    <tr>\n",
       "      <th>SCHOOL STUDENT COUNSELING</th>\n",
       "      <td>Education</td>\n",
       "      <td>2396</td>\n",
       "      <td>1492</td>\n",
       "      <td>169</td>\n",
       "      <td>0.101746</td>\n",
       "      <td>41000</td>\n",
       "      <td>33200</td>\n",
       "      <td>50000.0</td>\n",
       "    </tr>\n",
       "    <tr>\n",
       "      <th>LIBRARY SCIENCE</th>\n",
       "      <td>Education</td>\n",
       "      <td>16193</td>\n",
       "      <td>7091</td>\n",
       "      <td>743</td>\n",
       "      <td>0.094843</td>\n",
       "      <td>40000</td>\n",
       "      <td>30000</td>\n",
       "      <td>55000.0</td>\n",
       "    </tr>\n",
       "    <tr>\n",
       "      <th>VISUAL AND PERFORMING ARTS</th>\n",
       "      <td>Arts</td>\n",
       "      <td>55141</td>\n",
       "      <td>41098</td>\n",
       "      <td>4297</td>\n",
       "      <td>0.094658</td>\n",
       "      <td>40000</td>\n",
       "      <td>27000</td>\n",
       "      <td>59000.0</td>\n",
       "    </tr>\n",
       "    <tr>\n",
       "      <th>COMPUTER PROGRAMMING AND DATA PROCESSING</th>\n",
       "      <td>Computers &amp; Mathematics</td>\n",
       "      <td>29317</td>\n",
       "      <td>22828</td>\n",
       "      <td>2265</td>\n",
       "      <td>0.090264</td>\n",
       "      <td>60000</td>\n",
       "      <td>40000</td>\n",
       "      <td>85000.0</td>\n",
       "    </tr>\n",
       "    <tr>\n",
       "      <th>SOCIAL PSYCHOLOGY</th>\n",
       "      <td>Psychology &amp; Social Work</td>\n",
       "      <td>10871</td>\n",
       "      <td>6897</td>\n",
       "      <td>660</td>\n",
       "      <td>0.087336</td>\n",
       "      <td>47000</td>\n",
       "      <td>35000</td>\n",
       "      <td>70000.0</td>\n",
       "    </tr>\n",
       "    <tr>\n",
       "      <th>ASTRONOMY AND ASTROPHYSICS</th>\n",
       "      <td>Physical Sciences</td>\n",
       "      <td>4700</td>\n",
       "      <td>3400</td>\n",
       "      <td>320</td>\n",
       "      <td>0.086022</td>\n",
       "      <td>80000</td>\n",
       "      <td>40000</td>\n",
       "      <td>106000.0</td>\n",
       "    </tr>\n",
       "    <tr>\n",
       "      <th>ARCHITECTURE</th>\n",
       "      <td>Engineering</td>\n",
       "      <td>294692</td>\n",
       "      <td>216770</td>\n",
       "      <td>20394</td>\n",
       "      <td>0.085991</td>\n",
       "      <td>63000</td>\n",
       "      <td>40400</td>\n",
       "      <td>93500.0</td>\n",
       "    </tr>\n",
       "  </tbody>\n",
       "</table>\n",
       "</div>"
      ],
      "text/plain": [
       "                                                               major_category  \\\n",
       "major                                                                           \n",
       "MISCELLANEOUS FINE ARTS                                                  Arts   \n",
       "CLINICAL PSYCHOLOGY                                  Psychology & Social Work   \n",
       "MILITARY TECHNOLOGIES                     Industrial Arts & Consumer Services   \n",
       "SCHOOL STUDENT COUNSELING                                           Education   \n",
       "LIBRARY SCIENCE                                                     Education   \n",
       "VISUAL AND PERFORMING ARTS                                               Arts   \n",
       "COMPUTER PROGRAMMING AND DATA PROCESSING              Computers & Mathematics   \n",
       "SOCIAL PSYCHOLOGY                                    Psychology & Social Work   \n",
       "ASTRONOMY AND ASTROPHYSICS                                  Physical Sciences   \n",
       "ARCHITECTURE                                                      Engineering   \n",
       "\n",
       "                                           total  employed  unemployed  \\\n",
       "major                                                                    \n",
       "MISCELLANEOUS FINE ARTS                     8511      6431        1190   \n",
       "CLINICAL PSYCHOLOGY                         7638      5128         587   \n",
       "MILITARY TECHNOLOGIES                       4315      1650         187   \n",
       "SCHOOL STUDENT COUNSELING                   2396      1492         169   \n",
       "LIBRARY SCIENCE                            16193      7091         743   \n",
       "VISUAL AND PERFORMING ARTS                 55141     41098        4297   \n",
       "COMPUTER PROGRAMMING AND DATA PROCESSING   29317     22828        2265   \n",
       "SOCIAL PSYCHOLOGY                          10871      6897         660   \n",
       "ASTRONOMY AND ASTROPHYSICS                  4700      3400         320   \n",
       "ARCHITECTURE                              294692    216770       20394   \n",
       "\n",
       "                                          unemployment_rate    med  p25th  \\\n",
       "major                                                                       \n",
       "MISCELLANEOUS FINE ARTS                            0.156147  45000  30000   \n",
       "CLINICAL PSYCHOLOGY                                0.102712  45000  26100   \n",
       "MILITARY TECHNOLOGIES                              0.101796  64000  39750   \n",
       "SCHOOL STUDENT COUNSELING                          0.101746  41000  33200   \n",
       "LIBRARY SCIENCE                                    0.094843  40000  30000   \n",
       "VISUAL AND PERFORMING ARTS                         0.094658  40000  27000   \n",
       "COMPUTER PROGRAMMING AND DATA PROCESSING           0.090264  60000  40000   \n",
       "SOCIAL PSYCHOLOGY                                  0.087336  47000  35000   \n",
       "ASTRONOMY AND ASTROPHYSICS                         0.086022  80000  40000   \n",
       "ARCHITECTURE                                       0.085991  63000  40400   \n",
       "\n",
       "                                             p75th  \n",
       "major                                               \n",
       "MISCELLANEOUS FINE ARTS                    60000.0  \n",
       "CLINICAL PSYCHOLOGY                        62000.0  \n",
       "MILITARY TECHNOLOGIES                      90000.0  \n",
       "SCHOOL STUDENT COUNSELING                  50000.0  \n",
       "LIBRARY SCIENCE                            55000.0  \n",
       "VISUAL AND PERFORMING ARTS                 59000.0  \n",
       "COMPUTER PROGRAMMING AND DATA PROCESSING   85000.0  \n",
       "SOCIAL PSYCHOLOGY                          70000.0  \n",
       "ASTRONOMY AND ASTROPHYSICS                106000.0  \n",
       "ARCHITECTURE                               93500.0  "
      ]
     },
     "execution_count": 1269,
     "metadata": {},
     "output_type": "execute_result"
    }
   ],
   "source": [
    "majors.sort_values(by=\"unemployment_rate\", ascending=False)[:10]"
   ]
  },
  {
   "cell_type": "markdown",
   "metadata": {
    "collapsed": true
   },
   "source": [
    "### 10. What are the top 10 most UNemployed majors CATEGORIES? Use the mean for each category"
   ]
  },
  {
   "cell_type": "code",
   "execution_count": 1270,
   "metadata": {},
   "outputs": [
    {
     "data": {
      "text/plain": [
       "major_category\n",
       "Arts                                   0.087601\n",
       "Psychology & Social Work               0.077867\n",
       "Interdisciplinary                      0.077269\n",
       "Humanities & Liberal Arts              0.069429\n",
       "Communications & Journalism            0.069125\n",
       "Law & Public Policy                    0.067854\n",
       "Social Science                         0.065686\n",
       "Computers & Mathematics                0.059437\n",
       "Industrial Arts & Consumer Services    0.058546\n",
       "Physical Sciences                      0.054541\n",
       "Name: unemployment_rate, dtype: float64"
      ]
     },
     "execution_count": 1270,
     "metadata": {},
     "output_type": "execute_result"
    }
   ],
   "source": [
    "majors.groupby(\"major_category\")[\"unemployment_rate\"].mean().sort_values(ascending=False)[:10]"
   ]
  },
  {
   "cell_type": "markdown",
   "metadata": {},
   "source": [
    "## Section 3: FIFA Soccer Game data"
   ]
  },
  {
   "cell_type": "code",
   "execution_count": null,
   "metadata": {
    "collapsed": true
   },
   "outputs": [],
   "source": []
  },
  {
   "cell_type": "code",
   "execution_count": 1271,
   "metadata": {},
   "outputs": [
    {
     "data": {
      "text/html": [
       "<div>\n",
       "<style>\n",
       "    .dataframe thead tr:only-child th {\n",
       "        text-align: right;\n",
       "    }\n",
       "\n",
       "    .dataframe thead th {\n",
       "        text-align: left;\n",
       "    }\n",
       "\n",
       "    .dataframe tbody tr th {\n",
       "        vertical-align: top;\n",
       "    }\n",
       "</style>\n",
       "<table border=\"1\" class=\"dataframe\">\n",
       "  <thead>\n",
       "    <tr style=\"text-align: right;\">\n",
       "      <th></th>\n",
       "      <th>Name</th>\n",
       "      <th>Nationality</th>\n",
       "      <th>National_Position</th>\n",
       "      <th>National_Kit</th>\n",
       "      <th>Club</th>\n",
       "      <th>Club_Position</th>\n",
       "      <th>Club_Kit</th>\n",
       "      <th>Club_Joining</th>\n",
       "      <th>Contract_Expiry</th>\n",
       "      <th>Rating</th>\n",
       "      <th>...</th>\n",
       "      <th>Long_Shots</th>\n",
       "      <th>Curve</th>\n",
       "      <th>Freekick_Accuracy</th>\n",
       "      <th>Penalties</th>\n",
       "      <th>Volleys</th>\n",
       "      <th>GK_Positioning</th>\n",
       "      <th>GK_Diving</th>\n",
       "      <th>GK_Kicking</th>\n",
       "      <th>GK_Handling</th>\n",
       "      <th>GK_Reflexes</th>\n",
       "    </tr>\n",
       "  </thead>\n",
       "  <tbody>\n",
       "    <tr>\n",
       "      <th>0</th>\n",
       "      <td>Cristiano Ronaldo</td>\n",
       "      <td>Portugal</td>\n",
       "      <td>LS</td>\n",
       "      <td>7.0</td>\n",
       "      <td>Real Madrid</td>\n",
       "      <td>LW</td>\n",
       "      <td>7.0</td>\n",
       "      <td>07/01/2009</td>\n",
       "      <td>2021.0</td>\n",
       "      <td>94</td>\n",
       "      <td>...</td>\n",
       "      <td>90</td>\n",
       "      <td>81</td>\n",
       "      <td>76</td>\n",
       "      <td>85</td>\n",
       "      <td>88</td>\n",
       "      <td>14</td>\n",
       "      <td>7</td>\n",
       "      <td>15</td>\n",
       "      <td>11</td>\n",
       "      <td>11</td>\n",
       "    </tr>\n",
       "    <tr>\n",
       "      <th>1</th>\n",
       "      <td>Lionel Messi</td>\n",
       "      <td>Argentina</td>\n",
       "      <td>RW</td>\n",
       "      <td>10.0</td>\n",
       "      <td>FC Barcelona</td>\n",
       "      <td>RW</td>\n",
       "      <td>10.0</td>\n",
       "      <td>07/01/2004</td>\n",
       "      <td>2018.0</td>\n",
       "      <td>93</td>\n",
       "      <td>...</td>\n",
       "      <td>88</td>\n",
       "      <td>89</td>\n",
       "      <td>90</td>\n",
       "      <td>74</td>\n",
       "      <td>85</td>\n",
       "      <td>14</td>\n",
       "      <td>6</td>\n",
       "      <td>15</td>\n",
       "      <td>11</td>\n",
       "      <td>8</td>\n",
       "    </tr>\n",
       "    <tr>\n",
       "      <th>2</th>\n",
       "      <td>Neymar</td>\n",
       "      <td>Brazil</td>\n",
       "      <td>LW</td>\n",
       "      <td>10.0</td>\n",
       "      <td>FC Barcelona</td>\n",
       "      <td>LW</td>\n",
       "      <td>11.0</td>\n",
       "      <td>07/01/2013</td>\n",
       "      <td>2021.0</td>\n",
       "      <td>92</td>\n",
       "      <td>...</td>\n",
       "      <td>77</td>\n",
       "      <td>79</td>\n",
       "      <td>84</td>\n",
       "      <td>81</td>\n",
       "      <td>83</td>\n",
       "      <td>15</td>\n",
       "      <td>9</td>\n",
       "      <td>15</td>\n",
       "      <td>9</td>\n",
       "      <td>11</td>\n",
       "    </tr>\n",
       "    <tr>\n",
       "      <th>3</th>\n",
       "      <td>Luis Suárez</td>\n",
       "      <td>Uruguay</td>\n",
       "      <td>LS</td>\n",
       "      <td>9.0</td>\n",
       "      <td>FC Barcelona</td>\n",
       "      <td>ST</td>\n",
       "      <td>9.0</td>\n",
       "      <td>07/11/2014</td>\n",
       "      <td>2021.0</td>\n",
       "      <td>92</td>\n",
       "      <td>...</td>\n",
       "      <td>86</td>\n",
       "      <td>86</td>\n",
       "      <td>84</td>\n",
       "      <td>85</td>\n",
       "      <td>88</td>\n",
       "      <td>33</td>\n",
       "      <td>27</td>\n",
       "      <td>31</td>\n",
       "      <td>25</td>\n",
       "      <td>37</td>\n",
       "    </tr>\n",
       "    <tr>\n",
       "      <th>4</th>\n",
       "      <td>Manuel Neuer</td>\n",
       "      <td>Germany</td>\n",
       "      <td>GK</td>\n",
       "      <td>1.0</td>\n",
       "      <td>FC Bayern</td>\n",
       "      <td>GK</td>\n",
       "      <td>1.0</td>\n",
       "      <td>07/01/2011</td>\n",
       "      <td>2021.0</td>\n",
       "      <td>92</td>\n",
       "      <td>...</td>\n",
       "      <td>16</td>\n",
       "      <td>14</td>\n",
       "      <td>11</td>\n",
       "      <td>47</td>\n",
       "      <td>11</td>\n",
       "      <td>91</td>\n",
       "      <td>89</td>\n",
       "      <td>95</td>\n",
       "      <td>90</td>\n",
       "      <td>89</td>\n",
       "    </tr>\n",
       "  </tbody>\n",
       "</table>\n",
       "<p>5 rows × 53 columns</p>\n",
       "</div>"
      ],
      "text/plain": [
       "                Name Nationality National_Position  National_Kit  \\\n",
       "0  Cristiano Ronaldo    Portugal                LS           7.0   \n",
       "1       Lionel Messi   Argentina                RW          10.0   \n",
       "2             Neymar      Brazil                LW          10.0   \n",
       "3        Luis Suárez     Uruguay                LS           9.0   \n",
       "4       Manuel Neuer     Germany                GK           1.0   \n",
       "\n",
       "           Club Club_Position  Club_Kit Club_Joining  Contract_Expiry  Rating  \\\n",
       "0   Real Madrid            LW       7.0   07/01/2009           2021.0      94   \n",
       "1  FC Barcelona            RW      10.0   07/01/2004           2018.0      93   \n",
       "2  FC Barcelona            LW      11.0   07/01/2013           2021.0      92   \n",
       "3  FC Barcelona            ST       9.0   07/11/2014           2021.0      92   \n",
       "4     FC Bayern            GK       1.0   07/01/2011           2021.0      92   \n",
       "\n",
       "      ...      Long_Shots Curve Freekick_Accuracy Penalties  Volleys  \\\n",
       "0     ...              90    81                76        85       88   \n",
       "1     ...              88    89                90        74       85   \n",
       "2     ...              77    79                84        81       83   \n",
       "3     ...              86    86                84        85       88   \n",
       "4     ...              16    14                11        47       11   \n",
       "\n",
       "  GK_Positioning GK_Diving  GK_Kicking  GK_Handling  GK_Reflexes  \n",
       "0             14         7          15           11           11  \n",
       "1             14         6          15           11            8  \n",
       "2             15         9          15            9           11  \n",
       "3             33        27          31           25           37  \n",
       "4             91        89          95           90           89  \n",
       "\n",
       "[5 rows x 53 columns]"
      ]
     },
     "execution_count": 1271,
     "metadata": {},
     "output_type": "execute_result"
    }
   ],
   "source": [
    "fifa = pd.read_csv('../data/fifa_data.csv')\n",
    "fifa.head()"
   ]
  },
  {
   "cell_type": "markdown",
   "metadata": {},
   "source": [
    "### 1. Clean up the dataset.\n",
    "\n",
    "    - Lowercase the column names\n",
    "    - Set the \"name\" column as the index\n",
    "    - Drop the following columns \"national_position\", \"national_kit\", \"club_kit\", \"club_joining\", and \"contract_expiry\"\n",
    "    - Get rid of all players who are goalkeepers and drop every column that starts with GK\n",
    "    - Drop every player whose rating is less than 70\n",
    "    - Convert the \"height\" and \"weight\" columns to float types\n",
    "    - Check to see if there any nulls, if so drop them from the dataset"
   ]
  },
  {
   "cell_type": "code",
   "execution_count": 1272,
   "metadata": {
    "collapsed": true
   },
   "outputs": [],
   "source": [
    "#Replace cm with empty string and overwrite Height column\n",
    "fifa.Height.str\n",
    "fifa[\"Height\"] = fifa.Height.str.replace(\"cm\", \"\")\n",
    "fifa[\"Height\"] = fifa.Height.astype(float)"
   ]
  },
  {
   "cell_type": "code",
   "execution_count": 1273,
   "metadata": {
    "collapsed": true
   },
   "outputs": [],
   "source": [
    "#Replace kg with empty string and overwrite Weight column\n",
    "fifa.Weight.str\n",
    "fifa[\"Weight\"] = fifa.Weight.str.replace(\"kg\", \"\")\n",
    "fifa[\"Weight\"] = fifa.Weight.astype(float)"
   ]
  },
  {
   "cell_type": "code",
   "execution_count": 1274,
   "metadata": {},
   "outputs": [
    {
     "data": {
      "text/html": [
       "<div>\n",
       "<style>\n",
       "    .dataframe thead tr:only-child th {\n",
       "        text-align: right;\n",
       "    }\n",
       "\n",
       "    .dataframe thead th {\n",
       "        text-align: left;\n",
       "    }\n",
       "\n",
       "    .dataframe tbody tr th {\n",
       "        vertical-align: top;\n",
       "    }\n",
       "</style>\n",
       "<table border=\"1\" class=\"dataframe\">\n",
       "  <thead>\n",
       "    <tr style=\"text-align: right;\">\n",
       "      <th></th>\n",
       "      <th>nationality</th>\n",
       "      <th>club</th>\n",
       "      <th>club_position</th>\n",
       "      <th>rating</th>\n",
       "      <th>height</th>\n",
       "      <th>weight</th>\n",
       "      <th>preffered_foot</th>\n",
       "      <th>birth_date</th>\n",
       "      <th>age</th>\n",
       "      <th>preffered_position</th>\n",
       "      <th>...</th>\n",
       "      <th>agility</th>\n",
       "      <th>jumping</th>\n",
       "      <th>heading</th>\n",
       "      <th>shot_power</th>\n",
       "      <th>finishing</th>\n",
       "      <th>long_shots</th>\n",
       "      <th>curve</th>\n",
       "      <th>freekick_accuracy</th>\n",
       "      <th>penalties</th>\n",
       "      <th>volleys</th>\n",
       "    </tr>\n",
       "    <tr>\n",
       "      <th>name</th>\n",
       "      <th></th>\n",
       "      <th></th>\n",
       "      <th></th>\n",
       "      <th></th>\n",
       "      <th></th>\n",
       "      <th></th>\n",
       "      <th></th>\n",
       "      <th></th>\n",
       "      <th></th>\n",
       "      <th></th>\n",
       "      <th></th>\n",
       "      <th></th>\n",
       "      <th></th>\n",
       "      <th></th>\n",
       "      <th></th>\n",
       "      <th></th>\n",
       "      <th></th>\n",
       "      <th></th>\n",
       "      <th></th>\n",
       "      <th></th>\n",
       "      <th></th>\n",
       "    </tr>\n",
       "  </thead>\n",
       "  <tbody>\n",
       "    <tr>\n",
       "      <th>Cristiano Ronaldo</th>\n",
       "      <td>Portugal</td>\n",
       "      <td>Real Madrid</td>\n",
       "      <td>LW</td>\n",
       "      <td>94</td>\n",
       "      <td>185.0</td>\n",
       "      <td>80.0</td>\n",
       "      <td>Right</td>\n",
       "      <td>02/05/1985</td>\n",
       "      <td>32</td>\n",
       "      <td>LW/ST</td>\n",
       "      <td>...</td>\n",
       "      <td>90</td>\n",
       "      <td>95</td>\n",
       "      <td>85</td>\n",
       "      <td>92</td>\n",
       "      <td>93</td>\n",
       "      <td>90</td>\n",
       "      <td>81</td>\n",
       "      <td>76</td>\n",
       "      <td>85</td>\n",
       "      <td>88</td>\n",
       "    </tr>\n",
       "    <tr>\n",
       "      <th>Lionel Messi</th>\n",
       "      <td>Argentina</td>\n",
       "      <td>FC Barcelona</td>\n",
       "      <td>RW</td>\n",
       "      <td>93</td>\n",
       "      <td>170.0</td>\n",
       "      <td>72.0</td>\n",
       "      <td>Left</td>\n",
       "      <td>06/24/1987</td>\n",
       "      <td>29</td>\n",
       "      <td>RW</td>\n",
       "      <td>...</td>\n",
       "      <td>90</td>\n",
       "      <td>68</td>\n",
       "      <td>71</td>\n",
       "      <td>85</td>\n",
       "      <td>95</td>\n",
       "      <td>88</td>\n",
       "      <td>89</td>\n",
       "      <td>90</td>\n",
       "      <td>74</td>\n",
       "      <td>85</td>\n",
       "    </tr>\n",
       "    <tr>\n",
       "      <th>Neymar</th>\n",
       "      <td>Brazil</td>\n",
       "      <td>FC Barcelona</td>\n",
       "      <td>LW</td>\n",
       "      <td>92</td>\n",
       "      <td>174.0</td>\n",
       "      <td>68.0</td>\n",
       "      <td>Right</td>\n",
       "      <td>02/05/1992</td>\n",
       "      <td>25</td>\n",
       "      <td>LW</td>\n",
       "      <td>...</td>\n",
       "      <td>96</td>\n",
       "      <td>61</td>\n",
       "      <td>62</td>\n",
       "      <td>78</td>\n",
       "      <td>89</td>\n",
       "      <td>77</td>\n",
       "      <td>79</td>\n",
       "      <td>84</td>\n",
       "      <td>81</td>\n",
       "      <td>83</td>\n",
       "    </tr>\n",
       "    <tr>\n",
       "      <th>Luis Suárez</th>\n",
       "      <td>Uruguay</td>\n",
       "      <td>FC Barcelona</td>\n",
       "      <td>ST</td>\n",
       "      <td>92</td>\n",
       "      <td>182.0</td>\n",
       "      <td>85.0</td>\n",
       "      <td>Right</td>\n",
       "      <td>01/24/1987</td>\n",
       "      <td>30</td>\n",
       "      <td>ST</td>\n",
       "      <td>...</td>\n",
       "      <td>86</td>\n",
       "      <td>69</td>\n",
       "      <td>77</td>\n",
       "      <td>87</td>\n",
       "      <td>94</td>\n",
       "      <td>86</td>\n",
       "      <td>86</td>\n",
       "      <td>84</td>\n",
       "      <td>85</td>\n",
       "      <td>88</td>\n",
       "    </tr>\n",
       "    <tr>\n",
       "      <th>Manuel Neuer</th>\n",
       "      <td>Germany</td>\n",
       "      <td>FC Bayern</td>\n",
       "      <td>GK</td>\n",
       "      <td>92</td>\n",
       "      <td>193.0</td>\n",
       "      <td>92.0</td>\n",
       "      <td>Right</td>\n",
       "      <td>03/27/1986</td>\n",
       "      <td>31</td>\n",
       "      <td>GK</td>\n",
       "      <td>...</td>\n",
       "      <td>52</td>\n",
       "      <td>78</td>\n",
       "      <td>25</td>\n",
       "      <td>25</td>\n",
       "      <td>13</td>\n",
       "      <td>16</td>\n",
       "      <td>14</td>\n",
       "      <td>11</td>\n",
       "      <td>47</td>\n",
       "      <td>11</td>\n",
       "    </tr>\n",
       "  </tbody>\n",
       "</table>\n",
       "<p>5 rows × 42 columns</p>\n",
       "</div>"
      ],
      "text/plain": [
       "                  nationality          club club_position  rating  height  \\\n",
       "name                                                                        \n",
       "Cristiano Ronaldo    Portugal   Real Madrid            LW      94   185.0   \n",
       "Lionel Messi        Argentina  FC Barcelona            RW      93   170.0   \n",
       "Neymar                 Brazil  FC Barcelona            LW      92   174.0   \n",
       "Luis Suárez           Uruguay  FC Barcelona            ST      92   182.0   \n",
       "Manuel Neuer          Germany     FC Bayern            GK      92   193.0   \n",
       "\n",
       "                   weight preffered_foot  birth_date  age preffered_position  \\\n",
       "name                                                                           \n",
       "Cristiano Ronaldo    80.0          Right  02/05/1985   32              LW/ST   \n",
       "Lionel Messi         72.0           Left  06/24/1987   29                 RW   \n",
       "Neymar               68.0          Right  02/05/1992   25                 LW   \n",
       "Luis Suárez          85.0          Right  01/24/1987   30                 ST   \n",
       "Manuel Neuer         92.0          Right  03/27/1986   31                 GK   \n",
       "\n",
       "                    ...    agility  jumping  heading  shot_power  finishing  \\\n",
       "name                ...                                                       \n",
       "Cristiano Ronaldo   ...         90       95       85          92         93   \n",
       "Lionel Messi        ...         90       68       71          85         95   \n",
       "Neymar              ...         96       61       62          78         89   \n",
       "Luis Suárez         ...         86       69       77          87         94   \n",
       "Manuel Neuer        ...         52       78       25          25         13   \n",
       "\n",
       "                   long_shots  curve  freekick_accuracy  penalties  volleys  \n",
       "name                                                                         \n",
       "Cristiano Ronaldo          90     81                 76         85       88  \n",
       "Lionel Messi               88     89                 90         74       85  \n",
       "Neymar                     77     79                 84         81       83  \n",
       "Luis Suárez                86     86                 84         85       88  \n",
       "Manuel Neuer               16     14                 11         47       11  \n",
       "\n",
       "[5 rows x 42 columns]"
      ]
     },
     "execution_count": 1274,
     "metadata": {},
     "output_type": "execute_result"
    }
   ],
   "source": [
    "#function to lower, set index, and drop columns\n",
    "def fifa_fe(fifa):\n",
    "    fifa.columns = fifa.columns.str.lower()\n",
    "    fifa.set_index(\"name\", inplace = True)\n",
    "    fifa.drop([\"national_position\", \"national_kit\", \"club_kit\", \"club_joining\", \"contract_expiry\"], axis = 1, inplace = True)\n",
    "    fifa.drop([\"gk_positioning\", \"gk_diving\", \"gk_kicking\", \"gk_handling\", \"gk_reflexes\"], axis = 1, inplace = True) \n",
    "    return fifa\n",
    "\n",
    "fifa_fe(fifa).head()"
   ]
  },
  {
   "cell_type": "code",
   "execution_count": 1275,
   "metadata": {},
   "outputs": [
    {
     "data": {
      "text/plain": [
       "632"
      ]
     },
     "execution_count": 1275,
     "metadata": {},
     "output_type": "execute_result"
    }
   ],
   "source": [
    "(fifa.club_position == \"GK\").sum()"
   ]
  },
  {
   "cell_type": "code",
   "execution_count": 1276,
   "metadata": {
    "scrolled": true
   },
   "outputs": [
    {
     "name": "stdout",
     "output_type": "stream",
     "text": [
      "<class 'pandas.core.frame.DataFrame'>\n",
      "Index: 16956 entries, Cristiano Ronaldo to Barry Richardson\n",
      "Data columns (total 42 columns):\n",
      "nationality           16956 non-null object\n",
      "club                  16956 non-null object\n",
      "club_position         16955 non-null object\n",
      "rating                16956 non-null int64\n",
      "height                16956 non-null float64\n",
      "weight                16956 non-null float64\n",
      "preffered_foot        16956 non-null object\n",
      "birth_date            16956 non-null object\n",
      "age                   16956 non-null int64\n",
      "preffered_position    16956 non-null object\n",
      "work_rate             16956 non-null object\n",
      "weak_foot             16956 non-null int64\n",
      "skill_moves           16956 non-null int64\n",
      "ball_control          16956 non-null int64\n",
      "dribbling             16956 non-null int64\n",
      "marking               16956 non-null int64\n",
      "sliding_tackle        16956 non-null int64\n",
      "standing_tackle       16956 non-null int64\n",
      "aggression            16956 non-null int64\n",
      "reactions             16956 non-null int64\n",
      "attacking_position    16956 non-null int64\n",
      "interceptions         16956 non-null int64\n",
      "vision                16956 non-null int64\n",
      "composure             16956 non-null int64\n",
      "crossing              16956 non-null int64\n",
      "short_pass            16956 non-null int64\n",
      "long_pass             16956 non-null int64\n",
      "acceleration          16956 non-null int64\n",
      "speed                 16956 non-null int64\n",
      "stamina               16956 non-null int64\n",
      "strength              16956 non-null int64\n",
      "balance               16956 non-null int64\n",
      "agility               16956 non-null int64\n",
      "jumping               16956 non-null int64\n",
      "heading               16956 non-null int64\n",
      "shot_power            16956 non-null int64\n",
      "finishing             16956 non-null int64\n",
      "long_shots            16956 non-null int64\n",
      "curve                 16956 non-null int64\n",
      "freekick_accuracy     16956 non-null int64\n",
      "penalties             16956 non-null int64\n",
      "volleys               16956 non-null int64\n",
      "dtypes: float64(2), int64(33), object(7)\n",
      "memory usage: 5.6+ MB\n"
     ]
    }
   ],
   "source": [
    "#creating a data frame to keep players that are not goal keepers. This dataframe will have 632 less records.\n",
    "fifa2 = fifa[fifa.club_position != 'GK']\n",
    "fifa2.info()"
   ]
  },
  {
   "cell_type": "code",
   "execution_count": 1277,
   "metadata": {},
   "outputs": [
    {
     "name": "stdout",
     "output_type": "stream",
     "text": [
      "<class 'pandas.core.frame.DataFrame'>\n",
      "Index: 5232 entries, Cristiano Ronaldo to Anatole Ngamukol\n",
      "Data columns (total 42 columns):\n",
      "nationality           5232 non-null object\n",
      "club                  5232 non-null object\n",
      "club_position         5231 non-null object\n",
      "rating                5232 non-null int64\n",
      "height                5232 non-null float64\n",
      "weight                5232 non-null float64\n",
      "preffered_foot        5232 non-null object\n",
      "birth_date            5232 non-null object\n",
      "age                   5232 non-null int64\n",
      "preffered_position    5232 non-null object\n",
      "work_rate             5232 non-null object\n",
      "weak_foot             5232 non-null int64\n",
      "skill_moves           5232 non-null int64\n",
      "ball_control          5232 non-null int64\n",
      "dribbling             5232 non-null int64\n",
      "marking               5232 non-null int64\n",
      "sliding_tackle        5232 non-null int64\n",
      "standing_tackle       5232 non-null int64\n",
      "aggression            5232 non-null int64\n",
      "reactions             5232 non-null int64\n",
      "attacking_position    5232 non-null int64\n",
      "interceptions         5232 non-null int64\n",
      "vision                5232 non-null int64\n",
      "composure             5232 non-null int64\n",
      "crossing              5232 non-null int64\n",
      "short_pass            5232 non-null int64\n",
      "long_pass             5232 non-null int64\n",
      "acceleration          5232 non-null int64\n",
      "speed                 5232 non-null int64\n",
      "stamina               5232 non-null int64\n",
      "strength              5232 non-null int64\n",
      "balance               5232 non-null int64\n",
      "agility               5232 non-null int64\n",
      "jumping               5232 non-null int64\n",
      "heading               5232 non-null int64\n",
      "shot_power            5232 non-null int64\n",
      "finishing             5232 non-null int64\n",
      "long_shots            5232 non-null int64\n",
      "curve                 5232 non-null int64\n",
      "freekick_accuracy     5232 non-null int64\n",
      "penalties             5232 non-null int64\n",
      "volleys               5232 non-null int64\n",
      "dtypes: float64(2), int64(33), object(7)\n",
      "memory usage: 1.7+ MB\n"
     ]
    }
   ],
   "source": [
    "#creating a new data frame to keep players with score greater than or equal to 70.\n",
    "fifa3 = fifa2[fifa2.rating >= 70]\n",
    "fifa3.info()"
   ]
  },
  {
   "cell_type": "code",
   "execution_count": 1278,
   "metadata": {},
   "outputs": [
    {
     "data": {
      "text/plain": [
       "nationality           0\n",
       "club                  0\n",
       "club_position         1\n",
       "rating                0\n",
       "height                0\n",
       "weight                0\n",
       "preffered_foot        0\n",
       "birth_date            0\n",
       "age                   0\n",
       "preffered_position    0\n",
       "work_rate             0\n",
       "weak_foot             0\n",
       "skill_moves           0\n",
       "ball_control          0\n",
       "dribbling             0\n",
       "marking               0\n",
       "sliding_tackle        0\n",
       "standing_tackle       0\n",
       "aggression            0\n",
       "reactions             0\n",
       "attacking_position    0\n",
       "interceptions         0\n",
       "vision                0\n",
       "composure             0\n",
       "crossing              0\n",
       "short_pass            0\n",
       "long_pass             0\n",
       "acceleration          0\n",
       "speed                 0\n",
       "stamina               0\n",
       "strength              0\n",
       "balance               0\n",
       "agility               0\n",
       "jumping               0\n",
       "heading               0\n",
       "shot_power            0\n",
       "finishing             0\n",
       "long_shots            0\n",
       "curve                 0\n",
       "freekick_accuracy     0\n",
       "penalties             0\n",
       "volleys               0\n",
       "dtype: int64"
      ]
     },
     "execution_count": 1278,
     "metadata": {},
     "output_type": "execute_result"
    }
   ],
   "source": [
    "fifa3.isnull().sum()"
   ]
  },
  {
   "cell_type": "code",
   "execution_count": 1279,
   "metadata": {},
   "outputs": [
    {
     "name": "stderr",
     "output_type": "stream",
     "text": [
      "/Users/darrenklee/anaconda2/lib/python2.7/site-packages/ipykernel_launcher.py:1: SettingWithCopyWarning: \n",
      "A value is trying to be set on a copy of a slice from a DataFrame\n",
      "\n",
      "See the caveats in the documentation: http://pandas.pydata.org/pandas-docs/stable/indexing.html#indexing-view-versus-copy\n",
      "  \"\"\"Entry point for launching an IPython kernel.\n"
     ]
    }
   ],
   "source": [
    "fifa3.dropna(axis=0, inplace= True)"
   ]
  },
  {
   "cell_type": "code",
   "execution_count": 1280,
   "metadata": {},
   "outputs": [
    {
     "data": {
      "text/plain": [
       "nationality           0\n",
       "club                  0\n",
       "club_position         0\n",
       "rating                0\n",
       "height                0\n",
       "weight                0\n",
       "preffered_foot        0\n",
       "birth_date            0\n",
       "age                   0\n",
       "preffered_position    0\n",
       "work_rate             0\n",
       "weak_foot             0\n",
       "skill_moves           0\n",
       "ball_control          0\n",
       "dribbling             0\n",
       "marking               0\n",
       "sliding_tackle        0\n",
       "standing_tackle       0\n",
       "aggression            0\n",
       "reactions             0\n",
       "attacking_position    0\n",
       "interceptions         0\n",
       "vision                0\n",
       "composure             0\n",
       "crossing              0\n",
       "short_pass            0\n",
       "long_pass             0\n",
       "acceleration          0\n",
       "speed                 0\n",
       "stamina               0\n",
       "strength              0\n",
       "balance               0\n",
       "agility               0\n",
       "jumping               0\n",
       "heading               0\n",
       "shot_power            0\n",
       "finishing             0\n",
       "long_shots            0\n",
       "curve                 0\n",
       "freekick_accuracy     0\n",
       "penalties             0\n",
       "volleys               0\n",
       "dtype: int64"
      ]
     },
     "execution_count": 1280,
     "metadata": {},
     "output_type": "execute_result"
    }
   ],
   "source": [
    "fifa3.isnull().sum()"
   ]
  },
  {
   "cell_type": "code",
   "execution_count": 1281,
   "metadata": {},
   "outputs": [
    {
     "name": "stdout",
     "output_type": "stream",
     "text": [
      "<class 'pandas.core.frame.DataFrame'>\n",
      "Index: 5231 entries, Cristiano Ronaldo to Anatole Ngamukol\n",
      "Data columns (total 42 columns):\n",
      "nationality           5231 non-null object\n",
      "club                  5231 non-null object\n",
      "club_position         5231 non-null object\n",
      "rating                5231 non-null int64\n",
      "height                5231 non-null float64\n",
      "weight                5231 non-null float64\n",
      "preffered_foot        5231 non-null object\n",
      "birth_date            5231 non-null object\n",
      "age                   5231 non-null int64\n",
      "preffered_position    5231 non-null object\n",
      "work_rate             5231 non-null object\n",
      "weak_foot             5231 non-null int64\n",
      "skill_moves           5231 non-null int64\n",
      "ball_control          5231 non-null int64\n",
      "dribbling             5231 non-null int64\n",
      "marking               5231 non-null int64\n",
      "sliding_tackle        5231 non-null int64\n",
      "standing_tackle       5231 non-null int64\n",
      "aggression            5231 non-null int64\n",
      "reactions             5231 non-null int64\n",
      "attacking_position    5231 non-null int64\n",
      "interceptions         5231 non-null int64\n",
      "vision                5231 non-null int64\n",
      "composure             5231 non-null int64\n",
      "crossing              5231 non-null int64\n",
      "short_pass            5231 non-null int64\n",
      "long_pass             5231 non-null int64\n",
      "acceleration          5231 non-null int64\n",
      "speed                 5231 non-null int64\n",
      "stamina               5231 non-null int64\n",
      "strength              5231 non-null int64\n",
      "balance               5231 non-null int64\n",
      "agility               5231 non-null int64\n",
      "jumping               5231 non-null int64\n",
      "heading               5231 non-null int64\n",
      "shot_power            5231 non-null int64\n",
      "finishing             5231 non-null int64\n",
      "long_shots            5231 non-null int64\n",
      "curve                 5231 non-null int64\n",
      "freekick_accuracy     5231 non-null int64\n",
      "penalties             5231 non-null int64\n",
      "volleys               5231 non-null int64\n",
      "dtypes: float64(2), int64(33), object(7)\n",
      "memory usage: 1.7+ MB\n"
     ]
    }
   ],
   "source": [
    "#check to see if null record is dropped.\n",
    "fifa3.info()"
   ]
  },
  {
   "cell_type": "markdown",
   "metadata": {},
   "source": [
    "### 2.  Who are the top five players of the following attributes: speed, marking, and finishing"
   ]
  },
  {
   "cell_type": "code",
   "execution_count": 1282,
   "metadata": {},
   "outputs": [
    {
     "data": {
      "text/plain": [
       "name\n",
       "Jonathan Biabiany            96\n",
       "Pierre-Emerick Aubameyang    96\n",
       "Gareth Bale                  95\n",
       "Ernest Asante                95\n",
       "Williams                     95\n",
       "Name: speed, dtype: int64"
      ]
     },
     "execution_count": 1282,
     "metadata": {},
     "output_type": "execute_result"
    }
   ],
   "source": [
    "#Top 5 players for Speed:\n",
    "fifa3.speed.sort_values(ascending=False).head()"
   ]
  },
  {
   "cell_type": "code",
   "execution_count": 1283,
   "metadata": {},
   "outputs": [
    {
     "data": {
      "text/plain": [
       "name\n",
       "Giorgio Chiellini    92\n",
       "Thiago Silva         90\n",
       "Jérôme Boateng       90\n",
       "Andrea Barzagli      90\n",
       "Miranda              89\n",
       "Name: marking, dtype: int64"
      ]
     },
     "execution_count": 1283,
     "metadata": {},
     "output_type": "execute_result"
    }
   ],
   "source": [
    "#Top 5 players for marking:\n",
    "fifa3.marking.sort_values(ascending=False).head()"
   ]
  },
  {
   "cell_type": "code",
   "execution_count": 1284,
   "metadata": {},
   "outputs": [
    {
     "data": {
      "text/plain": [
       "name\n",
       "Lionel Messi          95\n",
       "Luis Suárez           94\n",
       "Cristiano Ronaldo     93\n",
       "Gonzalo Higuaín       92\n",
       "Robert Lewandowski    91\n",
       "Name: finishing, dtype: int64"
      ]
     },
     "execution_count": 1284,
     "metadata": {},
     "output_type": "execute_result"
    }
   ],
   "source": [
    "#Top 5 players for finishing:\n",
    "fifa3.finishing.sort_values(ascending=False).head()"
   ]
  },
  {
   "cell_type": "markdown",
   "metadata": {},
   "source": [
    "### 3. Who is the tallest French lefted foot player?"
   ]
  },
  {
   "cell_type": "code",
   "execution_count": 1397,
   "metadata": {},
   "outputs": [
    {
     "data": {
      "text/html": [
       "<div>\n",
       "<style>\n",
       "    .dataframe thead tr:only-child th {\n",
       "        text-align: right;\n",
       "    }\n",
       "\n",
       "    .dataframe thead th {\n",
       "        text-align: left;\n",
       "    }\n",
       "\n",
       "    .dataframe tbody tr th {\n",
       "        vertical-align: top;\n",
       "    }\n",
       "</style>\n",
       "<table border=\"1\" class=\"dataframe\">\n",
       "  <thead>\n",
       "    <tr style=\"text-align: right;\">\n",
       "      <th></th>\n",
       "      <th>nationality</th>\n",
       "      <th>club</th>\n",
       "      <th>club_position</th>\n",
       "      <th>rating</th>\n",
       "      <th>height</th>\n",
       "      <th>weight</th>\n",
       "      <th>preffered_foot</th>\n",
       "      <th>birth_date</th>\n",
       "      <th>age</th>\n",
       "      <th>preffered_position</th>\n",
       "      <th>...</th>\n",
       "      <th>agility</th>\n",
       "      <th>jumping</th>\n",
       "      <th>heading</th>\n",
       "      <th>shot_power</th>\n",
       "      <th>finishing</th>\n",
       "      <th>long_shots</th>\n",
       "      <th>curve</th>\n",
       "      <th>freekick_accuracy</th>\n",
       "      <th>penalties</th>\n",
       "      <th>volleys</th>\n",
       "    </tr>\n",
       "    <tr>\n",
       "      <th>name</th>\n",
       "      <th></th>\n",
       "      <th></th>\n",
       "      <th></th>\n",
       "      <th></th>\n",
       "      <th></th>\n",
       "      <th></th>\n",
       "      <th></th>\n",
       "      <th></th>\n",
       "      <th></th>\n",
       "      <th></th>\n",
       "      <th></th>\n",
       "      <th></th>\n",
       "      <th></th>\n",
       "      <th></th>\n",
       "      <th></th>\n",
       "      <th></th>\n",
       "      <th></th>\n",
       "      <th></th>\n",
       "      <th></th>\n",
       "      <th></th>\n",
       "      <th></th>\n",
       "    </tr>\n",
       "  </thead>\n",
       "  <tbody>\n",
       "    <tr>\n",
       "      <th>Romain Thomas</th>\n",
       "      <td>France</td>\n",
       "      <td>Angers SCO</td>\n",
       "      <td>LCB</td>\n",
       "      <td>78</td>\n",
       "      <td>193.0</td>\n",
       "      <td>84.0</td>\n",
       "      <td>Left</td>\n",
       "      <td>06/12/1988</td>\n",
       "      <td>28</td>\n",
       "      <td>CB</td>\n",
       "      <td>...</td>\n",
       "      <td>54</td>\n",
       "      <td>68</td>\n",
       "      <td>79</td>\n",
       "      <td>60</td>\n",
       "      <td>19</td>\n",
       "      <td>24</td>\n",
       "      <td>39</td>\n",
       "      <td>34</td>\n",
       "      <td>52</td>\n",
       "      <td>18</td>\n",
       "    </tr>\n",
       "    <tr>\n",
       "      <th>Olivier Giroud</th>\n",
       "      <td>France</td>\n",
       "      <td>Arsenal</td>\n",
       "      <td>Sub</td>\n",
       "      <td>83</td>\n",
       "      <td>192.0</td>\n",
       "      <td>88.0</td>\n",
       "      <td>Left</td>\n",
       "      <td>09/30/1986</td>\n",
       "      <td>30</td>\n",
       "      <td>ST</td>\n",
       "      <td>...</td>\n",
       "      <td>59</td>\n",
       "      <td>82</td>\n",
       "      <td>88</td>\n",
       "      <td>84</td>\n",
       "      <td>84</td>\n",
       "      <td>76</td>\n",
       "      <td>70</td>\n",
       "      <td>65</td>\n",
       "      <td>81</td>\n",
       "      <td>82</td>\n",
       "    </tr>\n",
       "    <tr>\n",
       "      <th>Jérémy Taravel</th>\n",
       "      <td>France</td>\n",
       "      <td>FC Sion</td>\n",
       "      <td>Sub</td>\n",
       "      <td>71</td>\n",
       "      <td>191.0</td>\n",
       "      <td>85.0</td>\n",
       "      <td>Left</td>\n",
       "      <td>04/17/1987</td>\n",
       "      <td>29</td>\n",
       "      <td>CB</td>\n",
       "      <td>...</td>\n",
       "      <td>53</td>\n",
       "      <td>63</td>\n",
       "      <td>72</td>\n",
       "      <td>72</td>\n",
       "      <td>37</td>\n",
       "      <td>33</td>\n",
       "      <td>38</td>\n",
       "      <td>57</td>\n",
       "      <td>50</td>\n",
       "      <td>35</td>\n",
       "    </tr>\n",
       "  </tbody>\n",
       "</table>\n",
       "<p>3 rows × 42 columns</p>\n",
       "</div>"
      ],
      "text/plain": [
       "               nationality        club club_position  rating  height  weight  \\\n",
       "name                                                                           \n",
       "Romain Thomas       France  Angers SCO           LCB      78   193.0    84.0   \n",
       "Olivier Giroud      France     Arsenal           Sub      83   192.0    88.0   \n",
       "Jérémy Taravel      France     FC Sion           Sub      71   191.0    85.0   \n",
       "\n",
       "               preffered_foot  birth_date  age preffered_position   ...     \\\n",
       "name                                                                ...      \n",
       "Romain Thomas            Left  06/12/1988   28                 CB   ...      \n",
       "Olivier Giroud           Left  09/30/1986   30                 ST   ...      \n",
       "Jérémy Taravel           Left  04/17/1987   29                 CB   ...      \n",
       "\n",
       "               agility  jumping  heading  shot_power  finishing  long_shots  \\\n",
       "name                                                                          \n",
       "Romain Thomas       54       68       79          60         19          24   \n",
       "Olivier Giroud      59       82       88          84         84          76   \n",
       "Jérémy Taravel      53       63       72          72         37          33   \n",
       "\n",
       "                curve  freekick_accuracy  penalties  volleys  \n",
       "name                                                          \n",
       "Romain Thomas      39                 34         52       18  \n",
       "Olivier Giroud     70                 65         81       82  \n",
       "Jérémy Taravel     38                 57         50       35  \n",
       "\n",
       "[3 rows x 42 columns]"
      ]
     },
     "execution_count": 1397,
     "metadata": {},
     "output_type": "execute_result"
    }
   ],
   "source": [
    "fifa3[(fifa3.preffered_foot == \"Left\") & (fifa3.nationality == \"France\")].sort_values(\"height\", ascending = False).head(3)\n",
    "#Romain Thomas is the Tallest French, Left footed player."
   ]
  },
  {
   "cell_type": "markdown",
   "metadata": {},
   "source": [
    "### 4. Show a pandas series of every attribute's correlation with the rating attribute"
   ]
  },
  {
   "cell_type": "code",
   "execution_count": 1287,
   "metadata": {},
   "outputs": [
    {
     "data": {
      "text/plain": [
       "rating                1.000000\n",
       "height                0.031355\n",
       "weight                0.037766\n",
       "age                   0.043735\n",
       "weak_foot             0.128486\n",
       "skill_moves           0.197929\n",
       "ball_control          0.324058\n",
       "dribbling             0.247239\n",
       "marking               0.067274\n",
       "sliding_tackle        0.091544\n",
       "standing_tackle       0.107487\n",
       "aggression            0.156163\n",
       "reactions             0.690226\n",
       "attacking_position    0.220396\n",
       "interceptions         0.126365\n",
       "vision                0.306819\n",
       "composure             0.436876\n",
       "crossing              0.209043\n",
       "short_pass            0.367006\n",
       "long_pass             0.307635\n",
       "acceleration          0.128840\n",
       "speed                 0.130594\n",
       "stamina               0.175219\n",
       "strength              0.105597\n",
       "balance               0.081555\n",
       "agility               0.145819\n",
       "jumping               0.107216\n",
       "heading               0.173646\n",
       "shot_power            0.248798\n",
       "finishing             0.213504\n",
       "long_shots            0.228673\n",
       "curve                 0.241254\n",
       "freekick_accuracy     0.202170\n",
       "penalties             0.218285\n",
       "volleys               0.243744\n",
       "Name: rating, dtype: float64"
      ]
     },
     "execution_count": 1287,
     "metadata": {},
     "output_type": "execute_result"
    }
   ],
   "source": [
    "fifa3.corr()[\"rating\"]"
   ]
  },
  {
   "cell_type": "markdown",
   "metadata": {},
   "source": [
    "### 5. Make a heatmap of the dataset's correlation table"
   ]
  },
  {
   "cell_type": "code",
   "execution_count": 1288,
   "metadata": {
    "collapsed": true
   },
   "outputs": [],
   "source": [
    "import seaborn as sns"
   ]
  },
  {
   "cell_type": "code",
   "execution_count": 1289,
   "metadata": {},
   "outputs": [
    {
     "data": {
      "image/png": "[encoded data removed]",
      "text/plain": [
       "<matplotlib.figure.Figure at 0x1a92df3910>"
      ]
     },
     "metadata": {},
     "output_type": "display_data"
    }
   ],
   "source": [
    "sns.heatmap(fifa3.corr());"
   ]
  },
  {
   "cell_type": "markdown",
   "metadata": {},
   "source": [
    "### 6. Return a dataframe with only players from the following clubs. Call the dataframe fifa_2. From now on we'll be using fifa_2"
   ]
  },
  {
   "cell_type": "code",
   "execution_count": 1290,
   "metadata": {
    "collapsed": true
   },
   "outputs": [],
   "source": [
    "clubs_list = ['Real Madrid', 'FC Barcelona', 'FC Bayern', 'Manchester Utd',\n",
    "       'Chelsea', 'Arsenal', 'Juventus', 'PSG', 'Manchester City',\n",
    "              'Bor. Dortmund', 'Liverpool', 'Roma']"
   ]
  },
  {
   "cell_type": "code",
   "execution_count": 1291,
   "metadata": {},
   "outputs": [
    {
     "data": {
      "text/plain": [
       "508"
      ]
     },
     "execution_count": 1291,
     "metadata": {},
     "output_type": "execute_result"
    }
   ],
   "source": [
    "fifa3.club.nunique()"
   ]
  },
  {
   "cell_type": "code",
   "execution_count": 1292,
   "metadata": {},
   "outputs": [
    {
     "data": {
      "text/plain": [
       "name\n",
       "Cristiano Ronaldo             True\n",
       "Lionel Messi                  True\n",
       "Neymar                        True\n",
       "Luis Suárez                   True\n",
       "Robert Lewandowski            True\n",
       "Gareth Bale                   True\n",
       "Zlatan Ibrahimović            True\n",
       "Jérôme Boateng                True\n",
       "Eden Hazard                   True\n",
       "Luka Modrić                   True\n",
       "Mesut Özil                    True\n",
       "Gonzalo Higuaín               True\n",
       "Thiago Silva                  True\n",
       "Sergio Ramos                  True\n",
       "Sergio Agüero                 True\n",
       "Paul Pogba                    True\n",
       "Antoine Griezmann            False\n",
       "Kevin De Bruyne               True\n",
       "Marco Reus                    True\n",
       "Alexis Sánchez                True\n",
       "Toni Kroos                    True\n",
       "Diego Godín                  False\n",
       "Mats Hummels                  True\n",
       "Giorgio Chiellini             True\n",
       "Philipp Lahm                  True\n",
       "Pepe                          True\n",
       "Iniesta                       True\n",
       "James Rodríguez               True\n",
       "Pierre-Emerick Aubameyang     True\n",
       "Leonardo Bonucci              True\n",
       "                             ...  \n",
       "Borja Fernández              False\n",
       "Chris Burke                  False\n",
       "Markus Feulner               False\n",
       "Kris Commons                 False\n",
       "Lee Camp                     False\n",
       "Gary O'Neil                  False\n",
       "Alain Rochat                 False\n",
       "Cédric Varrault              False\n",
       "Julio Álvarez                False\n",
       "Philippe Senderos            False\n",
       "Karim Ziani                  False\n",
       "Morten Rasmussen             False\n",
       "DaMarcus Beasley             False\n",
       "Dorus de Vries               False\n",
       "Dean Whitehead               False\n",
       "Clint Hill                   False\n",
       "Luke Steele                  False\n",
       "Aaron Hughes                 False\n",
       "Paul Robinson                False\n",
       "Vítor Silva                  False\n",
       "Diederik Boer                False\n",
       "Manu Herrera                 False\n",
       "Takahiro Sekine              False\n",
       "Walter Bou                   False\n",
       "Ioannis Mystakidis           False\n",
       "Bismar Acosta                False\n",
       "Patryk Małecki               False\n",
       "Mitsuo Ogasawara             False\n",
       "Romario Benzar               False\n",
       "Anatole Ngamukol             False\n",
       "Name: club, Length: 5231, dtype: bool"
      ]
     },
     "execution_count": 1292,
     "metadata": {},
     "output_type": "execute_result"
    }
   ],
   "source": [
    "#Now lets check to see if a value in content \"is in\" club\n",
    "fifa3.club.isin(clubs_list)"
   ]
  },
  {
   "cell_type": "code",
   "execution_count": 1293,
   "metadata": {},
   "outputs": [
    {
     "name": "stdout",
     "output_type": "stream",
     "text": [
      "<class 'pandas.core.frame.DataFrame'>\n",
      "Index: 268 entries, Cristiano Ronaldo to Bogdan Lobonţ\n",
      "Data columns (total 42 columns):\n",
      "nationality           268 non-null object\n",
      "club                  268 non-null object\n",
      "club_position         268 non-null object\n",
      "rating                268 non-null int64\n",
      "height                268 non-null float64\n",
      "weight                268 non-null float64\n",
      "preffered_foot        268 non-null object\n",
      "birth_date            268 non-null object\n",
      "age                   268 non-null int64\n",
      "preffered_position    268 non-null object\n",
      "work_rate             268 non-null object\n",
      "weak_foot             268 non-null int64\n",
      "skill_moves           268 non-null int64\n",
      "ball_control          268 non-null int64\n",
      "dribbling             268 non-null int64\n",
      "marking               268 non-null int64\n",
      "sliding_tackle        268 non-null int64\n",
      "standing_tackle       268 non-null int64\n",
      "aggression            268 non-null int64\n",
      "reactions             268 non-null int64\n",
      "attacking_position    268 non-null int64\n",
      "interceptions         268 non-null int64\n",
      "vision                268 non-null int64\n",
      "composure             268 non-null int64\n",
      "crossing              268 non-null int64\n",
      "short_pass            268 non-null int64\n",
      "long_pass             268 non-null int64\n",
      "acceleration          268 non-null int64\n",
      "speed                 268 non-null int64\n",
      "stamina               268 non-null int64\n",
      "strength              268 non-null int64\n",
      "balance               268 non-null int64\n",
      "agility               268 non-null int64\n",
      "jumping               268 non-null int64\n",
      "heading               268 non-null int64\n",
      "shot_power            268 non-null int64\n",
      "finishing             268 non-null int64\n",
      "long_shots            268 non-null int64\n",
      "curve                 268 non-null int64\n",
      "freekick_accuracy     268 non-null int64\n",
      "penalties             268 non-null int64\n",
      "volleys               268 non-null int64\n",
      "dtypes: float64(2), int64(33), object(7)\n",
      "memory usage: 90.0+ KB\n"
     ]
    }
   ],
   "source": [
    "#Return new data frame\n",
    "fifa_2 = fifa3[fifa3.club.isin(clubs_list)]\n",
    "fifa_2.info()"
   ]
  },
  {
   "cell_type": "markdown",
   "metadata": {},
   "source": [
    "### 7. Make a bar plot of the average long_shots, curve, and dribbling attributes of the clubs in the data"
   ]
  },
  {
   "cell_type": "code",
   "execution_count": 1294,
   "metadata": {
    "collapsed": true
   },
   "outputs": [],
   "source": [
    "avg_atr = [\"long_shots\", \"curve\", \"dribbling\"]"
   ]
  },
  {
   "cell_type": "code",
   "execution_count": 1295,
   "metadata": {},
   "outputs": [
    {
     "data": {
      "image/png": "[encoded data removed]",
      "text/plain": [
       "<matplotlib.figure.Figure at 0x1a937c9910>"
      ]
     },
     "metadata": {},
     "output_type": "display_data"
    }
   ],
   "source": [
    "avg_bar_plot = fifa_2.mean()[avg_atr]\n",
    "avg_bar_plot.plot(kind=\"bar\", title = \"Average Attributes of the clubs\");"
   ]
  },
  {
   "cell_type": "markdown",
   "metadata": {},
   "source": [
    "### 8. Make a scatter plot of short_pass vs marking and use the preffered_foot column to color-encode the dots."
   ]
  },
  {
   "cell_type": "code",
   "execution_count": 1304,
   "metadata": {
    "collapsed": true
   },
   "outputs": [],
   "source": [
    "color_dict = {\"Left\":\"g\", \"Right\":\"y\"}\n",
    "colors = fifa_2.preffered_foot.map(color_dict)"
   ]
  },
  {
   "cell_type": "code",
   "execution_count": 1305,
   "metadata": {},
   "outputs": [
    {
     "data": {
      "image/png": "[encoded data removed]",
      "text/plain": [
       "<matplotlib.figure.Figure at 0x1a92a60b10>"
      ]
     },
     "metadata": {},
     "output_type": "display_data"
    }
   ],
   "source": [
    "fifa_2.plot(x = \"short_pass\", y = \"marking\", c = colors, kind = \"scatter\")\n",
    "plt.show();"
   ]
  },
  {
   "cell_type": "code",
   "execution_count": 1307,
   "metadata": {},
   "outputs": [
    {
     "name": "stdout",
     "output_type": "stream",
     "text": [
      "<class 'pandas.core.frame.DataFrame'>\n",
      "Index: 268 entries, Cristiano Ronaldo to Bogdan Lobonţ\n",
      "Data columns (total 42 columns):\n",
      "nationality           268 non-null object\n",
      "club                  268 non-null object\n",
      "club_position         268 non-null object\n",
      "rating                268 non-null int64\n",
      "height                268 non-null float64\n",
      "weight                268 non-null float64\n",
      "preffered_foot        268 non-null object\n",
      "birth_date            268 non-null object\n",
      "age                   268 non-null int64\n",
      "preffered_position    268 non-null object\n",
      "work_rate             268 non-null object\n",
      "weak_foot             268 non-null int64\n",
      "skill_moves           268 non-null int64\n",
      "ball_control          268 non-null int64\n",
      "dribbling             268 non-null int64\n",
      "marking               268 non-null int64\n",
      "sliding_tackle        268 non-null int64\n",
      "standing_tackle       268 non-null int64\n",
      "aggression            268 non-null int64\n",
      "reactions             268 non-null int64\n",
      "attacking_position    268 non-null int64\n",
      "interceptions         268 non-null int64\n",
      "vision                268 non-null int64\n",
      "composure             268 non-null int64\n",
      "crossing              268 non-null int64\n",
      "short_pass            268 non-null int64\n",
      "long_pass             268 non-null int64\n",
      "acceleration          268 non-null int64\n",
      "speed                 268 non-null int64\n",
      "stamina               268 non-null int64\n",
      "strength              268 non-null int64\n",
      "balance               268 non-null int64\n",
      "agility               268 non-null int64\n",
      "jumping               268 non-null int64\n",
      "heading               268 non-null int64\n",
      "shot_power            268 non-null int64\n",
      "finishing             268 non-null int64\n",
      "long_shots            268 non-null int64\n",
      "curve                 268 non-null int64\n",
      "freekick_accuracy     268 non-null int64\n",
      "penalties             268 non-null int64\n",
      "volleys               268 non-null int64\n",
      "dtypes: float64(2), int64(33), object(7)\n",
      "memory usage: 100.0+ KB\n"
     ]
    }
   ],
   "source": [
    "fifa_2.info()"
   ]
  },
  {
   "cell_type": "markdown",
   "metadata": {},
   "source": [
    "### 9. Make a grouped boxplots using club_position as the x axis for the following attributes: dribbling, balance, and sliding_tackle"
   ]
  },
  {
   "cell_type": "code",
   "execution_count": 1337,
   "metadata": {},
   "outputs": [
    {
     "data": {
      "image/png": "[encoded data removed]",
      "text/plain": [
       "<matplotlib.figure.Figure at 0x1a90417d10>"
      ]
     },
     "metadata": {},
     "output_type": "display_data"
    }
   ],
   "source": [
    "#Dribbling boxplot\n",
    "fifa_2.boxplot(column=\"dribbling\", by=\"club_position\", figsize=(10, 8))\n",
    "plt.show();"
   ]
  },
  {
   "cell_type": "markdown",
   "metadata": {},
   "source": [
    "Which position is better at dribbling? ST or RCM? Why?"
   ]
  },
  {
   "cell_type": "markdown",
   "metadata": {
    "collapsed": true
   },
   "source": [
    "The ST position is better at dribbling. RCM has a much larger spread than ST, and therefore higher variance within each player's dribbling score. \n",
    "Eventhough the median is about the same for both positions, the range and IQR are much smaller in ST. \n",
    "This also shows that there's less variance in ST, with a smaller number of outliers compared to RCM.\n",
    "\n",
    "What is the IQR for positions ST, RB, and RM?\n",
    "IQR_ST_dribbling ~ 6\n",
    "IQR_RB_dribbling ~ 4\n",
    "IQR_RM_dribbling ~ 8"
   ]
  },
  {
   "cell_type": "code",
   "execution_count": 1338,
   "metadata": {},
   "outputs": [
    {
     "data": {
      "image/png": "[encoded data removed]",
      "text/plain": [
       "<matplotlib.figure.Figure at 0x1a904fc150>"
      ]
     },
     "metadata": {},
     "output_type": "display_data"
    }
   ],
   "source": [
    "#Balance boxplot\n",
    "fifa_2.boxplot(column=\"balance\", by=\"club_position\", figsize=(10, 8))\n",
    "plt.show();"
   ]
  },
  {
   "cell_type": "markdown",
   "metadata": {},
   "source": [
    "Which position is better at balance? LM or LDM? Why?"
   ]
  },
  {
   "cell_type": "markdown",
   "metadata": {
    "collapsed": true
   },
   "source": [
    "The range, and IQR is larger in LM, although the median is slightly higher in LM. \n",
    "~75% of those in LM have a higher balance score than 75% of those in LDM.\n",
    "\n",
    "What is the IQR for positions ST, RB, and RM?\n",
    "IQR_ST_balance ~ 20\n",
    "IQR_RB_balance ~ 6\n",
    "IQR_RM_balance ~ 4"
   ]
  },
  {
   "cell_type": "code",
   "execution_count": 1339,
   "metadata": {},
   "outputs": [
    {
     "data": {
      "image/png": "[encoded data removed]",
      "text/plain": [
       "<matplotlib.figure.Figure at 0x1a6d614410>"
      ]
     },
     "metadata": {},
     "output_type": "display_data"
    }
   ],
   "source": [
    "#sliding_tackle boxplot\n",
    "fifa_2.boxplot(column=\"sliding_tackle\", by=\"club_position\", figsize=(10, 8))\n",
    "plt.show();"
   ]
  },
  {
   "cell_type": "markdown",
   "metadata": {},
   "source": [
    "What is the IQR for positions ST, RB, and RM?\n",
    "IQR_ST_sliding_tackle ~ 18\n",
    "IQR_RB_sliding_tackle ~ 8\n",
    "IQR_RM_sliding_tackle ~ 30"
   ]
  },
  {
   "cell_type": "code",
   "execution_count": null,
   "metadata": {
    "collapsed": true
   },
   "outputs": [],
   "source": []
  },
  {
   "cell_type": "code",
   "execution_count": 1389,
   "metadata": {
    "collapsed": true
   },
   "outputs": [],
   "source": []
  },
  {
   "cell_type": "code",
   "execution_count": null,
   "metadata": {
    "collapsed": true
   },
   "outputs": [],
   "source": []
  },
  {
   "cell_type": "code",
   "execution_count": 1396,
   "metadata": {},
   "outputs": [
    {
     "data": {
      "image/png": "[encoded data removed]",
      "text/plain": [
       "<matplotlib.figure.Figure at 0x1a935c9090>"
      ]
     },
     "metadata": {},
     "output_type": "display_data"
    }
   ],
   "source": [
    "#taking a look at the attributes via averages instead of the boxplot view.\n",
    "\n",
    "col_att = [\"dribbling\", \"balance\", \"sliding_tackle\"]\n",
    "fifa_2.groupby(\"club_position\")[col_att].mean().plot(kind=\"bar\", figsize=(8,8), \n",
    "                                           title = \"Grouped Bar plots\")\n",
    "plt.ylim(20, 100)\n",
    "plt.show();"
   ]
  },
  {
   "cell_type": "code",
   "execution_count": null,
   "metadata": {
    "collapsed": true
   },
   "outputs": [],
   "source": []
  },
  {
   "cell_type": "code",
   "execution_count": null,
   "metadata": {
    "collapsed": true
   },
   "outputs": [],
   "source": []
  }
 ],
 "metadata": {
  "anaconda-cloud": {},
  "kernelspec": {
   "display_name": "Python 2",
   "language": "python",
   "name": "python2"
  },
  "language_info": {
   "codemirror_mode": {
    "name": "ipython",
    "version": 2
   },
   "file_extension": ".py",
   "mimetype": "text/x-python",
   "name": "python",
   "nbconvert_exporter": "python",
   "pygments_lexer": "ipython2",
   "version": "2.7.13"
  }
 },
 "nbformat": 4,
 "nbformat_minor": 1
}
