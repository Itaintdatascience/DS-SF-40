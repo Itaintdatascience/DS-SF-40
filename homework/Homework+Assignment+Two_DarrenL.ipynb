{
 "cells": [
  {
   "cell_type": "markdown",
   "metadata": {},
   "source": [
    "# Homework Assignment 2 | DarrenkLee"
   ]
  },
  {
   "cell_type": "markdown",
   "metadata": {},
   "source": [
    "## Section 1: Admissions Dataset"
   ]
  },
  {
   "cell_type": "code",
   "execution_count": 30,
   "metadata": {
    "collapsed": true
   },
   "outputs": [],
   "source": [
    "#First round of imports\n",
    "\n",
    "import pandas as pd\n",
    "import numpy as np\n",
    "import matplotlib.pyplot as plt\n",
    "%matplotlib inline\n"
   ]
  },
  {
   "cell_type": "code",
   "execution_count": 3,
   "metadata": {},
   "outputs": [
    {
     "data": {
      "text/html": [
       "<div>\n",
       "<style>\n",
       "    .dataframe thead tr:only-child th {\n",
       "        text-align: right;\n",
       "    }\n",
       "\n",
       "    .dataframe thead th {\n",
       "        text-align: left;\n",
       "    }\n",
       "\n",
       "    .dataframe tbody tr th {\n",
       "        vertical-align: top;\n",
       "    }\n",
       "</style>\n",
       "<table border=\"1\" class=\"dataframe\">\n",
       "  <thead>\n",
       "    <tr style=\"text-align: right;\">\n",
       "      <th></th>\n",
       "      <th>admit</th>\n",
       "      <th>gre</th>\n",
       "      <th>gpa</th>\n",
       "      <th>prestige</th>\n",
       "    </tr>\n",
       "  </thead>\n",
       "  <tbody>\n",
       "    <tr>\n",
       "      <th>0</th>\n",
       "      <td>0</td>\n",
       "      <td>380.0</td>\n",
       "      <td>3.61</td>\n",
       "      <td>3.0</td>\n",
       "    </tr>\n",
       "    <tr>\n",
       "      <th>1</th>\n",
       "      <td>1</td>\n",
       "      <td>660.0</td>\n",
       "      <td>3.67</td>\n",
       "      <td>3.0</td>\n",
       "    </tr>\n",
       "    <tr>\n",
       "      <th>2</th>\n",
       "      <td>1</td>\n",
       "      <td>800.0</td>\n",
       "      <td>4.00</td>\n",
       "      <td>1.0</td>\n",
       "    </tr>\n",
       "    <tr>\n",
       "      <th>3</th>\n",
       "      <td>1</td>\n",
       "      <td>640.0</td>\n",
       "      <td>3.19</td>\n",
       "      <td>4.0</td>\n",
       "    </tr>\n",
       "    <tr>\n",
       "      <th>4</th>\n",
       "      <td>0</td>\n",
       "      <td>520.0</td>\n",
       "      <td>2.93</td>\n",
       "      <td>4.0</td>\n",
       "    </tr>\n",
       "  </tbody>\n",
       "</table>\n",
       "</div>"
      ],
      "text/plain": [
       "   admit    gre   gpa  prestige\n",
       "0      0  380.0  3.61       3.0\n",
       "1      1  660.0  3.67       3.0\n",
       "2      1  800.0  4.00       1.0\n",
       "3      1  640.0  3.19       4.0\n",
       "4      0  520.0  2.93       4.0"
      ]
     },
     "execution_count": 3,
     "metadata": {},
     "output_type": "execute_result"
    }
   ],
   "source": [
    "#data\n",
    "admissions = pd.read_csv(\"../data/dataset-ucla-admissions.csv\")\n",
    "\n",
    "admissions.head()"
   ]
  },
  {
   "cell_type": "markdown",
   "metadata": {},
   "source": [
    "**Question 1:**\n",
    "\n",
    "What is the target/outcome variable? What are the features? Which features are continous or categorical? What is the null accuracy? If there are categorical variables, turn them into dummy variables and concatenate them with the data."
   ]
  },
  {
   "cell_type": "code",
   "execution_count": 4,
   "metadata": {
    "collapsed": true
   },
   "outputs": [],
   "source": [
    "#The target/outcome variable is the \"admit\" field. All of the variables are continuous, but \"admit\" should be \n",
    "#categorical. "
   ]
  },
  {
   "cell_type": "code",
   "execution_count": 5,
   "metadata": {},
   "outputs": [
    {
     "name": "stdout",
     "output_type": "stream",
     "text": [
      "<class 'pandas.core.frame.DataFrame'>\n",
      "RangeIndex: 400 entries, 0 to 399\n",
      "Data columns (total 4 columns):\n",
      "admit       400 non-null int64\n",
      "gre         398 non-null float64\n",
      "gpa         398 non-null float64\n",
      "prestige    399 non-null float64\n",
      "dtypes: float64(3), int64(1)\n",
      "memory usage: 12.6 KB\n"
     ]
    }
   ],
   "source": [
    "admissions.info()"
   ]
  },
  {
   "cell_type": "code",
   "execution_count": 6,
   "metadata": {},
   "outputs": [
    {
     "data": {
      "text/plain": [
       "2.0    150\n",
       "3.0    121\n",
       "4.0     67\n",
       "1.0     61\n",
       "Name: prestige, dtype: int64"
      ]
     },
     "execution_count": 6,
     "metadata": {},
     "output_type": "execute_result"
    }
   ],
   "source": [
    "admissions.prestige.value_counts()"
   ]
  },
  {
   "cell_type": "code",
   "execution_count": 7,
   "metadata": {
    "collapsed": true
   },
   "outputs": [],
   "source": [
    "df_admit_dums = pd.get_dummies(admissions.admit, prefix = \"admit\", drop_first= True)\n",
    "admissions = pd.concat([admissions, df_admit_dums], axis = 1)\n",
    "admissions.drop(\"admit\", axis = 1, inplace= True)"
   ]
  },
  {
   "cell_type": "code",
   "execution_count": 8,
   "metadata": {
    "collapsed": true
   },
   "outputs": [],
   "source": [
    "#admissions[\"admit_1\"] = admissions.admit_1.astype(str)"
   ]
  },
  {
   "cell_type": "code",
   "execution_count": 9,
   "metadata": {},
   "outputs": [
    {
     "name": "stdout",
     "output_type": "stream",
     "text": [
      "<class 'pandas.core.frame.DataFrame'>\n",
      "RangeIndex: 400 entries, 0 to 399\n",
      "Data columns (total 4 columns):\n",
      "gre         398 non-null float64\n",
      "gpa         398 non-null float64\n",
      "prestige    399 non-null float64\n",
      "admit_1     400 non-null uint8\n",
      "dtypes: float64(3), uint8(1)\n",
      "memory usage: 9.8 KB\n"
     ]
    }
   ],
   "source": [
    "admissions.info()"
   ]
  },
  {
   "cell_type": "code",
   "execution_count": 10,
   "metadata": {},
   "outputs": [
    {
     "data": {
      "text/plain": [
       "0    68.25\n",
       "1    31.75\n",
       "Name: admit_1, dtype: float64"
      ]
     },
     "execution_count": 10,
     "metadata": {},
     "output_type": "execute_result"
    }
   ],
   "source": [
    "#null accuracy\n",
    "admissions.admit_1.value_counts(normalize= True)*100"
   ]
  },
  {
   "cell_type": "code",
   "execution_count": 11,
   "metadata": {
    "collapsed": true
   },
   "outputs": [],
   "source": [
    "admissions.dropna(inplace= True)"
   ]
  },
  {
   "cell_type": "code",
   "execution_count": 12,
   "metadata": {},
   "outputs": [
    {
     "data": {
      "text/plain": [
       "(397, 4)"
      ]
     },
     "execution_count": 12,
     "metadata": {},
     "output_type": "execute_result"
    }
   ],
   "source": [
    "admissions.shape"
   ]
  },
  {
   "cell_type": "code",
   "execution_count": null,
   "metadata": {
    "collapsed": true
   },
   "outputs": [],
   "source": []
  },
  {
   "cell_type": "markdown",
   "metadata": {},
   "source": [
    "**Question 2:**\n",
    "\n",
    "What do you think is the goal of using machine learning with this dataset."
   ]
  },
  {
   "cell_type": "code",
   "execution_count": 13,
   "metadata": {
    "collapsed": true
   },
   "outputs": [],
   "source": [
    "#The goal is to build a model that can predict what type of students are admitted based on gpa, gre and prestige"
   ]
  },
  {
   "cell_type": "markdown",
   "metadata": {},
   "source": [
    "**Question 3:** Make a scatter plot of gpa vs gre color-encoded using the admit feature. What does this graph tell you?"
   ]
  },
  {
   "cell_type": "code",
   "execution_count": 14,
   "metadata": {},
   "outputs": [
    {
     "data": {
      "text/plain": [
       "2.2599999999999998"
      ]
     },
     "execution_count": 14,
     "metadata": {},
     "output_type": "execute_result"
    }
   ],
   "source": [
    "admissions.gpa.min()"
   ]
  },
  {
   "cell_type": "code",
   "execution_count": 15,
   "metadata": {},
   "outputs": [
    {
     "data": {
      "image/png": "[encoded data removed]",
      "text/plain": [
       "<matplotlib.figure.Figure at 0x11228cd90>"
      ]
     },
     "metadata": {},
     "output_type": "display_data"
    }
   ],
   "source": [
    "admissions.plot(x = \"gpa\", y = \"gre\", kind = \"scatter\", c = admissions.admit_1, \n",
    "                colormap = \"cool_r\", title = \"GPA vs GRE by Admissions\", figsize=( 10, 8));"
   ]
  },
  {
   "cell_type": "markdown",
   "metadata": {},
   "source": [
    "**Question 4:** \n",
    "\n",
    "    - 1. Make a train test split using a quarter of the data for testing.\n",
    "    - 2. Fit a Logistic Regression model on the training data.\n",
    "    - 3. Evaluate the model on both the training and testing datasets using accuracy score.\n",
    "    - 4. Whats difference in the accuracy score of training and testing datasets? Is this evidence of overfitting?"
   ]
  },
  {
   "cell_type": "code",
   "execution_count": 2,
   "metadata": {},
   "outputs": [
    {
     "name": "stderr",
     "output_type": "stream",
     "text": [
      "/Users/darrenklee/anaconda2/lib/python2.7/site-packages/sklearn/cross_validation.py:41: DeprecationWarning: This module was deprecated in version 0.18 in favor of the model_selection module into which all the refactored classes and functions are moved. Also note that the interface of the new CV iterators are different from that of this module. This module will be removed in 0.20.\n",
      "  \"This module will be removed in 0.20.\", DeprecationWarning)\n"
     ]
    }
   ],
   "source": [
    "from sklearn.cross_validation import train_test_split, cross_val_score\n",
    "from sklearn.metrics import accuracy_score, precision_score, recall_score, confusion_matrix, classification_report, roc_auc_score, roc_curve\n",
    "from sklearn.linear_model import LogisticRegression\n",
    "from sklearn.datasets import make_classification\n",
    "import pandas as pd;"
   ]
  },
  {
   "cell_type": "code",
   "execution_count": 17,
   "metadata": {
    "collapsed": true
   },
   "outputs": [],
   "source": [
    "X = admissions.drop(\"admit_1\", axis = 1)\n",
    "y = admissions.admit_1\n",
    "\n",
    "#1. Make a train test split using a quarter of the data for testing.\n",
    "X_train, X_test, y_train, y_test = train_test_split(X, y, \n",
    "                                                    test_size=0.25,\n",
    "                                                    random_state=123)"
   ]
  },
  {
   "cell_type": "code",
   "execution_count": 18,
   "metadata": {},
   "outputs": [
    {
     "data": {
      "text/plain": [
       "0    67.0\n",
       "1    33.0\n",
       "Name: admit_1, dtype: float64"
      ]
     },
     "execution_count": 18,
     "metadata": {},
     "output_type": "execute_result"
    }
   ],
   "source": [
    "#Null accuracy of y_test\n",
    "y_test.value_counts(normalize= True)*100"
   ]
  },
  {
   "cell_type": "code",
   "execution_count": 19,
   "metadata": {},
   "outputs": [
    {
     "name": "stdout",
     "output_type": "stream",
     "text": [
      "The training model produces an accuracy score of 69.02%, and testing model produces an accuracy score of 73.00%\n"
     ]
    }
   ],
   "source": [
    "#2. Fit a Logistic Regression model on the training data.\n",
    "lr = LogisticRegression()\n",
    "lr.fit(X_train, y_train)\n",
    "\n",
    "#3. Evaluate the model on both the training and testing datasets using accuracy score.\n",
    "score = lr.score(X_train, y_train)\n",
    "score_test = lr.score(X_test, y_test)\n",
    "\n",
    "print (\"The training model produces an accuracy score of {:.2f}%, and testing model produces an accuracy score of {:.2f}%\".format(score*100, score_test*100))"
   ]
  },
  {
   "cell_type": "code",
   "execution_count": 20,
   "metadata": {
    "collapsed": true
   },
   "outputs": [],
   "source": [
    "#4. Whats difference in the accuracy score of training and testing datasets? Is this evidence of overfitting?\n",
    "\n",
    "#There is about a 4% difference between the training and testing accuracy score, and the Cross Validated average \n",
    "# accuracy score is ~71%. Not too bad considering these numbers are within 2% standard deviation. I would say it's \n",
    "# not overfit to the training set."
   ]
  },
  {
   "cell_type": "code",
   "execution_count": 21,
   "metadata": {
    "collapsed": true
   },
   "outputs": [],
   "source": [
    "preds = lr.predict(X_test)"
   ]
  },
  {
   "cell_type": "code",
   "execution_count": 22,
   "metadata": {},
   "outputs": [
    {
     "data": {
      "text/html": [
       "<div>\n",
       "<style>\n",
       "    .dataframe thead tr:only-child th {\n",
       "        text-align: right;\n",
       "    }\n",
       "\n",
       "    .dataframe thead th {\n",
       "        text-align: left;\n",
       "    }\n",
       "\n",
       "    .dataframe tbody tr th {\n",
       "        vertical-align: top;\n",
       "    }\n",
       "</style>\n",
       "<table border=\"1\" class=\"dataframe\">\n",
       "  <thead>\n",
       "    <tr style=\"text-align: right;\">\n",
       "      <th></th>\n",
       "      <th>0</th>\n",
       "      <th>1</th>\n",
       "    </tr>\n",
       "  </thead>\n",
       "  <tbody>\n",
       "    <tr>\n",
       "      <th>0</th>\n",
       "      <td>67</td>\n",
       "      <td>0</td>\n",
       "    </tr>\n",
       "    <tr>\n",
       "      <th>1</th>\n",
       "      <td>27</td>\n",
       "      <td>6</td>\n",
       "    </tr>\n",
       "  </tbody>\n",
       "</table>\n",
       "</div>"
      ],
      "text/plain": [
       "    0  1\n",
       "0  67  0\n",
       "1  27  6"
      ]
     },
     "execution_count": 22,
     "metadata": {},
     "output_type": "execute_result"
    }
   ],
   "source": [
    "cm = confusion_matrix(y_test, preds)\n",
    "confusion_matrix = pd.DataFrame(cm)\n",
    "confusion_matrix"
   ]
  },
  {
   "cell_type": "code",
   "execution_count": null,
   "metadata": {
    "collapsed": true
   },
   "outputs": [],
   "source": []
  },
  {
   "cell_type": "code",
   "execution_count": 23,
   "metadata": {
    "collapsed": true
   },
   "outputs": [],
   "source": [
    "#the model produces more False Negatives which is better than producing more False Positives because\n",
    "# it's worse if we predict that a student will be admitted, but is not actually qualified. The Type I Error\n",
    "# would be to be on the safe side and not get their hopes up, or set them up for higher expectations."
   ]
  },
  {
   "cell_type": "code",
   "execution_count": 24,
   "metadata": {},
   "outputs": [
    {
     "name": "stdout",
     "output_type": "stream",
     "text": [
      "The precision score is 100.00 and the recall score is 18.18\n"
     ]
    }
   ],
   "source": [
    "\n",
    "ps = precision_score(y_test, preds)\n",
    "rs = recall_score(y_test, preds)\n",
    "\n",
    "print (\"The precision score is {:.2f} and the recall score is {:.2f}\".format(ps*100, rs*100))"
   ]
  },
  {
   "cell_type": "code",
   "execution_count": 49,
   "metadata": {},
   "outputs": [
    {
     "name": "stdout",
     "output_type": "stream",
     "text": [
      "We have a False Negative Rate of 81.82%\n"
     ]
    }
   ],
   "source": [
    "#FNR, #27/33\n",
    "fnr = cm[1,0]/float(cm.sum(axis=1)[1])\n",
    "print (\"We have a False Negative Rate of {:.2f}%\".format(fnr*100))"
   ]
  },
  {
   "cell_type": "code",
   "execution_count": 26,
   "metadata": {},
   "outputs": [
    {
     "data": {
      "text/plain": [
       "0.71036099390529761"
      ]
     },
     "execution_count": 26,
     "metadata": {},
     "output_type": "execute_result"
    }
   ],
   "source": [
    "cross_val_score(LogisticRegression(), X, y, cv =5, scoring=\"accuracy\").mean()"
   ]
  },
  {
   "cell_type": "code",
   "execution_count": 27,
   "metadata": {},
   "outputs": [
    {
     "data": {
      "text/plain": [
       "0.61341269841269841"
      ]
     },
     "execution_count": 27,
     "metadata": {},
     "output_type": "execute_result"
    }
   ],
   "source": [
    "#Precision\n",
    "cross_val_score(LogisticRegression(), X, y, cv =5, scoring=\"precision\").mean()"
   ]
  },
  {
   "cell_type": "code",
   "execution_count": 28,
   "metadata": {},
   "outputs": [
    {
     "data": {
      "text/plain": [
       "0.23815384615384616"
      ]
     },
     "execution_count": 28,
     "metadata": {},
     "output_type": "execute_result"
    }
   ],
   "source": [
    "#Recall\n",
    "cross_val_score(LogisticRegression(), X, y, cv =5, scoring=\"recall\").mean()"
   ]
  },
  {
   "cell_type": "code",
   "execution_count": null,
   "metadata": {
    "collapsed": true
   },
   "outputs": [],
   "source": []
  },
  {
   "cell_type": "code",
   "execution_count": 29,
   "metadata": {
    "collapsed": true
   },
   "outputs": [],
   "source": [
    "#Derive probabilities of class 1 from the test set\n",
    "test_probs = lr.predict_proba(X_test)[:,1]\n",
    "#Pass in the test_probs variable and the true test labels aka y_test in the roc_curve function\n",
    "fpr, tpr, thres = roc_curve(y_test, test_probs)\n",
    "#Outputs the fpr, tpr, for varying thresholds"
   ]
  },
  {
   "cell_type": "code",
   "execution_count": 30,
   "metadata": {},
   "outputs": [
    {
     "data": {
      "image/png": "[encoded data removed]",
      "text/plain": [
       "<matplotlib.figure.Figure at 0x11a8ddd50>"
      ]
     },
     "metadata": {},
     "output_type": "display_data"
    }
   ],
   "source": [
    "#Plotting False Positive Rates vs the True Positive Rates\n",
    "#Dotted line represents a useless model\n",
    "plt.figure(figsize=(10,8))\n",
    "plt.plot(fpr, tpr, linewidth= 8)\n",
    "#Line of randomness\n",
    "plt.plot([0,1], [0,1], \"--\", alpha=.7)\n",
    "plt.xlabel(\"False Positive Rate\")\n",
    "plt.ylabel(\"True Positive Rate\")\n",
    "plt.title(\"ROC Curve\")\n",
    "plt.show()"
   ]
  },
  {
   "cell_type": "code",
   "execution_count": 31,
   "metadata": {},
   "outputs": [
    {
     "data": {
      "text/plain": [
       "0.74219810040705569"
      ]
     },
     "execution_count": 31,
     "metadata": {},
     "output_type": "execute_result"
    }
   ],
   "source": [
    "#Caculate the area under the curve score using roc_auc_score using SKLEARN. only work with Binary Classification\n",
    "roc_auc_score(y_test, test_probs)"
   ]
  },
  {
   "cell_type": "code",
   "execution_count": 32,
   "metadata": {},
   "outputs": [
    {
     "data": {
      "text/plain": [
       "0.67934006734006724"
      ]
     },
     "execution_count": 32,
     "metadata": {},
     "output_type": "execute_result"
    }
   ],
   "source": [
    "#Cross validated roc_auc score\n",
    "cross_val_score(LogisticRegression(), X, y, cv=5, scoring=\"roc_auc\").mean()"
   ]
  },
  {
   "cell_type": "code",
   "execution_count": 33,
   "metadata": {},
   "outputs": [
    {
     "data": {
      "image/png": "[encoded data removed]",
      "text/plain": [
       "<matplotlib.figure.Figure at 0x11a844d10>"
      ]
     },
     "metadata": {},
     "output_type": "display_data"
    }
   ],
   "source": [
    "plt.figure(figsize=(10,8))\n",
    "plt.plot(fpr, tpr, linewidth=8)\n",
    "plt.plot([0,1], [0,1], \"--\", alpha=.7)\n",
    "for label, x, y in zip(thres[::10], fpr[::10], tpr[::10]):\n",
    "    plt.annotate(\"{0:.2f}\".format(label), xy=(x, y + .04))\n",
    "plt.xlabel(\"False Positive Rate\")\n",
    "plt.ylabel(\"True Positive Rate\")\n",
    "plt.title(\"ROC Curve\")\n",
    "plt.show()"
   ]
  },
  {
   "cell_type": "code",
   "execution_count": 34,
   "metadata": {},
   "outputs": [
    {
     "data": {
      "image/png": "[encoded data removed]",
      "text/plain": [
       "<matplotlib.figure.Figure at 0x1a1cf1f7d0>"
      ]
     },
     "metadata": {},
     "output_type": "display_data"
    }
   ],
   "source": [
    "plt.figure(figsize=(10,8))\n",
    "plt.plot(thres, fpr, linewidth=5, label = \"FPR Line\")\n",
    "plt.plot(thres, tpr, linewidth=5, label = \"TPR line\")\n",
    "plt.xlabel(\"Thresholds\")\n",
    "plt.ylabel(\"False Positive Rate\")\n",
    "plt.legend()\n",
    "plt.show();"
   ]
  },
  {
   "cell_type": "code",
   "execution_count": 35,
   "metadata": {},
   "outputs": [
    {
     "data": {
      "text/plain": [
       "array([0, 0, 0, 0, 0, 0, 0, 0, 0, 0, 0, 0, 0, 0, 0, 0, 0, 0, 0, 0])"
      ]
     },
     "execution_count": 35,
     "metadata": {},
     "output_type": "execute_result"
    }
   ],
   "source": [
    "labels_70 = np.where(test_probs >= 0.7, 1, 0)\n",
    "labels_70[:20]"
   ]
  },
  {
   "cell_type": "code",
   "execution_count": 36,
   "metadata": {},
   "outputs": [
    {
     "data": {
      "text/plain": [
       "0.67000000000000004"
      ]
     },
     "execution_count": 36,
     "metadata": {},
     "output_type": "execute_result"
    }
   ],
   "source": [
    "accuracy_score(y_test, labels_70)"
   ]
  },
  {
   "cell_type": "code",
   "execution_count": 37,
   "metadata": {
    "collapsed": true
   },
   "outputs": [],
   "source": [
    "def thres_acc(t, yt, tp):\n",
    "    labels = np.where(tp>=t, 1, 0)\n",
    "    return accuracy_score(yt, labels)"
   ]
  },
  {
   "cell_type": "code",
   "execution_count": 38,
   "metadata": {
    "collapsed": true
   },
   "outputs": [],
   "source": [
    "#Generate thresholds and pass them into function\n",
    "thresholds = np.linspace(0, 1, 50)\n",
    "acc_scores = [thres_acc(i, y_test, test_probs) for i in thresholds]"
   ]
  },
  {
   "cell_type": "code",
   "execution_count": 39,
   "metadata": {},
   "outputs": [
    {
     "data": {
      "image/png": "[encoded data removed]",
      "text/plain": [
       "<matplotlib.figure.Figure at 0x1a1d10d210>"
      ]
     },
     "metadata": {},
     "output_type": "display_data"
    }
   ],
   "source": [
    "#Plot thresholds vs accuracy scores\n",
    "plt.figure(figsize=(10,8))\n",
    "plt.plot(thresholds, acc_scores, linewidth=5)\n",
    "plt.xlabel(\"Thresholds\")\n",
    "plt.ylabel(\"Accuracy Scores\")\n",
    "plt.show()"
   ]
  },
  {
   "cell_type": "code",
   "execution_count": 40,
   "metadata": {},
   "outputs": [
    {
     "data": {
      "text/plain": [
       "0.46938775510204078"
      ]
     },
     "execution_count": 40,
     "metadata": {},
     "output_type": "execute_result"
    }
   ],
   "source": [
    "thres_score_dict = dict(zip(thresholds, acc_scores))\n",
    "sorted(thres_score_dict.items(), key = lambda x:x[1], reverse=True)[0][0]"
   ]
  },
  {
   "cell_type": "code",
   "execution_count": 41,
   "metadata": {},
   "outputs": [
    {
     "data": {
      "text/plain": [
       "array([1, 0, 0, 0, 0, 0, 0, 0, 0, 1, 0, 0, 0, 0, 0, 0, 0, 0, 0, 0])"
      ]
     },
     "execution_count": 41,
     "metadata": {},
     "output_type": "execute_result"
    }
   ],
   "source": [
    "labels_47 = np.where(test_probs >= 0.47, 1, 0)\n",
    "labels_47[:20]"
   ]
  },
  {
   "cell_type": "code",
   "execution_count": 42,
   "metadata": {},
   "outputs": [
    {
     "data": {
      "text/plain": [
       "0.75"
      ]
     },
     "execution_count": 42,
     "metadata": {},
     "output_type": "execute_result"
    }
   ],
   "source": [
    "accuracy_score(y_test, labels_47)\n",
    "# .75 is more accurate than .67 previously at .47 threshold!!"
   ]
  },
  {
   "cell_type": "code",
   "execution_count": null,
   "metadata": {
    "collapsed": true
   },
   "outputs": [],
   "source": []
  },
  {
   "cell_type": "code",
   "execution_count": null,
   "metadata": {
    "collapsed": true
   },
   "outputs": [],
   "source": []
  },
  {
   "cell_type": "code",
   "execution_count": null,
   "metadata": {
    "collapsed": true
   },
   "outputs": [],
   "source": []
  },
  {
   "cell_type": "markdown",
   "metadata": {},
   "source": [
    "**Question 5:** Use grid search to determine the K-Neigbors values in a KNN model trained on this dataset and to determine the best max_depth value in a Decision Tree model as well. Which model is better? Use roc_auc as your evaluation metric."
   ]
  },
  {
   "cell_type": "code",
   "execution_count": 368,
   "metadata": {
    "collapsed": true
   },
   "outputs": [],
   "source": [
    "from sklearn.neighbors import KNeighborsClassifier\n",
    "from sklearn.grid_search import GridSearchCV\n",
    "from sklearn.preprocessing import StandardScaler\n",
    "from sklearn.pipeline import Pipeline, make_pipeline;"
   ]
  },
  {
   "cell_type": "code",
   "execution_count": 72,
   "metadata": {
    "collapsed": true
   },
   "outputs": [],
   "source": [
    "#Intialize scalar to scale the data first. They GPA and GRE metrics are different.\n",
    "scale = StandardScaler()\n",
    "\n",
    "#Fit and transform scaler on the data\n",
    "Xs = scale.fit_transform(X)\n",
    "y = admissions.admit_1"
   ]
  },
  {
   "cell_type": "code",
   "execution_count": 65,
   "metadata": {},
   "outputs": [
    {
     "data": {
      "text/plain": [
       "{'n_neighbors': [1, 3, 5, 7, 9, 11, 13, 15, 17, 19]}"
      ]
     },
     "execution_count": 65,
     "metadata": {},
     "output_type": "execute_result"
    }
   ],
   "source": [
    "#Intialize parameter grid\n",
    "\n",
    "#Range of neighbors to test\n",
    "neighbors_range = range(1, 21, 2)\n",
    "\n",
    "#Dictionary of parameter values \n",
    "param_grid_knn = {}\n",
    "param_grid_knn[\"n_neighbors\"] = neighbors_range\n",
    "\n",
    "param_grid_knn"
   ]
  },
  {
   "cell_type": "code",
   "execution_count": 66,
   "metadata": {},
   "outputs": [
    {
     "data": {
      "text/plain": [
       "GridSearchCV(cv=5, error_score='raise',\n",
       "       estimator=KNeighborsClassifier(algorithm='auto', leaf_size=30, metric='minkowski',\n",
       "           metric_params=None, n_jobs=1, n_neighbors=5, p=2,\n",
       "           weights='uniform'),\n",
       "       fit_params={}, iid=True, n_jobs=1,\n",
       "       param_grid={'n_neighbors': [1, 3, 5, 7, 9, 11, 13, 15, 17, 19]},\n",
       "       pre_dispatch='2*n_jobs', refit=True, scoring='accuracy', verbose=0)"
      ]
     },
     "execution_count": 66,
     "metadata": {},
     "output_type": "execute_result"
    }
   ],
   "source": [
    "#Intialize Grid\n",
    "\n",
    "grid_knn_s = GridSearchCV(KNeighborsClassifier(), param_grid = param_grid_knn, cv = 5, scoring = \"accuracy\")\n",
    "\n",
    "#Fit grid on scaled data\n",
    "grid_knn_s.fit(Xs, y)"
   ]
  },
  {
   "cell_type": "code",
   "execution_count": 67,
   "metadata": {},
   "outputs": [
    {
     "data": {
      "text/plain": [
       "[mean: 0.62972, std: 0.06342, params: {'n_neighbors': 1},\n",
       " mean: 0.65491, std: 0.05048, params: {'n_neighbors': 3},\n",
       " mean: 0.65743, std: 0.06248, params: {'n_neighbors': 5},\n",
       " mean: 0.66247, std: 0.05111, params: {'n_neighbors': 7},\n",
       " mean: 0.67758, std: 0.04320, params: {'n_neighbors': 9},\n",
       " mean: 0.68010, std: 0.04916, params: {'n_neighbors': 11},\n",
       " mean: 0.68262, std: 0.02317, params: {'n_neighbors': 13},\n",
       " mean: 0.68010, std: 0.02495, params: {'n_neighbors': 15},\n",
       " mean: 0.67254, std: 0.02272, params: {'n_neighbors': 17},\n",
       " mean: 0.68262, std: 0.03067, params: {'n_neighbors': 19}]"
      ]
     },
     "execution_count": 67,
     "metadata": {},
     "output_type": "execute_result"
    }
   ],
   "source": [
    "grid_knn_s.grid_scores_"
   ]
  },
  {
   "cell_type": "code",
   "execution_count": 68,
   "metadata": {},
   "outputs": [
    {
     "data": {
      "text/plain": [
       "0.6826196473551638"
      ]
     },
     "execution_count": 68,
     "metadata": {},
     "output_type": "execute_result"
    }
   ],
   "source": [
    "grid_knn_s.best_score_\n",
    "#compare with score of DT below.."
   ]
  },
  {
   "cell_type": "code",
   "execution_count": 69,
   "metadata": {},
   "outputs": [
    {
     "data": {
      "text/plain": [
       "{'n_neighbors': 13}"
      ]
     },
     "execution_count": 69,
     "metadata": {},
     "output_type": "execute_result"
    }
   ],
   "source": [
    "grid_knn_s.best_params_"
   ]
  },
  {
   "cell_type": "code",
   "execution_count": 70,
   "metadata": {},
   "outputs": [
    {
     "data": {
      "text/plain": [
       "KNeighborsClassifier(algorithm='auto', leaf_size=30, metric='minkowski',\n",
       "           metric_params=None, n_jobs=1, n_neighbors=13, p=2,\n",
       "           weights='uniform')"
      ]
     },
     "execution_count": 70,
     "metadata": {},
     "output_type": "execute_result"
    }
   ],
   "source": [
    "grid_knn_s.best_estimator_"
   ]
  },
  {
   "cell_type": "code",
   "execution_count": null,
   "metadata": {
    "collapsed": true
   },
   "outputs": [],
   "source": []
  },
  {
   "cell_type": "code",
   "execution_count": null,
   "metadata": {
    "collapsed": true
   },
   "outputs": [],
   "source": [
    "#now with a Decision Tree model..."
   ]
  },
  {
   "cell_type": "code",
   "execution_count": 73,
   "metadata": {},
   "outputs": [
    {
     "data": {
      "text/plain": [
       "{'max_depth': [2, 3, 4, 5, 6, 7, 8, 9, 10, 11, 12, 13, 14, 15, 16, 17, 18, 19]}"
      ]
     },
     "execution_count": 73,
     "metadata": {},
     "output_type": "execute_result"
    }
   ],
   "source": [
    "depths_range = range(2, 20)\n",
    "\n",
    "#Dictionary of parameter values \n",
    "param_grid_dt = {}\n",
    "param_grid_dt[\"max_depth\"] = depths_range\n",
    "\n",
    "param_grid_dt"
   ]
  },
  {
   "cell_type": "code",
   "execution_count": 74,
   "metadata": {},
   "outputs": [
    {
     "data": {
      "text/plain": [
       "GridSearchCV(cv=5, error_score='raise',\n",
       "       estimator=DecisionTreeClassifier(class_weight=None, criterion='gini', max_depth=None,\n",
       "            max_features=None, max_leaf_nodes=None,\n",
       "            min_impurity_decrease=0.0, min_impurity_split=None,\n",
       "            min_samples_leaf=1, min_samples_split=2,\n",
       "            min_weight_fraction_leaf=0.0, presort=False, random_state=None,\n",
       "            splitter='best'),\n",
       "       fit_params={}, iid=True, n_jobs=1,\n",
       "       param_grid={'max_depth': [2, 3, 4, 5, 6, 7, 8, 9, 10, 11, 12, 13, 14, 15, 16, 17, 18, 19]},\n",
       "       pre_dispatch='2*n_jobs', refit=True, scoring='accuracy', verbose=0)"
      ]
     },
     "execution_count": 74,
     "metadata": {},
     "output_type": "execute_result"
    }
   ],
   "source": [
    "from sklearn.tree import DecisionTreeClassifier\n",
    "#Intialize Grid\n",
    "\n",
    "grid_dt = GridSearchCV(estimator = DecisionTreeClassifier(), \n",
    "                        param_grid = param_grid_dt, cv = 5, scoring = \"accuracy\")\n",
    "\n",
    "#Fit grid on data\n",
    "\n",
    "grid_dt.fit(X, y)"
   ]
  },
  {
   "cell_type": "code",
   "execution_count": 76,
   "metadata": {},
   "outputs": [
    {
     "data": {
      "text/plain": [
       "[mean: 0.70781, std: 0.05010, params: {'max_depth': 2},\n",
       " mean: 0.71537, std: 0.04618, params: {'max_depth': 3},\n",
       " mean: 0.66499, std: 0.03795, params: {'max_depth': 4},\n",
       " mean: 0.69018, std: 0.03684, params: {'max_depth': 5},\n",
       " mean: 0.64484, std: 0.04042, params: {'max_depth': 6},\n",
       " mean: 0.61965, std: 0.06279, params: {'max_depth': 7},\n",
       " mean: 0.63980, std: 0.03785, params: {'max_depth': 8},\n",
       " mean: 0.62720, std: 0.02678, params: {'max_depth': 9},\n",
       " mean: 0.60202, std: 0.04733, params: {'max_depth': 10},\n",
       " mean: 0.59698, std: 0.04219, params: {'max_depth': 11},\n",
       " mean: 0.59698, std: 0.03463, params: {'max_depth': 12},\n",
       " mean: 0.60453, std: 0.04989, params: {'max_depth': 13},\n",
       " mean: 0.61209, std: 0.02939, params: {'max_depth': 14},\n",
       " mean: 0.61209, std: 0.02494, params: {'max_depth': 15},\n",
       " mean: 0.60705, std: 0.04459, params: {'max_depth': 16},\n",
       " mean: 0.60202, std: 0.04351, params: {'max_depth': 17},\n",
       " mean: 0.59194, std: 0.03353, params: {'max_depth': 18},\n",
       " mean: 0.59950, std: 0.04403, params: {'max_depth': 19}]"
      ]
     },
     "execution_count": 76,
     "metadata": {},
     "output_type": "execute_result"
    }
   ],
   "source": [
    "grid_dt.grid_scores_"
   ]
  },
  {
   "cell_type": "code",
   "execution_count": 75,
   "metadata": {},
   "outputs": [
    {
     "data": {
      "text/plain": [
       "0.7153652392947103"
      ]
     },
     "execution_count": 75,
     "metadata": {},
     "output_type": "execute_result"
    }
   ],
   "source": [
    "grid_dt.best_score_\n",
    "#compared to the KNN model, DT has a higher accuracy score. "
   ]
  },
  {
   "cell_type": "code",
   "execution_count": 77,
   "metadata": {},
   "outputs": [
    {
     "data": {
      "text/plain": [
       "{'max_depth': 3}"
      ]
     },
     "execution_count": 77,
     "metadata": {},
     "output_type": "execute_result"
    }
   ],
   "source": [
    "grid_dt.best_params_"
   ]
  },
  {
   "cell_type": "code",
   "execution_count": 78,
   "metadata": {},
   "outputs": [
    {
     "data": {
      "text/plain": [
       "DecisionTreeClassifier(class_weight=None, criterion='gini', max_depth=3,\n",
       "            max_features=None, max_leaf_nodes=None,\n",
       "            min_impurity_decrease=0.0, min_impurity_split=None,\n",
       "            min_samples_leaf=1, min_samples_split=2,\n",
       "            min_weight_fraction_leaf=0.0, presort=False, random_state=None,\n",
       "            splitter='best')"
      ]
     },
     "execution_count": 78,
     "metadata": {},
     "output_type": "execute_result"
    }
   ],
   "source": [
    "grid_dt.best_estimator_"
   ]
  },
  {
   "cell_type": "code",
   "execution_count": 896,
   "metadata": {
    "collapsed": true
   },
   "outputs": [],
   "source": [
    "p = 0.7153652392947103- 0.6826196473551638"
   ]
  },
  {
   "cell_type": "code",
   "execution_count": 900,
   "metadata": {},
   "outputs": [
    {
     "name": "stdout",
     "output_type": "stream",
     "text": [
      "The DecisionTree model is 3.27% better than the KNN model\n"
     ]
    }
   ],
   "source": [
    "print (\"The DecisionTree model is {:.2f}% better than the KNN model\".format(p*100))"
   ]
  },
  {
   "cell_type": "markdown",
   "metadata": {},
   "source": [
    "**Question 6:** If you work in an admissions department, would you rather have a model that minimizes false negatives or minimizes false positives? Why?"
   ]
  },
  {
   "cell_type": "code",
   "execution_count": null,
   "metadata": {
    "collapsed": true
   },
   "outputs": [],
   "source": [
    "# I would much rather have a student prove us wrong, than prove us right when it comes to college admissions. \n",
    "# The school will benefit more if the student is better suited for the work, therefore, minimizing False Positives\n",
    "# is a better model to build. We do not want to predict that a student will succeed, and eventually fail. "
   ]
  },
  {
   "cell_type": "markdown",
   "metadata": {},
   "source": [
    "**Question 7:** Using the Logistic Regression from Question 4, what is the probability of admission of the following prospective students:\n",
    "\n",
    "    - Student 1: GRE = 560, GPA = 3.6, Prestige = 2.\n",
    "    - Student 2: GRE = 750, GPA = 3.8, Prestige = 4.\n",
    "    - Student 3: GRE = 660, GPA = 3.1, Prestige = 1."
   ]
  },
  {
   "cell_type": "code",
   "execution_count": 86,
   "metadata": {},
   "outputs": [
    {
     "data": {
      "text/html": [
       "<div>\n",
       "<style>\n",
       "    .dataframe thead tr:only-child th {\n",
       "        text-align: right;\n",
       "    }\n",
       "\n",
       "    .dataframe thead th {\n",
       "        text-align: left;\n",
       "    }\n",
       "\n",
       "    .dataframe tbody tr th {\n",
       "        vertical-align: top;\n",
       "    }\n",
       "</style>\n",
       "<table border=\"1\" class=\"dataframe\">\n",
       "  <thead>\n",
       "    <tr style=\"text-align: right;\">\n",
       "      <th></th>\n",
       "      <th>gre</th>\n",
       "      <th>gpa</th>\n",
       "      <th>prestige</th>\n",
       "      <th>admit_1</th>\n",
       "    </tr>\n",
       "  </thead>\n",
       "  <tbody>\n",
       "    <tr>\n",
       "      <th>0</th>\n",
       "      <td>380.0</td>\n",
       "      <td>3.61</td>\n",
       "      <td>3.0</td>\n",
       "      <td>0</td>\n",
       "    </tr>\n",
       "    <tr>\n",
       "      <th>1</th>\n",
       "      <td>660.0</td>\n",
       "      <td>3.67</td>\n",
       "      <td>3.0</td>\n",
       "      <td>1</td>\n",
       "    </tr>\n",
       "    <tr>\n",
       "      <th>2</th>\n",
       "      <td>800.0</td>\n",
       "      <td>4.00</td>\n",
       "      <td>1.0</td>\n",
       "      <td>1</td>\n",
       "    </tr>\n",
       "    <tr>\n",
       "      <th>3</th>\n",
       "      <td>640.0</td>\n",
       "      <td>3.19</td>\n",
       "      <td>4.0</td>\n",
       "      <td>1</td>\n",
       "    </tr>\n",
       "    <tr>\n",
       "      <th>4</th>\n",
       "      <td>520.0</td>\n",
       "      <td>2.93</td>\n",
       "      <td>4.0</td>\n",
       "      <td>0</td>\n",
       "    </tr>\n",
       "  </tbody>\n",
       "</table>\n",
       "</div>"
      ],
      "text/plain": [
       "     gre   gpa  prestige  admit_1\n",
       "0  380.0  3.61       3.0        0\n",
       "1  660.0  3.67       3.0        1\n",
       "2  800.0  4.00       1.0        1\n",
       "3  640.0  3.19       4.0        1\n",
       "4  520.0  2.93       4.0        0"
      ]
     },
     "execution_count": 86,
     "metadata": {},
     "output_type": "execute_result"
    }
   ],
   "source": [
    "admissions.head()"
   ]
  },
  {
   "cell_type": "code",
   "execution_count": 87,
   "metadata": {
    "collapsed": true
   },
   "outputs": [],
   "source": [
    "student_1 = [[560.0, 3.6, 2.0]]\n",
    "student_2 = [[750.0, 3.8, 4.0]]\n",
    "student_3 = [[660.0, 3.1, 1.0]]"
   ]
  },
  {
   "cell_type": "code",
   "execution_count": 89,
   "metadata": {},
   "outputs": [
    {
     "data": {
      "text/plain": [
       "array([[ 0.63402921,  0.36597079]])"
      ]
     },
     "execution_count": 89,
     "metadata": {},
     "output_type": "execute_result"
    }
   ],
   "source": [
    "student_1_test = lr.predict_proba(student_1)\n",
    "student_1_test\n",
    "#there is a 63% chance that this student will not be admitted. "
   ]
  },
  {
   "cell_type": "code",
   "execution_count": 91,
   "metadata": {},
   "outputs": [
    {
     "data": {
      "text/plain": [
       "array([[ 0.76066639,  0.23933361]])"
      ]
     },
     "execution_count": 91,
     "metadata": {},
     "output_type": "execute_result"
    }
   ],
   "source": [
    "student_2_test = lr.predict_proba(student_2)\n",
    "student_2_test\n",
    "#there is a 76% chance that this student will not be admitted. "
   ]
  },
  {
   "cell_type": "code",
   "execution_count": 92,
   "metadata": {},
   "outputs": [
    {
     "data": {
      "text/plain": [
       "array([[ 0.52437751,  0.47562249]])"
      ]
     },
     "execution_count": 92,
     "metadata": {},
     "output_type": "execute_result"
    }
   ],
   "source": [
    "student_3_test = lr.predict_proba(student_3)\n",
    "student_3_test\n",
    "#there is a 52% chance that this student will not be admitted. "
   ]
  },
  {
   "cell_type": "code",
   "execution_count": 99,
   "metadata": {},
   "outputs": [
    {
     "data": {
      "text/plain": [
       "array([0], dtype=uint8)"
      ]
     },
     "execution_count": 99,
     "metadata": {},
     "output_type": "execute_result"
    }
   ],
   "source": [
    "student_3_Predict = lr.predict(student_3)\n",
    "student_3_Predict"
   ]
  },
  {
   "cell_type": "markdown",
   "metadata": {},
   "source": [
    "## Section 2: Mystery Dataset\n",
    "\n",
    "In this section you will work with a \"mystery\" supervised classification dataset, in that you have no context to work with — the names of the features come from San Francisco neighborhoods but aren't related to anything to San Francisco.\n",
    "\n",
    "<br>\n",
    "\n",
    "In this section I want to devise the best possible model with the fewest number of features. Some of the features are informative, while others are junk, your task is to find the good ones while dropping the bad ones.\n",
    "\n",
    "<br>\n",
    "\n",
    "I want you to thoroughly test at least three algorithms in order to find the best one with the best parameters."
   ]
  },
  {
   "cell_type": "code",
   "execution_count": null,
   "metadata": {
    "collapsed": true
   },
   "outputs": [],
   "source": [
    "from sklearn.linear_model import LinearRegression, Ridge, Lasso\n",
    "from sklearn.cross_validation import train_test_split, cross_val_score\n",
    "from sklearn.preprocessing import PolynomialFeatures\n",
    "from sklearn.pipeline import make_pipeline\n",
    "from sklearn.metrics import mean_absolute_error, mean_squared_error, r2_score;"
   ]
  },
  {
   "cell_type": "code",
   "execution_count": 128,
   "metadata": {},
   "outputs": [
    {
     "data": {
      "text/html": [
       "<div>\n",
       "<style>\n",
       "    .dataframe thead tr:only-child th {\n",
       "        text-align: right;\n",
       "    }\n",
       "\n",
       "    .dataframe thead th {\n",
       "        text-align: left;\n",
       "    }\n",
       "\n",
       "    .dataframe tbody tr th {\n",
       "        vertical-align: top;\n",
       "    }\n",
       "</style>\n",
       "<table border=\"1\" class=\"dataframe\">\n",
       "  <thead>\n",
       "    <tr style=\"text-align: right;\">\n",
       "      <th></th>\n",
       "      <th>haight</th>\n",
       "      <th>mission</th>\n",
       "      <th>soma</th>\n",
       "      <th>sunset</th>\n",
       "      <th>richmond</th>\n",
       "      <th>glen_park</th>\n",
       "      <th>castro</th>\n",
       "      <th>potrero</th>\n",
       "      <th>hayes_valley</th>\n",
       "      <th>fillmore</th>\n",
       "      <th>bernal</th>\n",
       "      <th>marina</th>\n",
       "      <th>north_beach</th>\n",
       "      <th>excelsior</th>\n",
       "      <th>target</th>\n",
       "    </tr>\n",
       "  </thead>\n",
       "  <tbody>\n",
       "    <tr>\n",
       "      <th>0</th>\n",
       "      <td>-3.126509</td>\n",
       "      <td>7.807749</td>\n",
       "      <td>0.959736</td>\n",
       "      <td>-2.248569</td>\n",
       "      <td>4.557675</td>\n",
       "      <td>1.110156</td>\n",
       "      <td>0.617296</td>\n",
       "      <td>0.356864</td>\n",
       "      <td>0.860267</td>\n",
       "      <td>-0.395962</td>\n",
       "      <td>-1.144975</td>\n",
       "      <td>-1.805742</td>\n",
       "      <td>1.498388</td>\n",
       "      <td>2.157730</td>\n",
       "      <td>1</td>\n",
       "    </tr>\n",
       "    <tr>\n",
       "      <th>1</th>\n",
       "      <td>0.941629</td>\n",
       "      <td>2.935495</td>\n",
       "      <td>-0.584966</td>\n",
       "      <td>-0.880963</td>\n",
       "      <td>-1.262072</td>\n",
       "      <td>0.120989</td>\n",
       "      <td>3.970787</td>\n",
       "      <td>2.509629</td>\n",
       "      <td>1.400017</td>\n",
       "      <td>0.574335</td>\n",
       "      <td>-3.389879</td>\n",
       "      <td>-0.898020</td>\n",
       "      <td>0.512079</td>\n",
       "      <td>4.340694</td>\n",
       "      <td>1</td>\n",
       "    </tr>\n",
       "    <tr>\n",
       "      <th>2</th>\n",
       "      <td>-0.724688</td>\n",
       "      <td>4.192606</td>\n",
       "      <td>-1.139602</td>\n",
       "      <td>0.856972</td>\n",
       "      <td>0.906893</td>\n",
       "      <td>-2.799484</td>\n",
       "      <td>0.584498</td>\n",
       "      <td>3.468955</td>\n",
       "      <td>1.011336</td>\n",
       "      <td>0.839612</td>\n",
       "      <td>-1.384781</td>\n",
       "      <td>-0.241726</td>\n",
       "      <td>1.502255</td>\n",
       "      <td>-1.539356</td>\n",
       "      <td>1</td>\n",
       "    </tr>\n",
       "    <tr>\n",
       "      <th>3</th>\n",
       "      <td>-2.641034</td>\n",
       "      <td>6.963189</td>\n",
       "      <td>0.962412</td>\n",
       "      <td>-0.838858</td>\n",
       "      <td>1.549620</td>\n",
       "      <td>-2.335671</td>\n",
       "      <td>-0.838585</td>\n",
       "      <td>1.924333</td>\n",
       "      <td>2.794306</td>\n",
       "      <td>-0.421610</td>\n",
       "      <td>-1.273275</td>\n",
       "      <td>0.833424</td>\n",
       "      <td>2.268457</td>\n",
       "      <td>-0.004678</td>\n",
       "      <td>0</td>\n",
       "    </tr>\n",
       "    <tr>\n",
       "      <th>4</th>\n",
       "      <td>1.259116</td>\n",
       "      <td>4.741797</td>\n",
       "      <td>1.084332</td>\n",
       "      <td>0.186698</td>\n",
       "      <td>4.794145</td>\n",
       "      <td>-1.093006</td>\n",
       "      <td>2.161358</td>\n",
       "      <td>3.264167</td>\n",
       "      <td>-0.060052</td>\n",
       "      <td>1.154145</td>\n",
       "      <td>-2.030773</td>\n",
       "      <td>-1.442986</td>\n",
       "      <td>0.588193</td>\n",
       "      <td>0.533464</td>\n",
       "      <td>1</td>\n",
       "    </tr>\n",
       "  </tbody>\n",
       "</table>\n",
       "</div>"
      ],
      "text/plain": [
       "     haight   mission      soma    sunset  richmond  glen_park    castro  \\\n",
       "0 -3.126509  7.807749  0.959736 -2.248569  4.557675   1.110156  0.617296   \n",
       "1  0.941629  2.935495 -0.584966 -0.880963 -1.262072   0.120989  3.970787   \n",
       "2 -0.724688  4.192606 -1.139602  0.856972  0.906893  -2.799484  0.584498   \n",
       "3 -2.641034  6.963189  0.962412 -0.838858  1.549620  -2.335671 -0.838585   \n",
       "4  1.259116  4.741797  1.084332  0.186698  4.794145  -1.093006  2.161358   \n",
       "\n",
       "    potrero  hayes_valley  fillmore    bernal    marina  north_beach  \\\n",
       "0  0.356864      0.860267 -0.395962 -1.144975 -1.805742     1.498388   \n",
       "1  2.509629      1.400017  0.574335 -3.389879 -0.898020     0.512079   \n",
       "2  3.468955      1.011336  0.839612 -1.384781 -0.241726     1.502255   \n",
       "3  1.924333      2.794306 -0.421610 -1.273275  0.833424     2.268457   \n",
       "4  3.264167     -0.060052  1.154145 -2.030773 -1.442986     0.588193   \n",
       "\n",
       "   excelsior  target  \n",
       "0   2.157730       1  \n",
       "1   4.340694       1  \n",
       "2  -1.539356       1  \n",
       "3  -0.004678       0  \n",
       "4   0.533464       1  "
      ]
     },
     "execution_count": 128,
     "metadata": {},
     "output_type": "execute_result"
    }
   ],
   "source": [
    "data = pd.read_csv(\"../data/homework_2_data.csv\", index_col=[0])\n",
    "data.head()"
   ]
  },
  {
   "cell_type": "code",
   "execution_count": 129,
   "metadata": {
    "collapsed": true
   },
   "outputs": [],
   "source": [
    "# no context.. which one of these features are the best at predicting the outcome variable..?\n",
    "# make the best possible model by minimizing number of features in the dataset\n",
    "# test a bunch of models, and eliminate as many features..\n",
    "# RANK the features and which one you think are the best.."
   ]
  },
  {
   "cell_type": "code",
   "execution_count": 130,
   "metadata": {
    "scrolled": true
   },
   "outputs": [
    {
     "data": {
      "text/html": [
       "<div>\n",
       "<style>\n",
       "    .dataframe thead tr:only-child th {\n",
       "        text-align: right;\n",
       "    }\n",
       "\n",
       "    .dataframe thead th {\n",
       "        text-align: left;\n",
       "    }\n",
       "\n",
       "    .dataframe tbody tr th {\n",
       "        vertical-align: top;\n",
       "    }\n",
       "</style>\n",
       "<table border=\"1\" class=\"dataframe\">\n",
       "  <thead>\n",
       "    <tr style=\"text-align: right;\">\n",
       "      <th></th>\n",
       "      <th>haight</th>\n",
       "      <th>mission</th>\n",
       "      <th>soma</th>\n",
       "      <th>sunset</th>\n",
       "      <th>richmond</th>\n",
       "      <th>glen_park</th>\n",
       "      <th>castro</th>\n",
       "      <th>potrero</th>\n",
       "      <th>hayes_valley</th>\n",
       "      <th>fillmore</th>\n",
       "      <th>bernal</th>\n",
       "      <th>marina</th>\n",
       "      <th>north_beach</th>\n",
       "      <th>excelsior</th>\n",
       "      <th>target</th>\n",
       "    </tr>\n",
       "  </thead>\n",
       "  <tbody>\n",
       "    <tr>\n",
       "      <th>count</th>\n",
       "      <td>4000.000000</td>\n",
       "      <td>4000.000000</td>\n",
       "      <td>4000.000000</td>\n",
       "      <td>4000.000000</td>\n",
       "      <td>4000.000000</td>\n",
       "      <td>4000.000000</td>\n",
       "      <td>4000.000000</td>\n",
       "      <td>4000.000000</td>\n",
       "      <td>4000.000000</td>\n",
       "      <td>4000.000000</td>\n",
       "      <td>4000.000000</td>\n",
       "      <td>4000.000000</td>\n",
       "      <td>4000.000000</td>\n",
       "      <td>4000.000000</td>\n",
       "      <td>4000.000000</td>\n",
       "    </tr>\n",
       "    <tr>\n",
       "      <th>mean</th>\n",
       "      <td>-0.267225</td>\n",
       "      <td>0.913052</td>\n",
       "      <td>-0.021879</td>\n",
       "      <td>-0.007041</td>\n",
       "      <td>0.488571</td>\n",
       "      <td>0.000533</td>\n",
       "      <td>0.214764</td>\n",
       "      <td>0.473963</td>\n",
       "      <td>0.276314</td>\n",
       "      <td>-0.001805</td>\n",
       "      <td>0.719916</td>\n",
       "      <td>0.016530</td>\n",
       "      <td>0.301720</td>\n",
       "      <td>-0.686948</td>\n",
       "      <td>0.361750</td>\n",
       "    </tr>\n",
       "    <tr>\n",
       "      <th>std</th>\n",
       "      <td>1.937676</td>\n",
       "      <td>3.021233</td>\n",
       "      <td>1.000251</td>\n",
       "      <td>1.010572</td>\n",
       "      <td>1.709379</td>\n",
       "      <td>1.699261</td>\n",
       "      <td>1.899664</td>\n",
       "      <td>1.760681</td>\n",
       "      <td>1.797701</td>\n",
       "      <td>0.982354</td>\n",
       "      <td>1.800790</td>\n",
       "      <td>0.991669</td>\n",
       "      <td>1.821065</td>\n",
       "      <td>3.675909</td>\n",
       "      <td>0.480567</td>\n",
       "    </tr>\n",
       "    <tr>\n",
       "      <th>min</th>\n",
       "      <td>-6.937360</td>\n",
       "      <td>-12.397333</td>\n",
       "      <td>-4.303971</td>\n",
       "      <td>-3.754228</td>\n",
       "      <td>-6.185402</td>\n",
       "      <td>-6.502010</td>\n",
       "      <td>-8.197095</td>\n",
       "      <td>-5.768151</td>\n",
       "      <td>-5.999394</td>\n",
       "      <td>-3.689324</td>\n",
       "      <td>-6.220787</td>\n",
       "      <td>-3.169294</td>\n",
       "      <td>-5.589536</td>\n",
       "      <td>-13.042620</td>\n",
       "      <td>0.000000</td>\n",
       "    </tr>\n",
       "    <tr>\n",
       "      <th>25%</th>\n",
       "      <td>-1.559472</td>\n",
       "      <td>-1.004986</td>\n",
       "      <td>-0.693617</td>\n",
       "      <td>-0.663096</td>\n",
       "      <td>-0.631218</td>\n",
       "      <td>-1.125261</td>\n",
       "      <td>-0.965050</td>\n",
       "      <td>-0.747362</td>\n",
       "      <td>-0.907813</td>\n",
       "      <td>-0.674620</td>\n",
       "      <td>-0.506630</td>\n",
       "      <td>-0.650516</td>\n",
       "      <td>-0.921863</td>\n",
       "      <td>-3.161465</td>\n",
       "      <td>0.000000</td>\n",
       "    </tr>\n",
       "    <tr>\n",
       "      <th>50%</th>\n",
       "      <td>-0.272602</td>\n",
       "      <td>1.030225</td>\n",
       "      <td>0.001604</td>\n",
       "      <td>-0.018837</td>\n",
       "      <td>0.538179</td>\n",
       "      <td>0.047370</td>\n",
       "      <td>0.299145</td>\n",
       "      <td>0.495901</td>\n",
       "      <td>0.300742</td>\n",
       "      <td>0.004425</td>\n",
       "      <td>0.717371</td>\n",
       "      <td>0.013667</td>\n",
       "      <td>0.263889</td>\n",
       "      <td>-0.721604</td>\n",
       "      <td>0.000000</td>\n",
       "    </tr>\n",
       "    <tr>\n",
       "      <th>75%</th>\n",
       "      <td>0.947680</td>\n",
       "      <td>2.990420</td>\n",
       "      <td>0.645886</td>\n",
       "      <td>0.673647</td>\n",
       "      <td>1.594229</td>\n",
       "      <td>1.132822</td>\n",
       "      <td>1.461197</td>\n",
       "      <td>1.666650</td>\n",
       "      <td>1.480998</td>\n",
       "      <td>0.651688</td>\n",
       "      <td>1.946477</td>\n",
       "      <td>0.661317</td>\n",
       "      <td>1.512332</td>\n",
       "      <td>1.515665</td>\n",
       "      <td>1.000000</td>\n",
       "    </tr>\n",
       "    <tr>\n",
       "      <th>max</th>\n",
       "      <td>6.680262</td>\n",
       "      <td>12.031816</td>\n",
       "      <td>3.424344</td>\n",
       "      <td>4.113957</td>\n",
       "      <td>7.032764</td>\n",
       "      <td>6.458744</td>\n",
       "      <td>7.532350</td>\n",
       "      <td>6.954996</td>\n",
       "      <td>6.621243</td>\n",
       "      <td>3.880595</td>\n",
       "      <td>7.368307</td>\n",
       "      <td>3.135799</td>\n",
       "      <td>7.445434</td>\n",
       "      <td>13.432946</td>\n",
       "      <td>1.000000</td>\n",
       "    </tr>\n",
       "  </tbody>\n",
       "</table>\n",
       "</div>"
      ],
      "text/plain": [
       "            haight      mission         soma       sunset     richmond  \\\n",
       "count  4000.000000  4000.000000  4000.000000  4000.000000  4000.000000   \n",
       "mean     -0.267225     0.913052    -0.021879    -0.007041     0.488571   \n",
       "std       1.937676     3.021233     1.000251     1.010572     1.709379   \n",
       "min      -6.937360   -12.397333    -4.303971    -3.754228    -6.185402   \n",
       "25%      -1.559472    -1.004986    -0.693617    -0.663096    -0.631218   \n",
       "50%      -0.272602     1.030225     0.001604    -0.018837     0.538179   \n",
       "75%       0.947680     2.990420     0.645886     0.673647     1.594229   \n",
       "max       6.680262    12.031816     3.424344     4.113957     7.032764   \n",
       "\n",
       "         glen_park       castro      potrero  hayes_valley     fillmore  \\\n",
       "count  4000.000000  4000.000000  4000.000000   4000.000000  4000.000000   \n",
       "mean      0.000533     0.214764     0.473963      0.276314    -0.001805   \n",
       "std       1.699261     1.899664     1.760681      1.797701     0.982354   \n",
       "min      -6.502010    -8.197095    -5.768151     -5.999394    -3.689324   \n",
       "25%      -1.125261    -0.965050    -0.747362     -0.907813    -0.674620   \n",
       "50%       0.047370     0.299145     0.495901      0.300742     0.004425   \n",
       "75%       1.132822     1.461197     1.666650      1.480998     0.651688   \n",
       "max       6.458744     7.532350     6.954996      6.621243     3.880595   \n",
       "\n",
       "            bernal       marina  north_beach    excelsior       target  \n",
       "count  4000.000000  4000.000000  4000.000000  4000.000000  4000.000000  \n",
       "mean      0.719916     0.016530     0.301720    -0.686948     0.361750  \n",
       "std       1.800790     0.991669     1.821065     3.675909     0.480567  \n",
       "min      -6.220787    -3.169294    -5.589536   -13.042620     0.000000  \n",
       "25%      -0.506630    -0.650516    -0.921863    -3.161465     0.000000  \n",
       "50%       0.717371     0.013667     0.263889    -0.721604     0.000000  \n",
       "75%       1.946477     0.661317     1.512332     1.515665     1.000000  \n",
       "max       7.368307     3.135799     7.445434    13.432946     1.000000  "
      ]
     },
     "execution_count": 130,
     "metadata": {},
     "output_type": "execute_result"
    }
   ],
   "source": [
    "data.describe()"
   ]
  },
  {
   "cell_type": "code",
   "execution_count": 257,
   "metadata": {},
   "outputs": [
    {
     "data": {
      "text/plain": [
       "(4000, 15)"
      ]
     },
     "execution_count": 257,
     "metadata": {},
     "output_type": "execute_result"
    }
   ],
   "source": [
    "data.shape"
   ]
  },
  {
   "cell_type": "code",
   "execution_count": null,
   "metadata": {
    "collapsed": true
   },
   "outputs": [],
   "source": []
  },
  {
   "cell_type": "markdown",
   "metadata": {},
   "source": [
    "# Linear and Lasso for Feature Selection"
   ]
  },
  {
   "cell_type": "code",
   "execution_count": 259,
   "metadata": {
    "collapsed": true
   },
   "outputs": [],
   "source": [
    "X = data.drop(\"target\", axis = 1)\n",
    "y = data.target"
   ]
  },
  {
   "cell_type": "code",
   "execution_count": 265,
   "metadata": {},
   "outputs": [
    {
     "name": "stdout",
     "output_type": "stream",
     "text": [
      "0.267335964881\n",
      "0.263101587868\n"
     ]
    }
   ],
   "source": [
    "#Linear\n",
    "X_train, X_test, y_train, y_test = train_test_split(X, y, test_size = .33, random_state = 45)\n",
    "\n",
    "lr = LinearRegression()\n",
    "lr.fit(X_train, y_train)\n",
    "print lr.score(X_train, y_train)\n",
    "print lr.score(X_test, y_test)"
   ]
  },
  {
   "cell_type": "code",
   "execution_count": 291,
   "metadata": {},
   "outputs": [
    {
     "data": {
      "image/png": "[encoded data removed]",
      "text/plain": [
       "<matplotlib.figure.Figure at 0x1a1cef51d0>"
      ]
     },
     "metadata": {},
     "output_type": "display_data"
    }
   ],
   "source": [
    "lasso_cv_scores = []\n",
    "\n",
    "for i in lasso_alphas:\n",
    "    cv_score = cross_val_score(Lasso(alpha=i), X, y, cv = 5).mean()\n",
    "    lasso_cv_scores.append(cv_score)\n",
    "\n",
    "plt.figure(figsize=(8, 7))\n",
    "plt.title(\"Lasso Regression Validation Plot\")\n",
    "plt.plot(lasso_alphas, lasso_cv_scores);"
   ]
  },
  {
   "cell_type": "code",
   "execution_count": 376,
   "metadata": {},
   "outputs": [
    {
     "name": "stdout",
     "output_type": "stream",
     "text": [
      "0.239852437004\n",
      "0.225670104861\n"
     ]
    }
   ],
   "source": [
    "#Lasso\n",
    "\n",
    "lasso = Lasso(alpha= 0.05)\n",
    "lasso.fit(X_train, y_train)\n",
    "print lasso.score(X_train, y_train)\n",
    "print lasso.score(X_test, y_test)"
   ]
  },
  {
   "cell_type": "code",
   "execution_count": 293,
   "metadata": {
    "collapsed": true
   },
   "outputs": [],
   "source": [
    "coef = lasso.coef_"
   ]
  },
  {
   "cell_type": "code",
   "execution_count": 377,
   "metadata": {},
   "outputs": [
    {
     "data": {
      "text/plain": [
       "{'bernal': 0.0,\n",
       " 'castro': 0.025452462491156642,\n",
       " 'excelsior': 0.035358964585097422,\n",
       " 'fillmore': 0.0,\n",
       " 'glen_park': 0.0,\n",
       " 'haight': -0.028045716912349961,\n",
       " 'hayes_valley': 0.0,\n",
       " 'marina': -0.0,\n",
       " 'mission': 0.0,\n",
       " 'north_beach': 0.10177186863487887,\n",
       " 'potrero': -0.015521770962787609,\n",
       " 'richmond': -0.035292406532755935,\n",
       " 'soma': 0.0,\n",
       " 'sunset': -0.0}"
      ]
     },
     "execution_count": 377,
     "metadata": {},
     "output_type": "execute_result"
    }
   ],
   "source": [
    "coef = lasso.coef_\n",
    "dict(zip(X.columns, coef))"
   ]
  },
  {
   "cell_type": "code",
   "execution_count": null,
   "metadata": {
    "collapsed": true
   },
   "outputs": [],
   "source": [
    "# top 4 features from Lasso Model:\n",
    "# excelsior, north_beach, richmond, haight"
   ]
  },
  {
   "cell_type": "code",
   "execution_count": null,
   "metadata": {
    "collapsed": true
   },
   "outputs": [],
   "source": []
  },
  {
   "cell_type": "code",
   "execution_count": null,
   "metadata": {
    "collapsed": true
   },
   "outputs": [],
   "source": []
  },
  {
   "cell_type": "code",
   "execution_count": null,
   "metadata": {
    "collapsed": true
   },
   "outputs": [],
   "source": []
  },
  {
   "cell_type": "code",
   "execution_count": 255,
   "metadata": {
    "collapsed": true
   },
   "outputs": [],
   "source": [
    "X = data.drop(\"target\", axis = 1)\n",
    "y = data.target"
   ]
  },
  {
   "cell_type": "code",
   "execution_count": 256,
   "metadata": {},
   "outputs": [
    {
     "data": {
      "text/plain": [
       "0    0.63825\n",
       "1    0.36175\n",
       "Name: target, dtype: float64"
      ]
     },
     "execution_count": 256,
     "metadata": {},
     "output_type": "execute_result"
    }
   ],
   "source": [
    "#null accuracy. Our model accuracy needs to beat 64%.\n",
    "y.value_counts(normalize=True)"
   ]
  },
  {
   "cell_type": "code",
   "execution_count": 177,
   "metadata": {},
   "outputs": [
    {
     "data": {
      "text/plain": [
       "0.90674999999999994"
      ]
     },
     "execution_count": 177,
     "metadata": {},
     "output_type": "execute_result"
    }
   ],
   "source": [
    "from sklearn.tree import DecisionTreeClassifier\n",
    "\n",
    "dt = DecisionTreeClassifier(max_depth=8)\n",
    "dt.fit(X, y)\n",
    "dt.score(X, y)\n",
    "#over fit?"
   ]
  },
  {
   "cell_type": "code",
   "execution_count": 194,
   "metadata": {
    "collapsed": true
   },
   "outputs": [],
   "source": [
    "from sklearn.cross_validation import train_test_split\n",
    "\n",
    "X_train, X_test, y_train, y_test = train_test_split(X, y, test_size = 0.33,\n",
    "                                                   random_state = 45)"
   ]
  },
  {
   "cell_type": "code",
   "execution_count": 179,
   "metadata": {},
   "outputs": [
    {
     "data": {
      "text/plain": [
       "0.80833333333333335"
      ]
     },
     "execution_count": 179,
     "metadata": {},
     "output_type": "execute_result"
    }
   ],
   "source": [
    "dt = DecisionTreeClassifier(max_depth= 8)\n",
    "dt.fit(X_train, y_train)\n",
    "\n",
    "dt.score(X_test, y_test)"
   ]
  },
  {
   "cell_type": "code",
   "execution_count": 180,
   "metadata": {},
   "outputs": [
    {
     "data": {
      "text/plain": [
       "0.82474134022084411"
      ]
     },
     "execution_count": 180,
     "metadata": {},
     "output_type": "execute_result"
    }
   ],
   "source": [
    "cross_val_score(DecisionTreeClassifier(max_depth=8), X, y, cv = 5, scoring=\"accuracy\").mean()"
   ]
  },
  {
   "cell_type": "code",
   "execution_count": 292,
   "metadata": {},
   "outputs": [
    {
     "data": {
      "image/png": "[encoded data removed]",
      "text/plain": [
       "<matplotlib.figure.Figure at 0x1a1e2b7c90>"
      ]
     },
     "metadata": {},
     "output_type": "display_data"
    }
   ],
   "source": [
    "depths = range(2, 40)\n",
    "cv_scores = []\n",
    "\n",
    "for depth in depths:\n",
    "    model = DecisionTreeClassifier(max_depth= depth)\n",
    "    score = cross_val_score(model, X, y, cv = 5, scoring = \"accuracy\").mean()\n",
    "    cv_scores.append(score)\n",
    "    \n",
    "plt.plot(depths, cv_scores)\n",
    "plt.xlabel(\"depth\")\n",
    "plt.ylabel(\"CV Scores\");"
   ]
  },
  {
   "cell_type": "code",
   "execution_count": 190,
   "metadata": {},
   "outputs": [
    {
     "data": {
      "text/plain": [
       "GridSearchCV(cv=5, error_score='raise',\n",
       "       estimator=DecisionTreeClassifier(class_weight=None, criterion='gini', max_depth=None,\n",
       "            max_features=None, max_leaf_nodes=None,\n",
       "            min_impurity_decrease=0.0, min_impurity_split=None,\n",
       "            min_samples_leaf=1, min_samples_split=2,\n",
       "            min_weight_fraction_leaf=0.0, presort=False, random_state=None,\n",
       "            splitter='best'),\n",
       "       fit_params={}, iid=True, n_jobs=1,\n",
       "       param_grid={'min_samples_split': [2, 10, 20], 'max_features': [1, 2, 3, 4, 5, 6, 7, 8, 9, 10], 'max_depth': [2, 3, 4, 5, 6, 7, 8, 9, 10, 11, 12, 13, 14, 15, 16, 17, 18, 19]},\n",
       "       pre_dispatch='2*n_jobs', refit=True, scoring='accuracy', verbose=0)"
      ]
     },
     "execution_count": 190,
     "metadata": {},
     "output_type": "execute_result"
    }
   ],
   "source": [
    "param_grid_dt[\"min_samples_split\"] = [2, 10, 20]\n",
    "param_grid_dt[\"max_features\"] = [1, 2, 3, 4, 5, 6, 7, 8, 9, 10]\n",
    "\n",
    "grid_dt = GridSearchCV(estimator = DecisionTreeClassifier(), \n",
    "                        param_grid = param_grid_dt, cv = 5, scoring = \"accuracy\")\n",
    "#Fit grid on data\n",
    "grid_dt.fit(X, y)"
   ]
  },
  {
   "cell_type": "code",
   "execution_count": 193,
   "metadata": {},
   "outputs": [
    {
     "data": {
      "text/plain": [
       "{'max_depth': 8, 'max_features': 9, 'min_samples_split': 10}"
      ]
     },
     "execution_count": 193,
     "metadata": {},
     "output_type": "execute_result"
    }
   ],
   "source": [
    "grid_dt.best_params_"
   ]
  },
  {
   "cell_type": "code",
   "execution_count": 192,
   "metadata": {},
   "outputs": [
    {
     "data": {
      "text/plain": [
       "0.82775"
      ]
     },
     "execution_count": 192,
     "metadata": {},
     "output_type": "execute_result"
    }
   ],
   "source": [
    "grid_dt.best_score_"
   ]
  },
  {
   "cell_type": "code",
   "execution_count": 195,
   "metadata": {},
   "outputs": [
    {
     "data": {
      "text/plain": [
       "0.79015151515151516"
      ]
     },
     "execution_count": 195,
     "metadata": {},
     "output_type": "execute_result"
    }
   ],
   "source": [
    "#re-run the model with best parameters!\n",
    "\n",
    "dt = DecisionTreeClassifier(max_depth= 8, min_samples_split= 10, max_features= 9)\n",
    "dt.fit(X_train, y_train)\n",
    "\n",
    "dt.score(X_test, y_test)"
   ]
  },
  {
   "cell_type": "code",
   "execution_count": 196,
   "metadata": {},
   "outputs": [
    {
     "data": {
      "text/plain": [
       "0.81850102109534539"
      ]
     },
     "execution_count": 196,
     "metadata": {},
     "output_type": "execute_result"
    }
   ],
   "source": [
    "cross_val_score(DecisionTreeClassifier(max_depth=8, min_samples_split= 10, max_features= 9), \n",
    "                X, y, cv = 5, scoring=\"accuracy\").mean()"
   ]
  },
  {
   "cell_type": "code",
   "execution_count": 416,
   "metadata": {},
   "outputs": [
    {
     "data": {
      "text/plain": [
       "[(0.14617619308679344, 'glen_park'),\n",
       " (0.14391312177392621, 'north_beach'),\n",
       " (0.12223796978571126, 'richmond'),\n",
       " (0.11624613777503841, 'castro'),\n",
       " (0.10282329874033677, 'hayes_valley'),\n",
       " (0.094310726568547776, 'potrero'),\n",
       " (0.077682754372078916, 'excelsior'),\n",
       " (0.071858434462603663, 'mission'),\n",
       " (0.049999231083277855, 'bernal'),\n",
       " (0.046122193597223575, 'haight'),\n",
       " (0.011878454300782255, 'marina'),\n",
       " (0.01014242524152776, 'soma'),\n",
       " (0.0034694473245733617, 'sunset'),\n",
       " (0.0031396118875788195, 'fillmore')]"
      ]
     },
     "execution_count": 416,
     "metadata": {},
     "output_type": "execute_result"
    }
   ],
   "source": [
    "sorted(zip(dt.feature_importances_, X_test.columns), reverse = True)\n",
    "#We will only take the top 6 features that are impacting this dataset. "
   ]
  },
  {
   "cell_type": "code",
   "execution_count": 341,
   "metadata": {
    "collapsed": true
   },
   "outputs": [],
   "source": [
    "#take the top 6 features here, and re-run the DT model.\n",
    "new_col_dt = ['glen_park', 'north_beach', 'richmond', 'castro', 'hayes_valley', 'potrero', 'target']"
   ]
  },
  {
   "cell_type": "code",
   "execution_count": 342,
   "metadata": {},
   "outputs": [
    {
     "data": {
      "text/html": [
       "<div>\n",
       "<style>\n",
       "    .dataframe thead tr:only-child th {\n",
       "        text-align: right;\n",
       "    }\n",
       "\n",
       "    .dataframe thead th {\n",
       "        text-align: left;\n",
       "    }\n",
       "\n",
       "    .dataframe tbody tr th {\n",
       "        vertical-align: top;\n",
       "    }\n",
       "</style>\n",
       "<table border=\"1\" class=\"dataframe\">\n",
       "  <thead>\n",
       "    <tr style=\"text-align: right;\">\n",
       "      <th></th>\n",
       "      <th>glen_park</th>\n",
       "      <th>north_beach</th>\n",
       "      <th>richmond</th>\n",
       "      <th>castro</th>\n",
       "      <th>hayes_valley</th>\n",
       "      <th>potrero</th>\n",
       "      <th>target</th>\n",
       "    </tr>\n",
       "  </thead>\n",
       "  <tbody>\n",
       "    <tr>\n",
       "      <th>0</th>\n",
       "      <td>1.110156</td>\n",
       "      <td>1.498388</td>\n",
       "      <td>4.557675</td>\n",
       "      <td>0.617296</td>\n",
       "      <td>0.860267</td>\n",
       "      <td>0.356864</td>\n",
       "      <td>1</td>\n",
       "    </tr>\n",
       "    <tr>\n",
       "      <th>1</th>\n",
       "      <td>0.120989</td>\n",
       "      <td>0.512079</td>\n",
       "      <td>-1.262072</td>\n",
       "      <td>3.970787</td>\n",
       "      <td>1.400017</td>\n",
       "      <td>2.509629</td>\n",
       "      <td>1</td>\n",
       "    </tr>\n",
       "    <tr>\n",
       "      <th>2</th>\n",
       "      <td>-2.799484</td>\n",
       "      <td>1.502255</td>\n",
       "      <td>0.906893</td>\n",
       "      <td>0.584498</td>\n",
       "      <td>1.011336</td>\n",
       "      <td>3.468955</td>\n",
       "      <td>1</td>\n",
       "    </tr>\n",
       "    <tr>\n",
       "      <th>3</th>\n",
       "      <td>-2.335671</td>\n",
       "      <td>2.268457</td>\n",
       "      <td>1.549620</td>\n",
       "      <td>-0.838585</td>\n",
       "      <td>2.794306</td>\n",
       "      <td>1.924333</td>\n",
       "      <td>0</td>\n",
       "    </tr>\n",
       "    <tr>\n",
       "      <th>4</th>\n",
       "      <td>-1.093006</td>\n",
       "      <td>0.588193</td>\n",
       "      <td>4.794145</td>\n",
       "      <td>2.161358</td>\n",
       "      <td>-0.060052</td>\n",
       "      <td>3.264167</td>\n",
       "      <td>1</td>\n",
       "    </tr>\n",
       "  </tbody>\n",
       "</table>\n",
       "</div>"
      ],
      "text/plain": [
       "   glen_park  north_beach  richmond    castro  hayes_valley   potrero  target\n",
       "0   1.110156     1.498388  4.557675  0.617296      0.860267  0.356864       1\n",
       "1   0.120989     0.512079 -1.262072  3.970787      1.400017  2.509629       1\n",
       "2  -2.799484     1.502255  0.906893  0.584498      1.011336  3.468955       1\n",
       "3  -2.335671     2.268457  1.549620 -0.838585      2.794306  1.924333       0\n",
       "4  -1.093006     0.588193  4.794145  2.161358     -0.060052  3.264167       1"
      ]
     },
     "execution_count": 342,
     "metadata": {},
     "output_type": "execute_result"
    }
   ],
   "source": [
    "data = pd.read_csv(\"../data/homework_2_data.csv\", index_col=[0])\n",
    "data_new = data[new_col_dt]\n",
    "data_new.head()"
   ]
  },
  {
   "cell_type": "code",
   "execution_count": 209,
   "metadata": {},
   "outputs": [
    {
     "data": {
      "text/html": [
       "<div>\n",
       "<style>\n",
       "    .dataframe thead tr:only-child th {\n",
       "        text-align: right;\n",
       "    }\n",
       "\n",
       "    .dataframe thead th {\n",
       "        text-align: left;\n",
       "    }\n",
       "\n",
       "    .dataframe tbody tr th {\n",
       "        vertical-align: top;\n",
       "    }\n",
       "</style>\n",
       "<table border=\"1\" class=\"dataframe\">\n",
       "  <thead>\n",
       "    <tr style=\"text-align: right;\">\n",
       "      <th></th>\n",
       "      <th>glen_park</th>\n",
       "      <th>north_beach</th>\n",
       "      <th>richmond</th>\n",
       "      <th>castro</th>\n",
       "      <th>hayes_valley</th>\n",
       "      <th>potrero</th>\n",
       "    </tr>\n",
       "  </thead>\n",
       "  <tbody>\n",
       "    <tr>\n",
       "      <th>0</th>\n",
       "      <td>1.110156</td>\n",
       "      <td>1.498388</td>\n",
       "      <td>4.557675</td>\n",
       "      <td>0.617296</td>\n",
       "      <td>0.860267</td>\n",
       "      <td>0.356864</td>\n",
       "    </tr>\n",
       "    <tr>\n",
       "      <th>1</th>\n",
       "      <td>0.120989</td>\n",
       "      <td>0.512079</td>\n",
       "      <td>-1.262072</td>\n",
       "      <td>3.970787</td>\n",
       "      <td>1.400017</td>\n",
       "      <td>2.509629</td>\n",
       "    </tr>\n",
       "    <tr>\n",
       "      <th>2</th>\n",
       "      <td>-2.799484</td>\n",
       "      <td>1.502255</td>\n",
       "      <td>0.906893</td>\n",
       "      <td>0.584498</td>\n",
       "      <td>1.011336</td>\n",
       "      <td>3.468955</td>\n",
       "    </tr>\n",
       "    <tr>\n",
       "      <th>3</th>\n",
       "      <td>-2.335671</td>\n",
       "      <td>2.268457</td>\n",
       "      <td>1.549620</td>\n",
       "      <td>-0.838585</td>\n",
       "      <td>2.794306</td>\n",
       "      <td>1.924333</td>\n",
       "    </tr>\n",
       "    <tr>\n",
       "      <th>4</th>\n",
       "      <td>-1.093006</td>\n",
       "      <td>0.588193</td>\n",
       "      <td>4.794145</td>\n",
       "      <td>2.161358</td>\n",
       "      <td>-0.060052</td>\n",
       "      <td>3.264167</td>\n",
       "    </tr>\n",
       "  </tbody>\n",
       "</table>\n",
       "</div>"
      ],
      "text/plain": [
       "   glen_park  north_beach  richmond    castro  hayes_valley   potrero\n",
       "0   1.110156     1.498388  4.557675  0.617296      0.860267  0.356864\n",
       "1   0.120989     0.512079 -1.262072  3.970787      1.400017  2.509629\n",
       "2  -2.799484     1.502255  0.906893  0.584498      1.011336  3.468955\n",
       "3  -2.335671     2.268457  1.549620 -0.838585      2.794306  1.924333\n",
       "4  -1.093006     0.588193  4.794145  2.161358     -0.060052  3.264167"
      ]
     },
     "execution_count": 209,
     "metadata": {},
     "output_type": "execute_result"
    }
   ],
   "source": [
    "X = data_new.drop(\"target\", axis = 1)\n",
    "y = data_new.target"
   ]
  },
  {
   "cell_type": "code",
   "execution_count": 208,
   "metadata": {
    "collapsed": true
   },
   "outputs": [],
   "source": [
    "X_train, X_test, y_train, y_test = train_test_split(X, y, test_size = 0.33,\n",
    "                                                   random_state = 45)"
   ]
  },
  {
   "cell_type": "code",
   "execution_count": 217,
   "metadata": {},
   "outputs": [
    {
     "data": {
      "text/plain": [
       "GridSearchCV(cv=5, error_score='raise',\n",
       "       estimator=DecisionTreeClassifier(class_weight=None, criterion='gini', max_depth=None,\n",
       "            max_features=None, max_leaf_nodes=None,\n",
       "            min_impurity_decrease=0.0, min_impurity_split=None,\n",
       "            min_samples_leaf=1, min_samples_split=2,\n",
       "            min_weight_fraction_leaf=0.0, presort=False, random_state=None,\n",
       "            splitter='best'),\n",
       "       fit_params={}, iid=True, n_jobs=1,\n",
       "       param_grid={'min_samples_split': [2, 10, 20], 'max_features': [1, 2, 3, 4, 5, 6], 'criterion': ['gini', 'entropy']},\n",
       "       pre_dispatch='2*n_jobs', refit=True, scoring='accuracy', verbose=0)"
      ]
     },
     "execution_count": 217,
     "metadata": {},
     "output_type": "execute_result"
    }
   ],
   "source": [
    "param_grid_dt[\"min_samples_split\"] = [2, 10, 20]\n",
    "param_grid_dt[\"max_features\"] = [1, 2, 3, 4, 5, 6]\n",
    "\n",
    "grid_dt = GridSearchCV(estimator = DecisionTreeClassifier(), \n",
    "                        param_grid = param_grid_dt, cv = 5, scoring = \"accuracy\")\n",
    "#Fit grid on data\n",
    "grid_dt.fit(X, y)"
   ]
  },
  {
   "cell_type": "code",
   "execution_count": 218,
   "metadata": {},
   "outputs": [
    {
     "data": {
      "text/plain": [
       "{'criterion': 'entropy', 'max_features': 6, 'min_samples_split': 20}"
      ]
     },
     "execution_count": 218,
     "metadata": {},
     "output_type": "execute_result"
    }
   ],
   "source": [
    "grid_dt.best_params_"
   ]
  },
  {
   "cell_type": "code",
   "execution_count": 219,
   "metadata": {},
   "outputs": [
    {
     "data": {
      "text/plain": [
       "0.78225"
      ]
     },
     "execution_count": 219,
     "metadata": {},
     "output_type": "execute_result"
    }
   ],
   "source": [
    "grid_dt.best_score_\n",
    "#having just 6 features gives us a worse score, although it still beats the null accuracy."
   ]
  },
  {
   "cell_type": "markdown",
   "metadata": {},
   "source": [
    "# AdaBoost Model Selection"
   ]
  },
  {
   "cell_type": "code",
   "execution_count": 220,
   "metadata": {
    "collapsed": true
   },
   "outputs": [],
   "source": [
    "from sklearn.ensemble import AdaBoostClassifier\n",
    "#Intialize AdaBoost with 150 estimators\n",
    "ada = AdaBoostClassifier(n_estimators=150)\n",
    "#150 estimators to start."
   ]
  },
  {
   "cell_type": "code",
   "execution_count": 224,
   "metadata": {
    "collapsed": true
   },
   "outputs": [],
   "source": [
    "X = data.drop(\"target\", axis = 1)\n",
    "y = data.target"
   ]
  },
  {
   "cell_type": "code",
   "execution_count": 225,
   "metadata": {},
   "outputs": [
    {
     "name": "stdout",
     "output_type": "stream",
     "text": [
      "(0.86231343283582085, 0.8113636363636364)\n"
     ]
    }
   ],
   "source": [
    "X_train, X_test, y_train, y_test = train_test_split(X, y, test_size = 0.33,\n",
    "                                                   random_state = 45)\n",
    "\n",
    "ada.fit(X_train, y_train)\n",
    "\n",
    "print (ada.score(X_train, y_train), ada.score(X_test, y_test))"
   ]
  },
  {
   "cell_type": "code",
   "execution_count": 226,
   "metadata": {},
   "outputs": [
    {
     "data": {
      "text/plain": [
       "0.80074193709677677"
      ]
     },
     "execution_count": 226,
     "metadata": {},
     "output_type": "execute_result"
    }
   ],
   "source": [
    "cross_val_score(AdaBoostClassifier(n_estimators=150), \n",
    "                X, y, cv = 5, scoring= \"accuracy\").mean()"
   ]
  },
  {
   "cell_type": "code",
   "execution_count": 228,
   "metadata": {
    "collapsed": true
   },
   "outputs": [],
   "source": [
    "#Range of neighbors to test the best depth value in the model\n",
    "est_range = range(50, 1050, 100)\n",
    "\n",
    "#Dictionary of parameter values \n",
    "param_grid_ada = {}\n",
    "param_grid_ada[\"n_estimators\"] = est_range\n"
   ]
  },
  {
   "cell_type": "code",
   "execution_count": 230,
   "metadata": {},
   "outputs": [
    {
     "data": {
      "text/plain": [
       "GridSearchCV(cv=5, error_score='raise',\n",
       "       estimator=AdaBoostClassifier(algorithm='SAMME.R', base_estimator=None,\n",
       "          learning_rate=1.0, n_estimators=50, random_state=None),\n",
       "       fit_params={}, iid=True, n_jobs=1,\n",
       "       param_grid={'n_estimators': [50, 150, 250, 350, 450, 550, 650, 750, 850, 950]},\n",
       "       pre_dispatch='2*n_jobs', refit=True, scoring='accuracy', verbose=0)"
      ]
     },
     "execution_count": 230,
     "metadata": {},
     "output_type": "execute_result"
    }
   ],
   "source": [
    "#Intialize Grid\n",
    "grid_ada = GridSearchCV(AdaBoostClassifier(), \n",
    "                       param_grid = param_grid_ada, cv = 5, scoring = \"accuracy\")\n",
    "\n",
    "#Fit grid on data\n",
    "grid_ada.fit(X, y)"
   ]
  },
  {
   "cell_type": "code",
   "execution_count": 232,
   "metadata": {},
   "outputs": [
    {
     "name": "stdout",
     "output_type": "stream",
     "text": [
      "{'n_estimators': 250}\n",
      "0.803\n"
     ]
    }
   ],
   "source": [
    "print grid_ada.best_params_\n",
    "print grid_ada.best_score_"
   ]
  },
  {
   "cell_type": "code",
   "execution_count": 323,
   "metadata": {},
   "outputs": [
    {
     "data": {
      "text/plain": [
       "0.80298724998007809"
      ]
     },
     "execution_count": 323,
     "metadata": {},
     "output_type": "execute_result"
    }
   ],
   "source": [
    "cross_val_score(AdaBoostClassifier(n_estimators=250), \n",
    "                X, y, cv = 5, scoring= \"accuracy\").mean()"
   ]
  },
  {
   "cell_type": "code",
   "execution_count": 417,
   "metadata": {},
   "outputs": [
    {
     "data": {
      "text/plain": [
       "[(0.12666666666666668, 'excelsior'),\n",
       " (0.12, 'richmond'),\n",
       " (0.08666666666666667, 'north_beach'),\n",
       " (0.08666666666666667, 'glen_park'),\n",
       " (0.080000000000000002, 'haight'),\n",
       " (0.080000000000000002, 'fillmore'),\n",
       " (0.066666666666666666, 'potrero'),\n",
       " (0.066666666666666666, 'castro'),\n",
       " (0.066666666666666666, 'bernal'),\n",
       " (0.059999999999999998, 'mission'),\n",
       " (0.059999999999999998, 'hayes_valley'),\n",
       " (0.040000000000000001, 'marina'),\n",
       " (0.033333333333333333, 'soma'),\n",
       " (0.026666666666666668, 'sunset')]"
      ]
     },
     "execution_count": 417,
     "metadata": {},
     "output_type": "execute_result"
    }
   ],
   "source": [
    "sorted(zip(ada.feature_importances_, X_test.columns), reverse = True)"
   ]
  },
  {
   "cell_type": "code",
   "execution_count": 338,
   "metadata": {
    "collapsed": true
   },
   "outputs": [],
   "source": [
    "# We will try to run the model again with the 6 top features from the ADABoost Model\n",
    "new_col_ada = ['excelsior', 'richmond', 'north_beach', 'glen_park', 'haight', 'fillmore']"
   ]
  },
  {
   "cell_type": "code",
   "execution_count": 343,
   "metadata": {},
   "outputs": [
    {
     "name": "stdout",
     "output_type": "stream",
     "text": [
      "['glen_park', 'north_beach', 'richmond', 'castro', 'hayes_valley', 'potrero', 'target']\n",
      "['excelsior', 'richmond', 'north_beach', 'glen_park', 'haight', 'fillmore']\n"
     ]
    }
   ],
   "source": [
    "print new_col_dt\n",
    "print new_col_ada"
   ]
  },
  {
   "cell_type": "code",
   "execution_count": 301,
   "metadata": {
    "collapsed": true
   },
   "outputs": [],
   "source": [
    "X2 = X[new_col2]"
   ]
  },
  {
   "cell_type": "code",
   "execution_count": 302,
   "metadata": {},
   "outputs": [
    {
     "data": {
      "text/plain": [
       "GridSearchCV(cv=5, error_score='raise',\n",
       "       estimator=AdaBoostClassifier(algorithm='SAMME.R', base_estimator=None,\n",
       "          learning_rate=1.0, n_estimators=50, random_state=None),\n",
       "       fit_params={}, iid=True, n_jobs=1,\n",
       "       param_grid={'n_estimators': [50, 150, 250, 350, 450, 550, 650, 750, 850, 950]},\n",
       "       pre_dispatch='2*n_jobs', refit=True, scoring='accuracy', verbose=0)"
      ]
     },
     "execution_count": 302,
     "metadata": {},
     "output_type": "execute_result"
    }
   ],
   "source": [
    "#Intialize Grid\n",
    "grid_ada = GridSearchCV(AdaBoostClassifier(), \n",
    "                       param_grid = param_grid_ada, cv = 5, scoring = \"accuracy\")\n",
    "\n",
    "#Fit grid on data\n",
    "grid_ada.fit(X2, y)"
   ]
  },
  {
   "cell_type": "code",
   "execution_count": 303,
   "metadata": {},
   "outputs": [
    {
     "name": "stdout",
     "output_type": "stream",
     "text": [
      "{'n_estimators': 150}\n",
      "0.7855\n"
     ]
    }
   ],
   "source": [
    "print grid_ada.best_params_\n",
    "print grid_ada.best_score_"
   ]
  },
  {
   "cell_type": "code",
   "execution_count": 305,
   "metadata": {},
   "outputs": [
    {
     "data": {
      "text/plain": [
       "[(0.12, 'haight'),\n",
       " (0.08666666666666667, 'fillmore'),\n",
       " (0.080000000000000002, 'excelsior'),\n",
       " (0.059999999999999998, 'richmond'),\n",
       " (0.033333333333333333, 'north_beach'),\n",
       " (0.026666666666666668, 'glen_park')]"
      ]
     },
     "execution_count": 305,
     "metadata": {},
     "output_type": "execute_result"
    }
   ],
   "source": [
    "sorted(zip(ada.feature_importances_, X2.columns), reverse = True)"
   ]
  },
  {
   "cell_type": "markdown",
   "metadata": {},
   "source": [
    "# Random Forest Model Selection"
   ]
  },
  {
   "cell_type": "code",
   "execution_count": 311,
   "metadata": {
    "collapsed": true
   },
   "outputs": [],
   "source": [
    "from sklearn.ensemble import RandomForestClassifier\n",
    "import matplotlib.pyplot as plt\n",
    "%matplotlib inline\n",
    "plt.style.use(\"ggplot\")"
   ]
  },
  {
   "cell_type": "code",
   "execution_count": 307,
   "metadata": {},
   "outputs": [
    {
     "data": {
      "text/plain": [
       "0.89318181818181819"
      ]
     },
     "execution_count": 307,
     "metadata": {},
     "output_type": "execute_result"
    }
   ],
   "source": [
    "rf = RandomForestClassifier(n_estimators= 100)\n",
    "rf.fit(X_train, y_train)\n",
    "\n",
    "rf.score(X_test, y_test)"
   ]
  },
  {
   "cell_type": "code",
   "execution_count": 322,
   "metadata": {
    "collapsed": true
   },
   "outputs": [],
   "source": [
    "estimator_range = range(10, 250, 10)\n",
    "\n",
    "cv_scores = []\n",
    "\n",
    "for estimator in estimator_range:\n",
    "    model = RandomForestClassifier(n_estimators= estimator)\n",
    "    score = cross_val_score(model, X, y, cv = 5, scoring = \"accuracy\").mean()\n",
    "    cv_scores.append(score)"
   ]
  },
  {
   "cell_type": "code",
   "execution_count": 315,
   "metadata": {},
   "outputs": [
    {
     "data": {
      "text/plain": [
       "[(0.90549488046075077, 220),\n",
       " (0.90374737890215451, 240),\n",
       " (0.90374456756963684, 190),\n",
       " (0.90349487811699714, 210),\n",
       " (0.90349331522393006, 230),\n",
       " (0.90299612733769885, 200),\n",
       " (0.90299456600713446, 180),\n",
       " (0.90299394100615782, 170),\n",
       " (0.90174768632450986, 130),\n",
       " (0.90150018945342103, 140),\n",
       " (0.90124737421464718, 160),\n",
       " (0.90074331209892533, 110),\n",
       " (0.90074237498808585, 70),\n",
       " (0.9004976855432586, 90),\n",
       " (0.90024300077031383, 100),\n",
       " (0.89999112576738405, 150),\n",
       " (0.89899018553153986, 120),\n",
       " (0.89799737265214463, 60),\n",
       " (0.89774331053642276, 80),\n",
       " (0.8957454960867125, 50),\n",
       " (0.89549455585086846, 40),\n",
       " (0.88973767615261889, 30),\n",
       " (0.88774579725905822, 20),\n",
       " (0.87374265506664861, 10)]"
      ]
     },
     "execution_count": 315,
     "metadata": {},
     "output_type": "execute_result"
    }
   ],
   "source": [
    "sorted(zip(cv_scores, estimator_range), reverse = True)"
   ]
  },
  {
   "cell_type": "code",
   "execution_count": 316,
   "metadata": {},
   "outputs": [
    {
     "data": {
      "text/plain": [
       "RandomForestClassifier(bootstrap=True, class_weight=None, criterion='gini',\n",
       "            max_depth=None, max_features='auto', max_leaf_nodes=None,\n",
       "            min_impurity_decrease=0.0, min_impurity_split=None,\n",
       "            min_samples_leaf=1, min_samples_split=2,\n",
       "            min_weight_fraction_leaf=0.0, n_estimators=220, n_jobs=1,\n",
       "            oob_score=False, random_state=None, verbose=0,\n",
       "            warm_start=False)"
      ]
     },
     "execution_count": 316,
     "metadata": {},
     "output_type": "execute_result"
    }
   ],
   "source": [
    "# run model again with best parameters\n",
    "rf = RandomForestClassifier(n_estimators=220)\n",
    "\n",
    "X_train, X_test, y_train, y_test = train_test_split(X, y, test_size = 0.33,\n",
    "                                                   random_state = 45)\n",
    "\n",
    "rf.fit(X_train, y_train)"
   ]
  },
  {
   "cell_type": "code",
   "execution_count": 317,
   "metadata": {
    "collapsed": true
   },
   "outputs": [],
   "source": [
    "from sklearn.metrics import confusion_matrix"
   ]
  },
  {
   "cell_type": "code",
   "execution_count": 319,
   "metadata": {},
   "outputs": [
    {
     "data": {
      "text/html": [
       "<div>\n",
       "<style>\n",
       "    .dataframe thead tr:only-child th {\n",
       "        text-align: right;\n",
       "    }\n",
       "\n",
       "    .dataframe thead th {\n",
       "        text-align: left;\n",
       "    }\n",
       "\n",
       "    .dataframe tbody tr th {\n",
       "        vertical-align: top;\n",
       "    }\n",
       "</style>\n",
       "<table border=\"1\" class=\"dataframe\">\n",
       "  <thead>\n",
       "    <tr style=\"text-align: right;\">\n",
       "      <th></th>\n",
       "      <th>0</th>\n",
       "      <th>1</th>\n",
       "    </tr>\n",
       "  </thead>\n",
       "  <tbody>\n",
       "    <tr>\n",
       "      <th>0</th>\n",
       "      <td>779</td>\n",
       "      <td>38</td>\n",
       "    </tr>\n",
       "    <tr>\n",
       "      <th>1</th>\n",
       "      <td>101</td>\n",
       "      <td>402</td>\n",
       "    </tr>\n",
       "  </tbody>\n",
       "</table>\n",
       "</div>"
      ],
      "text/plain": [
       "     0    1\n",
       "0  779   38\n",
       "1  101  402"
      ]
     },
     "execution_count": 319,
     "metadata": {},
     "output_type": "execute_result"
    }
   ],
   "source": [
    "preds = rf.predict(X_test)\n",
    "cm = confusion_matrix(y_test, preds)\n",
    "cm = pd.DataFrame(cm)\n",
    "cm"
   ]
  },
  {
   "cell_type": "code",
   "execution_count": 332,
   "metadata": {},
   "outputs": [
    {
     "data": {
      "text/plain": [
       "[(0.11825558293633136, 'north_beach'),\n",
       " (0.10967452455951766, 'richmond'),\n",
       " (0.10443257880132081, 'glen_park'),\n",
       " (0.090402091072399007, 'potrero'),\n",
       " (0.085980857447167228, 'excelsior'),\n",
       " (0.084360102101654594, 'castro'),\n",
       " (0.073277418567490635, 'mission'),\n",
       " (0.07233647057560473, 'haight'),\n",
       " (0.071994790171561865, 'hayes_valley'),\n",
       " (0.069644849197262992, 'bernal'),\n",
       " (0.030408516877561281, 'fillmore'),\n",
       " (0.030151591386553142, 'sunset'),\n",
       " (0.029649953228528078, 'marina'),\n",
       " (0.029430673077046568, 'soma')]"
      ]
     },
     "execution_count": 332,
     "metadata": {},
     "output_type": "execute_result"
    }
   ],
   "source": [
    "sorted(zip(rf.feature_importances_, X_train.columns), reverse = True)"
   ]
  },
  {
   "cell_type": "code",
   "execution_count": 348,
   "metadata": {},
   "outputs": [
    {
     "name": "stdout",
     "output_type": "stream",
     "text": [
      "0.854796641992\n",
      "0.867364562672\n",
      "0.960117679355\n"
     ]
    }
   ],
   "source": [
    "# we need to compare ROC_AUC for DT, AdaBoost, and RF models\n",
    "print cross_val_score(DecisionTreeClassifier(max_depth=8, min_samples_split= 10, max_features= 9), \n",
    "                X, y, cv = 5, scoring=\"roc_auc\").mean()\n",
    "print cross_val_score(AdaBoostClassifier(n_estimators= 250), X, y, cv = 5, scoring=\"roc_auc\").mean()\n",
    "print cross_val_score(RandomForestClassifier(n_estimators= 220), X, y, cv = 5, scoring=\"roc_auc\").mean()"
   ]
  },
  {
   "cell_type": "code",
   "execution_count": 334,
   "metadata": {
    "collapsed": true
   },
   "outputs": [],
   "source": [
    "new_col_rf = ['north_beach', 'richmond', 'glen_park', 'potrero', 'excelsior', 'castro']"
   ]
  },
  {
   "cell_type": "markdown",
   "metadata": {},
   "source": [
    "# Model Summary"
   ]
  },
  {
   "cell_type": "code",
   "execution_count": 344,
   "metadata": {},
   "outputs": [
    {
     "name": "stdout",
     "output_type": "stream",
     "text": [
      "['glen_park', 'north_beach', 'richmond', 'castro', 'hayes_valley', 'potrero', 'target']\n",
      "['excelsior', 'richmond', 'north_beach', 'glen_park', 'haight', 'fillmore']\n",
      "['north_beach', 'richmond', 'glen_park', 'potrero', 'excelsior', 'castro']\n"
     ]
    }
   ],
   "source": [
    "print new_col_dt\n",
    "print new_col_ada\n",
    "print new_col_rf"
   ]
  },
  {
   "cell_type": "code",
   "execution_count": null,
   "metadata": {
    "collapsed": true
   },
   "outputs": [],
   "source": [
    "# the 3 models seem to have glen_park, north_beach, and richmond consistently. We will run a model with just these."
   ]
  },
  {
   "cell_type": "code",
   "execution_count": 359,
   "metadata": {
    "collapsed": true
   },
   "outputs": [],
   "source": [
    "new_col = ['glen_park', 'north_beach', 'richmond']"
   ]
  },
  {
   "cell_type": "code",
   "execution_count": 362,
   "metadata": {
    "collapsed": true
   },
   "outputs": [],
   "source": [
    "XX = X[new_col]"
   ]
  },
  {
   "cell_type": "code",
   "execution_count": 364,
   "metadata": {
    "collapsed": true
   },
   "outputs": [],
   "source": [
    "#Range of neighbors to test\n",
    "Estimator_range = range(10, 250, 10)\n",
    "\n",
    "#Dictionary of parameter values \n",
    "param_grid_rf = {}\n",
    "param_grid_rf[\"n_estimators\"] = Estimator_range"
   ]
  },
  {
   "cell_type": "code",
   "execution_count": 365,
   "metadata": {},
   "outputs": [
    {
     "data": {
      "text/plain": [
       "GridSearchCV(cv=5, error_score='raise',\n",
       "       estimator=RandomForestClassifier(bootstrap=True, class_weight=None, criterion='gini',\n",
       "            max_depth=None, max_features='auto', max_leaf_nodes=None,\n",
       "            min_impurity_decrease=0.0, min_impurity_split=None,\n",
       "            min_samples_leaf=1, min_samples_split=2,\n",
       "            min_weight_fraction_leaf=0.0, n_estimators=10, n_jobs=1,\n",
       "            oob_score=False, random_state=None, verbose=0,\n",
       "            warm_start=False),\n",
       "       fit_params={}, iid=True, n_jobs=1,\n",
       "       param_grid={'n_estimators': [10, 20, 30, 40, 50, 60, 70, 80, 90, 100, 110, 120, 130, 140, 150, 160, 170, 180, 190, 200, 210, 220, 230, 240]},\n",
       "       pre_dispatch='2*n_jobs', refit=True, scoring='accuracy', verbose=0)"
      ]
     },
     "execution_count": 365,
     "metadata": {},
     "output_type": "execute_result"
    }
   ],
   "source": [
    "#Intialize Grid\n",
    "grid_rf = GridSearchCV(RandomForestClassifier(), param_grid = param_grid_rf, cv = 5, scoring = \"accuracy\")\n",
    "\n",
    "#Fit grid on scaled data\n",
    "grid_rf.fit(XX, y)"
   ]
  },
  {
   "cell_type": "code",
   "execution_count": 373,
   "metadata": {},
   "outputs": [
    {
     "data": {
      "text/plain": [
       "[mean: 0.71225, std: 0.02004, params: {'n_estimators': 10},\n",
       " mean: 0.72600, std: 0.01825, params: {'n_estimators': 20},\n",
       " mean: 0.72650, std: 0.01809, params: {'n_estimators': 30},\n",
       " mean: 0.71850, std: 0.00816, params: {'n_estimators': 40},\n",
       " mean: 0.71475, std: 0.01565, params: {'n_estimators': 50}]"
      ]
     },
     "execution_count": 373,
     "metadata": {},
     "output_type": "execute_result"
    }
   ],
   "source": [
    "grid_rf.grid_scores_[:5]"
   ]
  },
  {
   "cell_type": "code",
   "execution_count": 371,
   "metadata": {},
   "outputs": [
    {
     "name": "stdout",
     "output_type": "stream",
     "text": [
      "{'n_estimators': 30}\n",
      "0.7265\n",
      "RandomForestClassifier(bootstrap=True, class_weight=None, criterion='gini',\n",
      "            max_depth=None, max_features='auto', max_leaf_nodes=None,\n",
      "            min_impurity_decrease=0.0, min_impurity_split=None,\n",
      "            min_samples_leaf=1, min_samples_split=2,\n",
      "            min_weight_fraction_leaf=0.0, n_estimators=30, n_jobs=1,\n",
      "            oob_score=False, random_state=None, verbose=0,\n",
      "            warm_start=False)\n"
     ]
    }
   ],
   "source": [
    "print grid_rf.best_params_\n",
    "print grid_rf.best_score_\n",
    "print grid_rf.best_estimator_"
   ]
  },
  {
   "cell_type": "code",
   "execution_count": 370,
   "metadata": {},
   "outputs": [
    {
     "data": {
      "text/plain": [
       "0    0.63825\n",
       "1    0.36175\n",
       "Name: target, dtype: float64"
      ]
     },
     "execution_count": 370,
     "metadata": {},
     "output_type": "execute_result"
    }
   ],
   "source": [
    "y.value_counts(normalize= True)"
   ]
  },
  {
   "cell_type": "code",
   "execution_count": 374,
   "metadata": {},
   "outputs": [
    {
     "data": {
      "text/plain": [
       "[(0.073277418567490635, 'north_beach'),\n",
       " (0.07233647057560473, 'glen_park'),\n",
       " (0.029430673077046568, 'richmond')]"
      ]
     },
     "execution_count": 374,
     "metadata": {},
     "output_type": "execute_result"
    }
   ],
   "source": [
    "# Rank the top 3 features:\n",
    "sorted(zip(rf.feature_importances_, XX.columns), reverse = True)"
   ]
  },
  {
   "cell_type": "code",
   "execution_count": 375,
   "metadata": {},
   "outputs": [
    {
     "name": "stdout",
     "output_type": "stream",
     "text": [
      "0.761326844844\n"
     ]
    }
   ],
   "source": [
    "print cross_val_score(RandomForestClassifier(n_estimators= 30), XX, y, cv = 5, scoring=\"roc_auc\").mean()"
   ]
  },
  {
   "cell_type": "code",
   "execution_count": null,
   "metadata": {
    "collapsed": true
   },
   "outputs": [],
   "source": [
    "# With just 3 features, we are still able to beat the null accuracy score! "
   ]
  },
  {
   "cell_type": "markdown",
   "metadata": {},
   "source": [
    "## Section 3: Movie Revenue Prediction\n",
    "\n",
    "Use the movie_metadata dataset to fit a regression model to predict gross. Use Linear, Polynomial, Ridge, Lasso regression. Use rMSE as your evaluation metric.\n",
    "\n",
    "<br>\n",
    "\n",
    "Once you've made the best possible model, I want you to pick three movies that are set to be released in January or February 2018 and use the model to predict how much revenue those movies will bring in."
   ]
  },
  {
   "cell_type": "code",
   "execution_count": 29,
   "metadata": {},
   "outputs": [
    {
     "data": {
      "text/plain": [
       "(5043, 28)"
      ]
     },
     "execution_count": 29,
     "metadata": {},
     "output_type": "execute_result"
    }
   ],
   "source": [
    "movies = pd.read_csv(\"../data/movie_metadata.csv\")\n",
    "\n",
    "movies.shape"
   ]
  },
  {
   "cell_type": "code",
   "execution_count": 4,
   "metadata": {},
   "outputs": [
    {
     "data": {
      "text/plain": [
       "48468407.52680933"
      ]
     },
     "execution_count": 4,
     "metadata": {},
     "output_type": "execute_result"
    }
   ],
   "source": [
    "movies.gross.mean()"
   ]
  },
  {
   "cell_type": "code",
   "execution_count": 380,
   "metadata": {},
   "outputs": [
    {
     "name": "stdout",
     "output_type": "stream",
     "text": [
      "<class 'pandas.core.frame.DataFrame'>\n",
      "RangeIndex: 5043 entries, 0 to 5042\n",
      "Data columns (total 28 columns):\n",
      "color                        5024 non-null object\n",
      "director_name                4939 non-null object\n",
      "num_critic_for_reviews       4993 non-null float64\n",
      "duration                     5028 non-null float64\n",
      "director_facebook_likes      4939 non-null float64\n",
      "actor_3_facebook_likes       5020 non-null float64\n",
      "actor_2_name                 5030 non-null object\n",
      "actor_1_facebook_likes       5036 non-null float64\n",
      "gross                        4159 non-null float64\n",
      "genres                       5043 non-null object\n",
      "actor_1_name                 5036 non-null object\n",
      "movie_title                  5043 non-null object\n",
      "num_voted_users              5043 non-null int64\n",
      "cast_total_facebook_likes    5043 non-null int64\n",
      "actor_3_name                 5020 non-null object\n",
      "facenumber_in_poster         5030 non-null float64\n",
      "plot_keywords                4890 non-null object\n",
      "movie_imdb_link              5043 non-null object\n",
      "num_user_for_reviews         5022 non-null float64\n",
      "language                     5031 non-null object\n",
      "country                      5038 non-null object\n",
      "content_rating               4740 non-null object\n",
      "budget                       4551 non-null float64\n",
      "title_year                   4935 non-null float64\n",
      "actor_2_facebook_likes       5030 non-null float64\n",
      "imdb_score                   5043 non-null float64\n",
      "aspect_ratio                 4714 non-null float64\n",
      "movie_facebook_likes         5043 non-null int64\n",
      "dtypes: float64(13), int64(3), object(12)\n",
      "memory usage: 1.1+ MB\n"
     ]
    }
   ],
   "source": [
    "# EDA\n",
    "movies.info()"
   ]
  },
  {
   "cell_type": "code",
   "execution_count": 383,
   "metadata": {},
   "outputs": [
    {
     "data": {
      "text/plain": [
       "USA        0.755657\n",
       "UK         0.088924\n",
       "France     0.030568\n",
       "Canada     0.025010\n",
       "Germany    0.019254\n",
       "Name: country, dtype: float64"
      ]
     },
     "execution_count": 383,
     "metadata": {},
     "output_type": "execute_result"
    }
   ],
   "source": [
    "movies.country.value_counts(normalize= True)[:5]\n",
    "# we will only use USA."
   ]
  },
  {
   "cell_type": "code",
   "execution_count": 901,
   "metadata": {},
   "outputs": [
    {
     "name": "stdout",
     "output_type": "stream",
     "text": [
      "1920.0\n",
      "2016.0\n"
     ]
    }
   ],
   "source": [
    "print movies.title_year.min()\n",
    "print movies.title_year.max()"
   ]
  },
  {
   "cell_type": "code",
   "execution_count": 903,
   "metadata": {},
   "outputs": [
    {
     "name": "stdout",
     "output_type": "stream",
     "text": [
      "45854762.1102\n",
      "25000000.0\n",
      "0    20000000.0\n",
      "dtype: float64\n"
     ]
    }
   ],
   "source": [
    "print movies.budget.mean()\n",
    "print movies.budget.median()\n",
    "print movies.budget.mode()"
   ]
  },
  {
   "cell_type": "code",
   "execution_count": 386,
   "metadata": {},
   "outputs": [
    {
     "data": {
      "text/plain": [
       "Color               4815\n",
       " Black and White     209\n",
       "Name: color, dtype: int64"
      ]
     },
     "execution_count": 386,
     "metadata": {},
     "output_type": "execute_result"
    }
   ],
   "source": [
    "movies.color.value_counts()\n",
    "#drop "
   ]
  },
  {
   "cell_type": "code",
   "execution_count": 401,
   "metadata": {},
   "outputs": [
    {
     "data": {
      "text/plain": [
       "R            2118\n",
       "PG-13        1461\n",
       "PG            701\n",
       "Not Rated     116\n",
       "G             112\n",
       "Unrated        62\n",
       "Approved       55\n",
       "TV-14          30\n",
       "TV-MA          20\n",
       "X              13\n",
       "TV-PG          13\n",
       "TV-G           10\n",
       "Passed          9\n",
       "NC-17           7\n",
       "GP              6\n",
       "M               5\n",
       "TV-Y7           1\n",
       "TV-Y            1\n",
       "Name: content_rating, dtype: int64"
      ]
     },
     "execution_count": 401,
     "metadata": {},
     "output_type": "execute_result"
    }
   ],
   "source": [
    "movies.content_rating.value_counts()\n",
    "#keep only Movie Ratings and not TV ratings."
   ]
  },
  {
   "cell_type": "code",
   "execution_count": 916,
   "metadata": {},
   "outputs": [
    {
     "data": {
      "text/plain": [
       "gross                        1.000000\n",
       "num_voted_users              0.637271\n",
       "num_user_for_reviews         0.559958\n",
       "num_critic_for_reviews       0.480601\n",
       "movie_facebook_likes         0.378082\n",
       "actor_3_facebook_likes       0.308026\n",
       "actor_2_facebook_likes       0.262768\n",
       "duration                     0.250298\n",
       "cast_total_facebook_likes    0.247400\n",
       "imdb_score                   0.198021\n",
       "actor_1_facebook_likes       0.154468\n",
       "director_facebook_likes      0.144945\n",
       "budget                       0.102179\n",
       "aspect_ratio                 0.069346\n",
       "title_year                   0.030886\n",
       "facenumber_in_poster        -0.027755\n",
       "Name: gross, dtype: float64"
      ]
     },
     "execution_count": 916,
     "metadata": {},
     "output_type": "execute_result"
    }
   ],
   "source": [
    "# take a look at what's correlated with Gross.\n",
    "movies.corr()[\"gross\"].sort_values(ascending = False)"
   ]
  },
  {
   "cell_type": "code",
   "execution_count": 909,
   "metadata": {},
   "outputs": [
    {
     "data": {
      "text/html": [
       "<div>\n",
       "<style>\n",
       "    .dataframe thead tr:only-child th {\n",
       "        text-align: right;\n",
       "    }\n",
       "\n",
       "    .dataframe thead th {\n",
       "        text-align: left;\n",
       "    }\n",
       "\n",
       "    .dataframe tbody tr th {\n",
       "        vertical-align: top;\n",
       "    }\n",
       "</style>\n",
       "<table border=\"1\" class=\"dataframe\">\n",
       "  <thead>\n",
       "    <tr style=\"text-align: right;\">\n",
       "      <th></th>\n",
       "      <th>num_critic_for_reviews</th>\n",
       "      <th>director_facebook_likes</th>\n",
       "      <th>actor_3_facebook_likes</th>\n",
       "      <th>actor_1_facebook_likes</th>\n",
       "      <th>gross</th>\n",
       "      <th>cast_total_facebook_likes</th>\n",
       "      <th>facenumber_in_poster</th>\n",
       "      <th>budget</th>\n",
       "      <th>title_year</th>\n",
       "      <th>actor_2_facebook_likes</th>\n",
       "      <th>imdb_score</th>\n",
       "      <th>aspect_ratio</th>\n",
       "      <th>movie_facebook_likes</th>\n",
       "      <th>rating_Not Rated</th>\n",
       "      <th>rating_PG</th>\n",
       "      <th>rating_PG-13</th>\n",
       "      <th>rating_R</th>\n",
       "      <th>rating_Unrated</th>\n",
       "    </tr>\n",
       "  </thead>\n",
       "  <tbody>\n",
       "    <tr>\n",
       "      <th>count</th>\n",
       "      <td>3801.000000</td>\n",
       "      <td>3801.000000</td>\n",
       "      <td>3801.000000</td>\n",
       "      <td>3801.000000</td>\n",
       "      <td>3.801000e+03</td>\n",
       "      <td>3801.000000</td>\n",
       "      <td>3801.000000</td>\n",
       "      <td>3.801000e+03</td>\n",
       "      <td>3801.000000</td>\n",
       "      <td>3801.000000</td>\n",
       "      <td>3801.000000</td>\n",
       "      <td>3801.000000</td>\n",
       "      <td>3801.000000</td>\n",
       "      <td>3801.000000</td>\n",
       "      <td>3801.000000</td>\n",
       "      <td>3801.000000</td>\n",
       "      <td>3801.000000</td>\n",
       "      <td>3801.000000</td>\n",
       "    </tr>\n",
       "    <tr>\n",
       "      <th>mean</th>\n",
       "      <td>165.848724</td>\n",
       "      <td>798.599053</td>\n",
       "      <td>763.819521</td>\n",
       "      <td>7673.008419</td>\n",
       "      <td>5.200576e+07</td>\n",
       "      <td>11414.850303</td>\n",
       "      <td>1.379111</td>\n",
       "      <td>4.585476e+07</td>\n",
       "      <td>2002.998421</td>\n",
       "      <td>2003.269666</td>\n",
       "      <td>6.466035</td>\n",
       "      <td>2.110163</td>\n",
       "      <td>9262.204946</td>\n",
       "      <td>0.008945</td>\n",
       "      <td>0.149171</td>\n",
       "      <td>0.345435</td>\n",
       "      <td>0.449619</td>\n",
       "      <td>0.006051</td>\n",
       "    </tr>\n",
       "    <tr>\n",
       "      <th>std</th>\n",
       "      <td>123.564807</td>\n",
       "      <td>3051.030222</td>\n",
       "      <td>1884.372443</td>\n",
       "      <td>15448.143479</td>\n",
       "      <td>7.012065e+07</td>\n",
       "      <td>19045.793637</td>\n",
       "      <td>2.052899</td>\n",
       "      <td>2.247196e+08</td>\n",
       "      <td>9.953391</td>\n",
       "      <td>4524.480539</td>\n",
       "      <td>1.057642</td>\n",
       "      <td>0.352354</td>\n",
       "      <td>21359.446963</td>\n",
       "      <td>0.094167</td>\n",
       "      <td>0.356304</td>\n",
       "      <td>0.475573</td>\n",
       "      <td>0.497521</td>\n",
       "      <td>0.077563</td>\n",
       "    </tr>\n",
       "    <tr>\n",
       "      <th>min</th>\n",
       "      <td>1.000000</td>\n",
       "      <td>0.000000</td>\n",
       "      <td>0.000000</td>\n",
       "      <td>0.000000</td>\n",
       "      <td>1.620000e+02</td>\n",
       "      <td>0.000000</td>\n",
       "      <td>0.000000</td>\n",
       "      <td>2.180000e+02</td>\n",
       "      <td>1920.000000</td>\n",
       "      <td>0.000000</td>\n",
       "      <td>1.600000</td>\n",
       "      <td>1.180000</td>\n",
       "      <td>0.000000</td>\n",
       "      <td>0.000000</td>\n",
       "      <td>0.000000</td>\n",
       "      <td>0.000000</td>\n",
       "      <td>0.000000</td>\n",
       "      <td>0.000000</td>\n",
       "    </tr>\n",
       "    <tr>\n",
       "      <th>25%</th>\n",
       "      <td>75.000000</td>\n",
       "      <td>11.000000</td>\n",
       "      <td>187.000000</td>\n",
       "      <td>736.000000</td>\n",
       "      <td>7.689458e+06</td>\n",
       "      <td>1865.000000</td>\n",
       "      <td>0.000000</td>\n",
       "      <td>1.000000e+07</td>\n",
       "      <td>1999.000000</td>\n",
       "      <td>374.000000</td>\n",
       "      <td>5.900000</td>\n",
       "      <td>1.850000</td>\n",
       "      <td>0.000000</td>\n",
       "      <td>0.000000</td>\n",
       "      <td>0.000000</td>\n",
       "      <td>0.000000</td>\n",
       "      <td>0.000000</td>\n",
       "      <td>0.000000</td>\n",
       "    </tr>\n",
       "    <tr>\n",
       "      <th>50%</th>\n",
       "      <td>137.000000</td>\n",
       "      <td>62.000000</td>\n",
       "      <td>433.000000</td>\n",
       "      <td>1000.000000</td>\n",
       "      <td>2.920000e+07</td>\n",
       "      <td>3969.000000</td>\n",
       "      <td>1.000000</td>\n",
       "      <td>2.500000e+07</td>\n",
       "      <td>2005.000000</td>\n",
       "      <td>680.000000</td>\n",
       "      <td>6.600000</td>\n",
       "      <td>2.350000</td>\n",
       "      <td>224.000000</td>\n",
       "      <td>0.000000</td>\n",
       "      <td>0.000000</td>\n",
       "      <td>0.000000</td>\n",
       "      <td>0.000000</td>\n",
       "      <td>0.000000</td>\n",
       "    </tr>\n",
       "    <tr>\n",
       "      <th>75%</th>\n",
       "      <td>223.000000</td>\n",
       "      <td>234.000000</td>\n",
       "      <td>690.000000</td>\n",
       "      <td>13000.000000</td>\n",
       "      <td>6.646637e+07</td>\n",
       "      <td>16143.000000</td>\n",
       "      <td>2.000000</td>\n",
       "      <td>5.000000e+07</td>\n",
       "      <td>2010.000000</td>\n",
       "      <td>975.000000</td>\n",
       "      <td>7.200000</td>\n",
       "      <td>2.350000</td>\n",
       "      <td>11000.000000</td>\n",
       "      <td>0.000000</td>\n",
       "      <td>0.000000</td>\n",
       "      <td>1.000000</td>\n",
       "      <td>1.000000</td>\n",
       "      <td>0.000000</td>\n",
       "    </tr>\n",
       "    <tr>\n",
       "      <th>max</th>\n",
       "      <td>813.000000</td>\n",
       "      <td>23000.000000</td>\n",
       "      <td>23000.000000</td>\n",
       "      <td>640000.000000</td>\n",
       "      <td>7.605058e+08</td>\n",
       "      <td>656730.000000</td>\n",
       "      <td>43.000000</td>\n",
       "      <td>1.221550e+10</td>\n",
       "      <td>2016.000000</td>\n",
       "      <td>137000.000000</td>\n",
       "      <td>9.300000</td>\n",
       "      <td>16.000000</td>\n",
       "      <td>349000.000000</td>\n",
       "      <td>1.000000</td>\n",
       "      <td>1.000000</td>\n",
       "      <td>1.000000</td>\n",
       "      <td>1.000000</td>\n",
       "      <td>1.000000</td>\n",
       "    </tr>\n",
       "  </tbody>\n",
       "</table>\n",
       "</div>"
      ],
      "text/plain": [
       "       num_critic_for_reviews  director_facebook_likes  \\\n",
       "count             3801.000000              3801.000000   \n",
       "mean               165.848724               798.599053   \n",
       "std                123.564807              3051.030222   \n",
       "min                  1.000000                 0.000000   \n",
       "25%                 75.000000                11.000000   \n",
       "50%                137.000000                62.000000   \n",
       "75%                223.000000               234.000000   \n",
       "max                813.000000             23000.000000   \n",
       "\n",
       "       actor_3_facebook_likes  actor_1_facebook_likes         gross  \\\n",
       "count             3801.000000             3801.000000  3.801000e+03   \n",
       "mean               763.819521             7673.008419  5.200576e+07   \n",
       "std               1884.372443            15448.143479  7.012065e+07   \n",
       "min                  0.000000                0.000000  1.620000e+02   \n",
       "25%                187.000000              736.000000  7.689458e+06   \n",
       "50%                433.000000             1000.000000  2.920000e+07   \n",
       "75%                690.000000            13000.000000  6.646637e+07   \n",
       "max              23000.000000           640000.000000  7.605058e+08   \n",
       "\n",
       "       cast_total_facebook_likes  facenumber_in_poster        budget  \\\n",
       "count                3801.000000           3801.000000  3.801000e+03   \n",
       "mean                11414.850303              1.379111  4.585476e+07   \n",
       "std                 19045.793637              2.052899  2.247196e+08   \n",
       "min                     0.000000              0.000000  2.180000e+02   \n",
       "25%                  1865.000000              0.000000  1.000000e+07   \n",
       "50%                  3969.000000              1.000000  2.500000e+07   \n",
       "75%                 16143.000000              2.000000  5.000000e+07   \n",
       "max                656730.000000             43.000000  1.221550e+10   \n",
       "\n",
       "        title_year  actor_2_facebook_likes   imdb_score  aspect_ratio  \\\n",
       "count  3801.000000             3801.000000  3801.000000   3801.000000   \n",
       "mean   2002.998421             2003.269666     6.466035      2.110163   \n",
       "std       9.953391             4524.480539     1.057642      0.352354   \n",
       "min    1920.000000                0.000000     1.600000      1.180000   \n",
       "25%    1999.000000              374.000000     5.900000      1.850000   \n",
       "50%    2005.000000              680.000000     6.600000      2.350000   \n",
       "75%    2010.000000              975.000000     7.200000      2.350000   \n",
       "max    2016.000000           137000.000000     9.300000     16.000000   \n",
       "\n",
       "       movie_facebook_likes  rating_Not Rated    rating_PG  rating_PG-13  \\\n",
       "count           3801.000000       3801.000000  3801.000000   3801.000000   \n",
       "mean            9262.204946          0.008945     0.149171      0.345435   \n",
       "std            21359.446963          0.094167     0.356304      0.475573   \n",
       "min                0.000000          0.000000     0.000000      0.000000   \n",
       "25%                0.000000          0.000000     0.000000      0.000000   \n",
       "50%              224.000000          0.000000     0.000000      0.000000   \n",
       "75%            11000.000000          0.000000     0.000000      1.000000   \n",
       "max           349000.000000          1.000000     1.000000      1.000000   \n",
       "\n",
       "          rating_R  rating_Unrated  \n",
       "count  3801.000000     3801.000000  \n",
       "mean      0.449619        0.006051  \n",
       "std       0.497521        0.077563  \n",
       "min       0.000000        0.000000  \n",
       "25%       0.000000        0.000000  \n",
       "50%       0.000000        0.000000  \n",
       "75%       1.000000        0.000000  \n",
       "max       1.000000        1.000000  "
      ]
     },
     "execution_count": 909,
     "metadata": {},
     "output_type": "execute_result"
    }
   ],
   "source": [
    "movies.describe()"
   ]
  },
  {
   "cell_type": "code",
   "execution_count": 917,
   "metadata": {
    "scrolled": true
   },
   "outputs": [
    {
     "data": {
      "text/plain": [
       "genres\n",
       "Family|Sci-Fi                                      4.349495e+08\n",
       "Adventure|Animation|Drama|Family|Musical           4.227838e+08\n",
       "Adventure|Animation|Comedy|Drama|Family|Fantasy    3.564544e+08\n",
       "Action|Biography|Drama|History|Thriller|War        3.501236e+08\n",
       "Action|Adventure|Fantasy|Sci-Fi                    2.966848e+08\n",
       "Name: gross, dtype: float64"
      ]
     },
     "execution_count": 917,
     "metadata": {},
     "output_type": "execute_result"
    }
   ],
   "source": [
    "movies.groupby(\"genres\")['gross'].mean().sort_values(ascending = False)[:5]"
   ]
  },
  {
   "cell_type": "code",
   "execution_count": 413,
   "metadata": {},
   "outputs": [
    {
     "data": {
      "text/plain": [
       "914"
      ]
     },
     "execution_count": 413,
     "metadata": {},
     "output_type": "execute_result"
    }
   ],
   "source": [
    "movies.genres.nunique()\n",
    "#over 900 unique genre's with various combinations. We will drop column."
   ]
  },
  {
   "cell_type": "code",
   "execution_count": 422,
   "metadata": {},
   "outputs": [
    {
     "data": {
      "text/plain": [
       "4760"
      ]
     },
     "execution_count": 422,
     "metadata": {},
     "output_type": "execute_result"
    }
   ],
   "source": [
    "movies.plot_keywords.nunique()\n",
    "#drop"
   ]
  },
  {
   "cell_type": "code",
   "execution_count": null,
   "metadata": {
    "collapsed": true
   },
   "outputs": [],
   "source": []
  },
  {
   "cell_type": "code",
   "execution_count": 421,
   "metadata": {},
   "outputs": [
    {
     "data": {
      "text/plain": [
       "['color',\n",
       " 'director_name',\n",
       " 'actor_2_name',\n",
       " 'genres',\n",
       " 'actor_1_name',\n",
       " 'movie_title',\n",
       " 'actor_3_name',\n",
       " 'plot_keywords',\n",
       " 'movie_imdb_link',\n",
       " 'language',\n",
       " 'country',\n",
       " 'content_rating']"
      ]
     },
     "execution_count": 421,
     "metadata": {},
     "output_type": "execute_result"
    }
   ],
   "source": [
    "objects = [x for x in movies.columns \\\n",
    "                if not (movies[x].dtype == np.float64 \\\n",
    "                        or movies[x].dtype == np.int64)]\n",
    "objects\n",
    "#which ones do we need to create dummies for?"
   ]
  },
  {
   "cell_type": "code",
   "execution_count": 3,
   "metadata": {
    "collapsed": true
   },
   "outputs": [],
   "source": [
    "# example function to lower, set index, and drop columns\n",
    "def movies_fe(df):\n",
    "    df.drop([u'color', u'director_name', u'duration',\n",
    "       u'genres', u'actor_1_name', u'actor_2_name', u'actor_3_name',\n",
    "       u'movie_title', u'num_voted_users', u'movie_imdb_link',\n",
    "       u'num_user_for_reviews', u'plot_keywords'], axis = 1, inplace = True)\n",
    "    df.columns = df.columns.str.lower()\n",
    "    return df"
   ]
  },
  {
   "cell_type": "code",
   "execution_count": 6,
   "metadata": {},
   "outputs": [
    {
     "name": "stdout",
     "output_type": "stream",
     "text": [
      "<class 'pandas.core.frame.DataFrame'>\n",
      "RangeIndex: 5043 entries, 0 to 5042\n",
      "Data columns (total 16 columns):\n",
      "num_critic_for_reviews       4993 non-null float64\n",
      "director_facebook_likes      4939 non-null float64\n",
      "actor_3_facebook_likes       5020 non-null float64\n",
      "actor_1_facebook_likes       5036 non-null float64\n",
      "gross                        4159 non-null float64\n",
      "cast_total_facebook_likes    5043 non-null int64\n",
      "facenumber_in_poster         5030 non-null float64\n",
      "language                     5031 non-null object\n",
      "country                      5038 non-null object\n",
      "content_rating               4740 non-null object\n",
      "budget                       4551 non-null float64\n",
      "title_year                   4935 non-null float64\n",
      "actor_2_facebook_likes       5030 non-null float64\n",
      "imdb_score                   5043 non-null float64\n",
      "aspect_ratio                 4714 non-null float64\n",
      "movie_facebook_likes         5043 non-null int64\n",
      "dtypes: float64(11), int64(2), object(3)\n",
      "memory usage: 630.4+ KB\n"
     ]
    }
   ],
   "source": [
    "movies = pd.read_csv(\"../data/movie_metadata.csv\")\n",
    "\n",
    "movies_fe(movies)\n",
    "movies.info()"
   ]
  },
  {
   "cell_type": "code",
   "execution_count": 7,
   "metadata": {},
   "outputs": [
    {
     "data": {
      "text/plain": [
       "USA    3807\n",
       "Name: country, dtype: int64"
      ]
     },
     "execution_count": 7,
     "metadata": {},
     "output_type": "execute_result"
    }
   ],
   "source": [
    "#We will only use movies in the USA in this model..\n",
    "movies.country = movies.country[movies.country == \"USA\"]\n",
    "movies.country.value_counts()"
   ]
  },
  {
   "cell_type": "code",
   "execution_count": 8,
   "metadata": {},
   "outputs": [
    {
     "data": {
      "text/plain": [
       "English    4704\n",
       "Name: language, dtype: int64"
      ]
     },
     "execution_count": 8,
     "metadata": {},
     "output_type": "execute_result"
    }
   ],
   "source": [
    "#we will only focus on movies in English\n",
    "movies.language = movies.language[movies.language == \"English\"]\n",
    "movies.language.value_counts()"
   ]
  },
  {
   "cell_type": "code",
   "execution_count": 9,
   "metadata": {
    "collapsed": true
   },
   "outputs": [],
   "source": [
    "#we'll keep movies that are rated: 'PG-13', 'PG', 'G', 'R', 'Not Rated', 'Unrated'  ONLY.\n",
    "movies.content_rating = movies.content_rating[movies.content_rating != \"TV-14\"]\n",
    "movies.content_rating = movies.content_rating[movies.content_rating != \"TV-PG\"]\n",
    "movies.content_rating = movies.content_rating[movies.content_rating != \"TV-MA\"]\n",
    "movies.content_rating = movies.content_rating[movies.content_rating != \"TV-G\"]\n",
    "movies.content_rating = movies.content_rating[movies.content_rating != \"Approved\"]\n",
    "movies.content_rating = movies.content_rating[movies.content_rating != \"TV-Y\"]\n",
    "movies.content_rating = movies.content_rating[movies.content_rating != \"NC-17\"]\n",
    "movies.content_rating = movies.content_rating[movies.content_rating != \"X\"]\n",
    "movies.content_rating = movies.content_rating[movies.content_rating != \"TV-Y7\"]\n",
    "movies.content_rating = movies.content_rating[movies.content_rating != \"GP\"]\n",
    "movies.content_rating = movies.content_rating[movies.content_rating != \"Passed\"]\n",
    "movies.content_rating = movies.content_rating[movies.content_rating != \"M\"]"
   ]
  },
  {
   "cell_type": "code",
   "execution_count": 10,
   "metadata": {},
   "outputs": [
    {
     "data": {
      "text/plain": [
       "array(['PG-13', nan, 'PG', 'G', 'R', 'Not Rated', 'Unrated'], dtype=object)"
      ]
     },
     "execution_count": 10,
     "metadata": {},
     "output_type": "execute_result"
    }
   ],
   "source": [
    "movies.content_rating.unique()"
   ]
  },
  {
   "cell_type": "code",
   "execution_count": 11,
   "metadata": {
    "collapsed": true
   },
   "outputs": [],
   "source": [
    "#encode categorical rating variables\n",
    "movies_rating_dums = pd.get_dummies(movies.content_rating, prefix = \"rating\", drop_first = True)\n",
    "movies = pd.concat([movies, movies_rating_dums], axis = 1)\n",
    "movies.drop(\"content_rating\", axis = 1, inplace=True)"
   ]
  },
  {
   "cell_type": "code",
   "execution_count": 12,
   "metadata": {
    "collapsed": true
   },
   "outputs": [],
   "source": [
    "movies.drop([\"language\",\"country\"], axis = 1, inplace=True)"
   ]
  },
  {
   "cell_type": "code",
   "execution_count": 13,
   "metadata": {
    "collapsed": true
   },
   "outputs": [],
   "source": [
    "movies.dropna(axis = 0, inplace= True)"
   ]
  },
  {
   "cell_type": "code",
   "execution_count": 14,
   "metadata": {},
   "outputs": [
    {
     "name": "stdout",
     "output_type": "stream",
     "text": [
      "<class 'pandas.core.frame.DataFrame'>\n",
      "Int64Index: 3801 entries, 0 to 5042\n",
      "Data columns (total 18 columns):\n",
      "num_critic_for_reviews       3801 non-null float64\n",
      "director_facebook_likes      3801 non-null float64\n",
      "actor_3_facebook_likes       3801 non-null float64\n",
      "actor_1_facebook_likes       3801 non-null float64\n",
      "gross                        3801 non-null float64\n",
      "cast_total_facebook_likes    3801 non-null int64\n",
      "facenumber_in_poster         3801 non-null float64\n",
      "budget                       3801 non-null float64\n",
      "title_year                   3801 non-null float64\n",
      "actor_2_facebook_likes       3801 non-null float64\n",
      "imdb_score                   3801 non-null float64\n",
      "aspect_ratio                 3801 non-null float64\n",
      "movie_facebook_likes         3801 non-null int64\n",
      "rating_Not Rated             3801 non-null uint8\n",
      "rating_PG                    3801 non-null uint8\n",
      "rating_PG-13                 3801 non-null uint8\n",
      "rating_R                     3801 non-null uint8\n",
      "rating_Unrated               3801 non-null uint8\n",
      "dtypes: float64(11), int64(2), uint8(5)\n",
      "memory usage: 434.3 KB\n"
     ]
    }
   ],
   "source": [
    "movies.info()"
   ]
  },
  {
   "cell_type": "code",
   "execution_count": 15,
   "metadata": {
    "collapsed": true
   },
   "outputs": [],
   "source": [
    "df = movies"
   ]
  },
  {
   "cell_type": "code",
   "execution_count": 524,
   "metadata": {
    "collapsed": true
   },
   "outputs": [],
   "source": [
    "#now the dataset is ready for modeling."
   ]
  },
  {
   "cell_type": "markdown",
   "metadata": {},
   "source": [
    "Use the movie_metadata dataset to fit a regression model to predict gross. Use Linear, Polynomial, Ridge, Lasso regression. Use rMSE as your evaluation metric.\n",
    "\n",
    "\n",
    "\n",
    "Once you've made the best possible model, I want you to pick three movies that are set to be released in January or February 2018 and use the model to predict how much revenue those movies will bring in."
   ]
  },
  {
   "cell_type": "markdown",
   "metadata": {},
   "source": [
    "# Linear Regression Model"
   ]
  },
  {
   "cell_type": "code",
   "execution_count": 149,
   "metadata": {},
   "outputs": [
    {
     "data": {
      "text/html": [
       "<div>\n",
       "<style>\n",
       "    .dataframe thead tr:only-child th {\n",
       "        text-align: right;\n",
       "    }\n",
       "\n",
       "    .dataframe thead th {\n",
       "        text-align: left;\n",
       "    }\n",
       "\n",
       "    .dataframe tbody tr th {\n",
       "        vertical-align: top;\n",
       "    }\n",
       "</style>\n",
       "<table border=\"1\" class=\"dataframe\">\n",
       "  <thead>\n",
       "    <tr style=\"text-align: right;\">\n",
       "      <th></th>\n",
       "      <th>num_critic_for_reviews</th>\n",
       "      <th>director_facebook_likes</th>\n",
       "      <th>actor_3_facebook_likes</th>\n",
       "      <th>actor_1_facebook_likes</th>\n",
       "      <th>gross</th>\n",
       "      <th>cast_total_facebook_likes</th>\n",
       "      <th>facenumber_in_poster</th>\n",
       "      <th>budget</th>\n",
       "      <th>title_year</th>\n",
       "      <th>actor_2_facebook_likes</th>\n",
       "      <th>imdb_score</th>\n",
       "      <th>aspect_ratio</th>\n",
       "      <th>movie_facebook_likes</th>\n",
       "      <th>rating_Not Rated</th>\n",
       "      <th>rating_PG</th>\n",
       "      <th>rating_PG-13</th>\n",
       "      <th>rating_R</th>\n",
       "      <th>rating_Unrated</th>\n",
       "    </tr>\n",
       "  </thead>\n",
       "  <tbody>\n",
       "    <tr>\n",
       "      <th>0</th>\n",
       "      <td>723.0</td>\n",
       "      <td>0.0</td>\n",
       "      <td>855.0</td>\n",
       "      <td>1000.0</td>\n",
       "      <td>760505847.0</td>\n",
       "      <td>4834</td>\n",
       "      <td>0.0</td>\n",
       "      <td>237000000.0</td>\n",
       "      <td>2009.0</td>\n",
       "      <td>936.0</td>\n",
       "      <td>7.9</td>\n",
       "      <td>1.78</td>\n",
       "      <td>33000</td>\n",
       "      <td>0</td>\n",
       "      <td>0</td>\n",
       "      <td>1</td>\n",
       "      <td>0</td>\n",
       "      <td>0</td>\n",
       "    </tr>\n",
       "    <tr>\n",
       "      <th>1</th>\n",
       "      <td>302.0</td>\n",
       "      <td>563.0</td>\n",
       "      <td>1000.0</td>\n",
       "      <td>40000.0</td>\n",
       "      <td>309404152.0</td>\n",
       "      <td>48350</td>\n",
       "      <td>0.0</td>\n",
       "      <td>300000000.0</td>\n",
       "      <td>2007.0</td>\n",
       "      <td>5000.0</td>\n",
       "      <td>7.1</td>\n",
       "      <td>2.35</td>\n",
       "      <td>0</td>\n",
       "      <td>0</td>\n",
       "      <td>0</td>\n",
       "      <td>1</td>\n",
       "      <td>0</td>\n",
       "      <td>0</td>\n",
       "    </tr>\n",
       "    <tr>\n",
       "      <th>2</th>\n",
       "      <td>602.0</td>\n",
       "      <td>0.0</td>\n",
       "      <td>161.0</td>\n",
       "      <td>11000.0</td>\n",
       "      <td>200074175.0</td>\n",
       "      <td>11700</td>\n",
       "      <td>1.0</td>\n",
       "      <td>245000000.0</td>\n",
       "      <td>2015.0</td>\n",
       "      <td>393.0</td>\n",
       "      <td>6.8</td>\n",
       "      <td>2.35</td>\n",
       "      <td>85000</td>\n",
       "      <td>0</td>\n",
       "      <td>0</td>\n",
       "      <td>1</td>\n",
       "      <td>0</td>\n",
       "      <td>0</td>\n",
       "    </tr>\n",
       "    <tr>\n",
       "      <th>3</th>\n",
       "      <td>813.0</td>\n",
       "      <td>22000.0</td>\n",
       "      <td>23000.0</td>\n",
       "      <td>27000.0</td>\n",
       "      <td>448130642.0</td>\n",
       "      <td>106759</td>\n",
       "      <td>0.0</td>\n",
       "      <td>250000000.0</td>\n",
       "      <td>2012.0</td>\n",
       "      <td>23000.0</td>\n",
       "      <td>8.5</td>\n",
       "      <td>2.35</td>\n",
       "      <td>164000</td>\n",
       "      <td>0</td>\n",
       "      <td>0</td>\n",
       "      <td>1</td>\n",
       "      <td>0</td>\n",
       "      <td>0</td>\n",
       "    </tr>\n",
       "    <tr>\n",
       "      <th>5</th>\n",
       "      <td>462.0</td>\n",
       "      <td>475.0</td>\n",
       "      <td>530.0</td>\n",
       "      <td>640.0</td>\n",
       "      <td>73058679.0</td>\n",
       "      <td>1873</td>\n",
       "      <td>1.0</td>\n",
       "      <td>263700000.0</td>\n",
       "      <td>2012.0</td>\n",
       "      <td>632.0</td>\n",
       "      <td>6.6</td>\n",
       "      <td>2.35</td>\n",
       "      <td>24000</td>\n",
       "      <td>0</td>\n",
       "      <td>0</td>\n",
       "      <td>1</td>\n",
       "      <td>0</td>\n",
       "      <td>0</td>\n",
       "    </tr>\n",
       "  </tbody>\n",
       "</table>\n",
       "</div>"
      ],
      "text/plain": [
       "   num_critic_for_reviews  director_facebook_likes  actor_3_facebook_likes  \\\n",
       "0                   723.0                      0.0                   855.0   \n",
       "1                   302.0                    563.0                  1000.0   \n",
       "2                   602.0                      0.0                   161.0   \n",
       "3                   813.0                  22000.0                 23000.0   \n",
       "5                   462.0                    475.0                   530.0   \n",
       "\n",
       "   actor_1_facebook_likes        gross  cast_total_facebook_likes  \\\n",
       "0                  1000.0  760505847.0                       4834   \n",
       "1                 40000.0  309404152.0                      48350   \n",
       "2                 11000.0  200074175.0                      11700   \n",
       "3                 27000.0  448130642.0                     106759   \n",
       "5                   640.0   73058679.0                       1873   \n",
       "\n",
       "   facenumber_in_poster       budget  title_year  actor_2_facebook_likes  \\\n",
       "0                   0.0  237000000.0      2009.0                   936.0   \n",
       "1                   0.0  300000000.0      2007.0                  5000.0   \n",
       "2                   1.0  245000000.0      2015.0                   393.0   \n",
       "3                   0.0  250000000.0      2012.0                 23000.0   \n",
       "5                   1.0  263700000.0      2012.0                   632.0   \n",
       "\n",
       "   imdb_score  aspect_ratio  movie_facebook_likes  rating_Not Rated  \\\n",
       "0         7.9          1.78                 33000                 0   \n",
       "1         7.1          2.35                     0                 0   \n",
       "2         6.8          2.35                 85000                 0   \n",
       "3         8.5          2.35                164000                 0   \n",
       "5         6.6          2.35                 24000                 0   \n",
       "\n",
       "   rating_PG  rating_PG-13  rating_R  rating_Unrated  \n",
       "0          0             1         0               0  \n",
       "1          0             1         0               0  \n",
       "2          0             1         0               0  \n",
       "3          0             1         0               0  \n",
       "5          0             1         0               0  "
      ]
     },
     "execution_count": 149,
     "metadata": {},
     "output_type": "execute_result"
    }
   ],
   "source": [
    "from sklearn.linear_model import LinearRegression\n",
    "from sklearn.cross_validation import cross_val_score, train_test_split\n",
    "from sklearn import metrics\n",
    "import statsmodels.formula.api as smf\n",
    "\n",
    "# visualization\n",
    "import seaborn as sns\n",
    "import matplotlib.pyplot as plt\n",
    "%matplotlib inline\n",
    "\n",
    "df.head()"
   ]
  },
  {
   "cell_type": "code",
   "execution_count": null,
   "metadata": {
    "collapsed": true
   },
   "outputs": [],
   "source": []
  },
  {
   "cell_type": "code",
   "execution_count": 19,
   "metadata": {},
   "outputs": [
    {
     "data": {
      "image/png": "[encoded data removed]",
      "text/plain": [
       "<matplotlib.figure.Figure at 0x1a0c64bb10>"
      ]
     },
     "metadata": {},
     "output_type": "display_data"
    }
   ],
   "source": [
    "sns.pairplot(df, x_vars=['budget','actor_1_facebook_likes','imdb_score'], y_vars='gross', \n",
    "             size=6, aspect=0.7, hue = \"rating_R\");"
   ]
  },
  {
   "cell_type": "code",
   "execution_count": 18,
   "metadata": {
    "scrolled": true
   },
   "outputs": [
    {
     "data": {
      "image/png": "[encoded data removed]",
      "text/plain": [
       "<matplotlib.figure.Figure at 0x1a0dbcc5d0>"
      ]
     },
     "metadata": {},
     "output_type": "display_data"
    }
   ],
   "source": [
    "sns.pairplot(df, x_vars=['budget','title_year','imdb_score'], y_vars='gross', size=6, aspect=0.7, kind='reg');\n",
    "# there are some obvious outliers with budget. There's a more linear relationship with year and imbdb score."
   ]
  },
  {
   "cell_type": "code",
   "execution_count": 150,
   "metadata": {},
   "outputs": [
    {
     "data": {
      "text/plain": [
       "Intercept    5.056936e+07\n",
       "budget       3.132504e-02\n",
       "dtype: float64"
      ]
     },
     "execution_count": 150,
     "metadata": {},
     "output_type": "execute_result"
    }
   ],
   "source": [
    "### STATSMODELS ###\n",
    "\n",
    "# create a fitted model\n",
    "lm = smf.ols(formula= \"gross ~ budget\", data = df).fit()\n",
    "\n",
    "# print the coefficients\n",
    "lm.params"
   ]
  },
  {
   "cell_type": "code",
   "execution_count": 151,
   "metadata": {},
   "outputs": [
    {
     "data": {
      "text/plain": [
       "45854762.11023415"
      ]
     },
     "execution_count": 151,
     "metadata": {},
     "output_type": "execute_result"
    }
   ],
   "source": [
    "df.budget.mean()"
   ]
  },
  {
   "cell_type": "code",
   "execution_count": 152,
   "metadata": {},
   "outputs": [
    {
     "data": {
      "text/plain": [
       "52005758"
      ]
     },
     "execution_count": 152,
     "metadata": {},
     "output_type": "execute_result"
    }
   ],
   "source": [
    "### STATSMODELS ###\n",
    "\n",
    "# Let's predict the gross for the average budget of $45 million\n",
    "X_new = pd.DataFrame({'budget': [45854762.00]})\n",
    "\n",
    "# predict for a new observation\n",
    "int(lm.predict(X_new))\n",
    "\n",
    "# The gross will be about $52,005,758 for a movie with a(n) (average) budget of $45,854,762"
   ]
  },
  {
   "cell_type": "code",
   "execution_count": 318,
   "metadata": {},
   "outputs": [
    {
     "name": "stdout",
     "output_type": "stream",
     "text": [
      "6.46603525388\n",
      "6.6\n",
      "9.3\n"
     ]
    }
   ],
   "source": [
    "print df.imdb_score.mean()\n",
    "print df.imdb_score.median()\n",
    "print df.imdb_score.max()"
   ]
  },
  {
   "cell_type": "code",
   "execution_count": 323,
   "metadata": {},
   "outputs": [
    {
     "name": "stdout",
     "output_type": "stream",
     "text": [
      "Intercept    -3.893026e+07\n",
      "imdb_score    1.406364e+07\n",
      "dtype: float64\n"
     ]
    }
   ],
   "source": [
    "lm = smf.ols(formula= \"gross ~ imdb_score\", data = df).fit()\n",
    "\n",
    "# print the coefficients\n",
    "print lm.params"
   ]
  },
  {
   "cell_type": "code",
   "execution_count": 331,
   "metadata": {
    "collapsed": true
   },
   "outputs": [],
   "source": [
    "X_new_imdb = pd.DataFrame({'imdb_score': [7.9]})"
   ]
  },
  {
   "cell_type": "code",
   "execution_count": 332,
   "metadata": {},
   "outputs": [
    {
     "data": {
      "text/html": [
       "<div>\n",
       "<style>\n",
       "    .dataframe thead tr:only-child th {\n",
       "        text-align: right;\n",
       "    }\n",
       "\n",
       "    .dataframe thead th {\n",
       "        text-align: left;\n",
       "    }\n",
       "\n",
       "    .dataframe tbody tr th {\n",
       "        vertical-align: top;\n",
       "    }\n",
       "</style>\n",
       "<table border=\"1\" class=\"dataframe\">\n",
       "  <thead>\n",
       "    <tr style=\"text-align: right;\">\n",
       "      <th></th>\n",
       "      <th>num_critic_for_reviews</th>\n",
       "      <th>director_facebook_likes</th>\n",
       "      <th>actor_3_facebook_likes</th>\n",
       "      <th>actor_1_facebook_likes</th>\n",
       "      <th>gross</th>\n",
       "      <th>cast_total_facebook_likes</th>\n",
       "      <th>facenumber_in_poster</th>\n",
       "      <th>budget</th>\n",
       "      <th>title_year</th>\n",
       "      <th>actor_2_facebook_likes</th>\n",
       "      <th>imdb_score</th>\n",
       "      <th>aspect_ratio</th>\n",
       "      <th>movie_facebook_likes</th>\n",
       "      <th>rating_Not Rated</th>\n",
       "      <th>rating_PG</th>\n",
       "      <th>rating_PG-13</th>\n",
       "      <th>rating_R</th>\n",
       "      <th>rating_Unrated</th>\n",
       "    </tr>\n",
       "  </thead>\n",
       "  <tbody>\n",
       "    <tr>\n",
       "      <th>0</th>\n",
       "      <td>723.0</td>\n",
       "      <td>0.0</td>\n",
       "      <td>855.0</td>\n",
       "      <td>1000.0</td>\n",
       "      <td>760505847.0</td>\n",
       "      <td>4834</td>\n",
       "      <td>0.0</td>\n",
       "      <td>237000000.0</td>\n",
       "      <td>2009.0</td>\n",
       "      <td>936.0</td>\n",
       "      <td>7.9</td>\n",
       "      <td>1.78</td>\n",
       "      <td>33000</td>\n",
       "      <td>0</td>\n",
       "      <td>0</td>\n",
       "      <td>1</td>\n",
       "      <td>0</td>\n",
       "      <td>0</td>\n",
       "    </tr>\n",
       "    <tr>\n",
       "      <th>1</th>\n",
       "      <td>302.0</td>\n",
       "      <td>563.0</td>\n",
       "      <td>1000.0</td>\n",
       "      <td>40000.0</td>\n",
       "      <td>309404152.0</td>\n",
       "      <td>48350</td>\n",
       "      <td>0.0</td>\n",
       "      <td>300000000.0</td>\n",
       "      <td>2007.0</td>\n",
       "      <td>5000.0</td>\n",
       "      <td>7.1</td>\n",
       "      <td>2.35</td>\n",
       "      <td>0</td>\n",
       "      <td>0</td>\n",
       "      <td>0</td>\n",
       "      <td>1</td>\n",
       "      <td>0</td>\n",
       "      <td>0</td>\n",
       "    </tr>\n",
       "    <tr>\n",
       "      <th>2</th>\n",
       "      <td>602.0</td>\n",
       "      <td>0.0</td>\n",
       "      <td>161.0</td>\n",
       "      <td>11000.0</td>\n",
       "      <td>200074175.0</td>\n",
       "      <td>11700</td>\n",
       "      <td>1.0</td>\n",
       "      <td>245000000.0</td>\n",
       "      <td>2015.0</td>\n",
       "      <td>393.0</td>\n",
       "      <td>6.8</td>\n",
       "      <td>2.35</td>\n",
       "      <td>85000</td>\n",
       "      <td>0</td>\n",
       "      <td>0</td>\n",
       "      <td>1</td>\n",
       "      <td>0</td>\n",
       "      <td>0</td>\n",
       "    </tr>\n",
       "    <tr>\n",
       "      <th>3</th>\n",
       "      <td>813.0</td>\n",
       "      <td>22000.0</td>\n",
       "      <td>23000.0</td>\n",
       "      <td>27000.0</td>\n",
       "      <td>448130642.0</td>\n",
       "      <td>106759</td>\n",
       "      <td>0.0</td>\n",
       "      <td>250000000.0</td>\n",
       "      <td>2012.0</td>\n",
       "      <td>23000.0</td>\n",
       "      <td>8.5</td>\n",
       "      <td>2.35</td>\n",
       "      <td>164000</td>\n",
       "      <td>0</td>\n",
       "      <td>0</td>\n",
       "      <td>1</td>\n",
       "      <td>0</td>\n",
       "      <td>0</td>\n",
       "    </tr>\n",
       "    <tr>\n",
       "      <th>5</th>\n",
       "      <td>462.0</td>\n",
       "      <td>475.0</td>\n",
       "      <td>530.0</td>\n",
       "      <td>640.0</td>\n",
       "      <td>73058679.0</td>\n",
       "      <td>1873</td>\n",
       "      <td>1.0</td>\n",
       "      <td>263700000.0</td>\n",
       "      <td>2012.0</td>\n",
       "      <td>632.0</td>\n",
       "      <td>6.6</td>\n",
       "      <td>2.35</td>\n",
       "      <td>24000</td>\n",
       "      <td>0</td>\n",
       "      <td>0</td>\n",
       "      <td>1</td>\n",
       "      <td>0</td>\n",
       "      <td>0</td>\n",
       "    </tr>\n",
       "  </tbody>\n",
       "</table>\n",
       "</div>"
      ],
      "text/plain": [
       "   num_critic_for_reviews  director_facebook_likes  actor_3_facebook_likes  \\\n",
       "0                   723.0                      0.0                   855.0   \n",
       "1                   302.0                    563.0                  1000.0   \n",
       "2                   602.0                      0.0                   161.0   \n",
       "3                   813.0                  22000.0                 23000.0   \n",
       "5                   462.0                    475.0                   530.0   \n",
       "\n",
       "   actor_1_facebook_likes        gross  cast_total_facebook_likes  \\\n",
       "0                  1000.0  760505847.0                       4834   \n",
       "1                 40000.0  309404152.0                      48350   \n",
       "2                 11000.0  200074175.0                      11700   \n",
       "3                 27000.0  448130642.0                     106759   \n",
       "5                   640.0   73058679.0                       1873   \n",
       "\n",
       "   facenumber_in_poster       budget  title_year  actor_2_facebook_likes  \\\n",
       "0                   0.0  237000000.0      2009.0                   936.0   \n",
       "1                   0.0  300000000.0      2007.0                  5000.0   \n",
       "2                   1.0  245000000.0      2015.0                   393.0   \n",
       "3                   0.0  250000000.0      2012.0                 23000.0   \n",
       "5                   1.0  263700000.0      2012.0                   632.0   \n",
       "\n",
       "   imdb_score  aspect_ratio  movie_facebook_likes  rating_Not Rated  \\\n",
       "0         7.9          1.78                 33000                 0   \n",
       "1         7.1          2.35                     0                 0   \n",
       "2         6.8          2.35                 85000                 0   \n",
       "3         8.5          2.35                164000                 0   \n",
       "5         6.6          2.35                 24000                 0   \n",
       "\n",
       "   rating_PG  rating_PG-13  rating_R  rating_Unrated  \n",
       "0          0             1         0               0  \n",
       "1          0             1         0               0  \n",
       "2          0             1         0               0  \n",
       "3          0             1         0               0  \n",
       "5          0             1         0               0  "
      ]
     },
     "execution_count": 332,
     "metadata": {},
     "output_type": "execute_result"
    }
   ],
   "source": [
    "df.head()"
   ]
  },
  {
   "cell_type": "code",
   "execution_count": 333,
   "metadata": {},
   "outputs": [
    {
     "data": {
      "text/plain": [
       "0    760505847.0\n",
       "1    309404152.0\n",
       "2    200074175.0\n",
       "3    448130642.0\n",
       "5     73058679.0\n",
       "Name: gross, dtype: float64"
      ]
     },
     "execution_count": 333,
     "metadata": {},
     "output_type": "execute_result"
    }
   ],
   "source": [
    "y.head()"
   ]
  },
  {
   "cell_type": "code",
   "execution_count": 334,
   "metadata": {},
   "outputs": [
    {
     "data": {
      "text/plain": [
       "72172527"
      ]
     },
     "execution_count": 334,
     "metadata": {},
     "output_type": "execute_result"
    }
   ],
   "source": [
    "# predict for a new observation\n",
    "int(lm.predict(X_new_imdb))"
   ]
  },
  {
   "cell_type": "code",
   "execution_count": 335,
   "metadata": {},
   "outputs": [
    {
     "data": {
      "text/plain": [
       "688333320.0"
      ]
     },
     "execution_count": 335,
     "metadata": {},
     "output_type": "execute_result"
    }
   ],
   "source": [
    "760505847.0 - 72172527\n",
    "# Really off for a single guess.."
   ]
  },
  {
   "cell_type": "code",
   "execution_count": 337,
   "metadata": {},
   "outputs": [
    {
     "data": {
      "text/html": [
       "<table class=\"simpletable\">\n",
       "<caption>OLS Regression Results</caption>\n",
       "<tr>\n",
       "  <th>Dep. Variable:</th>          <td>gross</td>      <th>  R-squared:         </th> <td>   0.045</td> \n",
       "</tr>\n",
       "<tr>\n",
       "  <th>Model:</th>                   <td>OLS</td>       <th>  Adj. R-squared:    </th> <td>   0.045</td> \n",
       "</tr>\n",
       "<tr>\n",
       "  <th>Method:</th>             <td>Least Squares</td>  <th>  F-statistic:       </th> <td>   179.0</td> \n",
       "</tr>\n",
       "<tr>\n",
       "  <th>Date:</th>             <td>Tue, 16 Jan 2018</td> <th>  Prob (F-statistic):</th> <td>6.34e-40</td> \n",
       "</tr>\n",
       "<tr>\n",
       "  <th>Time:</th>                 <td>14:52:32</td>     <th>  Log-Likelihood:    </th> <td> -73973.</td> \n",
       "</tr>\n",
       "<tr>\n",
       "  <th>No. Observations:</th>      <td>  3801</td>      <th>  AIC:               </th> <td>1.480e+05</td>\n",
       "</tr>\n",
       "<tr>\n",
       "  <th>Df Residuals:</th>          <td>  3799</td>      <th>  BIC:               </th> <td>1.480e+05</td>\n",
       "</tr>\n",
       "<tr>\n",
       "  <th>Df Model:</th>              <td>     1</td>      <th>                     </th>     <td> </td>    \n",
       "</tr>\n",
       "<tr>\n",
       "  <th>Covariance Type:</th>      <td>nonrobust</td>    <th>                     </th>     <td> </td>    \n",
       "</tr>\n",
       "</table>\n",
       "<table class=\"simpletable\">\n",
       "<tr>\n",
       "       <td></td>         <th>coef</th>     <th>std err</th>      <th>t</th>      <th>P>|t|</th>  <th>[0.025</th>    <th>0.975]</th>  \n",
       "</tr>\n",
       "<tr>\n",
       "  <th>Intercept</th>  <td>-3.893e+07</td> <td> 6.89e+06</td> <td>   -5.653</td> <td> 0.000</td> <td>-5.24e+07</td> <td>-2.54e+07</td>\n",
       "</tr>\n",
       "<tr>\n",
       "  <th>imdb_score</th> <td> 1.406e+07</td> <td> 1.05e+06</td> <td>   13.379</td> <td> 0.000</td> <td>  1.2e+07</td> <td> 1.61e+07</td>\n",
       "</tr>\n",
       "</table>\n",
       "<table class=\"simpletable\">\n",
       "<tr>\n",
       "  <th>Omnibus:</th>       <td>2405.530</td> <th>  Durbin-Watson:     </th> <td>   0.863</td> \n",
       "</tr>\n",
       "<tr>\n",
       "  <th>Prob(Omnibus):</th>  <td> 0.000</td>  <th>  Jarque-Bera (JB):  </th> <td>32361.262</td>\n",
       "</tr>\n",
       "<tr>\n",
       "  <th>Skew:</th>           <td> 2.832</td>  <th>  Prob(JB):          </th> <td>    0.00</td> \n",
       "</tr>\n",
       "<tr>\n",
       "  <th>Kurtosis:</th>       <td>16.124</td>  <th>  Cond. No.          </th> <td>    41.5</td> \n",
       "</tr>\n",
       "</table>"
      ],
      "text/plain": [
       "<class 'statsmodels.iolib.summary.Summary'>\n",
       "\"\"\"\n",
       "                            OLS Regression Results                            \n",
       "==============================================================================\n",
       "Dep. Variable:                  gross   R-squared:                       0.045\n",
       "Model:                            OLS   Adj. R-squared:                  0.045\n",
       "Method:                 Least Squares   F-statistic:                     179.0\n",
       "Date:                Tue, 16 Jan 2018   Prob (F-statistic):           6.34e-40\n",
       "Time:                        14:52:32   Log-Likelihood:                -73973.\n",
       "No. Observations:                3801   AIC:                         1.480e+05\n",
       "Df Residuals:                    3799   BIC:                         1.480e+05\n",
       "Df Model:                           1                                         \n",
       "Covariance Type:            nonrobust                                         \n",
       "==============================================================================\n",
       "                 coef    std err          t      P>|t|      [0.025      0.975]\n",
       "------------------------------------------------------------------------------\n",
       "Intercept  -3.893e+07   6.89e+06     -5.653      0.000   -5.24e+07   -2.54e+07\n",
       "imdb_score  1.406e+07   1.05e+06     13.379      0.000     1.2e+07    1.61e+07\n",
       "==============================================================================\n",
       "Omnibus:                     2405.530   Durbin-Watson:                   0.863\n",
       "Prob(Omnibus):                  0.000   Jarque-Bera (JB):            32361.262\n",
       "Skew:                           2.832   Prob(JB):                         0.00\n",
       "Kurtosis:                      16.124   Cond. No.                         41.5\n",
       "==============================================================================\n",
       "\n",
       "Warnings:\n",
       "[1] Standard Errors assume that the covariance matrix of the errors is correctly specified.\n",
       "\"\"\""
      ]
     },
     "execution_count": 337,
     "metadata": {},
     "output_type": "execute_result"
    }
   ],
   "source": [
    "lm.summary()\n",
    "\n",
    "# imdb_score does better than budget, but still bad on it's own.."
   ]
  },
  {
   "cell_type": "code",
   "execution_count": 187,
   "metadata": {},
   "outputs": [
    {
     "name": "stdout",
     "output_type": "stream",
     "text": [
      "50569356.29022592\n",
      "[0.03132504]\n"
     ]
    }
   ],
   "source": [
    "### SCIKIT-LEARN ###\n",
    "\n",
    "# create X and y\n",
    "feature_cols = [\"budget\"]\n",
    "X = df[feature_cols]\n",
    "y = df.gross\n",
    "\n",
    "# instantiate and fit\n",
    "linreg = LinearRegression()\n",
    "linreg.fit(X, y)\n",
    "\n",
    "# print the coefficients\n",
    "print linreg.intercept_\n",
    "print linreg.coef_\n",
    "\n",
    "linreg.predict(X_new)"
   ]
  },
  {
   "cell_type": "code",
   "execution_count": 24,
   "metadata": {},
   "outputs": [
    {
     "data": {
      "text/plain": [
       "array([52005758.51298995])"
      ]
     },
     "execution_count": 24,
     "metadata": {},
     "output_type": "execute_result"
    }
   ],
   "source": [
    "linreg.predict(X_new)\n",
    "#the gross for average budget of $45m is about $52m based on this Linear Model."
   ]
  },
  {
   "cell_type": "code",
   "execution_count": 25,
   "metadata": {},
   "outputs": [
    {
     "data": {
      "image/png": "[encoded data removed]",
      "text/plain": [
       "<matplotlib.figure.Figure at 0x1a0ee82fd0>"
      ]
     },
     "metadata": {},
     "output_type": "display_data"
    }
   ],
   "source": [
    "#Make predictions by passing X into model\n",
    "preds = linreg.predict(X)\n",
    "\n",
    "plt.figure(figsize=(10, 8))\n",
    "#Make scatter of X and y\n",
    "plt.scatter(X,y, s = 50)\n",
    "#Make line plot of X and preds\n",
    "plt.plot(X, preds, \"r\", linewidth= 7, alpha = .6)\n",
    "plt.xlabel(\"Budget\")\n",
    "plt.ylabel(\"Gross\");"
   ]
  },
  {
   "cell_type": "code",
   "execution_count": 26,
   "metadata": {},
   "outputs": [
    {
     "data": {
      "image/png": "[encoded data removed]",
      "text/plain": [
       "<matplotlib.figure.Figure at 0x1a0e8f3150>"
      ]
     },
     "metadata": {},
     "output_type": "display_data"
    }
   ],
   "source": [
    "plt.figure(figsize=(10, 8))\n",
    "sns.residplot(X, y, color=\"c\");"
   ]
  },
  {
   "cell_type": "code",
   "execution_count": 27,
   "metadata": {},
   "outputs": [
    {
     "data": {
      "text/html": [
       "<div>\n",
       "<style>\n",
       "    .dataframe thead tr:only-child th {\n",
       "        text-align: right;\n",
       "    }\n",
       "\n",
       "    .dataframe thead th {\n",
       "        text-align: left;\n",
       "    }\n",
       "\n",
       "    .dataframe tbody tr th {\n",
       "        vertical-align: top;\n",
       "    }\n",
       "</style>\n",
       "<table border=\"1\" class=\"dataframe\">\n",
       "  <thead>\n",
       "    <tr style=\"text-align: right;\">\n",
       "      <th></th>\n",
       "      <th>0</th>\n",
       "      <th>1</th>\n",
       "    </tr>\n",
       "  </thead>\n",
       "  <tbody>\n",
       "    <tr>\n",
       "      <th>Intercept</th>\n",
       "      <td>4.830470e+07</td>\n",
       "      <td>5.283401e+07</td>\n",
       "    </tr>\n",
       "    <tr>\n",
       "      <th>budget</th>\n",
       "      <td>2.144958e-02</td>\n",
       "      <td>4.120050e-02</td>\n",
       "    </tr>\n",
       "  </tbody>\n",
       "</table>\n",
       "</div>"
      ],
      "text/plain": [
       "                      0             1\n",
       "Intercept  4.830470e+07  5.283401e+07\n",
       "budget     2.144958e-02  4.120050e-02"
      ]
     },
     "execution_count": 27,
     "metadata": {},
     "output_type": "execute_result"
    }
   ],
   "source": [
    "lm.conf_int()"
   ]
  },
  {
   "cell_type": "code",
   "execution_count": 28,
   "metadata": {},
   "outputs": [
    {
     "data": {
      "text/html": [
       "<table class=\"simpletable\">\n",
       "<caption>OLS Regression Results</caption>\n",
       "<tr>\n",
       "  <th>Dep. Variable:</th>          <td>gross</td>      <th>  R-squared:         </th> <td>   0.010</td> \n",
       "</tr>\n",
       "<tr>\n",
       "  <th>Model:</th>                   <td>OLS</td>       <th>  Adj. R-squared:    </th> <td>   0.010</td> \n",
       "</tr>\n",
       "<tr>\n",
       "  <th>Method:</th>             <td>Least Squares</td>  <th>  F-statistic:       </th> <td>   38.68</td> \n",
       "</tr>\n",
       "<tr>\n",
       "  <th>Date:</th>             <td>Tue, 16 Jan 2018</td> <th>  Prob (F-statistic):</th> <td>5.54e-10</td> \n",
       "</tr>\n",
       "<tr>\n",
       "  <th>Time:</th>                 <td>11:08:30</td>     <th>  Log-Likelihood:    </th> <td> -74041.</td> \n",
       "</tr>\n",
       "<tr>\n",
       "  <th>No. Observations:</th>      <td>  3801</td>      <th>  AIC:               </th> <td>1.481e+05</td>\n",
       "</tr>\n",
       "<tr>\n",
       "  <th>Df Residuals:</th>          <td>  3799</td>      <th>  BIC:               </th> <td>1.481e+05</td>\n",
       "</tr>\n",
       "<tr>\n",
       "  <th>Df Model:</th>              <td>     1</td>      <th>                     </th>     <td> </td>    \n",
       "</tr>\n",
       "<tr>\n",
       "  <th>Covariance Type:</th>      <td>nonrobust</td>    <th>                     </th>     <td> </td>    \n",
       "</tr>\n",
       "</table>\n",
       "<table class=\"simpletable\">\n",
       "<tr>\n",
       "      <td></td>         <th>coef</th>     <th>std err</th>      <th>t</th>      <th>P>|t|</th>  <th>[0.025</th>    <th>0.975]</th>  \n",
       "</tr>\n",
       "<tr>\n",
       "  <th>Intercept</th> <td> 5.057e+07</td> <td> 1.16e+06</td> <td>   43.780</td> <td> 0.000</td> <td> 4.83e+07</td> <td> 5.28e+07</td>\n",
       "</tr>\n",
       "<tr>\n",
       "  <th>budget</th>    <td>    0.0313</td> <td>    0.005</td> <td>    6.219</td> <td> 0.000</td> <td>    0.021</td> <td>    0.041</td>\n",
       "</tr>\n",
       "</table>\n",
       "<table class=\"simpletable\">\n",
       "<tr>\n",
       "  <th>Omnibus:</th>       <td>2489.582</td> <th>  Durbin-Watson:     </th> <td>   0.859</td> \n",
       "</tr>\n",
       "<tr>\n",
       "  <th>Prob(Omnibus):</th>  <td> 0.000</td>  <th>  Jarque-Bera (JB):  </th> <td>37274.423</td>\n",
       "</tr>\n",
       "<tr>\n",
       "  <th>Skew:</th>           <td> 2.929</td>  <th>  Prob(JB):          </th> <td>    0.00</td> \n",
       "</tr>\n",
       "<tr>\n",
       "  <th>Kurtosis:</th>       <td>17.179</td>  <th>  Cond. No.          </th> <td>2.34e+08</td> \n",
       "</tr>\n",
       "</table>"
      ],
      "text/plain": [
       "<class 'statsmodels.iolib.summary.Summary'>\n",
       "\"\"\"\n",
       "                            OLS Regression Results                            \n",
       "==============================================================================\n",
       "Dep. Variable:                  gross   R-squared:                       0.010\n",
       "Model:                            OLS   Adj. R-squared:                  0.010\n",
       "Method:                 Least Squares   F-statistic:                     38.68\n",
       "Date:                Tue, 16 Jan 2018   Prob (F-statistic):           5.54e-10\n",
       "Time:                        11:08:30   Log-Likelihood:                -74041.\n",
       "No. Observations:                3801   AIC:                         1.481e+05\n",
       "Df Residuals:                    3799   BIC:                         1.481e+05\n",
       "Df Model:                           1                                         \n",
       "Covariance Type:            nonrobust                                         \n",
       "==============================================================================\n",
       "                 coef    std err          t      P>|t|      [0.025      0.975]\n",
       "------------------------------------------------------------------------------\n",
       "Intercept   5.057e+07   1.16e+06     43.780      0.000    4.83e+07    5.28e+07\n",
       "budget         0.0313      0.005      6.219      0.000       0.021       0.041\n",
       "==============================================================================\n",
       "Omnibus:                     2489.582   Durbin-Watson:                   0.859\n",
       "Prob(Omnibus):                  0.000   Jarque-Bera (JB):            37274.423\n",
       "Skew:                           2.929   Prob(JB):                         0.00\n",
       "Kurtosis:                      17.179   Cond. No.                     2.34e+08\n",
       "==============================================================================\n",
       "\n",
       "Warnings:\n",
       "[1] Standard Errors assume that the covariance matrix of the errors is correctly specified.\n",
       "[2] The condition number is large, 2.34e+08. This might indicate that there are\n",
       "strong multicollinearity or other numerical problems.\n",
       "\"\"\""
      ]
     },
     "execution_count": 28,
     "metadata": {},
     "output_type": "execute_result"
    }
   ],
   "source": [
    "# Budget and Gross shows a positive relationship, although the R-squared confidence is low. Need to add more features.\n",
    "lm.summary()"
   ]
  },
  {
   "cell_type": "code",
   "execution_count": 29,
   "metadata": {},
   "outputs": [
    {
     "data": {
      "text/plain": [
       "Intercept    0.000000e+00\n",
       "budget       5.544777e-10\n",
       "dtype: float64"
      ]
     },
     "execution_count": 29,
     "metadata": {},
     "output_type": "execute_result"
    }
   ],
   "source": [
    "lm.pvalues\n",
    "# there is a clear relationship between gross and budget."
   ]
  },
  {
   "cell_type": "code",
   "execution_count": 30,
   "metadata": {},
   "outputs": [
    {
     "name": "stdout",
     "output_type": "stream",
     "text": [
      "0.01007797981770342\n",
      "0.01007797981770342\n"
     ]
    }
   ],
   "source": [
    "print linreg.score(X, y)\n",
    "\n",
    "y_pred = linreg.predict(X)\n",
    "print metrics.r2_score(y, y_pred)"
   ]
  },
  {
   "cell_type": "code",
   "execution_count": null,
   "metadata": {
    "collapsed": true
   },
   "outputs": [],
   "source": []
  },
  {
   "cell_type": "code",
   "execution_count": 34,
   "metadata": {},
   "outputs": [
    {
     "data": {
      "text/plain": [
       "-0.2974544122652943"
      ]
     },
     "execution_count": 34,
     "metadata": {},
     "output_type": "execute_result"
    }
   ],
   "source": [
    "# Multiple Linear Regression using all of the features\n",
    "X = df.drop([\"gross\"], axis = 1)\n",
    "y = df.gross\n",
    "cross_val_score(LinearRegression(),X, y, cv = 5, scoring = \"r2\").mean()"
   ]
  },
  {
   "cell_type": "code",
   "execution_count": 42,
   "metadata": {},
   "outputs": [
    {
     "data": {
      "text/plain": [
       "(3801, 17)"
      ]
     },
     "execution_count": 42,
     "metadata": {},
     "output_type": "execute_result"
    }
   ],
   "source": [
    "X.shape"
   ]
  },
  {
   "cell_type": "code",
   "execution_count": 35,
   "metadata": {
    "collapsed": true
   },
   "outputs": [],
   "source": [
    "def lr_model(features):\n",
    "    X = df[features]\n",
    "    lr = LinearRegression()\n",
    "    lr.fit(X, y)\n",
    "    return lr.score(X, y)"
   ]
  },
  {
   "cell_type": "code",
   "execution_count": 36,
   "metadata": {},
   "outputs": [
    {
     "data": {
      "text/plain": [
       "0.4051572274781259"
      ]
     },
     "execution_count": 36,
     "metadata": {},
     "output_type": "execute_result"
    }
   ],
   "source": [
    "lr_model([u'num_critic_for_reviews', u'director_facebook_likes',\n",
    "       u'actor_3_facebook_likes', u'actor_1_facebook_likes',\n",
    "       u'cast_total_facebook_likes', u'facenumber_in_poster', u'budget',\n",
    "       u'title_year', u'actor_2_facebook_likes', u'imdb_score',\n",
    "       u'aspect_ratio', u'movie_facebook_likes', u'rating_Not Rated',\n",
    "       u'rating_PG', u'rating_PG-13', u'rating_R', u'rating_Unrated'])"
   ]
  },
  {
   "cell_type": "code",
   "execution_count": 79,
   "metadata": {
    "collapsed": true
   },
   "outputs": [],
   "source": [
    "from itertools import combinations"
   ]
  },
  {
   "cell_type": "code",
   "execution_count": 49,
   "metadata": {
    "collapsed": true
   },
   "outputs": [],
   "source": [
    "combos = combinations(df.drop([\"gross\", \"budget\"], axis = 1).columns, 10)"
   ]
  },
  {
   "cell_type": "code",
   "execution_count": 51,
   "metadata": {
    "collapsed": true
   },
   "outputs": [],
   "source": [
    "scores = []\n",
    "\n",
    "for i in combos:\n",
    "    i = list(i)\n",
    "    score = lr_model(i)\n",
    "    scores.append(score)"
   ]
  },
  {
   "cell_type": "code",
   "execution_count": 52,
   "metadata": {
    "collapsed": true
   },
   "outputs": [],
   "source": [
    "scores_dict = zip(combos,scores)"
   ]
  },
  {
   "cell_type": "code",
   "execution_count": 53,
   "metadata": {},
   "outputs": [
    {
     "data": {
      "text/plain": [
       "(('num_critic_for_reviews',\n",
       "  'actor_3_facebook_likes',\n",
       "  'actor_1_facebook_likes',\n",
       "  'cast_total_facebook_likes',\n",
       "  'title_year',\n",
       "  'actor_2_facebook_likes',\n",
       "  'imdb_score',\n",
       "  'rating_Not Rated',\n",
       "  'rating_PG',\n",
       "  'rating_R'),\n",
       " 0.40069911991594787)"
      ]
     },
     "execution_count": 53,
     "metadata": {},
     "output_type": "execute_result"
    }
   ],
   "source": [
    "sorted(scores_dict, key = lambda x:x[1], reverse=True)[0]\n",
    "# R-Squared of 0.4 with 10 features relative to 0.41 with all 17 features."
   ]
  },
  {
   "cell_type": "code",
   "execution_count": 372,
   "metadata": {
    "collapsed": true
   },
   "outputs": [],
   "source": [
    "top_11_lr = ['budget', 'num_critic_for_reviews',\n",
    "  'actor_3_facebook_likes',\n",
    "  'actor_1_facebook_likes',\n",
    "  'cast_total_facebook_likes',\n",
    "  'title_year',\n",
    "  'actor_2_facebook_likes',\n",
    "  'imdb_score',\n",
    "  'rating_Not Rated',\n",
    "  'rating_PG',\n",
    "  'rating_R']\n",
    "\n",
    "#based on the linear regression model, these are the top 10 combination of features. Manually included budget as well"
   ]
  },
  {
   "cell_type": "code",
   "execution_count": 373,
   "metadata": {},
   "outputs": [
    {
     "data": {
      "text/html": [
       "<div>\n",
       "<style>\n",
       "    .dataframe thead tr:only-child th {\n",
       "        text-align: right;\n",
       "    }\n",
       "\n",
       "    .dataframe thead th {\n",
       "        text-align: left;\n",
       "    }\n",
       "\n",
       "    .dataframe tbody tr th {\n",
       "        vertical-align: top;\n",
       "    }\n",
       "</style>\n",
       "<table border=\"1\" class=\"dataframe\">\n",
       "  <thead>\n",
       "    <tr style=\"text-align: right;\">\n",
       "      <th></th>\n",
       "      <th>budget</th>\n",
       "      <th>num_critic_for_reviews</th>\n",
       "      <th>actor_3_facebook_likes</th>\n",
       "      <th>actor_1_facebook_likes</th>\n",
       "      <th>cast_total_facebook_likes</th>\n",
       "      <th>title_year</th>\n",
       "      <th>actor_2_facebook_likes</th>\n",
       "      <th>imdb_score</th>\n",
       "      <th>rating_Not Rated</th>\n",
       "      <th>rating_PG</th>\n",
       "      <th>rating_R</th>\n",
       "    </tr>\n",
       "  </thead>\n",
       "  <tbody>\n",
       "    <tr>\n",
       "      <th>0</th>\n",
       "      <td>237000000.0</td>\n",
       "      <td>723.0</td>\n",
       "      <td>855.0</td>\n",
       "      <td>1000.0</td>\n",
       "      <td>4834</td>\n",
       "      <td>2009.0</td>\n",
       "      <td>936.0</td>\n",
       "      <td>7.9</td>\n",
       "      <td>0</td>\n",
       "      <td>0</td>\n",
       "      <td>0</td>\n",
       "    </tr>\n",
       "    <tr>\n",
       "      <th>1</th>\n",
       "      <td>300000000.0</td>\n",
       "      <td>302.0</td>\n",
       "      <td>1000.0</td>\n",
       "      <td>40000.0</td>\n",
       "      <td>48350</td>\n",
       "      <td>2007.0</td>\n",
       "      <td>5000.0</td>\n",
       "      <td>7.1</td>\n",
       "      <td>0</td>\n",
       "      <td>0</td>\n",
       "      <td>0</td>\n",
       "    </tr>\n",
       "    <tr>\n",
       "      <th>2</th>\n",
       "      <td>245000000.0</td>\n",
       "      <td>602.0</td>\n",
       "      <td>161.0</td>\n",
       "      <td>11000.0</td>\n",
       "      <td>11700</td>\n",
       "      <td>2015.0</td>\n",
       "      <td>393.0</td>\n",
       "      <td>6.8</td>\n",
       "      <td>0</td>\n",
       "      <td>0</td>\n",
       "      <td>0</td>\n",
       "    </tr>\n",
       "    <tr>\n",
       "      <th>3</th>\n",
       "      <td>250000000.0</td>\n",
       "      <td>813.0</td>\n",
       "      <td>23000.0</td>\n",
       "      <td>27000.0</td>\n",
       "      <td>106759</td>\n",
       "      <td>2012.0</td>\n",
       "      <td>23000.0</td>\n",
       "      <td>8.5</td>\n",
       "      <td>0</td>\n",
       "      <td>0</td>\n",
       "      <td>0</td>\n",
       "    </tr>\n",
       "    <tr>\n",
       "      <th>5</th>\n",
       "      <td>263700000.0</td>\n",
       "      <td>462.0</td>\n",
       "      <td>530.0</td>\n",
       "      <td>640.0</td>\n",
       "      <td>1873</td>\n",
       "      <td>2012.0</td>\n",
       "      <td>632.0</td>\n",
       "      <td>6.6</td>\n",
       "      <td>0</td>\n",
       "      <td>0</td>\n",
       "      <td>0</td>\n",
       "    </tr>\n",
       "  </tbody>\n",
       "</table>\n",
       "</div>"
      ],
      "text/plain": [
       "        budget  num_critic_for_reviews  actor_3_facebook_likes  \\\n",
       "0  237000000.0                   723.0                   855.0   \n",
       "1  300000000.0                   302.0                  1000.0   \n",
       "2  245000000.0                   602.0                   161.0   \n",
       "3  250000000.0                   813.0                 23000.0   \n",
       "5  263700000.0                   462.0                   530.0   \n",
       "\n",
       "   actor_1_facebook_likes  cast_total_facebook_likes  title_year  \\\n",
       "0                  1000.0                       4834      2009.0   \n",
       "1                 40000.0                      48350      2007.0   \n",
       "2                 11000.0                      11700      2015.0   \n",
       "3                 27000.0                     106759      2012.0   \n",
       "5                   640.0                       1873      2012.0   \n",
       "\n",
       "   actor_2_facebook_likes  imdb_score  rating_Not Rated  rating_PG  rating_R  \n",
       "0                   936.0         7.9                 0          0         0  \n",
       "1                  5000.0         7.1                 0          0         0  \n",
       "2                   393.0         6.8                 0          0         0  \n",
       "3                 23000.0         8.5                 0          0         0  \n",
       "5                   632.0         6.6                 0          0         0  "
      ]
     },
     "execution_count": 373,
     "metadata": {},
     "output_type": "execute_result"
    }
   ],
   "source": [
    "# new dataframe\n",
    "lr_top11 = df[top_11_lr]\n",
    "lr_top11.head()"
   ]
  },
  {
   "cell_type": "code",
   "execution_count": 374,
   "metadata": {
    "collapsed": true
   },
   "outputs": [],
   "source": [
    "# Statsmodel \n",
    "lm = smf.ols(formula= \"gross ~ budget + num_critic_for_reviews + actor_3_facebook_likes + actor_1_facebook_likes + cast_total_facebook_likes + title_year + actor_2_facebook_likes + rating_PG + rating_R\", data = df).fit()"
   ]
  },
  {
   "cell_type": "code",
   "execution_count": 375,
   "metadata": {},
   "outputs": [
    {
     "data": {
      "text/plain": [
       "Intercept                    2.517526e+09\n",
       "budget                       1.177588e-02\n",
       "num_critic_for_reviews       2.781956e+05\n",
       "actor_3_facebook_likes      -1.248359e+04\n",
       "actor_1_facebook_likes      -1.156819e+04\n",
       "cast_total_facebook_likes    1.163975e+04\n",
       "title_year                  -1.255770e+06\n",
       "actor_2_facebook_likes      -1.086970e+04\n",
       "rating_PG                    2.194132e+07\n",
       "rating_R                    -2.882374e+07\n",
       "dtype: float64"
      ]
     },
     "execution_count": 375,
     "metadata": {},
     "output_type": "execute_result"
    }
   ],
   "source": [
    "lm.params"
   ]
  },
  {
   "cell_type": "code",
   "execution_count": 376,
   "metadata": {},
   "outputs": [
    {
     "name": "stdout",
     "output_type": "stream",
     "text": [
      "Intercept                     3.259493e-37\n",
      "budget                        3.044577e-03\n",
      "num_critic_for_reviews       1.400330e-218\n",
      "actor_3_facebook_likes        6.392986e-20\n",
      "actor_1_facebook_likes        1.500056e-44\n",
      "cast_total_facebook_likes     2.321725e-45\n",
      "title_year                    5.625050e-37\n",
      "actor_2_facebook_likes        1.107140e-35\n",
      "rating_PG                     6.706800e-16\n",
      "rating_R                      9.861238e-49\n",
      "dtype: float64\n"
     ]
    }
   ],
   "source": [
    "print lm.pvalues"
   ]
  },
  {
   "cell_type": "code",
   "execution_count": 377,
   "metadata": {},
   "outputs": [
    {
     "data": {
      "text/html": [
       "<table class=\"simpletable\">\n",
       "<caption>OLS Regression Results</caption>\n",
       "<tr>\n",
       "  <th>Dep. Variable:</th>          <td>gross</td>      <th>  R-squared:         </th> <td>   0.394</td> \n",
       "</tr>\n",
       "<tr>\n",
       "  <th>Model:</th>                   <td>OLS</td>       <th>  Adj. R-squared:    </th> <td>   0.392</td> \n",
       "</tr>\n",
       "<tr>\n",
       "  <th>Method:</th>             <td>Least Squares</td>  <th>  F-statistic:       </th> <td>   273.6</td> \n",
       "</tr>\n",
       "<tr>\n",
       "  <th>Date:</th>             <td>Tue, 16 Jan 2018</td> <th>  Prob (F-statistic):</th>  <td>  0.00</td>  \n",
       "</tr>\n",
       "<tr>\n",
       "  <th>Time:</th>                 <td>20:59:04</td>     <th>  Log-Likelihood:    </th> <td> -73110.</td> \n",
       "</tr>\n",
       "<tr>\n",
       "  <th>No. Observations:</th>      <td>  3801</td>      <th>  AIC:               </th> <td>1.462e+05</td>\n",
       "</tr>\n",
       "<tr>\n",
       "  <th>Df Residuals:</th>          <td>  3791</td>      <th>  BIC:               </th> <td>1.463e+05</td>\n",
       "</tr>\n",
       "<tr>\n",
       "  <th>Df Model:</th>              <td>     9</td>      <th>                     </th>     <td> </td>    \n",
       "</tr>\n",
       "<tr>\n",
       "  <th>Covariance Type:</th>      <td>nonrobust</td>    <th>                     </th>     <td> </td>    \n",
       "</tr>\n",
       "</table>\n",
       "<table class=\"simpletable\">\n",
       "<tr>\n",
       "              <td></td>                 <th>coef</th>     <th>std err</th>      <th>t</th>      <th>P>|t|</th>  <th>[0.025</th>    <th>0.975]</th>  \n",
       "</tr>\n",
       "<tr>\n",
       "  <th>Intercept</th>                 <td> 2.518e+09</td> <td> 1.95e+08</td> <td>   12.885</td> <td> 0.000</td> <td> 2.13e+09</td> <td>  2.9e+09</td>\n",
       "</tr>\n",
       "<tr>\n",
       "  <th>budget</th>                    <td>    0.0118</td> <td>    0.004</td> <td>    2.965</td> <td> 0.003</td> <td>    0.004</td> <td>    0.020</td>\n",
       "</tr>\n",
       "<tr>\n",
       "  <th>num_critic_for_reviews</th>    <td> 2.782e+05</td> <td> 8242.615</td> <td>   33.751</td> <td> 0.000</td> <td> 2.62e+05</td> <td> 2.94e+05</td>\n",
       "</tr>\n",
       "<tr>\n",
       "  <th>actor_3_facebook_likes</th>    <td>-1.248e+04</td> <td> 1358.592</td> <td>   -9.189</td> <td> 0.000</td> <td>-1.51e+04</td> <td>-9819.951</td>\n",
       "</tr>\n",
       "<tr>\n",
       "  <th>actor_1_facebook_likes</th>    <td>-1.157e+04</td> <td>  815.425</td> <td>  -14.187</td> <td> 0.000</td> <td>-1.32e+04</td> <td>-9969.481</td>\n",
       "</tr>\n",
       "<tr>\n",
       "  <th>cast_total_facebook_likes</th> <td> 1.164e+04</td> <td>  812.608</td> <td>   14.324</td> <td> 0.000</td> <td>    1e+04</td> <td> 1.32e+04</td>\n",
       "</tr>\n",
       "<tr>\n",
       "  <th>title_year</th>                <td>-1.256e+06</td> <td> 9.78e+04</td> <td>  -12.841</td> <td> 0.000</td> <td>-1.45e+06</td> <td>-1.06e+06</td>\n",
       "</tr>\n",
       "<tr>\n",
       "  <th>actor_2_facebook_likes</th>    <td>-1.087e+04</td> <td>  862.784</td> <td>  -12.598</td> <td> 0.000</td> <td>-1.26e+04</td> <td>-9178.134</td>\n",
       "</tr>\n",
       "<tr>\n",
       "  <th>rating_PG</th>                 <td> 2.194e+07</td> <td> 2.71e+06</td> <td>    8.111</td> <td> 0.000</td> <td> 1.66e+07</td> <td> 2.72e+07</td>\n",
       "</tr>\n",
       "<tr>\n",
       "  <th>rating_R</th>                  <td>-2.882e+07</td> <td> 1.94e+06</td> <td>  -14.883</td> <td> 0.000</td> <td>-3.26e+07</td> <td> -2.5e+07</td>\n",
       "</tr>\n",
       "</table>\n",
       "<table class=\"simpletable\">\n",
       "<tr>\n",
       "  <th>Omnibus:</th>       <td>1870.172</td> <th>  Durbin-Watson:     </th> <td>   1.369</td> \n",
       "</tr>\n",
       "<tr>\n",
       "  <th>Prob(Omnibus):</th>  <td> 0.000</td>  <th>  Jarque-Bera (JB):  </th> <td>21584.503</td>\n",
       "</tr>\n",
       "<tr>\n",
       "  <th>Skew:</th>           <td> 2.059</td>  <th>  Prob(JB):          </th> <td>    0.00</td> \n",
       "</tr>\n",
       "<tr>\n",
       "  <th>Kurtosis:</th>       <td>13.924</td>  <th>  Cond. No.          </th> <td>5.05e+10</td> \n",
       "</tr>\n",
       "</table>"
      ],
      "text/plain": [
       "<class 'statsmodels.iolib.summary.Summary'>\n",
       "\"\"\"\n",
       "                            OLS Regression Results                            \n",
       "==============================================================================\n",
       "Dep. Variable:                  gross   R-squared:                       0.394\n",
       "Model:                            OLS   Adj. R-squared:                  0.392\n",
       "Method:                 Least Squares   F-statistic:                     273.6\n",
       "Date:                Tue, 16 Jan 2018   Prob (F-statistic):               0.00\n",
       "Time:                        20:59:04   Log-Likelihood:                -73110.\n",
       "No. Observations:                3801   AIC:                         1.462e+05\n",
       "Df Residuals:                    3791   BIC:                         1.463e+05\n",
       "Df Model:                           9                                         \n",
       "Covariance Type:            nonrobust                                         \n",
       "=============================================================================================\n",
       "                                coef    std err          t      P>|t|      [0.025      0.975]\n",
       "---------------------------------------------------------------------------------------------\n",
       "Intercept                  2.518e+09   1.95e+08     12.885      0.000    2.13e+09     2.9e+09\n",
       "budget                        0.0118      0.004      2.965      0.003       0.004       0.020\n",
       "num_critic_for_reviews     2.782e+05   8242.615     33.751      0.000    2.62e+05    2.94e+05\n",
       "actor_3_facebook_likes    -1.248e+04   1358.592     -9.189      0.000   -1.51e+04   -9819.951\n",
       "actor_1_facebook_likes    -1.157e+04    815.425    -14.187      0.000   -1.32e+04   -9969.481\n",
       "cast_total_facebook_likes  1.164e+04    812.608     14.324      0.000       1e+04    1.32e+04\n",
       "title_year                -1.256e+06   9.78e+04    -12.841      0.000   -1.45e+06   -1.06e+06\n",
       "actor_2_facebook_likes    -1.087e+04    862.784    -12.598      0.000   -1.26e+04   -9178.134\n",
       "rating_PG                  2.194e+07   2.71e+06      8.111      0.000    1.66e+07    2.72e+07\n",
       "rating_R                  -2.882e+07   1.94e+06    -14.883      0.000   -3.26e+07    -2.5e+07\n",
       "==============================================================================\n",
       "Omnibus:                     1870.172   Durbin-Watson:                   1.369\n",
       "Prob(Omnibus):                  0.000   Jarque-Bera (JB):            21584.503\n",
       "Skew:                           2.059   Prob(JB):                         0.00\n",
       "Kurtosis:                      13.924   Cond. No.                     5.05e+10\n",
       "==============================================================================\n",
       "\n",
       "Warnings:\n",
       "[1] Standard Errors assume that the covariance matrix of the errors is correctly specified.\n",
       "[2] The condition number is large, 5.05e+10. This might indicate that there are\n",
       "strong multicollinearity or other numerical problems.\n",
       "\"\"\""
      ]
     },
     "execution_count": 377,
     "metadata": {},
     "output_type": "execute_result"
    }
   ],
   "source": [
    "lm.summary()"
   ]
  },
  {
   "cell_type": "code",
   "execution_count": 83,
   "metadata": {},
   "outputs": [
    {
     "data": {
      "text/html": [
       "<div>\n",
       "<style>\n",
       "    .dataframe thead tr:only-child th {\n",
       "        text-align: right;\n",
       "    }\n",
       "\n",
       "    .dataframe thead th {\n",
       "        text-align: left;\n",
       "    }\n",
       "\n",
       "    .dataframe tbody tr th {\n",
       "        vertical-align: top;\n",
       "    }\n",
       "</style>\n",
       "<table border=\"1\" class=\"dataframe\">\n",
       "  <thead>\n",
       "    <tr style=\"text-align: right;\">\n",
       "      <th></th>\n",
       "      <th>budget</th>\n",
       "    </tr>\n",
       "  </thead>\n",
       "  <tbody>\n",
       "    <tr>\n",
       "      <th>0</th>\n",
       "      <td>45854762.0</td>\n",
       "    </tr>\n",
       "  </tbody>\n",
       "</table>\n",
       "</div>"
      ],
      "text/plain": [
       "       budget\n",
       "0  45854762.0"
      ]
     },
     "execution_count": 83,
     "metadata": {},
     "output_type": "execute_result"
    }
   ],
   "source": [
    "X_new = pd.DataFrame({'budget': [45854762.00]})\n",
    "X_new"
   ]
  },
  {
   "cell_type": "code",
   "execution_count": 95,
   "metadata": {},
   "outputs": [
    {
     "name": "stdout",
     "output_type": "stream",
     "text": [
      "budget                       237000000.0\n",
      "num_critic_for_reviews             723.0\n",
      "actor_3_facebook_likes             855.0\n",
      "actor_1_facebook_likes            1000.0\n",
      "cast_total_facebook_likes         4834.0\n",
      "title_year                        2009.0\n",
      "actor_2_facebook_likes             936.0\n",
      "imdb_score                           7.9\n",
      "rating_Not Rated                     0.0\n",
      "rating_PG                            0.0\n",
      "rating_R                             0.0\n",
      "Name: 0, dtype: float64\n",
      "(3801, 11)\n"
     ]
    }
   ],
   "source": [
    "# Test X_new2\n",
    "\n",
    "X_new2 = df[top_11_lr]\n",
    "print X_new2.iloc[0]\n",
    "print X_new2.shape"
   ]
  },
  {
   "cell_type": "code",
   "execution_count": 105,
   "metadata": {
    "collapsed": true
   },
   "outputs": [],
   "source": [
    "# Let's predict the gross for the first user of our dataset using just the top 10 cominations of features!\n",
    "\n",
    "X_new2 = pd.DataFrame({'budget': [237000000],\n",
    " 'num_critic_for_reviews': [723],\n",
    " 'actor_3_facebook_likes': [855],\n",
    " 'actor_1_facebook_likes': [1000],\n",
    " 'cast_total_facebook_likes': [4834],\n",
    " 'title_year': [2009],\n",
    " 'actor_2_facebook_likes': [936],\n",
    " 'imdb_score': [7.9],\n",
    " 'rating_Not Rated': [0],\n",
    " 'rating_PG': [0],\n",
    " 'rating_R': [0]})"
   ]
  },
  {
   "cell_type": "code",
   "execution_count": 114,
   "metadata": {},
   "outputs": [
    {
     "data": {
      "text/plain": [
       "0    760505847.0\n",
       "1    309404152.0\n",
       "2    200074175.0\n",
       "3    448130642.0\n",
       "5     73058679.0\n",
       "Name: gross, dtype: float64"
      ]
     },
     "execution_count": 114,
     "metadata": {},
     "output_type": "execute_result"
    }
   ],
   "source": [
    "y.head()"
   ]
  },
  {
   "cell_type": "code",
   "execution_count": 106,
   "metadata": {},
   "outputs": [
    {
     "data": {
      "text/plain": [
       "222461646"
      ]
     },
     "execution_count": 106,
     "metadata": {},
     "output_type": "execute_result"
    }
   ],
   "source": [
    "### STATSMODELS ###\n",
    "\n",
    "# predict for a new observation\n",
    "int(lm.predict(X_new2))"
   ]
  },
  {
   "cell_type": "code",
   "execution_count": 118,
   "metadata": {},
   "outputs": [
    {
     "data": {
      "text/plain": [
       "222461646"
      ]
     },
     "execution_count": 118,
     "metadata": {},
     "output_type": "execute_result"
    }
   ],
   "source": [
    "int(lm.predict(X_new2))\n",
    "#the gross for average budget of $45m is about $52m based on this Linear Model."
   ]
  },
  {
   "cell_type": "code",
   "execution_count": 115,
   "metadata": {},
   "outputs": [
    {
     "data": {
      "text/plain": [
       "538044201"
      ]
     },
     "execution_count": 115,
     "metadata": {},
     "output_type": "execute_result"
    }
   ],
   "source": [
    "760505847 - 222461646\n",
    "\n",
    "# Wow, we are off by $538,044,201"
   ]
  },
  {
   "cell_type": "code",
   "execution_count": null,
   "metadata": {
    "collapsed": true
   },
   "outputs": [],
   "source": [
    "# Let's keep working on different models. "
   ]
  },
  {
   "cell_type": "markdown",
   "metadata": {},
   "source": [
    "# Linear, Ridge, Lasso Regression Models"
   ]
  },
  {
   "cell_type": "code",
   "execution_count": 35,
   "metadata": {},
   "outputs": [],
   "source": [
    "from sklearn.linear_model import LinearRegression, Ridge, Lasso"
   ]
  },
  {
   "cell_type": "code",
   "execution_count": 276,
   "metadata": {},
   "outputs": [
    {
     "data": {
      "text/plain": [
       "(3801, 18)"
      ]
     },
     "execution_count": 276,
     "metadata": {},
     "output_type": "execute_result"
    }
   ],
   "source": [
    "df.shape"
   ]
  },
  {
   "cell_type": "code",
   "execution_count": 277,
   "metadata": {
    "collapsed": true
   },
   "outputs": [],
   "source": [
    "X = df.drop(\"gross\", axis = 1)\n",
    "y = df.gross"
   ]
  },
  {
   "cell_type": "code",
   "execution_count": 278,
   "metadata": {},
   "outputs": [
    {
     "name": "stdout",
     "output_type": "stream",
     "text": [
      "Linear Regression score is  0.4051572274781259\n",
      "Ridge Regression score is  0.4051556269141605\n",
      "Lasso Regression score is  0.40513881979300725\n"
     ]
    }
   ],
   "source": [
    "lr = LinearRegression()\n",
    "lr.fit(X, y)\n",
    "\n",
    "print(\"Linear Regression score is \"), lr.score(X, y)\n",
    "\n",
    "ridge = Ridge(alpha= .4)\n",
    "ridge.fit(X, y)\n",
    "\n",
    "print(\"Ridge Regression score is \"), ridge.score(X, y)\n",
    "\n",
    "lasso = Lasso(alpha=.8)\n",
    "lasso.fit(X, y)\n",
    "\n",
    "print(\"Lasso Regression score is \"), lasso.score(X, y)"
   ]
  },
  {
   "cell_type": "code",
   "execution_count": 279,
   "metadata": {
    "collapsed": true
   },
   "outputs": [],
   "source": [
    "#Make train test split\n",
    "\n",
    "X_train, X_test, y_train, y_test = train_test_split(X, y, test_size = .33, random_state = 888)"
   ]
  },
  {
   "cell_type": "code",
   "execution_count": 185,
   "metadata": {},
   "outputs": [
    {
     "name": "stdout",
     "output_type": "stream",
     "text": [
      "0.37586093136047094\n",
      "0.43049304399489013\n"
     ]
    }
   ],
   "source": [
    "#Linear\n",
    "\n",
    "lr = LinearRegression()\n",
    "lr.fit(X_train, y_train)\n",
    "print lr.score(X_train, y_train)\n",
    "print lr.score(X_test, y_test)"
   ]
  },
  {
   "cell_type": "code",
   "execution_count": 186,
   "metadata": {},
   "outputs": [
    {
     "name": "stdout",
     "output_type": "stream",
     "text": [
      "0.3758573473076394\n",
      "0.4304800947151536\n"
     ]
    }
   ],
   "source": [
    "#Ridge\n",
    "\n",
    "ridge = Ridge(alpha=.4)\n",
    "ridge.fit(X_train, y_train)\n",
    "print ridge.score(X_train, y_train)\n",
    "print ridge.score(X_test, y_test)"
   ]
  },
  {
   "cell_type": "code",
   "execution_count": 187,
   "metadata": {},
   "outputs": [
    {
     "name": "stdout",
     "output_type": "stream",
     "text": [
      "0.37576779478871225\n",
      "0.42909235477947744\n"
     ]
    }
   ],
   "source": [
    "#Lasso\n",
    "\n",
    "lasso = Lasso(alpha=20000)\n",
    "lasso.fit(X_train, y_train)\n",
    "print lasso.score(X_train, y_train)\n",
    "print lasso.score(X_test, y_test)"
   ]
  },
  {
   "cell_type": "code",
   "execution_count": null,
   "metadata": {
    "collapsed": true
   },
   "outputs": [],
   "source": []
  },
  {
   "cell_type": "code",
   "execution_count": 188,
   "metadata": {
    "collapsed": true
   },
   "outputs": [],
   "source": [
    "coef = lasso.coef_"
   ]
  },
  {
   "cell_type": "code",
   "execution_count": 190,
   "metadata": {},
   "outputs": [
    {
     "data": {
      "text/plain": [
       "{-45936124.45619906: 'rating_Not Rated',\n",
       " -36671734.6972763: 'rating_Unrated',\n",
       " -25910030.894074146: 'rating_R',\n",
       " -1054230.8144572184: 'title_year',\n",
       " -950031.7878907718: 'facenumber_in_poster',\n",
       " -8822.949234156198: 'actor_1_facebook_likes',\n",
       " -8349.602243564877: 'actor_2_facebook_likes',\n",
       " -8017.927157568993: 'actor_3_facebook_likes',\n",
       " 0.006747152813736326: 'budget',\n",
       " 100.42016132539746: 'movie_facebook_likes',\n",
       " 480.9813684618588: 'director_facebook_likes',\n",
       " 8870.689410272815: 'cast_total_facebook_likes',\n",
       " 218750.85948381454: 'num_critic_for_reviews',\n",
       " 4052905.435277886: 'imdb_score',\n",
       " 4380488.30682882: 'aspect_ratio',\n",
       " 5506449.5075379815: 'rating_PG-13',\n",
       " 23092397.777739223: 'rating_PG',\n",
       " 'reverse': False}"
      ]
     },
     "execution_count": 190,
     "metadata": {},
     "output_type": "execute_result"
    }
   ],
   "source": [
    "#Zip column names and coef\n",
    "dict(sorted(zip(coef, X.columns)), reverse = False)"
   ]
  },
  {
   "cell_type": "code",
   "execution_count": 290,
   "metadata": {},
   "outputs": [],
   "source": [
    "# Combinations via itertools\n",
    "\n",
    "combos = combinations(X.drop(['director_facebook_likes', 'cast_total_facebook_likes', 'facenumber_in_poster'], axis = 1).columns, 12)"
   ]
  },
  {
   "cell_type": "code",
   "execution_count": 291,
   "metadata": {
    "collapsed": true
   },
   "outputs": [],
   "source": [
    "combos = list(combos)"
   ]
  },
  {
   "cell_type": "code",
   "execution_count": 292,
   "metadata": {
    "collapsed": true
   },
   "outputs": [],
   "source": [
    "def ls_model(features):\n",
    "    X = df[features]\n",
    "    lr = LinearRegression()\n",
    "    lr.fit(X, y)\n",
    "    return lr.score(X, y)"
   ]
  },
  {
   "cell_type": "code",
   "execution_count": 293,
   "metadata": {},
   "outputs": [
    {
     "data": {
      "text/plain": [
       "(('num_critic_for_reviews',\n",
       "  'actor_3_facebook_likes',\n",
       "  'budget',\n",
       "  'title_year',\n",
       "  'actor_2_facebook_likes',\n",
       "  'imdb_score',\n",
       "  'movie_facebook_likes',\n",
       "  'rating_Not Rated',\n",
       "  'rating_PG',\n",
       "  'rating_PG-13',\n",
       "  'rating_R',\n",
       "  'rating_Unrated'),\n",
       " 0.37137527035394113)"
      ]
     },
     "execution_count": 293,
     "metadata": {},
     "output_type": "execute_result"
    }
   ],
   "source": [
    "scores = []\n",
    "\n",
    "for i in combos:\n",
    "    i = list(i)\n",
    "    score = lr_model(i)\n",
    "    scores.append(score)\n",
    "    \n",
    "scores_dict = zip(combos,scores)\n",
    "\n",
    "sorted(scores_dict, key = lambda x:x[1], reverse=True)[0]\n",
    "# R-Squared of 0.37 with 12 features relative to 0.41 with all 17 features."
   ]
  },
  {
   "cell_type": "code",
   "execution_count": 294,
   "metadata": {},
   "outputs": [
    {
     "name": "stdout",
     "output_type": "stream",
     "text": [
      "(3801, 12)\n"
     ]
    }
   ],
   "source": [
    "# further drop weak coeficients from the lasso model. Surprisingly \"budget\" is insignificant!\n",
    "\n",
    "cols = ['num_critic_for_reviews',\n",
    "  'actor_3_facebook_likes',\n",
    "  'budget',\n",
    "  'title_year',\n",
    "  'actor_2_facebook_likes',\n",
    "  'imdb_score',\n",
    "  'movie_facebook_likes',\n",
    "  'rating_Not Rated',\n",
    "  'rating_PG',\n",
    "  'rating_PG-13',\n",
    "  'rating_R',\n",
    "  'rating_Unrated']\n",
    "\n",
    "XX = X[cols]\n",
    "print XX.shape"
   ]
  },
  {
   "cell_type": "code",
   "execution_count": 303,
   "metadata": {},
   "outputs": [
    {
     "name": "stdout",
     "output_type": "stream",
     "text": [
      "Linear Regression score is  0.3713752703540063\n",
      "Ridge Regression score is  0.3713752703540063\n",
      "Lasso Regression score is  0.37137527035394113\n"
     ]
    }
   ],
   "source": [
    "lr = LinearRegression()\n",
    "lr.fit(XX, y)\n",
    "\n",
    "print(\"Linear Regression score is \"), lr.score(XX, y)\n",
    "\n",
    "ridge = Ridge(alpha= 0)\n",
    "ridge.fit(XX, y)\n",
    "\n",
    "print(\"Ridge Regression score is \"), ridge.score(XX, y)\n",
    "\n",
    "lasso = Lasso(alpha=1)\n",
    "lasso.fit(XX, y)\n",
    "\n",
    "print(\"Lasso Regression score is \"), lasso.score(XX, y)"
   ]
  },
  {
   "cell_type": "code",
   "execution_count": 296,
   "metadata": {
    "collapsed": true
   },
   "outputs": [],
   "source": [
    "b = X[\"budget\"]"
   ]
  },
  {
   "cell_type": "code",
   "execution_count": null,
   "metadata": {
    "collapsed": true
   },
   "outputs": [],
   "source": []
  },
  {
   "cell_type": "code",
   "execution_count": 313,
   "metadata": {
    "collapsed": true
   },
   "outputs": [],
   "source": [
    "ridge_alphas = np.logspace(-5, 0, 50)"
   ]
  },
  {
   "cell_type": "code",
   "execution_count": 314,
   "metadata": {},
   "outputs": [
    {
     "data": {
      "text/plain": [
       "array([1.00000000e-05, 1.26485522e-05, 1.59985872e-05, 2.02358965e-05,\n",
       "       2.55954792e-05, 3.23745754e-05, 4.09491506e-05, 5.17947468e-05,\n",
       "       6.55128557e-05, 8.28642773e-05, 1.04811313e-04, 1.32571137e-04,\n",
       "       1.67683294e-04, 2.12095089e-04, 2.68269580e-04, 3.39322177e-04,\n",
       "       4.29193426e-04, 5.42867544e-04, 6.86648845e-04, 8.68511374e-04,\n",
       "       1.09854114e-03, 1.38949549e-03, 1.75751062e-03, 2.22299648e-03,\n",
       "       2.81176870e-03, 3.55648031e-03, 4.49843267e-03, 5.68986603e-03,\n",
       "       7.19685673e-03, 9.10298178e-03, 1.15139540e-02, 1.45634848e-02,\n",
       "       1.84206997e-02, 2.32995181e-02, 2.94705170e-02, 3.72759372e-02,\n",
       "       4.71486636e-02, 5.96362332e-02, 7.54312006e-02, 9.54095476e-02,\n",
       "       1.20679264e-01, 1.52641797e-01, 1.93069773e-01, 2.44205309e-01,\n",
       "       3.08884360e-01, 3.90693994e-01, 4.94171336e-01, 6.25055193e-01,\n",
       "       7.90604321e-01, 1.00000000e+00])"
      ]
     },
     "execution_count": 314,
     "metadata": {},
     "output_type": "execute_result"
    }
   ],
   "source": [
    "ridge_alphas"
   ]
  },
  {
   "cell_type": "code",
   "execution_count": 315,
   "metadata": {},
   "outputs": [
    {
     "data": {
      "image/png": "[encoded data removed]",
      "text/plain": [
       "<matplotlib.figure.Figure at 0x1057983d0>"
      ]
     },
     "metadata": {},
     "output_type": "display_data"
    }
   ],
   "source": [
    "ridge_cv_scores = []\n",
    "\n",
    "for alpha in ridge_alphas:\n",
    "    cv_score = cross_val_score(Ridge(alpha= alpha), XX, y, cv = 5, scoring = \"neg_mean_squared_error\")\n",
    "    cv_score1 = np.sqrt(abs(cv_score)).mean() # return average RMSE\n",
    "    ridge_cv_scores.append(cv_score1)\n",
    "\n",
    "plt.figure(figsize=(10, 7))\n",
    "plt.title(\"Ridge Regression Validation Plot\")\n",
    "plt.plot(ridge_alphas, ridge_cv_scores);"
   ]
  },
  {
   "cell_type": "code",
   "execution_count": 251,
   "metadata": {
    "collapsed": true
   },
   "outputs": [],
   "source": [
    "# the lowest RMSE for Ridge is around .0 ish.."
   ]
  },
  {
   "cell_type": "code",
   "execution_count": 316,
   "metadata": {
    "collapsed": true
   },
   "outputs": [],
   "source": [
    "#Alpha values for lasso model\n",
    "lasso_alphas = np.logspace(-5, 0, 50)"
   ]
  },
  {
   "cell_type": "code",
   "execution_count": 317,
   "metadata": {},
   "outputs": [
    {
     "data": {
      "text/plain": [
       "array([1.00000000e-05, 1.26485522e-05, 1.59985872e-05, 2.02358965e-05,\n",
       "       2.55954792e-05, 3.23745754e-05, 4.09491506e-05, 5.17947468e-05,\n",
       "       6.55128557e-05, 8.28642773e-05, 1.04811313e-04, 1.32571137e-04,\n",
       "       1.67683294e-04, 2.12095089e-04, 2.68269580e-04, 3.39322177e-04,\n",
       "       4.29193426e-04, 5.42867544e-04, 6.86648845e-04, 8.68511374e-04,\n",
       "       1.09854114e-03, 1.38949549e-03, 1.75751062e-03, 2.22299648e-03,\n",
       "       2.81176870e-03, 3.55648031e-03, 4.49843267e-03, 5.68986603e-03,\n",
       "       7.19685673e-03, 9.10298178e-03, 1.15139540e-02, 1.45634848e-02,\n",
       "       1.84206997e-02, 2.32995181e-02, 2.94705170e-02, 3.72759372e-02,\n",
       "       4.71486636e-02, 5.96362332e-02, 7.54312006e-02, 9.54095476e-02,\n",
       "       1.20679264e-01, 1.52641797e-01, 1.93069773e-01, 2.44205309e-01,\n",
       "       3.08884360e-01, 3.90693994e-01, 4.94171336e-01, 6.25055193e-01,\n",
       "       7.90604321e-01, 1.00000000e+00])"
      ]
     },
     "execution_count": 317,
     "metadata": {},
     "output_type": "execute_result"
    }
   ],
   "source": [
    "lasso_alphas"
   ]
  },
  {
   "cell_type": "code",
   "execution_count": 318,
   "metadata": {},
   "outputs": [
    {
     "data": {
      "image/png": "[encoded data removed]",
      "text/plain": [
       "<matplotlib.figure.Figure at 0x1a0c136450>"
      ]
     },
     "metadata": {},
     "output_type": "display_data"
    }
   ],
   "source": [
    "lasso_cv_scores = []\n",
    "\n",
    "for i in lasso_alphas:\n",
    "    cv_score = cross_val_score(Lasso(alpha=i), XX, y, cv = 5, scoring = \"neg_mean_squared_error\")\n",
    "    cv_score1 = np.sqrt(abs(cv_score)).mean() # return average RMSE\n",
    "    lasso_cv_scores.append(cv_score1)\n",
    "    \n",
    "plt.figure(figsize=(10, 7))\n",
    "plt.title(\"Lasso Regression Validation Plot\")\n",
    "plt.plot(lasso_alphas, lasso_cv_scores);"
   ]
  },
  {
   "cell_type": "code",
   "execution_count": null,
   "metadata": {
    "collapsed": true
   },
   "outputs": [],
   "source": []
  },
  {
   "cell_type": "code",
   "execution_count": null,
   "metadata": {
    "collapsed": true
   },
   "outputs": [],
   "source": []
  },
  {
   "cell_type": "code",
   "execution_count": null,
   "metadata": {
    "collapsed": true
   },
   "outputs": [],
   "source": []
  },
  {
   "cell_type": "code",
   "execution_count": null,
   "metadata": {
    "collapsed": true
   },
   "outputs": [],
   "source": []
  },
  {
   "cell_type": "code",
   "execution_count": null,
   "metadata": {
    "collapsed": true
   },
   "outputs": [],
   "source": []
  },
  {
   "cell_type": "code",
   "execution_count": 319,
   "metadata": {
    "collapsed": true
   },
   "outputs": [],
   "source": [
    "# Using CV Score for Ridge here... optimal around 1.3 alpha\n",
    "\n",
    "alpha_range = np.logspace(-10, 0, 50)\n",
    "\n",
    "RMSE_scores = []\n",
    "\n",
    "for alpha in alpha_range:\n",
    "    reg = Ridge(alpha = alpha, random_state=123)\n",
    "    MSE_scores = cross_val_score(reg, XX, y, cv=5, scoring='neg_mean_squared_error')\n",
    "    RMSE_scores.append(np.mean(np.sqrt(-MSE_scores)))"
   ]
  },
  {
   "cell_type": "code",
   "execution_count": 320,
   "metadata": {},
   "outputs": [
    {
     "data": {
      "image/png": "[encoded data removed]",
      "text/plain": [
       "<matplotlib.figure.Figure at 0x1057bd6d0>"
      ]
     },
     "metadata": {},
     "output_type": "display_data"
    }
   ],
   "source": [
    "# plot n_alphas (x-axis) versus RMSE (y-axis)\n",
    "plt.figure(figsize=(10, 7))\n",
    "plt.plot(alpha_range, RMSE_scores)\n",
    "plt.xlabel('Alpha')\n",
    "plt.ylabel('RMSE');"
   ]
  },
  {
   "cell_type": "code",
   "execution_count": 321,
   "metadata": {},
   "outputs": [
    {
     "data": {
      "text/plain": [
       "[(61344575.01380588, 0.059636233165946365),\n",
       " (61344604.24021666, 0.09540954763499963),\n",
       " (61344612.387400374, 0.03727593720314938),\n",
       " (61344659.17955877, 0.023299518105153717),\n",
       " (61344698.021945655, 0.014563484775012445)]"
      ]
     },
     "execution_count": 321,
     "metadata": {},
     "output_type": "execute_result"
    }
   ],
   "source": [
    "sorted(zip(RMSE_scores, alpha_range), reverse= False)[:5]"
   ]
  },
  {
   "cell_type": "code",
   "execution_count": 322,
   "metadata": {
    "collapsed": true
   },
   "outputs": [],
   "source": [
    "alpha_range = np.logspace(-10, 0, 50)\n",
    "\n",
    "RMSE_scores = []\n",
    "\n",
    "for alpha in alpha_range:\n",
    "    reg = Lasso(alpha = alpha, random_state=123)\n",
    "    MSE_scores = cross_val_score(reg, XX, y, cv=5, scoring='neg_mean_squared_error')\n",
    "    RMSE_scores.append(np.mean(np.sqrt(-MSE_scores)))"
   ]
  },
  {
   "cell_type": "code",
   "execution_count": 323,
   "metadata": {},
   "outputs": [
    {
     "data": {
      "image/png": "[encoded data removed]",
      "text/plain": [
       "<matplotlib.figure.Figure at 0x1a0c6563d0>"
      ]
     },
     "metadata": {},
     "output_type": "display_data"
    }
   ],
   "source": [
    "# plot n_alphas (x-axis) versus RMSE (y-axis)\n",
    "plt.figure(figsize=(10, 7))\n",
    "plt.plot(alpha_range, RMSE_scores)\n",
    "plt.xlabel('Lasso_Alpha')\n",
    "plt.ylabel('RMSE');"
   ]
  },
  {
   "cell_type": "code",
   "execution_count": null,
   "metadata": {
    "collapsed": true
   },
   "outputs": [],
   "source": []
  },
  {
   "cell_type": "code",
   "execution_count": null,
   "metadata": {
    "collapsed": true
   },
   "outputs": [],
   "source": []
  },
  {
   "cell_type": "code",
   "execution_count": null,
   "metadata": {
    "collapsed": true
   },
   "outputs": [],
   "source": []
  },
  {
   "cell_type": "code",
   "execution_count": null,
   "metadata": {
    "collapsed": true
   },
   "outputs": [],
   "source": []
  },
  {
   "cell_type": "markdown",
   "metadata": {},
   "source": [
    "# Polynomial Regression Model"
   ]
  },
  {
   "cell_type": "code",
   "execution_count": 131,
   "metadata": {
    "collapsed": true
   },
   "outputs": [],
   "source": [
    "import warnings\n",
    "warnings.filterwarnings(\"ignore\")"
   ]
  },
  {
   "cell_type": "code",
   "execution_count": 136,
   "metadata": {
    "collapsed": true
   },
   "outputs": [],
   "source": [
    "#Imports\n",
    "import numpy as np\n",
    "import pandas as pd\n",
    "import matplotlib.pyplot as plt\n",
    "% matplotlib inline\n",
    "from sklearn.linear_model import LinearRegression, Ridge, Lasso\n",
    "from sklearn.cross_validation import train_test_split, cross_val_score\n",
    "from sklearn.preprocessing import PolynomialFeatures\n",
    "from sklearn.pipeline import make_pipeline\n",
    "from sklearn.metrics import mean_absolute_error, mean_squared_error, r2_score;"
   ]
  },
  {
   "cell_type": "code",
   "execution_count": 324,
   "metadata": {},
   "outputs": [
    {
     "data": {
      "text/plain": [
       "(3801, 17)"
      ]
     },
     "execution_count": 324,
     "metadata": {},
     "output_type": "execute_result"
    }
   ],
   "source": [
    "X.shape"
   ]
  },
  {
   "cell_type": "code",
   "execution_count": 325,
   "metadata": {},
   "outputs": [
    {
     "data": {
      "text/plain": [
       "0.4397093284489696"
      ]
     },
     "execution_count": 325,
     "metadata": {},
     "output_type": "execute_result"
    }
   ],
   "source": [
    "poly = PolynomialFeatures(degree=2)\n",
    "pX = poly.fit_transform(X_train) \n",
    "pX_test = poly.fit_transform(X_test) \n",
    "lr.fit(pX, y_train)\n",
    "lr.score(pX_test,y_test)"
   ]
  },
  {
   "cell_type": "code",
   "execution_count": 326,
   "metadata": {},
   "outputs": [
    {
     "data": {
      "text/plain": [
       "59644657.14164279"
      ]
     },
     "execution_count": 326,
     "metadata": {},
     "output_type": "execute_result"
    }
   ],
   "source": [
    "y_pred = lr.predict(pX_test)\n",
    "rms = np.sqrt(mean_squared_error(y_test, y_pred))\n",
    "rms"
   ]
  },
  {
   "cell_type": "code",
   "execution_count": null,
   "metadata": {},
   "outputs": [],
   "source": []
  },
  {
   "cell_type": "markdown",
   "metadata": {
    "collapsed": true
   },
   "source": [
    "# Predict New Movies"
   ]
  },
  {
   "cell_type": "code",
   "execution_count": 428,
   "metadata": {},
   "outputs": [],
   "source": [
    "cols = ['num_critic_for_reviews',\n",
    " 'actor_3_facebook_likes',\n",
    " 'budget',\n",
    " 'actor_2_facebook_likes',\n",
    " 'movie_facebook_likes',\n",
    " 'rating_PG-13',\n",
    " 'rating_R']"
   ]
  },
  {
   "cell_type": "code",
   "execution_count": 429,
   "metadata": {},
   "outputs": [
    {
     "name": "stdout",
     "output_type": "stream",
     "text": [
      "31786429.101001933\n",
      "[ 2.33442903e+05  5.14322338e+03  1.25489555e-02  1.05216378e+03\n",
      "  8.51321430e+01 -1.56674630e+07 -4.55608114e+07]\n",
      "0.33032028561411464\n"
     ]
    }
   ],
   "source": [
    "### SCIKIT-LEARN ###\n",
    "\n",
    "# create X and y\n",
    "\n",
    "X = df[cols]\n",
    "y = df.gross\n",
    "\n",
    "# instantiate and fit\n",
    "linreg = LinearRegression()\n",
    "linreg.fit(X, y)\n",
    "\n",
    "# print the coefficients\n",
    "print linreg.intercept_\n",
    "print linreg.coef_\n",
    "print linreg.score(X, y)"
   ]
  },
  {
   "cell_type": "code",
   "execution_count": 430,
   "metadata": {},
   "outputs": [],
   "source": [
    "# Proud Mary (2018)\n",
    "# http://www.imdb.com/title/tt6421110/?ref_=tt_rt\n",
    "\n",
    "movie_1 = pd.DataFrame({'num_critic_for_reviews': [723],\n",
    " 'actor_3_facebook_likes': [12],\n",
    " 'budget': [14000000],                       \n",
    " 'actor_2_facebook_likes': [573],\n",
    " 'movie_facebook_likes': [751],                     \n",
    " 'rating_PG-13': [0],\n",
    " 'rating_R': [1]})"
   ]
  },
  {
   "cell_type": "code",
   "execution_count": 431,
   "metadata": {},
   "outputs": [
    {
     "data": {
      "text/plain": [
       "121077531"
      ]
     },
     "execution_count": 431,
     "metadata": {},
     "output_type": "execute_result"
    }
   ],
   "source": [
    "int(linreg.predict(movie_1))"
   ]
  },
  {
   "cell_type": "code",
   "execution_count": null,
   "metadata": {
    "collapsed": true
   },
   "outputs": [],
   "source": [
    "# My prediction for Proud Mary is $121,077,531\n",
    "# Box Office\n",
    "# Budget:$14,000,000 (estimated)\n",
    "# Gross USA: $11,701,440, 15 January 2018"
   ]
  },
  {
   "cell_type": "code",
   "execution_count": 437,
   "metadata": {},
   "outputs": [],
   "source": [
    "# The Post (2017)\n",
    "# http://www.imdb.com/title/tt6294822/?ref_=fn_al_tt_1\n",
    "\n",
    "movie_2 = pd.DataFrame({'num_critic_for_reviews': [6996],\n",
    " 'actor_3_facebook_likes': [12],\n",
    " 'budget': [50000000],\n",
    " 'actor_2_facebook_likes': [15000],\n",
    " 'movie_facebook_likes': [7000],\n",
    " 'rating_PG-13': [1],\n",
    " 'rating_R': [0]})"
   ]
  },
  {
   "cell_type": "code",
   "execution_count": 438,
   "metadata": {},
   "outputs": [
    {
     "data": {
      "text/plain": [
       "3526412415"
      ]
     },
     "execution_count": 438,
     "metadata": {},
     "output_type": "execute_result"
    }
   ],
   "source": [
    "int(linreg.predict(movie_2))"
   ]
  },
  {
   "cell_type": "code",
   "execution_count": null,
   "metadata": {
    "collapsed": true
   },
   "outputs": [],
   "source": [
    "# My prediction for The Post is $3,526,412,415!!!\n",
    "#  $30,129,074 is the cumulative world wide gross. :/"
   ]
  },
  {
   "cell_type": "code",
   "execution_count": null,
   "metadata": {},
   "outputs": [],
   "source": []
  },
  {
   "cell_type": "code",
   "execution_count": null,
   "metadata": {
    "collapsed": true
   },
   "outputs": [],
   "source": []
  },
  {
   "cell_type": "code",
   "execution_count": null,
   "metadata": {},
   "outputs": [],
   "source": []
  },
  {
   "cell_type": "code",
   "execution_count": null,
   "metadata": {
    "collapsed": true
   },
   "outputs": [],
   "source": []
  },
  {
   "cell_type": "code",
   "execution_count": null,
   "metadata": {
    "collapsed": true
   },
   "outputs": [],
   "source": []
  },
  {
   "cell_type": "code",
   "execution_count": null,
   "metadata": {
    "collapsed": true
   },
   "outputs": [],
   "source": []
  },
  {
   "cell_type": "code",
   "execution_count": null,
   "metadata": {
    "collapsed": true
   },
   "outputs": [],
   "source": []
  },
  {
   "cell_type": "code",
   "execution_count": null,
   "metadata": {
    "collapsed": true
   },
   "outputs": [],
   "source": []
  },
  {
   "cell_type": "code",
   "execution_count": null,
   "metadata": {
    "collapsed": true
   },
   "outputs": [],
   "source": []
  },
  {
   "cell_type": "code",
   "execution_count": null,
   "metadata": {
    "collapsed": true
   },
   "outputs": [],
   "source": []
  },
  {
   "cell_type": "code",
   "execution_count": null,
   "metadata": {
    "collapsed": true
   },
   "outputs": [],
   "source": []
  },
  {
   "cell_type": "code",
   "execution_count": null,
   "metadata": {
    "collapsed": true
   },
   "outputs": [],
   "source": []
  },
  {
   "cell_type": "markdown",
   "metadata": {},
   "source": [
    "# Decision Tree & Random Forest Model | Feature Engineering [cheat code!]"
   ]
  },
  {
   "cell_type": "code",
   "execution_count": 638,
   "metadata": {},
   "outputs": [
    {
     "data": {
      "text/plain": [
       "52005758.516443044"
      ]
     },
     "execution_count": 638,
     "metadata": {},
     "output_type": "execute_result"
    }
   ],
   "source": [
    "X = df.drop(\"gross\", axis = 1)\n",
    "y = df.gross\n",
    "y.mean()\n",
    "# Average Gross per movie is about $50 Million."
   ]
  },
  {
   "cell_type": "code",
   "execution_count": 670,
   "metadata": {
    "collapsed": true
   },
   "outputs": [],
   "source": [
    "# Scaled the data\n",
    "from sklearn.preprocessing import StandardScaler\n",
    "ss = StandardScaler()\n",
    "\n",
    "#Fit data on scalers\n",
    "ss.fit(X);"
   ]
  },
  {
   "cell_type": "code",
   "execution_count": 676,
   "metadata": {},
   "outputs": [
    {
     "data": {
      "text/html": [
       "<div>\n",
       "<style>\n",
       "    .dataframe thead tr:only-child th {\n",
       "        text-align: right;\n",
       "    }\n",
       "\n",
       "    .dataframe thead th {\n",
       "        text-align: left;\n",
       "    }\n",
       "\n",
       "    .dataframe tbody tr th {\n",
       "        vertical-align: top;\n",
       "    }\n",
       "</style>\n",
       "<table border=\"1\" class=\"dataframe\">\n",
       "  <thead>\n",
       "    <tr style=\"text-align: right;\">\n",
       "      <th></th>\n",
       "      <th>num_critic_for_reviews</th>\n",
       "      <th>director_facebook_likes</th>\n",
       "      <th>actor_3_facebook_likes</th>\n",
       "      <th>actor_1_facebook_likes</th>\n",
       "      <th>cast_total_facebook_likes</th>\n",
       "      <th>facenumber_in_poster</th>\n",
       "      <th>budget</th>\n",
       "      <th>title_year</th>\n",
       "      <th>actor_2_facebook_likes</th>\n",
       "      <th>imdb_score</th>\n",
       "      <th>aspect_ratio</th>\n",
       "      <th>movie_facebook_likes</th>\n",
       "      <th>rating_Not Rated</th>\n",
       "      <th>rating_PG</th>\n",
       "      <th>rating_PG-13</th>\n",
       "      <th>rating_R</th>\n",
       "      <th>rating_Unrated</th>\n",
       "    </tr>\n",
       "  </thead>\n",
       "  <tbody>\n",
       "    <tr>\n",
       "      <th>0</th>\n",
       "      <td>4.509574</td>\n",
       "      <td>-0.261782</td>\n",
       "      <td>0.048394</td>\n",
       "      <td>-0.432019</td>\n",
       "      <td>-0.345573</td>\n",
       "      <td>-0.671875</td>\n",
       "      <td>0.850706</td>\n",
       "      <td>0.603048</td>\n",
       "      <td>-0.235919</td>\n",
       "      <td>1.355991</td>\n",
       "      <td>-0.937143</td>\n",
       "      <td>1.111495</td>\n",
       "      <td>-0.095004</td>\n",
       "      <td>-0.418718</td>\n",
       "      <td>1.376553</td>\n",
       "      <td>-0.903837</td>\n",
       "      <td>-0.078025</td>\n",
       "    </tr>\n",
       "    <tr>\n",
       "      <th>1</th>\n",
       "      <td>1.102006</td>\n",
       "      <td>-0.077230</td>\n",
       "      <td>0.125353</td>\n",
       "      <td>2.092889</td>\n",
       "      <td>1.939536</td>\n",
       "      <td>-0.671875</td>\n",
       "      <td>1.131092</td>\n",
       "      <td>0.402085</td>\n",
       "      <td>0.662424</td>\n",
       "      <td>0.599492</td>\n",
       "      <td>0.680759</td>\n",
       "      <td>-0.433692</td>\n",
       "      <td>-0.095004</td>\n",
       "      <td>-0.418718</td>\n",
       "      <td>1.376553</td>\n",
       "      <td>-0.903837</td>\n",
       "      <td>-0.078025</td>\n",
       "    </tr>\n",
       "    <tr>\n",
       "      <th>2</th>\n",
       "      <td>3.530201</td>\n",
       "      <td>-0.261782</td>\n",
       "      <td>-0.319947</td>\n",
       "      <td>0.215393</td>\n",
       "      <td>0.014974</td>\n",
       "      <td>-0.184695</td>\n",
       "      <td>0.886311</td>\n",
       "      <td>1.205936</td>\n",
       "      <td>-0.355948</td>\n",
       "      <td>0.315805</td>\n",
       "      <td>0.680759</td>\n",
       "      <td>3.546335</td>\n",
       "      <td>-0.095004</td>\n",
       "      <td>-0.418718</td>\n",
       "      <td>1.376553</td>\n",
       "      <td>-0.903837</td>\n",
       "      <td>-0.078025</td>\n",
       "    </tr>\n",
       "    <tr>\n",
       "      <th>3</th>\n",
       "      <td>5.238032</td>\n",
       "      <td>6.949846</td>\n",
       "      <td>11.801863</td>\n",
       "      <td>1.251253</td>\n",
       "      <td>5.006706</td>\n",
       "      <td>-0.671875</td>\n",
       "      <td>0.908564</td>\n",
       "      <td>0.904492</td>\n",
       "      <td>4.641305</td>\n",
       "      <td>1.923366</td>\n",
       "      <td>0.680759</td>\n",
       "      <td>7.245420</td>\n",
       "      <td>-0.095004</td>\n",
       "      <td>-0.418718</td>\n",
       "      <td>1.376553</td>\n",
       "      <td>-0.903837</td>\n",
       "      <td>-0.078025</td>\n",
       "    </tr>\n",
       "    <tr>\n",
       "      <th>4</th>\n",
       "      <td>2.397044</td>\n",
       "      <td>-0.106076</td>\n",
       "      <td>-0.124100</td>\n",
       "      <td>-0.455326</td>\n",
       "      <td>-0.501061</td>\n",
       "      <td>-0.184695</td>\n",
       "      <td>0.969537</td>\n",
       "      <td>0.904492</td>\n",
       "      <td>-0.303118</td>\n",
       "      <td>0.126680</td>\n",
       "      <td>0.680759</td>\n",
       "      <td>0.690080</td>\n",
       "      <td>-0.095004</td>\n",
       "      <td>-0.418718</td>\n",
       "      <td>1.376553</td>\n",
       "      <td>-0.903837</td>\n",
       "      <td>-0.078025</td>\n",
       "    </tr>\n",
       "  </tbody>\n",
       "</table>\n",
       "</div>"
      ],
      "text/plain": [
       "   num_critic_for_reviews  director_facebook_likes  actor_3_facebook_likes  \\\n",
       "0                4.509574                -0.261782                0.048394   \n",
       "1                1.102006                -0.077230                0.125353   \n",
       "2                3.530201                -0.261782               -0.319947   \n",
       "3                5.238032                 6.949846               11.801863   \n",
       "4                2.397044                -0.106076               -0.124100   \n",
       "\n",
       "   actor_1_facebook_likes  cast_total_facebook_likes  facenumber_in_poster  \\\n",
       "0               -0.432019                  -0.345573             -0.671875   \n",
       "1                2.092889                   1.939536             -0.671875   \n",
       "2                0.215393                   0.014974             -0.184695   \n",
       "3                1.251253                   5.006706             -0.671875   \n",
       "4               -0.455326                  -0.501061             -0.184695   \n",
       "\n",
       "     budget  title_year  actor_2_facebook_likes  imdb_score  aspect_ratio  \\\n",
       "0  0.850706    0.603048               -0.235919    1.355991     -0.937143   \n",
       "1  1.131092    0.402085                0.662424    0.599492      0.680759   \n",
       "2  0.886311    1.205936               -0.355948    0.315805      0.680759   \n",
       "3  0.908564    0.904492                4.641305    1.923366      0.680759   \n",
       "4  0.969537    0.904492               -0.303118    0.126680      0.680759   \n",
       "\n",
       "   movie_facebook_likes  rating_Not Rated  rating_PG  rating_PG-13  rating_R  \\\n",
       "0              1.111495         -0.095004  -0.418718      1.376553 -0.903837   \n",
       "1             -0.433692         -0.095004  -0.418718      1.376553 -0.903837   \n",
       "2              3.546335         -0.095004  -0.418718      1.376553 -0.903837   \n",
       "3              7.245420         -0.095004  -0.418718      1.376553 -0.903837   \n",
       "4              0.690080         -0.095004  -0.418718      1.376553 -0.903837   \n",
       "\n",
       "   rating_Unrated  \n",
       "0       -0.078025  \n",
       "1       -0.078025  \n",
       "2       -0.078025  \n",
       "3       -0.078025  \n",
       "4       -0.078025  "
      ]
     },
     "execution_count": 676,
     "metadata": {},
     "output_type": "execute_result"
    }
   ],
   "source": [
    "X_ss = ss.transform(X)\n",
    "X_mm = mm.transform(X)\n",
    "\n",
    "X_ss = pd.DataFrame(X_ss, columns = X.columns)\n",
    "\n",
    "X_ss.head()"
   ]
  },
  {
   "cell_type": "code",
   "execution_count": 639,
   "metadata": {
    "collapsed": true
   },
   "outputs": [],
   "source": [
    "from sklearn.tree import DecisionTreeRegressor\n",
    "import numpy as np"
   ]
  },
  {
   "cell_type": "code",
   "execution_count": 677,
   "metadata": {
    "collapsed": true
   },
   "outputs": [],
   "source": [
    "# list of values to try for max_depth\n",
    "max_depth_range = range(1, 21)\n",
    "\n",
    "# list to store the average RMSE for each value of max_depth\n",
    "RMSE_scores = []\n",
    "\n",
    "# use 5-fold cross-validation with each value of max_depth\n",
    "from sklearn.cross_validation import cross_val_score\n",
    "for depth in max_depth_range:\n",
    "    treereg = DecisionTreeRegressor(max_depth = depth, random_state=234)\n",
    "    MSE_scores = cross_val_score(treereg, X_ss, y, cv=5, scoring='neg_mean_squared_error')\n",
    "    RMSE_scores.append(np.mean(np.sqrt(-MSE_scores)))"
   ]
  },
  {
   "cell_type": "code",
   "execution_count": 678,
   "metadata": {},
   "outputs": [
    {
     "data": {
      "image/png": "[encoded data removed]",
      "text/plain": [
       "<matplotlib.figure.Figure at 0x1a202416d0>"
      ]
     },
     "metadata": {},
     "output_type": "display_data"
    }
   ],
   "source": [
    "# plot max_depth (x-axis) versus RMSE (y-axis)\n",
    "plt.figure(figsize=(10, 7))\n",
    "plt.plot(max_depth_range, RMSE_scores, linewidth = 3)\n",
    "plt.xlabel('max_depth')\n",
    "plt.ylabel('RMSE')\n",
    "plt.show()"
   ]
  },
  {
   "cell_type": "code",
   "execution_count": 679,
   "metadata": {},
   "outputs": [
    {
     "data": {
      "text/plain": [
       "(54380289.747209117, 7)"
      ]
     },
     "execution_count": 679,
     "metadata": {},
     "output_type": "execute_result"
    }
   ],
   "source": [
    "# best at 7th depth level. Previously used Accuracy as score in the first Decision Tree Regression notebook.\n",
    "sorted(zip(RMSE_scores, max_depth_range))[0]"
   ]
  },
  {
   "cell_type": "code",
   "execution_count": 680,
   "metadata": {},
   "outputs": [
    {
     "data": {
      "text/plain": [
       "DecisionTreeRegressor(criterion='mse', max_depth=7, max_features=None,\n",
       "           max_leaf_nodes=None, min_impurity_decrease=0.0,\n",
       "           min_impurity_split=None, min_samples_leaf=1,\n",
       "           min_samples_split=2, min_weight_fraction_leaf=0.0,\n",
       "           presort=False, random_state=123, splitter='best')"
      ]
     },
     "execution_count": 680,
     "metadata": {},
     "output_type": "execute_result"
    }
   ],
   "source": [
    "treereg = DecisionTreeRegressor(max_depth=7, random_state = 123)\n",
    "treereg.fit(X, y)"
   ]
  },
  {
   "cell_type": "code",
   "execution_count": null,
   "metadata": {
    "collapsed": true
   },
   "outputs": [],
   "source": []
  },
  {
   "cell_type": "code",
   "execution_count": 681,
   "metadata": {},
   "outputs": [
    {
     "data": {
      "text/html": [
       "<div>\n",
       "<style>\n",
       "    .dataframe thead tr:only-child th {\n",
       "        text-align: right;\n",
       "    }\n",
       "\n",
       "    .dataframe thead th {\n",
       "        text-align: left;\n",
       "    }\n",
       "\n",
       "    .dataframe tbody tr th {\n",
       "        vertical-align: top;\n",
       "    }\n",
       "</style>\n",
       "<table border=\"1\" class=\"dataframe\">\n",
       "  <thead>\n",
       "    <tr style=\"text-align: right;\">\n",
       "      <th></th>\n",
       "      <th>feature</th>\n",
       "      <th>importance</th>\n",
       "    </tr>\n",
       "  </thead>\n",
       "  <tbody>\n",
       "    <tr>\n",
       "      <th>6</th>\n",
       "      <td>budget</td>\n",
       "      <td>0.486061</td>\n",
       "    </tr>\n",
       "    <tr>\n",
       "      <th>0</th>\n",
       "      <td>num_critic_for_reviews</td>\n",
       "      <td>0.207669</td>\n",
       "    </tr>\n",
       "    <tr>\n",
       "      <th>7</th>\n",
       "      <td>title_year</td>\n",
       "      <td>0.071794</td>\n",
       "    </tr>\n",
       "    <tr>\n",
       "      <th>9</th>\n",
       "      <td>imdb_score</td>\n",
       "      <td>0.057036</td>\n",
       "    </tr>\n",
       "    <tr>\n",
       "      <th>11</th>\n",
       "      <td>movie_facebook_likes</td>\n",
       "      <td>0.032394</td>\n",
       "    </tr>\n",
       "    <tr>\n",
       "      <th>10</th>\n",
       "      <td>aspect_ratio</td>\n",
       "      <td>0.027089</td>\n",
       "    </tr>\n",
       "    <tr>\n",
       "      <th>13</th>\n",
       "      <td>rating_PG</td>\n",
       "      <td>0.019590</td>\n",
       "    </tr>\n",
       "    <tr>\n",
       "      <th>4</th>\n",
       "      <td>cast_total_facebook_likes</td>\n",
       "      <td>0.019533</td>\n",
       "    </tr>\n",
       "    <tr>\n",
       "      <th>14</th>\n",
       "      <td>rating_PG-13</td>\n",
       "      <td>0.019475</td>\n",
       "    </tr>\n",
       "    <tr>\n",
       "      <th>2</th>\n",
       "      <td>actor_3_facebook_likes</td>\n",
       "      <td>0.016322</td>\n",
       "    </tr>\n",
       "    <tr>\n",
       "      <th>3</th>\n",
       "      <td>actor_1_facebook_likes</td>\n",
       "      <td>0.011333</td>\n",
       "    </tr>\n",
       "    <tr>\n",
       "      <th>15</th>\n",
       "      <td>rating_R</td>\n",
       "      <td>0.011195</td>\n",
       "    </tr>\n",
       "    <tr>\n",
       "      <th>8</th>\n",
       "      <td>actor_2_facebook_likes</td>\n",
       "      <td>0.010039</td>\n",
       "    </tr>\n",
       "    <tr>\n",
       "      <th>5</th>\n",
       "      <td>facenumber_in_poster</td>\n",
       "      <td>0.006988</td>\n",
       "    </tr>\n",
       "    <tr>\n",
       "      <th>1</th>\n",
       "      <td>director_facebook_likes</td>\n",
       "      <td>0.003482</td>\n",
       "    </tr>\n",
       "    <tr>\n",
       "      <th>12</th>\n",
       "      <td>rating_Not Rated</td>\n",
       "      <td>0.000000</td>\n",
       "    </tr>\n",
       "    <tr>\n",
       "      <th>16</th>\n",
       "      <td>rating_Unrated</td>\n",
       "      <td>0.000000</td>\n",
       "    </tr>\n",
       "  </tbody>\n",
       "</table>\n",
       "</div>"
      ],
      "text/plain": [
       "                      feature  importance\n",
       "6                      budget    0.486061\n",
       "0      num_critic_for_reviews    0.207669\n",
       "7                  title_year    0.071794\n",
       "9                  imdb_score    0.057036\n",
       "11       movie_facebook_likes    0.032394\n",
       "10               aspect_ratio    0.027089\n",
       "13                  rating_PG    0.019590\n",
       "4   cast_total_facebook_likes    0.019533\n",
       "14               rating_PG-13    0.019475\n",
       "2      actor_3_facebook_likes    0.016322\n",
       "3      actor_1_facebook_likes    0.011333\n",
       "15                   rating_R    0.011195\n",
       "8      actor_2_facebook_likes    0.010039\n",
       "5        facenumber_in_poster    0.006988\n",
       "1     director_facebook_likes    0.003482\n",
       "12           rating_Not Rated    0.000000\n",
       "16             rating_Unrated    0.000000"
      ]
     },
     "execution_count": 681,
     "metadata": {},
     "output_type": "execute_result"
    }
   ],
   "source": [
    "# feature importances. The Not Rated, PG-13, and Unrated features have no impact to gross income.\n",
    "fi = pd.DataFrame({'feature':X.columns, \n",
    "              'importance':treereg.feature_importances_}).sort_values('importance', \n",
    "                                                               ascending = False)\n",
    "fi"
   ]
  },
  {
   "cell_type": "code",
   "execution_count": null,
   "metadata": {
    "collapsed": true
   },
   "outputs": [],
   "source": []
  },
  {
   "cell_type": "code",
   "execution_count": 665,
   "metadata": {},
   "outputs": [
    {
     "data": {
      "text/plain": [
       "RandomForestRegressor(bootstrap=True, criterion='mse', max_depth=None,\n",
       "           max_features='auto', max_leaf_nodes=None,\n",
       "           min_impurity_decrease=0.0, min_impurity_split=None,\n",
       "           min_samples_leaf=1, min_samples_split=2,\n",
       "           min_weight_fraction_leaf=0.0, n_estimators=10, n_jobs=1,\n",
       "           oob_score=False, random_state=None, verbose=0, warm_start=False)"
      ]
     },
     "execution_count": 665,
     "metadata": {},
     "output_type": "execute_result"
    }
   ],
   "source": [
    "from sklearn.ensemble import RandomForestRegressor\n",
    "\n",
    "#Intialize\n",
    "rfreg = RandomForestRegressor()\n",
    "#Show model details\n",
    "rfreg"
   ]
  },
  {
   "cell_type": "code",
   "execution_count": 682,
   "metadata": {
    "collapsed": true
   },
   "outputs": [],
   "source": [
    "# list of values to try for n_estimators\n",
    "estimator_range = range(10, 210, 10)\n",
    "\n",
    "# list to store the average RMSE for each value of n_estimators\n",
    "RMSE_scores = []\n",
    "\n",
    "# use 5-fold cross-validation with each value of n_estimators. Will take a while.\n",
    "\n",
    "for estimator in estimator_range:\n",
    "    rfreg = RandomForestRegressor(n_estimators=estimator, random_state=67)\n",
    "    MSE_scores = cross_val_score(rfreg, X_ss, y, cv=5, scoring='neg_mean_squared_error')\n",
    "    RMSE_scores.append(np.mean(np.sqrt(-MSE_scores))) "
   ]
  },
  {
   "cell_type": "code",
   "execution_count": 683,
   "metadata": {},
   "outputs": [
    {
     "data": {
      "image/png": "[encoded data removed]",
      "text/plain": [
       "<matplotlib.figure.Figure at 0x1a2015a8d0>"
      ]
     },
     "metadata": {},
     "output_type": "display_data"
    }
   ],
   "source": [
    "# plot n_estimators (x-axis) versus RMSE (y-axis)\n",
    "plt.figure(figsize=(10, 7))\n",
    "plt.plot(estimator_range, RMSE_scores)\n",
    "plt.xlabel('n_estimators')\n",
    "plt.ylabel('RMSE');"
   ]
  },
  {
   "cell_type": "code",
   "execution_count": 684,
   "metadata": {},
   "outputs": [
    {
     "data": {
      "text/plain": [
       "(45759303.525246471, 150)"
      ]
     },
     "execution_count": 684,
     "metadata": {},
     "output_type": "execute_result"
    }
   ],
   "source": [
    "sorted(zip(RMSE_scores, estimator_range))[0]"
   ]
  },
  {
   "cell_type": "code",
   "execution_count": 705,
   "metadata": {
    "collapsed": true
   },
   "outputs": [],
   "source": [
    "# list of values to try for max_features\n",
    "feature_range = range(1, len(X.columns)+1)\n",
    "\n",
    "# list to store the average RMSE for each value of max_features\n",
    "RMSE_scores = []\n",
    "\n",
    "# use 5-fold cross-validation with each value of max_features (WARNING: SLOW!)\n",
    "for feature in feature_range:\n",
    "    rfreg = RandomForestRegressor(n_estimators=150, max_features=feature, random_state=237)\n",
    "    MSE_scores = cross_val_score(rfreg, X_ss, y, cv=5, scoring='neg_mean_squared_error')\n",
    "    RMSE_scores.append(np.mean(np.sqrt(-MSE_scores))) "
   ]
  },
  {
   "cell_type": "code",
   "execution_count": 706,
   "metadata": {},
   "outputs": [
    {
     "data": {
      "image/png": "[encoded data removed]",
      "text/plain": [
       "<matplotlib.figure.Figure at 0x1a1da5dc50>"
      ]
     },
     "metadata": {},
     "output_type": "display_data"
    }
   ],
   "source": [
    "# plot max_features (x-axis) versus RMSE (y-axis)\n",
    "plt.figure(figsize=(10, 7))\n",
    "plt.plot(feature_range, RMSE_scores)\n",
    "plt.xlabel('max_features')\n",
    "plt.ylabel('RMSE');"
   ]
  },
  {
   "cell_type": "code",
   "execution_count": 689,
   "metadata": {},
   "outputs": [
    {
     "data": {
      "text/plain": [
       "(45264916.312656596, 6)"
      ]
     },
     "execution_count": 689,
     "metadata": {},
     "output_type": "execute_result"
    }
   ],
   "source": [
    "sorted(zip(RMSE_scores, feature_range))[0]"
   ]
  },
  {
   "cell_type": "code",
   "execution_count": 707,
   "metadata": {},
   "outputs": [
    {
     "data": {
      "text/plain": [
       "RandomForestRegressor(bootstrap=True, criterion='mse', max_depth=None,\n",
       "           max_features=17, max_leaf_nodes=None, min_impurity_decrease=0.0,\n",
       "           min_impurity_split=None, min_samples_leaf=1,\n",
       "           min_samples_split=2, min_weight_fraction_leaf=0.0,\n",
       "           n_estimators=150, n_jobs=1, oob_score=False, random_state=237,\n",
       "           verbose=0, warm_start=False)"
      ]
     },
     "execution_count": 707,
     "metadata": {},
     "output_type": "execute_result"
    }
   ],
   "source": [
    "rfreg.fit(X_ss, y)"
   ]
  },
  {
   "cell_type": "code",
   "execution_count": 708,
   "metadata": {},
   "outputs": [
    {
     "data": {
      "text/plain": [
       "[(0.39274057523315736, 'budget'),\n",
       " (0.1582851196021299, 'num_critic_for_reviews'),\n",
       " (0.081233277881705701, 'imdb_score'),\n",
       " (0.06711073408904078, 'title_year'),\n",
       " (0.051864677765706774, 'movie_facebook_likes'),\n",
       " (0.044065362264827573, 'actor_3_facebook_likes'),\n",
       " (0.03661743782780514, 'cast_total_facebook_likes'),\n",
       " (0.035728153979904531, 'actor_2_facebook_likes'),\n",
       " (0.033916067511568823, 'director_facebook_likes'),\n",
       " (0.028022929988190129, 'actor_1_facebook_likes'),\n",
       " (0.023649161294771209, 'aspect_ratio'),\n",
       " (0.015031537495380255, 'facenumber_in_poster'),\n",
       " (0.014065945880664248, 'rating_R'),\n",
       " (0.011550500735091019, 'rating_PG'),\n",
       " (0.0060608779073120997, 'rating_PG-13'),\n",
       " (3.8415089015857969e-05, 'rating_Not Rated'),\n",
       " (1.9225453728399995e-05, 'rating_Unrated')]"
      ]
     },
     "execution_count": 708,
     "metadata": {},
     "output_type": "execute_result"
    }
   ],
   "source": [
    "sorted(zip(rfreg.feature_importances_, X_ss.columns), reverse= True)"
   ]
  },
  {
   "cell_type": "code",
   "execution_count": 594,
   "metadata": {},
   "outputs": [
    {
     "data": {
      "text/plain": [
       "162.0"
      ]
     },
     "execution_count": 594,
     "metadata": {},
     "output_type": "execute_result"
    }
   ],
   "source": [
    "movies.gross.min()"
   ]
  },
  {
   "cell_type": "code",
   "execution_count": 595,
   "metadata": {},
   "outputs": [
    {
     "data": {
      "text/plain": [
       "760505847.0"
      ]
     },
     "execution_count": 595,
     "metadata": {},
     "output_type": "execute_result"
    }
   ],
   "source": [
    "movies.gross.max()"
   ]
  },
  {
   "cell_type": "code",
   "execution_count": 596,
   "metadata": {},
   "outputs": [
    {
     "data": {
      "text/plain": [
       "25592632.0"
      ]
     },
     "execution_count": 596,
     "metadata": {},
     "output_type": "execute_result"
    }
   ],
   "source": [
    "movies.gross.median()"
   ]
  },
  {
   "cell_type": "code",
   "execution_count": 700,
   "metadata": {},
   "outputs": [
    {
     "data": {
      "text/plain": [
       "0      3000000.0\n",
       "1      5773519.0\n",
       "2      8000000.0\n",
       "3     34964818.0\n",
       "4     47000000.0\n",
       "5    144512310.0\n",
       "6    177343675.0\n",
       "7    218051260.0\n",
       "dtype: float64"
      ]
     },
     "execution_count": 700,
     "metadata": {},
     "output_type": "execute_result"
    }
   ],
   "source": [
    "movies.gross.mode()"
   ]
  },
  {
   "cell_type": "code",
   "execution_count": 597,
   "metadata": {},
   "outputs": [
    {
     "data": {
      "text/plain": [
       "48589701.47011856"
      ]
     },
     "execution_count": 597,
     "metadata": {},
     "output_type": "execute_result"
    }
   ],
   "source": [
    "movies.gross.mean()"
   ]
  },
  {
   "cell_type": "code",
   "execution_count": 601,
   "metadata": {},
   "outputs": [
    {
     "data": {
      "text/plain": [
       "68470764.58829561"
      ]
     },
     "execution_count": 601,
     "metadata": {},
     "output_type": "execute_result"
    }
   ],
   "source": [
    "movies.gross.std()"
   ]
  },
  {
   "cell_type": "code",
   "execution_count": 711,
   "metadata": {
    "collapsed": true
   },
   "outputs": [],
   "source": [
    "fi_1 = ['budget', 'num_critic_for_reviews', 'rating_R', 'imdb_score', 'movie_facebook_likes', 'title_year']\n",
    "XX = X[fi_1]"
   ]
  },
  {
   "cell_type": "code",
   "execution_count": 712,
   "metadata": {},
   "outputs": [
    {
     "data": {
      "text/plain": [
       "46604787.306000181"
      ]
     },
     "execution_count": 712,
     "metadata": {},
     "output_type": "execute_result"
    }
   ],
   "source": [
    "rfreg = RandomForestRegressor(n_estimators=150, max_features=6, random_state=1)\n",
    "scores = cross_val_score(rfreg, XX, y, cv=5, scoring='neg_mean_squared_error')\n",
    "np.mean(np.sqrt(-scores))"
   ]
  },
  {
   "cell_type": "code",
   "execution_count": null,
   "metadata": {
    "collapsed": true
   },
   "outputs": [],
   "source": [
    "# +/_ ~$47 million with a RF model, which is basically the average gross across the dataset..."
   ]
  },
  {
   "cell_type": "code",
   "execution_count": null,
   "metadata": {
    "collapsed": true
   },
   "outputs": [],
   "source": []
  },
  {
   "cell_type": "markdown",
   "metadata": {},
   "source": [
    "## Bonus!!\n",
    "\n",
    "<br>\n",
    "\n",
    "Code a K-Nearest Neighbors model from scratch using just python, that means no external libraries such as numpy. This may seem daunting but it's a lot easier than you think. Hint: Use a Class to create the algorithm."
   ]
  },
  {
   "cell_type": "code",
   "execution_count": null,
   "metadata": {
    "collapsed": true
   },
   "outputs": [],
   "source": []
  }
 ],
 "metadata": {
  "kernelspec": {
   "display_name": "Python 2",
   "language": "python",
   "name": "python2"
  },
  "language_info": {
   "codemirror_mode": {
    "name": "ipython",
    "version": 2
   },
   "file_extension": ".py",
   "mimetype": "text/x-python",
   "name": "python",
   "nbconvert_exporter": "python",
   "pygments_lexer": "ipython2",
   "version": "2.7.13"
  }
 },
 "nbformat": 4,
 "nbformat_minor": 2
}
