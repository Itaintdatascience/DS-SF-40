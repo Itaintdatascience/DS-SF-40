{
 "cells": [
  {
   "cell_type": "markdown",
   "metadata": {},
   "source": [
    "# P2P Default Binary Classification | Supervised Learning"
   ]
  },
  {
   "cell_type": "markdown",
   "metadata": {},
   "source": [
    "Hypothesis:\n",
    "\n",
    "    H0 - Null hypothesis, when the model cannot beat the null accuracy score for \"Fully Paid\" & \"Charged Off\" loans\n",
    "    H1 - Reject the Null hypothesis, when accuracy, precision and recall scores can beat the null accuracy score.\n",
    "\n",
    "True Positives (TP): Number of correct positive predictions | correctly predicted loan will Charged Off (1)\n",
    "True Negatives (TN): Number of correct negative predictions | correctly predicted loan will be Fully Paid (0)\n",
    "False Positives (FP): Number incorrect positive predictions | incorrectly predicted loan will be Charged Off\n",
    "False Negatives (FN): Number of incorrect negative predictions | incorrectly predicted loan will be Fully Paid\n",
    "\n",
    "Goals:\n",
    "\n",
    "I'm planning to select a supervised learning model to see what features attribute to a loan default(binary classification). (TP+TN)/Total Population is the Accuracy (ACC) score bench mark in comparison of each model. \n",
    "I have Lending Club's 2015 dataset with 145 loan characteristics, and 400k+ records to begin with.\n",
    "The dataset is relatively large, and data is very sparse - possibly very redundant features. \n",
    "\n",
    "Feature engineering will be a challenge, and we want to know whether or not the user will default or not based on their application information, and not based on Lending Club's collected data once the loan is issued. This is also the reason for an older dataset where we already know if they have successfully paid off their loan or have defaulted under the \"loan_status\" field. \n",
    "I used to work for Lending Club's Investor Group, and would be interested in demystifying the underwriting model, and which types have highest tendencies to default. "
   ]
  },
  {
   "cell_type": "code",
   "execution_count": 234,
   "metadata": {},
   "outputs": [],
   "source": [
    "import pandas as pd\n",
    "import numpy as np\n",
    "import matplotlib.pyplot as plt\n",
    "import seaborn as sns\n",
    "%matplotlib inline\n",
    "\n",
    "df = pd.read_csv(\"/Users/Darrenklee/Desktop/DS-Project/LoanStats3d.csv\")"
   ]
  },
  {
   "cell_type": "code",
   "execution_count": 237,
   "metadata": {},
   "outputs": [
    {
     "data": {
      "text/plain": [
       "120811"
      ]
     },
     "execution_count": 237,
     "metadata": {},
     "output_type": "execute_result"
    }
   ],
   "source": [
    "df.emp_title.nunique()\n",
    "# we will attempt to use NLP for model improvements when possible. There's reason to believe that there's a \n",
    "# direct impact on the ability to pay back a loan based on a borrower's job title. "
   ]
  },
  {
   "cell_type": "code",
   "execution_count": 238,
   "metadata": {},
   "outputs": [
    {
     "data": {
      "text/plain": [
       "0                     Master mechanic\n",
       "1    Emergency Department technician \n",
       "2                          Supervisor\n",
       "3                             Teacher\n",
       "4                Program Coordinator \n",
       "Name: emp_title, dtype: object"
      ]
     },
     "execution_count": 238,
     "metadata": {},
     "output_type": "execute_result"
    }
   ],
   "source": [
    "df.emp_title.head()"
   ]
  },
  {
   "cell_type": "markdown",
   "metadata": {},
   "source": [
    "# Exploratory Data Analysis"
   ]
  },
  {
   "cell_type": "code",
   "execution_count": 3,
   "metadata": {},
   "outputs": [
    {
     "data": {
      "text/plain": [
       "Individual    420584\n",
       "Joint App        511\n",
       "Name: application_type, dtype: int64"
      ]
     },
     "execution_count": 3,
     "metadata": {},
     "output_type": "execute_result"
    }
   ],
   "source": [
    "df.application_type.value_counts()\n",
    "# do not include Joint App"
   ]
  },
  {
   "cell_type": "code",
   "execution_count": 8,
   "metadata": {},
   "outputs": [
    {
     "data": {
      "text/html": [
       "<div>\n",
       "<style>\n",
       "    .dataframe thead tr:only-child th {\n",
       "        text-align: right;\n",
       "    }\n",
       "\n",
       "    .dataframe thead th {\n",
       "        text-align: left;\n",
       "    }\n",
       "\n",
       "    .dataframe tbody tr th {\n",
       "        vertical-align: top;\n",
       "    }\n",
       "</style>\n",
       "<table border=\"1\" class=\"dataframe\">\n",
       "  <thead>\n",
       "    <tr style=\"text-align: right;\">\n",
       "      <th></th>\n",
       "      <th>loan_amnt</th>\n",
       "      <th>funded_amnt</th>\n",
       "      <th>funded_amnt_inv</th>\n",
       "      <th>installment</th>\n",
       "      <th>annual_inc</th>\n",
       "      <th>url</th>\n",
       "      <th>dti</th>\n",
       "      <th>delinq_2yrs</th>\n",
       "      <th>inq_last_6mths</th>\n",
       "      <th>mths_since_last_delinq</th>\n",
       "      <th>...</th>\n",
       "      <th>deferral_term</th>\n",
       "      <th>hardship_amount</th>\n",
       "      <th>hardship_length</th>\n",
       "      <th>hardship_dpd</th>\n",
       "      <th>orig_projected_additional_accrued_interest</th>\n",
       "      <th>hardship_payoff_balance_amount</th>\n",
       "      <th>hardship_last_payment_amount</th>\n",
       "      <th>settlement_amount</th>\n",
       "      <th>settlement_percentage</th>\n",
       "      <th>settlement_term</th>\n",
       "    </tr>\n",
       "  </thead>\n",
       "  <tbody>\n",
       "    <tr>\n",
       "      <th>count</th>\n",
       "      <td>210994.000000</td>\n",
       "      <td>210994.000000</td>\n",
       "      <td>210994.000000</td>\n",
       "      <td>210994.000000</td>\n",
       "      <td>2.109940e+05</td>\n",
       "      <td>0.0</td>\n",
       "      <td>210992.000000</td>\n",
       "      <td>210994.000000</td>\n",
       "      <td>210994.000000</td>\n",
       "      <td>109046.000000</td>\n",
       "      <td>...</td>\n",
       "      <td>153.0</td>\n",
       "      <td>153.000000</td>\n",
       "      <td>153.0</td>\n",
       "      <td>153.000000</td>\n",
       "      <td>16.000000</td>\n",
       "      <td>153.000000</td>\n",
       "      <td>153.000000</td>\n",
       "      <td>4583.000000</td>\n",
       "      <td>4583.000000</td>\n",
       "      <td>4583.000000</td>\n",
       "    </tr>\n",
       "    <tr>\n",
       "      <th>mean</th>\n",
       "      <td>14949.374508</td>\n",
       "      <td>14949.374508</td>\n",
       "      <td>14943.359854</td>\n",
       "      <td>443.917652</td>\n",
       "      <td>7.662230e+04</td>\n",
       "      <td>NaN</td>\n",
       "      <td>18.876317</td>\n",
       "      <td>0.335246</td>\n",
       "      <td>0.637919</td>\n",
       "      <td>34.801790</td>\n",
       "      <td>...</td>\n",
       "      <td>3.0</td>\n",
       "      <td>126.561961</td>\n",
       "      <td>3.0</td>\n",
       "      <td>18.294118</td>\n",
       "      <td>316.113750</td>\n",
       "      <td>9849.725556</td>\n",
       "      <td>179.584314</td>\n",
       "      <td>5731.476498</td>\n",
       "      <td>49.000343</td>\n",
       "      <td>12.094043</td>\n",
       "    </tr>\n",
       "    <tr>\n",
       "      <th>std</th>\n",
       "      <td>8562.173794</td>\n",
       "      <td>8562.173794</td>\n",
       "      <td>8558.678600</td>\n",
       "      <td>250.949787</td>\n",
       "      <td>7.178636e+04</td>\n",
       "      <td>NaN</td>\n",
       "      <td>8.704507</td>\n",
       "      <td>0.921001</td>\n",
       "      <td>0.918971</td>\n",
       "      <td>22.126952</td>\n",
       "      <td>...</td>\n",
       "      <td>0.0</td>\n",
       "      <td>105.504755</td>\n",
       "      <td>0.0</td>\n",
       "      <td>8.282736</td>\n",
       "      <td>209.439967</td>\n",
       "      <td>6641.912773</td>\n",
       "      <td>164.910743</td>\n",
       "      <td>3864.310434</td>\n",
       "      <td>7.458421</td>\n",
       "      <td>8.380446</td>\n",
       "    </tr>\n",
       "    <tr>\n",
       "      <th>min</th>\n",
       "      <td>1000.000000</td>\n",
       "      <td>1000.000000</td>\n",
       "      <td>900.000000</td>\n",
       "      <td>14.010000</td>\n",
       "      <td>0.000000e+00</td>\n",
       "      <td>NaN</td>\n",
       "      <td>0.000000</td>\n",
       "      <td>0.000000</td>\n",
       "      <td>0.000000</td>\n",
       "      <td>0.000000</td>\n",
       "      <td>...</td>\n",
       "      <td>3.0</td>\n",
       "      <td>2.690000</td>\n",
       "      <td>3.0</td>\n",
       "      <td>0.000000</td>\n",
       "      <td>57.420000</td>\n",
       "      <td>239.790000</td>\n",
       "      <td>0.440000</td>\n",
       "      <td>198.000000</td>\n",
       "      <td>20.000000</td>\n",
       "      <td>0.000000</td>\n",
       "    </tr>\n",
       "    <tr>\n",
       "      <th>25%</th>\n",
       "      <td>8000.000000</td>\n",
       "      <td>8000.000000</td>\n",
       "      <td>8000.000000</td>\n",
       "      <td>261.880000</td>\n",
       "      <td>4.667350e+04</td>\n",
       "      <td>NaN</td>\n",
       "      <td>12.350000</td>\n",
       "      <td>0.000000</td>\n",
       "      <td>0.000000</td>\n",
       "      <td>16.000000</td>\n",
       "      <td>...</td>\n",
       "      <td>3.0</td>\n",
       "      <td>40.490000</td>\n",
       "      <td>3.0</td>\n",
       "      <td>13.000000</td>\n",
       "      <td>154.522500</td>\n",
       "      <td>4639.090000</td>\n",
       "      <td>44.080000</td>\n",
       "      <td>2740.850000</td>\n",
       "      <td>45.000000</td>\n",
       "      <td>4.000000</td>\n",
       "    </tr>\n",
       "    <tr>\n",
       "      <th>50%</th>\n",
       "      <td>13200.000000</td>\n",
       "      <td>13200.000000</td>\n",
       "      <td>13200.000000</td>\n",
       "      <td>385.360000</td>\n",
       "      <td>6.500000e+04</td>\n",
       "      <td>NaN</td>\n",
       "      <td>18.320000</td>\n",
       "      <td>0.000000</td>\n",
       "      <td>0.000000</td>\n",
       "      <td>32.000000</td>\n",
       "      <td>...</td>\n",
       "      <td>3.0</td>\n",
       "      <td>94.200000</td>\n",
       "      <td>3.0</td>\n",
       "      <td>21.000000</td>\n",
       "      <td>250.770000</td>\n",
       "      <td>8343.420000</td>\n",
       "      <td>128.990000</td>\n",
       "      <td>4897.000000</td>\n",
       "      <td>47.040000</td>\n",
       "      <td>12.000000</td>\n",
       "    </tr>\n",
       "    <tr>\n",
       "      <th>75%</th>\n",
       "      <td>20000.000000</td>\n",
       "      <td>20000.000000</td>\n",
       "      <td>20000.000000</td>\n",
       "      <td>586.035000</td>\n",
       "      <td>9.100000e+04</td>\n",
       "      <td>NaN</td>\n",
       "      <td>25.012500</td>\n",
       "      <td>0.000000</td>\n",
       "      <td>1.000000</td>\n",
       "      <td>52.000000</td>\n",
       "      <td>...</td>\n",
       "      <td>3.0</td>\n",
       "      <td>184.810000</td>\n",
       "      <td>3.0</td>\n",
       "      <td>25.000000</td>\n",
       "      <td>453.667500</td>\n",
       "      <td>13905.000000</td>\n",
       "      <td>274.370000</td>\n",
       "      <td>7751.310000</td>\n",
       "      <td>50.010000</td>\n",
       "      <td>18.000000</td>\n",
       "    </tr>\n",
       "    <tr>\n",
       "      <th>max</th>\n",
       "      <td>35000.000000</td>\n",
       "      <td>35000.000000</td>\n",
       "      <td>35000.000000</td>\n",
       "      <td>1445.460000</td>\n",
       "      <td>8.900060e+06</td>\n",
       "      <td>NaN</td>\n",
       "      <td>380.530000</td>\n",
       "      <td>39.000000</td>\n",
       "      <td>6.000000</td>\n",
       "      <td>176.000000</td>\n",
       "      <td>...</td>\n",
       "      <td>3.0</td>\n",
       "      <td>569.750000</td>\n",
       "      <td>3.0</td>\n",
       "      <td>29.000000</td>\n",
       "      <td>699.480000</td>\n",
       "      <td>28078.200000</td>\n",
       "      <td>798.390000</td>\n",
       "      <td>30000.000000</td>\n",
       "      <td>166.670000</td>\n",
       "      <td>65.000000</td>\n",
       "    </tr>\n",
       "  </tbody>\n",
       "</table>\n",
       "<p>8 rows × 106 columns</p>\n",
       "</div>"
      ],
      "text/plain": [
       "           loan_amnt    funded_amnt  funded_amnt_inv    installment  \\\n",
       "count  210994.000000  210994.000000    210994.000000  210994.000000   \n",
       "mean    14949.374508   14949.374508     14943.359854     443.917652   \n",
       "std      8562.173794    8562.173794      8558.678600     250.949787   \n",
       "min      1000.000000    1000.000000       900.000000      14.010000   \n",
       "25%      8000.000000    8000.000000      8000.000000     261.880000   \n",
       "50%     13200.000000   13200.000000     13200.000000     385.360000   \n",
       "75%     20000.000000   20000.000000     20000.000000     586.035000   \n",
       "max     35000.000000   35000.000000     35000.000000    1445.460000   \n",
       "\n",
       "         annual_inc  url            dti    delinq_2yrs  inq_last_6mths  \\\n",
       "count  2.109940e+05  0.0  210992.000000  210994.000000   210994.000000   \n",
       "mean   7.662230e+04  NaN      18.876317       0.335246        0.637919   \n",
       "std    7.178636e+04  NaN       8.704507       0.921001        0.918971   \n",
       "min    0.000000e+00  NaN       0.000000       0.000000        0.000000   \n",
       "25%    4.667350e+04  NaN      12.350000       0.000000        0.000000   \n",
       "50%    6.500000e+04  NaN      18.320000       0.000000        0.000000   \n",
       "75%    9.100000e+04  NaN      25.012500       0.000000        1.000000   \n",
       "max    8.900060e+06  NaN     380.530000      39.000000        6.000000   \n",
       "\n",
       "       mths_since_last_delinq       ...         deferral_term  \\\n",
       "count           109046.000000       ...                 153.0   \n",
       "mean                34.801790       ...                   3.0   \n",
       "std                 22.126952       ...                   0.0   \n",
       "min                  0.000000       ...                   3.0   \n",
       "25%                 16.000000       ...                   3.0   \n",
       "50%                 32.000000       ...                   3.0   \n",
       "75%                 52.000000       ...                   3.0   \n",
       "max                176.000000       ...                   3.0   \n",
       "\n",
       "       hardship_amount  hardship_length  hardship_dpd  \\\n",
       "count       153.000000            153.0    153.000000   \n",
       "mean        126.561961              3.0     18.294118   \n",
       "std         105.504755              0.0      8.282736   \n",
       "min           2.690000              3.0      0.000000   \n",
       "25%          40.490000              3.0     13.000000   \n",
       "50%          94.200000              3.0     21.000000   \n",
       "75%         184.810000              3.0     25.000000   \n",
       "max         569.750000              3.0     29.000000   \n",
       "\n",
       "       orig_projected_additional_accrued_interest  \\\n",
       "count                                   16.000000   \n",
       "mean                                   316.113750   \n",
       "std                                    209.439967   \n",
       "min                                     57.420000   \n",
       "25%                                    154.522500   \n",
       "50%                                    250.770000   \n",
       "75%                                    453.667500   \n",
       "max                                    699.480000   \n",
       "\n",
       "       hardship_payoff_balance_amount  hardship_last_payment_amount  \\\n",
       "count                      153.000000                    153.000000   \n",
       "mean                      9849.725556                    179.584314   \n",
       "std                       6641.912773                    164.910743   \n",
       "min                        239.790000                      0.440000   \n",
       "25%                       4639.090000                     44.080000   \n",
       "50%                       8343.420000                    128.990000   \n",
       "75%                      13905.000000                    274.370000   \n",
       "max                      28078.200000                    798.390000   \n",
       "\n",
       "       settlement_amount  settlement_percentage  settlement_term  \n",
       "count        4583.000000            4583.000000      4583.000000  \n",
       "mean         5731.476498              49.000343        12.094043  \n",
       "std          3864.310434               7.458421         8.380446  \n",
       "min           198.000000              20.000000         0.000000  \n",
       "25%          2740.850000              45.000000         4.000000  \n",
       "50%          4897.000000              47.040000        12.000000  \n",
       "75%          7751.310000              50.010000        18.000000  \n",
       "max         30000.000000             166.670000        65.000000  \n",
       "\n",
       "[8 rows x 106 columns]"
      ]
     },
     "execution_count": 8,
     "metadata": {},
     "output_type": "execute_result"
    }
   ],
   "source": [
    "df.describe()"
   ]
  },
  {
   "cell_type": "code",
   "execution_count": 4,
   "metadata": {},
   "outputs": [
    {
     "data": {
      "text/plain": [
       "Current               196354\n",
       "Fully Paid            155420\n",
       "Charged Off            55574\n",
       "Late (31-120 days)      7647\n",
       "In Grace Period         4692\n",
       "Late (16-30 days)       1387\n",
       "Default                   21\n",
       "Name: loan_status, dtype: int64"
      ]
     },
     "execution_count": 4,
     "metadata": {},
     "output_type": "execute_result"
    }
   ],
   "source": [
    "df.loan_status.value_counts()"
   ]
  },
  {
   "cell_type": "code",
   "execution_count": 5,
   "metadata": {
    "collapsed": true
   },
   "outputs": [],
   "source": [
    "# We will only work with loans that have been \"Fully Paid\", and those that \"Charged Off\". \n",
    "df = df[df.loan_status != \"Current\"]\n",
    "df = df[df.loan_status != \"Late (31-120 days)\"]\n",
    "df = df[df.loan_status != \"In Grace Period\"]\n",
    "df = df[df.loan_status != \"Late (16-30 days)\"]\n",
    "df = df[df.loan_status != \"Default\"]"
   ]
  },
  {
   "cell_type": "code",
   "execution_count": 6,
   "metadata": {},
   "outputs": [
    {
     "data": {
      "text/plain": [
       "(210994, 143)"
      ]
     },
     "execution_count": 6,
     "metadata": {},
     "output_type": "execute_result"
    }
   ],
   "source": [
    "df.shape\n",
    "# cuts the dataset responses in half."
   ]
  },
  {
   "cell_type": "code",
   "execution_count": 7,
   "metadata": {},
   "outputs": [
    {
     "data": {
      "text/plain": [
       "Fully Paid     73.660862\n",
       "Charged Off    26.339138\n",
       "Name: loan_status, dtype: float64"
      ]
     },
     "execution_count": 7,
     "metadata": {},
     "output_type": "execute_result"
    }
   ],
   "source": [
    "#\"loan_status\" will be the target variable. ~74% null accuracy is what we need to beat with our model\n",
    "df.loan_status.value_counts(normalize=True)*100"
   ]
  },
  {
   "cell_type": "code",
   "execution_count": 35,
   "metadata": {
    "collapsed": true
   },
   "outputs": [],
   "source": [
    "import pandas as pd\n",
    "import numpy as np\n",
    "import matplotlib.pyplot as plt\n",
    "import seaborn as sns\n",
    "%matplotlib inline"
   ]
  },
  {
   "cell_type": "code",
   "execution_count": 218,
   "metadata": {},
   "outputs": [
    {
     "data": {
      "image/png": "[encoded data removed]",
      "text/plain": [
       "<matplotlib.figure.Figure at 0x1a10e56210>"
      ]
     },
     "metadata": {},
     "output_type": "display_data"
    }
   ],
   "source": [
    "df.groupby(\"purpose\")[\"chargeoff_within_12_mths\"].mean().sort_values(ascending= False).plot(kind=\"bar\", figsize=(8,4), \n",
    "                                           title = \"Charge Offs within 12 months by Loan Purpose\")\n",
    "plt.show();\n",
    "#we can see which types of borrowers are most irresponsible. "
   ]
  },
  {
   "cell_type": "code",
   "execution_count": 219,
   "metadata": {},
   "outputs": [
    {
     "name": "stdout",
     "output_type": "stream",
     "text": [
      "['debt_consolidation' 'car' 'small_business' 'house' 'credit_card'\n",
      " 'home_improvement' 'major_purchase' 'vacation' 'other' 'moving' 'medical'\n",
      " 'renewable_energy' 'wedding' 'educational']\n"
     ]
    },
    {
     "data": {
      "image/png": "[encoded data removed]",
      "text/plain": [
       "<matplotlib.figure.Figure at 0x1a0e1f3310>"
      ]
     },
     "metadata": {},
     "output_type": "display_data"
    }
   ],
   "source": [
    "print df.purpose.unique()\n",
    "\n",
    "df.groupby(\"purpose\")[\"dti\"].mean().sort_values(ascending= False).plot(kind=\"bar\", figsize=(8,4), \n",
    "                                           title = \"Avg Debt-to-income ratio by Purpose\")\n",
    "plt.show();"
   ]
  },
  {
   "cell_type": "code",
   "execution_count": 220,
   "metadata": {},
   "outputs": [
    {
     "data": {
      "image/png": "[encoded data removed]",
      "text/plain": [
       "<matplotlib.figure.Figure at 0x1a102d9050>"
      ]
     },
     "metadata": {},
     "output_type": "display_data"
    }
   ],
   "source": [
    "#boxplot\n",
    "df.boxplot(column=\"int_rate\", by=\"purpose\", figsize=(20, 6))\n",
    "plt.show();"
   ]
  },
  {
   "cell_type": "code",
   "execution_count": 221,
   "metadata": {},
   "outputs": [
    {
     "data": {
      "image/png": "[encoded data removed]",
      "text/plain": [
       "<matplotlib.figure.Figure at 0x1a10668890>"
      ]
     },
     "metadata": {},
     "output_type": "display_data"
    }
   ],
   "source": [
    "#boxplot\n",
    "df.boxplot(column=\"int_rate\", by=\"grade\", figsize=(20, 8))\n",
    "plt.show();"
   ]
  },
  {
   "cell_type": "code",
   "execution_count": 123,
   "metadata": {},
   "outputs": [
    {
     "data": {
      "image/png": "[encoded data removed]",
      "text/plain": [
       "<matplotlib.figure.Figure at 0x1a10ca6d90>"
      ]
     },
     "metadata": {},
     "output_type": "display_data"
    }
   ],
   "source": [
    "df.groupby(\"grade\")[\"chargeoff_within_12_mths\"].mean().sort_values(ascending= False).plot(kind=\"bar\", figsize=(8,4), \n",
    "                                           title = \"Charge Offs within 12 months by grade\");"
   ]
  },
  {
   "cell_type": "code",
   "execution_count": 223,
   "metadata": {
    "scrolled": true
   },
   "outputs": [
    {
     "data": {
      "image/png": "[encoded data removed]",
      "text/plain": [
       "<matplotlib.figure.Figure at 0x1a10b1f1d0>"
      ]
     },
     "metadata": {},
     "output_type": "display_data"
    }
   ],
   "source": [
    "# scatter plot in Seaborn\n",
    "sns.pairplot(data = df, x_vars=['dti','loan_amnt','int_rate'], \n",
    "             y_vars='annual_inc', size=6, hue = 'chargeoff_within_12_mths', aspect=0.7);"
   ]
  },
  {
   "cell_type": "code",
   "execution_count": 195,
   "metadata": {},
   "outputs": [
    {
     "data": {
      "text/plain": [
       "0.0"
      ]
     },
     "execution_count": 195,
     "metadata": {},
     "output_type": "execute_result"
    }
   ],
   "source": [
    "lcdf.out_prncp.mean()\n",
    "#drop!"
   ]
  },
  {
   "cell_type": "code",
   "execution_count": 219,
   "metadata": {},
   "outputs": [
    {
     "data": {
      "text/plain": [
       "debt_consolidation    0.593738\n",
       "credit_card           0.242285\n",
       "home_improvement      0.060065\n",
       "other                 0.045605\n",
       "major_purchase        0.017690\n",
       "medical               0.009352\n",
       "car                   0.008231\n",
       "small_business        0.007989\n",
       "moving                0.005747\n",
       "vacation              0.005341\n",
       "house                 0.003415\n",
       "renewable_energy      0.000532\n",
       "wedding               0.000009\n",
       "educational           0.000002\n",
       "Name: purpose, dtype: float64"
      ]
     },
     "execution_count": 219,
     "metadata": {},
     "output_type": "execute_result"
    }
   ],
   "source": [
    "df.purpose.value_counts(normalize = True)"
   ]
  },
  {
   "cell_type": "code",
   "execution_count": null,
   "metadata": {},
   "outputs": [],
   "source": []
  },
  {
   "cell_type": "code",
   "execution_count": null,
   "metadata": {
    "collapsed": true
   },
   "outputs": [],
   "source": []
  },
  {
   "cell_type": "code",
   "execution_count": null,
   "metadata": {},
   "outputs": [],
   "source": []
  },
  {
   "cell_type": "code",
   "execution_count": 203,
   "metadata": {},
   "outputs": [
    {
     "data": {
      "text/plain": [
       "sec_app_collections_12_mths_ex_med            421095\n",
       "sec_app_mort_acc                              421095\n",
       "sec_app_revol_util                            421095\n",
       "sec_app_open_act_il                           421095\n",
       "sec_app_num_rev_accts                         421095\n",
       "sec_app_chargeoff_within_12_mths              421095\n",
       "sec_app_inq_last_6mths                        421095\n",
       "sec_app_mths_since_last_major_derog           421095\n",
       "sec_app_open_acc                              421095\n",
       "revol_bal_joint                               421095\n",
       "sec_app_earliest_cr_line                      421095\n",
       "url                                           421095\n",
       "desc                                          421050\n",
       "dti_joint                                     420586\n",
       "verification_status_joint                     420584\n",
       "annual_inc_joint                              420584\n",
       "orig_projected_additional_accrued_interest    419547\n",
       "hardship_payoff_balance_amount                419305\n",
       "hardship_reason                               419305\n",
       "hardship_type                                 419305\n",
       "hardship_status                               419305\n",
       "deferral_term                                 419305\n",
       "hardship_amount                               419305\n",
       "hardship_start_date                           419305\n",
       "hardship_last_payment_amount                  419305\n",
       "payment_plan_start_date                       419305\n",
       "hardship_length                               419305\n",
       "hardship_dpd                                  419305\n",
       "hardship_loan_status                          419305\n",
       "hardship_end_date                             419305\n",
       "settlement_term                               416155\n",
       "settlement_percentage                         416155\n",
       "debt_settlement_flag_date                     416155\n",
       "settlement_status                             416155\n",
       "settlement_date                               416155\n",
       "settlement_amount                             416155\n",
       "il_util                                       402478\n",
       "mths_since_rcnt_il                            400285\n",
       "open_il_12m                                   399723\n",
       "open_il_24m                                   399723\n",
       "open_act_il                                   399723\n",
       "total_bal_il                                  399723\n",
       "open_acc_6m                                   399723\n",
       "open_rv_12m                                   399723\n",
       "open_rv_24m                                   399723\n",
       "max_bal_bc                                    399723\n",
       "all_util                                      399723\n",
       "inq_fi                                        399723\n",
       "total_cu_tl                                   399723\n",
       "inq_last_12m                                  399723\n",
       "mths_since_last_record                        346680\n",
       "mths_since_recent_bc_dlq                      312495\n",
       "mths_since_last_major_derog                   298366\n",
       "mths_since_recent_revol_delinq                269358\n",
       "next_pymnt_d                                  210994\n",
       "mths_since_last_delinq                        203962\n",
       "mths_since_recent_inq                          44599\n",
       "emp_title                                      23874\n",
       "num_tl_120dpd_2m                               19230\n",
       "mo_sin_old_il_acct                             12254\n",
       "dtype: int64"
      ]
     },
     "execution_count": 203,
     "metadata": {},
     "output_type": "execute_result"
    }
   ],
   "source": [
    "null_col = df.isnull().sum().sort_values(ascending = False)\n",
    "null_col.head(n = 60)\n",
    "# remove high null value features."
   ]
  },
  {
   "cell_type": "code",
   "execution_count": 10,
   "metadata": {
    "collapsed": true
   },
   "outputs": [],
   "source": [
    "#created a csv to see full list of features with a lot of null values. \n",
    "#Dropped all features with high null values counts\n",
    "\n",
    "null_col.to_csv('null_col.csv')"
   ]
  },
  {
   "cell_type": "code",
   "execution_count": null,
   "metadata": {
    "collapsed": true
   },
   "outputs": [],
   "source": []
  },
  {
   "cell_type": "code",
   "execution_count": 12,
   "metadata": {
    "collapsed": true
   },
   "outputs": [],
   "source": [
    "non_numerics = [x for x in df.columns \\\n",
    "                if not (df[x].dtype == np.float64 \\\n",
    "                        or df[x].dtype == np.int64)]\n",
    "numerics = [x for x in df.columns if x not in non_numerics]"
   ]
  },
  {
   "cell_type": "code",
   "execution_count": 13,
   "metadata": {},
   "outputs": [
    {
     "data": {
      "text/plain": [
       "['term',\n",
       " 'int_rate',\n",
       " 'grade',\n",
       " 'sub_grade',\n",
       " 'emp_title',\n",
       " 'emp_length',\n",
       " 'home_ownership',\n",
       " 'verification_status',\n",
       " 'issue_d',\n",
       " 'loan_status',\n",
       " 'pymnt_plan',\n",
       " 'desc',\n",
       " 'purpose',\n",
       " 'title',\n",
       " 'zip_code',\n",
       " 'addr_state',\n",
       " 'earliest_cr_line',\n",
       " 'revol_util',\n",
       " 'initial_list_status',\n",
       " 'last_pymnt_d',\n",
       " 'next_pymnt_d',\n",
       " 'last_credit_pull_d',\n",
       " 'application_type',\n",
       " 'verification_status_joint',\n",
       " 'hardship_flag',\n",
       " 'hardship_type',\n",
       " 'hardship_reason',\n",
       " 'hardship_status',\n",
       " 'hardship_start_date',\n",
       " 'hardship_end_date',\n",
       " 'payment_plan_start_date',\n",
       " 'hardship_loan_status',\n",
       " 'disbursement_method',\n",
       " 'debt_settlement_flag',\n",
       " 'debt_settlement_flag_date',\n",
       " 'settlement_status',\n",
       " 'settlement_date']"
      ]
     },
     "execution_count": 13,
     "metadata": {},
     "output_type": "execute_result"
    }
   ],
   "source": [
    "non_numerics\n",
    "# which one of these categorical fields do we need to turn into dummy variables?\n",
    "# we see that there are some fields where active loans have recorded activity. What if we want \n",
    "# our lens to be focused on new loan application data instead? We will drop any categories that\n",
    "# relate to monthly records or status for active loans."
   ]
  },
  {
   "cell_type": "code",
   "execution_count": 226,
   "metadata": {
    "collapsed": true
   },
   "outputs": [],
   "source": [
    "#pass in new subset of features\n",
    "\n",
    "good_feat = [\"num_tl_120dpd_2m\",\n",
    "\"mo_sin_old_il_acct\",\n",
    "\"percent_bc_gt_75\",\n",
    "\"bc_util\",\n",
    "\"bc_open_to_buy\",\n",
    "\"dti\",\n",
    "\"num_rev_accts\",\n",
    "\"delinq_2yrs\",\n",
    "\"inq_last_6mths\",\n",
    "\"revol_bal\",\n",
    "\"open_acc\",\n",
    "\"pub_rec\",\n",
    "\"total_acc\",\n",
    "\"num_bc_tl\",\n",
    "\"funded_amnt\",\n",
    "\"int_rate\",\n",
    "\"installment\",\n",
    "\"home_ownership\",\n",
    "\"annual_inc\",\n",
    "\"total_rec_int\",\n",
    "\"chargeoff_within_12_mths\",\n",
    "\"num_sats\",\n",
    "\"num_rev_tl_bal_gt_0\",\n",
    "\"total_rev_hi_lim\",\n",
    "\"num_op_rev_tl\",\n",
    "\"num_il_tl\",\n",
    "\"acc_open_past_24mths\",\n",
    "\"avg_cur_bal\",\n",
    "\"delinq_amnt\",\n",
    "\"num_tl_90g_dpd_24m\",\n",
    "\"mo_sin_old_rev_tl_op\",\n",
    "\"mo_sin_rcnt_rev_tl_op\",\n",
    "\"mo_sin_rcnt_tl\",\n",
    "\"mort_acc\",\n",
    "\"num_accts_ever_120_pd\",\n",
    "\"num_actv_bc_tl\",\n",
    "\"num_actv_rev_tl\",\n",
    "\"num_tl_30dpd\",\n",
    "\"num_tl_op_past_12m\",\n",
    "\"total_il_high_credit_limit\",\n",
    "\"num_bc_sats\",\n",
    "\"collections_12_mths_ex_med\",\n",
    "\"policy_code\",\n",
    "\"total_bc_limit\",\n",
    "\"pct_tl_nvr_dlq\",\n",
    "\"total_bal_ex_mort\",\n",
    "\"acc_now_delinq\",\n",
    "\"tot_coll_amt\",\n",
    "\"tot_cur_bal\",\n",
    "\"tot_hi_cred_lim\",\n",
    "\"tax_liens\",\n",
    "\"pub_rec_bankruptcies\",\n",
    "\"loan_amnt\",\n",
    "\"revol_util\",\n",
    "\"term\",\n",
    "\"purpose\",\n",
    "\"emp_length\",\n",
    "'loan_status',\n",
    "'application_type',\n",
    "'grade']\n",
    "\n",
    "\n",
    "\n",
    "#manually removed:\n",
    "#\"recoveries\", , \"hardship_flag\", \"emp_title\", \"title\", \"total_rec_late_fee\",\n",
    "#\"funded_amnt_inv\", \"issue_d\", \"verification_status\", \"grade\", \"sub_grade\", \"initial_list_status\",\n",
    "#\"pymnt_plan\", \"debt_settlement_flag\", \"addr_state\", \"earliest_cr_line\",\n",
    "#\"mths_since_recent_bc\", \"total_rec_prncp\", \"total_pymnt_inv\", \"out_prncp_inv\",\n",
    "#'last_pymnt_amnt','collection_recovery_fee','total_pymnt', \"out_prncp\"\n",
    "\n",
    "#drop:\n",
    "#'sub_grade', 'verification_status', 'issue_d', 'pymnt_plan',  'title','zip_code','addr_state',\n",
    "# 'earliest_cr_line',  'initial_list_status',  'last_pymnt_d', 'next_pymnt_d', 'desc',\n",
    "#'verification_status_joint', 'hardship_flag','hardship_type','hardship_reason','hardship_status','\n",
    "#hardship_start_date','hardship_end_date','payment_plan_start_date','hardship_loan_status',\n",
    "#'disbursement_method','debt_settlement_flag','debt_settlement_flag_date','settlement_status','settlement_date'\n",
    "\n",
    "#categorical(included in [good_feat]): will transform to dummies in df_fe function.\n",
    "#\"last_pymnt_d\", \"last_credit_pull_d\"\n",
    "#'term','emp_length','home_ownership',\n",
    "#'purpose', 'application_type']\n"
   ]
  },
  {
   "cell_type": "code",
   "execution_count": null,
   "metadata": {
    "collapsed": true
   },
   "outputs": [],
   "source": []
  },
  {
   "cell_type": "code",
   "execution_count": 227,
   "metadata": {
    "collapsed": true
   },
   "outputs": [],
   "source": [
    "#Create a function that will take unclean data, and apply feature engineering techniques\n",
    "\n",
    "df = pd.read_csv(\"/Users/Darrenklee/Desktop/DS-Project/LoanStats3d.csv\")\n",
    "#good_feat eliminates all null columns\n",
    "df = df[good_feat]\n",
    "#we only want to focus on \"Fully Paid\" and \"Charged Off\" loans as target\n",
    "df = df[df.loan_status != \"Current\"]\n",
    "df = df[df.loan_status != \"Late (31-120 days)\"]\n",
    "df = df[df.loan_status != \"In Grace Period\"]\n",
    "df = df[df.loan_status != \"Late (16-30 days)\"]\n",
    "df = df[df.loan_status != \"Default\"]\n",
    "df = df[df.application_type != \"Joint App\"]\n",
    "#0 for Fully Paid loans, and 1 for Charged Off loans\n",
    "target_dict = {\"Fully Paid\":0, \"Charged Off\":1}\n",
    "df[\"loan_status\"] = df.loan_status.map(target_dict)\n",
    "\n",
    "\n",
    "def df_fe(df):\n",
    "    df.dropna(inplace= True)\n",
    "    df.drop(\"application_type\", axis=1, inplace =True)\n",
    "    df[\"int_rate\"] = df.int_rate.str.replace(\"%\", \"\")  \n",
    "    df[\"int_rate\"] = df.int_rate.astype(float)\n",
    "    df[\"revol_util\"] = df.revol_util.str.replace(\"%\", \"\")  \n",
    "    df[\"revol_util\"] = df.revol_util.astype(float)\n",
    "    #create dummy variables for categorical data\n",
    "    df_purpose_dums = pd.get_dummies(df.purpose, prefix = \"purpose\", drop_first=True)\n",
    "    df = pd.concat([df, df_purpose_dums], axis = 1)\n",
    "    df.drop(\"purpose\", axis = 1, inplace=True)\n",
    "    df_term_dums = pd.get_dummies(df.term, prefix = \"term\", drop_first = True)\n",
    "    df = pd.concat([df, df_term_dums], axis = 1)\n",
    "    df.drop(\"term\", axis = 1, inplace=True)\n",
    "    df_emp_length_dums = pd.get_dummies(df.emp_length, prefix = \"emp_length\", drop_first = True)\n",
    "    df = pd.concat([df, df_emp_length_dums], axis = 1)\n",
    "    df.drop(\"emp_length\", axis = 1, inplace=True)\n",
    "    df_ownership_dums = pd.get_dummies(df.home_ownership, prefix = \"ownership\", drop_first = True)\n",
    "    df = pd.concat([df, df_ownership_dums], axis = 1)\n",
    "    df.drop(\"home_ownership\", axis = 1, inplace=True)\n",
    "    df.columns = df.columns.str.lower()\n",
    "    #df.columns = df.columns.str.replace(\" \", \"_\")\n",
    "    #df.columns = df.columns.str.replace(\"-\", \"_\")\n",
    "    #df.columns = df.columns.str.replace(\"__\", \"_\")\n",
    "    #fico has high and low range columns, take average!\n",
    "    #df[\"fico_average\"] = df[[\"fico_high_range\", \"fico_low_range\"]].mean(axis=1)\n",
    "    return df"
   ]
  },
  {
   "cell_type": "code",
   "execution_count": 228,
   "metadata": {
    "collapsed": true
   },
   "outputs": [],
   "source": [
    "lcdf = df_fe(df)"
   ]
  },
  {
   "cell_type": "code",
   "execution_count": 229,
   "metadata": {},
   "outputs": [
    {
     "name": "stdout",
     "output_type": "stream",
     "text": [
      "<class 'pandas.core.frame.DataFrame'>\n",
      "Int64Index: 193448 entries, 1 to 421094\n",
      "Data columns (total 82 columns):\n",
      "num_tl_120dpd_2m              193448 non-null float64\n",
      "mo_sin_old_il_acct            193448 non-null float64\n",
      "percent_bc_gt_75              193448 non-null float64\n",
      "bc_util                       193448 non-null float64\n",
      "bc_open_to_buy                193448 non-null float64\n",
      "dti                           193448 non-null float64\n",
      "num_rev_accts                 193448 non-null float64\n",
      "delinq_2yrs                   193448 non-null int64\n",
      "inq_last_6mths                193448 non-null int64\n",
      "revol_bal                     193448 non-null int64\n",
      "open_acc                      193448 non-null int64\n",
      "pub_rec                       193448 non-null int64\n",
      "total_acc                     193448 non-null int64\n",
      "num_bc_tl                     193448 non-null int64\n",
      "funded_amnt                   193448 non-null int64\n",
      "int_rate                      193448 non-null float64\n",
      "installment                   193448 non-null float64\n",
      "annual_inc                    193448 non-null float64\n",
      "total_rec_int                 193448 non-null float64\n",
      "chargeoff_within_12_mths      193448 non-null int64\n",
      "num_sats                      193448 non-null int64\n",
      "num_rev_tl_bal_gt_0           193448 non-null int64\n",
      "total_rev_hi_lim              193448 non-null int64\n",
      "num_op_rev_tl                 193448 non-null int64\n",
      "num_il_tl                     193448 non-null int64\n",
      "acc_open_past_24mths          193448 non-null int64\n",
      "avg_cur_bal                   193448 non-null int64\n",
      "delinq_amnt                   193448 non-null int64\n",
      "num_tl_90g_dpd_24m            193448 non-null int64\n",
      "mo_sin_old_rev_tl_op          193448 non-null int64\n",
      "mo_sin_rcnt_rev_tl_op         193448 non-null int64\n",
      "mo_sin_rcnt_tl                193448 non-null int64\n",
      "mort_acc                      193448 non-null int64\n",
      "num_accts_ever_120_pd         193448 non-null int64\n",
      "num_actv_bc_tl                193448 non-null int64\n",
      "num_actv_rev_tl               193448 non-null int64\n",
      "num_tl_30dpd                  193448 non-null int64\n",
      "num_tl_op_past_12m            193448 non-null int64\n",
      "total_il_high_credit_limit    193448 non-null int64\n",
      "num_bc_sats                   193448 non-null int64\n",
      "collections_12_mths_ex_med    193448 non-null int64\n",
      "policy_code                   193448 non-null int64\n",
      "total_bc_limit                193448 non-null int64\n",
      "pct_tl_nvr_dlq                193448 non-null float64\n",
      "total_bal_ex_mort             193448 non-null int64\n",
      "acc_now_delinq                193448 non-null int64\n",
      "tot_coll_amt                  193448 non-null int64\n",
      "tot_cur_bal                   193448 non-null int64\n",
      "tot_hi_cred_lim               193448 non-null int64\n",
      "tax_liens                     193448 non-null int64\n",
      "pub_rec_bankruptcies          193448 non-null int64\n",
      "loan_amnt                     193448 non-null int64\n",
      "revol_util                    193448 non-null float64\n",
      "loan_status                   193448 non-null int64\n",
      "grade                         193448 non-null object\n",
      "purpose_credit_card           193448 non-null uint8\n",
      "purpose_debt_consolidation    193448 non-null uint8\n",
      "purpose_educational           193448 non-null uint8\n",
      "purpose_home_improvement      193448 non-null uint8\n",
      "purpose_house                 193448 non-null uint8\n",
      "purpose_major_purchase        193448 non-null uint8\n",
      "purpose_medical               193448 non-null uint8\n",
      "purpose_moving                193448 non-null uint8\n",
      "purpose_other                 193448 non-null uint8\n",
      "purpose_renewable_energy      193448 non-null uint8\n",
      "purpose_small_business        193448 non-null uint8\n",
      "purpose_vacation              193448 non-null uint8\n",
      "purpose_wedding               193448 non-null uint8\n",
      "term_ 60 months               193448 non-null uint8\n",
      "emp_length_10+ years          193448 non-null uint8\n",
      "emp_length_2 years            193448 non-null uint8\n",
      "emp_length_3 years            193448 non-null uint8\n",
      "emp_length_4 years            193448 non-null uint8\n",
      "emp_length_5 years            193448 non-null uint8\n",
      "emp_length_6 years            193448 non-null uint8\n",
      "emp_length_7 years            193448 non-null uint8\n",
      "emp_length_8 years            193448 non-null uint8\n",
      "emp_length_9 years            193448 non-null uint8\n",
      "emp_length_< 1 year           193448 non-null uint8\n",
      "emp_length_n/a                193448 non-null uint8\n",
      "ownership_own                 193448 non-null uint8\n",
      "ownership_rent                193448 non-null uint8\n",
      "dtypes: float64(13), int64(41), object(1), uint8(27)\n",
      "memory usage: 87.6+ MB\n"
     ]
    }
   ],
   "source": [
    "lcdf.info()"
   ]
  },
  {
   "cell_type": "code",
   "execution_count": 233,
   "metadata": {},
   "outputs": [
    {
     "data": {
      "text/plain": [
       "loan_status                   1.000000\n",
       "int_rate                      0.299124\n",
       "term_ 60 months               0.172835\n",
       "dti                           0.155343\n",
       "percent_bc_gt_75              0.103048\n",
       "acc_open_past_24mths          0.102208\n",
       "bc_util                       0.098974\n",
       "num_actv_rev_tl               0.094012\n",
       "num_rev_tl_bal_gt_0           0.094004\n",
       "ownership_rent                0.093433\n",
       "revol_util                    0.090039\n",
       "num_tl_op_past_12m            0.087001\n",
       "inq_last_6mths                0.083214\n",
       "total_rec_int                 0.082592\n",
       "num_actv_bc_tl                0.057721\n",
       "emp_length_n/a                0.047223\n",
       "loan_amnt                     0.044909\n",
       "funded_amnt                   0.044909\n",
       "num_op_rev_tl                 0.039099\n",
       "num_sats                      0.034712\n",
       "open_acc                      0.034492\n",
       "installment                   0.030790\n",
       "purpose_debt_consolidation    0.028949\n",
       "purpose_small_business        0.026833\n",
       "delinq_2yrs                   0.023774\n",
       "pub_rec                       0.022186\n",
       "collections_12_mths_ex_med    0.018831\n",
       "pub_rec_bankruptcies          0.016276\n",
       "tax_liens                     0.013378\n",
       "num_bc_sats                   0.012023\n",
       "                                ...   \n",
       "purpose_vacation             -0.000563\n",
       "purpose_educational          -0.001351\n",
       "emp_length_5 years           -0.001374\n",
       "total_il_high_credit_limit   -0.001667\n",
       "emp_length_6 years           -0.002088\n",
       "emp_length_2 years           -0.002295\n",
       "purpose_wedding              -0.002339\n",
       "tot_coll_amt                 -0.002500\n",
       "total_bal_ex_mort            -0.004577\n",
       "num_rev_accts                -0.009613\n",
       "pct_tl_nvr_dlq               -0.011068\n",
       "purpose_home_improvement     -0.016991\n",
       "total_acc                    -0.019072\n",
       "num_bc_tl                    -0.022272\n",
       "revol_bal                    -0.022754\n",
       "emp_length_10+ years         -0.027748\n",
       "mo_sin_old_il_acct           -0.030522\n",
       "purpose_credit_card          -0.038414\n",
       "annual_inc                   -0.055182\n",
       "mo_sin_rcnt_rev_tl_op        -0.057217\n",
       "mo_sin_old_rev_tl_op         -0.060508\n",
       "mo_sin_rcnt_tl               -0.061165\n",
       "total_rev_hi_lim             -0.074303\n",
       "total_bc_limit               -0.092589\n",
       "tot_cur_bal                  -0.098484\n",
       "mort_acc                     -0.101308\n",
       "avg_cur_bal                  -0.107597\n",
       "bc_open_to_buy               -0.109037\n",
       "tot_hi_cred_lim              -0.109053\n",
       "policy_code                        NaN\n",
       "Name: loan_status, Length: 81, dtype: float64"
      ]
     },
     "execution_count": 233,
     "metadata": {},
     "output_type": "execute_result"
    }
   ],
   "source": [
    "lcdf.corr()[\"loan_status\"].sort_values(ascending = False)\n",
    "# which columns are higly correlated to our new binary loan_status?"
   ]
  },
  {
   "cell_type": "code",
   "execution_count": null,
   "metadata": {
    "collapsed": true
   },
   "outputs": [],
   "source": []
  },
  {
   "cell_type": "code",
   "execution_count": null,
   "metadata": {
    "collapsed": true
   },
   "outputs": [],
   "source": []
  },
  {
   "cell_type": "code",
   "execution_count": null,
   "metadata": {
    "collapsed": true
   },
   "outputs": [],
   "source": []
  },
  {
   "cell_type": "code",
   "execution_count": null,
   "metadata": {
    "collapsed": true
   },
   "outputs": [],
   "source": []
  },
  {
   "cell_type": "code",
   "execution_count": 25,
   "metadata": {
    "collapsed": true
   },
   "outputs": [],
   "source": [
    "# try in h2o.ai \n",
    "# lcdf.to_csv(\"LC_FE.csv\")"
   ]
  },
  {
   "cell_type": "code",
   "execution_count": 100,
   "metadata": {
    "collapsed": true
   },
   "outputs": [],
   "source": [
    "grade_classes = lcdf.grade\n",
    "lcdf.drop(\"grade\", axis = 1, inplace= True)"
   ]
  },
  {
   "cell_type": "markdown",
   "metadata": {},
   "source": [
    "# Now our dataset is ready for Machine Learning!"
   ]
  },
  {
   "cell_type": "markdown",
   "metadata": {},
   "source": [
    "lcdf is the master DataFrame we will work with"
   ]
  },
  {
   "cell_type": "code",
   "execution_count": 101,
   "metadata": {},
   "outputs": [
    {
     "data": {
      "text/plain": [
       "(193448, 82)"
      ]
     },
     "execution_count": 101,
     "metadata": {},
     "output_type": "execute_result"
    }
   ],
   "source": [
    "lcdf.shape"
   ]
  },
  {
   "cell_type": "code",
   "execution_count": 102,
   "metadata": {},
   "outputs": [
    {
     "data": {
      "text/plain": [
       "Index([u'num_tl_120dpd_2m', u'mo_sin_old_il_acct', u'percent_bc_gt_75',\n",
       "       u'bc_util', u'bc_open_to_buy', u'dti', u'num_rev_accts', u'delinq_2yrs',\n",
       "       u'inq_last_6mths', u'revol_bal', u'open_acc', u'pub_rec', u'out_prncp',\n",
       "       u'total_acc', u'num_bc_tl', u'funded_amnt', u'int_rate', u'installment',\n",
       "       u'annual_inc', u'total_rec_int', u'chargeoff_within_12_mths',\n",
       "       u'num_sats', u'num_rev_tl_bal_gt_0', u'total_rev_hi_lim',\n",
       "       u'num_op_rev_tl', u'num_il_tl', u'acc_open_past_24mths', u'avg_cur_bal',\n",
       "       u'delinq_amnt', u'num_tl_90g_dpd_24m', u'mo_sin_old_rev_tl_op',\n",
       "       u'mo_sin_rcnt_rev_tl_op', u'mo_sin_rcnt_tl', u'mort_acc',\n",
       "       u'num_accts_ever_120_pd', u'num_actv_bc_tl', u'num_actv_rev_tl',\n",
       "       u'num_tl_30dpd', u'num_tl_op_past_12m', u'total_il_high_credit_limit',\n",
       "       u'num_bc_sats', u'collections_12_mths_ex_med', u'policy_code',\n",
       "       u'total_bc_limit', u'pct_tl_nvr_dlq', u'total_bal_ex_mort',\n",
       "       u'acc_now_delinq', u'tot_coll_amt', u'tot_cur_bal', u'tot_hi_cred_lim',\n",
       "       u'tax_liens', u'pub_rec_bankruptcies', u'loan_amnt', u'revol_util',\n",
       "       u'loan_status', u'purpose_credit_card', u'purpose_debt_consolidation',\n",
       "       u'purpose_educational', u'purpose_home_improvement', u'purpose_house',\n",
       "       u'purpose_major_purchase', u'purpose_medical', u'purpose_moving',\n",
       "       u'purpose_other', u'purpose_renewable_energy',\n",
       "       u'purpose_small_business', u'purpose_vacation', u'purpose_wedding',\n",
       "       u'term_ 60 months', u'emp_length_10+ years', u'emp_length_2 years',\n",
       "       u'emp_length_3 years', u'emp_length_4 years', u'emp_length_5 years',\n",
       "       u'emp_length_6 years', u'emp_length_7 years', u'emp_length_8 years',\n",
       "       u'emp_length_9 years', u'emp_length_< 1 year', u'emp_length_n/a',\n",
       "       u'ownership_own', u'ownership_rent'],\n",
       "      dtype='object')"
      ]
     },
     "execution_count": 102,
     "metadata": {},
     "output_type": "execute_result"
    }
   ],
   "source": [
    "lcdf.columns"
   ]
  },
  {
   "cell_type": "code",
   "execution_count": 28,
   "metadata": {},
   "outputs": [
    {
     "data": {
      "text/plain": [
       "0    191763\n",
       "1      1560\n",
       "2        98\n",
       "3        20\n",
       "4         6\n",
       "5         1\n",
       "Name: chargeoff_within_12_mths, dtype: int64"
      ]
     },
     "execution_count": 28,
     "metadata": {},
     "output_type": "execute_result"
    }
   ],
   "source": [
    "lcdf.chargeoff_within_12_mths.value_counts()"
   ]
  },
  {
   "cell_type": "code",
   "execution_count": 29,
   "metadata": {},
   "outputs": [
    {
     "data": {
      "text/plain": [
       "0    0.739155\n",
       "1    0.260845\n",
       "Name: loan_status, dtype: float64"
      ]
     },
     "execution_count": 29,
     "metadata": {},
     "output_type": "execute_result"
    }
   ],
   "source": [
    "#Null Accuracy. If we predicted that all loans will default, then we would be correct ~26% of the time.\n",
    "lcdf.loan_status.value_counts(normalize=True)"
   ]
  },
  {
   "cell_type": "code",
   "execution_count": 30,
   "metadata": {},
   "outputs": [
    {
     "data": {
      "text/html": [
       "<div>\n",
       "<style>\n",
       "    .dataframe thead tr:only-child th {\n",
       "        text-align: right;\n",
       "    }\n",
       "\n",
       "    .dataframe thead th {\n",
       "        text-align: left;\n",
       "    }\n",
       "\n",
       "    .dataframe tbody tr th {\n",
       "        vertical-align: top;\n",
       "    }\n",
       "</style>\n",
       "<table border=\"1\" class=\"dataframe\">\n",
       "  <thead>\n",
       "    <tr style=\"text-align: right;\">\n",
       "      <th></th>\n",
       "      <th>num_tl_120dpd_2m</th>\n",
       "      <th>mo_sin_old_il_acct</th>\n",
       "      <th>percent_bc_gt_75</th>\n",
       "      <th>bc_util</th>\n",
       "      <th>bc_open_to_buy</th>\n",
       "      <th>dti</th>\n",
       "      <th>num_rev_accts</th>\n",
       "      <th>delinq_2yrs</th>\n",
       "      <th>inq_last_6mths</th>\n",
       "      <th>revol_bal</th>\n",
       "      <th>...</th>\n",
       "      <th>emp_length_4 years</th>\n",
       "      <th>emp_length_5 years</th>\n",
       "      <th>emp_length_6 years</th>\n",
       "      <th>emp_length_7 years</th>\n",
       "      <th>emp_length_8 years</th>\n",
       "      <th>emp_length_9 years</th>\n",
       "      <th>emp_length_&lt; 1 year</th>\n",
       "      <th>emp_length_n/a</th>\n",
       "      <th>ownership_own</th>\n",
       "      <th>ownership_rent</th>\n",
       "    </tr>\n",
       "    <tr>\n",
       "      <th>loan_status</th>\n",
       "      <th></th>\n",
       "      <th></th>\n",
       "      <th></th>\n",
       "      <th></th>\n",
       "      <th></th>\n",
       "      <th></th>\n",
       "      <th></th>\n",
       "      <th></th>\n",
       "      <th></th>\n",
       "      <th></th>\n",
       "      <th></th>\n",
       "      <th></th>\n",
       "      <th></th>\n",
       "      <th></th>\n",
       "      <th></th>\n",
       "      <th></th>\n",
       "      <th></th>\n",
       "      <th></th>\n",
       "      <th></th>\n",
       "      <th></th>\n",
       "      <th></th>\n",
       "    </tr>\n",
       "  </thead>\n",
       "  <tbody>\n",
       "    <tr>\n",
       "      <th>0</th>\n",
       "      <td>0.00079</td>\n",
       "      <td>126.099022</td>\n",
       "      <td>42.999822</td>\n",
       "      <td>58.290237</td>\n",
       "      <td>11023.741587</td>\n",
       "      <td>18.261456</td>\n",
       "      <td>15.228089</td>\n",
       "      <td>0.313432</td>\n",
       "      <td>0.554739</td>\n",
       "      <td>16850.187128</td>\n",
       "      <td>...</td>\n",
       "      <td>0.058991</td>\n",
       "      <td>0.060774</td>\n",
       "      <td>0.040591</td>\n",
       "      <td>0.044486</td>\n",
       "      <td>0.052410</td>\n",
       "      <td>0.040514</td>\n",
       "      <td>0.083301</td>\n",
       "      <td>0.044444</td>\n",
       "      <td>0.104995</td>\n",
       "      <td>0.367954</td>\n",
       "    </tr>\n",
       "    <tr>\n",
       "      <th>1</th>\n",
       "      <td>0.00111</td>\n",
       "      <td>122.516310</td>\n",
       "      <td>51.457388</td>\n",
       "      <td>64.684390</td>\n",
       "      <td>7264.223940</td>\n",
       "      <td>21.293329</td>\n",
       "      <td>15.045244</td>\n",
       "      <td>0.361732</td>\n",
       "      <td>0.719976</td>\n",
       "      <td>15702.554082</td>\n",
       "      <td>...</td>\n",
       "      <td>0.059572</td>\n",
       "      <td>0.060028</td>\n",
       "      <td>0.039655</td>\n",
       "      <td>0.044590</td>\n",
       "      <td>0.052596</td>\n",
       "      <td>0.040904</td>\n",
       "      <td>0.086247</td>\n",
       "      <td>0.068014</td>\n",
       "      <td>0.111336</td>\n",
       "      <td>0.471978</td>\n",
       "    </tr>\n",
       "  </tbody>\n",
       "</table>\n",
       "<p>2 rows × 82 columns</p>\n",
       "</div>"
      ],
      "text/plain": [
       "             num_tl_120dpd_2m  mo_sin_old_il_acct  percent_bc_gt_75  \\\n",
       "loan_status                                                           \n",
       "0                     0.00079          126.099022         42.999822   \n",
       "1                     0.00111          122.516310         51.457388   \n",
       "\n",
       "               bc_util  bc_open_to_buy        dti  num_rev_accts  delinq_2yrs  \\\n",
       "loan_status                                                                     \n",
       "0            58.290237    11023.741587  18.261456      15.228089     0.313432   \n",
       "1            64.684390     7264.223940  21.293329      15.045244     0.361732   \n",
       "\n",
       "             inq_last_6mths     revol_bal       ...        emp_length_4 years  \\\n",
       "loan_status                                     ...                             \n",
       "0                  0.554739  16850.187128       ...                  0.058991   \n",
       "1                  0.719976  15702.554082       ...                  0.059572   \n",
       "\n",
       "             emp_length_5 years  emp_length_6 years  emp_length_7 years  \\\n",
       "loan_status                                                               \n",
       "0                      0.060774            0.040591            0.044486   \n",
       "1                      0.060028            0.039655            0.044590   \n",
       "\n",
       "             emp_length_8 years  emp_length_9 years  emp_length_< 1 year  \\\n",
       "loan_status                                                                \n",
       "0                      0.052410            0.040514             0.083301   \n",
       "1                      0.052596            0.040904             0.086247   \n",
       "\n",
       "             emp_length_n/a  ownership_own  ownership_rent  \n",
       "loan_status                                                 \n",
       "0                  0.044444       0.104995        0.367954  \n",
       "1                  0.068014       0.111336        0.471978  \n",
       "\n",
       "[2 rows x 82 columns]"
      ]
     },
     "execution_count": 30,
     "metadata": {},
     "output_type": "execute_result"
    }
   ],
   "source": [
    "lcdf.groupby(\"loan_status\").mean()"
   ]
  },
  {
   "cell_type": "code",
   "execution_count": 31,
   "metadata": {},
   "outputs": [
    {
     "data": {
      "text/plain": [
       "loan_status\n",
       "1    14.65\n",
       "0    11.99\n",
       "Name: int_rate, dtype: float64"
      ]
     },
     "execution_count": 31,
     "metadata": {},
     "output_type": "execute_result"
    }
   ],
   "source": [
    "lcdf.groupby(\"loan_status\")[\"int_rate\"].median().sort_values(ascending = False)\n",
    "#not a huge meaningful difference here\n",
    "#loan_status_mean = df.groupby(\"loan_status\").mean()\n",
    "#loan_status_mean.to_csv('loan_status_mean.csv')"
   ]
  },
  {
   "cell_type": "code",
   "execution_count": null,
   "metadata": {
    "collapsed": true
   },
   "outputs": [],
   "source": []
  },
  {
   "cell_type": "code",
   "execution_count": 32,
   "metadata": {
    "collapsed": true
   },
   "outputs": [],
   "source": [
    "#new subset. Hand picked for first Decision Tree model only.\n",
    "\n",
    "subset = [\n",
    " 'dti',\n",
    " 'num_rev_accts',\n",
    " 'delinq_2yrs',\n",
    " 'revol_bal',\n",
    " 'open_acc',\n",
    " 'pub_rec',\n",
    " 'int_rate',\n",
    " 'annual_inc',\n",
    " 'acc_open_past_24mths',\n",
    " 'avg_cur_bal',\n",
    " 'collections_12_mths_ex_med',\n",
    " 'pub_rec_bankruptcies',\n",
    " 'loan_amnt',\n",
    " 'revol_util',\n",
    " 'mort_acc',\n",
    " 'loan_status',\n",
    "u'purpose_credit_card', u'purpose_debt_consolidation',\n",
    "u'purpose_educational', u'purpose_home_improvement', u'purpose_house',\n",
    "u'purpose_major_purchase', u'purpose_medical', u'purpose_moving',\n",
    "u'purpose_other', u'purpose_renewable_energy',\n",
    "u'purpose_small_business', u'purpose_vacation', u'purpose_wedding',\n",
    "u'term_ 60 months', u'emp_length_10+ years', u'emp_length_2 years',\n",
    "u'emp_length_3 years', u'emp_length_4 years', u'emp_length_5 years',\n",
    "u'emp_length_6 years', u'emp_length_7 years', u'emp_length_8 years',\n",
    "u'emp_length_9 years', u'emp_length_< 1 year', u'emp_length_n/a',\n",
    "u'ownership_own', u'ownership_rent']"
   ]
  },
  {
   "cell_type": "code",
   "execution_count": 33,
   "metadata": {
    "scrolled": true
   },
   "outputs": [
    {
     "name": "stderr",
     "output_type": "stream",
     "text": [
      "/Users/darrenklee/anaconda2/lib/python2.7/site-packages/sklearn/cross_validation.py:41: DeprecationWarning: This module was deprecated in version 0.18 in favor of the model_selection module into which all the refactored classes and functions are moved. Also note that the interface of the new CV iterators are different from that of this module. This module will be removed in 0.20.\n",
      "  \"This module will be removed in 0.20.\", DeprecationWarning)\n",
      "/Users/darrenklee/anaconda2/lib/python2.7/site-packages/sklearn/grid_search.py:42: DeprecationWarning: This module was deprecated in version 0.18 in favor of the model_selection module into which all the refactored classes and functions are moved. This module will be removed in 0.20.\n",
      "  DeprecationWarning)\n"
     ]
    }
   ],
   "source": [
    "from sklearn.tree import DecisionTreeClassifier\n",
    "from sklearn.datasets import make_classification\n",
    "from sklearn.cross_validation import train_test_split, cross_val_score\n",
    "from sklearn.metrics import accuracy_score, precision_score, recall_score, confusion_matrix, classification_report, roc_auc_score, roc_curve\n",
    "from sklearn.linear_model import LogisticRegression\n",
    "from sklearn.preprocessing import StandardScaler\n",
    "from sklearn.grid_search import GridSearchCV\n",
    "from sklearn.grid_search import RandomizedSearchCV\n",
    "from time import time\n",
    "import pandas as pd;"
   ]
  },
  {
   "cell_type": "code",
   "execution_count": 34,
   "metadata": {
    "collapsed": true
   },
   "outputs": [],
   "source": [
    "lcdf1 = lcdf[subset]"
   ]
  },
  {
   "cell_type": "code",
   "execution_count": 35,
   "metadata": {},
   "outputs": [
    {
     "data": {
      "text/plain": [
       "(193448, 43)"
      ]
     },
     "execution_count": 35,
     "metadata": {},
     "output_type": "execute_result"
    }
   ],
   "source": [
    "lcdf1.shape"
   ]
  },
  {
   "cell_type": "markdown",
   "metadata": {},
   "source": [
    "# Decision Tree model selection w/ random subset of features"
   ]
  },
  {
   "cell_type": "code",
   "execution_count": 279,
   "metadata": {
    "collapsed": true
   },
   "outputs": [],
   "source": [
    "X = lcdf1.drop(\"loan_status\", axis =1)\n",
    "y = lcdf1.loan_status"
   ]
  },
  {
   "cell_type": "code",
   "execution_count": 284,
   "metadata": {},
   "outputs": [
    {
     "data": {
      "text/plain": [
       "0    0.739155\n",
       "1    0.260845\n",
       "Name: loan_status, dtype: float64"
      ]
     },
     "execution_count": 284,
     "metadata": {},
     "output_type": "execute_result"
    }
   ],
   "source": [
    "y.value_counts(normalize= True)"
   ]
  },
  {
   "cell_type": "code",
   "execution_count": 280,
   "metadata": {},
   "outputs": [
    {
     "data": {
      "text/plain": [
       "DecisionTreeClassifier(class_weight=None, criterion='gini', max_depth=3,\n",
       "            max_features=None, max_leaf_nodes=None,\n",
       "            min_impurity_decrease=0.0, min_impurity_split=None,\n",
       "            min_samples_leaf=1, min_samples_split=2,\n",
       "            min_weight_fraction_leaf=0.0, presort=False, random_state=None,\n",
       "            splitter='best')"
      ]
     },
     "execution_count": 280,
     "metadata": {},
     "output_type": "execute_result"
    }
   ],
   "source": [
    "dt = DecisionTreeClassifier(max_depth= 3)\n",
    "dt.fit(X, y)"
   ]
  },
  {
   "cell_type": "code",
   "execution_count": 285,
   "metadata": {
    "collapsed": true
   },
   "outputs": [],
   "source": [
    "X_train, X_test, y_train, y_test = train_test_split(X, y, test_size = .33,\n",
    "                                                   random_state = 123)"
   ]
  },
  {
   "cell_type": "code",
   "execution_count": 286,
   "metadata": {},
   "outputs": [
    {
     "name": "stdout",
     "output_type": "stream",
     "text": [
      "(0.73913278296427742, 0.7391992230333031)\n"
     ]
    }
   ],
   "source": [
    "dt.fit(X_train, y_train)\n",
    "\n",
    "print (dt.score(X_train, y_train), dt.score(X_test, y_test))"
   ]
  },
  {
   "cell_type": "code",
   "execution_count": 288,
   "metadata": {},
   "outputs": [
    {
     "data": {
      "text/plain": [
       "{'criterion': ['gini', 'entropy'],\n",
       " 'max_depth': [2, 3, 4, 5, 6, 7, 8, 9, 10, 11, 12, 13, 14],\n",
       " 'max_features': [1, 2, 5, 10, 15, 20, 40],\n",
       " 'min_samples_split': [2, 10]}"
      ]
     },
     "execution_count": 288,
     "metadata": {},
     "output_type": "execute_result"
    }
   ],
   "source": [
    "#Range of neighbors to test\n",
    "depths_range = range(2, 15)\n",
    "\n",
    "#Dictionary of parameter values \n",
    "param_grid_dt = {}\n",
    "\n",
    "#Param grid with test different split criteria as well. entropy takes the log. gini takes the squared...\n",
    "param_grid_dt = {\"criterion\": [\"gini\", \"entropy\"], \"max_depth\": depths_range}\n",
    "param_grid_dt[\"min_samples_split\"] = [2, 10]\n",
    "param_grid_dt[\"max_features\"] = [1, 2, 5, 10, 15, 20, 40]\n",
    "\n",
    "param_grid_dt"
   ]
  },
  {
   "cell_type": "code",
   "execution_count": 303,
   "metadata": {},
   "outputs": [
    {
     "data": {
      "text/plain": [
       "RandomizedSearchCV(cv=10, error_score='raise',\n",
       "          estimator=DecisionTreeClassifier(class_weight=None, criterion='gini', max_depth=None,\n",
       "            max_features=None, max_leaf_nodes=None,\n",
       "            min_impurity_decrease=0.0, min_impurity_split=None,\n",
       "            min_samples_leaf=1, min_samples_split=2,\n",
       "            min_weight_fraction_leaf=0.0, presort=False, random_state=None,\n",
       "            splitter='best'),\n",
       "          fit_params={}, iid=True, n_iter=10, n_jobs=1,\n",
       "          param_distributions={'min_samples_split': [2, 10], 'max_features': [1, 2, 5, 10, 15, 20, 40], 'criterion': ['gini', 'entropy'], 'max_depth': [2, 3, 4, 5, 6, 7, 8, 9, 10, 11, 12, 13, 14]},\n",
       "          pre_dispatch='2*n_jobs', random_state=None, refit=True,\n",
       "          scoring='accuracy', verbose=0)"
      ]
     },
     "execution_count": 303,
     "metadata": {},
     "output_type": "execute_result"
    }
   ],
   "source": [
    "#Intialize RandomizedSearchCV grid with n_iter = 10\n",
    "grid_dt = RandomizedSearchCV(DecisionTreeClassifier(), n_iter = 10,\n",
    "                            param_distributions = param_grid_dt, cv = 10, scoring = \"accuracy\")\n",
    "\n",
    "#Fit grid on data\n",
    "grid_dt.fit(X, y)"
   ]
  },
  {
   "cell_type": "code",
   "execution_count": 304,
   "metadata": {},
   "outputs": [
    {
     "data": {
      "text/plain": [
       "0.7462212067325587"
      ]
     },
     "execution_count": 304,
     "metadata": {},
     "output_type": "execute_result"
    }
   ],
   "source": [
    "grid_dt.best_score_"
   ]
  },
  {
   "cell_type": "code",
   "execution_count": 305,
   "metadata": {},
   "outputs": [
    {
     "data": {
      "text/plain": [
       "{'criterion': 'entropy',\n",
       " 'max_depth': 7,\n",
       " 'max_features': 15,\n",
       " 'min_samples_split': 2}"
      ]
     },
     "execution_count": 305,
     "metadata": {},
     "output_type": "execute_result"
    }
   ],
   "source": [
    "grid_dt.best_params_"
   ]
  },
  {
   "cell_type": "code",
   "execution_count": 301,
   "metadata": {},
   "outputs": [
    {
     "data": {
      "text/plain": [
       "DecisionTreeClassifier(class_weight=None, criterion='gini', max_depth=4,\n",
       "            max_features=40, max_leaf_nodes=None,\n",
       "            min_impurity_decrease=0.0, min_impurity_split=None,\n",
       "            min_samples_leaf=1, min_samples_split=10,\n",
       "            min_weight_fraction_leaf=0.0, presort=False, random_state=None,\n",
       "            splitter='best')"
      ]
     },
     "execution_count": 301,
     "metadata": {},
     "output_type": "execute_result"
    }
   ],
   "source": [
    "grid_dt.best_estimator_"
   ]
  },
  {
   "cell_type": "code",
   "execution_count": null,
   "metadata": {
    "collapsed": true
   },
   "outputs": [],
   "source": []
  },
  {
   "cell_type": "code",
   "execution_count": 293,
   "metadata": {
    "collapsed": true
   },
   "outputs": [],
   "source": [
    "#now let's run the Decision Tree Classifier model with the best parameters."
   ]
  },
  {
   "cell_type": "code",
   "execution_count": 30,
   "metadata": {},
   "outputs": [
    {
     "data": {
      "text/plain": [
       "DecisionTreeClassifier(class_weight=None, criterion='entropy', max_depth=7,\n",
       "            max_features=15, max_leaf_nodes=None,\n",
       "            min_impurity_decrease=0.0, min_impurity_split=None,\n",
       "            min_samples_leaf=1, min_samples_split=2,\n",
       "            min_weight_fraction_leaf=0.0, presort=False, random_state=None,\n",
       "            splitter='best')"
      ]
     },
     "execution_count": 30,
     "metadata": {},
     "output_type": "execute_result"
    }
   ],
   "source": [
    "dt = DecisionTreeClassifier(max_depth= 7, criterion= \"entropy\", max_features= 15, min_samples_split= 2)\n",
    "dt.fit(X, y)"
   ]
  },
  {
   "cell_type": "code",
   "execution_count": 307,
   "metadata": {},
   "outputs": [
    {
     "data": {
      "text/plain": [
       "0.74863529217153968"
      ]
     },
     "execution_count": 307,
     "metadata": {},
     "output_type": "execute_result"
    }
   ],
   "source": [
    "dt.score(X, y)"
   ]
  },
  {
   "cell_type": "code",
   "execution_count": 308,
   "metadata": {},
   "outputs": [
    {
     "name": "stdout",
     "output_type": "stream",
     "text": [
      "(0.74855335236478671, 0.74880165418716127)\n"
     ]
    }
   ],
   "source": [
    "print (dt.score(X_train, y_train), dt.score(X_test, y_test))"
   ]
  },
  {
   "cell_type": "code",
   "execution_count": 309,
   "metadata": {},
   "outputs": [
    {
     "data": {
      "text/plain": [
       "[(0.77471664831318365, 'int_rate'),\n",
       " (0.062727685607410433, 'dti'),\n",
       " (0.048314002972043954, 'avg_cur_bal'),\n",
       " (0.033139921886334044, 'mort_acc'),\n",
       " (0.015102264938484976, 'term_ 60 months'),\n",
       " (0.01230084135798787, 'loan_amnt'),\n",
       " (0.01205980713003506, 'revol_util'),\n",
       " (0.011188872320042679, 'ownership_rent'),\n",
       " (0.0081208533560070267, 'revol_bal'),\n",
       " (0.0066048325353841785, 'emp_length_n/a'),\n",
       " (0.0057367169159591863, 'delinq_2yrs'),\n",
       " (0.0049935573571361826, 'acc_open_past_24mths'),\n",
       " (0.0027345036700859686, 'annual_inc'),\n",
       " (0.0013289436494099301, 'num_rev_accts'),\n",
       " (0.00036173369200318174, 'ownership_own'),\n",
       " (0.00029441614881978482, 'open_acc'),\n",
       " (0.00027439814967214433, 'emp_length_4 years'),\n",
       " (0.0, 'purpose_wedding'),\n",
       " (0.0, 'purpose_vacation'),\n",
       " (0.0, 'purpose_small_business'),\n",
       " (0.0, 'purpose_renewable_energy'),\n",
       " (0.0, 'purpose_other'),\n",
       " (0.0, 'purpose_moving'),\n",
       " (0.0, 'purpose_medical'),\n",
       " (0.0, 'purpose_major_purchase'),\n",
       " (0.0, 'purpose_house'),\n",
       " (0.0, 'purpose_home_improvement'),\n",
       " (0.0, 'purpose_educational'),\n",
       " (0.0, 'purpose_debt_consolidation'),\n",
       " (0.0, 'purpose_credit_card'),\n",
       " (0.0, 'pub_rec_bankruptcies'),\n",
       " (0.0, 'pub_rec'),\n",
       " (0.0, 'emp_length_< 1 year'),\n",
       " (0.0, 'emp_length_9 years'),\n",
       " (0.0, 'emp_length_8 years'),\n",
       " (0.0, 'emp_length_7 years'),\n",
       " (0.0, 'emp_length_6 years'),\n",
       " (0.0, 'emp_length_5 years'),\n",
       " (0.0, 'emp_length_3 years'),\n",
       " (0.0, 'emp_length_2 years'),\n",
       " (0.0, 'emp_length_10+ years'),\n",
       " (0.0, 'collections_12_mths_ex_med')]"
      ]
     },
     "execution_count": 309,
     "metadata": {},
     "output_type": "execute_result"
    }
   ],
   "source": [
    "sorted(zip(dt.feature_importances_, X.columns), reverse= True)"
   ]
  },
  {
   "cell_type": "code",
   "execution_count": null,
   "metadata": {},
   "outputs": [],
   "source": [
    "preds = dt.predict(X_test)"
   ]
  },
  {
   "cell_type": "code",
   "execution_count": 33,
   "metadata": {},
   "outputs": [
    {
     "data": {
      "text/plain": [
       "array([[45866,  1323],\n",
       "       [14888,  1761]])"
      ]
     },
     "execution_count": 33,
     "metadata": {},
     "output_type": "execute_result"
    }
   ],
   "source": [
    "cm = confusion_matrix(y_test, preds)\n",
    "cm"
   ]
  },
  {
   "cell_type": "code",
   "execution_count": 34,
   "metadata": {},
   "outputs": [
    {
     "data": {
      "text/plain": [
       "0.10577211844555229"
      ]
     },
     "execution_count": 34,
     "metadata": {},
     "output_type": "execute_result"
    }
   ],
   "source": [
    "recall_score(y_test, preds)"
   ]
  },
  {
   "cell_type": "code",
   "execution_count": 35,
   "metadata": {},
   "outputs": [
    {
     "data": {
      "text/plain": [
       "0.57101167315175094"
      ]
     },
     "execution_count": 35,
     "metadata": {},
     "output_type": "execute_result"
    }
   ],
   "source": [
    "precision_score(y_test, preds)"
   ]
  },
  {
   "cell_type": "code",
   "execution_count": 36,
   "metadata": {},
   "outputs": [
    {
     "data": {
      "text/plain": [
       "0.74606034023622292"
      ]
     },
     "execution_count": 36,
     "metadata": {},
     "output_type": "execute_result"
    }
   ],
   "source": [
    "accuracy_score(y_test, preds)"
   ]
  },
  {
   "cell_type": "code",
   "execution_count": null,
   "metadata": {
    "collapsed": true
   },
   "outputs": [],
   "source": [
    "# We are able to slightly beat the null w/ a random subset of features.\n",
    "#Let's use Random Forest to find Feature Importance of lcdf (the entire list of features we prepapred)"
   ]
  },
  {
   "cell_type": "markdown",
   "metadata": {},
   "source": [
    "# Random Forest Model with GridSearch"
   ]
  },
  {
   "cell_type": "code",
   "execution_count": 88,
   "metadata": {
    "collapsed": true
   },
   "outputs": [],
   "source": [
    "from sklearn.ensemble import RandomForestClassifier"
   ]
  },
  {
   "cell_type": "code",
   "execution_count": 103,
   "metadata": {
    "collapsed": true
   },
   "outputs": [],
   "source": [
    "X = lcdf.drop('loan_status', axis= 1)\n",
    "y = lcdf.loan_status"
   ]
  },
  {
   "cell_type": "code",
   "execution_count": 104,
   "metadata": {
    "collapsed": true
   },
   "outputs": [],
   "source": [
    "X_train, X_test, y_train, y_test = train_test_split(X, y, test_size = .33,\n",
    "                                                   random_state = 123)"
   ]
  },
  {
   "cell_type": "code",
   "execution_count": 105,
   "metadata": {},
   "outputs": [
    {
     "data": {
      "text/plain": [
       "RandomForestClassifier(bootstrap=True, class_weight=None, criterion='entropy',\n",
       "            max_depth=11, max_features=20, max_leaf_nodes=None,\n",
       "            min_impurity_decrease=0.0, min_impurity_split=None,\n",
       "            min_samples_leaf=1, min_samples_split=10,\n",
       "            min_weight_fraction_leaf=0.0, n_estimators=43, n_jobs=-1,\n",
       "            oob_score=False, random_state=None, verbose=0,\n",
       "            warm_start=False)"
      ]
     },
     "execution_count": 105,
     "metadata": {},
     "output_type": "execute_result"
    }
   ],
   "source": [
    "rf = RandomForestClassifier(n_estimators= 43, criterion= 'entropy', max_depth= 11, max_features= 20, \n",
    "                            n_jobs = -1, min_samples_split = 10)\n",
    "rf.fit(X_train, y_train)"
   ]
  },
  {
   "cell_type": "code",
   "execution_count": 106,
   "metadata": {},
   "outputs": [
    {
     "data": {
      "text/plain": [
       "0.7553964723205614"
      ]
     },
     "execution_count": 106,
     "metadata": {},
     "output_type": "execute_result"
    }
   ],
   "source": [
    "rf.score(X_test, y_test)"
   ]
  },
  {
   "cell_type": "code",
   "execution_count": 107,
   "metadata": {
    "collapsed": true
   },
   "outputs": [],
   "source": [
    "preds = rf.predict(X_test)"
   ]
  },
  {
   "cell_type": "code",
   "execution_count": 108,
   "metadata": {},
   "outputs": [
    {
     "data": {
      "text/plain": [
       "array([[45482,  1707],\n",
       "       [13908,  2741]])"
      ]
     },
     "execution_count": 108,
     "metadata": {},
     "output_type": "execute_result"
    }
   ],
   "source": [
    "confusion_matrix(y_test, preds)"
   ]
  },
  {
   "cell_type": "code",
   "execution_count": 109,
   "metadata": {},
   "outputs": [
    {
     "data": {
      "text/plain": [
       "[(0.27664991448352422, 'int_rate'),\n",
       " (0.065408300264403765, 'dti'),\n",
       " (0.064831875305320461, 'term_ 60 months'),\n",
       " (0.049493530824485196, 'total_rec_int'),\n",
       " (0.039286116958130071, 'avg_cur_bal'),\n",
       " (0.032416972608514262, 'tot_hi_cred_lim'),\n",
       " (0.027127044668684968, 'bc_open_to_buy'),\n",
       " (0.025269683379029254, 'tot_cur_bal'),\n",
       " (0.0195660724965472, 'installment'),\n",
       " (0.018900163697088235, 'revol_util'),\n",
       " (0.018458353751652164, 'mo_sin_old_rev_tl_op'),\n",
       " (0.018111822675546917, 'total_bc_limit'),\n",
       " (0.017951219170562121, 'annual_inc'),\n",
       " (0.01718332279969096, 'total_rev_hi_lim'),\n",
       " (0.016724750586918209, 'bc_util'),\n",
       " (0.014970847310420777, 'mo_sin_old_il_acct'),\n",
       " (0.014370839669340872, 'revol_bal'),\n",
       " (0.01367977827741336, 'total_il_high_credit_limit'),\n",
       " (0.01341701542248437, 'total_bal_ex_mort'),\n",
       " (0.013362977378222313, 'num_rev_tl_bal_gt_0'),\n",
       " (0.012643164790549019, 'loan_amnt'),\n",
       " (0.012390320681607888, 'acc_open_past_24mths'),\n",
       " (0.012250280530750463, 'funded_amnt'),\n",
       " (0.01181076429516607, 'mort_acc'),\n",
       " (0.010970047573535665, 'num_actv_rev_tl'),\n",
       " (0.010435142322808257, 'percent_bc_gt_75'),\n",
       " (0.010355308411964038, 'mo_sin_rcnt_rev_tl_op'),\n",
       " (0.010048330417663348, 'total_acc'),\n",
       " (0.0093988342621119172, 'num_rev_accts'),\n",
       " (0.0090684742548376111, 'mo_sin_rcnt_tl'),\n",
       " (0.0087916712467703967, 'pct_tl_nvr_dlq'),\n",
       " (0.0080540268367368766, 'num_il_tl'),\n",
       " (0.0077354519150978386, 'num_bc_tl'),\n",
       " (0.007631763943504402, 'num_tl_op_past_12m'),\n",
       " (0.0074654231325176155, 'ownership_rent'),\n",
       " (0.0070019355936654761, 'num_op_rev_tl'),\n",
       " (0.0068307659590193959, 'open_acc'),\n",
       " (0.0065577211672848551, 'num_sats'),\n",
       " (0.0063597716086195837, 'num_actv_bc_tl'),\n",
       " (0.0057384528756478587, 'num_bc_sats'),\n",
       " (0.0055436106397053877, 'emp_length_n/a'),\n",
       " (0.0054379947498677484, 'tot_coll_amt'),\n",
       " (0.0043773538565714349, 'inq_last_6mths'),\n",
       " (0.0035558863463493822, 'delinq_2yrs'),\n",
       " (0.0026760685747100241, 'num_accts_ever_120_pd'),\n",
       " (0.0018130997505959767, 'pub_rec'),\n",
       " (0.0014753728728550935, 'tax_liens'),\n",
       " (0.001431170760251407, 'num_tl_90g_dpd_24m'),\n",
       " (0.0010706044181953698, 'pub_rec_bankruptcies'),\n",
       " (0.00095804552907417502, 'emp_length_10+ years'),\n",
       " (0.00090482877425600294, 'ownership_own'),\n",
       " (0.00090179640387084113, 'purpose_debt_consolidation'),\n",
       " (0.00085889326847123071, 'emp_length_3 years'),\n",
       " (0.00082759522202241378, 'emp_length_< 1 year'),\n",
       " (0.00080832001458736307, 'purpose_credit_card'),\n",
       " (0.00065338768407713777, 'collections_12_mths_ex_med'),\n",
       " (0.00060576149649520228, 'emp_length_7 years'),\n",
       " (0.00060500604726874854, 'emp_length_5 years'),\n",
       " (0.00060359018223934589, 'emp_length_2 years'),\n",
       " (0.00059213680665429441, 'purpose_major_purchase'),\n",
       " (0.00058905066300930125, 'purpose_home_improvement'),\n",
       " (0.0005793596435355547, 'purpose_other'),\n",
       " (0.00054854244660870754, 'emp_length_8 years'),\n",
       " (0.00054579663847901042, 'emp_length_4 years'),\n",
       " (0.00054478735171700472, 'emp_length_9 years'),\n",
       " (0.00052630857536927129, 'delinq_amnt'),\n",
       " (0.00046177860638682149, 'purpose_small_business'),\n",
       " (0.00038073668134337566, 'emp_length_6 years'),\n",
       " (0.00029185979580974124, 'purpose_medical'),\n",
       " (0.00024811557282118944, 'purpose_moving'),\n",
       " (0.00022753406496100784, 'purpose_vacation'),\n",
       " (0.00018849433888719165, 'chargeoff_within_12_mths'),\n",
       " (0.00014395968680261503, 'num_tl_30dpd'),\n",
       " (0.00013817406162575565, 'purpose_house'),\n",
       " (0.00012030787592261727, 'acc_now_delinq'),\n",
       " (2.3855048521463914e-05, 'purpose_renewable_energy'),\n",
       " (2.2562002242445442e-05, 'num_tl_120dpd_2m'),\n",
       " (0.0, 'purpose_wedding'),\n",
       " (0.0, 'purpose_educational'),\n",
       " (0.0, 'policy_code'),\n",
       " (0.0, 'out_prncp')]"
      ]
     },
     "execution_count": 109,
     "metadata": {},
     "output_type": "execute_result"
    }
   ],
   "source": [
    "sorted(zip(rf.feature_importances_, X.columns), reverse=True)"
   ]
  },
  {
   "cell_type": "code",
   "execution_count": null,
   "metadata": {
    "collapsed": true
   },
   "outputs": [],
   "source": []
  },
  {
   "cell_type": "code",
   "execution_count": null,
   "metadata": {
    "collapsed": true
   },
   "outputs": [],
   "source": [
    "# grid search for best parameters in Random Forest model:"
   ]
  },
  {
   "cell_type": "code",
   "execution_count": 66,
   "metadata": {
    "collapsed": true
   },
   "outputs": [],
   "source": [
    "#Intialize parameter grid\n",
    "\n",
    "#Range of estimators to test\n",
    "est_range = range(1, 50, 2)\n",
    "depths_range = range(2, 15)\n",
    "\n",
    "#Dictionary of parameter values \n",
    "param_grid_rf = {}\n",
    "\n",
    "param_grid_rf = {\"criterion\": [\"gini\", \"entropy\"], \"max_depth\": depths_range, \"n_estimators\": est_range}\n",
    "param_grid_rf[\"min_samples_split\"] = [2, 10]\n",
    "param_grid_rf[\"max_features\"] = [1, 2, 5, 10, 15, 20, 30, 40, 80]"
   ]
  },
  {
   "cell_type": "code",
   "execution_count": 71,
   "metadata": {
    "collapsed": true
   },
   "outputs": [],
   "source": [
    "from time import time "
   ]
  },
  {
   "cell_type": "code",
   "execution_count": 72,
   "metadata": {},
   "outputs": [
    {
     "name": "stdout",
     "output_type": "stream",
     "text": [
      "679.130218029\n"
     ]
    }
   ],
   "source": [
    "#Intialize RandomizedSearchCV grid with n_iter = 10\n",
    "grid_rf = RandomizedSearchCV(RandomForestClassifier(), n_iter = 10,\n",
    "                            param_distributions = param_grid_rf, cv = 5, scoring = \"accuracy\")\n",
    "\n",
    "t = time()\n",
    "\n",
    "#Fit grid on data\n",
    "grid_rf.fit(X, y)\n",
    "\n",
    "print time() - t"
   ]
  },
  {
   "cell_type": "code",
   "execution_count": 73,
   "metadata": {},
   "outputs": [
    {
     "data": {
      "text/plain": [
       "{'criterion': 'entropy',\n",
       " 'max_depth': 11,\n",
       " 'max_features': 20,\n",
       " 'min_samples_split': 10,\n",
       " 'n_estimators': 43}"
      ]
     },
     "execution_count": 73,
     "metadata": {},
     "output_type": "execute_result"
    }
   ],
   "source": [
    "grid_rf.best_params_"
   ]
  },
  {
   "cell_type": "code",
   "execution_count": 74,
   "metadata": {},
   "outputs": [
    {
     "data": {
      "text/plain": [
       "0.7664436954633803"
      ]
     },
     "execution_count": 74,
     "metadata": {},
     "output_type": "execute_result"
    }
   ],
   "source": [
    "grid_rf.best_score_"
   ]
  },
  {
   "cell_type": "code",
   "execution_count": null,
   "metadata": {
    "collapsed": true
   },
   "outputs": [],
   "source": []
  },
  {
   "cell_type": "code",
   "execution_count": null,
   "metadata": {
    "collapsed": true
   },
   "outputs": [],
   "source": []
  },
  {
   "cell_type": "code",
   "execution_count": null,
   "metadata": {
    "collapsed": true
   },
   "outputs": [],
   "source": []
  },
  {
   "cell_type": "code",
   "execution_count": 67,
   "metadata": {},
   "outputs": [
    {
     "data": {
      "text/plain": [
       "0    0.739155\n",
       "1    0.260845\n",
       "Name: loan_status, dtype: float64"
      ]
     },
     "execution_count": 67,
     "metadata": {},
     "output_type": "execute_result"
    }
   ],
   "source": [
    "y.value_counts(normalize= True)"
   ]
  },
  {
   "cell_type": "code",
   "execution_count": null,
   "metadata": {
    "collapsed": true
   },
   "outputs": [],
   "source": [
    "# Random Forest via gridsearch beats the null accuracy, but I think we can do better!"
   ]
  },
  {
   "cell_type": "markdown",
   "metadata": {},
   "source": [
    "# AdaBoost Model Selection"
   ]
  },
  {
   "cell_type": "code",
   "execution_count": 133,
   "metadata": {
    "collapsed": true
   },
   "outputs": [],
   "source": [
    "from sklearn.ensemble import AdaBoostClassifier"
   ]
  },
  {
   "cell_type": "code",
   "execution_count": 173,
   "metadata": {},
   "outputs": [
    {
     "name": "stdout",
     "output_type": "stream",
     "text": [
      "3461.63787198\n"
     ]
    }
   ],
   "source": [
    "#Intialize time variable\n",
    "t = time()\n",
    "\n",
    "#Create list of estimator values\n",
    "estimators = range(200, 401, 20)\n",
    "\n",
    "#Intialize cross validation scores list\n",
    "cv_scores = []\n",
    "\n",
    "#Iterate over estimators values, fit models, and then append scores to cv_scores\n",
    "for est in estimators:\n",
    "    model = AdaBoostClas5sifier(n_estimators= est, learning_rate= 1)\n",
    "    score = cross_val_score(model, X, y, cv = 5, scoring = \"accuracy\").mean()\n",
    "    cv_scores.append(score)\n",
    "    \n",
    "#Print difference in time\n",
    "print (time() - t)\n"
   ]
  },
  {
   "cell_type": "code",
   "execution_count": null,
   "metadata": {
    "collapsed": true
   },
   "outputs": [],
   "source": []
  },
  {
   "cell_type": "code",
   "execution_count": 174,
   "metadata": {},
   "outputs": [
    {
     "data": {
      "image/png": "[encoded data removed]",
      "text/plain": [
       "<matplotlib.figure.Figure at 0x1a13f35650>"
      ]
     },
     "metadata": {},
     "output_type": "display_data"
    }
   ],
   "source": [
    "#Plot estimators versus scores\n",
    "plt.figure(figsize = (10, 8))\n",
    "plt.plot(estimators, cv_scores, linewidth = 3)\n",
    "plt.xlabel(\"N Estimators\")\n",
    "plt.ylabel(\"Cross Validated Accuracy Scores\");"
   ]
  },
  {
   "cell_type": "code",
   "execution_count": 175,
   "metadata": {},
   "outputs": [
    {
     "data": {
      "text/plain": [
       "(0.75606361124789778, 260)"
      ]
     },
     "execution_count": 175,
     "metadata": {},
     "output_type": "execute_result"
    }
   ],
   "source": [
    "sorted(zip(cv_scores, estimators), reverse = True)[0]"
   ]
  },
  {
   "cell_type": "code",
   "execution_count": 178,
   "metadata": {},
   "outputs": [
    {
     "ename": "SyntaxError",
     "evalue": "invalid syntax (<ipython-input-178-24bb7a52598a>, line 2)",
     "output_type": "error",
     "traceback": [
      "\u001b[0;36m  File \u001b[0;32m\"<ipython-input-178-24bb7a52598a>\"\u001b[0;36m, line \u001b[0;32m2\u001b[0m\n\u001b[0;31m    for _ in range(100:150):\u001b[0m\n\u001b[0m                      ^\u001b[0m\n\u001b[0;31mSyntaxError\u001b[0m\u001b[0;31m:\u001b[0m invalid syntax\n"
     ]
    }
   ],
   "source": [
    "best_scores = []\n",
    "for _ in range(100, 150, ):\n",
    "    rand = RandomizedSearchCV(ada, param_dist, cv = 5, scoring = \"accuracy\", n_iter =10)\n",
    "    rand.fit(X, y)\n",
    "    best_scores.append(round(rand.best_score_, 3))\n",
    "print best_scores"
   ]
  },
  {
   "cell_type": "code",
   "execution_count": null,
   "metadata": {
    "collapsed": true
   },
   "outputs": [],
   "source": [
    "ada = AdaBoostClassifer()"
   ]
  },
  {
   "cell_type": "code",
   "execution_count": null,
   "metadata": {
    "collapsed": true
   },
   "outputs": [],
   "source": []
  },
  {
   "cell_type": "code",
   "execution_count": null,
   "metadata": {
    "collapsed": true
   },
   "outputs": [],
   "source": []
  },
  {
   "cell_type": "code",
   "execution_count": null,
   "metadata": {
    "collapsed": true
   },
   "outputs": [],
   "source": []
  },
  {
   "cell_type": "code",
   "execution_count": 205,
   "metadata": {
    "collapsed": true
   },
   "outputs": [],
   "source": [
    "from sklearn.pipeline import Pipeline, make_pipeline\n",
    "from sklearn.neighbors import KNeighborsClassifier\n",
    "\n",
    "pipe = make_pipeline(StandardScaler(), KNeighborsClassifier())"
   ]
  },
  {
   "cell_type": "code",
   "execution_count": 206,
   "metadata": {},
   "outputs": [
    {
     "data": {
      "text/plain": [
       "{'kneighborsclassifier__n_neighbors': [3, 5, 7, 9, 11]}"
      ]
     },
     "execution_count": 206,
     "metadata": {},
     "output_type": "execute_result"
    }
   ],
   "source": [
    "#Create new param_grid\n",
    "neighbors_range = range(3, 13, 2)\n",
    "param_grid_knn = {}\n",
    "param_grid_knn[\"kneighborsclassifier__n_neighbors\"] = neighbors_range\n",
    "param_grid_knn"
   ]
  },
  {
   "cell_type": "code",
   "execution_count": null,
   "metadata": {
    "collapsed": true
   },
   "outputs": [],
   "source": [
    "#Pass in pipe into GridSearchCV function, \n",
    "grid_knn_pipe = GridSearchCV(pipe, param_grid= param_grid_knn, cv = 5, scoring = \"accuracy\")\n",
    "\n",
    "#Fit on original versions of data\n",
    "grid_knn_pipe.fit(X, y)\n",
    "\n",
    "#Best scores and params\n",
    "grid_knn_pipe.best_score_"
   ]
  },
  {
   "cell_type": "code",
   "execution_count": null,
   "metadata": {
    "collapsed": true
   },
   "outputs": [],
   "source": [
    "grid_knn_pipe.best_estimator_"
   ]
  },
  {
   "cell_type": "code",
   "execution_count": null,
   "metadata": {
    "collapsed": true
   },
   "outputs": [],
   "source": []
  },
  {
   "cell_type": "code",
   "execution_count": null,
   "metadata": {
    "collapsed": true
   },
   "outputs": [],
   "source": []
  },
  {
   "cell_type": "code",
   "execution_count": null,
   "metadata": {
    "collapsed": true
   },
   "outputs": [],
   "source": []
  },
  {
   "cell_type": "code",
   "execution_count": null,
   "metadata": {
    "collapsed": true
   },
   "outputs": [],
   "source": []
  },
  {
   "cell_type": "code",
   "execution_count": null,
   "metadata": {
    "collapsed": true
   },
   "outputs": [],
   "source": []
  },
  {
   "cell_type": "markdown",
   "metadata": {
    "collapsed": true
   },
   "source": [
    "# Logistic Regression Model Selection | Scaled Data"
   ]
  },
  {
   "cell_type": "code",
   "execution_count": 37,
   "metadata": {
    "collapsed": true
   },
   "outputs": [],
   "source": [
    "from sklearn.preprocessing import StandardScaler\n",
    "\n",
    "# https://chrisalbon.com/machine_learning/logistic_regression/logistic_regression_on_very_large_data/"
   ]
  },
  {
   "cell_type": "code",
   "execution_count": 38,
   "metadata": {
    "collapsed": true
   },
   "outputs": [],
   "source": [
    "# Standarize features\n",
    "scaler = StandardScaler()\n",
    "X_std = scaler.fit_transform(X)"
   ]
  },
  {
   "cell_type": "code",
   "execution_count": 41,
   "metadata": {
    "collapsed": true
   },
   "outputs": [],
   "source": [
    "# Create logistic regression object using sag solver\n",
    "clf = LogisticRegression(random_state=0, solver='sag')\n",
    "\n",
    "# Train model\n",
    "model = clf.fit(X_std, y)"
   ]
  },
  {
   "cell_type": "code",
   "execution_count": 42,
   "metadata": {},
   "outputs": [
    {
     "data": {
      "text/plain": [
       "LogisticRegression(C=1.0, class_weight=None, dual=False, fit_intercept=True,\n",
       "          intercept_scaling=1, max_iter=100, multi_class='ovr', n_jobs=1,\n",
       "          penalty='l2', random_state=0, solver='sag', tol=0.0001,\n",
       "          verbose=0, warm_start=False)"
      ]
     },
     "execution_count": 42,
     "metadata": {},
     "output_type": "execute_result"
    }
   ],
   "source": [
    "model"
   ]
  },
  {
   "cell_type": "code",
   "execution_count": 43,
   "metadata": {},
   "outputs": [
    {
     "data": {
      "text/plain": [
       "0.75074438608825111"
      ]
     },
     "execution_count": 43,
     "metadata": {},
     "output_type": "execute_result"
    }
   ],
   "source": [
    "clf.score(X_std, y)"
   ]
  },
  {
   "cell_type": "code",
   "execution_count": null,
   "metadata": {
    "collapsed": true
   },
   "outputs": [],
   "source": []
  },
  {
   "cell_type": "code",
   "execution_count": null,
   "metadata": {
    "collapsed": true
   },
   "outputs": [],
   "source": []
  },
  {
   "cell_type": "code",
   "execution_count": null,
   "metadata": {
    "collapsed": true
   },
   "outputs": [],
   "source": []
  },
  {
   "cell_type": "code",
   "execution_count": null,
   "metadata": {
    "collapsed": true
   },
   "outputs": [],
   "source": []
  },
  {
   "cell_type": "code",
   "execution_count": null,
   "metadata": {
    "collapsed": true
   },
   "outputs": [],
   "source": []
  },
  {
   "cell_type": "code",
   "execution_count": null,
   "metadata": {
    "collapsed": true
   },
   "outputs": [],
   "source": []
  },
  {
   "cell_type": "code",
   "execution_count": null,
   "metadata": {
    "collapsed": true
   },
   "outputs": [],
   "source": []
  },
  {
   "cell_type": "code",
   "execution_count": 50,
   "metadata": {
    "collapsed": true
   },
   "outputs": [],
   "source": [
    "#Assign X and y\n",
    "\n",
    "X = lcdf1.drop(\"loan_status\", axis =1)\n",
    "y = lcdf1.loan_status"
   ]
  },
  {
   "cell_type": "code",
   "execution_count": 25,
   "metadata": {},
   "outputs": [
    {
     "data": {
      "text/plain": [
       "0    0.739155\n",
       "1    0.260845\n",
       "Name: loan_status, dtype: float64"
      ]
     },
     "execution_count": 25,
     "metadata": {},
     "output_type": "execute_result"
    }
   ],
   "source": [
    "y.value_counts(normalize=True)"
   ]
  },
  {
   "cell_type": "code",
   "execution_count": 17,
   "metadata": {
    "collapsed": true
   },
   "outputs": [],
   "source": [
    "\n",
    "X_train, X_test, y_train, y_test = train_test_split(X, y, \n",
    "                                                    test_size=0.33,\n",
    "                                                    random_state=123)"
   ]
  },
  {
   "cell_type": "code",
   "execution_count": null,
   "metadata": {
    "collapsed": true
   },
   "outputs": [],
   "source": []
  },
  {
   "cell_type": "code",
   "execution_count": 51,
   "metadata": {
    "collapsed": true
   },
   "outputs": [],
   "source": [
    "#Pass the predictions and y_test into a confusion matrix\n",
    "lr = LogisticRegression()\n",
    "lr.fit(X_train, y_train)\n",
    "\n",
    "preds = lr.predict(X_test)"
   ]
  },
  {
   "cell_type": "code",
   "execution_count": null,
   "metadata": {
    "collapsed": true
   },
   "outputs": [],
   "source": []
  },
  {
   "cell_type": "code",
   "execution_count": 71,
   "metadata": {},
   "outputs": [
    {
     "data": {
      "text/plain": [
       "array([[47189,     0],\n",
       "       [16647,     2]])"
      ]
     },
     "execution_count": 71,
     "metadata": {},
     "output_type": "execute_result"
    }
   ],
   "source": [
    "cm2 = confusion_matrix(y_test, preds)\n",
    "cm2"
   ]
  },
  {
   "cell_type": "code",
   "execution_count": 21,
   "metadata": {},
   "outputs": [
    {
     "name": "stdout",
     "output_type": "stream",
     "text": [
      "The precision score is 100.00 and the recall score is 0.01\n"
     ]
    }
   ],
   "source": [
    "ps = precision_score(y_test, preds)\n",
    "rs = recall_score(y_test, preds)\n",
    "\n",
    "print (\"The precision score is {:.2f} and the recall score is {:.2f}\".format(ps*100, rs*100))"
   ]
  },
  {
   "cell_type": "code",
   "execution_count": 70,
   "metadata": {},
   "outputs": [
    {
     "name": "stdout",
     "output_type": "stream",
     "text": [
      "73.9165046938\n"
     ]
    }
   ],
   "source": [
    "score = lr.score(X, y)\n",
    "print score*100"
   ]
  },
  {
   "cell_type": "code",
   "execution_count": 52,
   "metadata": {},
   "outputs": [
    {
     "data": {
      "text/plain": [
       "0.73866879212239567"
      ]
     },
     "execution_count": 52,
     "metadata": {},
     "output_type": "execute_result"
    }
   ],
   "source": [
    "#Use cross_val_score method to generate the average accuracy score for 5 CVs\n",
    "\n",
    "cross_val_score(LogisticRegression(), X, y, cv = 5, scoring=\"accuracy\").mean()\n"
   ]
  },
  {
   "cell_type": "code",
   "execution_count": 53,
   "metadata": {
    "collapsed": true
   },
   "outputs": [],
   "source": [
    "#Derive probabilities of class 1 from the test set\n",
    "test_probs = lr.predict_proba(X_test)[:,1]\n",
    "#Pass in the test_probs variable and the true test labels aka y_test in the roc_curve function\n",
    "fpr, tpr, thres = roc_curve(y_test, test_probs)\n",
    "#Outputs the fpr, tpr, for varying thresholds"
   ]
  },
  {
   "cell_type": "code",
   "execution_count": 69,
   "metadata": {},
   "outputs": [
    {
     "data": {
      "image/png": "[encoded data removed]",
      "text/plain": [
       "<matplotlib.figure.Figure at 0x1a0f5a73d0>"
      ]
     },
     "metadata": {},
     "output_type": "display_data"
    }
   ],
   "source": [
    "#Plotting False Positive Rates vs the True Positive Rates\n",
    "#Dotted line represents a useless model\n",
    "plt.figure(figsize=(10,8))\n",
    "plt.plot(fpr, tpr, linewidth= 8)\n",
    "#Line of randomness\n",
    "plt.plot([0,1], [0,1], \"--\", alpha=.7)\n",
    "plt.xlabel(\"False Positive Rate\")\n",
    "plt.ylabel(\"True Positive Rate\")\n",
    "plt.title(\"Logistic Regression ROC Curve\")\n",
    "plt.show()"
   ]
  },
  {
   "cell_type": "code",
   "execution_count": 56,
   "metadata": {
    "collapsed": true
   },
   "outputs": [],
   "source": [
    "#Table of coefficients and their values\n",
    "coef = pd.DataFrame(zip(X.columns, np.transpose(lr.coef_[0])), columns=[\"coef\", \"value\"])\n",
    "#coef.to_csv('coef.csv')"
   ]
  },
  {
   "cell_type": "code",
   "execution_count": 57,
   "metadata": {},
   "outputs": [
    {
     "data": {
      "text/html": [
       "<div>\n",
       "<style>\n",
       "    .dataframe thead tr:only-child th {\n",
       "        text-align: right;\n",
       "    }\n",
       "\n",
       "    .dataframe thead th {\n",
       "        text-align: left;\n",
       "    }\n",
       "\n",
       "    .dataframe tbody tr th {\n",
       "        vertical-align: top;\n",
       "    }\n",
       "</style>\n",
       "<table border=\"1\" class=\"dataframe\">\n",
       "  <thead>\n",
       "    <tr style=\"text-align: right;\">\n",
       "      <th></th>\n",
       "      <th>coef</th>\n",
       "      <th>value</th>\n",
       "      <th>odds_ratio</th>\n",
       "    </tr>\n",
       "  </thead>\n",
       "  <tbody>\n",
       "    <tr>\n",
       "      <th>6</th>\n",
       "      <td>int_rate</td>\n",
       "      <td>5.806476e-03</td>\n",
       "      <td>1.005823</td>\n",
       "    </tr>\n",
       "    <tr>\n",
       "      <th>28</th>\n",
       "      <td>term_ 60 months</td>\n",
       "      <td>8.910943e-04</td>\n",
       "      <td>1.000891</td>\n",
       "    </tr>\n",
       "    <tr>\n",
       "      <th>13</th>\n",
       "      <td>revol_util</td>\n",
       "      <td>7.309232e-04</td>\n",
       "      <td>1.000731</td>\n",
       "    </tr>\n",
       "    <tr>\n",
       "      <th>8</th>\n",
       "      <td>acc_open_past_24mths</td>\n",
       "      <td>6.166388e-04</td>\n",
       "      <td>1.000617</td>\n",
       "    </tr>\n",
       "    <tr>\n",
       "      <th>2</th>\n",
       "      <td>delinq_2yrs</td>\n",
       "      <td>2.291914e-04</td>\n",
       "      <td>1.000229</td>\n",
       "    </tr>\n",
       "    <tr>\n",
       "      <th>25</th>\n",
       "      <td>purpose_small_business</td>\n",
       "      <td>3.626969e-05</td>\n",
       "      <td>1.000036</td>\n",
       "    </tr>\n",
       "    <tr>\n",
       "      <th>39</th>\n",
       "      <td>emp_length_n/a</td>\n",
       "      <td>3.396073e-05</td>\n",
       "      <td>1.000034</td>\n",
       "    </tr>\n",
       "    <tr>\n",
       "      <th>10</th>\n",
       "      <td>collections_12_mths_ex_med</td>\n",
       "      <td>1.708668e-05</td>\n",
       "      <td>1.000017</td>\n",
       "    </tr>\n",
       "    <tr>\n",
       "      <th>12</th>\n",
       "      <td>loan_amnt</td>\n",
       "      <td>1.364892e-05</td>\n",
       "      <td>1.000014</td>\n",
       "    </tr>\n",
       "    <tr>\n",
       "      <th>22</th>\n",
       "      <td>purpose_moving</td>\n",
       "      <td>7.106116e-06</td>\n",
       "      <td>1.000007</td>\n",
       "    </tr>\n",
       "    <tr>\n",
       "      <th>21</th>\n",
       "      <td>purpose_medical</td>\n",
       "      <td>3.666810e-06</td>\n",
       "      <td>1.000004</td>\n",
       "    </tr>\n",
       "    <tr>\n",
       "      <th>3</th>\n",
       "      <td>revol_bal</td>\n",
       "      <td>2.188537e-06</td>\n",
       "      <td>1.000002</td>\n",
       "    </tr>\n",
       "    <tr>\n",
       "      <th>19</th>\n",
       "      <td>purpose_house</td>\n",
       "      <td>1.832145e-06</td>\n",
       "      <td>1.000002</td>\n",
       "    </tr>\n",
       "    <tr>\n",
       "      <th>24</th>\n",
       "      <td>purpose_renewable_energy</td>\n",
       "      <td>4.874344e-07</td>\n",
       "      <td>1.000000</td>\n",
       "    </tr>\n",
       "    <tr>\n",
       "      <th>17</th>\n",
       "      <td>purpose_educational</td>\n",
       "      <td>-6.525212e-08</td>\n",
       "      <td>1.000000</td>\n",
       "    </tr>\n",
       "    <tr>\n",
       "      <th>27</th>\n",
       "      <td>purpose_wedding</td>\n",
       "      <td>-7.682324e-08</td>\n",
       "      <td>1.000000</td>\n",
       "    </tr>\n",
       "    <tr>\n",
       "      <th>26</th>\n",
       "      <td>purpose_vacation</td>\n",
       "      <td>-3.443254e-06</td>\n",
       "      <td>0.999997</td>\n",
       "    </tr>\n",
       "    <tr>\n",
       "      <th>7</th>\n",
       "      <td>annual_inc</td>\n",
       "      <td>-9.506634e-06</td>\n",
       "      <td>0.999990</td>\n",
       "    </tr>\n",
       "    <tr>\n",
       "      <th>23</th>\n",
       "      <td>purpose_other</td>\n",
       "      <td>-9.675138e-06</td>\n",
       "      <td>0.999990</td>\n",
       "    </tr>\n",
       "    <tr>\n",
       "      <th>20</th>\n",
       "      <td>purpose_major_purchase</td>\n",
       "      <td>-1.181708e-05</td>\n",
       "      <td>0.999988</td>\n",
       "    </tr>\n",
       "    <tr>\n",
       "      <th>37</th>\n",
       "      <td>emp_length_9 years</td>\n",
       "      <td>-1.823902e-05</td>\n",
       "      <td>0.999982</td>\n",
       "    </tr>\n",
       "    <tr>\n",
       "      <th>18</th>\n",
       "      <td>purpose_home_improvement</td>\n",
       "      <td>-2.273995e-05</td>\n",
       "      <td>0.999977</td>\n",
       "    </tr>\n",
       "    <tr>\n",
       "      <th>9</th>\n",
       "      <td>avg_cur_bal</td>\n",
       "      <td>-2.479522e-05</td>\n",
       "      <td>0.999975</td>\n",
       "    </tr>\n",
       "    <tr>\n",
       "      <th>34</th>\n",
       "      <td>emp_length_6 years</td>\n",
       "      <td>-3.802221e-05</td>\n",
       "      <td>0.999962</td>\n",
       "    </tr>\n",
       "    <tr>\n",
       "      <th>36</th>\n",
       "      <td>emp_length_8 years</td>\n",
       "      <td>-4.425331e-05</td>\n",
       "      <td>0.999956</td>\n",
       "    </tr>\n",
       "    <tr>\n",
       "      <th>35</th>\n",
       "      <td>emp_length_7 years</td>\n",
       "      <td>-4.902776e-05</td>\n",
       "      <td>0.999951</td>\n",
       "    </tr>\n",
       "    <tr>\n",
       "      <th>32</th>\n",
       "      <td>emp_length_4 years</td>\n",
       "      <td>-4.974839e-05</td>\n",
       "      <td>0.999950</td>\n",
       "    </tr>\n",
       "    <tr>\n",
       "      <th>33</th>\n",
       "      <td>emp_length_5 years</td>\n",
       "      <td>-5.464381e-05</td>\n",
       "      <td>0.999945</td>\n",
       "    </tr>\n",
       "    <tr>\n",
       "      <th>5</th>\n",
       "      <td>pub_rec</td>\n",
       "      <td>-6.050766e-05</td>\n",
       "      <td>0.999939</td>\n",
       "    </tr>\n",
       "    <tr>\n",
       "      <th>38</th>\n",
       "      <td>emp_length_&lt; 1 year</td>\n",
       "      <td>-7.777954e-05</td>\n",
       "      <td>0.999922</td>\n",
       "    </tr>\n",
       "    <tr>\n",
       "      <th>31</th>\n",
       "      <td>emp_length_3 years</td>\n",
       "      <td>-8.742965e-05</td>\n",
       "      <td>0.999913</td>\n",
       "    </tr>\n",
       "    <tr>\n",
       "      <th>40</th>\n",
       "      <td>ownership_own</td>\n",
       "      <td>-1.157320e-04</td>\n",
       "      <td>0.999884</td>\n",
       "    </tr>\n",
       "    <tr>\n",
       "      <th>30</th>\n",
       "      <td>emp_length_2 years</td>\n",
       "      <td>-1.208606e-04</td>\n",
       "      <td>0.999879</td>\n",
       "    </tr>\n",
       "    <tr>\n",
       "      <th>11</th>\n",
       "      <td>pub_rec_bankruptcies</td>\n",
       "      <td>-1.242235e-04</td>\n",
       "      <td>0.999876</td>\n",
       "    </tr>\n",
       "    <tr>\n",
       "      <th>41</th>\n",
       "      <td>ownership_rent</td>\n",
       "      <td>-2.095534e-04</td>\n",
       "      <td>0.999790</td>\n",
       "    </tr>\n",
       "    <tr>\n",
       "      <th>29</th>\n",
       "      <td>emp_length_10+ years</td>\n",
       "      <td>-2.552766e-04</td>\n",
       "      <td>0.999745</td>\n",
       "    </tr>\n",
       "    <tr>\n",
       "      <th>16</th>\n",
       "      <td>purpose_debt_consolidation</td>\n",
       "      <td>-3.838603e-04</td>\n",
       "      <td>0.999616</td>\n",
       "    </tr>\n",
       "    <tr>\n",
       "      <th>15</th>\n",
       "      <td>purpose_credit_card</td>\n",
       "      <td>-4.010157e-04</td>\n",
       "      <td>0.999599</td>\n",
       "    </tr>\n",
       "    <tr>\n",
       "      <th>14</th>\n",
       "      <td>mort_acc</td>\n",
       "      <td>-1.451156e-03</td>\n",
       "      <td>0.998550</td>\n",
       "    </tr>\n",
       "    <tr>\n",
       "      <th>0</th>\n",
       "      <td>dti</td>\n",
       "      <td>-2.596992e-03</td>\n",
       "      <td>0.997406</td>\n",
       "    </tr>\n",
       "    <tr>\n",
       "      <th>4</th>\n",
       "      <td>open_acc</td>\n",
       "      <td>-5.962550e-03</td>\n",
       "      <td>0.994055</td>\n",
       "    </tr>\n",
       "    <tr>\n",
       "      <th>1</th>\n",
       "      <td>num_rev_accts</td>\n",
       "      <td>-1.153056e-02</td>\n",
       "      <td>0.988536</td>\n",
       "    </tr>\n",
       "  </tbody>\n",
       "</table>\n",
       "</div>"
      ],
      "text/plain": [
       "                          coef         value  odds_ratio\n",
       "6                     int_rate  5.806476e-03    1.005823\n",
       "28             term_ 60 months  8.910943e-04    1.000891\n",
       "13                  revol_util  7.309232e-04    1.000731\n",
       "8         acc_open_past_24mths  6.166388e-04    1.000617\n",
       "2                  delinq_2yrs  2.291914e-04    1.000229\n",
       "25      purpose_small_business  3.626969e-05    1.000036\n",
       "39              emp_length_n/a  3.396073e-05    1.000034\n",
       "10  collections_12_mths_ex_med  1.708668e-05    1.000017\n",
       "12                   loan_amnt  1.364892e-05    1.000014\n",
       "22              purpose_moving  7.106116e-06    1.000007\n",
       "21             purpose_medical  3.666810e-06    1.000004\n",
       "3                    revol_bal  2.188537e-06    1.000002\n",
       "19               purpose_house  1.832145e-06    1.000002\n",
       "24    purpose_renewable_energy  4.874344e-07    1.000000\n",
       "17         purpose_educational -6.525212e-08    1.000000\n",
       "27             purpose_wedding -7.682324e-08    1.000000\n",
       "26            purpose_vacation -3.443254e-06    0.999997\n",
       "7                   annual_inc -9.506634e-06    0.999990\n",
       "23               purpose_other -9.675138e-06    0.999990\n",
       "20      purpose_major_purchase -1.181708e-05    0.999988\n",
       "37          emp_length_9 years -1.823902e-05    0.999982\n",
       "18    purpose_home_improvement -2.273995e-05    0.999977\n",
       "9                  avg_cur_bal -2.479522e-05    0.999975\n",
       "34          emp_length_6 years -3.802221e-05    0.999962\n",
       "36          emp_length_8 years -4.425331e-05    0.999956\n",
       "35          emp_length_7 years -4.902776e-05    0.999951\n",
       "32          emp_length_4 years -4.974839e-05    0.999950\n",
       "33          emp_length_5 years -5.464381e-05    0.999945\n",
       "5                      pub_rec -6.050766e-05    0.999939\n",
       "38         emp_length_< 1 year -7.777954e-05    0.999922\n",
       "31          emp_length_3 years -8.742965e-05    0.999913\n",
       "40               ownership_own -1.157320e-04    0.999884\n",
       "30          emp_length_2 years -1.208606e-04    0.999879\n",
       "11        pub_rec_bankruptcies -1.242235e-04    0.999876\n",
       "41              ownership_rent -2.095534e-04    0.999790\n",
       "29        emp_length_10+ years -2.552766e-04    0.999745\n",
       "16  purpose_debt_consolidation -3.838603e-04    0.999616\n",
       "15         purpose_credit_card -4.010157e-04    0.999599\n",
       "14                    mort_acc -1.451156e-03    0.998550\n",
       "0                          dti -2.596992e-03    0.997406\n",
       "4                     open_acc -5.962550e-03    0.994055\n",
       "1                num_rev_accts -1.153056e-02    0.988536"
      ]
     },
     "execution_count": 57,
     "metadata": {},
     "output_type": "execute_result"
    }
   ],
   "source": [
    "coef_odds = np.e**(coef[\"value\"])\n",
    "coef[\"odds_ratio\"] = coef_odds\n",
    "coef.sort_values(by = \"value\", ascending = False)"
   ]
  },
  {
   "cell_type": "code",
   "execution_count": 58,
   "metadata": {},
   "outputs": [
    {
     "data": {
      "image/png": "[encoded data removed]",
      "text/plain": [
       "<matplotlib.figure.Figure at 0x1a1198d650>"
      ]
     },
     "metadata": {},
     "output_type": "display_data"
    }
   ],
   "source": [
    "plt.figure(figsize=(12,9))\n",
    "plt.plot(thres, fpr, linewidth=5, label = \"FPR Line\")\n",
    "plt.plot(thres, tpr, linewidth=5, label = \"TPR line\")\n",
    "plt.xlabel(\"Thresholds\")\n",
    "plt.ylabel(\"False Positive Rate\")\n",
    "plt.legend()\n",
    "plt.show();"
   ]
  },
  {
   "cell_type": "code",
   "execution_count": null,
   "metadata": {
    "collapsed": true
   },
   "outputs": [],
   "source": []
  },
  {
   "cell_type": "code",
   "execution_count": 59,
   "metadata": {},
   "outputs": [
    {
     "data": {
      "text/plain": [
       "array([0, 0, 0, 0, 0, 0, 0, 0, 0, 0, 0, 0, 0, 0, 0, 0, 0, 0, 0, 0])"
      ]
     },
     "execution_count": 59,
     "metadata": {},
     "output_type": "execute_result"
    }
   ],
   "source": [
    "labels_70 = np.where(test_probs >= 0.7, 1, 0)\n",
    "labels_70[:20]"
   ]
  },
  {
   "cell_type": "code",
   "execution_count": 60,
   "metadata": {},
   "outputs": [
    {
     "data": {
      "text/plain": [
       "0.7391992230333031"
      ]
     },
     "execution_count": 60,
     "metadata": {},
     "output_type": "execute_result"
    }
   ],
   "source": [
    "accuracy_score(y_test, labels_70)\n"
   ]
  },
  {
   "cell_type": "code",
   "execution_count": 61,
   "metadata": {
    "collapsed": true
   },
   "outputs": [],
   "source": [
    "#it does not get better.\n",
    "def thres_acc(t, yt, tp):\n",
    "    labels = np.where(tp>=t, 1, 0)\n",
    "    return accuracy_score(yt, labels)"
   ]
  },
  {
   "cell_type": "code",
   "execution_count": 67,
   "metadata": {
    "collapsed": true
   },
   "outputs": [],
   "source": [
    "#Generate thresholds and pass them into function\n",
    "thresholds = np.linspace(0, 1, 50)\n",
    "acc_scores = [thres_acc(i, y_test, test_probs) for i in thresholds]"
   ]
  },
  {
   "cell_type": "code",
   "execution_count": 68,
   "metadata": {},
   "outputs": [
    {
     "data": {
      "image/png": "[encoded data removed]",
      "text/plain": [
       "<matplotlib.figure.Figure at 0x1a1228b190>"
      ]
     },
     "metadata": {},
     "output_type": "display_data"
    }
   ],
   "source": [
    "#Plot thresholds vs accuracy scores\n",
    "plt.figure(figsize=(15,11))\n",
    "plt.plot(thresholds, acc_scores, linewidth=5)\n",
    "plt.xlabel(\"Thresholds\")\n",
    "plt.ylabel(\"Accuracy Scores\")\n",
    "plt.show()"
   ]
  },
  {
   "cell_type": "code",
   "execution_count": 64,
   "metadata": {},
   "outputs": [
    {
     "data": {
      "text/plain": [
       "1.0"
      ]
     },
     "execution_count": 64,
     "metadata": {},
     "output_type": "execute_result"
    }
   ],
   "source": [
    "thres_score_dict = dict(zip(thresholds, acc_scores))\n",
    "sorted(thres_score_dict.items(), key = lambda x:x[1], reverse=True)[0][0]"
   ]
  },
  {
   "cell_type": "code",
   "execution_count": 146,
   "metadata": {},
   "outputs": [
    {
     "name": "stdout",
     "output_type": "stream",
     "text": [
      "[nltk_data] Downloading package punkt to\n",
      "[nltk_data]     /Users/darrenklee/nltk_data...\n",
      "[nltk_data]   Unzipping tokenizers/punkt.zip.\n"
     ]
    },
    {
     "data": {
      "text/plain": [
       "True"
      ]
     },
     "execution_count": 146,
     "metadata": {},
     "output_type": "execute_result"
    }
   ],
   "source": [
    "from nltk.tokenize import word_tokenize, sent_tokenize\n",
    "import nltk\n",
    "nltk.download('punkt')"
   ]
  },
  {
   "cell_type": "code",
   "execution_count": null,
   "metadata": {
    "collapsed": true
   },
   "outputs": [],
   "source": []
  },
  {
   "cell_type": "code",
   "execution_count": null,
   "metadata": {
    "collapsed": true
   },
   "outputs": [],
   "source": []
  },
  {
   "cell_type": "code",
   "execution_count": null,
   "metadata": {
    "collapsed": true
   },
   "outputs": [],
   "source": []
  },
  {
   "cell_type": "code",
   "execution_count": null,
   "metadata": {
    "collapsed": true
   },
   "outputs": [],
   "source": []
  },
  {
   "cell_type": "code",
   "execution_count": null,
   "metadata": {
    "collapsed": true
   },
   "outputs": [],
   "source": []
  },
  {
   "cell_type": "code",
   "execution_count": null,
   "metadata": {
    "collapsed": true
   },
   "outputs": [],
   "source": []
  },
  {
   "cell_type": "code",
   "execution_count": null,
   "metadata": {
    "collapsed": true
   },
   "outputs": [],
   "source": []
  },
  {
   "cell_type": "code",
   "execution_count": 142,
   "metadata": {
    "collapsed": true
   },
   "outputs": [],
   "source": [
    "from sklearn.model_selection import KFold\n",
    "from sklearn.model_selection import cross_val_score\n",
    "from sklearn.pipeline import Pipeline\n",
    "from sklearn.pipeline import FeatureUnion\n",
    "from sklearn.linear_model import LogisticRegression\n",
    "from sklearn.decomposition import PCA\n",
    "from sklearn.feature_selection import SelectKBest"
   ]
  },
  {
   "cell_type": "code",
   "execution_count": 151,
   "metadata": {
    "collapsed": true
   },
   "outputs": [],
   "source": [
    "# create feature union\n",
    "features = []\n",
    "features.append(('pca', PCA(n_components=40)))\n",
    "features.append(('select_best', SelectKBest(k=40)))\n",
    "feature_union = FeatureUnion(features) "
   ]
  },
  {
   "cell_type": "code",
   "execution_count": 152,
   "metadata": {
    "collapsed": true
   },
   "outputs": [],
   "source": [
    "# create pipeline\n",
    "estimators = []\n",
    "estimators.append(('feature_union', feature_union))\n",
    "estimators.append(('logistic', LogisticRegression()))\n",
    "model = Pipeline(estimators)"
   ]
  },
  {
   "cell_type": "code",
   "execution_count": 153,
   "metadata": {},
   "outputs": [
    {
     "name": "stdout",
     "output_type": "stream",
     "text": [
      "0.74888865248\n"
     ]
    }
   ],
   "source": [
    "seed = 7\n",
    "kfold = KFold(n_splits=10, random_state=seed)\n",
    "results = cross_val_score(model, X, y, cv=kfold)\n",
    "print(results.mean())"
   ]
  },
  {
   "cell_type": "code",
   "execution_count": null,
   "metadata": {
    "collapsed": true
   },
   "outputs": [],
   "source": []
  },
  {
   "cell_type": "code",
   "execution_count": null,
   "metadata": {
    "collapsed": true
   },
   "outputs": [],
   "source": []
  },
  {
   "cell_type": "code",
   "execution_count": null,
   "metadata": {
    "collapsed": true
   },
   "outputs": [],
   "source": []
  },
  {
   "cell_type": "code",
   "execution_count": null,
   "metadata": {
    "collapsed": true
   },
   "outputs": [],
   "source": []
  }
 ],
 "metadata": {
  "kernelspec": {
   "display_name": "Python 2",
   "language": "python",
   "name": "python2"
  },
  "language_info": {
   "codemirror_mode": {
    "name": "ipython",
    "version": 2
   },
   "file_extension": ".py",
   "mimetype": "text/x-python",
   "name": "python",
   "nbconvert_exporter": "python",
   "pygments_lexer": "ipython2",
   "version": "2.7.13"
  }
 },
 "nbformat": 4,
 "nbformat_minor": 2
}
