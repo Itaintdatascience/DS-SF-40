{
 "cells": [
  {
   "cell_type": "markdown",
   "metadata": {},
   "source": [
    "# P2P Default Binary Classification | Supervised Learning Project"
   ]
  },
  {
   "cell_type": "markdown",
   "metadata": {},
   "source": [
    "Hypothesis:\n",
    "\n",
    "    H0 - Null hypothesis, when the model cannot beat the null accuracy score for \"Fully Paid\" & \"Charged Off\" loans\n",
    "    H1 - Reject the Null hypothesis, when accuracy, precision and recall scores can beat the null accuracy score.\n",
    "\n",
    "True Positives (TP): Number of correct positive predictions | correctly predicted loan will Charged Off (1)\n",
    "True Negatives (TN): Number of correct negative predictions | correctly predicted loan will be Fully Paid (0)\n",
    "False Positives (FP): Number incorrect positive predictions | incorrectly predicted loan will be Charged Off\n",
    "False Negatives (FN): Number of incorrect negative predictions | incorrectly predicted loan will be Fully Paid\n",
    "\n",
    "Goals:\n",
    "\n",
    "I'm planning to select a supervised learning model to see what features attribute to a loan default(binary classification). (TP+TN)/Total Population is the Accuracy (ACC) score bench mark in comparison of each model. \n",
    "I have Lending Club's 2015 dataset with 145 loan characteristics, and 400k+ records to begin with.\n",
    "The dataset is relatively large, and data is very sparse - possibly very redundant features. \n",
    "\n",
    "Feature engineering will be a challenge, and we want to know whether or not the user will default or not based on their application information, and not based on Lending Club's collected data once the loan is issued. This is also the reason for an older dataset where we already know if they have successfully paid off their loan or have defaulted under the \"loan_status\" field. \n",
    "I used to work for Lending Club's Investor Group, and would be interested in demystifying the underwriting model, and which types have highest tendencies to default. "
   ]
  },
  {
   "cell_type": "code",
   "execution_count": null,
   "metadata": {
    "collapsed": true
   },
   "outputs": [],
   "source": []
  },
  {
   "cell_type": "code",
   "execution_count": 192,
   "metadata": {},
   "outputs": [
    {
     "data": {
      "text/plain": [
       "(421095, 143)"
      ]
     },
     "execution_count": 192,
     "metadata": {},
     "output_type": "execute_result"
    }
   ],
   "source": [
    "import pandas as pd\n",
    "import numpy as np\n",
    "import matplotlib.pyplot as plt\n",
    "import seaborn as sns\n",
    "%matplotlib inline\n",
    "\n",
    "df = pd.read_csv(\"/Users/Darrenklee/Desktop/DS-Project/LoanStats3d.csv\")\n",
    "df.shape"
   ]
  },
  {
   "cell_type": "code",
   "execution_count": 193,
   "metadata": {},
   "outputs": [
    {
     "data": {
      "text/plain": [
       "Current               196354\n",
       "Fully Paid            155420\n",
       "Charged Off            55574\n",
       "Late (31-120 days)      7647\n",
       "In Grace Period         4692\n",
       "Late (16-30 days)       1387\n",
       "Default                   21\n",
       "Name: loan_status, dtype: int64"
      ]
     },
     "execution_count": 193,
     "metadata": {},
     "output_type": "execute_result"
    }
   ],
   "source": [
    "df.loan_status.value_counts()"
   ]
  },
  {
   "cell_type": "code",
   "execution_count": 194,
   "metadata": {
    "collapsed": true
   },
   "outputs": [],
   "source": [
    "# We will only work with loans that have been \"Fully Paid\", and those that \"Charged Off\". \n",
    "df = df[df.loan_status != \"Current\"]\n",
    "df = df[df.loan_status != \"Late (31-120 days)\"]\n",
    "df = df[df.loan_status != \"In Grace Period\"]\n",
    "df = df[df.loan_status != \"Late (16-30 days)\"]\n",
    "df = df[df.loan_status != \"Default\"]"
   ]
  },
  {
   "cell_type": "code",
   "execution_count": 195,
   "metadata": {},
   "outputs": [
    {
     "data": {
      "text/plain": [
       "(210994, 143)"
      ]
     },
     "execution_count": 195,
     "metadata": {},
     "output_type": "execute_result"
    }
   ],
   "source": [
    "df.shape\n",
    "#almost cuts the dataset in half by responses."
   ]
  },
  {
   "cell_type": "code",
   "execution_count": 196,
   "metadata": {},
   "outputs": [
    {
     "data": {
      "text/plain": [
       "Fully Paid     73.660862\n",
       "Charged Off    26.339138\n",
       "Name: loan_status, dtype: float64"
      ]
     },
     "execution_count": 196,
     "metadata": {},
     "output_type": "execute_result"
    }
   ],
   "source": [
    "#\"loan_status\" will be the target variable. ~74% null accuracy is what we need to beat with our model\n",
    "df.loan_status.value_counts(normalize=True)*100"
   ]
  },
  {
   "cell_type": "code",
   "execution_count": 197,
   "metadata": {},
   "outputs": [
    {
     "data": {
      "text/html": [
       "<div>\n",
       "<style>\n",
       "    .dataframe thead tr:only-child th {\n",
       "        text-align: right;\n",
       "    }\n",
       "\n",
       "    .dataframe thead th {\n",
       "        text-align: left;\n",
       "    }\n",
       "\n",
       "    .dataframe tbody tr th {\n",
       "        vertical-align: top;\n",
       "    }\n",
       "</style>\n",
       "<table border=\"1\" class=\"dataframe\">\n",
       "  <thead>\n",
       "    <tr style=\"text-align: right;\">\n",
       "      <th></th>\n",
       "      <th>loan_amnt</th>\n",
       "      <th>funded_amnt</th>\n",
       "      <th>funded_amnt_inv</th>\n",
       "      <th>installment</th>\n",
       "      <th>annual_inc</th>\n",
       "      <th>url</th>\n",
       "      <th>dti</th>\n",
       "      <th>delinq_2yrs</th>\n",
       "      <th>inq_last_6mths</th>\n",
       "      <th>mths_since_last_delinq</th>\n",
       "      <th>...</th>\n",
       "      <th>deferral_term</th>\n",
       "      <th>hardship_amount</th>\n",
       "      <th>hardship_length</th>\n",
       "      <th>hardship_dpd</th>\n",
       "      <th>orig_projected_additional_accrued_interest</th>\n",
       "      <th>hardship_payoff_balance_amount</th>\n",
       "      <th>hardship_last_payment_amount</th>\n",
       "      <th>settlement_amount</th>\n",
       "      <th>settlement_percentage</th>\n",
       "      <th>settlement_term</th>\n",
       "    </tr>\n",
       "  </thead>\n",
       "  <tbody>\n",
       "    <tr>\n",
       "      <th>count</th>\n",
       "      <td>210994.000000</td>\n",
       "      <td>210994.000000</td>\n",
       "      <td>210994.000000</td>\n",
       "      <td>210994.000000</td>\n",
       "      <td>2.109940e+05</td>\n",
       "      <td>0.0</td>\n",
       "      <td>210992.000000</td>\n",
       "      <td>210994.000000</td>\n",
       "      <td>210994.000000</td>\n",
       "      <td>109046.000000</td>\n",
       "      <td>...</td>\n",
       "      <td>153.0</td>\n",
       "      <td>153.000000</td>\n",
       "      <td>153.0</td>\n",
       "      <td>153.000000</td>\n",
       "      <td>16.000000</td>\n",
       "      <td>153.000000</td>\n",
       "      <td>153.000000</td>\n",
       "      <td>4583.000000</td>\n",
       "      <td>4583.000000</td>\n",
       "      <td>4583.000000</td>\n",
       "    </tr>\n",
       "    <tr>\n",
       "      <th>mean</th>\n",
       "      <td>14949.374508</td>\n",
       "      <td>14949.374508</td>\n",
       "      <td>14943.359854</td>\n",
       "      <td>443.917652</td>\n",
       "      <td>7.662230e+04</td>\n",
       "      <td>NaN</td>\n",
       "      <td>18.876317</td>\n",
       "      <td>0.335246</td>\n",
       "      <td>0.637919</td>\n",
       "      <td>34.801790</td>\n",
       "      <td>...</td>\n",
       "      <td>3.0</td>\n",
       "      <td>126.561961</td>\n",
       "      <td>3.0</td>\n",
       "      <td>18.294118</td>\n",
       "      <td>316.113750</td>\n",
       "      <td>9849.725556</td>\n",
       "      <td>179.584314</td>\n",
       "      <td>5731.476498</td>\n",
       "      <td>49.000343</td>\n",
       "      <td>12.094043</td>\n",
       "    </tr>\n",
       "    <tr>\n",
       "      <th>std</th>\n",
       "      <td>8562.173794</td>\n",
       "      <td>8562.173794</td>\n",
       "      <td>8558.678600</td>\n",
       "      <td>250.949787</td>\n",
       "      <td>7.178636e+04</td>\n",
       "      <td>NaN</td>\n",
       "      <td>8.704507</td>\n",
       "      <td>0.921001</td>\n",
       "      <td>0.918971</td>\n",
       "      <td>22.126952</td>\n",
       "      <td>...</td>\n",
       "      <td>0.0</td>\n",
       "      <td>105.504755</td>\n",
       "      <td>0.0</td>\n",
       "      <td>8.282736</td>\n",
       "      <td>209.439967</td>\n",
       "      <td>6641.912773</td>\n",
       "      <td>164.910743</td>\n",
       "      <td>3864.310434</td>\n",
       "      <td>7.458421</td>\n",
       "      <td>8.380446</td>\n",
       "    </tr>\n",
       "    <tr>\n",
       "      <th>min</th>\n",
       "      <td>1000.000000</td>\n",
       "      <td>1000.000000</td>\n",
       "      <td>900.000000</td>\n",
       "      <td>14.010000</td>\n",
       "      <td>0.000000e+00</td>\n",
       "      <td>NaN</td>\n",
       "      <td>0.000000</td>\n",
       "      <td>0.000000</td>\n",
       "      <td>0.000000</td>\n",
       "      <td>0.000000</td>\n",
       "      <td>...</td>\n",
       "      <td>3.0</td>\n",
       "      <td>2.690000</td>\n",
       "      <td>3.0</td>\n",
       "      <td>0.000000</td>\n",
       "      <td>57.420000</td>\n",
       "      <td>239.790000</td>\n",
       "      <td>0.440000</td>\n",
       "      <td>198.000000</td>\n",
       "      <td>20.000000</td>\n",
       "      <td>0.000000</td>\n",
       "    </tr>\n",
       "    <tr>\n",
       "      <th>25%</th>\n",
       "      <td>8000.000000</td>\n",
       "      <td>8000.000000</td>\n",
       "      <td>8000.000000</td>\n",
       "      <td>261.880000</td>\n",
       "      <td>4.667350e+04</td>\n",
       "      <td>NaN</td>\n",
       "      <td>12.350000</td>\n",
       "      <td>0.000000</td>\n",
       "      <td>0.000000</td>\n",
       "      <td>16.000000</td>\n",
       "      <td>...</td>\n",
       "      <td>3.0</td>\n",
       "      <td>40.490000</td>\n",
       "      <td>3.0</td>\n",
       "      <td>13.000000</td>\n",
       "      <td>154.522500</td>\n",
       "      <td>4639.090000</td>\n",
       "      <td>44.080000</td>\n",
       "      <td>2740.850000</td>\n",
       "      <td>45.000000</td>\n",
       "      <td>4.000000</td>\n",
       "    </tr>\n",
       "    <tr>\n",
       "      <th>50%</th>\n",
       "      <td>13200.000000</td>\n",
       "      <td>13200.000000</td>\n",
       "      <td>13200.000000</td>\n",
       "      <td>385.360000</td>\n",
       "      <td>6.500000e+04</td>\n",
       "      <td>NaN</td>\n",
       "      <td>18.320000</td>\n",
       "      <td>0.000000</td>\n",
       "      <td>0.000000</td>\n",
       "      <td>32.000000</td>\n",
       "      <td>...</td>\n",
       "      <td>3.0</td>\n",
       "      <td>94.200000</td>\n",
       "      <td>3.0</td>\n",
       "      <td>21.000000</td>\n",
       "      <td>250.770000</td>\n",
       "      <td>8343.420000</td>\n",
       "      <td>128.990000</td>\n",
       "      <td>4897.000000</td>\n",
       "      <td>47.040000</td>\n",
       "      <td>12.000000</td>\n",
       "    </tr>\n",
       "    <tr>\n",
       "      <th>75%</th>\n",
       "      <td>20000.000000</td>\n",
       "      <td>20000.000000</td>\n",
       "      <td>20000.000000</td>\n",
       "      <td>586.035000</td>\n",
       "      <td>9.100000e+04</td>\n",
       "      <td>NaN</td>\n",
       "      <td>25.012500</td>\n",
       "      <td>0.000000</td>\n",
       "      <td>1.000000</td>\n",
       "      <td>52.000000</td>\n",
       "      <td>...</td>\n",
       "      <td>3.0</td>\n",
       "      <td>184.810000</td>\n",
       "      <td>3.0</td>\n",
       "      <td>25.000000</td>\n",
       "      <td>453.667500</td>\n",
       "      <td>13905.000000</td>\n",
       "      <td>274.370000</td>\n",
       "      <td>7751.310000</td>\n",
       "      <td>50.010000</td>\n",
       "      <td>18.000000</td>\n",
       "    </tr>\n",
       "    <tr>\n",
       "      <th>max</th>\n",
       "      <td>35000.000000</td>\n",
       "      <td>35000.000000</td>\n",
       "      <td>35000.000000</td>\n",
       "      <td>1445.460000</td>\n",
       "      <td>8.900060e+06</td>\n",
       "      <td>NaN</td>\n",
       "      <td>380.530000</td>\n",
       "      <td>39.000000</td>\n",
       "      <td>6.000000</td>\n",
       "      <td>176.000000</td>\n",
       "      <td>...</td>\n",
       "      <td>3.0</td>\n",
       "      <td>569.750000</td>\n",
       "      <td>3.0</td>\n",
       "      <td>29.000000</td>\n",
       "      <td>699.480000</td>\n",
       "      <td>28078.200000</td>\n",
       "      <td>798.390000</td>\n",
       "      <td>30000.000000</td>\n",
       "      <td>166.670000</td>\n",
       "      <td>65.000000</td>\n",
       "    </tr>\n",
       "  </tbody>\n",
       "</table>\n",
       "<p>8 rows × 106 columns</p>\n",
       "</div>"
      ],
      "text/plain": [
       "           loan_amnt    funded_amnt  funded_amnt_inv    installment  \\\n",
       "count  210994.000000  210994.000000    210994.000000  210994.000000   \n",
       "mean    14949.374508   14949.374508     14943.359854     443.917652   \n",
       "std      8562.173794    8562.173794      8558.678600     250.949787   \n",
       "min      1000.000000    1000.000000       900.000000      14.010000   \n",
       "25%      8000.000000    8000.000000      8000.000000     261.880000   \n",
       "50%     13200.000000   13200.000000     13200.000000     385.360000   \n",
       "75%     20000.000000   20000.000000     20000.000000     586.035000   \n",
       "max     35000.000000   35000.000000     35000.000000    1445.460000   \n",
       "\n",
       "         annual_inc  url            dti    delinq_2yrs  inq_last_6mths  \\\n",
       "count  2.109940e+05  0.0  210992.000000  210994.000000   210994.000000   \n",
       "mean   7.662230e+04  NaN      18.876317       0.335246        0.637919   \n",
       "std    7.178636e+04  NaN       8.704507       0.921001        0.918971   \n",
       "min    0.000000e+00  NaN       0.000000       0.000000        0.000000   \n",
       "25%    4.667350e+04  NaN      12.350000       0.000000        0.000000   \n",
       "50%    6.500000e+04  NaN      18.320000       0.000000        0.000000   \n",
       "75%    9.100000e+04  NaN      25.012500       0.000000        1.000000   \n",
       "max    8.900060e+06  NaN     380.530000      39.000000        6.000000   \n",
       "\n",
       "       mths_since_last_delinq       ...         deferral_term  \\\n",
       "count           109046.000000       ...                 153.0   \n",
       "mean                34.801790       ...                   3.0   \n",
       "std                 22.126952       ...                   0.0   \n",
       "min                  0.000000       ...                   3.0   \n",
       "25%                 16.000000       ...                   3.0   \n",
       "50%                 32.000000       ...                   3.0   \n",
       "75%                 52.000000       ...                   3.0   \n",
       "max                176.000000       ...                   3.0   \n",
       "\n",
       "       hardship_amount  hardship_length  hardship_dpd  \\\n",
       "count       153.000000            153.0    153.000000   \n",
       "mean        126.561961              3.0     18.294118   \n",
       "std         105.504755              0.0      8.282736   \n",
       "min           2.690000              3.0      0.000000   \n",
       "25%          40.490000              3.0     13.000000   \n",
       "50%          94.200000              3.0     21.000000   \n",
       "75%         184.810000              3.0     25.000000   \n",
       "max         569.750000              3.0     29.000000   \n",
       "\n",
       "       orig_projected_additional_accrued_interest  \\\n",
       "count                                   16.000000   \n",
       "mean                                   316.113750   \n",
       "std                                    209.439967   \n",
       "min                                     57.420000   \n",
       "25%                                    154.522500   \n",
       "50%                                    250.770000   \n",
       "75%                                    453.667500   \n",
       "max                                    699.480000   \n",
       "\n",
       "       hardship_payoff_balance_amount  hardship_last_payment_amount  \\\n",
       "count                      153.000000                    153.000000   \n",
       "mean                      9849.725556                    179.584314   \n",
       "std                       6641.912773                    164.910743   \n",
       "min                        239.790000                      0.440000   \n",
       "25%                       4639.090000                     44.080000   \n",
       "50%                       8343.420000                    128.990000   \n",
       "75%                      13905.000000                    274.370000   \n",
       "max                      28078.200000                    798.390000   \n",
       "\n",
       "       settlement_amount  settlement_percentage  settlement_term  \n",
       "count        4583.000000            4583.000000      4583.000000  \n",
       "mean         5731.476498              49.000343        12.094043  \n",
       "std          3864.310434               7.458421         8.380446  \n",
       "min           198.000000              20.000000         0.000000  \n",
       "25%          2740.850000              45.000000         4.000000  \n",
       "50%          4897.000000              47.040000        12.000000  \n",
       "75%          7751.310000              50.010000        18.000000  \n",
       "max         30000.000000             166.670000        65.000000  \n",
       "\n",
       "[8 rows x 106 columns]"
      ]
     },
     "execution_count": 197,
     "metadata": {},
     "output_type": "execute_result"
    }
   ],
   "source": [
    "df.describe()"
   ]
  },
  {
   "cell_type": "code",
   "execution_count": 203,
   "metadata": {},
   "outputs": [
    {
     "data": {
      "text/plain": [
       "sec_app_chargeoff_within_12_mths              210994\n",
       "sec_app_inq_last_6mths                        210994\n",
       "sec_app_open_acc                              210994\n",
       "sec_app_revol_util                            210994\n",
       "sec_app_open_act_il                           210994\n",
       "sec_app_num_rev_accts                         210994\n",
       "sec_app_earliest_cr_line                      210994\n",
       "sec_app_collections_12_mths_ex_med            210994\n",
       "sec_app_mths_since_last_major_derog           210994\n",
       "next_pymnt_d                                  210994\n",
       "sec_app_mort_acc                              210994\n",
       "revol_bal_joint                               210994\n",
       "url                                           210994\n",
       "orig_projected_additional_accrued_interest    210978\n",
       "desc                                          210966\n",
       "hardship_loan_status                          210841\n",
       "hardship_reason                               210841\n",
       "hardship_last_payment_amount                  210841\n",
       "hardship_payoff_balance_amount                210841\n",
       "hardship_dpd                                  210841\n",
       "hardship_type                                 210841\n",
       "hardship_status                               210841\n",
       "deferral_term                                 210841\n",
       "hardship_amount                               210841\n",
       "hardship_start_date                           210841\n",
       "payment_plan_start_date                       210841\n",
       "hardship_length                               210841\n",
       "hardship_end_date                             210841\n",
       "annual_inc_joint                              210789\n",
       "dti_joint                                     210789\n",
       "verification_status_joint                     210789\n",
       "settlement_term                               206411\n",
       "settlement_percentage                         206411\n",
       "debt_settlement_flag_date                     206411\n",
       "settlement_status                             206411\n",
       "settlement_date                               206411\n",
       "settlement_amount                             206411\n",
       "il_util                                       203175\n",
       "mths_since_rcnt_il                            202318\n",
       "open_il_12m                                   202115\n",
       "open_il_24m                                   202115\n",
       "open_act_il                                   202115\n",
       "total_bal_il                                  202115\n",
       "open_acc_6m                                   202115\n",
       "open_rv_12m                                   202115\n",
       "open_rv_24m                                   202115\n",
       "max_bal_bc                                    202115\n",
       "all_util                                      202115\n",
       "inq_fi                                        202115\n",
       "total_cu_tl                                   202115\n",
       "inq_last_12m                                  202115\n",
       "mths_since_last_record                        170312\n",
       "mths_since_recent_bc_dlq                      156017\n",
       "mths_since_last_major_derog                   147259\n",
       "mths_since_recent_revol_delinq                135026\n",
       "mths_since_last_delinq                        101948\n",
       "mths_since_recent_inq                          18238\n",
       "emp_title                                      11374\n",
       "num_tl_120dpd_2m                                9819\n",
       "mo_sin_old_il_acct                              5472\n",
       "dtype: int64"
      ]
     },
     "execution_count": 203,
     "metadata": {},
     "output_type": "execute_result"
    }
   ],
   "source": [
    "null_col = df.isnull().sum().sort_values(ascending = False)\n",
    "null_col.head(n = 60)"
   ]
  },
  {
   "cell_type": "code",
   "execution_count": 51,
   "metadata": {
    "collapsed": true
   },
   "outputs": [],
   "source": [
    "#created a csv to see full list of features with a lot of null values. \n",
    "#Dropped all features with high null values counts\n",
    "\n",
    "null_col.to_csv('null_col.csv')"
   ]
  },
  {
   "cell_type": "code",
   "execution_count": 315,
   "metadata": {
    "collapsed": true
   },
   "outputs": [],
   "source": [
    "#pass in new subset of features\n",
    "good_feat = [\"num_tl_120dpd_2m\",\n",
    "\"mo_sin_old_il_acct\",\n",
    "\"percent_bc_gt_75\",\n",
    "\"bc_util\",\n",
    "\"bc_open_to_buy\",\n",
    "\"mths_since_recent_bc\",\n",
    "\"dti\",\n",
    "\"num_rev_accts\",\n",
    "\"total_pymnt\",\n",
    "\"delinq_2yrs\",\n",
    "\"inq_last_6mths\",\n",
    "\"revol_bal\",\n",
    "\"out_prncp_inv\",\n",
    "\"open_acc\",\n",
    "\"pub_rec\",\n",
    "\"out_prncp\",\n",
    "\"total_acc\",\n",
    "\"num_bc_tl\",\n",
    "\"funded_amnt\",\n",
    "\"int_rate\",\n",
    "\"installment\",\n",
    "\"home_ownership\",\n",
    "\"annual_inc\",\n",
    "\"loan_status\",\n",
    "\"total_rec_prncp\",\n",
    "\"total_pymnt_inv\",\n",
    "\"total_rec_int\",\n",
    "\"chargeoff_within_12_mths\",\n",
    "\"num_sats\",\n",
    "\"num_rev_tl_bal_gt_0\",\n",
    "\"total_rev_hi_lim\",\n",
    "\"num_op_rev_tl\",\n",
    "\"num_il_tl\",\n",
    "\"acc_open_past_24mths\",\n",
    "\"avg_cur_bal\",\n",
    "\"delinq_amnt\",\n",
    "\"num_tl_90g_dpd_24m\",\n",
    "\"mo_sin_old_rev_tl_op\",\n",
    "\"mo_sin_rcnt_rev_tl_op\",\n",
    "\"mo_sin_rcnt_tl\",\n",
    "\"mort_acc\",\n",
    "\"num_accts_ever_120_pd\",\n",
    "\"num_actv_bc_tl\",\n",
    "\"num_actv_rev_tl\",\n",
    "\"num_tl_30dpd\",\n",
    "\"num_tl_op_past_12m\",\n",
    "\"total_rec_late_fee\",\n",
    "\"total_il_high_credit_limit\",\n",
    "\"collection_recovery_fee\",\n",
    "\"last_pymnt_amnt\",\n",
    "\"num_bc_sats\",\n",
    "\"collections_12_mths_ex_med\",\n",
    "\"policy_code\",\n",
    "\"total_bc_limit\",\n",
    "\"pct_tl_nvr_dlq\",\n",
    "\"total_bal_ex_mort\",\n",
    "\"acc_now_delinq\",\n",
    "\"tot_coll_amt\",\n",
    "\"tot_cur_bal\",\n",
    "\"tot_hi_cred_lim\",\n",
    "\"tax_liens\",\n",
    "\"pub_rec_bankruptcies\",\n",
    "\"loan_amnt\"]\n",
    "\n",
    "#manually removed:\n",
    "#\"recoveries\", \"application_type\", \"hardship_flag\", \"emp_title\", \"title\",\n",
    "#\"funded_amnt_inv\", \"issue_d\", \"verification_status\", \"grade\", \"sub_grade\", \"initial_list_status\",\n",
    "#\"pymnt_plan\", \"debt_settlement_flag\", \"addr_state\", \"earliest_cr_line\", \"revol_util\",\n",
    "\n",
    "#categorical:\n",
    "#\"last_pymnt_d\", \"last_credit_pull_d\", \"purpose\", \"term\", \"emp_length\"\n",
    "\n",
    "#"
   ]
  },
  {
   "cell_type": "code",
   "execution_count": 316,
   "metadata": {},
   "outputs": [
    {
     "data": {
      "text/plain": [
       "(193645, 85)"
      ]
     },
     "execution_count": 316,
     "metadata": {},
     "output_type": "execute_result"
    }
   ],
   "source": [
    "#Create a function that will take unclean data, and apply feature engineering techniques\n",
    "\n",
    "df = pd.read_csv(\"/Users/Darrenklee/Desktop/DS-Project/LoanStats3d.csv\")\n",
    "#good_feat does not include any \n",
    "df = df[good_feat]\n",
    "#we only want to focus on \"Fully Paid\" and \"Charged Off\" loans as target\n",
    "df = df[df.loan_status != \"Current\"]\n",
    "df = df[df.loan_status != \"Late (31-120 days)\"]\n",
    "df = df[df.loan_status != \"In Grace Period\"]\n",
    "df = df[df.loan_status != \"Late (16-30 days)\"]\n",
    "df = df[df.loan_status != \"Default\"]\n",
    "#0 for Fully Paid loans, and 1 for Charged Off loans\n",
    "target_dict = {\"Fully Paid\":0, \"Charged Off\":1}\n",
    "df[\"loan_status\"] = df.loan_status.map(target_dict)\n",
    "\n",
    "\n",
    "def df_fe(df):\n",
    "    df.dropna(inplace= True)\n",
    "    df[\"int_rate\"] = df.int_rate.str.replace(\"%\", \"\")  \n",
    "    df[\"int_rate\"] = df.int_rate.astype(float)\n",
    "    #create dummy variables for categorical data\n",
    "    #df_purpose_dums = pd.get_dummies(df.purpose, prefix = \"purpose\", drop_first=True)\n",
    "    #df = pd.concat([df, df_purpose_dums], axis = 1)\n",
    "    #df.drop(\"purpose\", axis = 1, inplace=True)\n",
    "    #df_loanterm_dums = pd.get_dummies(df.term, prefix = \"loanterm\", drop_first = True)\n",
    "    #df = pd.concat([df, df_loanterm_dums], axis = 1)\n",
    "    #df.drop(\"term\", axis = 1, inplace=True)\n",
    "    #df_grade_dums = pd.get_dummies(df.grade, prefix = \"grade\", drop_first = True)\n",
    "    #df = pd.concat([df, df_grade_dums], axis = 1)\n",
    "    #df.drop(\"grade\", axis = 1, inplace=True)\n",
    "    df[\"home_ownership\"] = df.int_rate.astype(int)\n",
    "    df_ownership_dums = pd.get_dummies(df.home_ownership, prefix = \"ownership\", drop_first = True)\n",
    "    df[\"home_ownership\"] = df.int_rate.astype(int)\n",
    "    df = pd.concat([df, df_ownership_dums], axis = 1)\n",
    "    df.drop(\"home_ownership\", axis = 1, inplace=True)\n",
    "    df.columns = df.columns.str.lower()\n",
    "    #df.columns = df.columns.str.replace(\" \", \"_\")\n",
    "    #df.columns = df.columns.str.replace(\"-\", \"_\")\n",
    "    #df.columns = df.columns.str.replace(\"__\", \"_\")\n",
    "    #fico has high and low range columns, take average!\n",
    "    #df[\"fico_average\"] = df[[\"fico_high_range\", \"fico_low_range\"]].mean(axis=1)\n",
    "    return df\n",
    "df_fe(df).shape"
   ]
  },
  {
   "cell_type": "code",
   "execution_count": null,
   "metadata": {
    "collapsed": true
   },
   "outputs": [],
   "source": []
  },
  {
   "cell_type": "code",
   "execution_count": null,
   "metadata": {
    "collapsed": true
   },
   "outputs": [],
   "source": []
  },
  {
   "cell_type": "code",
   "execution_count": null,
   "metadata": {
    "collapsed": true
   },
   "outputs": [],
   "source": []
  },
  {
   "cell_type": "code",
   "execution_count": null,
   "metadata": {
    "collapsed": true
   },
   "outputs": [],
   "source": []
  },
  {
   "cell_type": "code",
   "execution_count": 318,
   "metadata": {},
   "outputs": [
    {
     "data": {
      "text/plain": [
       "0    0.739136\n",
       "1    0.260864\n",
       "Name: loan_status, dtype: float64"
      ]
     },
     "execution_count": 318,
     "metadata": {},
     "output_type": "execute_result"
    }
   ],
   "source": [
    "#new Null Accuracy. If we predicted that all loans will default, then we would be correct ~26% of the time.\n",
    "df.loan_status.value_counts(normalize=True)"
   ]
  },
  {
   "cell_type": "code",
   "execution_count": 334,
   "metadata": {},
   "outputs": [
    {
     "data": {
      "text/html": [
       "<div>\n",
       "<style>\n",
       "    .dataframe thead tr:only-child th {\n",
       "        text-align: right;\n",
       "    }\n",
       "\n",
       "    .dataframe thead th {\n",
       "        text-align: left;\n",
       "    }\n",
       "\n",
       "    .dataframe tbody tr th {\n",
       "        vertical-align: top;\n",
       "    }\n",
       "</style>\n",
       "<table border=\"1\" class=\"dataframe\">\n",
       "  <thead>\n",
       "    <tr style=\"text-align: right;\">\n",
       "      <th></th>\n",
       "      <th>num_tl_120dpd_2m</th>\n",
       "      <th>mo_sin_old_il_acct</th>\n",
       "      <th>percent_bc_gt_75</th>\n",
       "      <th>bc_util</th>\n",
       "      <th>bc_open_to_buy</th>\n",
       "      <th>mths_since_recent_bc</th>\n",
       "      <th>dti</th>\n",
       "      <th>num_rev_accts</th>\n",
       "      <th>total_pymnt</th>\n",
       "      <th>delinq_2yrs</th>\n",
       "      <th>...</th>\n",
       "      <th>total_bc_limit</th>\n",
       "      <th>pct_tl_nvr_dlq</th>\n",
       "      <th>total_bal_ex_mort</th>\n",
       "      <th>acc_now_delinq</th>\n",
       "      <th>tot_coll_amt</th>\n",
       "      <th>tot_cur_bal</th>\n",
       "      <th>tot_hi_cred_lim</th>\n",
       "      <th>tax_liens</th>\n",
       "      <th>pub_rec_bankruptcies</th>\n",
       "      <th>loan_amnt</th>\n",
       "    </tr>\n",
       "    <tr>\n",
       "      <th>loan_status</th>\n",
       "      <th></th>\n",
       "      <th></th>\n",
       "      <th></th>\n",
       "      <th></th>\n",
       "      <th></th>\n",
       "      <th></th>\n",
       "      <th></th>\n",
       "      <th></th>\n",
       "      <th></th>\n",
       "      <th></th>\n",
       "      <th></th>\n",
       "      <th></th>\n",
       "      <th></th>\n",
       "      <th></th>\n",
       "      <th></th>\n",
       "      <th></th>\n",
       "      <th></th>\n",
       "      <th></th>\n",
       "      <th></th>\n",
       "      <th></th>\n",
       "      <th></th>\n",
       "    </tr>\n",
       "  </thead>\n",
       "  <tbody>\n",
       "    <tr>\n",
       "      <th>0</th>\n",
       "      <td>0.000789</td>\n",
       "      <td>126.094040</td>\n",
       "      <td>43.013692</td>\n",
       "      <td>58.300628</td>\n",
       "      <td>11018.804974</td>\n",
       "      <td>23.839887</td>\n",
       "      <td>18.275522</td>\n",
       "      <td>15.226025</td>\n",
       "      <td>16809.495810</td>\n",
       "      <td>0.313428</td>\n",
       "      <td>...</td>\n",
       "      <td>22685.155306</td>\n",
       "      <td>94.476186</td>\n",
       "      <td>53052.734409</td>\n",
       "      <td>0.005715</td>\n",
       "      <td>279.122567</td>\n",
       "      <td>152135.804744</td>\n",
       "      <td>187480.602990</td>\n",
       "      <td>0.055006</td>\n",
       "      <td>0.139000</td>\n",
       "      <td>14871.845350</td>\n",
       "    </tr>\n",
       "    <tr>\n",
       "      <th>1</th>\n",
       "      <td>0.001109</td>\n",
       "      <td>122.517074</td>\n",
       "      <td>51.466064</td>\n",
       "      <td>64.693155</td>\n",
       "      <td>7259.886370</td>\n",
       "      <td>20.313392</td>\n",
       "      <td>21.298229</td>\n",
       "      <td>15.043037</td>\n",
       "      <td>6932.399072</td>\n",
       "      <td>0.361714</td>\n",
       "      <td>...</td>\n",
       "      <td>18189.330912</td>\n",
       "      <td>94.268859</td>\n",
       "      <td>52539.945185</td>\n",
       "      <td>0.007226</td>\n",
       "      <td>265.898545</td>\n",
       "      <td>117462.591369</td>\n",
       "      <td>144737.797367</td>\n",
       "      <td>0.068356</td>\n",
       "      <td>0.153835</td>\n",
       "      <td>15746.729189</td>\n",
       "    </tr>\n",
       "  </tbody>\n",
       "</table>\n",
       "<p>2 rows × 62 columns</p>\n",
       "</div>"
      ],
      "text/plain": [
       "             num_tl_120dpd_2m  mo_sin_old_il_acct  percent_bc_gt_75  \\\n",
       "loan_status                                                           \n",
       "0                    0.000789          126.094040         43.013692   \n",
       "1                    0.001109          122.517074         51.466064   \n",
       "\n",
       "               bc_util  bc_open_to_buy  mths_since_recent_bc        dti  \\\n",
       "loan_status                                                               \n",
       "0            58.300628    11018.804974             23.839887  18.275522   \n",
       "1            64.693155     7259.886370             20.313392  21.298229   \n",
       "\n",
       "             num_rev_accts   total_pymnt  delinq_2yrs      ...       \\\n",
       "loan_status                                                ...        \n",
       "0                15.226025  16809.495810     0.313428      ...        \n",
       "1                15.043037   6932.399072     0.361714      ...        \n",
       "\n",
       "             total_bc_limit  pct_tl_nvr_dlq  total_bal_ex_mort  \\\n",
       "loan_status                                                      \n",
       "0              22685.155306       94.476186       53052.734409   \n",
       "1              18189.330912       94.268859       52539.945185   \n",
       "\n",
       "             acc_now_delinq  tot_coll_amt    tot_cur_bal  tot_hi_cred_lim  \\\n",
       "loan_status                                                                 \n",
       "0                  0.005715    279.122567  152135.804744    187480.602990   \n",
       "1                  0.007226    265.898545  117462.591369    144737.797367   \n",
       "\n",
       "             tax_liens  pub_rec_bankruptcies     loan_amnt  \n",
       "loan_status                                                 \n",
       "0             0.055006              0.139000  14871.845350  \n",
       "1             0.068356              0.153835  15746.729189  \n",
       "\n",
       "[2 rows x 62 columns]"
      ]
     },
     "execution_count": 334,
     "metadata": {},
     "output_type": "execute_result"
    }
   ],
   "source": [
    "df.groupby(\"loan_status\").mean()"
   ]
  },
  {
   "cell_type": "code",
   "execution_count": null,
   "metadata": {
    "collapsed": true
   },
   "outputs": [],
   "source": []
  },
  {
   "cell_type": "code",
   "execution_count": null,
   "metadata": {
    "collapsed": true
   },
   "outputs": [],
   "source": []
  },
  {
   "cell_type": "code",
   "execution_count": null,
   "metadata": {
    "collapsed": true
   },
   "outputs": [],
   "source": []
  },
  {
   "cell_type": "code",
   "execution_count": null,
   "metadata": {
    "collapsed": true
   },
   "outputs": [],
   "source": []
  },
  {
   "cell_type": "code",
   "execution_count": null,
   "metadata": {
    "collapsed": true
   },
   "outputs": [],
   "source": []
  },
  {
   "cell_type": "markdown",
   "metadata": {},
   "source": [
    "# Exploratory Data Analysis"
   ]
  },
  {
   "cell_type": "code",
   "execution_count": null,
   "metadata": {
    "collapsed": true
   },
   "outputs": [],
   "source": []
  },
  {
   "cell_type": "code",
   "execution_count": 238,
   "metadata": {},
   "outputs": [
    {
     "data": {
      "text/plain": [
       "0    181769\n",
       "1      1469\n",
       "2        92\n",
       "3        18\n",
       "4         6\n",
       "5         1\n",
       "Name: chargeoff_within_12_mths, dtype: int64"
      ]
     },
     "execution_count": 238,
     "metadata": {},
     "output_type": "execute_result"
    }
   ],
   "source": [
    "df.chargeoff_within_12_mths.value_counts()"
   ]
  },
  {
   "cell_type": "code",
   "execution_count": 239,
   "metadata": {},
   "outputs": [
    {
     "data": {
      "image/png": "[encoded data removed]",
      "text/plain": [
       "<matplotlib.figure.Figure at 0x1a374a9910>"
      ]
     },
     "metadata": {},
     "output_type": "display_data"
    }
   ],
   "source": [
    "df.groupby(\"purpose\")[\"chargeoff_within_12_mths\"].mean().sort_values(ascending= False).plot(kind=\"bar\", figsize=(8,4), \n",
    "                                           title = \"Charge Offs within 12 months by Loan Purpose\")\n",
    "plt.show();\n",
    "#we can see which types of borrowers are most irresponsible. "
   ]
  },
  {
   "cell_type": "code",
   "execution_count": 130,
   "metadata": {},
   "outputs": [
    {
     "data": {
      "text/plain": [
       "array(['debt_consolidation', 'home_improvement', 'car', 'small_business',\n",
       "       'house', 'credit_card', 'major_purchase', 'vacation', 'other',\n",
       "       'moving', 'medical', 'renewable_energy', 'wedding', 'educational'], dtype=object)"
      ]
     },
     "execution_count": 130,
     "metadata": {},
     "output_type": "execute_result"
    }
   ],
   "source": [
    "df.purpose.unique()"
   ]
  },
  {
   "cell_type": "code",
   "execution_count": 247,
   "metadata": {},
   "outputs": [
    {
     "data": {
      "image/png": "[encoded data removed]",
      "text/plain": [
       "<matplotlib.figure.Figure at 0x1a1c2fb490>"
      ]
     },
     "metadata": {},
     "output_type": "display_data"
    }
   ],
   "source": [
    "df.groupby(\"purpose\")[\"dti\"].mean().sort_values(ascending= False).plot(kind=\"bar\", figsize=(8,4), \n",
    "                                           title = \"Avg Debt-to-income ratio by Purpose\")\n",
    "plt.show();"
   ]
  },
  {
   "cell_type": "code",
   "execution_count": 246,
   "metadata": {
    "scrolled": true
   },
   "outputs": [
    {
     "data": {
      "image/png": "[encoded data removed]",
      "text/plain": [
       "<matplotlib.figure.Figure at 0x1a1bb68d10>"
      ]
     },
     "metadata": {},
     "output_type": "display_data"
    }
   ],
   "source": [
    "#boxplot\n",
    "df.boxplot(column=\"int_rate\", by=\"purpose\", figsize=(20, 6))\n",
    "plt.show();"
   ]
  },
  {
   "cell_type": "code",
   "execution_count": null,
   "metadata": {
    "collapsed": true
   },
   "outputs": [],
   "source": [
    "df[\"int_rate\"] = df.int_rate.str.replace(\"%\", \"\")\n",
    "df[\"int_rate\"] = df.int_rate.astype(float)"
   ]
  },
  {
   "cell_type": "code",
   "execution_count": 245,
   "metadata": {},
   "outputs": [
    {
     "data": {
      "image/png": "[encoded data removed]",
      "text/plain": [
       "<matplotlib.figure.Figure at 0x1a15c9e5d0>"
      ]
     },
     "metadata": {},
     "output_type": "display_data"
    }
   ],
   "source": [
    "#boxplot\n",
    "df.boxplot(column=\"int_rate\", by=\"grade\", figsize=(20, 8))\n",
    "plt.show();"
   ]
  },
  {
   "cell_type": "markdown",
   "metadata": {},
   "source": [
    " "
   ]
  },
  {
   "cell_type": "code",
   "execution_count": 244,
   "metadata": {},
   "outputs": [
    {
     "data": {
      "text/plain": [
       "loan_status\n",
       "1    14.65\n",
       "0    11.99\n",
       "Name: int_rate, dtype: float64"
      ]
     },
     "execution_count": 244,
     "metadata": {},
     "output_type": "execute_result"
    }
   ],
   "source": [
    "df.groupby(\"loan_status\")[\"int_rate\"].median().sort_values(ascending = False)"
   ]
  },
  {
   "cell_type": "code",
   "execution_count": 243,
   "metadata": {
    "collapsed": true
   },
   "outputs": [],
   "source": [
    "loan_status_mean = df.groupby(\"loan_status\").mean()\n",
    "loan_status_mean.to_csv('loan_status_mean.csv')"
   ]
  },
  {
   "cell_type": "code",
   "execution_count": 352,
   "metadata": {},
   "outputs": [
    {
     "data": {
      "image/png": "[encoded data removed]",
      "text/plain": [
       "<matplotlib.figure.Figure at 0x1a14e01950>"
      ]
     },
     "metadata": {},
     "output_type": "display_data"
    }
   ],
   "source": [
    "# scatter plot in Seaborn\n",
    "sns.pairplot(data = df, x_vars=['dti','loan_amnt','int_rate'], \n",
    "             y_vars='annual_inc', size=6, hue = 'chargeoff_within_12_mths', aspect=0.7);"
   ]
  },
  {
   "cell_type": "code",
   "execution_count": null,
   "metadata": {
    "collapsed": true
   },
   "outputs": [],
   "source": []
  },
  {
   "cell_type": "code",
   "execution_count": null,
   "metadata": {
    "collapsed": true
   },
   "outputs": [],
   "source": []
  },
  {
   "cell_type": "code",
   "execution_count": null,
   "metadata": {
    "collapsed": true
   },
   "outputs": [],
   "source": []
  },
  {
   "cell_type": "code",
   "execution_count": null,
   "metadata": {
    "collapsed": true
   },
   "outputs": [],
   "source": []
  },
  {
   "cell_type": "code",
   "execution_count": null,
   "metadata": {
    "collapsed": true
   },
   "outputs": [],
   "source": []
  },
  {
   "cell_type": "code",
   "execution_count": null,
   "metadata": {
    "collapsed": true
   },
   "outputs": [],
   "source": []
  },
  {
   "cell_type": "code",
   "execution_count": null,
   "metadata": {
    "collapsed": true
   },
   "outputs": [],
   "source": []
  },
  {
   "cell_type": "code",
   "execution_count": null,
   "metadata": {
    "collapsed": true
   },
   "outputs": [],
   "source": []
  },
  {
   "cell_type": "code",
   "execution_count": null,
   "metadata": {
    "collapsed": true
   },
   "outputs": [],
   "source": []
  },
  {
   "cell_type": "markdown",
   "metadata": {},
   "source": [
    "Let's take a look at the highest correlated features relative to loans later than one month in payments."
   ]
  },
  {
   "cell_type": "code",
   "execution_count": null,
   "metadata": {
    "collapsed": true
   },
   "outputs": [],
   "source": []
  },
  {
   "cell_type": "code",
   "execution_count": 399,
   "metadata": {
    "collapsed": true
   },
   "outputs": [],
   "source": []
  },
  {
   "cell_type": "code",
   "execution_count": null,
   "metadata": {
    "collapsed": true
   },
   "outputs": [],
   "source": []
  },
  {
   "cell_type": "code",
   "execution_count": null,
   "metadata": {
    "collapsed": true
   },
   "outputs": [],
   "source": []
  },
  {
   "cell_type": "code",
   "execution_count": null,
   "metadata": {
    "collapsed": true
   },
   "outputs": [],
   "source": []
  },
  {
   "cell_type": "code",
   "execution_count": null,
   "metadata": {
    "collapsed": true
   },
   "outputs": [],
   "source": []
  },
  {
   "cell_type": "code",
   "execution_count": 240,
   "metadata": {},
   "outputs": [
    {
     "data": {
      "image/png": "[encoded data removed]",
      "text/plain": [
       "<matplotlib.figure.Figure at 0x1a3505a550>"
      ]
     },
     "metadata": {},
     "output_type": "display_data"
    },
    {
     "data": {
      "text/plain": [
       "<matplotlib.figure.Figure at 0x1a14466850>"
      ]
     },
     "metadata": {},
     "output_type": "display_data"
    }
   ],
   "source": [
    "sns.heatmap(df.corr())\n",
    "plt.figure(figsize=(20, 20));"
   ]
  },
  {
   "cell_type": "code",
   "execution_count": null,
   "metadata": {
    "collapsed": true
   },
   "outputs": [],
   "source": []
  },
  {
   "cell_type": "markdown",
   "metadata": {},
   "source": [
    "# Now our dataset is ready for Feature Engineering"
   ]
  },
  {
   "cell_type": "code",
   "execution_count": 340,
   "metadata": {
    "collapsed": true
   },
   "outputs": [],
   "source": [
    "from sklearn.tree import DecisionTreeClassifier\n",
    "from sklearn.cross_validation import train_test_split, cross_val_score\n",
    "from sklearn.metrics import accuracy_score, precision_score, recall_score, confusion_matrix, classification_report, roc_auc_score, roc_curve\n",
    "from sklearn.linear_model import LogisticRegression\n",
    "from sklearn.datasets import make_classification"
   ]
  },
  {
   "cell_type": "code",
   "execution_count": 341,
   "metadata": {
    "collapsed": true
   },
   "outputs": [],
   "source": [
    "#Assign X and y\n",
    "X = df.drop(\"loan_status\", axis =1)\n",
    "y = df.loan_status"
   ]
  },
  {
   "cell_type": "code",
   "execution_count": 329,
   "metadata": {
    "collapsed": true
   },
   "outputs": [],
   "source": [
    "#Make a train test split of the spotify data and train logistic regression model\n",
    "X_train, X_test, y_train, y_test = train_test_split(X, y, \n",
    "                                                    test_size=0.4,\n",
    "                                                    random_state=123)"
   ]
  },
  {
   "cell_type": "code",
   "execution_count": 346,
   "metadata": {},
   "outputs": [
    {
     "data": {
      "text/plain": [
       "array([[57211,     0],\n",
       "       [   37, 20210]])"
      ]
     },
     "execution_count": 346,
     "metadata": {},
     "output_type": "execute_result"
    }
   ],
   "source": [
    "#Pass the predictions and y_test into a confusion matrix\n",
    "lr = LogisticRegression()\n",
    "lr.fit(X_train, y_train)\n",
    "\n",
    "preds = lr.predict(X_test)\n",
    "\n",
    "cm = confusion_matrix(y_test, preds)\n",
    "cm"
   ]
  },
  {
   "cell_type": "code",
   "execution_count": null,
   "metadata": {
    "collapsed": true
   },
   "outputs": [],
   "source": []
  },
  {
   "cell_type": "code",
   "execution_count": 347,
   "metadata": {},
   "outputs": [
    {
     "name": "stdout",
     "output_type": "stream",
     "text": [
      "The precision score is 100.00 and the recall score is 99.82\n"
     ]
    }
   ],
   "source": [
    "ps = precision_score(y_test, preds)\n",
    "rs = recall_score(y_test, preds)\n",
    "\n",
    "print (\"The precision score is {:.2f} and the recall score is {:.2f}\".format(ps*100, rs*100))"
   ]
  },
  {
   "cell_type": "code",
   "execution_count": 350,
   "metadata": {},
   "outputs": [
    {
     "name": "stdout",
     "output_type": "stream",
     "text": [
      "99.966433422\n"
     ]
    }
   ],
   "source": [
    "score = lr.score(X, y)\n",
    "print score*100"
   ]
  },
  {
   "cell_type": "code",
   "execution_count": 337,
   "metadata": {},
   "outputs": [
    {
     "data": {
      "text/plain": [
       "0.99953523199669492"
      ]
     },
     "execution_count": 337,
     "metadata": {},
     "output_type": "execute_result"
    }
   ],
   "source": [
    "#Use cross_val_score method to generate the average accuracy score for 5 CVs\n",
    "\n",
    "cross_val_score(LogisticRegression(), X, y, cv = 5, scoring=\"accuracy\").mean()\n"
   ]
  },
  {
   "cell_type": "code",
   "execution_count": 338,
   "metadata": {
    "collapsed": true
   },
   "outputs": [],
   "source": [
    "#Derive probabilities of class 1 from the test set\n",
    "test_probs = lr.predict_proba(X_test)[:,1]\n",
    "#Pass in the test_probs variable and the true test labels aka y_test in the roc_curve function\n",
    "fpr, tpr, thres = roc_curve(y_test, test_probs)\n",
    "#Outputs the fpr, tpr, for varying thresholds"
   ]
  },
  {
   "cell_type": "code",
   "execution_count": 339,
   "metadata": {},
   "outputs": [
    {
     "data": {
      "image/png": "[encoded data removed]",
      "text/plain": [
       "<matplotlib.figure.Figure at 0x1a138cf990>"
      ]
     },
     "metadata": {},
     "output_type": "display_data"
    }
   ],
   "source": [
    "#Plotting False Positive Rates vs the True Positive Rates\n",
    "#Dotted line represents a useless model\n",
    "plt.figure(figsize=(15,11))\n",
    "plt.plot(fpr, tpr, linewidth= 8)\n",
    "#Line of randomness\n",
    "plt.plot([0,1], [0,1], \"--\", alpha=.7)\n",
    "plt.xlabel(\"False Positive Rate\")\n",
    "plt.ylabel(\"True Positive Rate\")\n",
    "plt.title(\"ROC Curve\")\n",
    "plt.show()"
   ]
  },
  {
   "cell_type": "code",
   "execution_count": 354,
   "metadata": {
    "collapsed": true
   },
   "outputs": [],
   "source": [
    "#Table of coefficients and their values\n",
    "coef = pd.DataFrame(zip(X.columns, np.transpose(lr.coef_[0])), columns=[\"coef\", \"value\"])\n",
    "coef.to_csv('coef.csv')"
   ]
  },
  {
   "cell_type": "code",
   "execution_count": 358,
   "metadata": {},
   "outputs": [
    {
     "data": {
      "text/html": [
       "<div>\n",
       "<style>\n",
       "    .dataframe thead tr:only-child th {\n",
       "        text-align: right;\n",
       "    }\n",
       "\n",
       "    .dataframe thead th {\n",
       "        text-align: left;\n",
       "    }\n",
       "\n",
       "    .dataframe tbody tr th {\n",
       "        vertical-align: top;\n",
       "    }\n",
       "</style>\n",
       "<table border=\"1\" class=\"dataframe\">\n",
       "  <thead>\n",
       "    <tr style=\"text-align: right;\">\n",
       "      <th></th>\n",
       "      <th>coef</th>\n",
       "      <th>value</th>\n",
       "      <th>odds_ratio</th>\n",
       "    </tr>\n",
       "  </thead>\n",
       "  <tbody>\n",
       "    <tr>\n",
       "      <th>0</th>\n",
       "      <td>num_tl_120dpd_2m</td>\n",
       "      <td>-8.703547e-09</td>\n",
       "      <td>1.000000</td>\n",
       "    </tr>\n",
       "    <tr>\n",
       "      <th>1</th>\n",
       "      <td>mo_sin_old_il_acct</td>\n",
       "      <td>-1.700981e-03</td>\n",
       "      <td>0.998300</td>\n",
       "    </tr>\n",
       "    <tr>\n",
       "      <th>2</th>\n",
       "      <td>percent_bc_gt_75</td>\n",
       "      <td>-6.836491e-04</td>\n",
       "      <td>0.999317</td>\n",
       "    </tr>\n",
       "    <tr>\n",
       "      <th>3</th>\n",
       "      <td>bc_util</td>\n",
       "      <td>-9.943625e-04</td>\n",
       "      <td>0.999006</td>\n",
       "    </tr>\n",
       "    <tr>\n",
       "      <th>4</th>\n",
       "      <td>bc_open_to_buy</td>\n",
       "      <td>-3.052751e-05</td>\n",
       "      <td>0.999969</td>\n",
       "    </tr>\n",
       "    <tr>\n",
       "      <th>5</th>\n",
       "      <td>mths_since_recent_bc</td>\n",
       "      <td>-5.645552e-04</td>\n",
       "      <td>0.999436</td>\n",
       "    </tr>\n",
       "    <tr>\n",
       "      <th>6</th>\n",
       "      <td>dti</td>\n",
       "      <td>-2.450151e-04</td>\n",
       "      <td>0.999755</td>\n",
       "    </tr>\n",
       "    <tr>\n",
       "      <th>7</th>\n",
       "      <td>num_rev_accts</td>\n",
       "      <td>-1.705835e-04</td>\n",
       "      <td>0.999829</td>\n",
       "    </tr>\n",
       "    <tr>\n",
       "      <th>8</th>\n",
       "      <td>total_pymnt</td>\n",
       "      <td>-2.175875e-03</td>\n",
       "      <td>0.997826</td>\n",
       "    </tr>\n",
       "    <tr>\n",
       "      <th>9</th>\n",
       "      <td>delinq_2yrs</td>\n",
       "      <td>-2.427748e-06</td>\n",
       "      <td>0.999998</td>\n",
       "    </tr>\n",
       "    <tr>\n",
       "      <th>10</th>\n",
       "      <td>inq_last_6mths</td>\n",
       "      <td>-1.010200e-05</td>\n",
       "      <td>0.999990</td>\n",
       "    </tr>\n",
       "    <tr>\n",
       "      <th>11</th>\n",
       "      <td>revol_bal</td>\n",
       "      <td>-4.855421e-05</td>\n",
       "      <td>0.999951</td>\n",
       "    </tr>\n",
       "    <tr>\n",
       "      <th>12</th>\n",
       "      <td>out_prncp_inv</td>\n",
       "      <td>0.000000e+00</td>\n",
       "      <td>1.000000</td>\n",
       "    </tr>\n",
       "    <tr>\n",
       "      <th>13</th>\n",
       "      <td>open_acc</td>\n",
       "      <td>-1.306492e-04</td>\n",
       "      <td>0.999869</td>\n",
       "    </tr>\n",
       "    <tr>\n",
       "      <th>14</th>\n",
       "      <td>pub_rec</td>\n",
       "      <td>-7.971753e-06</td>\n",
       "      <td>0.999992</td>\n",
       "    </tr>\n",
       "    <tr>\n",
       "      <th>15</th>\n",
       "      <td>out_prncp</td>\n",
       "      <td>0.000000e+00</td>\n",
       "      <td>1.000000</td>\n",
       "    </tr>\n",
       "    <tr>\n",
       "      <th>16</th>\n",
       "      <td>total_acc</td>\n",
       "      <td>-2.633703e-04</td>\n",
       "      <td>0.999737</td>\n",
       "    </tr>\n",
       "    <tr>\n",
       "      <th>17</th>\n",
       "      <td>num_bc_tl</td>\n",
       "      <td>-7.525608e-05</td>\n",
       "      <td>0.999925</td>\n",
       "    </tr>\n",
       "    <tr>\n",
       "      <th>18</th>\n",
       "      <td>funded_amnt</td>\n",
       "      <td>6.062699e-03</td>\n",
       "      <td>1.006081</td>\n",
       "    </tr>\n",
       "    <tr>\n",
       "      <th>19</th>\n",
       "      <td>int_rate</td>\n",
       "      <td>-2.148886e-04</td>\n",
       "      <td>0.999785</td>\n",
       "    </tr>\n",
       "    <tr>\n",
       "      <th>20</th>\n",
       "      <td>installment</td>\n",
       "      <td>-3.444417e-05</td>\n",
       "      <td>0.999966</td>\n",
       "    </tr>\n",
       "    <tr>\n",
       "      <th>21</th>\n",
       "      <td>home_ownership</td>\n",
       "      <td>-2.035753e-04</td>\n",
       "      <td>0.999796</td>\n",
       "    </tr>\n",
       "    <tr>\n",
       "      <th>22</th>\n",
       "      <td>annual_inc</td>\n",
       "      <td>-1.044735e-05</td>\n",
       "      <td>0.999990</td>\n",
       "    </tr>\n",
       "    <tr>\n",
       "      <th>23</th>\n",
       "      <td>total_rec_prncp</td>\n",
       "      <td>-8.271568e-03</td>\n",
       "      <td>0.991763</td>\n",
       "    </tr>\n",
       "    <tr>\n",
       "      <th>24</th>\n",
       "      <td>total_pymnt_inv</td>\n",
       "      <td>-2.227441e-03</td>\n",
       "      <td>0.997775</td>\n",
       "    </tr>\n",
       "    <tr>\n",
       "      <th>25</th>\n",
       "      <td>total_rec_int</td>\n",
       "      <td>4.775559e-03</td>\n",
       "      <td>1.004787</td>\n",
       "    </tr>\n",
       "    <tr>\n",
       "      <th>26</th>\n",
       "      <td>chargeoff_within_12_mths</td>\n",
       "      <td>-2.390944e-07</td>\n",
       "      <td>1.000000</td>\n",
       "    </tr>\n",
       "    <tr>\n",
       "      <th>27</th>\n",
       "      <td>num_sats</td>\n",
       "      <td>-1.302693e-04</td>\n",
       "      <td>0.999870</td>\n",
       "    </tr>\n",
       "    <tr>\n",
       "      <th>28</th>\n",
       "      <td>num_rev_tl_bal_gt_0</td>\n",
       "      <td>-5.955537e-05</td>\n",
       "      <td>0.999940</td>\n",
       "    </tr>\n",
       "    <tr>\n",
       "      <th>29</th>\n",
       "      <td>total_rev_hi_lim</td>\n",
       "      <td>-1.788430e-05</td>\n",
       "      <td>0.999982</td>\n",
       "    </tr>\n",
       "    <tr>\n",
       "      <th>...</th>\n",
       "      <td>...</td>\n",
       "      <td>...</td>\n",
       "      <td>...</td>\n",
       "    </tr>\n",
       "    <tr>\n",
       "      <th>32</th>\n",
       "      <td>acc_open_past_24mths</td>\n",
       "      <td>-6.591877e-05</td>\n",
       "      <td>0.999934</td>\n",
       "    </tr>\n",
       "    <tr>\n",
       "      <th>33</th>\n",
       "      <td>avg_cur_bal</td>\n",
       "      <td>-1.208836e-04</td>\n",
       "      <td>0.999879</td>\n",
       "    </tr>\n",
       "    <tr>\n",
       "      <th>34</th>\n",
       "      <td>delinq_amnt</td>\n",
       "      <td>-1.176421e-04</td>\n",
       "      <td>0.999882</td>\n",
       "    </tr>\n",
       "    <tr>\n",
       "      <th>35</th>\n",
       "      <td>num_tl_90g_dpd_24m</td>\n",
       "      <td>-1.862545e-06</td>\n",
       "      <td>0.999998</td>\n",
       "    </tr>\n",
       "    <tr>\n",
       "      <th>36</th>\n",
       "      <td>mo_sin_old_rev_tl_op</td>\n",
       "      <td>-2.293379e-03</td>\n",
       "      <td>0.997709</td>\n",
       "    </tr>\n",
       "    <tr>\n",
       "      <th>37</th>\n",
       "      <td>mo_sin_rcnt_rev_tl_op</td>\n",
       "      <td>-2.560395e-04</td>\n",
       "      <td>0.999744</td>\n",
       "    </tr>\n",
       "    <tr>\n",
       "      <th>38</th>\n",
       "      <td>mo_sin_rcnt_tl</td>\n",
       "      <td>-1.689656e-04</td>\n",
       "      <td>0.999831</td>\n",
       "    </tr>\n",
       "    <tr>\n",
       "      <th>39</th>\n",
       "      <td>mort_acc</td>\n",
       "      <td>-8.009297e-06</td>\n",
       "      <td>0.999992</td>\n",
       "    </tr>\n",
       "    <tr>\n",
       "      <th>40</th>\n",
       "      <td>num_accts_ever_120_pd</td>\n",
       "      <td>-1.160268e-05</td>\n",
       "      <td>0.999988</td>\n",
       "    </tr>\n",
       "    <tr>\n",
       "      <th>41</th>\n",
       "      <td>num_actv_bc_tl</td>\n",
       "      <td>-3.002276e-05</td>\n",
       "      <td>0.999970</td>\n",
       "    </tr>\n",
       "    <tr>\n",
       "      <th>42</th>\n",
       "      <td>num_actv_rev_tl</td>\n",
       "      <td>-5.932296e-05</td>\n",
       "      <td>0.999941</td>\n",
       "    </tr>\n",
       "    <tr>\n",
       "      <th>43</th>\n",
       "      <td>num_tl_30dpd</td>\n",
       "      <td>8.308501e-08</td>\n",
       "      <td>1.000000</td>\n",
       "    </tr>\n",
       "    <tr>\n",
       "      <th>44</th>\n",
       "      <td>num_tl_op_past_12m</td>\n",
       "      <td>-3.072610e-05</td>\n",
       "      <td>0.999969</td>\n",
       "    </tr>\n",
       "    <tr>\n",
       "      <th>45</th>\n",
       "      <td>total_rec_late_fee</td>\n",
       "      <td>1.067792e-04</td>\n",
       "      <td>1.000107</td>\n",
       "    </tr>\n",
       "    <tr>\n",
       "      <th>46</th>\n",
       "      <td>total_il_high_credit_limit</td>\n",
       "      <td>-7.049025e-05</td>\n",
       "      <td>0.999930</td>\n",
       "    </tr>\n",
       "    <tr>\n",
       "      <th>47</th>\n",
       "      <td>collection_recovery_fee</td>\n",
       "      <td>2.158941e-04</td>\n",
       "      <td>1.000216</td>\n",
       "    </tr>\n",
       "    <tr>\n",
       "      <th>48</th>\n",
       "      <td>last_pymnt_amnt</td>\n",
       "      <td>-7.761976e-05</td>\n",
       "      <td>0.999922</td>\n",
       "    </tr>\n",
       "    <tr>\n",
       "      <th>49</th>\n",
       "      <td>num_bc_sats</td>\n",
       "      <td>-3.721531e-05</td>\n",
       "      <td>0.999963</td>\n",
       "    </tr>\n",
       "    <tr>\n",
       "      <th>50</th>\n",
       "      <td>collections_12_mths_ex_med</td>\n",
       "      <td>-4.947745e-07</td>\n",
       "      <td>1.000000</td>\n",
       "    </tr>\n",
       "    <tr>\n",
       "      <th>51</th>\n",
       "      <td>policy_code</td>\n",
       "      <td>-1.863129e-05</td>\n",
       "      <td>0.999981</td>\n",
       "    </tr>\n",
       "    <tr>\n",
       "      <th>52</th>\n",
       "      <td>total_bc_limit</td>\n",
       "      <td>-4.373745e-05</td>\n",
       "      <td>0.999956</td>\n",
       "    </tr>\n",
       "    <tr>\n",
       "      <th>53</th>\n",
       "      <td>pct_tl_nvr_dlq</td>\n",
       "      <td>-1.729016e-03</td>\n",
       "      <td>0.998272</td>\n",
       "    </tr>\n",
       "    <tr>\n",
       "      <th>54</th>\n",
       "      <td>total_bal_ex_mort</td>\n",
       "      <td>4.384792e-05</td>\n",
       "      <td>1.000044</td>\n",
       "    </tr>\n",
       "    <tr>\n",
       "      <th>55</th>\n",
       "      <td>acc_now_delinq</td>\n",
       "      <td>5.004208e-08</td>\n",
       "      <td>1.000000</td>\n",
       "    </tr>\n",
       "    <tr>\n",
       "      <th>56</th>\n",
       "      <td>tot_coll_amt</td>\n",
       "      <td>-1.122022e-04</td>\n",
       "      <td>0.999888</td>\n",
       "    </tr>\n",
       "    <tr>\n",
       "      <th>57</th>\n",
       "      <td>tot_cur_bal</td>\n",
       "      <td>1.013751e-05</td>\n",
       "      <td>1.000010</td>\n",
       "    </tr>\n",
       "    <tr>\n",
       "      <th>58</th>\n",
       "      <td>tot_hi_cred_lim</td>\n",
       "      <td>-7.828295e-07</td>\n",
       "      <td>0.999999</td>\n",
       "    </tr>\n",
       "    <tr>\n",
       "      <th>59</th>\n",
       "      <td>tax_liens</td>\n",
       "      <td>-8.624429e-07</td>\n",
       "      <td>0.999999</td>\n",
       "    </tr>\n",
       "    <tr>\n",
       "      <th>60</th>\n",
       "      <td>pub_rec_bankruptcies</td>\n",
       "      <td>-5.949865e-06</td>\n",
       "      <td>0.999994</td>\n",
       "    </tr>\n",
       "    <tr>\n",
       "      <th>61</th>\n",
       "      <td>loan_amnt</td>\n",
       "      <td>6.062699e-03</td>\n",
       "      <td>1.006081</td>\n",
       "    </tr>\n",
       "  </tbody>\n",
       "</table>\n",
       "<p>62 rows × 3 columns</p>\n",
       "</div>"
      ],
      "text/plain": [
       "                          coef         value  odds_ratio\n",
       "0             num_tl_120dpd_2m -8.703547e-09    1.000000\n",
       "1           mo_sin_old_il_acct -1.700981e-03    0.998300\n",
       "2             percent_bc_gt_75 -6.836491e-04    0.999317\n",
       "3                      bc_util -9.943625e-04    0.999006\n",
       "4               bc_open_to_buy -3.052751e-05    0.999969\n",
       "5         mths_since_recent_bc -5.645552e-04    0.999436\n",
       "6                          dti -2.450151e-04    0.999755\n",
       "7                num_rev_accts -1.705835e-04    0.999829\n",
       "8                  total_pymnt -2.175875e-03    0.997826\n",
       "9                  delinq_2yrs -2.427748e-06    0.999998\n",
       "10              inq_last_6mths -1.010200e-05    0.999990\n",
       "11                   revol_bal -4.855421e-05    0.999951\n",
       "12               out_prncp_inv  0.000000e+00    1.000000\n",
       "13                    open_acc -1.306492e-04    0.999869\n",
       "14                     pub_rec -7.971753e-06    0.999992\n",
       "15                   out_prncp  0.000000e+00    1.000000\n",
       "16                   total_acc -2.633703e-04    0.999737\n",
       "17                   num_bc_tl -7.525608e-05    0.999925\n",
       "18                 funded_amnt  6.062699e-03    1.006081\n",
       "19                    int_rate -2.148886e-04    0.999785\n",
       "20                 installment -3.444417e-05    0.999966\n",
       "21              home_ownership -2.035753e-04    0.999796\n",
       "22                  annual_inc -1.044735e-05    0.999990\n",
       "23             total_rec_prncp -8.271568e-03    0.991763\n",
       "24             total_pymnt_inv -2.227441e-03    0.997775\n",
       "25               total_rec_int  4.775559e-03    1.004787\n",
       "26    chargeoff_within_12_mths -2.390944e-07    1.000000\n",
       "27                    num_sats -1.302693e-04    0.999870\n",
       "28         num_rev_tl_bal_gt_0 -5.955537e-05    0.999940\n",
       "29            total_rev_hi_lim -1.788430e-05    0.999982\n",
       "..                         ...           ...         ...\n",
       "32        acc_open_past_24mths -6.591877e-05    0.999934\n",
       "33                 avg_cur_bal -1.208836e-04    0.999879\n",
       "34                 delinq_amnt -1.176421e-04    0.999882\n",
       "35          num_tl_90g_dpd_24m -1.862545e-06    0.999998\n",
       "36        mo_sin_old_rev_tl_op -2.293379e-03    0.997709\n",
       "37       mo_sin_rcnt_rev_tl_op -2.560395e-04    0.999744\n",
       "38              mo_sin_rcnt_tl -1.689656e-04    0.999831\n",
       "39                    mort_acc -8.009297e-06    0.999992\n",
       "40       num_accts_ever_120_pd -1.160268e-05    0.999988\n",
       "41              num_actv_bc_tl -3.002276e-05    0.999970\n",
       "42             num_actv_rev_tl -5.932296e-05    0.999941\n",
       "43                num_tl_30dpd  8.308501e-08    1.000000\n",
       "44          num_tl_op_past_12m -3.072610e-05    0.999969\n",
       "45          total_rec_late_fee  1.067792e-04    1.000107\n",
       "46  total_il_high_credit_limit -7.049025e-05    0.999930\n",
       "47     collection_recovery_fee  2.158941e-04    1.000216\n",
       "48             last_pymnt_amnt -7.761976e-05    0.999922\n",
       "49                 num_bc_sats -3.721531e-05    0.999963\n",
       "50  collections_12_mths_ex_med -4.947745e-07    1.000000\n",
       "51                 policy_code -1.863129e-05    0.999981\n",
       "52              total_bc_limit -4.373745e-05    0.999956\n",
       "53              pct_tl_nvr_dlq -1.729016e-03    0.998272\n",
       "54           total_bal_ex_mort  4.384792e-05    1.000044\n",
       "55              acc_now_delinq  5.004208e-08    1.000000\n",
       "56                tot_coll_amt -1.122022e-04    0.999888\n",
       "57                 tot_cur_bal  1.013751e-05    1.000010\n",
       "58             tot_hi_cred_lim -7.828295e-07    0.999999\n",
       "59                   tax_liens -8.624429e-07    0.999999\n",
       "60        pub_rec_bankruptcies -5.949865e-06    0.999994\n",
       "61                   loan_amnt  6.062699e-03    1.006081\n",
       "\n",
       "[62 rows x 3 columns]"
      ]
     },
     "execution_count": 358,
     "metadata": {},
     "output_type": "execute_result"
    }
   ],
   "source": [
    "coef_odds = np.e**(coef[\"value\"])\n",
    "coef[\"odds_ratio\"] = coef_odds\n",
    "coef"
   ]
  },
  {
   "cell_type": "code",
   "execution_count": null,
   "metadata": {
    "collapsed": true
   },
   "outputs": [],
   "source": []
  },
  {
   "cell_type": "code",
   "execution_count": null,
   "metadata": {
    "collapsed": true
   },
   "outputs": [],
   "source": []
  },
  {
   "cell_type": "code",
   "execution_count": null,
   "metadata": {
    "collapsed": true
   },
   "outputs": [],
   "source": []
  },
  {
   "cell_type": "code",
   "execution_count": null,
   "metadata": {
    "collapsed": true
   },
   "outputs": [],
   "source": []
  },
  {
   "cell_type": "code",
   "execution_count": null,
   "metadata": {
    "collapsed": true
   },
   "outputs": [],
   "source": []
  },
  {
   "cell_type": "code",
   "execution_count": null,
   "metadata": {
    "collapsed": true
   },
   "outputs": [],
   "source": []
  },
  {
   "cell_type": "code",
   "execution_count": null,
   "metadata": {
    "collapsed": true
   },
   "outputs": [],
   "source": []
  },
  {
   "cell_type": "code",
   "execution_count": null,
   "metadata": {
    "collapsed": true
   },
   "outputs": [],
   "source": []
  },
  {
   "cell_type": "code",
   "execution_count": null,
   "metadata": {
    "collapsed": true
   },
   "outputs": [],
   "source": []
  },
  {
   "cell_type": "code",
   "execution_count": 104,
   "metadata": {
    "collapsed": true
   },
   "outputs": [],
   "source": []
  },
  {
   "cell_type": "code",
   "execution_count": 108,
   "metadata": {
    "collapsed": true
   },
   "outputs": [],
   "source": []
  },
  {
   "cell_type": "code",
   "execution_count": null,
   "metadata": {
    "collapsed": true
   },
   "outputs": [],
   "source": []
  },
  {
   "cell_type": "code",
   "execution_count": null,
   "metadata": {
    "collapsed": true
   },
   "outputs": [],
   "source": []
  }
 ],
 "metadata": {
  "kernelspec": {
   "display_name": "Python 2",
   "language": "python",
   "name": "python2"
  },
  "language_info": {
   "codemirror_mode": {
    "name": "ipython",
    "version": 2
   },
   "file_extension": ".py",
   "mimetype": "text/x-python",
   "name": "python",
   "nbconvert_exporter": "python",
   "pygments_lexer": "ipython2",
   "version": "2.7.13"
  }
 },
 "nbformat": 4,
 "nbformat_minor": 2
}
